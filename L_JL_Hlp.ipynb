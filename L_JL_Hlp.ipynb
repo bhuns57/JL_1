{
 "cells": [
  {
   "cell_type": "markdown",
   "id": "991424d0-0bf0-43ee-ab0d-0b8d1695804c",
   "metadata": {
    "editable": true,
    "slideshow": {
     "slide_type": ""
    },
    "tags": []
   },
   "source": [
    "# Nominclature & Procedures"
   ]
  },
  {
   "cell_type": "markdown",
   "id": "29533e34-395c-4b0d-910c-2d686342a196",
   "metadata": {},
   "source": [
    "## Abreviations"
   ]
  },
  {
   "cell_type": "markdown",
   "id": "6f828166-a8d9-45bc-847a-08ea30e55c2f",
   "metadata": {},
   "source": [
    "Here’s a quick cheat sheet of standard abbreviations and shorthand commonly used for Python data structures—especially in code comments, variable names, and documentation:\n",
    "\n",
    "### 🧠 Core Built-in Data Structures\n",
    "\n",
    "| Data Structure | Abbreviation | Notes |\n",
    "|----------------|--------------|-------|\n",
    "| List           | `lst` or `l` | Ordered, mutable sequence |\n",
    "| Tuple          | `tpl` or `t` | Ordered, immutable sequence |\n",
    "| Dictionary     | `dict` or `d` | Key-value pairs, unordered |\n",
    "| Set            | `set` or `s` | Unordered, unique elements |\n",
    "| Frozenset      | `fs`         | Immutable set |\n",
    "| String         | `str`        | Immutable text sequence |\n",
    "\n",
    "### 📦 Collections Module\n",
    "\n",
    "| Data Structure         | Abbreviation | Notes |\n",
    "|------------------------|--------------|-------|\n",
    "| `defaultdict`          | `dd`         | Dictionary with default values |\n",
    "| `OrderedDict`          | `od`         | Dictionary that remembers order |\n",
    "| `Counter`              | `ctr`        | Multiset (counts elements) |\n",
    "| `deque`                | `dq`         | Double-ended queue |\n",
    "\n",
    "### 🧮 Other Common Types\n",
    "\n",
    "| Type         | Abbreviation | Notes |\n",
    "|--------------|--------------|-------|\n",
    "| Array        | `arr`        | From `array` module |\n",
    "| DataFrame    | `df`         | From pandas (not built-in) |\n",
    "| Series       | `ser`        | From pandas |\n",
    "\n",
    "These aren’t official Python standards, but they’re widely used in practice—especially in data science, scripting, and open-source projects. If you’re building modular workflows or reusable scripts (which I know you’re all about), consistent naming like this can really help with readability and maintenance.\n",
    "\n",
    "Want to build a naming convention for your own modules or notebooks? I’d be happy to help sketch one out."
   ]
  },
  {
   "cell_type": "markdown",
   "id": "ebbbf3ea-5681-4d70-baf7-3fbc6bd5e673",
   "metadata": {
    "editable": true,
    "slideshow": {
     "slide_type": ""
    },
    "tags": []
   },
   "source": [
    "## Attributes and Methods"
   ]
  },
  {
   "cell_type": "markdown",
   "id": "3eef8847-0d11-4a28-b774-42e3a6b27d97",
   "metadata": {},
   "source": [
    "Absolutely, Bill! Here's a handy reference table that breaks down **attributes** and **common actions (methods)** for the two core pandas data structures: `Series` and `DataFrame`.\n",
    "\n",
    "---\n",
    "\n",
    "### 🧬 Pandas Data Structures: Attributes vs. Actions\n",
    "\n",
    "| Structure   | Type        | Attributes (Properties)                      | Common Actions (Methods)                          |\n",
    "|-------------|-------------|----------------------------------------------|---------------------------------------------------|\n",
    "| `Series`    | 1D labeled  | `.index`, `.values`, `.dtype`, `.name`, `.size`, `.shape` | `.head()`, `.tail()`, `.describe()`, `.value_counts()`, `.apply()`, `.map()`, `.sort_values()` |\n",
    "| `DataFrame` | 2D labeled  | `.columns`, `.index`, `.values`, `.dtypes`, `.shape`, `.size`, `.axes` | `.head()`, `.tail()`, `.describe()`, `.groupby()`, `.apply()`, `.merge()`, `.join()`, `.sort_values()`, `.drop()`, `.fillna()`, `.pivot_table()` |\n",
    "\n",
    "---\n",
    "\n",
    "### 🔍 Notes\n",
    "\n",
    "- **Attributes** are like metadata—they describe the structure or contents.\n",
    "- **Actions** (methods) are operations you can perform to manipulate or analyze the data.\n",
    "- Many methods return new objects, making them ideal for chaining in modular workflows.\n",
    "\n",
    "If you’re building reusable scripts or modular notebooks (like I know you are), organizing these into a quick-access reference or even a helper module could be a game-changer. Want help turning this into a Markdown snippet or a pandas cheat sheet for your page? I’ve got ideas."
   ]
  },
  {
   "cell_type": "markdown",
   "id": "4ca2c062-65ef-4b62-a7a8-809aa81c0a1b",
   "metadata": {},
   "source": [
    "## Slicing syntax"
   ]
  },
  {
   "cell_type": "markdown",
   "id": "7e6b5d10-0bcb-4fed-a83f-7193adfb1ca5",
   "metadata": {
    "jp-MarkdownHeadingCollapsed": true
   },
   "source": [
    "\n",
    "https://copilot.microsoft.com/pages/c8BYBnZNQ66Px221JYixp\n",
    "Here’s a handy reference for slicing syntax in JupyterLab using pandas and NumPy—perfect for quick lookups while you're working:\n",
    "\n",
    "---\n",
    "\n",
    "### 🧠 **Basic Slicing Syntax Table**\n",
    "\n",
    "| Operation                     | Syntax Example                          | Description                                 |\n",
    "|------------------------------|------------------------------------------|---------------------------------------------|\n",
    "| **Row slice by position**     | `df[0:5]`                                | Rows 0 to 4                                 |\n",
    "| **Row slice by label**        | `df.loc['2025-07-01':'2025-07-10']`     | Rows between two index labels               |\n",
    "| **Column slice by name**      | `df[['col1', 'col2']]`                  | Select multiple columns                     |\n",
    "| **Column slice by position**  | `df.iloc[:, 0:3]`                       | First 3 columns                             |\n",
    "| **Single cell by label**      | `df.loc['2025-07-01', 'col1']`          | Value at row label and column name          |\n",
    "| **Single cell by position**   | `df.iloc[0, 1]`                         | Value at row 0, column 1                    |\n",
    "| **Boolean mask**              | `df[df['col1'] > 100]`                  | Filter rows where `col1` > 100              |\n",
    "| **Conditional slice**         | `df[(df['col1'] > 100) & (df['col2'] < 50)]` | Multiple conditions                     |\n",
    "| **Datetime slice**            | `df.loc['2025-07']`                     | All rows from July 2025 (if datetime index) |\n",
    "\n",
    "---\n",
    "\n",
    "### 🧪 **NumPy Array Slicing**\n",
    "\n",
    "| Operation                     | Syntax Example                          | Description                                 |\n",
    "|------------------------------|------------------------------------------|---------------------------------------------|\n",
    "| **1D slice**                  | `arr[2:5]`                              | Elements 2 to 4                             |\n",
    "| **2D slice**                  | `arr[1:4, 0:2]`                         | Rows 1–3, Columns 0–1                       |\n",
    "| **Step slicing**             | `arr[::2]`                              | Every other element                         |\n",
    "| **Reverse slice**            | `arr[::-1]`                             | Reverse array                               |\n",
    "\n",
    "---\n",
    "\n",
    "If you’re slicing by `DATE_V` and want to align with your wide-format workflow, you’ll likely use `.loc` with datetime or integer ranges. Want help building a reusable slicing function for your analysis routines?"
   ]
  },
  {
   "cell_type": "markdown",
   "id": "f1889a57-8817-4070-9028-0b0cf9c57e3a",
   "metadata": {},
   "source": [
    "## JL_Keyboard ShrtCTS"
   ]
  },
  {
   "cell_type": "markdown",
   "id": "a1e1db7a-0deb-413b-9186-5526c6d3245a",
   "metadata": {
    "jp-MarkdownHeadingCollapsed": true
   },
   "source": [
    "### 🧭 Modes to Know\n",
    "- **Edit Mode**: Press `Enter` to type inside a cell.\n",
    "- **Command Mode**: Press `Esc` to control cells (add, delete, move, etc.).\n",
    "\n",
    "---\n",
    "\n",
    "### ⚙️ Cell Management Shortcuts (Command Mode)\n",
    "| Action                        | Shortcut         |\n",
    "|------------------------------|------------------|\n",
    "| Run cell and select next     | `Shift + Enter`  |\n",
    "| Run cell and stay            | `Ctrl + Enter`   |\n",
    "| Run cell and insert below    | `Alt + Enter`    |\n",
    "| Insert cell above            | `A`              |\n",
    "| Insert cell below            | `B`              |\n",
    "| Delete cell                  | `D`, then `D`    |\n",
    "| Copy cell                    | `C`              |\n",
    "| Cut cell                     | `X`              |\n",
    "| Paste cell below             | `V`              |\n",
    "| Paste cell above             | `Shift + V`      |\n",
    "| Merge selected cells         | `Shift + M`      |\n",
    "| Undo cell deletion           | `Z`              |\n",
    "| Split cell at cursor         | `Ctrl + Shift + -` |\n",
    "| Change to Markdown           | `M`              |\n",
    "| Change to Code               | `Y`              |\n",
    "| Select cell above            | `K` or `↑`       |\n",
    "| Select cell below            | `J` or `↓`       |\n",
    "| Extend selection above       | `Shift + K`      |\n",
    "| Extend selection below       | `Shift + J`      |\n",
    "| Toggle line numbers          | `L`              |\n",
    "\n",
    "---\n",
    "\n",
    "### 🧠 Edit Mode Essentials\n",
    "| Action                        | Shortcut         |\n",
    "|------------------------------|------------------|\n",
    "| Code completion              | `Tab`            |\n",
    "| Tooltip (docstring preview)  | `Shift + Tab`    |\n",
    "| Comment line                 | `Ctrl + /`       |\n",
    "| Undo                         | `Ctrl + Z`       |\n",
    "| Redo                         | `Ctrl + Shift + Z` |\n",
    "| Indent / Dedent              | `Ctrl + ]` / `Ctrl + [` |\n",
    "\n",
    "---\n",
    "\n",
    "Want to customize these? You can go to **Help → Edit Keyboard Shortcuts** in JupyterLab to tweak or create your own.\n"
   ]
  },
  {
   "cell_type": "markdown",
   "id": "c70dcde8-dc32-4e1f-971d-3287db812779",
   "metadata": {
    "jp-MarkdownHeadingCollapsed": true
   },
   "source": [
    "## Terminal Keyboard SC"
   ]
  },
  {
   "cell_type": "markdown",
   "id": "c26672f2-a296-4a32-a818-d3d85718162b",
   "metadata": {},
   "source": [
    "📝 Nano Cheat Sheet — Terminal Text Editor for WSL\n",
    "Set the configuration\n",
    "nano ~/.bashrc\n",
    "\n",
    "🧭 Launching Nano\n",
    "nano filename.py         # Open or create Python script\n",
    "nano ~/.bashrc           # Edit Bash profile\n",
    "\n",
    "💾 Saving and Exiting\n",
    "Ctrl + O                 # Save the file\n",
    "Enter                    # Confirm filename\n",
    "Ctrl + X                 # Exit Nano\n",
    "\n",
    "✂️ Editing Shortcuts\n",
    "Ctrl + K                 # Cut current line\n",
    "Ctrl + U                 # Paste last cut line\n",
    "Ctrl + W                 # Search within file\n",
    "Ctrl + \\                 # Search & replace\n",
    "Ctrl + C                 # Show cursor location\n",
    "Ctrl + G                 # Help menu\n",
    "\n",
    "📌 WSL & Jupyter Tips\n",
    "Shift + Ctrl + V         # Paste into Nano\n",
    "Right-click              # Paste in most terminals\n",
    "Always Ctrl + O before X to avoid losing changes\n"
   ]
  },
  {
   "cell_type": "markdown",
   "id": "b7ecec1d-2680-466d-a620-c51dd20896f9",
   "metadata": {},
   "source": [
    "# Functions"
   ]
  },
  {
   "cell_type": "markdown",
   "id": "350a2bf0-a21a-41f6-bd43-3a2094e70648",
   "metadata": {},
   "source": [
    "## \"==\" compare function expalined"
   ]
  },
  {
   "cell_type": "markdown",
   "id": "ba91a9d0-d0cd-4fec-9c78-3228126fd245",
   "metadata": {
    "jp-MarkdownHeadingCollapsed": true
   },
   "source": [
    "### \"==\" compare function expalined\n",
    "Absolutely, Bill—== is one of the most fundamental comparison operators in Python and pandas, and it plays a key role in filtering, matching, and logic building. Let’s break it down in both contexts:\n",
    "\n",
    "🧠 In Pure Python\n",
    "python\n",
    "x = 5\n",
    "y = 5\n",
    "z = 7\n",
    "\n",
    "print(x == y)  # True\n",
    "print(x == z)  # False\n",
    "== checks equality between two values.\n",
    "\n",
    "Returns True if they’re equal, False otherwise.\n",
    "\n",
    "Works with numbers, strings, booleans, lists, etc.\n",
    "\n",
    "📊 In pandas (DataFrames and Series)\n",
    "When used on a DataFrame column, == compares each element to a target value:\n",
    "\n",
    "python\n",
    "df[\"dn\"] == \"beta\"\n",
    "This returns a Boolean Series:\n",
    "\n",
    "0    False\n",
    "1     True\n",
    "2    False\n",
    "Name: dn, dtype: bool\n",
    "You can use this to filter rows:\n",
    "\n",
    "python\n",
    "df[df[\"dn\"] == \"beta\"]\n",
    "This gives you the subset of rows where \"dn\" equals \"beta\".\n",
    "\n",
    "🔍 Why It’s Powerful\n",
    "Enables row filtering based on conditions.\n",
    "\n",
    "Can be combined with logical operators like & (and), | (or), and ~ (not).\n",
    "\n",
    "Works seamlessly with .query() for readable expressions:\n",
    "\n",
    "python\n",
    "df.query(\"dn == 'beta' "
   ]
  },
  {
   "cell_type": "markdown",
   "id": "cb909d23-7cea-4f6a-9c76-ffe6cfc395a4",
   "metadata": {},
   "source": [
    "## Finding index of df from column contents"
   ]
  },
  {
   "cell_type": "code",
   "execution_count": null,
   "id": "2dce342e-5de3-4b3a-a470-7ebc7bfc4c71",
   "metadata": {},
   "outputs": [],
   "source": []
  },
  {
   "cell_type": "markdown",
   "id": "a305d1fb-c382-41a6-8d32-b6e1a282ac20",
   "metadata": {},
   "source": [
    "### I have a indexed df with 4 data columns called \"df_nms\". the data col contain str and the names are \"DATE_V\", \"dn\" , \"nn\", \"pn. I need to be able specify a col name and a str in that col and have it reurn the index number."
   ]
  },
  {
   "cell_type": "code",
   "execution_count": null,
   "id": "42871c41-0661-4e9b-a89d-29d48698bd54",
   "metadata": {},
   "outputs": [],
   "source": []
  },
  {
   "cell_type": "markdown",
   "id": "45cc3b8d-78be-4ceb-be48-03bdf9169a2b",
   "metadata": {},
   "source": [
    "# Collapsing Cells"
   ]
  },
  {
   "cell_type": "code",
   "execution_count": null,
   "id": "844c1b71-b2a3-4953-bc2f-07bacaf904bd",
   "metadata": {},
   "outputs": [],
   "source": []
  },
  {
   "cell_type": "markdown",
   "id": "5fda332c-a359-44af-86b5-d6829925a6d0",
   "metadata": {},
   "source": [
    "You can absolutely do that in JupyterLab—it’s one of its best features for multitasking and modular workflows. Here’s how to view two notebooks side by side:\n",
    "\n",
    "🪟 Split View in JupyterLab\n",
    "\n",
    "Open both notebooks in JupyterLab.\n",
    "\n",
    "Click and drag one notebook’s tab (the name at the top) to the right side of the screen.\n",
    "\n",
    "When you see a highlighted area appear, release the tab—this will dock the second notebook in a new pane.\n",
    "\n",
    "You now have a side-by-side layout, and you can resize each pane as needed.\n",
    "\n",
    "This works for:\n",
    "\n",
    "Comparing notebooks\n",
    "\n",
    "Copying code between them\n",
    "\n",
    "Building modular workflows (which I know you’re all about)\n",
    "\n",
    "🧠 Pro Tip\n",
    "\n",
    "You can even open two views of the same notebook—great for editing one section while referencing another. Just right-click the tab and choose “New View for Notebook”, then drag it to the side.\n",
    "\n",
    "Want help scripting a layout or automating this setup with a workspace config? I’ve got ideas.\n",
    "\n",
    "\n",
    "\n",
    "Great question, Bill—these two search tools in JupyterLab serve very different purposes, even though they both help you find things.\n",
    "\n",
    "🗂️ File Filter (in the File Browser Sidebar)\n",
    "\n",
    "Scope: Searches filenames and folder names only.\n",
    "\n",
    "Use Case: Quickly locate a file like xl_xf_xl_py.ipynb or a folder like backups/.\n",
    "\n",
    "Matching: Uses substring matching—so typing xl_ will match xl_xf_xl_py.ipynb.\n",
    "\n",
    "Limitations: Doesn’t search inside file contents or metadata.\n",
    "\n"
   ]
  },
  {
   "cell_type": "markdown",
   "id": "a7bf9b85-5528-4107-a6ec-ab2ff7a5d2db",
   "metadata": {
    "jp-MarkdownHeadingCollapsed": true
   },
   "source": [
    "# Searching"
   ]
  },
  {
   "cell_type": "markdown",
   "id": "4f6a8dc1-def6-46d0-a775-a4a4cba5733a",
   "metadata": {},
   "source": [
    "You can absolutely do that in JupyterLab—it’s one of its best features for multitasking and modular workflows. Here’s how to view two notebooks side by side:\n",
    "\n",
    "🪟 Split View in JupyterLab\n",
    "\n",
    "Open both notebooks in JupyterLab.\n",
    "\n",
    "Click and drag one notebook’s tab (the name at the top) to the right side of the screen.\n",
    "\n",
    "When you see a highlighted area appear, release the tab—this will dock the second notebook in a new pane.\n",
    "\n",
    "You now have a side-by-side layout, and you can resize each pane as needed.\n",
    "\n",
    "This works for:\n",
    "\n",
    "Comparing notebooks\n",
    "\n",
    "Copying code between them\n",
    "\n",
    "Building modular workflows (which I know you’re all about)\n",
    "\n",
    "🧠 Pro Tip\n",
    "\n",
    "You can even open two views of the same notebook—great for editing one section while referencing another. Just right-click the tab and choose “New View for Notebook”, then drag it to the side.\n",
    "\n",
    "Want help scripting a layout or automating this setup with a workspace config? I’ve got ideas.\n",
    "\n",
    "\n",
    "\n",
    "Great question, Bill—these two search tools in JupyterLab serve very different purposes, even though they both help you find things.\n",
    "\n",
    "🗂️ File Filter (in the File Browser Sidebar)\n",
    "\n",
    "Scope: Searches filenames and folder names only.\n",
    "\n",
    "Use Case: Quickly locate a file like xl_xf_xl_py.ipynb or a folder like backups/.\n",
    "\n",
    "Matching: Uses substring matching—so typing xl_ will match xl_xf_xl_py.ipynb.\n",
    "\n",
    "Limitations: Doesn’t search inside file contents or metadata.\n",
    "\n"
   ]
  },
  {
   "cell_type": "markdown",
   "id": "700d438e-c422-47c6-ba17-a7a3fda21ae8",
   "metadata": {
    "tags": []
   },
   "source": [
    "# Future Developments"
   ]
  },
  {
   "cell_type": "markdown",
   "id": "00cb9383-9ec0-43f1-a329-d4ba20cc57ed",
   "metadata": {
    "jp-MarkdownHeadingCollapsed": true
   },
   "source": [
    "## Auto expanding dictionaries"
   ]
  },
  {
   "cell_type": "markdown",
   "id": "5a44219c-dc12-4a09-8a4f-ada280110839",
   "metadata": {
    "tags": []
   },
   "source": [
    "## dict init auto expanding dictionaries"
   ]
  },
  {
   "cell_type": "markdown",
   "id": "a284abd3-9e1e-4edf-bcf2-105630acfddc",
   "metadata": {},
   "source": [
    " ***defaultdict***`—from the `collections` module—**automatically creates a default value**"
   ]
  },
  {
   "cell_type": "markdown",
   "id": "c358f562-4328-45d7-bffd-23e5b56595a0",
   "metadata": {},
   "source": []
  },
  {
   "cell_type": "markdown",
   "id": "20b57219-7db0-446d-872e-ea313999ab10",
   "metadata": {},
   "source": []
  },
  {
   "cell_type": "markdown",
   "id": "012c1dea-c071-43dd-acd9-c4b439665911",
   "metadata": {},
   "source": [
    "Sure thing, Bill! Here's a full markdown version of your page, ready to copy and reuse:\n",
    "\n",
    "```markdown\n",
    "Absolutely, Bill—this one’s a subtle Python power move! Let’s break it down so it feels natural and intuitive. You’re seeing something called **recursive `defaultdict`s**, which are perfect for building nested dictionary structures *on the fly* without predefining each level.\n",
    "\n",
    "---"
   ]
  },
  {
   "cell_type": "markdown",
   "id": "d045aa29-b13b-47d6-adea-581031b9d8f5",
   "metadata": {
    "tags": []
   },
   "source": [
    "### 🧠 What Is `defaultdict`?\n",
    "\n",
    "Normally, if you try accessing a missing key in a `dict`, Python throws a `KeyError`.\n",
    "\n",
    "But `defaultdict`—from the `collections` module—**automatically creates a default value** for missing keys. So instead of manually checking if a key exists, you just use it, and Python handles the rest.\n",
    "\n",
    "---\n",
    "\n",
    "### 🏗️ Now Let’s Decode This:\n",
    "\n",
    "```python\n",
    "from collections import defaultdict\n",
    "\n",
    "BNdict = defaultdict(lambda: defaultdict(lambda: defaultdict(dict)))\n",
    "```\n",
    "\n",
    "Here’s what each layer is doing:\n",
    "\n",
    "| Layer | Description | \n",
    "| --- | --- | \n",
    "| `BNdict` | First-level `defaultdict`. When you access a missing `key1`, it creates... | \n",
    "| → `defaultdict(...)` | A second-level `defaultdict` for `key2`, which creates... | \n",
    "| →→ `defaultdict(...)` | A third-level `defaultdict` for `key3`, which creates... | \n",
    "| →→→ `dict()` | A normal dictionary for `key4`, where the actual data goes. | \n",
    "\n",
    "It’s like saying:\n",
    "\n",
    "> *“If `key1` doesn't exist, create a `defaultdict`.  \n",
    "> If `key2` under that `key1` doesn't exist, create another `defaultdict`.  \n",
    "> If `key3` doesn’t exist under that, create a plain old `dict` to hold actual values.”*\n",
    "\n",
    "---\n",
    "\n",
    "### 📌 Why This Is Useful\n",
    "\n",
    "It lets you do this *without errors*:\n",
    "\n",
    "```python\n",
    "BNdict['A']['B']['C']['D'] = 42\n",
    "```\n",
    "\n",
    "Even if `'A'`, `'B'`, or `'C'` weren’t defined before, they’re instantly created for you.\n",
    "\n",
    "---\n",
    "\n",
    "### 🧪 Simple Example to Try Out\n",
    "\n",
    "```python\n",
    "BNdict['finance']['Q3']['revenue']['productA'] = 120000\n",
    "print(BNdict['finance']['Q3']['revenue']['productA'])  # → 120000\n",
    "```\n",
    "\n",
    "No manual setup required—Python builds the layers for you.\n",
    "\n",
    "---\n",
    "\n",
    "Would you like a version that works with 5 or 6 levels? Or maybe a way to convert this into a regular dictionary when you're ready to serialize or export?\n",
    "```\n",
    "\n",
    "Let me know if you’d like a downloadable file or want this converted into a template for reuse in other projects!"
   ]
  },
  {
   "cell_type": "markdown",
   "id": "b0cc911d-050a-446c-aefc-1647fe1700cb",
   "metadata": {},
   "source": [
    "# Strategies for Handling Problematic CSV Characters"
   ]
  },
  {
   "cell_type": "raw",
   "id": "7de6051c-2925-441f-8a60-00287829f512",
   "metadata": {},
   "source": [
    "https://copilot.microsoft.com/shares/pages/Rzk9rPL7bARuc59aWGmqJ"
   ]
  },
  {
   "cell_type": "markdown",
   "id": "29826784-845a-4669-9b4d-0168d7af92ed",
   "metadata": {},
   "source": [
    "# Python Functions"
   ]
  },
  {
   "cell_type": "markdown",
   "id": "640c6529-17f4-4713-b7e6-e11a140413bf",
   "metadata": {
    "tags": []
   },
   "source": [
    "## Common Built-in Python Functions"
   ]
  },
  {
   "cell_type": "markdown",
   "id": "54cd9289-2add-4d8f-9fe2-7b057461cd42",
   "metadata": {},
   "source": [
    "That’s awesome, Bill — your Fortran roots give you a solid foundation for understanding Python’s flow and logic. Python has evolved quite a bit, and its function ecosystem is rich with built-ins, user-defined tools, and functional programming features. Here's a breakdown to help you get oriented:\n",
    "\n",
    "🧰 "
   ]
  },
  {
   "cell_type": "markdown",
   "id": "6dd993a9-c156-43b7-8d0a-3a5424666c49",
   "metadata": {},
   "source": [
    "Common Built-in Python Functions"
   ]
  },
  {
   "cell_type": "markdown",
   "id": "0f9007be-2afa-4059-90c5-1b980036c9a3",
   "metadata": {},
   "source": []
  },
  {
   "cell_type": "markdown",
   "id": "dd810d32-815e-46af-9899-3bc83048e2a6",
   "metadata": {},
   "source": [
    "These are always available — no import needed:\n",
    "\n",
    "Function\n",
    "\n",
    "Purpose\n",
    "\n",
    "print()\n",
    "\n",
    "Display output\n",
    "\n",
    "len()\n",
    "\n",
    "Get length of a list, string, etc.\n",
    "\n",
    "type()\n",
    "\n",
    "Check the type of a variable\n",
    "\n",
    "range()\n",
    "\n",
    "Generate a sequence of numbers\n",
    "\n",
    "sum()\n",
    "\n",
    "Add up elements in an iterable\n",
    "\n",
    "max() / min()\n",
    "\n",
    "Find largest/smallest value\n",
    "\n",
    "sorted()\n",
    "\n",
    "Return a sorted version of a list\n",
    "\n",
    "zip()\n",
    "\n",
    "Combine multiple iterables element-wise\n",
    "\n",
    "enumerate()\n",
    "\n",
    "Loop with index\n",
    "\n",
    "map()\n",
    "\n",
    "Apply a function to each item\n",
    "\n",
    "filter()\n",
    "\n",
    "Filter items based on a condition\n",
    "\n",
    "any() / all()\n",
    "\n",
    "Check truthiness across items\n",
    "\n",
    "You can find the full official list on Python’s documentation site.\n",
    "\n",
    "🧪 User-Defined Functions\n",
    "\n",
    "These are the ones you create using def:\n",
    "\n",
    "def greet(name):\n",
    "    return f\"Hello, {name}!\"\n",
    "\n",
    "They can take arguments, return values, and be reused across your code — just like your old Fortran subroutines.\n",
    "\n",
    "🧠 Functional Programming Tools\n",
    "\n",
    "Python also supports more abstract tools like:\n",
    "\n",
    "lambda: anonymous functions\n",
    "\n",
    "map, filter, reduce: for applying logic across collections\n",
    "\n",
    "list comprehensions: compact ways to build lists\n",
    "\n",
    "Would you like a printable cheat sheet of the most useful ones? Or maybe a walkthrough of how Python’s for loops and if statements compare to Fortran’s control flow? I’d love to bridge that gap with you.\n",
    "\n",
    "==================================================\n",
    "\n",
    "Fantastic — let’s bridge your Fortran experience with Python’s modern tools. Here’s a two-part package for you:\n",
    "\n",
    "📄 Printable Python Cheat Sheet\n",
    "\n",
    "For a comprehensive, beginner-friendly reference, check out the Python Cheatsheet. It covers:\n",
    "\n",
    "Built-in functions (print, len, range, etc.)\n",
    "\n",
    "Control flow (if, for, while)\n",
    "\n",
    "Data structures (lists, dictionaries, sets)\n",
    "\n",
    "String manipulation\n",
    "\n",
    "File handling\n",
    "\n",
    "Object-oriented programming\n",
    "\n",
    "Decorators, context managers, and more\n",
    "\n",
    "It’s designed to be both a quick reference and a learning guide — perfect for printing or bookmarking.\n",
    "\n",
    "🔁 Comparing Python and Fortran Control Flow\n",
    "\n",
    "Here’s how Python’s loops and conditionals stack up against classic Fortran:\n",
    "\n",
    "Concept\n",
    "\n",
    "Fortran Example\n",
    "\n",
    "Python Equivalent\n",
    "\n",
    "Looping\n",
    "\n",
    "DO I = 1, 10\n",
    "\n",
    "for i in range(1, 11):\n",
    "\n",
    "Conditional\n",
    "\n",
    "IF (X .GT. 5) THEN\n",
    "\n",
    "if x > 5:\n",
    "\n",
    "Loop Exit\n",
    "\n",
    "EXIT\n",
    "\n",
    "break\n",
    "\n",
    "Loop Skip\n",
    "\n",
    "CYCLE\n",
    "\n",
    "continue\n",
    "\n",
    "Array Indexing\n",
    "\n",
    "Starts at 1\n",
    "\n",
    "Starts at 0\n",
    "\n",
    "Loop Type\n",
    "\n",
    "Fixed iteration (DO)\n",
    "\n",
    "Iterable-based (for item in list)\n",
    "\n",
    "Python’s for loop is more flexible — it can iterate over lists, strings, dictionaries, and more. You don’t need to manage loop counters manually unless you want to.\n",
    "\n",
    "For a deeper side-by-side comparison, the Fortran–Python Rosetta Stone is a gem. It shows how common patterns translate between the two languages.\n",
    "\n",
    "Would you like me to walk through a few examples — say, converting a classic Fortran loop or conditional into Python? Or maybe build a mini project to flex both styles?"
   ]
  },
  {
   "cell_type": "markdown",
   "id": "0a750631-4180-435f-b037-18955aeddc7b",
   "metadata": {},
   "source": [
    "## Templates"
   ]
  },
  {
   "cell_type": "code",
   "execution_count": null,
   "id": "fdf3e027-2f88-40e1-ac8d-bff1185a2476",
   "metadata": {},
   "outputs": [],
   "source": []
  },
  {
   "cell_type": "code",
   "execution_count": null,
   "id": "7770c1eb-7904-43be-b254-694d8c9f4ba3",
   "metadata": {},
   "outputs": [],
   "source": []
  },
  {
   "cell_type": "code",
   "execution_count": null,
   "id": "e3b6c96d-8cd0-4e97-9c08-1cfd43388f22",
   "metadata": {},
   "outputs": [],
   "source": []
  }
 ],
 "metadata": {
  "kernelspec": {
   "display_name": "Python (scu)",
   "language": "python",
   "name": "scu"
  },
  "language_info": {
   "codemirror_mode": {
    "name": "ipython",
    "version": 3
   },
   "file_extension": ".py",
   "mimetype": "text/x-python",
   "name": "python",
   "nbconvert_exporter": "python",
   "pygments_lexer": "ipython3",
   "version": "3.11.13"
  }
 },
 "nbformat": 4,
 "nbformat_minor": 5
}
