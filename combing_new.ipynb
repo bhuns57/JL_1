{
 "cells": [
  {
   "cell_type": "code",
   "execution_count": 1,
   "id": "65339162-459e-42b3-a6c4-b1c4bfa0f573",
   "metadata": {},
   "outputs": [],
   "source": [
    "import pandas as pd\n",
    "import numpy as np"
   ]
  },
  {
   "cell_type": "code",
   "execution_count": null,
   "id": "0e546645-f956-46a7-b0b3-118bf1462738",
   "metadata": {},
   "outputs": [],
   "source": [
    "def load_group_arrays(filename: str, group_name: str, grp_list: list[str], index_col: str = \"DATE_V\", encoding: str = \"ISO-8859-1\") -> dict[str, np.ndarray]:\n",
    "    # Ensure DATE_V is included\n",
    "    columns_to_load = [index_col] + grp_list\n",
    "    df = pd.read_csv(filename, usecols=columns_to_load, encoding=encoding)\n",
    "    # Optional: set DATE_V as index if needed\n",
    "    df.set_index(index_col, inplace=True)\n",
    "\n",
    "    # Build dictionary with suffix\n",
    "    array_dict = {f\"{group_name}_{col}\": df[col].to_numpy() for col in grp_list}\n",
    "    return array_dict"
   ]
  },
  {
   "cell_type": "code",
   "execution_count": null,
   "id": "107651b3-57c6-46c2-88e7-2687c9daeb31",
   "metadata": {},
   "outputs": [],
   "source": [
    "filename = \"xl_dtv_all_snm_tst.csv\"\n",
    "group_name = \"grp_tst\"\n",
    "grp_list =[\"Eliquist\",\"Magtien\"]\n",
    "array_dict = load_group_arrays(filename, group_name , grp_list, index_col = \"DATE_V\", encoding = \"ISO-8859-1\")\n"
   ]
  },
  {
   "cell_type": "code",
   "execution_count": null,
   "id": "aaced767-b00e-4d8f-b530-9a4997d43894",
   "metadata": {},
   "outputs": [],
   "source": [
    "\n",
    "array_dict[\"index_col\"]"
   ]
  },
  {
   "cell_type": "code",
   "execution_count": null,
   "id": "98ee5a7e-04f6-46b1-bddc-a94052a7a932",
   "metadata": {},
   "outputs": [],
   "source": [
    "array_dict[\"grp_tst_Eliquist\"]"
   ]
  },
  {
   "cell_type": "code",
   "execution_count": null,
   "id": "7bc3b180-e589-4c27-91de-880892d1617a",
   "metadata": {},
   "outputs": [],
   "source": [
    "grp_tst_Magtien"
   ]
  },
  {
   "cell_type": "code",
   "execution_count": null,
   "id": "248d080b-dda1-400a-9b28-059c41146614",
   "metadata": {},
   "outputs": [],
   "source": [
    "grp_tst_Magtien\n"
   ]
  },
  {
   "cell_type": "markdown",
   "id": "4106c569-a66b-4fed-a7b7-08aa0af8cd69",
   "metadata": {},
   "source": [
    "# Thee folowing adds the index "
   ]
  },
  {
   "cell_type": "code",
   "execution_count": 2,
   "id": "e0c6b864-95b8-4843-bf4f-2ceb4d10146b",
   "metadata": {},
   "outputs": [],
   "source": [
    "def load_group_arrays(filename: str, group_name: str, grp_list: list[str], index_col: str = \"DATE_V\", encoding: str = \"ISO-8859-1\") -> dict[str, np.ndarray]:\n",
    "    columns_to_load = [index_col] + grp_list\n",
    "    df = pd.read_csv(filename, usecols=columns_to_load, encoding=encoding)\n",
    "    df.set_index(index_col, inplace=True)\n",
    "\n",
    "    array_dict = {f\"{group_name}_{col}\": df[col].to_numpy() for col in grp_list}\n",
    "    array_dict[f\"{group_name}_{index_col}\"] = df.index.to_numpy()  # include index as array\n",
    "    return array_dict\n",
    "\n",
    "\n"
   ]
  },
  {
   "cell_type": "code",
   "execution_count": 3,
   "id": "05204e34-da7b-4e76-96bc-9e66cd3a31a0",
   "metadata": {},
   "outputs": [],
   "source": [
    "filename = \"xl_dtv_all_snm_tst.csv\"\n",
    "group_name = \"grp_tst\"\n",
    "grp_list =[\"Eliquist\",\"Magtien\"]\n",
    "array_dict = load_group_arrays(filename, group_name , grp_list, index_col = \"DATE_V\", encoding = \"ISO-8859-1\")\n"
   ]
  },
  {
   "cell_type": "markdown",
   "id": "b965a8b8-122a-4c08-b4de-ed3f6a975cdf",
   "metadata": {},
   "source": [
    "***array_dict*** Is a working dictionary where  dtv is the index and selected dat_cols in assemble of np.arrays\n",
    "1. they all have same length and are stored in a ***master csv file array*** with ***\"dtv\"*** is the first col.\n",
    "2. ***Time Alignment*** It ensures all arrays—whether supplements, motion, or biochemical—are synchronized to the same timeline. That’s essential for cross-correlation, lag analysis, and time-shifting.\n",
    "3. Plotting & Visualization You’ll need DATE_V as the x-axis for any time-series plots. Without it, your arrays are just floating sequences.\n",
    "4. Diagnostics & Gaps You can detect missing data, irregular sampling, or temporal drift by comparing ***\"dtv\"*** across groups.\n",
    "5. Batch Operations If you’re merging arrays from different domains (e.g., Motion, Supplements, Sleep), having a shared **\"dtv\"*** lets you align them cleanly—even if some arrays are sparse.\n",
    ".................array_dict[f\"{group_name}_DATE_V\"] = df.index.to_numpy()\n",
    "---------------------------------------------------------------------\n",
    "{\n",
    "    \"grp_tst_DATE_V\": np.array([...]),\n",
    "    \"grp_tst_Eliquist\": np.array([...]),\n",
    "    \"grp_tst_Magtien\": np.array([...]),\n",
    "    \"grp_tst_GPLC\": np.array([...])\n",
    "}\n",
    "-------------------------------------------------------------------------------------------"
   ]
  },
  {
   "cell_type": "code",
   "execution_count": null,
   "id": "82d2d5a4-c336-4e47-a10e-64c5d32a8bab",
   "metadata": {},
   "outputs": [],
   "source": []
  },
  {
   "cell_type": "code",
   "execution_count": null,
   "id": "4cee7115-9a88-485d-839d-be4b07d29d80",
   "metadata": {},
   "outputs": [],
   "source": []
  },
  {
   "cell_type": "markdown",
   "id": "7f5d5866-e45b-4f1e-b178-38a0e469e16a",
   "metadata": {},
   "source": [
    "***Let’s scaffold a clean, modular TimeSeriesGroup class that fits your architecture and handles:***\n",
    "\n",
    "✅ Selective column loading from a master CSV\n",
    "\n",
    "✅ Index alignment via DATE_V\n",
    "\n",
    "✅ Dictionary-style access to NumPy arrays\n",
    "\n",
    "✅ Metadata logging for diagnostics and traceability"
   ]
  },
  {
   "cell_type": "code",
   "execution_count": null,
   "id": "be96db62-b2a3-443e-8426-c8072118da2b",
   "metadata": {},
   "outputs": [],
   "source": [
    "import pandas as pd\n",
    "import numpy as np\n",
    "\n",
    "class TimeSeriesGroup:\n",
    "    def __init__(self, filename: str, group_name: str, columns: list[str], index_col: str = \"DATE_V\", encoding: str = \"ISO-8859-1\"):\n",
    "        self.group_name = group_name\n",
    "        self.index_col = index_col\n",
    "        self.filename = filename\n",
    "        self.encoding = encoding\n",
    "        self.columns = columns\n",
    "        self.array_dict = {}\n",
    "\n",
    "        self._load_data()\n",
    "\n",
    "    def _load_data(self):\n",
    "        cols_to_load = [self.index_col] + self.columns\n",
    "        df = pd.read_csv(self.filename, usecols=cols_to_load, encoding=self.encoding)\n",
    "        df.set_index(self.index_col, inplace=True)\n",
    "\n",
    "        # Store index as array\n",
    "        self.array_dict[f\"{self.group_name}_{self.index_col}\"] = df.index.to_numpy()\n",
    "\n",
    "        # Store each column as array\n",
    "        for col in self.columns:\n",
    "            arr = df[col].to_numpy()\n",
    "            self.array_dict[f\"{self.group_name}_{col}\"] = arr\n",
    "\n",
    "    def get_array(self, name: str) -> np.ndarray:\n",
    "        return self.array_dict.get(name)\n",
    "\n",
    "    def summary(self):\n",
    "        print(f\"📦 Group: {self.group_name}\")\n",
    "        for key, arr in self.array_dict.items():\n",
    "            print(f\"  {key}: shape={arr.shape}, dtype={arr.dtype}, nulls={np.isnan(arr).sum()}\")\n"
   ]
  }
 ],
 "metadata": {
  "kernelspec": {
   "display_name": "Python (scu)",
   "language": "python",
   "name": "scu"
  },
  "language_info": {
   "codemirror_mode": {
    "name": "ipython",
    "version": 3
   },
   "file_extension": ".py",
   "mimetype": "text/x-python",
   "name": "python",
   "nbconvert_exporter": "python",
   "pygments_lexer": "ipython3",
   "version": "3.11.13"
  }
 },
 "nbformat": 4,
 "nbformat_minor": 5
}
