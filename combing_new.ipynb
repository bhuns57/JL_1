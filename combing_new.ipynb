{
 "cells": [
  {
   "cell_type": "code",
   "execution_count": 1,
   "id": "65339162-459e-42b3-a6c4-b1c4bfa0f573",
   "metadata": {},
   "outputs": [],
   "source": [
    "import pandas as pd\n",
    "import numpy as np\n",
    "## whie testing use:\n",
    "filename = \"xl_dtv_all_snm_tst.csv\""
   ]
  },
  {
   "cell_type": "markdown",
   "id": "4106c569-a66b-4fed-a7b7-08aa0af8cd69",
   "metadata": {
    "jp-MarkdownHeadingCollapsed": true
   },
   "source": [
    "# Create array_dict from an array in a .csv file"
   ]
  },
  {
   "cell_type": "markdown",
   "id": "c0f65a25-9d74-43c9-87ae-4ac6f5fe03c1",
   "metadata": {},
   "source": [
    "## Read the file with protection from oddball encoders."
   ]
  },
  {
   "cell_type": "code",
   "execution_count": null,
   "id": "b47bee77-7048-4736-997f-f76057630da2",
   "metadata": {},
   "outputs": [],
   "source": [
    "def safe_csv_read(filename, usecols=None, index_col=None):\n",
    "    ## Read the file with protection from oddball encoders.\n",
    "    try:\n",
    "        return pd.read_csv(filename, usecols=usecols, index_col=index_col)\n",
    "    except UnicodeDecodeError:\n",
    "        return pd.read_csv(filename, usecols=usecols, index_col=index_col, encoding=\"ISO-8859-1\")\n"
   ]
  },
  {
   "cell_type": "code",
   "execution_count": null,
   "id": "aec017e7-5502-4f92-af7d-7786c12ca13f",
   "metadata": {},
   "outputs": [],
   "source": [
    "lbl_lst = safe_csv_read(filename, usecols=None, index_col=None).columns"
   ]
  },
  {
   "cell_type": "code",
   "execution_count": null,
   "id": "5bea9f1b-6cb4-4cba-990c-bee0ea2b495b",
   "metadata": {
    "scrolled": true
   },
   "outputs": [],
   "source": [
    "lbl_lst              # co"
   ]
  },
  {
   "cell_type": "markdown",
   "id": "64309361-6a42-4321-a571-30e9b7ae324b",
   "metadata": {},
   "source": [
    "## *Load* ***array_dict*** *using* ***safe_csv_read()*** *set index,convert data list to np.arrays*"
   ]
  },
  {
   "cell_type": "code",
   "execution_count": null,
   "id": "a3c588aa-6125-40e8-b5ae-406242da3332",
   "metadata": {},
   "outputs": [],
   "source": [
    "def load_group_arrays(filename: str, group_name: str, grp_list: list[str], index_col: str = \"dtv\") -> dict[str, np.ndarray]:\n",
    "    ## *Load the array using* ***safe_csv_read()*** *set index,convert data list to np.arrays & build* ***array_dict***\n",
    "    \n",
    "    columns_to_load = [index_col] + grp_list\n",
    "    df = safe_csv_read(filename, usecols=columns_to_load)\n",
    "    # before safe_csv_read df = pd.read_csv(filename, usecols=columns_to_load, encoding=encoding)\n",
    "    df.set_index(index_col, inplace=True)\n",
    "\n",
    "    array_dict = {f\"{group_name}_{col}\": df[col].to_numpy() for col in grp_list}\n",
    "    array_dict[f\"{group_name}_{index_col}\"] = df.index.to_numpy()  # include index as array\n",
    "    return grp_list, array_dict"
   ]
  },
  {
   "cell_type": "markdown",
   "id": "b105af2b-2adb-4cdb-b5e1-04647459ec90",
   "metadata": {
    "jp-MarkdownHeadingCollapsed": true
   },
   "source": [
    "## *Set* ***filename, group_name, grp_list*** then *call* ***load_group_arrays()*** *to compute np.arrays & build* ***array_dict***"
   ]
  },
  {
   "cell_type": "code",
   "execution_count": null,
   "id": "05204e34-da7b-4e76-96bc-9e66cd3a31a0",
   "metadata": {},
   "outputs": [],
   "source": [
    "## *Set* ***filename, group_name, grp_list*** then *call* ***load_group_arrays()*** *to compute np.arrays & build* ***array_dict***\n",
    "filename = \"xl_dtv_all_snm_tst.csv\"\n",
    "group_name = \"grp_tst\"\n",
    "grp_list =[\"Eliquist\",\"Magtien\"]\n",
    "# before group array   array_dict = load_group_arrays(filename, group_name , grp_list, index_col = \"DATE_V\", encoding = \"ISO-8859-1\")\n",
    "grp_list, array_dict = load_group_arrays(filename, group_name , grp_list, index_col = \"dtv\")"
   ]
  },
  {
   "cell_type": "code",
   "execution_count": null,
   "id": "45e5a28e-f743-4ac3-87d0-959e42d46a34",
   "metadata": {},
   "outputs": [],
   "source": [
    "# checkout\n",
    "array_dict"
   ]
  },
  {
   "cell_type": "code",
   "execution_count": null,
   "id": "9c66865a-d7df-4ade-bdb2-46926063a99a",
   "metadata": {},
   "outputs": [],
   "source": [
    "# checkout\n",
    "grp_list"
   ]
  },
  {
   "cell_type": "code",
   "execution_count": null,
   "id": "f81fc835-e1f9-4bac-ad22-a8f4baab4458",
   "metadata": {},
   "outputs": [],
   "source": [
    "# checkout\n",
    "array_dict['grp_tst_dtv'][5]"
   ]
  },
  {
   "cell_type": "code",
   "execution_count": null,
   "id": "abeb0f3a-e5a7-430b-9fc5-972cc5522be8",
   "metadata": {},
   "outputs": [],
   "source": [
    "# checkout\n",
    "array_dict['grp_tst_Magtien'][9]"
   ]
  },
  {
   "cell_type": "markdown",
   "id": "44f844d6-a1cb-41be-a119-b3b2d1dd5cdf",
   "metadata": {
    "jp-MarkdownHeadingCollapsed": true
   },
   "source": [
    "## *From a ***dtv*** find* ***row_index*** *for a ***specific dtv*** *then use* ***row_index()*** *to find the value in a given dat_col np.array to get the* ***datcol_value*** for that ***specific dtv***"
   ]
  },
  {
   "cell_type": "code",
   "execution_count": null,
   "id": "6e6a056a-957d-43c4-b018-747203613e90",
   "metadata": {
    "scrolled": true
   },
   "outputs": [],
   "source": [
    "# Load the array using safe_csv_read() \n",
    "# set index,convert data list to np.arrays & build array_dict\n",
    "dtv_array = array_dict[\"grp_tst_dtv\"]\n",
    "grp_tst_dtv = 45852\n",
    "\n",
    "# Find the index position\n",
    "row_index = np.where(dtv_array == grp_tst_dtv)[0]\n",
    "\n",
    "if row_index.size > 0:\n",
    "    print(f\"✅ row_index for {grp_tst_dtv}: {row_index[0]}\")\n",
    "else:\n",
    "    print(f\"⚠️ Date {grp_tst_dtv} not found in 'grp_tst_dtv'\")\n",
    "# print(\"row_index  =  \",row_index)"
   ]
  },
  {
   "cell_type": "code",
   "execution_count": null,
   "id": "1cc36084-142c-4c00-aa52-b2e0aabafcaf",
   "metadata": {},
   "outputs": [],
   "source": [
    "array_dict['grp_tst_Magtien'][row_index]"
   ]
  },
  {
   "cell_type": "markdown",
   "id": "d26ef307-e1f4-434b-8187-aee9d869d7d7",
   "metadata": {},
   "source": [
    "# Manual Input to array_dict"
   ]
  },
  {
   "cell_type": "markdown",
   "id": "8bd134bd-607f-496c-a661-260ae7aeac18",
   "metadata": {},
   "source": [
    "## ***Interactive Data Entry Function*** BASIC SIMPLE INPUT FUNCTION *** does not save entries to  xl_... yet*** Interactive Data Entry Function "
   ]
  },
  {
   "cell_type": "code",
   "execution_count": null,
   "id": "b268f49a-0bbe-4321-8c5e-4d22405a24cd",
   "metadata": {},
   "outputs": [],
   "source": [
    "array_dict           # non essentual readout"
   ]
  },
  {
   "cell_type": "raw",
   "id": "3d9e1559-f182-4c60-b556-9f3cd1adafeb",
   "metadata": {
    "jupyter": {
     "source_hidden": true
    },
    "scrolled": true
   },
   "source": [
    "RAW CONVERTED OLD VERSION def enter_data_values_dtv(array_dict: dict, group_name: str, col_list: list[str], index_key: str = \"dtv\") -> None:\n",
    "    #     # def to load values of doses for a given \"dtv\"\n",
    "    # Get master index                # this is a computed index has been accumulated by computing a \n",
    "    # probing_key that will add a col name if the propbing_key fitts and goes to the ext if it doesnt\n",
    "    # probing_key is made using an f string. It combines names and computes strings that match a desired col name\n",
    "    # that can search of keys that match\n",
    "    # since it gives none instead of error it is ideal for search for dat_col with a computed name.\n",
    "             \n",
    "    master_index = array_dict.get(f\"{group_name}_{index_key}\")           # array_dict.get(f\"a_specitcs_str\") as a key if it exists\n",
    "                                                                         #\"grp_tst_dtv\"\n",
    "    if master_index is None:\n",
    "        raise KeyError(f\"❌ Master index '{group_name}_{index_key}' not found in array_dict.\")\n",
    "\n",
    "    # Loop until valid dtv or abort\n",
    "    while True:\n",
    "        try:\n",
    "            dtv_input = int(input(\"📅 Enter the date (format: NNNNN): \").strip())\n",
    "        except ValueError:\n",
    "            print(\"❌ Invalid format. Please enter a numeric date.\")\n",
    "            continue\n",
    "\n",
    "        if dtv_input in master_index:\n",
    "            break  # valid date, proceed\n",
    "        else:\n",
    "            choice = input(f\"⚠️ '{dtv_input}' not found in timeline. Re-enter (r) or Abort (a)? \").strip().lower()\n",
    "            if choice == \"a\":\n",
    "                print(\"🚫 Entry aborted.\")\n",
    "                return\n",
    "\n",
    "    # Collect values interactively  because the date is specified as integer\n",
    "    new_values = {}            # soecified as a dictionary looing for keys and lists\n",
    "    for col in col_list:                                          # col_list is a list of str that are col.heads\n",
    "        val = input(f\"🔢 Enter value for '{col}': \").strip()\n",
    "        try:\n",
    "            new_values[col] = float(val)                       \n",
    "        except ValueError:\n",
    "            new_values[col] = np.nan  # fallback if input is invalid\n",
    "    # iterated till it got done with the list of dat_cols each as a key in df_new\n",
    "    # Create new DataFrame with dtv index\n",
    "    df_new = pd.DataFrame(new_values, index=[dtv_input])\n",
    "    df_new.index.name = index_key\n",
    "\n",
    "    # Reindex to match master timeline\n",
    "    df_new = df_new.reindex(master_index)\n",
    "\n",
    "    # Append each column to array_dict\n",
    "    for col in col_list:\n",
    "        key = f\"{group_name}_{col}\"\n",
    "        array_dict[key] = df_new[col].to_numpy()\n",
    "        print(f\"✅ Updated '{key}' with new entry for {dtv_input}\")\n"
   ]
  },
  {
   "cell_type": "code",
   "execution_count": null,
   "id": "3ec237a4-4e02-477c-aec3-f240c006d52d",
   "metadata": {},
   "outputs": [],
   "source": [
    "def enter_data_values_dtv(array_dict: dict, group_name: str, col_list: list[str], index_key: str = \"dtv\") -> None:\n",
    "    \"\"\"\n",
    "    Interactive function to enter dose values for a specific date (dtv).\n",
    "    - Validates the date against a master timeline.\n",
    "    - Prompts for values for each column in col_list.\n",
    "    - Stores results in array_dict under keys like 'grp_tst_Eliquist'.\n",
    "    -----------------------------------------------------\n",
    "     # Get master index                # this is a computed str that has been accumulated by computing a \n",
    "    # \"probing_key\" that will add a col name if the propbing_key fits and goes to the ext if it doesnt\n",
    "    # probing_key is made using an f string. It combines names and computes strings that match a desired col name\n",
    "    # that can search of keys that match\n",
    "    # since it gives none instead of error it is ideal for search for dat_col with a computed name.\n",
    "       \n",
    "    \"\"\"\n",
    "    # print(\"bill0\")\n",
    "    # Construct probing key to locate master timeline\n",
    "    master_index = array_dict.get(f\"{group_name}_{index_key}\")\n",
    "    if master_index is None:\n",
    "        raise KeyError(f\"❌ Master index '{group_name}_{index_key}' not found in array_dict.\")\n",
    "    #print(\"bill1\")\n",
    "    # Prompt user for a valid date\n",
    "    while True:\n",
    "        try:\n",
    "            dtv_input = int(input(\"📅 Enter the date (format: NNNNN): \").strip())\n",
    "        except ValueError:\n",
    "            print(\"❌ Invalid format. Please enter a numeric date.\")\n",
    "            continue\n",
    "\n",
    "        if dtv_input in master_index:\n",
    "            break\n",
    "        else:\n",
    "            choice = input(f\"⚠️ '{dtv_input}' not found in timeline. Re-enter (r) or Abort (a)? \").strip().lower()\n",
    "            if choice == \"a\":\n",
    "                print(\"🚫 Entry aborted.\")\n",
    "                return\n",
    "\n",
    "    # Collect values for each column\n",
    "    new_values = {}\n",
    "    for col in col_list:\n",
    "        val = input(f\"🔢 Enter value for '{col}': \").strip()\n",
    "        try:\n",
    "            new_values[col] = float(val)\n",
    "        except ValueError:\n",
    "            new_values[col] = np.nan\n",
    "\n",
    "    # Create DataFrame with dtv as index\n",
    "    df_new = pd.DataFrame(new_values, index=[dtv_input])\n",
    "    df_new.index.name = index_key\n",
    "\n",
    "    # Align with master timeline\n",
    "    df_new = df_new.reindex(master_index)\n",
    "\n",
    "    # Store each column's values in array_dict\n",
    "    for col in col_list:\n",
    "        key = f\"{group_name}_{col}\"\n",
    "        array_dict[key] = df_new[col].to_numpy()\n",
    "        print(f\"✅ Updated '{key}' with new entry for {dtv_input}\")\n"
   ]
  },
  {
   "cell_type": "code",
   "execution_count": null,
   "id": "7b48ff80-73e5-4e27-9c83-644cbc56e222",
   "metadata": {
    "scrolled": true
   },
   "outputs": [],
   "source": [
    "#### CALL >>  \"enter_data_values_dtv(): to load values of doses for a given \"dtv\"\n",
    "group_name = \"grp_tst\"                             # group of dat_cols in dict to be loaded\n",
    "col_list = [\"Eliquist\", \"Magtien\", \"GPLC\"]         # trial short col for testing\n",
    "enter_data_values_dtv(array_dict, group_name, col_list)   # calls the input function"
   ]
  },
  {
   "cell_type": "code",
   "execution_count": null,
   "id": "cb853c12-03f1-42ba-bd4c-c5103bae0a7b",
   "metadata": {},
   "outputs": [],
   "source": [
    "array_dict\n"
   ]
  },
  {
   "cell_type": "code",
   "execution_count": null,
   "id": "cb233d99-1746-4fad-ac09-8d0a748fdcee",
   "metadata": {},
   "outputs": [],
   "source": []
  },
  {
   "cell_type": "code",
   "execution_count": null,
   "id": "1e0af0b5-ee0d-4787-96a2-6765697572de",
   "metadata": {},
   "outputs": [],
   "source": [
    "group_name"
   ]
  },
  {
   "cell_type": "code",
   "execution_count": null,
   "id": "fb63cbcf-4fcc-43f6-95ea-48b9c7234975",
   "metadata": {},
   "outputs": [],
   "source": [
    "## CLASSES AND SKIPS ADDED***  does not save entries yet*** Interactive Data Entry Function   [not INTEGRATED  from copilot]"
   ]
  },
  {
   "cell_type": "markdown",
   "id": "556a7af3-bc0c-4b08-9183-940557521c3a",
   "metadata": {},
   "source": [
    "### ###########Question to copipol###################\n",
    "Yesterday you help build the follow in input function and it is working fine. ======================================= def enter_data_values_dtv(array_dict: dict, group_name: str, col_list: list[str], index_key: str = \"dtv\") -> None: # # def to load values of doses for a given \"dtv\" # Get master index master_index = array_dict.get(f\"{group_name}{index_key}\") if master_index is None: raise KeyError(f\"❌ Master index '{group_name}{index_key}' not found in array_dict.\") # Loop until valid dtv or abort while True: try: dtv_input = int(input(\"📅 Enter the date (format: NNNNN): \").strip()) except ValueError: print(\"❌ Invalid format. Please enter a numeric date.\") continue if dtv_input in master_index: break # valid date, proceed else: choice = input(f\"⚠️ '{dtv_input}' not found in timeline. Re-enter (r) or Abort (a)? \").strip().lower() if choice == \"a\": print(\"🚫 Entry aborted.\") return # Collect values interactively new_values = {} for col in col_list: val = input(f\"🔢 Enter value for '{col}': \").strip() try: new_values[col] = float(val) except ValueError: new_values[col] = np.nan # fallback if input is invalid # Create new DataFrame with dtv index df_new = pd.DataFrame(new_values, index=[dtv_input]) df_new.index.name = index_key # Reindex to match master timeline df_new = df_new.reindex(master_index) # Append each column to array_dict for col in col_list: key = f\"{group_name}_{col}\" array_dict[key] = df_new[col].to_numpy() print(f\"✅ Updated '{key}' with new entry for {dtv_input}\") ==========call ============================ group_name = \"grp_tst\" col_list = [\"Eliquist\", \"Magtien\", \"GPLC\"] enter_data_values_dtv(array_dict, group_name, col_list) ============================================== I would like modify our this function to include classes . These are the following steps The input function that accepts a \"dtv\" , sets the row in a data_dict and enters enter value in each dat_col. [unchanged] adding classes ------------------ Each \"dat_col\" belongs to a \"supplement class\" attribute = name[3bits] attribute = mrn_dose[3bits] attribute = default_mrn_dose[3bits] attribute = value[list for all rows] filled_flag = [1bit] active_flag =[1bit] the row = dvt[integer] the function will loop through ) if the \"(dat_col.active_flag \" = false or the \": \"dat_col.filled_flag \" = true. it moves on to the next \"dat_col when finding a col that meets the conditions for entry------------- it displays the :dat_col.name & dat_col,mrn_dose & dat_col.default_mrn_dose & the \"dtv\" If I hit \"enter\" , I set \"dat_col,mrn_dose.value[dtv] is set to dat_col.default_mrn_dose then it sets \" \"dat_col.filled_flag \" = true, and moves on to next \"dat_col\" If I hit the \"right arrow\" it just sets the \"dat_col.filled_flag \" = true, and moves on to next \"dat_col\" Until it completes all dat_col.\n"
   ]
  },
  {
   "cell_type": "markdown",
   "id": "e68086d3-69c1-47a1-987c-0fa7e36387d6",
   "metadata": {},
   "source": [
    "### Define the Supplement class Template\n"
   ]
  },
  {
   "cell_type": "code",
   "execution_count": null,
   "id": "adef24e4-ccc4-4d4a-8595-cffc23eaab9f",
   "metadata": {},
   "outputs": [],
   "source": [
    "class Supplement:\n",
    "    def __init__(self, name: str, am_dose: int ,pm_dose: int , am: true, dtv: list[int]):\n",
    "        self.name = name[:3]  # 3-bit name\n",
    "        self.am_dose = [am_np.nan] * len(dtv)  # 3-bit dose list\n",
    "        self.default_am_dose = default_am_dose  # 3-bit default\n",
    "        self.am_filled_flag = False  # 1-bit\n",
    "        self.am_active_flag = True   # 1-bit\n",
    "        self.am_value = [np.am_vl] * len(dtv)  # full timeline values\n",
    "        self.pm_dose = [pm_np.nan] * len(dtv)  # 3-bit dose list\n",
    "        self.default_pm_dose = default_pm_dose  # 3-bit default\n",
    "        self.pm_filled_flag = False  # 1-bit\n",
    "        self.pm_active_flag = True   # 1-bit\n",
    "        self.value = [np.pm_vl] * len(dtv)  # full stv date_numbers\n",
    "        self.dtv = dtv  # The 1900 Date System for reference for indexing\n",
    "\n",
    "        Tree. \n",
    "\n",
    "    def am calc dose skip unless am active flag true and am filled flag is false and amfrag=true\n",
    "    am_ttl_ds = ds_fctr*am_dose/2  # calc value stroke\n",
    "    def pm calc dose skip unless pm active flag true and pm filled flag is false and pm frag=true\n",
    "    \n",
    "    def set_value(self, dtv: int, am_dose: int, pm_dose: int):\n",
    "    tts_ds = am_tts_ds + pm_tts_ds put in separate arrays\n",
    "\n",
    "        \n"
   ]
  },
  {
   "cell_type": "markdown",
   "id": "1bb73ff2-2098-4b91-ac36-97d90462bb93",
   "metadata": {},
   "source": [
    "### 2. Refactor the Input Function"
   ]
  },
  {
   "cell_type": "code",
   "execution_count": null,
   "id": "1bee0a39-e6ee-4ce8-ad8a-b321b63d4626",
   "metadata": {},
   "outputs": [],
   "source": [
    "def enter_supplement_values(supplements: list[Supplement], dtv: int) -> None:\n",
    "    for supp in supplements:\n",
    "        if not supp.active_flag or supp.filled_flag:\n",
    "            continue\n",
    "\n",
    "        print(f\"\\n🧾 Supplement: {supp.name}\")\n",
    "        print(f\"💊 Default Dose: {supp.default_mrn_dose}\")\n",
    "        print(f\"📅 Date: {dtv}\")\n",
    "\n",
    "        user_input = input(\"⏎ Enter to accept default, → to skip, or type dose: \").strip()\n",
    "\n",
    "        if user_input == \"\":\n",
    "            supp.set_value(dtv, supp.default_mrn_dose)\n",
    "            print(f\"✅ Set to default: {supp.default_mrn_dose}\")\n",
    "        elif user_input == \"→\":\n",
    "            supp.filled_flag = True\n",
    "            print(\"➡️ Skipped.\")\n",
    "        else:\n",
    "            try:\n",
    "                dose = float(user_input)\n",
    "                supp.set_value(dtv, dose)\n",
    "                print(f\"✅ Set to entered dose: {dose}\")\n",
    "            except ValueError:\n",
    "                print(\"❌ Invalid input. Skipping.\")\n",
    "                continue\n"
   ]
  },
  {
   "cell_type": "markdown",
   "id": "27e280d9-80cb-4312-bebe-2358d5aa0cf4",
   "metadata": {},
   "source": [
    "### 3. Integrate with Timeline and Array Dict"
   ]
  },
  {
   "cell_type": "code",
   "execution_count": null,
   "id": "513c61bd-8d1a-495c-aa13-3e538da311b1",
   "metadata": {},
   "outputs": [],
   "source": [
    "def run_supplement_entry(array_dict: dict, group_name: str, supplement_defs: dict[str, float], index_key: str = \"dtv\") -> None:\n",
    "    master_index = array_dict.get(f\"{group_name}{index_key}\")\n",
    "    if master_index is None:\n",
    "        raise KeyError(f\"❌ Master index '{group_name}{index_key}' not found in array_dict.\")\n",
    "\n",
    "    # Get valid DTV\n",
    "    while True:\n",
    "        try:\n",
    "            dtv_input = int(input(\"📅 Enter the date (format: NNNNN): \").strip())\n",
    "        except ValueError:\n",
    "            print(\"❌ Invalid format. Please enter a numeric date.\")\n",
    "            continue\n",
    "\n",
    "        if dtv_input in master_index:\n",
    "            break\n",
    "        else:\n",
    "            choice = input(f\"⚠️ '{dtv_input}' not found. Re-enter (r) or Abort (a)? \").strip().lower()\n",
    "            if choice == \"a\":\n",
    "                print(\"🚫 Entry aborted.\")\n",
    "                return\n",
    "\n",
    "    # Create Supplement objects\n",
    "    supplements = [Supplement(name, default, master_index) for name, default in supplement_defs.items()]\n",
    "\n",
    "    # Run entry loop\n",
    "    enter_supplement_values(supplements, dtv_input)\n",
    "\n",
    "    # Update array_dict\n",
    "    for supp in supplements:\n",
    "        key = f\"{group_name}_{supp.name}\"\n",
    "        array_dict[key] = supp.value\n",
    "        print(f\"📦 Stored '{key}' in array_dict.\")\n"
   ]
  },
  {
   "cell_type": "markdown",
   "id": "ed2ea083-495f-462e-8cc3-22cb317885d6",
   "metadata": {},
   "source": [
    "### ✅ Example Call"
   ]
  },
  {
   "cell_type": "code",
   "execution_count": null,
   "id": "23222c79-3489-4f23-aff9-cfabaea15d07",
   "metadata": {},
   "outputs": [],
   "source": [
    "supplement_defs = {\n",
    "    \"Eliquist\": 5.0,\n",
    "    \"Magtien\": 2.0,\n",
    "    \"GPLC\": 3.5\n",
    "}\n",
    "\n",
    "run_supplement_entry(array_dict, \"grp_tst\", supplement_defs)\n"
   ]
  },
  {
   "cell_type": "code",
   "execution_count": null,
   "id": "8470672e-946a-4b6e-ac52-9683a4b7491c",
   "metadata": {},
   "outputs": [],
   "source": [
    "master_index"
   ]
  },
  {
   "cell_type": "code",
   "execution_count": null,
   "id": "9347a7e9-2592-4d53-81f3-662d13c5a80b",
   "metadata": {},
   "outputs": [],
   "source": [
    "group_name"
   ]
  },
  {
   "cell_type": "code",
   "execution_count": null,
   "id": "0078f931-c2ed-4a04-9f3f-5adfb56876f5",
   "metadata": {},
   "outputs": [],
   "source": [
    "array_dict"
   ]
  },
  {
   "cell_type": "code",
   "execution_count": null,
   "id": "c7752b68-3cc7-443d-84ef-ebd868c717fb",
   "metadata": {},
   "outputs": [],
   "source": [
    "master_index"
   ]
  },
  {
   "cell_type": "markdown",
   "id": "082c2861-7ef4-43ee-a9c9-d63f4f0df760",
   "metadata": {},
   "source": [
    "# SAVE DATA UPDATES FROM ***array_dict*** TO XLFILE "
   ]
  },
  {
   "cell_type": "code",
   "execution_count": null,
   "id": "e7a1de5a-92d4-49fd-99a5-fb1215147cfa",
   "metadata": {},
   "outputs": [],
   "source": [
    "array_dict            # non essentual readout"
   ]
  },
  {
   "cell_type": "markdown",
   "id": "009b7e38-f34c-4391-8e64-a64c9d436345",
   "metadata": {},
   "source": [
    "## 45858 Add a new column [not addapted from copilot]"
   ]
  },
  {
   "cell_type": "markdown",
   "id": "74dbe67c-06d3-4d90-a971-31507fc02e34",
   "metadata": {},
   "source": [
    "# Practice reading dictionaries"
   ]
  },
  {
   "cell_type": "markdown",
   "id": "f490ef2f-ab8c-40f1-aba6-306f0987b7a9",
   "metadata": {},
   "source": [
    "## Using get and f-strings\n",
    "*https://copilot.microsoft.com/shares/sdnT9X7McKTS6sb8rta8f*"
   ]
  },
  {
   "cell_type": "code",
   "execution_count": null,
   "id": "8384b6d3-0975-4e86-97b2-2bd87a8cebfd",
   "metadata": {},
   "outputs": [],
   "source": [
    "array_dict"
   ]
  },
  {
   "cell_type": "code",
   "execution_count": null,
   "id": "cd06afd2-cc4c-4a32-a58e-2eeadac62b1c",
   "metadata": {
    "scrolled": true
   },
   "outputs": [],
   "source": [
    "print(array_dict[\"grp_tst_dtv\"])                   # calls error if missing"
   ]
  },
  {
   "cell_type": "code",
   "execution_count": null,
   "id": "614c8ebc-3447-42bb-b93d-d4df3138b311",
   "metadata": {
    "scrolled": true
   },
   "outputs": [],
   "source": [
    "print(array_dict[\"grp_tst_dtv1\"])                   # calls error if missing"
   ]
  },
  {
   "cell_type": "code",
   "execution_count": null,
   "id": "c22b25cf-331a-4d2f-acba-3153b4ec4a7e",
   "metadata": {},
   "outputs": [],
   "source": [
    "print(array_dict.get(\"grp_tst_dtv1\"))"
   ]
  },
  {
   "cell_type": "markdown",
   "id": "8dd9154a-1875-4218-9675-5bf1ead2d549",
   "metadata": {},
   "source": [
    "# Using Tinker to read a dictionary variable"
   ]
  },
  {
   "cell_type": "markdown",
   "id": "35e82c0d-cd5c-4ffd-980b-09b3b5beedbc",
   "metadata": {},
   "source": [
    "## Tinker selection assign to varaiable \n",
    "*https://copilot.microsoft.com/shares/MUtQE5werh1WFrubEPZtG*\n",
    "_________________________\n",
    "***Now selected_supplement holds the name of the last item you clicked—ready to use anywhere else in your code.***\n"
   ]
  },
  {
   "cell_type": "code",
   "execution_count": 1,
   "id": "528f41a1-c530-441e-a13d-37c485e4097e",
   "metadata": {},
   "outputs": [
    {
     "data": {
      "text/plain": [
       "'Magnesium Glycinate'"
      ]
     },
     "execution_count": 1,
     "metadata": {},
     "output_type": "execute_result"
    }
   ],
   "source": [
    "import tkinter as tk\n",
    "## Tinker selection assign to varaiable  ADD GLOBAL TO PREVIOUS SEE LINK\n",
    "# double click selections\n",
    "\n",
    "\"\"\"\n",
    "Create the class of SupplementMenager\n",
    "\n",
    "\"\"\"\n",
    "\n",
    "class SupplementManager:\n",
    "    def __init__(self, array_dict):\n",
    "        self.array_dict = array_dict\n",
    "\n",
    "    def search_by_partial(self, partial: str):\n",
    "        partial_lower = partial.lower()\n",
    "        return [name for name in self.array_dict if partial_lower in name.lower()]\n",
    "\n",
    "    def get_metadata(self, name: str):\n",
    "        return self.array_dict.get(name, {})\n",
    "\n",
    "# Sample data\n",
    "supplements = {\n",
    "    \"Magnesium\": {\"dose\": 400, \"form\": \"capsule\"},\n",
    "    \"Vitamin D\": {\"dose\": 2000, \"form\": \"softgel\"},\n",
    "    \"Omega-3\": {\"dose\": 1000, \"form\": \"liquid\"},\n",
    "    \"Magnesium Glycinate\": {\"dose\": 350, \"form\": \"tablet\"},\n",
    "    \"Zinc\": {\"dose\": 30, \"form\": \"tablet\"}\n",
    "}\n",
    "\n",
    "manager = SupplementManager(supplements)\n",
    "\n",
    "# GUI setup\n",
    "root = tk.Tk()\n",
    "root.title(\"Supplement Search\")\n",
    "\n",
    "entry = tk.Entry(root, width=30)\n",
    "entry.pack(pady=10)\n",
    "\n",
    "listbox = tk.Listbox(root, width=50)\n",
    "listbox.pack(pady=10)\n",
    "\n",
    "log_label = tk.Label(root, text=\"Diagnostic Overlay\", font=(\"Arial\", 10, \"bold\"))\n",
    "log_label.pack()\n",
    "\n",
    "log_box = tk.Text(root, width=60, height=10, state=\"disabled\", bg=\"#f0f0f0\")\n",
    "log_box.pack(pady=5)\n",
    "\n",
    "def update_listbox(event):\n",
    "    query = entry.get()\n",
    "    matches = manager.search_by_partial(query)\n",
    "    listbox.delete(0, tk.END)\n",
    "    for name in matches:\n",
    "        listbox.insert(tk.END, name)\n",
    "\n",
    "selected_supplement = None  # Global variable\n",
    "\n",
    "def log_selection(event):\n",
    "    global selected_supplement\n",
    "    selected_supplement = listbox.get(tk.ACTIVE)\n",
    "    metadata = manager.get_metadata(selected_supplement)\n",
    "    \n",
    "    log_entry = f\"Selected: {selected_supplement} | Dose: {metadata.get('dose', 'N/A')} | Form: {metadata.get('form', 'Unknown')}\\n\"\n",
    "    log_box.config(state=\"normal\")\n",
    "    log_box.insert(tk.END, log_entry)\n",
    "    log_box.config(state=\"disabled\")\n",
    "\n",
    "\n",
    "entry.bind(\"<KeyRelease>\", update_listbox)\n",
    "\n",
    "listbox.bind(\"<Double-Button-1>\", log_selection)\n",
    "\n",
    "root.mainloop()\n",
    "\n",
    "selected_supplement               # this is the variable using the selected key str"
   ]
  },
  {
   "cell_type": "code",
   "execution_count": 13,
   "id": "4c17e538-c490-4a16-87b5-05719b6c5579",
   "metadata": {},
   "outputs": [],
   "source": [
    "selected_supplement"
   ]
  },
  {
   "cell_type": "markdown",
   "id": "42b47035-6229-46be-b5c9-ba4fb6418477",
   "metadata": {},
   "source": [
    "## Tinker ealier versions\n",
    "\n",
    "_________________________\n",
    "***CODE MADE RAW SINCE UPDATED***\n"
   ]
  },
  {
   "cell_type": "markdown",
   "id": "cec687f2-d2fc-4cc4-8d70-e6b781fc0391",
   "metadata": {},
   "source": [
    "### Tkinter GUI with Diagnostic Logging\n",
    "*https://copilot.microsoft.com/shares/qNGRygqsmuK6xGkk7ruHo*\n",
    "__________________________\n",
    "***CODE MADE RAW SINCE UPDATED***"
   ]
  },
  {
   "cell_type": "raw",
   "id": "c304bb8c-47e8-4f59-bfb3-ecd4813e8d63",
   "metadata": {
    "jupyter": {
     "source_hidden": true
    }
   },
   "source": [
    "import tkinter as tk\n",
    "# double click selections\n",
    "class SupplementManager:\n",
    "    def __init__(self, array_dict):\n",
    "        self.array_dict = array_dict\n",
    "\n",
    "    def search_by_partial(self, partial: str):\n",
    "        partial_lower = partial.lower()\n",
    "        return [name for name in self.array_dict if partial_lower in name.lower()]\n",
    "\n",
    "    def get_metadata(self, name: str):\n",
    "        return self.array_dict.get(name, {})\n",
    "\n",
    "# Sample data\n",
    "supplements = {\n",
    "    \"Magnesium\": {\"dose\": 400, \"form\": \"capsule\"},\n",
    "    \"Vitamin D\": {\"dose\": 2000, \"form\": \"softgel\"},\n",
    "    \"Omega-3\": {\"dose\": 1000, \"form\": \"liquid\"},\n",
    "    \"Magnesium Glycinate\": {\"dose\": 350, \"form\": \"tablet\"},\n",
    "    \"Zinc\": {\"dose\": 30, \"form\": \"tablet\"}\n",
    "}\n",
    "\n",
    "manager = SupplementManager(supplements)\n",
    "\n",
    "# GUI setup\n",
    "root = tk.Tk()\n",
    "root.title(\"Supplement Search\")\n",
    "\n",
    "entry = tk.Entry(root, width=30)\n",
    "entry.pack(pady=10)\n",
    "\n",
    "listbox = tk.Listbox(root, width=50)\n",
    "listbox.pack(pady=10)\n",
    "\n",
    "log_label = tk.Label(root, text=\"Diagnostic Overlay\", font=(\"Arial\", 10, \"bold\"))\n",
    "log_label.pack()\n",
    "\n",
    "log_box = tk.Text(root, width=60, height=10, state=\"disabled\", bg=\"#f0f0f0\")\n",
    "log_box.pack(pady=5)\n",
    "\n",
    "def update_listbox(event):\n",
    "    query = entry.get()\n",
    "    matches = manager.search_by_partial(query)\n",
    "    listbox.delete(0, tk.END)\n",
    "    for name in matches:\n",
    "        listbox.insert(tk.END, name)\n",
    "\n",
    "def log_selection(event):\n",
    "    selection = listbox.get(tk.ACTIVE)\n",
    "    metadata = manager.get_metadata(selection)\n",
    "    log_entry = f\"Selected: {selection} | Dose: {metadata.get('dose', 'N/A')} | Form: {metadata.get('form', 'Unknown')}\\n\"\n",
    "    log_box.config(state=\"normal\")\n",
    "    log_box.insert(tk.END, log_entry)\n",
    "    log_box.config(state=\"disabled\")\n",
    "\n",
    "entry.bind(\"<KeyRelease>\", update_listbox)\n",
    "listbox.bind(\"<Double-Button-1>\", log_selection)\n",
    "\n",
    "root.mainloop()\n"
   ]
  },
  {
   "cell_type": "markdown",
   "id": "271e4eef-b49e-4a51-b479-6b92f87c572f",
   "metadata": {
    "jp-MarkdownHeadingCollapsed": true
   },
   "source": [
    "### Using tkinker just to find a key\n",
    "*https://copilot.microsoft.com/shares/StsxbNmXdM4RpZtdrjHqx*\n",
    "__________________________\n",
    "***CODE MADE RAW SINCE UPDATED***"
   ]
  },
  {
   "cell_type": "raw",
   "id": "2ff6f30e-da7e-4e7a-aa8b-c62a6848adaa",
   "metadata": {},
   "source": [
    "import tkinter as tk\n",
    "\n",
    "class SupplementManager:\n",
    "    def __init__(self, array_dict):\n",
    "        self.array_dict = array_dict\n",
    "\n",
    "    def search_by_partial(self, partial: str):\n",
    "        partial_lower = partial.lower()\n",
    "        return [name for name in self.array_dict if partial_lower in name.lower()]\n",
    "\n",
    "# Sample data\n",
    "supplements = {\n",
    "    \"Magnesium\": {\"dose\": 400},\n",
    "    \"Vitamin D\": {\"dose\": 2000},\n",
    "    \"Omega-3\": {\"dose\": 1000},\n",
    "    \"Magnesium Glycinate\": {\"dose\": 350},\n",
    "    \"Zinc\": {\"dose\": 30}\n",
    "}\n",
    "\n",
    "manager = SupplementManager(supplements)\n",
    "\n",
    "# GUI setup\n",
    "root = tk.Tk()\n",
    "root.title(\"Supplement Search\")\n",
    "\n",
    "entry = tk.Entry(root, width=30)\n",
    "entry.pack(pady=10)\n",
    "\n",
    "listbox = tk.Listbox(root, width=50)\n",
    "listbox.pack(pady=10)\n",
    "\n",
    "def update_listbox(event):\n",
    "    query = entry.get()\n",
    "    matches = manager.search_by_partial(query)\n",
    "    listbox.delete(0, tk.END)\n",
    "    for name in matches:\n",
    "        listbox.insert(tk.END, name)\n",
    "\n",
    "entry.bind(\"<KeyRelease>\", update_listbox)\n",
    "\n",
    "root.mainloop()\n"
   ]
  },
  {
   "cell_type": "markdown",
   "id": "f5eb860e-e39a-4154-8098-654363b0005e",
   "metadata": {},
   "source": [
    "# Start of setting up classes"
   ]
  },
  {
   "cell_type": "markdown",
   "id": "ab04a4f8-63b8-4d6b-93ba-f885f3884539",
   "metadata": {},
   "source": [
    "## -Oriented DataCObjectolumn Design in Python\n",
    "https://copilot.microsoft.com/shares/pages/MZyaioewJp2wR4mSwfShP"
   ]
  },
  {
   "cell_type": "code",
   "execution_count": null,
   "id": "be96db62-b2a3-443e-8426-c8072118da2b",
   "metadata": {
    "jupyter": {
     "source_hidden": true
    }
   },
   "outputs": [],
   "source": [
    "import pandas as pd\n",
    "import numpy as np\n",
    "\n",
    "class TimeSeriesGroup:\n",
    "    def __init__(self, filename: str, group_name: str, columns: list[str], index_col: str = \"DATE_V\", encoding: str = \"ISO-8859-1\"):\n",
    "        self.group_name = group_name\n",
    "        self.index_col = index_col\n",
    "        self.filename = filename\n",
    "        self.encoding = encoding\n",
    "        self.columns = columns\n",
    "        self.array_dict = {}\n",
    "\n",
    "        self._load_data()\n",
    "\n",
    "    def _load_data(self):\n",
    "        cols_to_load = [self.index_col] + self.columns\n",
    "        df = pd.read_csv(self.filename, usecols=cols_to_load, encoding=self.encoding)\n",
    "        df.set_index(self.index_col, inplace=True)\n",
    "\n",
    "        # Store index as array\n",
    "        self.array_dict[f\"{self.group_name}_{self.index_col}\"] = df.index.to_numpy()\n",
    "\n",
    "        # Store each column as array\n",
    "        for col in self.columns:\n",
    "            arr = df[col].to_numpy()\n",
    "            self.array_dict[f\"{self.group_name}_{col}\"] = arr\n",
    "\n",
    "    def get_array(self, name: str) -> np.ndarray:\n",
    "        return self.array_dict.get(name)\n",
    "\n",
    "    def summary(self):\n",
    "        print(f\"📦 Group: {self.group_name}\")\n",
    "        for key, arr in self.array_dict.items():\n",
    "            print(f\"  {key}: shape={arr.shape}, dtype={arr.dtype}, nulls={np.isnan(arr).sum()}\")\n"
   ]
  },
  {
   "cell_type": "markdown",
   "id": "86dc4f68-0b42-40c4-bfa3-08be7f66cd80",
   "metadata": {},
   "source": [
    "## Using doses in classis "
   ]
  },
  {
   "cell_type": "markdown",
   "id": "dd2fe0ef-856f-4db8-a52a-c6d89bd45b46",
   "metadata": {},
   "source": [
    "***Python Class for Supplement Dosage Modeling***\n",
    "https://copilot.microsoft.com/shares/pages/TWp5or9jyx8bJtPj5cGfv"
   ]
  },
  {
   "cell_type": "markdown",
   "id": "32641eae-1c4e-41a4-876d-4e676075a42f",
   "metadata": {},
   "source": [
    "You can definitely model ***actual_dose*** and ***default_dose*** as ***3-bit integers (values 0–7)***, and multiply them by a gr_per_dose scalar to compute the effective dosage in grams. Python doesn’t have a native 3-bit dtype, but you can enforce the constraint and optimize storage using NumPy or bit masking.\n"
   ]
  },
  {
   "cell_type": "code",
   "execution_count": null,
   "id": "3cd5f41e-27d6-475d-982c-30752ed6e594",
   "metadata": {},
   "outputs": [],
   "source": [
    "import numpy as np\n",
    "\n",
    "class Supplement:\n",
    "    def __init__(self, name, gr_per_dose, default_dose=1, actual_dose=None):\n",
    "        self.name = name\n",
    "        self.gr_per_dose = gr_per_dose  # grams per dose unit\n",
    "        self.default_dose = self._validate_dose(default_dose)\n",
    "        self.actual_dose = self._validate_dose(actual_dose) if actual_dose is not None else self.default_dose\n",
    "\n",
    "    def _validate_dose(self, dose):\n",
    "        # Enforce 3-bit constraint (0–7)\n",
    "        if not (0 <= dose <= 7):\n",
    "            raise ValueError(f\"Dose must be between 0 and 7 (3-bit range). Got: {dose}\")\n",
    "        return np.uint8(dose)  # Efficient storage\n",
    "\n",
    "    @property\n",
    "    def effective_dose_grams(self):\n",
    "        return self.actual_dose * self.gr_per_dose\n",
    "\n",
    "    def __repr__(self):\n",
    "        return (f\"{self.name}: {self.actual_dose} dose units × {self.gr_per_dose} g/unit = \"\n",
    "                f\"{self.effective_dose_grams:.2f} g total\")\n"
   ]
  },
  {
   "cell_type": "code",
   "execution_count": null,
   "id": "380d459b-6a53-48eb-b6fa-caa00c7c67ee",
   "metadata": {},
   "outputs": [],
   "source": [
    "# ✅ Example Usage\n",
    "vitamin_c = Supplement(name=\"Vitamin C\", gr_per_dose=0.5, default_dose=2)\n",
    "print(vitamin_c)  # Output: Vitamin C: 2 dose units × 0.5 g/unit = 1.00 g total\n"
   ]
  },
  {
   "cell_type": "markdown",
   "id": "ec07c8a1-06d5-40ff-820c-55947ef0b3c9",
   "metadata": {},
   "source": [
    "# Next project goals"
   ]
  },
  {
   "cell_type": "markdown",
   "id": "6e46daa1-0397-42e7-a5e8-e3a002bf77dd",
   "metadata": {},
   "source": [
    "## Perfect present function by expanding to all names"
   ]
  },
  {
   "cell_type": "markdown",
   "id": "471ab4e0-04b7-485b-a91a-ae1a0b0bebd6",
   "metadata": {},
   "source": [
    "##  expand level of correction in enter"
   ]
  },
  {
   "cell_type": "markdown",
   "id": "e399d540-e99c-4cde-8f75-a5ed1470609c",
   "metadata": {},
   "source": [
    "## move to arrow intry "
   ]
  },
  {
   "cell_type": "markdown",
   "id": "2e84e8e5-5fb1-4a9f-a822-c9f0a5cfa370",
   "metadata": {},
   "source": [
    "## move to mouse intry "
   ]
  },
  {
   "cell_type": "markdown",
   "id": "f9d5f519-0837-40dc-9e52-a448ff354a02",
   "metadata": {},
   "source": [
    "## move to ipad/iphone entry "
   ]
  },
  {
   "cell_type": "markdown",
   "id": "f39d1865-2534-4491-a9f0-66e2dbb40754",
   "metadata": {},
   "source": [
    "## move to intance in classes"
   ]
  },
  {
   "cell_type": "markdown",
   "id": "6262970e-f5f5-4730-9a55-2d1262d676b1",
   "metadata": {
    "jp-MarkdownHeadingCollapsed": true
   },
   "source": [
    "# Discriptions of ***array_dict***"
   ]
  },
  {
   "cell_type": "markdown",
   "id": "b965a8b8-122a-4c08-b4de-ed3f6a975cdf",
   "metadata": {},
   "source": [
    "***array_dict*** Is a working dictionary where  dtv is the index and selected dat_cols which are np.arrays\n",
    "1. dtv is a col of integers representing the number of days since jan 1 1900 and ends with today.\n",
    "2. dtv is used as the index for all dat_cols\n",
    "3. all dat_cols have cls attributes common to all the values in that dat-col\n",
    "5. all dat_cols have cls methods that instructions to certain statistics of the dat_col values.\n",
    "6. dat_col attributes and methods are read by a . behind dat_col ie dat_col.method or attribute. ***see*** *https://copilot.microsoft.com/shares/pages/MZyaioewJp2wR4mSwfShP* for examples.\n",
    "7. all have same length as the ***dtv col*** and are stored in a ***xl csv file array*** with ***\"dtv\"*** as the first col and str headers as the first row.\n",
    "8. ***array_dict*** use the ***dtv*** as index so that every row has a ***row_index***\n",
    "9. The ***row_index*** for a ***specific dtv*** is computed and it is used to find the value of ***dat_col*** for that date.  \n",
    "10. ***Time Alignment*** It ensures all arrays—whether supplements, motion, or biochemical—are synchronized to the same timeline. That’s essential for cross-correlation, lag analysis, and time-shifting.\n",
    "11. Plotting & Visualization You’ll need dtv as the x-axis for any time-series plots. Without it, your arrays are just floating sequences.\n",
    "12. Diagnostics & Gaps You can detect missing data, irregular sampling, or temporal drift by comparing ***\"dtv\"*** across groups.\n",
    "13. Batch Operations If you’re merging arrays from different domains (e.g., Motion, Supplements, Sleep), having a shared **\"dtv\"*** lets you align them cleanly—even if some arrays are sparse.\n",
    ".................array_dict[f\"{group_name}_dtv] = df.index.to_numpy()\n",
    "---------------------------------------------------------------------\n",
    "{\n",
    "    \"grp_tst_dtv\": np.array([...]),\n",
    "    \"grp_tst_Eliquist\": np.array([...]),\n",
    "    \"grp_tst_Magtien\": np.array([...]),\n",
    "    \"grp_tst_GPLC\": np.array([...])\n",
    "}\n",
    "-------------------------------------------------------------------------------------------"
   ]
  },
  {
   "cell_type": "markdown",
   "id": "7f5d5866-e45b-4f1e-b178-38a0e469e16a",
   "metadata": {},
   "source": [
    "***Let’s scaffold a clean, modular TimeSeriesGroup class that fits your architecture and handles:***\n",
    "\n",
    "✅ Selective column loading from a master CSV\n",
    "\n",
    "✅ Index alignment via DATE_V\n",
    "\n",
    "✅ Dictionary-style access to NumPy arrays\n",
    "\n",
    "✅ Metadata logging for diagnostics and traceability"
   ]
  },
  {
   "cell_type": "raw",
   "id": "c8b81c9b-6e43-403e-ac6f-5b5800557c20",
   "metadata": {},
   "source": [
    "print(\"bill\")"
   ]
  },
  {
   "cell_type": "markdown",
   "id": "9af3f8fc-ab39-4073-a38a-175faabed340",
   "metadata": {
    "jp-MarkdownHeadingCollapsed": true
   },
   "source": [
    "# Old junk"
   ]
  },
  {
   "cell_type": "raw",
   "id": "a3e5ac34",
   "metadata": {
    "jupyter": {
     "source_hidden": true
    },
    "scrolled": true
   },
   "source": [
    "RAW CONVERTED OLD VERSION def enter_data_values_dtv(array_dict: dict, group_name: str, col_list: list[str], index_key: str = \"dtv\") -> None:\n",
    "    #     # def to load values of doses for a given \"dtv\"\n",
    "    # Get master index                # this is a computed index has been accumulated by computing a \n",
    "    # probing_key that will add a col name if the propbing_key fitts and goes to the ext if it doesnt\n",
    "    # probing_key is made using an f string. It combines names and computes strings that match a desired col name\n",
    "    # that can search of keys that match\n",
    "    # since it gives none instead of error it is ideal for search for dat_col with a computed name.\n",
    "             \n",
    "    master_index = array_dict.get(f\"{group_name}_{index_key}\")           # array_dict.get(f\"a_specitcs_str\") as a key if it exists\n",
    "                                                                         #\"grp_tst_dtv\"\n",
    "    if master_index is None:\n",
    "        raise KeyError(f\"❌ Master index '{group_name}_{index_key}' not found in array_dict.\")\n",
    "\n",
    "    # Loop until valid dtv or abort\n",
    "    while True:\n",
    "        try:\n",
    "            dtv_input = int(input(\"📅 Enter the date (format: NNNNN): \").strip())\n",
    "        except ValueError:\n",
    "            print(\"❌ Invalid format. Please enter a numeric date.\")\n",
    "            continue\n",
    "\n",
    "        if dtv_input in master_index:\n",
    "            break  # valid date, proceed\n",
    "        else:\n",
    "            choice = input(f\"⚠️ '{dtv_input}' not found in timeline. Re-enter (r) or Abort (a)? \").strip().lower()\n",
    "            if choice == \"a\":\n",
    "                print(\"🚫 Entry aborted.\")\n",
    "                return\n",
    "\n",
    "    # Collect values interactively  because the date is specified as integer\n",
    "    new_values = {}            # soecified as a dictionary looing for keys and lists\n",
    "    for col in col_list:                                          # col_list is a list of str that are col.heads\n",
    "        val = input(f\"🔢 Enter value for '{col}': \").strip()\n",
    "        try:\n",
    "            new_values[col] = float(val)                       \n",
    "        except ValueError:\n",
    "            new_values[col] = np.nan  # fallback if input is invalid\n",
    "    # iterated till it got done with the list of dat_cols each as a key in df_new\n",
    "    # Create new DataFrame with dtv index\n",
    "    df_new = pd.DataFrame(new_values, index=[dtv_input])\n",
    "    df_new.index.name = index_key\n",
    "\n",
    "    # Reindex to match master timeline\n",
    "    df_new = df_new.reindex(master_index)\n",
    "\n",
    "    # Append each column to array_dict\n",
    "    for col in col_list:\n",
    "        key = f\"{group_name}_{col}\"\n",
    "        array_dict[key] = df_new[col].to_numpy()\n",
    "        print(f\"✅ Updated '{key}' with new entry for {dtv_input}\")\n"
   ]
  },
  {
   "cell_type": "code",
   "execution_count": null,
   "id": "fde899d5-bc5d-4e4e-b72c-13181b760943",
   "metadata": {},
   "outputs": [],
   "source": []
  }
 ],
 "metadata": {
  "kernelspec": {
   "display_name": "Python (scu)",
   "language": "python",
   "name": "scu"
  },
  "language_info": {
   "codemirror_mode": {
    "name": "ipython",
    "version": 3
   },
   "file_extension": ".py",
   "mimetype": "text/x-python",
   "name": "python",
   "nbconvert_exporter": "python",
   "pygments_lexer": "ipython3",
   "version": "3.11.13"
  }
 },
 "nbformat": 4,
 "nbformat_minor": 5
}
