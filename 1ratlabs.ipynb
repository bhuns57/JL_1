{
 "cells": [
  {
   "cell_type": "markdown",
   "id": "9da0e802-cba9-47c6-98e3-8d0b2de18518",
   "metadata": {},
   "source": [
    "# 1RatLabs Readme"
   ]
  },
  {
   "cell_type": "markdown",
   "id": "043892c1-906f-487f-b21c-73911cc70479",
   "metadata": {
    "jp-MarkdownHeadingCollapsed": true
   },
   "source": [
    "## 1RatLabs.Goals"
   ]
  },
  {
   "cell_type": "markdown",
   "id": "fea11f2c-aaab-4be0-8648-044880dd5c6f",
   "metadata": {},
   "source": [
    "### Goals list"
   ]
  },
  {
   "cell_type": "markdown",
   "id": "bbc6f16a-a41c-40a6-86b9-d6a7651739ae",
   "metadata": {
    "jp-MarkdownHeadingCollapsed": true
   },
   "source": [
    "1. To learn to measure the cause and effect of lifestyle changes.\n",
    "2. Use this info to adjust my lifestyle to produce the best possible health for my body."
   ]
  },
  {
   "cell_type": "markdown",
   "id": "27238a13-dfa1-4387-bb3d-a98759eea89e",
   "metadata": {
    "jp-MarkdownHeadingCollapsed": true
   },
   "source": [
    "## Data  *(stored in xl)*:"
   ]
  },
  {
   "cell_type": "markdown",
   "id": "6c1b602f-3565-4f9d-9c77-11d21ba3216d",
   "metadata": {},
   "source": [
    "### Data List"
   ]
  },
  {
   "cell_type": "markdown",
   "id": "b5ecb459-78a5-4d2c-b3a4-1ae765119607",
   "metadata": {
    "jp-MarkdownHeadingCollapsed": true
   },
   "source": [
    "#### Discription\n",
    "1. DATE_V  >>> list of days counted from 1/1/1900\n",
    "2. dt_clms >> a single lifestyle parameter \n",
    "3. dt_clms_log >> table of many \"dt_clms\" columna vs roes of \"DATE_V\"\n",
    "4. dt_clms_attrbts >>>  table of  many \"dt_clm_attrbts\" and \"dtclms\" as rows\n",
    "5. dt_clms_fltrd  >>> table of \"dt_clms_fltrd\" as many columns vs \"DATE_V\" as rows\n",
    "6. dt_clms_xcrrltn_ij >>> table of cross-correltion of dt_clms.i and dt_clms.j as columns and \"DATEV\" as rows\n",
    "7. dt_clms_xcrrltn_tshft >>> table of dt_clms_crrltn_ij vs \"tshft\" as rows"
   ]
  },
  {
   "cell_type": "markdown",
   "id": "0c7b1a74-15e8-4540-9d78-fea0ffb7221d",
   "metadata": {},
   "source": [
    "#### xl names\n",
    "1. DATE_V  >> DATE_V.xlxs\n",
    "2. dt_clms_log >> dt_clms_log.\n",
    "4. dt_clms_attrbts >> dt_clms_attrbts.\n",
    "5. dt_clms_fltrd  >> dt_clms_fltrd_log.\n",
    "6. \n",
    "7. dt_clms_xcrrltn_ij >>> table of cross-correltion of dt_clms.i and dt_clms.j as columns and \"DATEV\" as rows\n",
    "8. dt_clms_xcrrltn_tshft >>> table of dt_clms_crrltn_ij vs \"tshft\" as rows"
   ]
  },
  {
   "cell_type": "markdown",
   "id": "4d94e07f-a8f2-4c4b-a02a-7cd9c2a92b6d",
   "metadata": {
    "jp-MarkdownHeadingCollapsed": true
   },
   "source": [
    "## Functions *(module.py)*"
   ]
  },
  {
   "cell_type": "markdown",
   "id": "3bd512aa-3332-4e77-b7a6-0b4484ca9dbb",
   "metadata": {},
   "source": [
    "### Functions List\n",
    "1. df_tbl <<>> xl_tbl *(move data to df for processing back to xl for storage and readout)\n",
    "2. dat_ntry_tbl *(manually input data to df_tbl)*\n",
    "4. "
   ]
  },
  {
   "cell_type": "markdown",
   "id": "a46c83ba-5396-4e9e-8fc8-0804bf346c2a",
   "metadata": {
    "jp-MarkdownHeadingCollapsed": true
   },
   "source": [
    "## Inputs to df_tbl"
   ]
  },
  {
   "cell_type": "markdown",
   "id": "a8ddc7a2-b3af-4e61-8729-531d1d969d00",
   "metadata": {},
   "source": [
    "### Inputs List by:\n",
    "1. single day, single dt_clms\n",
    "2. single day, grp_x dt_clms\n",
    "3. grp_dys, grp_dt_clms"
   ]
  },
  {
   "cell_type": "markdown",
   "id": "aa68f0f9-6a9d-4c59-b6a3-18d449e4d8ad",
   "metadata": {},
   "source": [
    "### Workbook List\n"
   ]
  },
  {
   "cell_type": "code",
   "execution_count": null,
   "id": "739f9166-4608-43d2-985b-a805d102ab73",
   "metadata": {},
   "outputs": [],
   "source": []
  },
  {
   "cell_type": "code",
   "execution_count": null,
   "id": "fa0a572b-55aa-4fce-8eef-c84627b4150d",
   "metadata": {},
   "outputs": [],
   "source": []
  }
 ],
 "metadata": {
  "kernelspec": {
   "display_name": "Python (scu)",
   "language": "python",
   "name": "scu"
  },
  "language_info": {
   "codemirror_mode": {
    "name": "ipython",
    "version": 3
   },
   "file_extension": ".py",
   "mimetype": "text/x-python",
   "name": "python",
   "nbconvert_exporter": "python",
   "pygments_lexer": "ipython3",
   "version": "3.11.13"
  }
 },
 "nbformat": 4,
 "nbformat_minor": 5
}
