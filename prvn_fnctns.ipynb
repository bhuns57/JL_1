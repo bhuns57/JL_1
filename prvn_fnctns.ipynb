{
 "cells": [
  {
   "cell_type": "markdown",
   "id": "5760a388-5178-463c-961c-c09be94666a3",
   "metadata": {},
   "source": [
    "# **All IMPORTs >> run first**"
   ]
  },
  {
   "cell_type": "code",
   "execution_count": 8,
   "id": "181f24a7-f7c3-41b8-ab86-cb34d0de4eb4",
   "metadata": {},
   "outputs": [
    {
     "name": "stdout",
     "output_type": "stream",
     "text": [
      "REPO =  \n",
      "base_path =  /home/bhuns\n",
      "REPO\\data =  \\data\n",
      "obj_lst ad_an\n"
     ]
    }
   ],
   "source": [
    "import pandas as pd\n",
    "import numpy as np\n",
    "import tkinter as tk\n",
    "import pickle\n",
    "from pathlib import Path\n",
    "import csv\n",
    "import os\n",
    "from datetime import datetime\n",
    "from collections import OrderedDict\n",
    "base_path = os.path.expanduser(\"~\")  # Gets /home/bhuns in WSL all measured from here\n",
    "REPO = \"\"\n",
    "#data = \" \\\" + \"_data\"\n",
    "print(\"REPO = \",REPO)\n",
    "print(\"base_path = \",base_path)\n",
    "print(\"REPO\\data = \",REPO + \"\\data\")\n",
    "print(\"obj_lst >>>> \",\"ad_an\")"
   ]
  },
  {
   "cell_type": "markdown",
   "id": "9922fd53-b371-4bc5-80a1-e6123d1f662b",
   "metadata": {},
   "source": [
    "# **PROVEN LOADER FUNCTIONs AND CALLs**"
   ]
  },
  {
   "cell_type": "markdown",
   "id": "aa5d3714-84f5-481b-9244-e0ccf98f9e2d",
   "metadata": {},
   "source": [
    "## **Load csv to array_dicts"
   ]
  },
  {
   "cell_type": "code",
   "execution_count": 5,
   "id": "b0b792cc-fe44-4a6f-9efc-db7301a1f043",
   "metadata": {},
   "outputs": [],
   "source": [
    "def load_csv_to_dict(bnm):\n",
    "    \"\"\"\n",
    "    Load CSV into DataFrame and convert to ordered dict with 'dvt' first.\n",
    "    Sets 'dvt' as string index for direct access.\n",
    "    \"\"\"\n",
    "    path_csv = Path(f\"{bnm}.csv\")\n",
    "    df = pd.read_csv(path_csv)\n",
    "    print(df)\n",
    "    # Ensure 'dvt' is string before setting index\n",
    "    df['dvt'] = df['dvt'].astype(str)\n",
    "    df.set_index('dvt', inplace=True)\n",
    "\n",
    "    # Build ordered dictionary with 'dvt' as first key\n",
    "    obj = OrderedDict()\n",
    "    obj['dvt'] = df.index.tolist()\n",
    "\n",
    "    for col in df.columns:\n",
    "        #obj[col] = df[col].tolist()  # converts to panda series\n",
    "        obj[col] = df[col].to_numpy() # converts to numpy\n",
    "    print(obj)\n",
    "    return obj\n"
   ]
  },
  {
   "cell_type": "code",
   "execution_count": 12,
   "id": "4b5c2851-1191-4e2e-bb68-71ed5e83e4a7",
   "metadata": {},
   "outputs": [
    {
     "name": "stdout",
     "output_type": "stream",
     "text": [
      "     dvt  s000  s001  s002  s003  s004\n",
      "0  45860   NaN   NaN   NaN   NaN   NaN\n",
      "1  45861   NaN   NaN   NaN   NaN   NaN\n",
      "2  45862   NaN   NaN   NaN   NaN   NaN\n",
      "3  45863   NaN   NaN   NaN   NaN   NaN\n",
      "4  45864   NaN   NaN   NaN   NaN   NaN\n",
      "5  45865   NaN   NaN   NaN   NaN   NaN\n",
      "OrderedDict([('dvt', ['45860', '45861', '45862', '45863', '45864', '45865']), ('s000', array([nan, nan, nan, nan, nan, nan])), ('s001', array([nan, nan, nan, nan, nan, nan])), ('s002', array([nan, nan, nan, nan, nan, nan])), ('s003', array([nan, nan, nan, nan, nan, nan])), ('s004', array([nan, nan, nan, nan, nan, nan]))])\n"
     ]
    }
   ],
   "source": [
    "# Load array from f\"{bnm}.csv\" in REPO  to a array_dict of name \"bnm\" in memory\n",
    "bnm =\"ad_sn\"                                # copy and paste \"bnm test \" to be name of final result in memory\n",
    "#df, ad_sn = data/ad_sn.pkl)  # Load original\n",
    "#df,ad_sn  \n",
    "ad_an = load_csv_to_dict(bnm)  # Load original# test only"
   ]
  },
  {
   "cell_type": "code",
   "execution_count": null,
   "id": "8a3dc719-0970-41cf-9228-496fd19bcad3",
   "metadata": {},
   "outputs": [],
   "source": []
  },
  {
   "cell_type": "code",
   "execution_count": null,
   "id": "c6c88dc3-a2b5-4b3f-9432-47bac3ae86c0",
   "metadata": {},
   "outputs": [],
   "source": []
  }
 ],
 "metadata": {
  "kernelspec": {
   "display_name": "Python (scu)",
   "language": "python",
   "name": "scu"
  },
  "language_info": {
   "codemirror_mode": {
    "name": "ipython",
    "version": 3
   },
   "file_extension": ".py",
   "mimetype": "text/x-python",
   "name": "python",
   "nbconvert_exporter": "python",
   "pygments_lexer": "ipython3",
   "version": "3.11.13"
  }
 },
 "nbformat": 4,
 "nbformat_minor": 5
}
