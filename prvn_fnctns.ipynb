{
 "cells": [
  {
   "cell_type": "markdown",
   "id": "5760a388-5178-463c-961c-c09be94666a3",
   "metadata": {
    "jp-MarkdownHeadingCollapsed": true
   },
   "source": [
    "# **1 All IMPORTs >> run first**"
   ]
  },
  {
   "cell_type": "code",
   "execution_count": 4,
   "id": "181f24a7-f7c3-41b8-ab86-cb34d0de4eb4",
   "metadata": {},
   "outputs": [
    {
     "name": "stdout",
     "output_type": "stream",
     "text": [
      "REPO =  \n",
      "base_path =  /home/bhuns\n",
      "REPO\\data =  \\data\n",
      "obj_lst >>>>  ad_an\n"
     ]
    }
   ],
   "source": [
    "import pandas as pd\n",
    "import numpy as np\n",
    "import tkinter as tk\n",
    "import pickle\n",
    "from pathlib import Path\n",
    "import csv\n",
    "import os\n",
    "from datetime import datetime\n",
    "from collections import OrderedDict\n",
    "base_path = os.path.expanduser(\"~\")  # Gets /home/bhuns in WSL all measured from here\n",
    "REPO = \"\"\n",
    "#data = \" \\\" + \"_data\"\n",
    "print(\"REPO = \",REPO)\n",
    "print(\"base_path = \",base_path)\n",
    "print(\"REPO\\data = \",REPO + \"\\data\")\n",
    "print(\"obj_lst >>>> \",\"ad_an\")"
   ]
  },
  {
   "cell_type": "markdown",
   "id": "9922fd53-b371-4bc5-80a1-e6123d1f662b",
   "metadata": {
    "jp-MarkdownHeadingCollapsed": true
   },
   "source": [
    "# **1 Copilot References**"
   ]
  },
  {
   "cell_type": "markdown",
   "id": "7d5f300f-cc35-403b-a71d-82c1afa6b4b2",
   "metadata": {},
   "source": [
    "**My dict name is \"ad_an\". I would like to have you show the script to create a class that attaches a \"name\", a \"sn \", and a \"dose\" as attributes and has 2 methods that read the last entry in \"dvt\" col and the length of the \"dvt\" col'.**\n",
    "1. ***A starter script to test for use in overall system***\n",
    "2. https://copilot.microsoft.com/shares/3GjpYxV71hPpPKAjiqVjW"
   ]
  },
  {
   "cell_type": "markdown",
   "id": "d391bcf0-8bb6-4f00-8992-8314e77e282c",
   "metadata": {},
   "source": [
    "**class is a type of object that has certain properties.**\n",
    "1. ***This shows table of all the different types of objects and their properities***\n",
    "2. https://copilot.microsoft.com/shares/S4pm69tC82rf7NrxSPrcD"
   ]
  },
  {
   "cell_type": "markdown",
   "id": "a7f51720-7630-4423-8d71-52868f94ef4e",
   "metadata": {},
   "source": [
    "**Clarifying the Role of a Class in Python.**\n",
    "1. ***Understanding the roll and pupose of classes ***\n",
    "2. https://copilot.microsoft.com/shares/ZyT8xntjeBjK1v6gaH6JK"
   ]
  },
  {
   "cell_type": "markdown",
   "id": "620eddc6-ea23-4ba3-acbf-b1e211fcd409",
   "metadata": {},
   "source": [
    "**🛠️ Class Diagnostic Aid: Introspection Scaffold**\n",
    "1. ***help ,making evaluating class tries***\n",
    "2. https://copilot.microsoft.com/shares/KLcLvhUxNgjC2idksjzbt"
   ]
  },
  {
   "cell_type": "markdown",
   "id": "fa9b18ae-347a-414a-adbd-6b9434e7dd0a",
   "metadata": {},
   "source": [
    "**built-in instance attributes/methods and custom method access, with a diagnostic-friendly lens**\n",
    "1. ***tablr of methods ect that can be called***\n",
    "2. *🛠️ Class Diagnostic Aid: Introspection Scaffold*"
   ]
  },
  {
   "cell_type": "markdown",
   "id": "bf446d3a-c493-45d4-acc9-0477728a000b",
   "metadata": {},
   "source": []
  },
  {
   "cell_type": "markdown",
   "id": "84bd45c7-f8e1-4e94-871e-bf47584ef78a",
   "metadata": {},
   "source": [
    "# **1 PROVEN LOADER FUNCTIONs AND CALLs**"
   ]
  },
  {
   "cell_type": "markdown",
   "id": "aa5d3714-84f5-481b-9244-e0ccf98f9e2d",
   "metadata": {},
   "source": [
    "## **2 blding def FunctLoad csv to array_dicts**"
   ]
  },
  {
   "cell_type": "code",
   "execution_count": 7,
   "id": "b0b792cc-fe44-4a6f-9efc-db7301a1f043",
   "metadata": {},
   "outputs": [],
   "source": [
    "def load_csv_to_dict(bnm):\n",
    "    \"\"\"\n",
    "    Load CSV into DataFrame and convert to ordered dict with 'dvt' first.\n",
    "    Sets 'dvt' as string index for direct access.\n",
    "    \"\"\"\n",
    "    path_csv = Path(f\"{bnm}.csv\")\n",
    "    df = pd.read_csv(path_csv)\n",
    "    print(df)\n",
    "    # Ensure 'dvt' is string before setting index\n",
    "    df['dvt'] = df['dvt'].astype(str)\n",
    "    df.set_index('dvt', inplace=True)\n",
    "\n",
    "    # Build ordered dictionary with 'dvt' as first key\n",
    "    obj = OrderedDict()\n",
    "    obj['dvt'] = df.index.tolist()\n",
    "\n",
    "    for col in df.columns:\n",
    "        #obj[col] = df[col].tolist()  # converts to panda series\n",
    "        obj[col] = df[col].to_numpy() # converts to numpy\n",
    "    print(obj)\n",
    "    return obj\n"
   ]
  },
  {
   "cell_type": "code",
   "execution_count": 8,
   "id": "4b5c2851-1191-4e2e-bb68-71ed5e83e4a7",
   "metadata": {},
   "outputs": [
    {
     "ename": "NameError",
     "evalue": "name 'bnm' is not defined",
     "output_type": "error",
     "traceback": [
      "\u001b[31m---------------------------------------------------------------------------\u001b[39m",
      "\u001b[31mNameError\u001b[39m                                 Traceback (most recent call last)",
      "\u001b[36mCell\u001b[39m\u001b[36m \u001b[39m\u001b[32mIn[8]\u001b[39m\u001b[32m, line 1\u001b[39m\n\u001b[32m----> \u001b[39m\u001b[32m1\u001b[39m ad_sn = load_csv_to_dict(bnm)\n",
      "\u001b[31mNameError\u001b[39m: name 'bnm' is not defined"
     ]
    }
   ],
   "source": [
    "ad_sn = load_csv_to_dict(bnm) # Load original# test only\n",
    "# Load array using \"load_csv_to_dict(bnm\")\n",
    "#from f\"{bnm}.csv\" in REPO  to a array_dict of name \"bnm\" in memory\n",
    "#bnm =\"ad_sn\"                                # copy and paste \"bnm test \" to be name of final result in memory\n",
    "#df, ad_sn = data/ad_sn.pkl)  # Load original\n",
    "#df,ad_sn  \n"
   ]
  },
  {
   "cell_type": "code",
   "execution_count": 29,
   "id": "8a3dc719-0970-41cf-9228-496fd19bcad3",
   "metadata": {},
   "outputs": [
    {
     "data": {
      "text/plain": [
       "0.4"
      ]
     },
     "execution_count": 29,
     "metadata": {},
     "output_type": "execute_result"
    }
   ],
   "source": [
    "ad_an[\"dvt\"][3]"
   ]
  },
  {
   "cell_type": "markdown",
   "id": "67229f93-7c5f-40c5-8cc6-7b4edc64f7be",
   "metadata": {},
   "source": [
    "## ui"
   ]
  },
  {
   "cell_type": "markdown",
   "id": "687ac029-ac92-48c0-ba8d-4d9037253e9c",
   "metadata": {},
   "source": [
    "# 1 Building with classes."
   ]
  },
  {
   "cell_type": "markdown",
   "id": "86ddbe0e-893e-4db4-87fd-8d2cda817d7a",
   "metadata": {},
   "source": [
    "### This defines a **\"class type Obj\"** as **\"AdAnWrapper\"** by running **\"__init__\"** by:\n",
    "1.The main characteristic is that it automatically runs the \"__init__\" when it is called.\n",
    "2. __init__ ia defined as a function that will create an \"instance\" when the \"obj\" ( \"AdAnWrapper\":)ia \"CALLED\":\n",
    "3.  defining \"self\" as the \"name\" of \"dictionary\"\n",
    "4. [spec as =  are specified a key1: value,key2: value .... keyN: value\n",
    "5. these keys:values will be entered when the  AdAnWrapper: is used to create an instance.\n",
    "6. \n"
   ]
  },
  {
   "cell_type": "code",
   "execution_count": 30,
   "id": "b0651685-2289-45ee-bc68-495cc54dc3d5",
   "metadata": {},
   "outputs": [],
   "source": [
    "class AdAnWrapper:\n",
    "    def __init__(self, ad_an, name, sn, dose):\n",
    "        self.ad_an = ad_an\n",
    "        self.name = name\n",
    "        self.sn = sn\n",
    "        self.dose = dose\n",
    "\n",
    "    def last_dvt_entry(self):\n",
    "        try:\n",
    "            return self.ad_an[\"dvt\"][-1]\n",
    "        except (KeyError, IndexError):\n",
    "            return None\n",
    "\n",
    "    def dvt_length(self):\n",
    "        try:\n",
    "            return len(self.ad_an[\"dvt\"])\n",
    "        except KeyError:\n",
    "            return 0\n"
   ]
  },
  {
   "cell_type": "code",
   "execution_count": 31,
   "id": "49ee070a-ac82-4cd5-a50a-cdc626b2f000",
   "metadata": {},
   "outputs": [
    {
     "name": "stdout",
     "output_type": "stream",
     "text": [
      "🧠 Last dvt entry: 0.4\n",
      "📏 Length of dvt: 4\n",
      "🧬 Metadata: Subject01 SN123 10mg\n"
     ]
    }
   ],
   "source": [
    "# Example Usage of the ad an wrapper class\n",
    "ad_an = {\n",
    "    \"dvt\": [0.1, 0.2, 0.3, 0.4],\n",
    "    \"bp\": [120, 122, 118, 121]\n",
    "}\n",
    "\n",
    "wrapped = AdAnWrapper(ad_an, name=\"Subject01\", sn=\"SN123\", dose=\"10mg\")\n",
    "\n",
    "print(\"🧠 Last dvt entry:\", wrapped.last_dvt_entry())\n",
    "print(\"📏 Length of dvt:\", wrapped.dvt_length())\n",
    "print(\"🧬 Metadata:\", wrapped.name, wrapped.sn, wrapped.dose)"
   ]
  },
  {
   "cell_type": "markdown",
   "id": "497eb29b-8718-4ba5-b0ae-78ba01fde4fa",
   "metadata": {},
   "source": [
    "## **2 Here’s a clean, modular class scaffold that wraps your ad_an dictionary and attaches \"name\", \"sn\", and \"dose\" as attributes. It includes two methods:**"
   ]
  },
  {
   "cell_type": "markdown",
   "id": "edefa188-9ab2-4790-935c-e6922254dac0",
   "metadata": {},
   "source": [
    "### **2 Here’s a clean, modular class scaffold that wraps your ad_an dictionary and attaches \"name\", \"sn\", and \"dose\" as attributes. It includes two methods:**"
   ]
  },
  {
   "cell_type": "code",
   "execution_count": 24,
   "id": "1bd0a51a-b9a6-4df5-9c0e-6df72b05e276",
   "metadata": {},
   "outputs": [],
   "source": [
    "#  AdAnWrapper Class for ad_an\n",
    "class AdAnWrapper:\n",
    "    def __init__(self, ad_an, name, sn, dose):\n",
    "        self.ad_an = ad_an\n",
    "        self.name = name\n",
    "        self.sn = sn\n",
    "        self.dose = dose\n",
    "\n",
    "    def last_dvt_entry(self):\n",
    "        try:\n",
    "            return self.ad_an[\"dvt\"][-1]\n",
    "        except (KeyError, IndexError):\n",
    "            return None\n",
    "\n",
    "    def dvt_length(self):\n",
    "        try:\n",
    "            return len(self.ad_an[\"dvt\"])\n",
    "        except KeyError:\n",
    "            return 0\n"
   ]
  },
  {
   "cell_type": "markdown",
   "id": "c6e1d5fc-c6c8-4645-9a9f-d6d266bac862",
   "metadata": {},
   "source": [
    "### **3  🧪 Example Usage**"
   ]
  },
  {
   "cell_type": "code",
   "execution_count": 34,
   "id": "7f3728ac-ba61-481f-bfe0-7a4ce2707158",
   "metadata": {},
   "outputs": [],
   "source": [
    "# (🧪 Copilot Example Usage\n",
    "ad_an = {\n",
    "    \"dvt\": [0.1, 0.2, 0.3, 0.4],\n",
    "    \"bp\": [120, 122, 118, 121] \n",
    "}"
   ]
  },
  {
   "cell_type": "code",
   "execution_count": 35,
   "id": "7d91e263-9443-446a-ab5d-2f31e365e101",
   "metadata": {},
   "outputs": [],
   "source": [
    "wrapped = AdAnWrapper(ad_an, name=\"Subject01\", sn=\"SN123\", dose=\"10mg\")"
   ]
  },
  {
   "cell_type": "code",
   "execution_count": 36,
   "id": "92a6a171-a88c-4c6f-8ef5-cd648cae2ce5",
   "metadata": {},
   "outputs": [
    {
     "name": "stdout",
     "output_type": "stream",
     "text": [
      "🧠 Last dvt entry: 0.4\n",
      "📏 Length of dvt: 4\n",
      "🧬 Metadata: Subject01 SN123 10mg\n"
     ]
    }
   ],
   "source": [
    "print(\"🧠 Last dvt entry:\", wrapped.last_dvt_entry())\n",
    "print(\"📏 Length of dvt:\", wrapped.dvt_length())\n",
    "print(\"🧬 Metadata:\", wrapped.name, wrapped.sn, wrapped.dose)"
   ]
  },
  {
   "cell_type": "code",
   "execution_count": 41,
   "id": "3c76a84c-3683-43fe-99b2-01a24467886a",
   "metadata": {},
   "outputs": [
    {
     "data": {
      "text/plain": [
       "'10mg'"
      ]
     },
     "execution_count": 41,
     "metadata": {},
     "output_type": "execute_result"
    }
   ],
   "source": [
    "wrapped.dose\n",
    "\n"
   ]
  },
  {
   "cell_type": "code",
   "execution_count": null,
   "id": "83b83d55-e794-4497-9b06-fdae148362c2",
   "metadata": {},
   "outputs": [],
   "source": []
  },
  {
   "cell_type": "code",
   "execution_count": null,
   "id": "1862edbf-c9f0-46bc-9c92-c8e9b07b35bd",
   "metadata": {},
   "outputs": [],
   "source": []
  },
  {
   "cell_type": "code",
   "execution_count": null,
   "id": "1c52e94c-6fe5-4d0b-8e5c-7bd3e8b5cf74",
   "metadata": {},
   "outputs": [],
   "source": []
  }
 ],
 "metadata": {
  "kernelspec": {
   "display_name": "Python (scu)",
   "language": "python",
   "name": "scu"
  },
  "language_info": {
   "codemirror_mode": {
    "name": "ipython",
    "version": 3
   },
   "file_extension": ".py",
   "mimetype": "text/x-python",
   "name": "python",
   "nbconvert_exporter": "python",
   "pygments_lexer": "ipython3",
   "version": "3.11.13"
  }
 },
 "nbformat": 4,
 "nbformat_minor": 5
}
