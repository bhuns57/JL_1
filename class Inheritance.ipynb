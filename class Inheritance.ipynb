{
 "cells": [
  {
   "cell_type": "code",
   "execution_count": null,
   "id": "cd81f73b-1169-461f-9d94-75e1cfb800b9",
   "metadata": {},
   "outputs": [],
   "source": [
    "# "
   ]
  },
  {
   "cell_type": "markdown",
   "id": "cc48da6f-03bf-4c8c-877b-f7786700cea4",
   "metadata": {},
   "source": [
    "****\n",
    "1. ***buils class system links in reverse order***\n",
    "2. *https://copilot.microsoft.com/shares/YZwoHgYtMtPo9mySMxHQL*\n",
    "3. *https://copilot.microsoft.com/shares/dgoHQbZaYRVMaC7teBiqX*\n",
    "4. *https://copilot.microsoft.com/shares/qASaQdp29maniC2mDnY4h*\n",
    "5. *https://copilot.microsoft.com/shares/qASaQdp29maniC2mDnY4h*\n",
    "6. *https://copilot.microsoft.com/shares/vnTrfzUidrguteQgZuSNU*\n",
    "7. *https://copilot.microsoft.com/shares/TWNAfv6ubx8z2bAiLA8oX*\n",
    "8. *https://copilot.microsoft.com/shares/TWNAfv6ubx8z2bAiLA8oX*\n",
    "9. *https://copilot.microsoft.com/shares/TWNAfv6ubx8z2bAiLA8oX*\n",
    "10. *https://copilot.microsoft.com/shares/reShWjrM9yt9Hgu1HNVk7*\n",
    "11. *https://copilot.microsoft.com/shares/HAtG3uKHezAPpYNWdwZBv*"
   ]
  },
  {
   "cell_type": "markdown",
   "id": "d70f9838-ceb1-438a-85f6-30f8a0eb4ca8",
   "metadata": {},
   "source": [
    "**Function Registry**\n",
    "1. ***Build a registry to hold and call functions***\n",
    "2. *https://copilot.microsoft.com/shares/VAT6QDNijDghzbWkei5fV*"
   ]
  },
  {
   "cell_type": "markdown",
   "id": "65669fd1-2c29-4d39-a556-8a54ab4532e8",
   "metadata": {},
   "source": [
    "**Function Registry**\n",
    "1. ***Build a registry to hold and call functions***\n",
    "2. *https://copilot.microsoft.com/shares/VAT6QDNijDghzbWkei5fV*"
   ]
  },
  {
   "cell_type": "markdown",
   "id": "34db7c54-cf8c-4773-8996-f8d8bd85210b",
   "metadata": {},
   "source": [
    "**Function Registry**\n",
    "1. ***Build a registry to hold and call functions***\n",
    "2. *https://copilot.microsoft.com/shares/VAT6QDNijDghzbWkei5fV*"
   ]
  },
  {
   "cell_type": "markdown",
   "id": "c485dda9-1a36-4b23-9f7a-84502626b7f2",
   "metadata": {},
   "source": [
    "**Function Registry**\n",
    "1. ***Build a registry to hold and call functions***\n",
    "2. *https://copilot.microsoft.com/shares/VAT6QDNijDghzbWkei5fV*"
   ]
  }
 ],
 "metadata": {
  "kernelspec": {
   "display_name": "Python (scu)",
   "language": "python",
   "name": "scu"
  },
  "language_info": {
   "codemirror_mode": {
    "name": "ipython",
    "version": 3
   },
   "file_extension": ".py",
   "mimetype": "text/x-python",
   "name": "python",
   "nbconvert_exporter": "python",
   "pygments_lexer": "ipython3",
   "version": "3.11.13"
  }
 },
 "nbformat": 4,
 "nbformat_minor": 5
}
