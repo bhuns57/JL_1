{
 "cells": [
  {
   "cell_type": "code",
   "execution_count": null,
   "id": "cd81f73b-1169-461f-9d94-75e1cfb800b9",
   "metadata": {},
   "outputs": [],
   "source": [
    "# "
   ]
  },
  {
   "cell_type": "markdown",
   "id": "cc48da6f-03bf-4c8c-877b-f7786700cea4",
   "metadata": {
    "jp-MarkdownHeadingCollapsed": true
   },
   "source": [
    "# **List of copilot pages on Classes**\n",
    "1. ***buils class system links in reverse order***\n",
    "2. *https://copilot.microsoft.com/shares/YZwoHgYtMtPo9mySMxHQL* ***Inheritance-Based Classification Scaffold***\n",
    "3. *https://copilot.microsoft.com/shares/dgoHQbZaYRVMaC7teBiqX*\n",
    "4. *https://copilot.microsoft.com/shares/qASaQdp29maniC2mDnY4h*\n",
    "5. *https://copilot.microsoft.com/shares/vnTrfzUidrguteQgZuSNU*\n",
    "6. *https://copilot.microsoft.com/shares/TWNAfv6ubx8z2bAiLA8oX*\n",
    "7. *https://copilot.microsoft.com/shares/reShWjrM9yt9Hgu1HNVk7*\n",
    "8. *https://copilot.microsoft.com/shares/HAtG3uKHezAPpYNWdwZBv*\n",
    "9. *https://copilot.microsoft.com/shares/MApX5LfmaD2ipvn65PihY* ***Why Dual Instancing of dat_col Is Safe and Smart***\n",
    "10. *https://copilot.microsoft.com/shares/HSFhgptLeXqQe8MuDp31k* ***When i commt to git and shut down, will I be able to use the class operaters to generate instances when I restart.***\n",
    "11. *https://copilot.microsoft.com/shares/i72SNPPtQBbav6fsu4cT4* ***Here's a restart-ready bootstrap scaffold that wires together your canonical loader, filtering class, and diagnostic overlays. It’s modular, traceable, and operator-friendly—just how you like it.***\n",
    "12. *https://copilot.microsoft.com/shares/JXNEwRKMDoigkwLMymtbd* ***When i commt to git and shut down, will I be able to use the class operaters to generate instances when I restart.***\n",
    "13.  next"
   ]
  },
  {
   "cell_type": "markdown",
   "id": "d70f9838-ceb1-438a-85f6-30f8a0eb4ca8",
   "metadata": {},
   "source": [
    "**Setup the labtop as a clone of my desktop.**\n",
    "1. ***Preparing the laptob and the use git to sychrnise***\n",
    "2. *https://copilot.microsoft.com/shares/q3aDrtDkNPVtV5LMG3eYy*\n",
    "3. *https://copilot.microsoft.com/shares/rpf9DEopemokLhaR4bXsM*"
   ]
  },
  {
   "cell_type": "markdown",
   "id": "65669fd1-2c29-4d39-a556-8a54ab4532e8",
   "metadata": {},
   "source": [
    "**Function Registry**\n",
    "1. ***Build a registry to hold and call functions***\n",
    "2. *https://copilot.microsoft.com/shares/VAT6QDNijDghzbWkei5fV*"
   ]
  },
  {
   "cell_type": "markdown",
   "id": "34db7c54-cf8c-4773-8996-f8d8bd85210b",
   "metadata": {},
   "source": [
    "**Function Registry**\n",
    "1. ***Build a registry to hold and call functions***\n",
    "2. *https://copilot.microsoft.com/shares/VAT6QDNijDghzbWkei5fV*"
   ]
  },
  {
   "cell_type": "markdown",
   "id": "c485dda9-1a36-4b23-9f7a-84502626b7f2",
   "metadata": {},
   "source": [
    "**Function Registry**\n",
    "1. ***Build a registry to hold and call functions***\n",
    "2. *https://copilot.microsoft.com/shares/VAT6QDNijDghzbWkei5fV*"
   ]
  }
 ],
 "metadata": {
  "kernelspec": {
   "display_name": "Python (scu)",
   "language": "python",
   "name": "scu"
  },
  "language_info": {
   "codemirror_mode": {
    "name": "ipython",
    "version": 3
   },
   "file_extension": ".py",
   "mimetype": "text/x-python",
   "name": "python",
   "nbconvert_exporter": "python",
   "pygments_lexer": "ipython3",
   "version": "3.11.13"
  }
 },
 "nbformat": 4,
 "nbformat_minor": 5
}
