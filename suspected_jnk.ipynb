{
 "cells": [
  {
   "cell_type": "raw",
   "id": "08256cf7-1629-4e8f-a741-0cb65d69030a",
   "metadata": {},
   "source": [
    "test\n"
   ]
  },
  {
   "cell_type": "code",
   "execution_count": 22,
   "id": "02beb4c3-3e13-4a14-9687-1247d8a5363e",
   "metadata": {},
   "outputs": [],
   "source": [
    "# load_csv_to_df(filename,index_col=None)\n",
    "# 6.1 *Returns the df with both col hds and a data array for a specified .csv file in xl\n",
    "def load_csv_to_df(filename,index_col=None):           # Reads the filenamne[insures reading accuracy from msc .csv encoders]\n",
    "    # catch and correct coding error introduced by XL\n",
    "    try:\n",
    "        return pd.read_csv(filename, index_col=index_col)\n",
    "    except UnicodeDecodeError:\n",
    "        return pd.read_csv(filename, index_col=index_col, encoding='latin1')"
   ]
  }
 ],
 "metadata": {
  "kernelspec": {
   "display_name": "Python (scu)",
   "language": "python",
   "name": "scu"
  },
  "language_info": {
   "codemirror_mode": {
    "name": "ipython",
    "version": 3
   },
   "file_extension": ".py",
   "mimetype": "text/x-python",
   "name": "python",
   "nbconvert_exporter": "python",
   "pygments_lexer": "ipython3",
   "version": "3.11.13"
  }
 },
 "nbformat": 4,
 "nbformat_minor": 5
}
