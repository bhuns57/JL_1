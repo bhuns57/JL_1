{
 "cells": [
  {
   "cell_type": "code",
   "execution_count": null,
   "id": "945e190b-f467-493c-85dc-cd0f0d339127",
   "metadata": {},
   "outputs": [],
   "source": []
  },
  {
   "cell_type": "code",
   "execution_count": null,
   "id": "2b22ab39-7527-4fa5-a657-641a7fd1b40b",
   "metadata": {
    "scrolled": true
   },
   "outputs": [],
   "source": [
    "# Example: convert a specific column to NumPy array when needed\n",
    "# when assigning a name to the array that is different from the col head name\n",
    "test_list1 = df_dtv_all_snb[\"b006\"].to_numpy()  # these are numpy arrays of one snb\n",
    "test_list2 = df_dtv_all_snb[\"b007\"].to_numpy()\n",
    "print(type(test_list2[0]))\n",
    "print(test_list2.shape)\n",
    "\n",
    "#test_list1 + test_list2 "
   ]
  },
  {
   "cell_type": "code",
   "execution_count": null,
   "id": "64d1b2a1-600a-4ace-ae6f-24771ae4db26",
   "metadata": {},
   "outputs": [],
   "source": [
    "# copilots version \n",
    "# Function Definition to extract a df col to np array\n",
    "def extract_column_as_array(df, col_name, globals_dict=None):\n",
    "    \"\"\"\n",
    "    Extracts a column from a DataFrame and assigns it as a NumPy array\n",
    "    to a variable named after the column header.\n",
    "\n",
    "    Parameters:\n",
    "    - df: pandas.DataFrame\n",
    "    - col_name: str, name of the column to extract\n",
    "    - globals_dict: dict, typically pass globals() to assign in global scope\n",
    "\n",
    "    Returns:\n",
    "    - np.ndarray of the column data\n",
    "    \"\"\"\n",
    "    arr = np.array(df[col_name].tolist())\n",
    "    if globals_dict is not None:\n",
    "        globals_dict[col_name] = arr\n",
    "    return arr\n"
   ]
  },
  {
   "cell_type": "code",
   "execution_count": null,
   "id": "b0b236e0-3d4e-49d3-a385-13d642e71ad9",
   "metadata": {},
   "outputs": [],
   "source": [
    "# Function Definition\n",
    "df = df_dtv_all_snb_hdr  #version with names as hdrs\n",
    "col_name = \"ICW\"\n",
    "col_name = extract_column_as_array(df, col_name) # gives name of col head to array automatically\n",
    "#col_name        # note array name is the col_name"
   ]
  },
  {
   "cell_type": "code",
   "execution_count": null,
   "id": "ccce4e1e-d1ac-487d-9644-747e2897801b",
   "metadata": {
    "scrolled": true
   },
   "outputs": [],
   "source": [
    "pd.read_csv(filename, index_col=index_col)"
   ]
  },
  {
   "cell_type": "code",
   "execution_count": 43,
   "id": "53fa48b4-c7d1-4d19-acc8-d72482ac7237",
   "metadata": {},
   "outputs": [],
   "source": [
    "import pandas as pd\n",
    "import os\n",
    "\n",
    "def load_csv_as_array_dict(filename, index_col=None):\n",
    "    \"\"\"\n",
    "    Loads a CSV file and returns a dictionary with the base filename as key\n",
    "    and the DataFrame's values (as a NumPy array) as value.\n",
    "    \"\"\"\n",
    "    try:\n",
    "        df = pd.read_csv(filename, index_col=index_col)\n",
    "    except UnicodeDecodeError:\n",
    "        df = pd.read_csv(filename, index_col=index_col, encoding='latin1')\n",
    "\n",
    "    df_name = filename_to_df_name(filename)\n",
    "\n",
    "    \n",
    "    # Extract base name without extension for dictionary key\n",
    "    #base_name = os.path.splitext(os.path.basename(filename))[0]\n",
    "    #print(base_name)\n",
    "    \n",
    "    return {df_name: data_dict}\n"
   ]
  },
  {
   "cell_type": "code",
   "execution_count": 37,
   "id": "d3677628-70b4-4c25-ab92-45c3208bfe10",
   "metadata": {
    "scrolled": true
   },
   "outputs": [
    {
     "ename": "NameError",
     "evalue": "name 'data_dict' is not defined",
     "output_type": "error",
     "traceback": [
      "\u001b[31m---------------------------------------------------------------------------\u001b[39m",
      "\u001b[31mNameError\u001b[39m                                 Traceback (most recent call last)",
      "\u001b[36mCell\u001b[39m\u001b[36m \u001b[39m\u001b[32mIn[37]\u001b[39m\u001b[32m, line 13\u001b[39m\n\u001b[32m      7\u001b[39m datadict = load_csv_as_array_dict(filename, index_col=\u001b[38;5;28;01mNone\u001b[39;00m)\n\u001b[32m      8\u001b[39m \u001b[38;5;66;03m######\u001b[39;00m\n\u001b[32m      9\u001b[39m \u001b[38;5;66;03m# Print the dictionary keys\u001b[39;00m\n\u001b[32m     10\u001b[39m \u001b[38;5;66;03m#print(\"Keys:\", data_dict.keys())\u001b[39;00m\n\u001b[32m     11\u001b[39m \u001b[38;5;66;03m######\u001b[39;00m\n\u001b[32m     12\u001b[39m \u001b[38;5;66;03m# Access the NumPy arraydat\u001b[39;00m\n\u001b[32m---> \u001b[39m\u001b[32m13\u001b[39m data_array = data_dict[\u001b[33m\"\u001b[39m\u001b[33mxl_dtv_all_snm_hdr\u001b[39m\u001b[33m\"\u001b[39m]\n\u001b[32m     14\u001b[39m \u001b[38;5;28mprint\u001b[39m(\u001b[33m\"\u001b[39m\u001b[33mArray shape:\u001b[39m\u001b[33m\"\u001b[39m, data_array.shape)\n\u001b[32m     15\u001b[39m \u001b[38;5;28mprint\u001b[39m(\u001b[33m\"\u001b[39m\u001b[33mFirst row:\u001b[39m\u001b[33m\"\u001b[39m, data_array[\u001b[32m0\u001b[39m])\n",
      "\u001b[31mNameError\u001b[39m: name 'data_dict' is not defined"
     ]
    }
   ],
   "source": [
    "# call >>>>>  for This trial of copilot script\n",
    "filename = \"xl_dtv_all_snm_hdr.csv\" \n",
    "\n",
    "# calc df_name to be used to name the arry via the dictionary\n",
    "df_name = filename_to_df_name(filename)\n",
    "\n",
    "datadict = load_csv_as_array_dict(filename, index_col=None)\n",
    "######\n",
    "# Print the dictionary keys\n",
    "#print(\"Keys:\", data_dict.keys())\n",
    "######\n",
    "# Access the NumPy arraydat\n",
    "data_array = data_dict[\"xl_dtv_all_snm_hdr\"]\n",
    "print(\"Array shape:\", data_array.shape)\n",
    "print(\"First row:\", data_array[0])"
   ]
  },
  {
   "cell_type": "code",
   "execution_count": 38,
   "id": "3f5f1b4c-c258-430a-bf70-e8551e4d2d5b",
   "metadata": {},
   "outputs": [
    {
     "ename": "NameError",
     "evalue": "name 'data_dict' is not defined",
     "output_type": "error",
     "traceback": [
      "\u001b[31m---------------------------------------------------------------------------\u001b[39m",
      "\u001b[31mNameError\u001b[39m                                 Traceback (most recent call last)",
      "\u001b[36mCell\u001b[39m\u001b[36m \u001b[39m\u001b[32mIn[38]\u001b[39m\u001b[32m, line 2\u001b[39m\n\u001b[32m      1\u001b[39m \u001b[38;5;66;03m# Access the NumPy array\u001b[39;00m\n\u001b[32m----> \u001b[39m\u001b[32m2\u001b[39m data_array = data_dict[\u001b[33m\"\u001b[39m\u001b[33mxl_dtv_all_snm_hdr\u001b[39m\u001b[33m\"\u001b[39m]\n\u001b[32m      3\u001b[39m \u001b[38;5;28mprint\u001b[39m(\u001b[33m\"\u001b[39m\u001b[33mArray shape:\u001b[39m\u001b[33m\"\u001b[39m, data_array.shape)\n\u001b[32m      4\u001b[39m \u001b[38;5;28mprint\u001b[39m(\u001b[33m\"\u001b[39m\u001b[33mFirst row:\u001b[39m\u001b[33m\"\u001b[39m, data_array[\u001b[32m0\u001b[39m])\n",
      "\u001b[31mNameError\u001b[39m: name 'data_dict' is not defined"
     ]
    }
   ],
   "source": [
    "# Access the NumPy array\n",
    "data_array = data_dict[\"xl_dtv_all_snm_hdr\"]\n",
    "print(\"Array shape:\", data_array.shape)\n",
    "print(\"First row:\", data_array[0])"
   ]
  },
  {
   "cell_type": "markdown",
   "id": "66000642-a21f-43e2-be78-07a2c3cecad4",
   "metadata": {},
   "source": [
    "###### 6.5 combines the ***calls*** *above and returns a* ***dict {dc}*** *named* ***df_name*** *that has*  ***col_names: data arrray*** "
   ]
  },
  {
   "cell_type": "code",
   "execution_count": null,
   "id": "d4a0c020-78ed-407c-8bd0-5d77a1802ee3",
   "metadata": {},
   "outputs": [],
   "source": [
    "# def imprt(filename)\n",
    "# 6.5 combines the calls above and returns a dict {dc} named df_name that has col_names: data arrray\n",
    "def imprt(filename):\n",
    "    load_csv_to_df(filename, index_col=None)\n",
    "    filename_to_df_name(filename)\n",
    "    dc_dict(filename)\n",
    "    return \n"
   ]
  }
 ],
 "metadata": {
  "kernelspec": {
   "display_name": "Python (scu)",
   "language": "python",
   "name": "scu"
  },
  "language_info": {
   "codemirror_mode": {
    "name": "ipython",
    "version": 3
   },
   "file_extension": ".py",
   "mimetype": "text/x-python",
   "name": "python",
   "nbconvert_exporter": "python",
   "pygments_lexer": "ipython3",
   "version": "3.11.13"
  }
 },
 "nbformat": 4,
 "nbformat_minor": 5
}
