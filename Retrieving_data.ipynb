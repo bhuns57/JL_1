{
 "cells": [
  {
   "cell_type": "code",
   "execution_count": 74,
   "id": "81cf2498-76a9-4397-b5bb-7d47031f7dba",
   "metadata": {},
   "outputs": [],
   "source": [
    "from pathlib import Path\n",
    "import pandas as pd\n",
    "import os\n",
    "\n",
    "def load_dataframes_from_folder(folder_path, extension=\".csv\", encoding=\"utf-8\", use_full_path=False):\n",
    "    \"\"\"\n",
    "    Recursively loads all files with the given extension from a folder into pandas DataFrames.\n",
    "\n",
    "    Args:\n",
    "        folder_path (str): Windows-style path to the folder.\n",
    "        extension (str): File extension to search for (e.g., \".csv\", \".txt\").\n",
    "        encoding (str): Encoding used to read the files.\n",
    "        use_full_path (bool): If True, keys will be full paths; otherwise, just filenames.\n",
    "\n",
    "    Returns:\n",
    "        dict: Dictionary of DataFrames keyed by filename or full path.\n",
    "    \"\"\"\n",
    "    # Convert Windows path to WSL format if needed\n",
    "    if os.name != \"nt\":  # If running in WSL/Linux\n",
    "        folder_path = folder_path.replace(\"\\\\\", \"/\")\n",
    "        if folder_path.startswith(\"/mnt/\") is False:\n",
    "            drive_letter = folder_path[0].lower()\n",
    "            folder_path = f\"/mnt/{drive_letter}{folder_path[2:]}\"\n",
    "    \n",
    "    folder = Path(folder_path)\n",
    "\n",
    "    # Recursively find all matching files\n",
    "    files = list(folder.rglob(f\"*{extension}\"))\n",
    "\n",
    "    if not files:\n",
    "        print(f\"⚠️ No files with extension '{extension}' found in {folder_path}\")\n",
    "        return {}\n",
    "\n",
    "    # Load each file into a DataFrame\n",
    "    dataframes = {}\n",
    "    for file in files:\n",
    "        try:\n",
    "            df = pd.read_csv(file, encoding=encoding) if extension == \".csv\" else pd.read_table(file, encoding=encoding)\n",
    "            key = str(file) if use_full_path else file.name\n",
    "            dataframes[key] = df\n",
    "        except Exception as e:\n",
    "            print(f\"❌ Failed to load {file}: {e}\")\n",
    "\n",
    "    return dataframes\n"
   ]
  },
  {
   "cell_type": "raw",
   "id": "d9a7a197-e917-4f7a-abfd-f055ae38ab2e",
   "metadata": {},
   "source": [
    "from sys_funcs import load_dataframes_from_folder\n",
    "\n",
    "folder = \"C:\\\\Users\\\\bhuns\\\\OneDrive\\\\Documents\\\\Evernote\\\\73349577\\\\external-edits\"\n",
    "dfs = load_dataframes_from_folder(folder, extension=\".csv\")\n"
   ]
  },
  {
   "cell_type": "raw",
   "id": "de16c81d-bf3c-4df1-b2ef-6d0bf71abe3b",
   "metadata": {},
   "source": [
    "folder = \"C:\\\\Users\\\\bhuns\\\\OneDrive\\\\Documents\\\\Evernote\\\\73349577\\\\external-edits\"\n",
    "dfs = load_dataframes_from_folder(folder, extension=\".csv\")\n"
   ]
  },
  {
   "cell_type": "code",
   "execution_count": 75,
   "id": "9d9313bc-bf1d-4371-a179-a811e22e2dfa",
   "metadata": {},
   "outputs": [
    {
     "name": "stdout",
     "output_type": "stream",
     "text": [
      "❌ Failed to load /mnt/c/Users/bhuns/OneDrive/___Health Data/__DD studies/InBody CSV/ib97/091725-1_20250918074512.csv: 'utf-8' codec can't decode byte 0xb2 in position 15: invalid start byte\n",
      "❌ Failed to load /mnt/c/Users/bhuns/OneDrive/___Health Data/__DD studies/InBody CSV/ib97/091725-1_20250918080917.csv: 'utf-8' codec can't decode byte 0xb2 in position 15: invalid start byte\n",
      "❌ Failed to load /mnt/c/Users/bhuns/OneDrive/___Health Data/__DD studies/InBody CSV/ib97/091725-1_20250918224425.csv: 'utf-8' codec can't decode byte 0xb2 in position 15: invalid start byte\n",
      "❌ Failed to load /mnt/c/Users/bhuns/OneDrive/___Health Data/__DD studies/InBody CSV/ib97/091725-1_20250919065043.csv: 'utf-8' codec can't decode byte 0xb2 in position 15: invalid start byte\n",
      "❌ Failed to load /mnt/c/Users/bhuns/OneDrive/___Health Data/__DD studies/InBody CSV/ib97/091725-1_20250922081410.csv: 'utf-8' codec can't decode byte 0xb2 in position 15: invalid start byte\n",
      "❌ Failed to load /mnt/c/Users/bhuns/OneDrive/___Health Data/__DD studies/InBody CSV/ib97/091725-1_20250923075549.csv: 'utf-8' codec can't decode byte 0xb2 in position 15: invalid start byte\n",
      "❌ Failed to load /mnt/c/Users/bhuns/OneDrive/___Health Data/__DD studies/InBody CSV/ib97/091725-1_20250923214603.csv: 'utf-8' codec can't decode byte 0xb2 in position 15: invalid start byte\n",
      "❌ Failed to load /mnt/c/Users/bhuns/OneDrive/___Health Data/__DD studies/InBody CSV/ib97/091725-1_20250924080305.csv: 'utf-8' codec can't decode byte 0xb2 in position 15: invalid start byte\n",
      "❌ Failed to load /mnt/c/Users/bhuns/OneDrive/___Health Data/__DD studies/InBody CSV/ib97/091725-1_20250925074906.csv: 'utf-8' codec can't decode byte 0xb2 in position 15: invalid start byte\n",
      "❌ Failed to load /mnt/c/Users/bhuns/OneDrive/___Health Data/__DD studies/InBody CSV/ib97/091725-1_20250926064349.csv: 'utf-8' codec can't decode byte 0xb2 in position 15: invalid start byte\n",
      "❌ Failed to load /mnt/c/Users/bhuns/OneDrive/___Health Data/__DD studies/InBody CSV/ib97/091725-1_20250927081713.csv: 'utf-8' codec can't decode byte 0xb2 in position 15: invalid start byte\n",
      "❌ Failed to load /mnt/c/Users/bhuns/OneDrive/___Health Data/__DD studies/InBody CSV/ib97/091725-1_20250928083406.csv: 'utf-8' codec can't decode byte 0xb2 in position 15: invalid start byte\n",
      "❌ Failed to load /mnt/c/Users/bhuns/OneDrive/___Health Data/__DD studies/InBody CSV/ib97/091725-1_20250928235640.csv: 'utf-8' codec can't decode byte 0xb2 in position 15: invalid start byte\n",
      "❌ Failed to load /mnt/c/Users/bhuns/OneDrive/___Health Data/__DD studies/InBody CSV/ib97/091725-1_20250929081741.csv: 'utf-8' codec can't decode byte 0xb2 in position 15: invalid start byte\n",
      "❌ Failed to load /mnt/c/Users/bhuns/OneDrive/___Health Data/__DD studies/InBody CSV/ib97/091725-1_20250930065147.csv: 'utf-8' codec can't decode byte 0xb2 in position 15: invalid start byte\n",
      "❌ Failed to load /mnt/c/Users/bhuns/OneDrive/___Health Data/__DD studies/InBody CSV/ib97/091725-1_20251001075307.csv: 'utf-8' codec can't decode byte 0xb2 in position 15: invalid start byte\n",
      "❌ Failed to load /mnt/c/Users/bhuns/OneDrive/___Health Data/__DD studies/InBody CSV/ib97/091725-1_20251002001738.csv: 'utf-8' codec can't decode byte 0xb2 in position 15: invalid start byte\n",
      "❌ Failed to load /mnt/c/Users/bhuns/OneDrive/___Health Data/__DD studies/InBody CSV/ib97/091725-1_20251002065435.csv: 'utf-8' codec can't decode byte 0xb2 in position 15: invalid start byte\n",
      "❌ Failed to load /mnt/c/Users/bhuns/OneDrive/___Health Data/__DD studies/InBody CSV/ib97/091725-1_20251002224015.csv: 'utf-8' codec can't decode byte 0xb2 in position 15: invalid start byte\n",
      "❌ Failed to load /mnt/c/Users/bhuns/OneDrive/___Health Data/__DD studies/InBody CSV/ib97/091725-1_20251003083258.csv: 'utf-8' codec can't decode byte 0xb2 in position 15: invalid start byte\n",
      "❌ Failed to load /mnt/c/Users/bhuns/OneDrive/___Health Data/__DD studies/InBody CSV/ib97/091725-1_20251003224158.csv: 'utf-8' codec can't decode byte 0xb2 in position 15: invalid start byte\n",
      "❌ Failed to load /mnt/c/Users/bhuns/OneDrive/___Health Data/__DD studies/InBody CSV/ib97/091725-1_20251005071928.csv: 'utf-8' codec can't decode byte 0xb2 in position 15: invalid start byte\n",
      "❌ Failed to load /mnt/c/Users/bhuns/OneDrive/___Health Data/__DD studies/InBody CSV/ib97/091725-1_20251005220517.csv: 'utf-8' codec can't decode byte 0xb2 in position 15: invalid start byte\n",
      "❌ Failed to load /mnt/c/Users/bhuns/OneDrive/___Health Data/__DD studies/InBody CSV/ib97/091725-1_20251006083510.csv: 'utf-8' codec can't decode byte 0xb2 in position 15: invalid start byte\n",
      "❌ Failed to load /mnt/c/Users/bhuns/OneDrive/___Health Data/__DD studies/InBody CSV/ib97/091725-1_20251006232452.csv: 'utf-8' codec can't decode byte 0xb2 in position 15: invalid start byte\n",
      "❌ Failed to load /mnt/c/Users/bhuns/OneDrive/___Health Data/__DD studies/InBody CSV/ib97/091725-1_20251006233024.csv: 'utf-8' codec can't decode byte 0xb2 in position 15: invalid start byte\n",
      "❌ Failed to load /mnt/c/Users/bhuns/OneDrive/___Health Data/__DD studies/InBody CSV/ib97/091725-1_20251007072308.csv: 'utf-8' codec can't decode byte 0xb2 in position 15: invalid start byte\n",
      "❌ Failed to load /mnt/c/Users/bhuns/OneDrive/___Health Data/__DD studies/InBody CSV/ib97/091725-1_20251007213459.csv: 'utf-8' codec can't decode byte 0xb2 in position 15: invalid start byte\n",
      "❌ Failed to load /mnt/c/Users/bhuns/OneDrive/___Health Data/__DD studies/InBody CSV/ib97/091725-1_20251008083238.csv: 'utf-8' codec can't decode byte 0xb2 in position 15: invalid start byte\n",
      "❌ Failed to load /mnt/c/Users/bhuns/OneDrive/___Health Data/__DD studies/InBody CSV/ib97/091725-1_20251008185201.csv: 'utf-8' codec can't decode byte 0xb2 in position 15: invalid start byte\n",
      "❌ Failed to load /mnt/c/Users/bhuns/OneDrive/___Health Data/__DD studies/InBody CSV/ib97/091725-1_20251009093515.csv: 'utf-8' codec can't decode byte 0xb2 in position 15: invalid start byte\n",
      "❌ Failed to load /mnt/c/Users/bhuns/OneDrive/___Health Data/__DD studies/InBody CSV/ib97/091725-1_20251009232846.csv: 'utf-8' codec can't decode byte 0xb2 in position 15: invalid start byte\n",
      "❌ Failed to load /mnt/c/Users/bhuns/OneDrive/___Health Data/__DD studies/InBody CSV/ib97/091725-1_20251010083048.csv: 'utf-8' codec can't decode byte 0xb2 in position 15: invalid start byte\n",
      "❌ Failed to load /mnt/c/Users/bhuns/OneDrive/___Health Data/__DD studies/InBody CSV/ib97/091725-1_20251010185512.csv: 'utf-8' codec can't decode byte 0xb2 in position 15: invalid start byte\n",
      "❌ Failed to load /mnt/c/Users/bhuns/OneDrive/___Health Data/__DD studies/InBody CSV/ib97/091725-1_20251010233230.csv: 'utf-8' codec can't decode byte 0xb2 in position 15: invalid start byte\n",
      "❌ Failed to load /mnt/c/Users/bhuns/OneDrive/___Health Data/__DD studies/InBody CSV/ib97/091725-1_20251011075416.csv: 'utf-8' codec can't decode byte 0xb2 in position 15: invalid start byte\n",
      "❌ Failed to load /mnt/c/Users/bhuns/OneDrive/___Health Data/__DD studies/InBody CSV/ib97/091725-1_20251011184315.csv: 'utf-8' codec can't decode byte 0xb2 in position 15: invalid start byte\n",
      "❌ Failed to load /mnt/c/Users/bhuns/OneDrive/___Health Data/__DD studies/InBody CSV/ib97/091725_bdailyn_20250922225826.csv: 'utf-8' codec can't decode byte 0xb2 in position 15: invalid start byte\n",
      "❌ Failed to load /mnt/c/Users/bhuns/OneDrive/___Health Data/__DD studies/InBody CSV/ib97/091725_bjh_mrn_20250920074042.csv: 'utf-8' codec can't decode byte 0xb2 in position 15: invalid start byte\n",
      "❌ Failed to load /mnt/c/Users/bhuns/OneDrive/___Health Data/__DD studies/InBody CSV/ib97/091725_n_20250917194220.csv: 'utf-8' codec can't decode byte 0xb2 in position 15: invalid start byte\n",
      "❌ Failed to load /mnt/c/Users/bhuns/OneDrive/___Health Data/__DD studies/InBody CSV/ib97/091725_ym_20250917223242.csv: 'utf-8' codec can't decode byte 0xb2 in position 15: invalid start byte\n",
      "❌ Failed to load /mnt/c/Users/bhuns/OneDrive/___Health Data/__DD studies/InBody CSV/ib97/091825-1_20250918082002.csv: 'utf-8' codec can't decode byte 0xb2 in position 15: invalid start byte\n",
      "❌ Failed to load /mnt/c/Users/bhuns/OneDrive/___Health Data/__DD studies/InBody CSV/ib97/100725-1_20251007091411.csv: 'utf-8' codec can't decode byte 0xb2 in position 15: invalid start byte\n",
      "❌ Failed to load /mnt/c/Users/bhuns/OneDrive/___Health Data/__DD studies/InBody CSV/ib97/bjh_mrn_20251004225918.csv: 'utf-8' codec can't decode byte 0xb2 in position 15: invalid start byte\n",
      "❌ Failed to load /mnt/c/Users/bhuns/OneDrive/___Health Data/__DD studies/InBody CSV/ib97/bjh_mrn_20251006020727.csv: 'utf-8' codec can't decode byte 0xb2 in position 15: invalid start byte\n",
      "❌ Failed to load /mnt/c/Users/bhuns/OneDrive/___Health Data/__DD studies/InBody CSV/ib97/notmrn/ib970.csv: 'utf-8' codec can't decode byte 0xb2 in position 15: invalid start byte\n"
     ]
    }
   ],
   "source": [
    "folder = r\"C:\\Users\\bhuns\\OneDrive\\___Health Data\\__DD studies\\InBody CSV\\ib97\"\n",
    "dfs = load_dataframes_from_folder(folder, extension=\".csv\")\n"
   ]
  },
  {
   "cell_type": "code",
   "execution_count": 76,
   "id": "783b650f-463d-426a-a1d4-d2c2fab6f020",
   "metadata": {},
   "outputs": [
    {
     "ename": "KeyError",
     "evalue": "'506352275 2025.10.06 04.58.44-2025.10.06 08.27.15.csv'",
     "output_type": "error",
     "traceback": [
      "\u001b[31m---------------------------------------------------------------------------\u001b[39m",
      "\u001b[31mKeyError\u001b[39m                                  Traceback (most recent call last)",
      "\u001b[36mCell\u001b[39m\u001b[36m \u001b[39m\u001b[32mIn[76]\u001b[39m\u001b[32m, line 1\u001b[39m\n\u001b[32m----> \u001b[39m\u001b[32m1\u001b[39m dfs[\u001b[33m'\u001b[39m\u001b[33m506352275 2025.10.06 04.58.44-2025.10.06 08.27.15.csv\u001b[39m\u001b[33m'\u001b[39m]\n",
      "\u001b[31mKeyError\u001b[39m: '506352275 2025.10.06 04.58.44-2025.10.06 08.27.15.csv'"
     ]
    }
   ],
   "source": [
    "dfs['506352275 2025.10.06 04.58.44-2025.10.06 08.27.15.csv']"
   ]
  },
  {
   "cell_type": "code",
   "execution_count": 77,
   "id": "3f1992a3-f711-4b98-bebf-62954d7eaa3f",
   "metadata": {},
   "outputs": [
    {
     "data": {
      "text/plain": [
       "{}"
      ]
     },
     "execution_count": 77,
     "metadata": {},
     "output_type": "execute_result"
    }
   ],
   "source": [
    "dfs"
   ]
  },
  {
   "cell_type": "code",
   "execution_count": null,
   "id": "999e0a27-f489-4f91-8ad9-e13413b131ea",
   "metadata": {},
   "outputs": [],
   "source": [
    "def add_serial_to_dfs(dfs):\n",
    "    \"\"\"\n",
    "    Adds a serial number to each entry in a dictionary of DataFrames.\n",
    "\n",
    "    Args:\n",
    "        dfs_dict (dict): Dictionary with keys as filenames and values as DataFrames.\n",
    "\n",
    "    Returns:\n",
    "        dict: Dictionary with keys as filenames and values as dicts containing:\n",
    "              - 'name': original filename\n",
    "              - 'df': the DataFrame\n",
    "              - 'serial': computed index\n",
    "    \"\"\"\n",
    "    enriched = {}\n",
    "    for i, (name, df) in enumerate(dfs.items()):\n",
    "        enriched[name] = {\n",
    "            \"name\": name,\n",
    "            \"df\": df,\n",
    "            \"serial\": i\n",
    "        }\n",
    "    return enriched\n"
   ]
  },
  {
   "cell_type": "code",
   "execution_count": null,
   "id": "11482e0c-bcd0-45de-9cec-7599f3311643",
   "metadata": {},
   "outputs": [],
   "source": [
    "dfs_enriched = add_serial_to_dfs(dfs)"
   ]
  },
  {
   "cell_type": "code",
   "execution_count": null,
   "id": "d7cbd36d-ab9a-4235-9d54-93b0f94fe6ed",
   "metadata": {},
   "outputs": [],
   "source": [
    "df2 = next(d[\"df\"] for d in dfs_enriched.values() if d[\"serial\"] == 2)"
   ]
  },
  {
   "cell_type": "code",
   "execution_count": null,
   "id": "630d0448-7da7-4dcd-b255-9c45296a0017",
   "metadata": {},
   "outputs": [],
   "source": [
    "df2"
   ]
  },
  {
   "cell_type": "code",
   "execution_count": null,
   "id": "d82a32de-4d31-4a6a-b2cb-11e0744b7443",
   "metadata": {},
   "outputs": [],
   "source": [
    "dfs_enriched"
   ]
  },
  {
   "cell_type": "code",
   "execution_count": null,
   "id": "86f25c8f-e441-4005-b76d-0cbd5d38269d",
   "metadata": {},
   "outputs": [],
   "source": [
    "#dfs = load_dataframes_from_folder(folder_path, extension=\".csv\")\n",
    "dfs_enriched = add_serial_to_dfs(dfs)\n",
    "\n",
    "# Access by filename\n",
    "#dfs_enriched[\"data1.csv\"][\"df\"]\n",
    "\n",
    "# Access by serial\n",
    "#df2 = next(d[\"df\"] for d in dfs_enriched.values() if d[\"serial\"] == 2)\n"
   ]
  },
  {
   "cell_type": "code",
   "execution_count": null,
   "id": "00b67e84-a921-4cc9-a104-7610a1756fe4",
   "metadata": {},
   "outputs": [],
   "source": [
    " df2 = next(d[\"df\"] for d in dfs_enriched.values() if d[\"serial\"] == 2)"
   ]
  },
  {
   "cell_type": "code",
   "execution_count": null,
   "id": "df24c9b3-0417-421c-b327-32604dc8d5d4",
   "metadata": {},
   "outputs": [],
   "source": [
    "df2"
   ]
  },
  {
   "cell_type": "code",
   "execution_count": null,
   "id": "d9169a73-6dd8-4b9e-a7f8-050272a4eda4",
   "metadata": {},
   "outputs": [],
   "source": [
    "# Find the entry with serial == 2\n",
    "entry = next(d for d in dfs_enriched.values() if d[\"serial\"] == 2)\n",
    "\n",
    "# Get the name\n",
    "name_of_df2 = entry[\"name\"]\n",
    "print(name_of_df2)\n"
   ]
  },
  {
   "cell_type": "code",
   "execution_count": null,
   "id": "25ade28f-a87b-460a-a2e0-0d89dfdaebc8",
   "metadata": {},
   "outputs": [],
   "source": [
    "dfs[\"506352275 2025.10.10 16.44.27-2025.10.10 18.46.13.csv\"]"
   ]
  },
  {
   "cell_type": "code",
   "execution_count": null,
   "id": "6f3b7d00-b34d-471c-9016-c81691c4d2f9",
   "metadata": {},
   "outputs": [],
   "source": []
  },
  {
   "cell_type": "code",
   "execution_count": null,
   "id": "d09bd464-c97c-4399-bd34-f18ecb0b1325",
   "metadata": {},
   "outputs": [],
   "source": []
  },
  {
   "cell_type": "code",
   "execution_count": null,
   "id": "6c704747-005f-4261-9b10-50b9258be7b6",
   "metadata": {},
   "outputs": [],
   "source": []
  },
  {
   "cell_type": "code",
   "execution_count": null,
   "id": "4ec9c004-40f4-47e0-b871-f5cf8ff1a76d",
   "metadata": {},
   "outputs": [],
   "source": []
  }
 ],
 "metadata": {
  "kernelspec": {
   "display_name": "Python (scu)",
   "language": "python",
   "name": "scu"
  },
  "language_info": {
   "codemirror_mode": {
    "name": "ipython",
    "version": 3
   },
   "file_extension": ".py",
   "mimetype": "text/x-python",
   "name": "python",
   "nbconvert_exporter": "python",
   "pygments_lexer": "ipython3",
   "version": "3.11.13"
  }
 },
 "nbformat": 4,
 "nbformat_minor": 5
}
