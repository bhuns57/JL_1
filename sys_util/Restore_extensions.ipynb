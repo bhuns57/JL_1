{
 "cells": [
  {
   "cell_type": "code",
   "execution_count": null,
   "id": "6dfc6836-515b-414a-a8eb-ceef46daa905",
   "metadata": {},
   "outputs": [],
   "source": [
    "import subprocess\n",
    "import os\n",
    "\n",
    "def rebuild_jupyterlab():\n",
    "    config_path = os.path.expanduser(\"~/.jupyter/lab/settings/build_config.json\")\n",
    "    \n",
    "    if os.path.exists(config_path):\n",
    "        print(f\"🔄 Removing stale build config: {config_path}\")\n",
    "        os.remove(config_path)\n",
    "    else:\n",
    "        print(\"✅ No build config found—ready to rebuild\")\n",
    "\n",
    "    print(\"🔧 Cleaning JupyterLab environment...\")\n",
    "    subprocess.run([\"jupyter\", \"lab\", \"clean\", \"--all\"])\n",
    "\n",
    "    print(\"🧱 Rebuilding JupyterLab...\")\n",
    "    subprocess.run([\"jupyter\", \"lab\", \"build\"])\n",
    "\n",
    "    print(\"🚀 Restart JupyterLab and check sidebar extensions!\")\n",
    "\n",
    "rebuild_jupyterlab()\n"
   ]
  },
  {
   "cell_type": "code",
   "execution_count": null,
   "id": "58790c1f-89f4-4693-ad5d-53672f2d0c84",
   "metadata": {},
   "outputs": [],
   "source": []
  }
 ],
 "metadata": {
  "kernelspec": {
   "display_name": "Python (scu)",
   "language": "python",
   "name": "scu"
  },
  "language_info": {
   "codemirror_mode": {
    "name": "ipython",
    "version": 3
   },
   "file_extension": ".py",
   "mimetype": "text/x-python",
   "name": "python",
   "nbconvert_exporter": "python",
   "pygments_lexer": "ipython3",
   "version": "3.11.13"
  }
 },
 "nbformat": 4,
 "nbformat_minor": 5
}
