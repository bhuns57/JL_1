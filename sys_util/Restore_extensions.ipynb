{
 "cells": [
  {
   "cell_type": "code",
   "execution_count": 1,
   "id": "6dfc6836-515b-414a-a8eb-ceef46daa905",
   "metadata": {},
   "outputs": [
    {
     "name": "stdout",
     "output_type": "stream",
     "text": [
      "✅ No build config found—ready to rebuild\n",
      "🔧 Cleaning JupyterLab environment...\n"
     ]
    },
    {
     "name": "stderr",
     "output_type": "stream",
     "text": [
      "[LabCleanApp] Cleaning /home/bhuns/miniconda3/envs/scu/share/jupyter/lab...\n",
      "[LabCleanApp] Removing everything in /home/bhuns/miniconda3/envs/scu/share/jupyter/lab...\n",
      "[LabCleanApp] Success!\n",
      "[LabCleanApp] All of your extensions have been removed, and will need to be reinstalled\n"
     ]
    },
    {
     "name": "stdout",
     "output_type": "stream",
     "text": [
      "🧱 Rebuilding JupyterLab...\n"
     ]
    },
    {
     "name": "stderr",
     "output_type": "stream",
     "text": [
      "[LabBuildApp] JupyterLab 4.3.4\n",
      "[LabBuildApp] Building in /home/bhuns/miniconda3/envs/scu/share/jupyter/lab\n",
      "[LabBuildApp] Building jupyterlab assets (production, minimized)\n"
     ]
    },
    {
     "name": "stdout",
     "output_type": "stream",
     "text": [
      "🚀 Restart JupyterLab and check sidebar extensions!\n"
     ]
    }
   ],
   "source": [
    "import subprocess\n",
    "import os\n",
    "\n",
    "def rebuild_jupyterlab():\n",
    "    config_path = os.path.expanduser(\"~/.jupyter/lab/settings/build_config.json\")\n",
    "    \n",
    "    if os.path.exists(config_path):\n",
    "        print(f\"🔄 Removing stale build config: {config_path}\")\n",
    "        os.remove(config_path)\n",
    "    else:\n",
    "        print(\"✅ No build config found—ready to rebuild\")\n",
    "\n",
    "    print(\"🔧 Cleaning JupyterLab environment...\")\n",
    "    subprocess.run([\"jupyter\", \"lab\", \"clean\", \"--all\"])\n",
    "\n",
    "    print(\"🧱 Rebuilding JupyterLab...\")\n",
    "    subprocess.run([\"jupyter\", \"lab\", \"build\"])\n",
    "\n",
    "    print(\"🚀 Restart JupyterLab and check sidebar extensions!\")\n",
    "\n",
    "rebuild_jupyterlab()\n"
   ]
  },
  {
   "cell_type": "code",
   "execution_count": null,
   "id": "58790c1f-89f4-4693-ad5d-53672f2d0c84",
   "metadata": {},
   "outputs": [],
   "source": []
  }
 ],
 "metadata": {
  "kernelspec": {
   "display_name": "Python (scu)",
   "language": "python",
   "name": "scu"
  },
  "language_info": {
   "codemirror_mode": {
    "name": "ipython",
    "version": 3
   },
   "file_extension": ".py",
   "mimetype": "text/x-python",
   "name": "python",
   "nbconvert_exporter": "python",
   "pygments_lexer": "ipython3",
   "version": "3.11.13"
  }
 },
 "nbformat": 4,
 "nbformat_minor": 5
}
