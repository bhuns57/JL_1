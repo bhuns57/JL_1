{
 "cells": [
  {
   "cell_type": "markdown",
   "id": "77375428-8790-467f-bc1e-716f0ca10351",
   "metadata": {
    "jp-MarkdownHeadingCollapsed": true
   },
   "source": [
    "# ***Use these if you have problems importing .py from utilities***"
   ]
  },
  {
   "cell_type": "code",
   "execution_count": 1,
   "id": "e1b658ab-c5d0-4179-bc4a-61ac5a303476",
   "metadata": {},
   "outputs": [
    {
     "name": "stdout",
     "output_type": "stream",
     "text": [
      "✅ Found: ipywidgets\n",
      "✅ Found: IPython\n",
      "✅ Found: F_my_utils\n"
     ]
    }
   ],
   "source": [
    "import importlib.util\n",
    "import subprocess\n",
    "\n",
    "#THIS USED TO GET importlib AND importlib TO WORK\n",
    "\n",
    "def check_package(pkg):\n",
    "    if importlib.util.find_spec(pkg) is None:\n",
    "        print(f\"⚠️ Missing: {pkg} — Installing...\")\n",
    "        subprocess.run([\"pip\", \"install\", pkg])\n",
    "    else:\n",
    "        print(f\"✅ Found: {pkg}\")\n",
    "\n",
    "# Check core packages\n",
    "check_package(\"ipywidgets\")\n",
    "check_package(\"IPython\")\n",
    "\n",
    "# Optional: Check your custom module\n",
    "try:\n",
    "    import F_my_utils\n",
    "    print(\"✅ Found: F_my_utils\")\n",
    "except ModuleNotFoundError:\n",
    "    print(\"⚠️ Custom module F_my_utils not found\")\n"
   ]
  },
  {
   "cell_type": "code",
   "execution_count": null,
   "id": "85c0aebf-4821-409f-85a1-edb7250a28d8",
   "metadata": {},
   "outputs": [],
   "source": [
    "import importlib\n",
    "import ipywidgets as widgets\n",
    "from IPython.display import display\n",
    "\n",
    "# Dynamically import your module\n",
    "my_module = importlib.import_module(\"F_my_utils\")\n",
    "\n",
    "# Create the button and label\n",
    "button = widgets.Button(description=\"Load_frm_xl\")\n",
    "output = widgets.Output()\n",
    "\n",
    "# Callback to run function when clicked\n",
    "def on_button_clicked(b):\n",
    "    with output:\n",
    "        output.clear_output()\n",
    "        result = my_module.greet_user(\"Bill\")\n",
    "        print(result)\n",
    "\n",
    "button.on_click(on_button_clicked)\n",
    "\n",
    "# Display the widgets\n",
    "display(widgets.VBox([button, output]))\n"
   ]
  },
  {
   "cell_type": "code",
   "execution_count": null,
   "id": "ce5c6dde-a051-4183-a16d-34915e008398",
   "metadata": {},
   "outputs": [],
   "source": []
  }
 ],
 "metadata": {
  "kernelspec": {
   "display_name": "Python (scu)",
   "language": "python",
   "name": "scu"
  },
  "language_info": {
   "codemirror_mode": {
    "name": "ipython",
    "version": 3
   },
   "file_extension": ".py",
   "mimetype": "text/x-python",
   "name": "python",
   "nbconvert_exporter": "python",
   "pygments_lexer": "ipython3",
   "version": "3.11.13"
  }
 },
 "nbformat": 4,
 "nbformat_minor": 5
}
