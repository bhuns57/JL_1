{
 "cells": [
  {
   "cell_type": "markdown",
   "id": "c666ff49-e4fe-4ed4-bb68-3d84652ddc77",
   "metadata": {},
   "source": [
    "# Return updates by reversing the function call order"
   ]
  },
  {
   "cell_type": "markdown",
   "id": "32fe0272-edcf-42cb-ab64-f10dfe678784",
   "metadata": {},
   "source": [
    "## array to file"
   ]
  },
  {
   "cell_type": "markdown",
   "id": "6987fb89-5ee7-46b5-a485-b8dc2f2f1ee4",
   "metadata": {},
   "source": [
    "## row-dict to array"
   ]
  },
  {
   "cell_type": "markdown",
   "id": "93e0e50e-ada8-4225-a2e0-f4ec508c22e5",
   "metadata": {},
   "source": [
    "## ldr_dict to row-dict "
   ]
  },
  {
   "cell_type": "code",
   "execution_count": null,
   "id": "8e3bedad-a0af-4103-b293-663b47ffe8d0",
   "metadata": {},
   "outputs": [],
   "source": []
  },
  {
   "cell_type": "code",
   "execution_count": 2,
   "id": "3544712f-7589-4afd-a7c0-4ec05c47eea5",
   "metadata": {},
   "outputs": [],
   "source": [
    "def row_dict_to_array(row_dict):\n",
    "    \"\"\"Converts a dict of rows indexed by the first column back into a 2D array.\"\"\"\n",
    "    if not row_dict:\n",
    "        raise ValueError(\"Empty or malforced row_dict\")\n",
    "\n",
    "    # Extract headers from the first row\n",
    "    first_key = next(iter(row_dict))\n",
    "    headers = list(row_dict[first_key].keys())\n",
    "\n",
    "    # Build the array: first row is headers with placeholder for first column\n",
    "    array = [[\"dtv\"] + headers]\n",
    "\n",
    "    # Sort keys for reproducibility\n",
    "    for key in sorted(row_dict):\n",
    "        row = [key] + [row_dict[key].get(header, \"\") for header in headers]\n",
    "        array.append(row)\n",
    "\n",
    "    return array\n"
   ]
  },
  {
   "cell_type": "code",
   "execution_count": 3,
   "id": "681052ae-23f4-4ef0-9ddd-40f9cc53906d",
   "metadata": {},
   "outputs": [
    {
     "ename": "NameError",
     "evalue": "name 'array_to_row_dict_by_first_col' is not defined",
     "output_type": "error",
     "traceback": [
      "\u001b[31m---------------------------------------------------------------------------\u001b[39m",
      "\u001b[31mNameError\u001b[39m                                 Traceback (most recent call last)",
      "\u001b[36mCell\u001b[39m\u001b[36m \u001b[39m\u001b[32mIn[3]\u001b[39m\u001b[32m, line 7\u001b[39m\n\u001b[32m      1\u001b[39m original_array = [\n\u001b[32m      2\u001b[39m     [\u001b[33m\"\u001b[39m\u001b[33mdtv\u001b[39m\u001b[33m\"\u001b[39m, \u001b[33m\"\u001b[39m\u001b[33mname\u001b[39m\u001b[33m\"\u001b[39m, \u001b[33m\"\u001b[39m\u001b[33mscore\u001b[39m\u001b[33m\"\u001b[39m],\n\u001b[32m      3\u001b[39m     [\u001b[32m45856\u001b[39m, \u001b[33m\"\u001b[39m\u001b[33mAlice\u001b[39m\u001b[33m\"\u001b[39m, \u001b[32m92\u001b[39m],\n\u001b[32m      4\u001b[39m     [\u001b[32m45857\u001b[39m, \u001b[33m\"\u001b[39m\u001b[33mBob\u001b[39m\u001b[33m\"\u001b[39m, \u001b[32m88\u001b[39m]\n\u001b[32m      5\u001b[39m ]\n\u001b[32m----> \u001b[39m\u001b[32m7\u001b[39m row_dict = array_to_row_dict_by_first_col(original_array)\n\u001b[32m      8\u001b[39m updated_array = row_dict_to_array(row_dict)\n",
      "\u001b[31mNameError\u001b[39m: name 'array_to_row_dict_by_first_col' is not defined"
     ]
    }
   ],
   "source": [
    "original_array = [\n",
    "    [\"dtv\", \"name\", \"score\"],\n",
    "    [45856, \"Alice\", 92],\n",
    "    [45857, \"Bob\", 88]\n",
    "]\n",
    "\n",
    "row_dict = array_to_row_dict_by_first_col(original_array)\n",
    "updated_array = row_dict_to_array(row_dict)\n"
   ]
  },
  {
   "cell_type": "code",
   "execution_count": null,
   "id": "04c318cd-5d08-4c24-a62a-78bdadb0e2bf",
   "metadata": {},
   "outputs": [],
   "source": []
  }
 ],
 "metadata": {
  "kernelspec": {
   "display_name": "Python (scu)",
   "language": "python",
   "name": "scu"
  },
  "language_info": {
   "codemirror_mode": {
    "name": "ipython",
    "version": 3
   },
   "file_extension": ".py",
   "mimetype": "text/x-python",
   "name": "python",
   "nbconvert_exporter": "python",
   "pygments_lexer": "ipython3",
   "version": "3.11.13"
  }
 },
 "nbformat": 4,
 "nbformat_minor": 5
}
