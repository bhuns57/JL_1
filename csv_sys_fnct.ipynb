{
 "cells": [
  {
   "cell_type": "markdown",
   "id": "57b0dab4-2b98-4a1f-9664-17f86e400b2f",
   "metadata": {},
   "source": [
    "# Developing the format, strategy and nomenclature"
   ]
  },
  {
   "cell_type": "markdown",
   "id": "b2c659f1-5c28-469c-aefe-3b8d4d6eb513",
   "metadata": {},
   "source": [
    "## How to read the main data dictionary \" ***dict_dt_clms***\n",
    "    **entry = dict_dt_clms[\"n\" _of the attribute to be read]**\n",
    "    **print(f\"name: {entry['keyx']}, Data: {entry['ds']}, Type: {entry['dtype']}\")**\n"
   ]
  },
  {
   "cell_type": "markdown",
   "id": "a12ef035-efcb-4162-ba47-970775f5d6c8",
   "metadata": {},
   "source": [
    "# Modify the copilot model to meet the specified requirements"
   ]
  },
  {
   "cell_type": "markdown",
   "id": "9ab387cb-30ed-41b9-8527-acd5c966c261",
   "metadata": {},
   "source": [
    "## step 2 : Modifying an example from copilot"
   ]
  },
  {
   "cell_type": "code",
   "execution_count": 2,
   "id": "f4f6ca75-8de0-4303-8a5a-357c6d1bdeb7",
   "metadata": {},
   "outputs": [
    {
     "ename": "NameError",
     "evalue": "name 'pd' is not defined",
     "output_type": "error",
     "traceback": [
      "\u001b[31m---------------------------------------------------------------------------\u001b[39m",
      "\u001b[31mNameError\u001b[39m                                 Traceback (most recent call last)",
      "\u001b[36mCell\u001b[39m\u001b[36m \u001b[39m\u001b[32mIn[2]\u001b[39m\u001b[32m, line 4\u001b[39m\n\u001b[32m      2\u001b[39m file_path = \u001b[33m\"\u001b[39m\u001b[33mmrn_mstr_8_04.csv\u001b[39m\u001b[33m\"\u001b[39m    \u001b[38;5;66;03m# name of the mrn_mstr file\u001b[39;00m\n\u001b[32m      3\u001b[39m \u001b[38;5;66;03m############################################################################\u001b[39;00m\n\u001b[32m----> \u001b[39m\u001b[32m4\u001b[39m df = pd.read_csv(file_path)\n\u001b[32m      5\u001b[39m name_nn =df.columns\n\u001b[32m      6\u001b[39m \u001b[38;5;28mprint\u001b[39m(df.loc[:,\u001b[33m\"\u001b[39m\u001b[33mDATE_V\u001b[39m\u001b[33m\"\u001b[39m])\n",
      "\u001b[31mNameError\u001b[39m: name 'pd' is not defined"
     ]
    }
   ],
   "source": [
    "   # Load the CSV file\n",
    "file_path = \"mrn_mstr_8_04.csv\"    # name of the mrn_mstr file\n",
    "############################################################################\n",
    "df = pd.read_csv(file_path)\n",
    "name_nn =df.columns\n",
    "print(df.loc[:,\"DATE_V\"])"
   ]
  },
  {
   "cell_type": "markdown",
   "id": "6dfa3652-bd87-4b7f-a6c3-44b9a2f403fb",
   "metadata": {},
   "source": [
    "### 🧱 Step 1: Define Your Class"
   ]
  },
  {
   "cell_type": "code",
   "execution_count": null,
   "id": "a6320fcf-fe71-4070-af9c-ad26cc99a2e3",
   "metadata": {},
   "outputs": [],
   "source": [
    "class DsDtClm:\n",
    "    def __init__(self, name, data_list, dtype):\n",
    "        self.name = name\n",
    "        self.data_list = data_list\n",
    "        self.dtype = dtype\n"
   ]
  },
  {
   "cell_type": "markdown",
   "id": "dc088b21-1f8d-4555-8415-a2b3eb234f6f",
   "metadata": {},
   "source": [
    "### 🧰 Step 2: Create and Populate dict_dt_clms\n",
    "Let’s assume DATE_V is provided separately (as a datetime or string):"
   ]
  },
  {
   "cell_type": "code",
   "execution_count": null,
   "id": "36c29795-10f8-4ac6-b016-3dd99a28b095",
   "metadata": {},
   "outputs": [],
   "source": []
  },
  {
   "cell_type": "markdown",
   "id": "0f8a93fb-7cbe-48bd-9a38-dcb1e02c9d25",
   "metadata": {},
   "source": [
    "### Today\n",
    "########################### making dictionary ######################## each ds_dt_clm has a cls that includes \"name\" , \"data_list\" , \"dtype\" dict1 = dict_dt_clms{ key0 : DATE_V key1 : ds_dt_clm.name, key2 : ds_dt_clm.value, key3 : ds_dt_clm.ds_dt_type, } as an example my list ds_dt_clm list = [nn0, nn1, nn2, nn3, nn4, nn5] I need to create that dictionary and the functions to fill and read it\n",
    "Absolutely, Bill — here’s a clean structure you can use to define, populate, and access your dict_dt_clms dictionary based on your ds_dt_clm list of objects.\n",
    "\n",
    "🧱 Step 1: Define Your Class\n",
    "python\n",
    "class DsDtClm:\n",
    "    def __init__(self, name, data_list, dtype):\n",
    "        self.name = name\n",
    "        self.data_list = data_list\n",
    "        self.dtype = dtype\n",
    "🧰 Step 2: Create and Populate dict_dt_clms\n",
    "Let’s assume DATE_V is provided separately (as a datetime or string):\n",
    "\n",
    "python\n",
    "# Sample instance list\n",
    "ds_dt_clm_list = [\n",
    "    DsDtClm(\"nn0\", [1, 2, 3], \"int\"),\n",
    "    DsDtClm(\"nn1\", [4, 5, 6], \"int\"),\n",
    "    DsDtClm(\"nn2\", [7.5, 8.2], \"float\"),\n",
    "    DsDtClm(\"nn3\", [\"a\", \"b\"], \"str\"),\n",
    "    DsDtClm(\"nn4\", [True, False], \"bool\"),\n",
    "    DsDtClm(\"nn5\", [None, None], \"NoneType\"),\n",
    "]\n",
    "\n",
    "DATE_V = \"2025-08-04\"  # or datetime.now()\n",
    "\n",
    "# Build dictionary\n",
    "dict_dt_clms = {}\n",
    "for i, ds_dt_clm in enumerate(ds_dt_clm_list):\n",
    "    key = f\"key{i}\"\n",
    "    dict_dt_clms[key] = {\n",
    "        \"DATE_V\": DATE_V,\n",
    "        \"name\": ds_dt_clm.name,\n",
    "        \"value\": ds_dt_clm.data_list,\n",
    "        \"ds_dt_type\": ds_dt_clm.dtype\n",
    "    }\n",
    "🔍 Step 3: Access and Read the Dictionary\n",
    "Here's how to read individual entries:"
   ]
  },
  {
   "cell_type": "markdown",
   "id": "bac2757d-d010-45d8-9d19-692bd2f124ec",
   "metadata": {},
   "source": [
    "### 🔍 Step 3: Access and Read the Dictionary"
   ]
  },
  {
   "cell_type": "code",
   "execution_count": null,
   "id": "fa75792f-766d-4eab-af50-5b30aa54ee7f",
   "metadata": {},
   "outputs": [],
   "source": [
    "# Read all keys and values\n",
    "for k, v in dict_dt_clms.items():\n",
    "    print(f\"{k}:\")\n",
    "    print(f\"  Date: {v['DATE_V']}\")\n",
    "    print(f\"  Name: {v['name']}\")\n",
    "    print(f\"  Values: {v['value']}\")\n",
    "    print(f\"  Type: {v['ds_dt_type']}\")\n"
   ]
  },
  {
   "cell_type": "markdown",
   "id": "89c21117-df7c-4039-b962-961667c911d0",
   "metadata": {},
   "source": [
    "### And if you want a specific entry by key:"
   ]
  },
  {
   "cell_type": "code",
   "execution_count": null,
   "id": "41df825b-110a-4ff5-a192-5613dfb3d228",
   "metadata": {},
   "outputs": [],
   "source": [
    "key_to_read = \"key2\"\n",
    "if key_to_read in dict_dt_clms:\n",
    "    entry = dict_dt_clms[key_to_read]\n",
    "    print(f\"Name: {entry['name']}, Data: {entry['value']}, Type: {entry['ds_dt_type']}\")\n"
   ]
  },
  {
   "cell_type": "code",
   "execution_count": null,
   "id": "544c51e8-e6db-4859-9e07-822643fe0478",
   "metadata": {},
   "outputs": [],
   "source": [
    "# Sample instance list\n",
    "\n",
    "ds_dt_clm_list = [\n",
    "    DsDtClm(\"nn0\", [1, 2, 3], \"int\"),\n",
    "    DsDtClm(\"nn1\", [4, 5, 6], \"int\"),\n",
    "    DsDtClm(\"nn2\", [7.5, 8.2], \"float\"),\n",
    "    DsDtClm(\"nn3\", [\"a\", \"b\"], \"str\"),\n",
    "    DsDtClm(\"nn4\", [True, False], \"bool\"),\n",
    "    DsDtClm(\"nn5\", [None, None], \"NoneType\"),\n",
    "]\n",
    "\n",
    "DATE_V = \"2025-08-04\"  # or datetime.now()\n",
    "\n",
    "# Build dictionary\n",
    "dict_dt_clms = {}\n",
    "for i, ds_dt_clm in enumerate(ds_dt_clm_list):\n",
    "    key = f\"key{i}\"\n",
    "    dict_dt_clms[key] = {\n",
    "        \"DATE_V\": DATE_V,\n",
    "        \"name\": ds_dt_clm.name,\n",
    "        \"value\": ds_dt_clm.data_list,\n",
    "        \"ds_dt_type\": ds_dt_clm.dtype\n",
    "    }\n"
   ]
  },
  {
   "cell_type": "code",
   "execution_count": null,
   "id": "94f8c758-a900-4a0e-a496-3ff446ced224",
   "metadata": {},
   "outputs": [],
   "source": [
    "# Sample instance list\n",
    "ds_dt_clm_list = [\n",
    "    DsDtClm(\"nn0\", [1, 2, 3], \"int\"),\n",
    "    DsDtClm(\"nn1\", [4, 5, 6], \"int\"),\n",
    "    DsDtClm(\"nn2\", [7.5, 8.2], \"float\"),\n",
    "    DsDtClm(\"nn3\", [\"a\", \"b\"], \"str\"),\n",
    "    DsDtClm(\"nn4\", [True, False], \"bool\"),\n",
    "    DsDtClm(\"nn5\", [None, None], \"NoneType\"),\n",
    "]\n",
    "\n",
    "DATE_V = \"2025-08-04\"  # or datetime.now()\n",
    "\n",
    "# Build dictionary\n",
    "dict_dt_clms = {}\n",
    "for i, ds_dt_clm in enumerate(ds_dt_clm_list):\n",
    "    key = f\"key{i}\"\n",
    "    dict_dt_clms[key] = {\n",
    "        \"DATE_V\": DATE_V,\n",
    "        \"name\": ds_dt_clm.name,\n",
    "        \"value\": ds_dt_clm.data_list,\n",
    "        \"ds_dt_type\": ds_dt_clm.dtype\n",
    "    }\n"
   ]
  },
  {
   "cell_type": "code",
   "execution_count": null,
   "id": "b3cc8e13-5388-4e1c-9800-67c31154fc70",
   "metadata": {},
   "outputs": [],
   "source": [
    "# -------------------------------------------------"
   ]
  },
  {
   "cell_type": "markdown",
   "id": "f782fe42-a4f8-47c7-a9ab-69a8f3bad6e2",
   "metadata": {},
   "source": [
    "# ____________________________________________________________ NEXT ____________"
   ]
  },
  {
   "cell_type": "code",
   "execution_count": null,
   "id": "539217f3-6b4c-4893-a97e-97137052275d",
   "metadata": {},
   "outputs": [],
   "source": [
    "# \"\\\\wsl.localhost\\Ubuntu\\home\\bhuns\\JL_1\\mrn_mstr_vals_8_04.xlsm\"\n",
    "# value file of master for mrn till 8/04/2025\n",
    "\n",
    "file_path = \n",
    "  # Load the CSV file\n",
    "    df = pd.read_csv(file_path)\n",
    "  "
   ]
  },
  {
   "cell_type": "code",
   "execution_count": null,
   "id": "2838859f-b313-49ce-9e0b-af07c032475a",
   "metadata": {
    "jupyter": {
     "source_hidden": true
    }
   },
   "outputs": [],
   "source": [
    "# \"\\\\wsl.localhost\\Ubuntu\\home\\bhuns\\JL_1\\mrn_mstr_vals_8_04.xlsm\"\n",
    "# value file of master for mrn till 8/04/2025\n",
    "\n",
    "file_path = \n",
    "  # Load the CSV file\n",
    "    df = pd.read_csv(file_path)\n",
    "  "
   ]
  },
  {
   "cell_type": "code",
   "execution_count": null,
   "id": "0c7df5da-6955-4f1d-9f18-ef76d1793964",
   "metadata": {
    "jupyter": {
     "source_hidden": true
    }
   },
   "outputs": [],
   "source": [
    "\n",
    "# log_arry = \"dt_clms.csv\"\n",
    "df = load_csv_and_generate_date_series('data/myfile.csv', start_date='2023-01-01', date_freq='D')\n",
    "print(df.head())\n"
   ]
  },
  {
   "cell_type": "code",
   "execution_count": null,
   "id": "ea8b2ff9-630e-4ec0-bb1b-b7fde852c40d",
   "metadata": {},
   "outputs": [],
   "source": [
    "\"log_arrdt_clms.csv\""
   ]
  },
  {
   "cell_type": "code",
   "execution_count": null,
   "id": "30bcee63-2472-4f07-817a-ca08a1eb5538",
   "metadata": {
    "jupyter": {
     "source_hidden": true
    }
   },
   "outputs": [],
   "source": [
    "log_arry = \"dt_clms.csv\"\n",
    "log_arry = \"dt_clms.csv\"\n",
    "df = load_csv_and_generate_date_series('data/myfile.csv', start_date='2023-01-01', date_freq='D')\n",
    "print(df.head()\n",
    "df = load_csv_arry)\n",
    "print(df.head()\n",
    "dict_arry{\n",
    "    key1 = \n",
    "}"
   ]
  },
  {
   "cell_type": "code",
   "execution_count": null,
   "id": "2a040975-a858-49f2-b1d9-23f929cb4587",
   "metadata": {},
   "outputs": [],
   "source": [
    "# Load the CSV fil\n",
    "import sys\n",
    "log_arry = \"dt_clms.csv\"\n",
    "df = pd.read_csv(log_arry)  #read file\n",
    "\n",
    "\n",
    "\n",
    "\n",
    "print(\"print(df.columns[2]\")                   # pick wt which is col 2DATE_Vdf.loc[0,:])                   \n",
    "\n",
    "# print(df.columns[0])                   # pick date_v col which is col 0\n",
    "DATE_V_nm = (\"DATE_V_nm = \",df.columns[0])                   # make date_v col\n",
    "# print(\"DATE_V_nm = \",DATE_V_nm) \n",
    "\n",
    "\n",
    "print(\"\\n df_dtv\",df_dtv)\n",
    "\n",
    "print(df.columns)\n",
    "\n",
    "print(df.columns[2])                   # pick wt which is col 2\n",
    "print(df.loc[:,'6. Weight'])\n",
    "print(df.iloc[:,2])\n",
    "\n",
    "\n",
    "#dish_arry = {\n",
    "#    key_dtv = df.columns[0].name        # date_v\n",
    "#}\n",
    "#print(dish_arry)"
   ]
  },
  {
   "cell_type": "markdown",
   "id": "3a5548a6-6489-4b2b-8877-ad97690cd82b",
   "metadata": {},
   "source": [
    "# junk"
   ]
  },
  {
   "cell_type": "code",
   "execution_count": null,
   "id": "2c141973-4061-43df-a667-e42e89d00c90",
   "metadata": {
    "jupyter": {
     "source_hidden": true
    }
   },
   "outputs": [],
   "source": [
    "# junk function\n",
    "def load_csv_and_generate_date_series(file_path, start_date='2020-01-01', date_freq='D'):\n",
    "    \"\"\"\n",
    "    Loads a CSV file and creates a DATE_V series starting from `start_date`\n",
    "    with frequency `date_freq` (e.g., 'D' for daily).\n",
    "    \n",
    "    Parameters:\n",
    "        file_path (str): Relative or absolute path to the CSV file\n",
    "        start_date (str): Start date for the DATE_V series in 'YYYY-MM-DD' format\n",
    "        date_freq (str): Frequency string (e.g., 'D' = daily, 'H' = hourly)\n",
    "\n",
    "    Returns:\n",
    "        df (pd.DataFrame): DataFrame with DATE_V column and original data\n",
    "    \"\"\"\n",
    "    # Load the CSV file\n",
    "    file_path = \"mrn_mstr_vals_8_04.csv\"\n",
    "    df = pd.read_csv(file_path)\n",
    "    \n",
    "    # Generate a DATE_V series matching the number of rows\n",
    "    #df['DATE_V'] = pd.date_range(start=start_date, periods=len(df), freq=date_freq)\n",
    "    \n",
    "    return df"
   ]
  },
  {
   "cell_type": "markdown",
   "id": "49fbfc5c-fc49-42e8-bdd2-e580a9f52e2b",
   "metadata": {},
   "source": [
    "# Run Imports for the worksheet"
   ]
  },
  {
   "cell_type": "markdown",
   "id": "b044a044-7e24-45cc-a8ca-b7a6af9aa894",
   "metadata": {},
   "source": [
    "## Step 1 Load imports"
   ]
  },
  {
   "cell_type": "code",
   "execution_count": 1,
   "id": "496c354d-ed67-4d43-b788-2df75f14c541",
   "metadata": {
    "scrolled": true
   },
   "outputs": [],
   "source": [
    "import pandas as pd\n",
    "from datetime import timedelta"
   ]
  },
  {
   "cell_type": "code",
   "execution_count": 1,
   "id": "613a386b-df31-47b9-96d1-12c5a5913aea",
   "metadata": {},
   "outputs": [
    {
     "ename": "ModuleNotFoundError",
     "evalue": "No module named 'ipdb'",
     "output_type": "error",
     "traceback": [
      "\u001b[31m---------------------------------------------------------------------------\u001b[39m",
      "\u001b[31mModuleNotFoundError\u001b[39m                       Traceback (most recent call last)",
      "\u001b[36mCell\u001b[39m\u001b[36m \u001b[39m\u001b[32mIn[1]\u001b[39m\u001b[32m, line 1\u001b[39m\n\u001b[32m----> \u001b[39m\u001b[32m1\u001b[39m \u001b[38;5;28;01mimport\u001b[39;00m\u001b[38;5;250m \u001b[39m\u001b[34;01mipdb\u001b[39;00m\n\u001b[32m      3\u001b[39m \u001b[38;5;28;01mdef\u001b[39;00m\u001b[38;5;250m \u001b[39m\u001b[34mtest_debug\u001b[39m():\n\u001b[32m      4\u001b[39m     x = \u001b[32m5\u001b[39m\n",
      "\u001b[31mModuleNotFoundError\u001b[39m: No module named 'ipdb'"
     ]
    }
   ],
   "source": [
    "import ipdb\n",
    "\n",
    "def test_debug():\n",
    "    x = 5\n",
    "    ipdb.set_trace()\n",
    "    y = x + 10\n",
    "    return y\n",
    "\n",
    "print(test_debug())\n"
   ]
  },
  {
   "cell_type": "code",
   "execution_count": null,
   "id": "c25c7fd4-2396-4b12-b8fd-41cfb92e70f5",
   "metadata": {},
   "outputs": [],
   "source": []
  },
  {
   "cell_type": "code",
   "execution_count": null,
   "id": "647c3a5a-56ab-4346-8264-5dd227512a8a",
   "metadata": {},
   "outputs": [],
   "source": []
  }
 ],
 "metadata": {
  "kernelspec": {
   "display_name": "Python (scu)",
   "language": "python",
   "name": "scu"
  },
  "language_info": {
   "codemirror_mode": {
    "name": "ipython",
    "version": 3
   },
   "file_extension": ".py",
   "mimetype": "text/x-python",
   "name": "python",
   "nbconvert_exporter": "python",
   "pygments_lexer": "ipython3",
   "version": "3.11.13"
  }
 },
 "nbformat": 4,
 "nbformat_minor": 5
}
