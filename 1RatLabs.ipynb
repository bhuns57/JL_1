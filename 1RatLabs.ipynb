{
 "cells": [
  {
   "cell_type": "markdown",
   "id": "9da0e802-cba9-47c6-98e3-8d0b2de18518",
   "metadata": {},
   "source": [
    "# 1RatLabs Readme\n",
    "**TOC =  Goals Lists,   Data_Lists,   Function_List,   Inputs_List,   Groups_List,   Files_List**"
   ]
  },
  {
   "cell_type": "markdown",
   "id": "043892c1-906f-487f-b21c-73911cc70479",
   "metadata": {},
   "source": [
    "## 1RatLabs.Goals"
   ]
  },
  {
   "cell_type": "markdown",
   "id": "fea11f2c-aaab-4be0-8648-044880dd5c6f",
   "metadata": {
    "jp-MarkdownHeadingCollapsed": true
   },
   "source": [
    "### Goals list"
   ]
  },
  {
   "cell_type": "markdown",
   "id": "27238a13-dfa1-4387-bb3d-a98759eea89e",
   "metadata": {},
   "source": [
    "## Data  *(stored in xl)*:"
   ]
  },
  {
   "cell_type": "markdown",
   "id": "6c1b602f-3565-4f9d-9c77-11d21ba3216d",
   "metadata": {},
   "source": [
    "### Data Name List"
   ]
  },
  {
   "cell_type": "markdown",
   "id": "18548bda-e8ff-4c25-9c96-40b7d72f5456",
   "metadata": {},
   "source": [
    "#### Naming convention for the ***basename system***\n",
    "1. df > used for python >>>>>>>>>>>>>>>>>>>>>>>>>>>> ***df_basename[]***\n",
    "2. Excel file > used to fill df used for python  >>>> ***xl_basename.xlxs***\n",
    "3. wb > wb_name held in xl file       >>>>>>>>>>>>>>> ***xl_basename***\n",
    "4. ws > worksheet in wb       >>>>>>>>>>>>>>>>>>>>>> ***xl_basename***\n",
    "5. xl_tbl > table`name in ws  >>>>>>>>>>>>>>>>>>>>>  ***xl_basename***\n",
    "6. to load ***df_basename[]*** from>>***xl_basename.xlxs*** call ***def read function(\"basename\")***\n",
    "7.to export ***df_basename[]*** to >>***xl_basename.xlxs*** call ***def export function(\"basename\")***\n",
    "8. to create ***basename family*** >>>>  call     ***init(basemame)***\n",
    "9. \n"
   ]
  },
  {
   "cell_type": "code",
   "execution_count": 1,
   "id": "4180df77-2970-41b8-8b61-762247e264b3",
   "metadata": {},
   "outputs": [],
   "source": [
    "def init_basename(basename):\n",
    "    df = \"df_\" + basename\n",
    "    xl_file = \"xl_\" + basename +\".xlxs\"\n",
    "    wb = \"xl_\" + basenamec\n",
    "    ws = \"xl_\" + basename\n",
    "    tbl = \"xl_\" + basename\n",
    "    return df,xl_file,wb,ws,tbl\n",
    "    \n",
    "    "
   ]
  },
  {
   "cell_type": "code",
   "execution_count": 2,
   "id": "d302e92d-f148-49ad-a5eb-5762e2bc64b1",
   "metadata": {},
   "outputs": [
    {
     "ename": "NameError",
     "evalue": "name 'bld_basename_fmlcy' is not defined",
     "output_type": "error",
     "traceback": [
      "\u001b[31m---------------------------------------------------------------------------\u001b[39m",
      "\u001b[31mNameError\u001b[39m                                 Traceback (most recent call last)",
      "\u001b[36mCell\u001b[39m\u001b[36m \u001b[39m\u001b[32mIn[2]\u001b[39m\u001b[32m, line 1\u001b[39m\n\u001b[32m----> \u001b[39m\u001b[32m1\u001b[39m df,xl_file,wb,ws,tbl = bld_basename_fmlcy(\u001b[33m\"\u001b[39m\u001b[33mtbl\u001b[39m\u001b[33m\"\u001b[39m)\n\u001b[32m      2\u001b[39m \u001b[38;5;28mprint\u001b[39m(df,xl_file,wb,ws,tbl)\n",
      "\u001b[31mNameError\u001b[39m: name 'bld_basename_fmlcy' is not defined"
     ]
    }
   ],
   "source": [
    "df,xl_file,wb,ws,tbl = bld_basename_fmlcy(\"tbl\")\n",
    "print(df,xl_file,wb,ws,tbl)"
   ]
  },
  {
   "cell_type": "code",
   "execution_count": null,
   "id": "20345449-c564-490a-a697-7544f3c69696",
   "metadata": {},
   "outputs": [],
   "source": []
  },
  {
   "cell_type": "code",
   "execution_count": null,
   "id": "edcbbe7c-3e1c-4074-ac9e-20e7830c461d",
   "metadata": {
    "scrolled": true
   },
   "outputs": [],
   "source": [
    "print(df_tbl)"
   ]
  },
  {
   "cell_type": "code",
   "execution_count": null,
   "id": "6e79e2c3-be68-430f-b17a-8a9a58510ca7",
   "metadata": {},
   "outputs": [],
   "source": []
  },
  {
   "cell_type": "code",
   "execution_count": null,
   "id": "7caaeedc-bc79-4c54-b3f4-a9eca4cd78e1",
   "metadata": {},
   "outputs": [],
   "source": []
  },
  {
   "cell_type": "markdown",
   "id": "8979cf7b-3f88-476e-8ab5-b7ef8672bd8d",
   "metadata": {},
   "source": [
    "# following this needs to be update and edited"
   ]
  },
  {
   "cell_type": "code",
   "execution_count": null,
   "id": "d5694101",
   "metadata": {},
   "outputs": [],
   "source": [
    "def init_basename(basename):\n",
    "    df = \"df_\" + basename\n",
    "    xl_file = \"xl_\" + basename +\".xlxs\"\n",
    "    wb = \"xl_\" + basenamec\n",
    "    ws = \"xl_\" + basename\n",
    "    tbl = \"xl_\" + basename\n",
    "    return df,xl_file,wb,ws,tbl\n",
    "    \n",
    "    "
   ]
  },
  {
   "cell_type": "code",
   "execution_count": null,
   "id": "b732877c",
   "metadata": {},
   "outputs": [],
   "source": [
    "df,xl_file,wb,ws,tbl = bld_basename_fmlcy(\"tbl\")\n",
    "print(df,xl_file,wb,ws,tbl)"
   ]
  },
  {
   "cell_type": "code",
   "execution_count": null,
   "id": "f3c02f17",
   "metadata": {
    "scrolled": true
   },
   "outputs": [],
   "source": [
    "print(df_tbl)"
   ]
  },
  {
   "cell_type": "markdown",
   "id": "b5ecb459-78a5-4d2c-b3a4-1ae765119607",
   "metadata": {},
   "source": [
    "***basename >>> discription***\n",
    "\n",
    "\n",
    "1. \"***DATE_V***\"  >>> df of days counted from 1/1/1900 with index = DATE_V\n",
    "2. \"***dt_clm***\" >> a single lifestyle parameter with name, attrbts, value and indv\n",
    "3. \"***dt_clm_grp***\" >> a grp of ***dt_clm*** \n",
    "4. \"***dt_clm_grp_log***\" >> table of many \"dt_clms\" vs rows of \"DATE_V\"                         \n",
    "5. \"***dt_clm_attrbts***\" >>>  table of  many \"dt_clm_attrbts\" and \"dt_clm\" as rows ***XL_Contains_fromulas***\n",
    "6. \"***dt_clm_cnvld***\"  >>> table of \"dt_clm_cnvld\" as many columns vs \"DATE_V\" as rows\n",
    "7. \"***dt_clms_xcrrltn_ij***\">>> table of cross-correltion of dt_clms.i and dt_clms.j as columns and \"DATEV\" as rows\n",
    "8. \"***dt_clms_xcrrltn_tshft***\" >>> table of dt_clms_crrltn_ij vs \"tshft\" as rows\n",
    "9. \"***inpt_grps***\"              >>> table of dt_clms vs grps  checkmars dtclms in grp ***??XL_Contains_fromulas***\n",
    "10. \"***export_plot_grps***\"       >>> ***???XL_Contains_fromulas***"
   ]
  },
  {
   "cell_type": "markdown",
   "id": "759a5b80-ff7f-414c-981e-004ed81b2d03",
   "metadata": {},
   "source": [
    "# Discription 2 of ***basename*** stategy"
   ]
  },
  {
   "cell_type": "code",
   "execution_count": null,
   "id": "9e6fd7b1-eee5-412f-9296-6669e5eb6c47",
   "metadata": {},
   "outputs": [],
   "source": []
  },
  {
   "cell_type": "markdown",
   "id": "01380b59-d534-4fcf-bc9f-6a2ae0ca049e",
   "metadata": {
    "jp-MarkdownHeadingCollapsed": true
   },
   "source": [
    "1. \"***DATE_V***\"  >>> list of days counted from 1/1/1900\n",
    "2. ***dt_clm***   >>>> Single col of data vs DATE_V\n",
    "3. \"***dt_clms***\" >>    xl_tbl = dt_nm\n",
    "4. \"***dt_clms_log***\" >> xl_tbl = dt_nm ,             \n",
    "5. \"***dt_clms_attrbts***\" >>>  table of  many \"dt_clm_attrbts\" and \"dtclms\" as rows\n",
    "6. \"***dt_clms_fltrd***\"  >>> table of \"dt_clms_fltrd\" as many columns vs \"DATE_V\" as rows\n",
    "7. \"***dt_clms_xcrrltn_ij***\">>> table of cross-correltion of dt_clms.i and dt_clms.j as columns and \"DATEV\" as rows\n",
    "8. \"***dt_clms_xcrrltn_tshft***\" >>> table of dt_clms_crrltn_ij vs \"tshft\" as rows\n",
    "9. \"***inpt_grps***\"              >>> table of dt_clms vs grps  checkmars dtclms in grp\n",
    "10. \"***export_plot_grps***\"       "
   ]
  },
  {
   "cell_type": "markdown",
   "id": "0c7b1a74-15e8-4540-9d78-fea0ffb7221d",
   "metadata": {},
   "source": [
    "#### ***Dynamic data: Excel file & dataframe names***\n",
    "\n",
    "***XL_Contains_fromulas*** Note that the i/o functions with \"openpyxl\" must be used.\n",
    "\n",
    "\n",
    "You can swap `\"tbl\"` for any table name like this:\n",
    "\n",
    "```python\n",
    "df_hr = load_df(\"hr_tbl\", \"hr_tbl.xlsx\", \"hr_tbl\")\n",
    "# edit df_hr...\n",
    "write_df(df_hr, \"hr_tbl\", \"hr_tbl.xlsx\", \"hr_tbl\")\n",
    "...\n",
    "\n",
    "1. \n",
    "2. DATE_V  >> DATE_V.xlxs\n",
    "3. dt_clms_log >> dt_clms_log.\n",
    "4. dt_clms_attrbts >> dt_clms_attrbts.\n",
    "5. dt_clms_fltrd  >> dt_clms_fltrd_log.\n",
    "6. \n",
    "7. dt_clms_xcrrltn_ij >>> table of cross-correltion of dt_clms.i and dt_clms.j as columns and \"DATEV\" as rows\n",
    "8. dt_clms_xcrrltn_tshft >>> table of dt_clms_crrltn_ij vs \"tshft\" as rows"
   ]
  }
 ],
 "metadata": {
  "kernelspec": {
   "display_name": "Python (scu)",
   "language": "python",
   "name": "scu"
  },
  "language_info": {
   "codemirror_mode": {
    "name": "ipython",
    "version": 3
   },
   "file_extension": ".py",
   "mimetype": "text/x-python",
   "name": "python",
   "nbconvert_exporter": "python",
   "pygments_lexer": "ipython3",
   "version": "3.11.13"
  }
 },
 "nbformat": 4,
 "nbformat_minor": 5
}
