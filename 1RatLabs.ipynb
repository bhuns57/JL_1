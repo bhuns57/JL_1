{
 "cells": [
  {
   "cell_type": "markdown",
   "id": "9da0e802-cba9-47c6-98e3-8d0b2de18518",
   "metadata": {},
   "source": [
    "# 1RatLabs Readme\n",
    "**TOC =  Goals Lists,   Data_Lists,   Function_List,   Inputs_List,   Groups_List,   Files_List**"
   ]
  },
  {
   "cell_type": "markdown",
   "id": "043892c1-906f-487f-b21c-73911cc70479",
   "metadata": {
    "jp-MarkdownHeadingCollapsed": true
   },
   "source": [
    "## 1RatLabs.Goals"
   ]
  },
  {
   "cell_type": "markdown",
   "id": "fea11f2c-aaab-4be0-8648-044880dd5c6f",
   "metadata": {
    "jp-MarkdownHeadingCollapsed": true
   },
   "source": [
    "### Goals list"
   ]
  },
  {
   "cell_type": "markdown",
   "id": "27238a13-dfa1-4387-bb3d-a98759eea89e",
   "metadata": {},
   "source": [
    "## Data  *(stored in xl)*:"
   ]
  },
  {
   "cell_type": "markdown",
   "id": "6c1b602f-3565-4f9d-9c77-11d21ba3216d",
   "metadata": {},
   "source": [
    "### Data Name List"
   ]
  },
  {
   "cell_type": "markdown",
   "id": "18548bda-e8ff-4c25-9c96-40b7d72f5456",
   "metadata": {},
   "source": [
    "#### Naming convention for the ***basename system***\n",
    "1. df > used for python >>>>>>>>>>>>>>>>>>>>>>>>>>>> ***df_basename[]***\n",
    "2. Excel file > used to fill df used for python  >>>> ***xl_basename.xlxs***\n",
    "3. wb > wb_name held in xl file       >>>>>>>>>>>>>>> ***xl_basename***\n",
    "4. ws > worksheet in wb       >>>>>>>>>>>>>>>>>>>>>> ***xl_basename***\n",
    "5. xl_tbl > table`name in ws  >>>>>>>>>>>>>>>>>>>>>  ***xl_basename***\n",
    "6. to load ***df_basename[]*** from>>***xl_basename.xlxs*** call ***def read function(\"basename\")***\n",
    "7.to export ***df_basename[]*** to >>***xl_basename.xlxs*** call ***def export function(\"basename\")***\n",
    "8. to create ***basename family*** >>>>  call     ***init(basemame)***\n"
   ]
  },
  {
   "cell_type": "code",
   "execution_count": 2,
   "id": "4180df77-2970-41b8-8b61-762247e264b3",
   "metadata": {},
   "outputs": [],
   "source": [
    "def init_basename(basename):\n",
    "    df = \"df_\" + basename\n",
    "    xl_file = \"xl_\" + basename +\".xlxs\"\n",
    "    wb = \"xl_\" + basenamec\n",
    "    ws = \"xl_\" + basename\n",
    "    tbl = \"xl_\" + basename\n",
    "    return df,xl_file,wb,ws,tbl\n",
    "    \n",
    "    "
   ]
  },
  {
   "cell_type": "code",
   "execution_count": null,
   "id": "d302e92d-f148-49ad-a5eb-5762e2bc64b1",
   "metadata": {},
   "outputs": [],
   "source": [
    "df,xl_file,wb,ws,tbl = bld_basename_fmlcy(\"tbl\")\n",
    "print(df,xl_file,wb,ws,tbl)"
   ]
  },
  {
   "cell_type": "code",
   "execution_count": null,
   "id": "edcbbe7c-3e1c-4074-ac9e-20e7830c461d",
   "metadata": {
    "scrolled": true
   },
   "outputs": [],
   "source": [
    "print(df_tbl)"
   ]
  },
  {
   "cell_type": "code",
   "execution_count": null,
   "id": "6e79e2c3-be68-430f-b17a-8a9a58510ca7",
   "metadata": {},
   "outputs": [],
   "source": []
  }
 ],
 "metadata": {
  "kernelspec": {
   "display_name": "Python (scu)",
   "language": "python",
   "name": "scu"
  },
  "language_info": {
   "codemirror_mode": {
    "name": "ipython",
    "version": 3
   },
   "file_extension": ".py",
   "mimetype": "text/x-python",
   "name": "python",
   "nbconvert_exporter": "python",
   "pygments_lexer": "ipython3",
   "version": "3.11.13"
  }
 },
 "nbformat": 4,
 "nbformat_minor": 5
}
