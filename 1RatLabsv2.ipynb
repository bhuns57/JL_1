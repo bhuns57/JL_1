{
 "cells": [
  {
   "cell_type": "markdown",
   "id": "9da0e802-cba9-47c6-98e3-8d0b2de18518",
   "metadata": {},
   "source": [
    "# 1RatLabs Readme\n",
    "[Click here to create code to make a link in markdown](https://example.com)\n"
   ]
  },
  {
   "cell_type": "markdown",
   "id": "043892c1-906f-487f-b21c-73911cc70479",
   "metadata": {
    "jp-MarkdownHeadingCollapsed": true
   },
   "source": [
    "## The 1RatLabs.Goals"
   ]
  },
  {
   "cell_type": "markdown",
   "id": "fea11f2c-aaab-4be0-8648-044880dd5c6f",
   "metadata": {
    "jp-MarkdownHeadingCollapsed": true
   },
   "source": [
    "### The goals list"
   ]
  },
  {
   "cell_type": "markdown",
   "id": "e9d5bf2a-3333-4ba6-aa29-da9f0e305b8b",
   "metadata": {
    "jp-MarkdownHeadingCollapsed": true
   },
   "source": [
    "1. To learn to measure the cause and effect of lifestyle changes.\n",
    "2. Use this info to adjust my lifestyle to produce the best possible health for my body."
   ]
  },
  {
   "cell_type": "markdown",
   "id": "bd4df19d-8c01-4e26-9ea1-fd4393454d46",
   "metadata": {
    "jp-MarkdownHeadingCollapsed": true
   },
   "source": [
    "#### Mission"
   ]
  },
  {
   "cell_type": "markdown",
   "id": "b64e0e6c-ccfd-4e0f-bef5-9f68c70fee90",
   "metadata": {},
   "source": [
    "***\"A thief comes to plunder and steal, but I strive to make your life more abundant\"***"
   ]
  },
  {
   "cell_type": "markdown",
   "id": "f6f823f7-4480-4a89-9892-f6c3568ecd12",
   "metadata": {},
   "source": [
    "***“Creator, I ask for Absolute Peace throughout my entire being.”***"
   ]
  },
  {
   "cell_type": "markdown",
   "id": "ee445a89-d6be-4b73-aa5d-3bd81b7f8f98",
   "metadata": {},
   "source": [
    "## Dealing with the WSL & Windows directories"
   ]
  },
  {
   "cell_type": "markdown",
   "id": "50d7f2d5-dc9c-4c21-bb3f-fcb6447da960",
   "metadata": {},
   "source": [
    "### Using windows app ie xcell & word in conjuncton Jupyter Lab"
   ]
  },
  {
   "cell_type": "markdown",
   "id": "37aea80d-80f0-43f4-9734-53de10cfa444",
   "metadata": {},
   "source": [
    "1. Run and creat windows apps files from exporer showing repo director\n",
    "2. Import and export only data"
   ]
  },
  {
   "cell_type": "markdown",
   "id": "98e2503e-7dfa-4286-a1ba-1e21c451eb59",
   "metadata": {},
   "source": []
  },
  {
   "cell_type": "markdown",
   "id": "ead044a3-3c5e-4639-b990-cb4f42cdc96e",
   "metadata": {},
   "source": [
    "## The basename naming system (bn)"
   ]
  },
  {
   "cell_type": "markdown",
   "id": "cb65d7b1-44b5-4679-ba36-38c9b9565974",
   "metadata": {},
   "source": [
    "### The bn Naming convention"
   ]
  },
  {
   "cell_type": "markdown",
   "id": "4dad0de7-d213-46a9-a060-91301de4ed53",
   "metadata": {
    "jp-MarkdownHeadingCollapsed": true
   },
   "source": [
    "1.cls > type of object ie xl_data files or dfs or dicts etc use=bn[df_xl]\n",
    "2. df > used for python >>>>>>>>>>>>>>>>>>>>>>>>>>>> ***df_basename[]***\n",
    "3. Excel file > used to fill df used for python  >>>> ***xl_basename.xlxs***\n",
    "4. wb > wb_name held in xl file       >>>>>>>>>>>>>>> ***xl_basename***\n",
    "5. ws > worksheet in wb       >>>>>>>>>>>>>>>>>>>>>> ***xl_basename***\n",
    "6. xl_tbl > table`name in ws  >>>>>>>>>>>>>>>>>>>>>  ***xl_basename***\n",
    "7. to load ***df_basename[]*** from>>***xl_basename.xlxs*** call ***def read function(\"basename\")***\n",
    "7.to export ***df_basename[]*** to >>***xl_basename.xlxs*** call ***def export function(\"basename\")***\n",
    "8. to create ***basename family*** >>>>  call     ***init(basemame)***\n",
    "10.  basename_family_data is loaded in basename=bn_fit"
   ]
  },
  {
   "cell_type": "markdown",
   "id": "623c4327-ab08-468c-89e9-de63fe0e2c24",
   "metadata": {},
   "source": [
    "1. ***ttd:*** load this into a bn_dict where key1 is the bn_class and key is the bn_name\n",
    "2. ***ttd:*** modify load to use bn_class & (bn_name)"
   ]
  },
  {
   "cell_type": "markdown",
   "id": "6c1b602f-3565-4f9d-9c77-11d21ba3216d",
   "metadata": {},
   "source": [
    "### The basename List has classification col, discriprion col"
   ]
  },
  {
   "cell_type": "markdown",
   "id": "d85f2196-2154-4f92-9deb-040d71e75fb7",
   "metadata": {},
   "source": [
    "1. bn_dir\n",
    "2. DATE_V_UTI\n",
    "3. dtclms\n",
    "4. dt_clm\n",
    "5. grps\n",
    "6. attrbs\n",
    "7. O2plot_7_29"
   ]
  },
  {
   "cell_type": "markdown",
   "id": "1b9f5efc-57d3-4144-89e4-70d62027769f",
   "metadata": {},
   "source": [
    "## The data dictionary system (dds)"
   ]
  },
  {
   "cell_type": "markdown",
   "id": "6c01c606-b210-4cf7-9ffe-02adb15274aa",
   "metadata": {},
   "source": [
    "### The dt_clms "
   ]
  },
  {
   "cell_type": "raw",
   "id": "224e8143-7f7e-485e-8748-f7b688f084e2",
   "metadata": {},
   "source": [
    "dt_clms\n",
    "\tkey1 : dt_clm.nane \n",
    "\tley 2 : dt_clm.value\n",
    "note:  \n",
    "1. dt_clm[0] = DATE_V.name\n",
    "2. all dt_clm.list= same len\n",
    "3. dt_clm[0].name = DATE_V.lname\n",
    "4. row = DATE_V.list\n",
    "5. sync = DATE_V.list\n",
    "\t\t"
   ]
  },
  {
   "cell_type": "markdown",
   "id": "1575f015-7acc-4e08-8771-d6d5b74fb583",
   "metadata": {},
   "source": [
    "dt_clms\n",
    "\tkey1 : dt_clm.nane \n",
    "\tley 2 : dt_clm.value\n",
    "note:  \n",
    "1. dt_clm[0] = DATE_V.name\n",
    "2. all dt_clm.list= same len\n",
    "3. dt_clm[0].name = DATE_V.lname\n",
    "4. row = DATE_V.list\n",
    "5. sync = DATE_V.list\n",
    "\t\t"
   ]
  },
  {
   "cell_type": "raw",
   "id": "9f518f08-8039-49df-83cd-02e62c028ce6",
   "metadata": {},
   "source": [
    "## The data  *(stored in xl)*:"
   ]
  },
  {
   "cell_type": "markdown",
   "id": "799a2760-d9eb-4a08-be01-39b0f0eea80c",
   "metadata": {
    "jp-MarkdownHeadingCollapsed": true
   },
   "source": [
    "### The data list"
   ]
  },
  {
   "cell_type": "markdown",
   "id": "7e5d49df-74de-4f02-914b-0e5f89fde76d",
   "metadata": {},
   "source": [
    "## The def_functions"
   ]
  },
  {
   "cell_type": "markdown",
   "id": "1947b59e-f28a-4933-90bc-75fb73b07118",
   "metadata": {},
   "source": [
    "### Init functions"
   ]
  },
  {
   "cell_type": "code",
   "execution_count": 13,
   "id": "4180df77-2970-41b8-8b61-762247e264b3",
   "metadata": {},
   "outputs": [],
   "source": [
    "def init_basename(basename):\n",
    "    df = \"df_\" + basename\n",
    "    xl_file = \"xl_\" + basename +\".xlxs\"\n",
    "    wb = \"xl_\" + basename\n",
    "    ws = \"xl_\" + basename\n",
    "    tbl = \"xl_\" + basename\n",
    "    return df,xl_file,wb,ws,tbl\n",
    "    \n",
    "    "
   ]
  },
  {
   "cell_type": "markdown",
   "id": "ff43454d-6867-4bd7-97cb-2c6b43bf106c",
   "metadata": {},
   "source": [
    "### Load df_xl functions"
   ]
  },
  {
   "cell_type": "code",
   "execution_count": null,
   "id": "90047289-6c93-47a0-96b3-2329ace186d9",
   "metadata": {},
   "outputs": [],
   "source": [
    "def \n",
    "    df_hr = load_df(\"hr_tbl\", \"hr_tbl.xlsx\", \"hr_tbl\")\n",
    "    write_df(df_hr, \"hr_tbl\", \"hr_tbl.xlsx\", \"hr_tbl\")"
   ]
  },
  {
   "cell_type": "markdown",
   "id": "f3fb1bc7-af6d-49f9-9242-17d34961cd53",
   "metadata": {},
   "source": [
    "### Write df_xl functions"
   ]
  },
  {
   "cell_type": "code",
   "execution_count": null,
   "id": "69904b9e-b60e-4ced-b392-1b24eea6e9f6",
   "metadata": {},
   "outputs": [],
   "source": [
    "def \n",
    "    df_hr = load_df(\"hr_tbl\", \"hr_tbl.xlsx\", \"hr_tbl\")\n",
    "    write_df(df_hr, \"hr_tbl\", \"hr_tbl.xlsx\", \"hr_tbl\")"
   ]
  },
  {
   "cell_type": "markdown",
   "id": "44f93640-ca7f-4303-9ac6-dc5226e3af70",
   "metadata": {},
   "source": [
    "## The calls for fncts"
   ]
  },
  {
   "cell_type": "markdown",
   "id": "0c4af448-9c23-4bef-87bb-b74cdf1f4f25",
   "metadata": {},
   "source": [
    "### The calls for fncts"
   ]
  },
  {
   "cell_type": "markdown",
   "id": "66d91569-bab1-445a-b7da-0be9b53f327c",
   "metadata": {},
   "source": [
    "### The calls for fncts"
   ]
  },
  {
   "cell_type": "code",
   "execution_count": 16,
   "id": "d302e92d-f148-49ad-a5eb-5762e2bc64b1",
   "metadata": {},
   "outputs": [
    {
     "name": "stdout",
     "output_type": "stream",
     "text": [
      "df_bnx xl_bnx.xlxs xl_bnx xl_bnx xl_bnx\n"
     ]
    }
   ],
   "source": [
    "bnx = \"DATE_V_UTI\"\n",
    "bnx = \"O2plot_7_29\"\n",
    "\n",
    "df,xl_file,wb,ws,tbl = init_basename(\"bnx\")\n",
    "print(df,xl_file,wb,ws,tbl)"
   ]
  },
  {
   "cell_type": "markdown",
   "id": "415e7350-be7f-49e1-8d4c-44155385f9aa",
   "metadata": {},
   "source": [
    "### Manual data input functions"
   ]
  },
  {
   "cell_type": "markdown",
   "id": "08f586c8-c5cc-4a22-9583-f6dfe93d878f",
   "metadata": {},
   "source": [
    "1.\n",
    "2. input_log(df_xl,row_strt,row_stp,col_strt,col_stp)\n",
    "3. display row_name & cn & today_date_v & 2025/day/mo calc option\n",
    "4. input by row or col\n",
    "5. if by row \n",
    "6. for row_strt,row_stp\n",
    "7. for col_strt,col_stp\n",
    "8. display name list\n",
    "9. cell name, cell value\n",
    "15. changes cell value with \"keyed in value\" or skips on enter \"\"\n",
    "13. else\n",
    "10. col_strt,col_stp\n",
    "11. for row_strt,row_stp\n",
    "12. Each cell\n",
    "13.\n",
    "16. "
   ]
  },
  {
   "cell_type": "markdown",
   "id": "8979cf7b-3f88-476e-8ab5-b7ef8672bd8d",
   "metadata": {
    "jp-MarkdownHeadingCollapsed": true
   },
   "source": [
    "# next Topic"
   ]
  },
  {
   "cell_type": "code",
   "execution_count": null,
   "id": "2f4e3f2b-0d7a-47f1-98ed-bbd0877bd93e",
   "metadata": {},
   "outputs": [],
   "source": []
  }
 ],
 "metadata": {
  "kernelspec": {
   "display_name": "Python (scu)",
   "language": "python",
   "name": "scu"
  },
  "language_info": {
   "codemirror_mode": {
    "name": "ipython",
    "version": 3
   },
   "file_extension": ".py",
   "mimetype": "text/x-python",
   "name": "python",
   "nbconvert_exporter": "python",
   "pygments_lexer": "ipython3",
   "version": "3.11.13"
  }
 },
 "nbformat": 4,
 "nbformat_minor": 5
}
