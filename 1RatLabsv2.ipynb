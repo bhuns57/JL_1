{
 "cells": [
  {
   "cell_type": "markdown",
   "id": "9da0e802-cba9-47c6-98e3-8d0b2de18518",
   "metadata": {
    "jp-MarkdownHeadingCollapsed": true
   },
   "source": [
    "# 1RatLabs Readme"
   ]
  },
  {
   "cell_type": "markdown",
   "id": "043892c1-906f-487f-b21c-73911cc70479",
   "metadata": {
    "jp-MarkdownHeadingCollapsed": true
   },
   "source": [
    "## The 1RatLabs.Goals"
   ]
  },
  {
   "cell_type": "markdown",
   "id": "fea11f2c-aaab-4be0-8648-044880dd5c6f",
   "metadata": {
    "jp-MarkdownHeadingCollapsed": true
   },
   "source": [
    "### The goals list"
   ]
  },
  {
   "cell_type": "markdown",
   "id": "e9d5bf2a-3333-4ba6-aa29-da9f0e305b8b",
   "metadata": {
    "jp-MarkdownHeadingCollapsed": true
   },
   "source": [
    "1. To learn to measure the cause and effect of lifestyle changes.\n",
    "2. Use this info to adjust my lifestyle to produce the best possible health for my body."
   ]
  },
  {
   "cell_type": "markdown",
   "id": "bd4df19d-8c01-4e26-9ea1-fd4393454d46",
   "metadata": {
    "jp-MarkdownHeadingCollapsed": true
   },
   "source": [
    "#### Mission"
   ]
  },
  {
   "cell_type": "markdown",
   "id": "b64e0e6c-ccfd-4e0f-bef5-9f68c70fee90",
   "metadata": {},
   "source": [
    "***\"A thief comes to plunder and steal, but I strive to make your life more abundant\"***"
   ]
  },
  {
   "cell_type": "markdown",
   "id": "f6f823f7-4480-4a89-9892-f6c3568ecd12",
   "metadata": {},
   "source": [
    "***“Creator, I ask for Absolute Peace throughout my entire being.”***"
   ]
  },
  {
   "cell_type": "markdown",
   "id": "ee445a89-d6be-4b73-aa5d-3bd81b7f8f98",
   "metadata": {
    "jp-MarkdownHeadingCollapsed": true
   },
   "source": [
    "## Dealing with the WSL & Windows directories"
   ]
  },
  {
   "cell_type": "markdown",
   "id": "50d7f2d5-dc9c-4c21-bb3f-fcb6447da960",
   "metadata": {
    "jp-MarkdownHeadingCollapsed": true
   },
   "source": [
    "### Using windows app ie xcell & word in conjuncton Jupyter Lab"
   ]
  },
  {
   "cell_type": "markdown",
   "id": "37aea80d-80f0-43f4-9734-53de10cfa444",
   "metadata": {},
   "source": [
    "1. Run and creat windows apps files from exporer showing repo director\n",
    "2. Import and export only data"
   ]
  },
  {
   "cell_type": "markdown",
   "id": "1b9f5efc-57d3-4144-89e4-70d62027769f",
   "metadata": {
    "jp-MarkdownHeadingCollapsed": true
   },
   "source": [
    "## The basename system (bn)"
   ]
  },
  {
   "cell_type": "markdown",
   "id": "cb65d7b1-44b5-4679-ba36-38c9b9565974",
   "metadata": {
    "jp-MarkdownHeadingCollapsed": true
   },
   "source": [
    "### The bn Naming convention"
   ]
  },
  {
   "cell_type": "markdown",
   "id": "4dad0de7-d213-46a9-a060-91301de4ed53",
   "metadata": {
    "jp-MarkdownHeadingCollapsed": true
   },
   "source": [
    "1. df > used for python >>>>>>>>>>>>>>>>>>>>>>>>>>>> ***df_basename[]***\n",
    "2. Excel file > used to fill df used for python  >>>> ***xl_basename.xlxs***\n",
    "3. wb > wb_name held in xl file       >>>>>>>>>>>>>>> ***xl_basename***\n",
    "4. ws > worksheet in wb       >>>>>>>>>>>>>>>>>>>>>> ***xl_basename***\n",
    "5. xl_tbl > table`name in ws  >>>>>>>>>>>>>>>>>>>>>  ***xl_basename***\n",
    "6. to load ***df_basename[]*** from>>***xl_basename.xlxs*** call ***def read function(\"basename\")***\n",
    "7.to export ***df_basename[]*** to >>***xl_basename.xlxs*** call ***def export function(\"basename\")***\n",
    "8. to create ***basename family*** >>>>  call     ***init(basemame)***\n",
    "10.  basename_family_data is loaded in basename=bn_fit"
   ]
  },
  {
   "cell_type": "markdown",
   "id": "6c1b602f-3565-4f9d-9c77-11d21ba3216d",
   "metadata": {
    "jp-MarkdownHeadingCollapsed": true
   },
   "source": [
    "### The basename List"
   ]
  },
  {
   "cell_type": "markdown",
   "id": "d85f2196-2154-4f92-9deb-040d71e75fb7",
   "metadata": {},
   "source": [
    "1. bn_dir\n",
    "2. UTI\n",
    "3. dtclms\n",
    "4. dt_clm\n",
    "5. grps\n",
    "6. attrbs\n",
    "7. "
   ]
  },
  {
   "cell_type": "markdown",
   "id": "6c01c606-b210-4cf7-9ffe-02adb15274aa",
   "metadata": {
    "jp-MarkdownHeadingCollapsed": true
   },
   "source": [
    "### The Data structures "
   ]
  },
  {
   "cell_type": "markdown",
   "id": "27238a13-dfa1-4387-bb3d-a98759eea89e",
   "metadata": {
    "jp-MarkdownHeadingCollapsed": true
   },
   "source": [
    "## The data  *(stored in xl)*:"
   ]
  },
  {
   "cell_type": "markdown",
   "id": "799a2760-d9eb-4a08-be01-39b0f0eea80c",
   "metadata": {
    "jp-MarkdownHeadingCollapsed": true
   },
   "source": [
    "### The data list"
   ]
  },
  {
   "cell_type": "markdown",
   "id": "7e5d49df-74de-4f02-914b-0e5f89fde76d",
   "metadata": {
    "jp-MarkdownHeadingCollapsed": true
   },
   "source": [
    "## The def_functions"
   ]
  },
  {
   "cell_type": "code",
   "execution_count": 9,
   "id": "4180df77-2970-41b8-8b61-762247e264b3",
   "metadata": {},
   "outputs": [],
   "source": [
    "def init_basename(basename):\n",
    "    df = \"df_\" + basename\n",
    "    xl_file = \"xl_\" + basename +\".xlxs\"\n",
    "    wb = \"xl_\" + basename\n",
    "    ws = \"xl_\" + basename\n",
    "    tbl = \"xl_\" + basename\n",
    "    return df,xl_file,wb,ws,tbl\n",
    "    \n",
    "    "
   ]
  },
  {
   "cell_type": "markdown",
   "id": "0c4af448-9c23-4bef-87bb-b74cdf1f4f25",
   "metadata": {
    "jp-MarkdownHeadingCollapsed": true
   },
   "source": [
    "## The calls for fncts"
   ]
  },
  {
   "cell_type": "code",
   "execution_count": null,
   "id": "d302e92d-f148-49ad-a5eb-5762e2bc64b1",
   "metadata": {},
   "outputs": [],
   "source": [
    "df,xl_file,wb,ws,tbl = init_basename(\"tbl\")\n",
    "print(df,xl_file,wb,ws,tbl)"
   ]
  },
  {
   "cell_type": "markdown",
   "id": "415e7350-be7f-49e1-8d4c-44155385f9aa",
   "metadata": {
    "jp-MarkdownHeadingCollapsed": true
   },
   "source": [
    "### basename system"
   ]
  },
  {
   "cell_type": "markdown",
   "id": "8979cf7b-3f88-476e-8ab5-b7ef8672bd8d",
   "metadata": {
    "jp-MarkdownHeadingCollapsed": true
   },
   "source": [
    "# next Topic"
   ]
  },
  {
   "cell_type": "code",
   "execution_count": null,
   "id": "2f4e3f2b-0d7a-47f1-98ed-bbd0877bd93e",
   "metadata": {},
   "outputs": [],
   "source": []
  }
 ],
 "metadata": {
  "kernelspec": {
   "display_name": "Python (scu)",
   "language": "python",
   "name": "scu"
  },
  "language_info": {
   "codemirror_mode": {
    "name": "ipython",
    "version": 3
   },
   "file_extension": ".py",
   "mimetype": "text/x-python",
   "name": "python",
   "nbconvert_exporter": "python",
   "pygments_lexer": "ipython3",
   "version": "3.11.13"
  }
 },
 "nbformat": 4,
 "nbformat_minor": 5
}
