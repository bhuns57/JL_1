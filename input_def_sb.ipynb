{
 "cells": [
  {
   "cell_type": "markdown",
   "id": "2c949419-c701-4c49-99ef-f05d5faa597a",
   "metadata": {},
   "source": [
    "# **Input function for dt_clms.log**"
   ]
  },
  {
   "cell_type": "markdown",
   "id": "b6398438-5bc6-4cf5-a807-7f0bf992a03c",
   "metadata": {},
   "source": [
    "### Background"
   ]
  },
  {
   "cell_type": "markdown",
   "id": "7c8184e8-80d7-4c84-9be5-f92f8e81cdfb",
   "metadata": {},
   "source": [
    "I have a \"df_dt_clms.log\" datafrane that has a shape = 5 x 7 the column heads of df_dt_clms_log.colunms is a list = [\"DATE_V\",\"dt_ckms1\", ... ,\"dt_ckms6\"] It will first ask for the DATE_V for the row to be loaded and then find the row in df_dt_clms.log, where ]\"DATE_V\"]} has that value. Then will go to each column in that row, show the column name, and request a value, When the dt_clm value is entered, it goes to the next dt_clms.; if enter is struck with no value it wiill jump to next col leave the cell untouched When it gets to the end of the row, it prints out the row and asks for a confirmation to complete the row entry\n",
    "Got it, Bill — sounds like you're setting up a kind of interactive data editor for a specific row in a pandas DataFrame based on the date. Here's a Python function that does just that using `input()` to guide the user through updating each field:"
   ]
  },
  {
   "cell_type": "markdown",
   "id": "7134b7a4-374e-47a4-add3-e2b41538781c",
   "metadata": {},
   "source": [
    "### How it works "
   ]
  },
  {
   "cell_type": "markdown",
   "id": "b824c021-1e58-4058-9243-ce7360aee6ed",
   "metadata": {},
   "source": [
    "\n",
    "- Prompts for `DATE_V` to identify the target row.\n",
    "- Iterates through the other columns, shows current values, and lets you decide whether to update each one.\n",
    "- Skips a field if Enter is pressed without a new value.\n",
    "- Displays the updated row and asks for final confirmation before applying the edits.    "
   ]
  },
  {
   "cell_type": "markdown",
   "id": "abce9b1b-c973-4ffe-a0be-0712e1cf7e5c",
   "metadata": {},
   "source": [
    "**def update_row_by_date(df, date_key=\"DATE_V\"):**"
   ]
  },
  {
   "cell_type": "code",
   "execution_count": null,
   "id": "c1c65c35-5fad-470d-804b-ac5a6f585e6e",
   "metadata": {},
   "outputs": [],
   "source": [
    "import pandas as pd\n",
    "from F_my_utils\n",
    "\n",
    "\n",
    "def update_row_by_date(df, date_key=\"DATE_V\"):\n",
    "    target_date = input(f\"Enter {date_key} to load row: \").strip()\n",
    "    \n",
    "    # Locate the row\n",
    "    match = df[df[date_key] == target_date]                            # FIND WHERE daTE KEY MATCHES\n",
    "    if match.empty:\n",
    "        print(f\"No match found for {date_key} = '{target_date}'\")\n",
    "        return df                                                     # ABORT IF DATE V DOES NOT EXIST\n",
    "\n",
    "    # Get row index and create a copy\n",
    "    idx = match.index[0]\n",
    "    updated_row = df.loc[idx].copy()\n",
    "\n",
    "    # Walk through columns (skip date column)\n",
    "    for col in df.columns:\n",
    "        if col == date_key:\n",
    "            continue\n",
    "        current_value = updated_row[col]\n",
    "        new_val = input(f\"{col} (current: {current_value}): \").strip()\n",
    "        if new_val != \"\":\n",
    "            updated_row[col] = new_val\n",
    "\n",
    "    # Show updated row\n",
    "    print(\"\\n🔍 Updated row preview:\")\n",
    "    print(updated_row.to_frame().T)\n",
    "\n",
    "    confirm = input(\"Confirm update? (y to accept): \").strip().lower()\n",
    "    if confirm == \"y\":\n",
    "        df.loc[idx] = updated_row\n",
    "        print(\"✅ Row updated.\")\n",
    "    else:\n",
    "        print(\"❌ Update canceled.\")\n",
    "\n",
    "    return df\n"
   ]
  },
  {
   "cell_type": "code",
   "execution_count": null,
   "id": "c6b4e4ec-be99-415a-a842-7832063b3fb7",
   "metadata": {},
   "outputs": [],
   "source": [
    "# CREATE THE CALL FOR THE UPDATE INPUT FUCNTION \"update_row_by_date(df, date_key=\"DATE_V\")\"\n",
    "import F_my_utils as xlsync         # recal def functions placed in E_my_utils.py molule\n",
    "df \n",
    "update_row_by_date(df, date_key=\"DATE_V\")\n"
   ]
  },
  {
   "cell_type": "raw",
   "id": "b64e9468-b255-4ea0-9b09-3d1bd0be1544",
   "metadata": {},
   "source": [
    "# this is a copy from copilot in raw\n",
    "import pandas as pd\n",
    "\n",
    "def update_row_by_date(df, date_key=\"DATE_V\"):\n",
    "    target_date = input(f\"Enter {date_key} to load row: \").strip()\n",
    "    \n",
    "    # Locate the row\n",
    "    match = df[df[date_key] == target_date]\n",
    "    if match.empty:\n",
    "        print(f\"No match found for {date_key} = '{target_date}'\")\n",
    "        return df\n",
    "\n",
    "    # Get row index and create a copy\n",
    "    idx = match.index[0]\n",
    "    updated_row = df.loc[idx].copy()\n",
    "\n",
    "    # Walk through columns (skip date column)\n",
    "    for col in df.columns:\n",
    "        if col == date_key:\n",
    "            continue\n",
    "        current_value = updated_row[col]\n",
    "        new_val = input(f\"{col} (current: {current_value}): \").strip()\n",
    "        if new_val != \"\":\n",
    "            updated_row[col] = new_val\n",
    "\n",
    "    # Show updated row\n",
    "    print(\"\\n🔍 Updated row preview:\")\n",
    "    print(updated_row.to_frame().T)\n",
    "\n",
    "    confirm = input(\"Confirm update? (y to accept): \").strip().lower()\n",
    "    if confirm == \"y\":\n",
    "        df.loc[idx] = updated_row\n",
    "        print(\"✅ Row updated.\")\n",
    "    else:\n",
    "        print(\"❌ Update canceled.\")\n",
    "\n",
    "    return df\n"
   ]
  }
 ],
 "metadata": {
  "kernelspec": {
   "display_name": "Python (scu)",
   "language": "python",
   "name": "scu"
  },
  "language_info": {
   "codemirror_mode": {
    "name": "ipython",
    "version": 3
   },
   "file_extension": ".py",
   "mimetype": "text/x-python",
   "name": "python",
   "nbconvert_exporter": "python",
   "pygments_lexer": "ipython3",
   "version": "3.11.13"
  }
 },
 "nbformat": 4,
 "nbformat_minor": 5
}
