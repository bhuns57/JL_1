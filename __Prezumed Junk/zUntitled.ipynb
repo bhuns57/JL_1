{
 "cells": [
  {
   "cell_type": "code",
   "execution_count": null,
   "id": "d90f6a50-e073-4247-9bdd-abecf9791dd4",
   "metadata": {},
   "outputs": [],
   "source": [
    "echo off\n",
    "cd JL_1\n",
    "conda activate scu\n",
    "jupyter lab"
   ]
  }
 ],
 "metadata": {
  "kernelspec": {
   "display_name": "Python (scu)",
   "language": "python",
   "name": "scu"
  },
  "language_info": {
   "codemirror_mode": {
    "name": "ipython",
    "version": 3
   },
   "file_extension": ".py",
   "mimetype": "text/x-python",
   "name": "python",
   "nbconvert_exporter": "python",
   "pygments_lexer": "ipython3",
   "version": "3.11.13"
  }
 },
 "nbformat": 4,
 "nbformat_minor": 5
}
