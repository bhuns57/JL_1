{
 "cells": [
  {
   "cell_type": "markdown",
   "id": "9da0e802-cba9-47c6-98e3-8d0b2de18518",
   "metadata": {
    "editable": true,
    "jp-MarkdownHeadingCollapsed": true,
    "slideshow": {
     "slide_type": ""
    },
    "tags": [
     "test_tags"
    ]
   },
   "source": [
    "# 1RatLabs Readme\n",
    "[Click here to create code to make a link in markdown](https://example.com)\n"
   ]
  },
  {
   "cell_type": "markdown",
   "id": "e70186c1-ecc9-4f46-a210-bf6ea5d8e3a1",
   "metadata": {},
   "source": [
    "### All History Mrn Mstr Inbody data values thru 08/04/2025 path\n",
    "***Repo***   path ***\"\\\\wsl.localhost\\Ubuntu\\home\\bhuns\\JL_1\\mrn_mstr_vals_8_04.csv\"***"
   ]
  },
  {
   "cell_type": "markdown",
   "id": "043892c1-906f-487f-b21c-73911cc70479",
   "metadata": {
    "editable": true,
    "slideshow": {
     "slide_type": ""
    },
    "tags": [],
    "toc-hr-collapsed": true
   },
   "source": [
    "## The 1RatLabs.Goals"
   ]
  },
  {
   "cell_type": "markdown",
   "id": "fea11f2c-aaab-4be0-8648-044880dd5c6f",
   "metadata": {},
   "source": [
    "### The goals list"
   ]
  },
  {
   "cell_type": "markdown",
   "id": "e9d5bf2a-3333-4ba6-aa29-da9f0e305b8b",
   "metadata": {
    "jp-MarkdownHeadingCollapsed": true
   },
   "source": [
    "1. To learn to measure the cause and effect of lifestyle changes.\n",
    "2. Use this info to adjust my lifestyle to produce the best possible health for my body."
   ]
  },
  {
   "cell_type": "markdown",
   "id": "bd4df19d-8c01-4e26-9ea1-fd4393454d46",
   "metadata": {
    "tags": []
   },
   "source": [
    "#### Mission"
   ]
  },
  {
   "cell_type": "markdown",
   "id": "b64e0e6c-ccfd-4e0f-bef5-9f68c70fee90",
   "metadata": {},
   "source": [
    "***\"A thief comes to plunder and steal, but I strive to make your life more abundant\"***"
   ]
  },
  {
   "cell_type": "markdown",
   "id": "f6f823f7-4480-4a89-9892-f6c3568ecd12",
   "metadata": {},
   "source": [
    "***“Subconscious, lets work together to make Absolute Peace throughout our entire being.”***"
   ]
  },
  {
   "cell_type": "markdown",
   "id": "20f8dd2c-416a-4e52-990c-ee5dcb2e1ddf",
   "metadata": {
    "tags": []
   },
   "source": [
    "***Creator, I ask for Absolute Peace throughout my entire being.***"
   ]
  },
  {
   "cell_type": "markdown",
   "id": "1b9f5efc-57d3-4144-89e4-70d62027769f",
   "metadata": {
    "editable": true,
    "slideshow": {
     "slide_type": ""
    },
    "tags": []
   },
   "source": [
    "## The log data dictionary system (lds)"
   ]
  },
  {
   "cell_type": "markdown",
   "id": "0d3fae41-fff3-40d6-a15e-a46ad9d8b1d3",
   "metadata": {
    "jp-MarkdownHeadingCollapsed": true,
    "tags": []
   },
   "source": [
    "### Goals: "
   ]
  },
  {
   "cell_type": "markdown",
   "id": "054db120-c4e4-4201-9b10-ae7225724de5",
   "metadata": {
    "tags": []
   },
   "source": [
    "1. The logs consist of a large number of data series [ds] each cataloged in a dictionary [dict] holding a list of objects that are sy\n",
    "2.\n",
    "3.   2d df with an index  DATE_V col and a single data list of global len this list has a dnigita\n",
    "4. "
   ]
  },
  {
   "cell_type": "markdown",
   "id": "bf54dce8-75d0-4570-890e-851f032eb1a7",
   "metadata": {
    "tags": []
   },
   "source": [
    "### ***ds_dt_clm***\" is a data series designed as a standardize object that holds the records for one data type in logged records with:"
   ]
  },
  {
   "cell_type": "markdown",
   "id": "110f9546-8ee2-44c4-995f-4b231f7e5061",
   "metadata": {
    "tags": []
   },
   "source": [
    "##### Notes:"
   ]
  },
  {
   "cell_type": "markdown",
   "id": "dc1e74b6-47a7-49a2-9a6a-98f3846a4bae",
   "metadata": {
    "jp-MarkdownHeadingCollapsed": true
   },
   "source": [
    "1. dn = [unique name with a bn root]\n",
    "2. list[data list same len as DATE_V]\n",
    "3. cls with attributes and methods\n",
    "4. dn_cls.attrbts = name, dtype, ..others in attribute table\n",
    "5. dn_cls.methods = input,convolve, others in methods table"
   ]
  },
  {
   "cell_type": "markdown",
   "id": "54100b54-7c54-450b-bae4-32a6d8de3cdd",
   "metadata": {
    "tags": []
   },
   "source": [
    "##### Shape:"
   ]
  },
  {
   "cell_type": "markdown",
   "id": "c1f0ff67-ace2-4763-b075-3b4d98fc85b4",
   "metadata": {
    "editable": true,
    "slideshow": {
     "slide_type": ""
    },
    "tags": []
   },
   "source": [
    "***ds_dt_clm***  data series:            \n",
    "\tname:  bn\n",
    "    size:  std len\n",
    "    dtyp:  [str, int, with deciol,logic]"
   ]
  },
  {
   "cell_type": "markdown",
   "id": "1c406ada-8427-492c-b60e-dfc5b2ae305f",
   "metadata": {
    "tags": []
   },
   "source": [
    "### The ***dict_dt_clms*** "
   ]
  },
  {
   "cell_type": "markdown",
   "id": "8c911cce-bddb-44cb-a90f-d5d5ef49a4c2",
   "metadata": {
    "editable": true,
    "jp-MarkdownHeadingCollapsed": true,
    "slideshow": {
     "slide_type": ""
    },
    "tags": []
   },
   "source": [
    "#### ***Notes:***"
   ]
  },
  {
   "cell_type": "markdown",
   "id": "afcfa940-1117-45e3-9c57-aad7638178d0",
   "metadata": {
    "editable": true,
    "slideshow": {
     "slide_type": ""
    },
    "tags": []
   },
   "source": [
    "1. ds_dt_clm[0] = DATE_V.name\n",
    "2. all ds_dt_clm.name = bn\n",
    "3. all ds_dt_clm.list= all same len\n",
    "4. all ds_dt_clm.dtyp = [str,int,floats,logic]\n",
    "5. ds_dt_clm[0].name = DATE_V.name\n",
    "6. row = ds_dt_clm[0] = DATE_V.list [sorted]\n",
    "7. index = ds_dt_clm[0] = DATE_V.list\n",
    "8. Save a working version in excel\n",
    "9. Save a bu_history of versions in csv_file"
   ]
  },
  {
   "cell_type": "markdown",
   "id": "76268372-5632-4348-ac61-2e39bd34dee2",
   "metadata": {
    "editable": true,
    "slideshow": {
     "slide_type": ""
    },
    "tags": []
   },
   "source": [
    "#### ***dict_dt_clms*** is the ,main data log dict that:"
   ]
  },
  {
   "cell_type": "markdown",
   "id": "4493a50b-8f5d-4625-98d8-a308c1a0eaa3",
   "metadata": {
    "editable": true,
    "slideshow": {
     "slide_type": ""
    },
    "tags": []
   },
   "source": [
    "1. holds many **ds_dt_clm**\n",
    "2. all identical lengths\n",
    "3. all indexed to **DATE_V** in col 0"
   ]
  },
  {
   "cell_type": "markdown",
   "id": "f5d94fc7-c060-4a3e-9c0c-30294f1a8930",
   "metadata": {
    "editable": true,
    "slideshow": {
     "slide_type": ""
    },
    "tags": []
   },
   "source": [
    "#### ***dict_dt_clms*** is a dict that:"
   ]
  },
  {
   "cell_type": "markdown",
   "id": "48df5565-729e-4d48-ab5b-7d1c2404d0cb",
   "metadata": {
    "editable": true,
    "slideshow": {
     "slide_type": ""
    },
    "tags": []
   },
   "source": [
    "1. holds all **ds_dt_clm**s that:\n",
    "2. all have same length\n",
    "3. all indexed to **DATE_V** in col 0\n",
    "4. **DATE_V** sorted"
   ]
  },
  {
   "cell_type": "markdown",
   "id": "b31e59f6-7898-4a07-99e7-1babe5dcb0fc",
   "metadata": {
    "editable": true,
    "slideshow": {
     "slide_type": ""
    },
    "tags": []
   },
   "source": [
    "#### Shape"
   ]
  },
  {
   "cell_type": "code",
   "execution_count": null,
   "id": "8d3b0630-880b-4ce8-b83c-b006d1c79ff8",
   "metadata": {
    "editable": true,
    "slideshow": {
     "slide_type": ""
    },
    "tags": []
   },
   "outputs": [],
   "source": [
    "example 1\n",
    "\n",
    "ds_dt_clm.name = \"bill\",\"jack\"  \n",
    "ds_dt_clm.value = [1,3],[4,5]  \n",
    "ds_dt_clm.ds_dt_type = int,str\n",
    "\n",
    "DATE_V = 5 day starting with 80545\n",
    "__________________________________________________________________________\n",
    "dict1 = dict_dt_clms{          \n",
    "\tkey 0 : DATE_V\n",
    "    key 1 : ds_dt_clm.name,  \n",
    "    key 2 : ds_dt_clm.value,  \n",
    "    key 3 : ds_dt_clm.ds_dt_type,    \n",
    " }\n",
    " \n",
    " **DATE_V** is unbroken sorted list of \"len\"  integers that is the number days since 1/1/1900]\n",
    " **ds_dt_clm** is a **ds** that has attributes of **name** , **list**, and **dt_type**\n",
    "  \n",
    "please correct my errors and made function to build the dictionary\n",
    " "
   ]
  },
  {
   "cell_type": "markdown",
   "id": "ee7bc32d-3d1c-4d27-889e-5d9ee8d80ade",
   "metadata": {
    "tags": []
   },
   "source": [
    "## The working dictionary structures (wds)"
   ]
  },
  {
   "cell_type": "markdown",
   "id": "f75195ec-020f-4a08-869a-e64fe45a92d3",
   "metadata": {
    "tags": []
   },
   "source": [
    "#### ***df_wrk_clm***\" is a 2D df that populated by DATE_V and 1 or more dict_dt_clm from dict_dt_clms consisting of:\n",
    "1. the DATE_V from dict_dt_clms[0] as the index series\n",
    "2. 1 or more dict_dt_clm from dict_dt_clms as col in the wrk_dt_clms\n",
    "3. the wrk_dt_clms to be included will be read from a grp list.\n",
    "4. Used for input,output or processing.\n",
    "5. The updated values will be written back to dict_dt_clms\n",
    "6. then update dict_dt_clms is copied to the dict_dt_clms_git [a csv.file tracked by git]"
   ]
  },
  {
   "cell_type": "markdown",
   "id": "94c33785-8203-4500-8bf8-f3d8ebaf884e",
   "metadata": {
    "tags": []
   },
   "source": [
    "##### Notes:"
   ]
  },
  {
   "cell_type": "markdown",
   "id": "56ecb2cd-932a-4828-a8a5-5fc047694c1e",
   "metadata": {
    "tags": []
   },
   "source": [
    "## Creating [working DataFrame] df_wrk_clm from dict_dt_clms"
   ]
  },
  {
   "cell_type": "code",
   "execution_count": 2,
   "id": "23d0030b-d2a9-4a71-b057-49d5c8789cc4",
   "metadata": {},
   "outputs": [
    {
     "ename": "SyntaxError",
     "evalue": "invalid syntax (1072831081.py, line 1)",
     "output_type": "error",
     "traceback": [
      "  \u001b[36mCell\u001b[39m\u001b[36m \u001b[39m\u001b[32mIn[2]\u001b[39m\u001b[32m, line 1\u001b[39m\n\u001b[31m    \u001b[39m\u001b[31m1. The list of dtcols in grp\u001b[39m\n       ^\n\u001b[31mSyntaxError\u001b[39m\u001b[31m:\u001b[39m invalid syntax\n"
     ]
    }
   ],
   "source": [
    "1. The list of dtcols in grp\n",
    "2. Copy the lists \n",
    "3. "
   ]
  },
  {
   "cell_type": "markdown",
   "id": "13c86691-022a-4c2b-a6b1-5d43e00c1262",
   "metadata": {},
   "source": [
    "## Recording updates from modified  [working DataFrame] wrk_df into dict_dt_clms"
   ]
  },
  {
   "cell_type": "markdown",
   "id": "93142310-8329-4d45-8c0b-ea9c51fa86ad",
   "metadata": {
    "tags": []
   },
   "source": [
    "1. The updated values will be written back to dict_dt_clms\n",
    "2. then update dict_dt_clms is copied to the dict_dt_clms_git [a csv.file tracked by git]"
   ]
  },
  {
   "cell_type": "markdown",
   "id": "799a2760-d9eb-4a08-be01-39b0f0eea80c",
   "metadata": {
    "tags": []
   },
   "source": [
    "### The data list"
   ]
  },
  {
   "cell_type": "markdown",
   "id": "cb65d7b1-44b5-4679-ba36-38c9b9565974",
   "metadata": {},
   "source": [
    "## The \"bn\" Naming convention"
   ]
  },
  {
   "cell_type": "markdown",
   "id": "4dad0de7-d213-46a9-a060-91301de4ed53",
   "metadata": {
    "jp-MarkdownHeadingCollapsed": true
   },
   "source": [
    "1.cls > type of object ie xl_data files or dfs or dicts etc use=bn[df_xl]\n",
    "2. df > used for python >>>>>>>>>>>>>>>>>>>>>>>>>>>> ***df_basename[]***\n",
    "3. Excel file > used to fill df used for python  >>>> ***xl_basename.xlxs***\n",
    "4. wb > wb_name held in xl file       >>>>>>>>>>>>>>> ***xl_basename***\n",
    "5. ws > worksheet in wb       >>>>>>>>>>>>>>>>>>>>>> ***xl_basename***\n",
    "6. xl_tbl > table`name in ws  >>>>>>>>>>>>>>>>>>>>>  ***xl_basename***\n",
    "7. to load ***df_basename[]*** from>>***xl_basename.xlxs*** call ***def read function(\"basename\")***\n",
    "7.to export ***df_basename[]*** to >>***xl_basename.xlxs*** call ***def export function(\"basename\")***\n",
    "8. to create ***basename family*** >>>>  call     ***init(basemame)***\n",
    "10.  basename_family_data is loaded in basename=bn_fit"
   ]
  },
  {
   "cell_type": "markdown",
   "id": "623c4327-ab08-468c-89e9-de63fe0e2c24",
   "metadata": {},
   "source": [
    "1. ***ttd:*** load this into a bn_dict where key1 is the bn_class and key is the bn_name\n",
    "2. ***ttd:*** modify load to use bn_class & (bn_name)"
   ]
  },
  {
   "cell_type": "markdown",
   "id": "ead044a3-3c5e-4639-b990-cb4f42cdc96e",
   "metadata": {
    "jp-MarkdownHeadingCollapsed": true
   },
   "source": [
    "### The basename naming system (bn)"
   ]
  },
  {
   "cell_type": "markdown",
   "id": "6c1b602f-3565-4f9d-9c77-11d21ba3216d",
   "metadata": {
    "jp-MarkdownHeadingCollapsed": true
   },
   "source": [
    "### The basename List has classification col, discriprion col"
   ]
  },
  {
   "cell_type": "markdown",
   "id": "d85f2196-2154-4f92-9deb-040d71e75fb7",
   "metadata": {},
   "source": [
    "1. bn_dir\n",
    "2. DATE_V_UTI\n",
    "3. dtclms\n",
    "4. dt_clm\n",
    "5. grps\n",
    "6. attrbs\n",
    "7. O2plot_7_29"
   ]
  },
  {
   "cell_type": "markdown",
   "id": "ee445a89-d6be-4b73-aa5d-3bd81b7f8f98",
   "metadata": {},
   "source": [
    "## Dealing with the WSL & Windows directories"
   ]
  },
  {
   "cell_type": "markdown",
   "id": "50d7f2d5-dc9c-4c21-bb3f-fcb6447da960",
   "metadata": {
    "jp-MarkdownHeadingCollapsed": true
   },
   "source": [
    "### Using windows app ie xcell & word in conjuncton Jupyter Lab"
   ]
  },
  {
   "cell_type": "markdown",
   "id": "37aea80d-80f0-43f4-9734-53de10cfa444",
   "metadata": {},
   "source": [
    "1. Run and creat windows apps files from exporer showing repo director\n",
    "2. Import and export only data"
   ]
  },
  {
   "cell_type": "markdown",
   "id": "98e2503e-7dfa-4286-a1ba-1e21c451eb59",
   "metadata": {},
   "source": []
  },
  {
   "cell_type": "markdown",
   "id": "7e5d49df-74de-4f02-914b-0e5f89fde76d",
   "metadata": {},
   "source": [
    "## The custom functions"
   ]
  },
  {
   "cell_type": "markdown",
   "id": "1947b59e-f28a-4933-90bc-75fb73b07118",
   "metadata": {},
   "source": [
    "### Init functions"
   ]
  },
  {
   "cell_type": "code",
   "execution_count": 3,
   "id": "4180df77-2970-41b8-8b61-762247e264b3",
   "metadata": {},
   "outputs": [],
   "source": [
    "def init_basename(basename):\n",
    "    df = \"df_\" + basename\n",
    "    xl_file = \"xl_\" + basename +\".xlxs\"\n",
    "    wb = \"xl_\" + basename\n",
    "    ws = \"xl_\" + basename\n",
    "    tbl = \"xl_\" + basename\n",
    "    return df,xl_file,wb,ws,tbl\n",
    "    \n",
    "    "
   ]
  },
  {
   "cell_type": "markdown",
   "id": "ff43454d-6867-4bd7-97cb-2c6b43bf106c",
   "metadata": {},
   "source": [
    "### Load df_xl functions"
   ]
  },
  {
   "cell_type": "raw",
   "id": "f04f9055-240a-40de-bd55-0cc9f7a7d2c0",
   "metadata": {},
   "source": [
    "def \n",
    "    df_hr = load_df(\"hr_tbl\", \"hr_tbl.xlsx\", \"hr_tbl\")\n",
    "    write_df(df_hr, \"hr_tbl\", \"hr_tbl.xlsx\", \"hr_tbl\")"
   ]
  },
  {
   "cell_type": "markdown",
   "id": "f3fb1bc7-af6d-49f9-9242-17d34961cd53",
   "metadata": {},
   "source": [
    "### Write df_xl functions"
   ]
  },
  {
   "cell_type": "code",
   "execution_count": null,
   "id": "69904b9e-b60e-4ced-b392-1b24eea6e9f6",
   "metadata": {
    "jupyter": {
     "source_hidden": true
    }
   },
   "outputs": [],
   "source": [
    "def \n",
    "    df_hr = load_df(\"hr_tbl\", \"hr_tbl.xlsx\", \"hr_tbl\")\n",
    "    write_df(df_hr, \"hr_tbl\", \"hr_tbl.xlsx\", \"hr_tbl\")"
   ]
  },
  {
   "cell_type": "markdown",
   "id": "44f93640-ca7f-4303-9ac6-dc5226e3af70",
   "metadata": {},
   "source": [
    "## The calls for custom functions"
   ]
  },
  {
   "cell_type": "code",
   "execution_count": 5,
   "id": "d302e92d-f148-49ad-a5eb-5762e2bc64b1",
   "metadata": {},
   "outputs": [
    {
     "name": "stdout",
     "output_type": "stream",
     "text": [
      "df_bnx xl_bnx.xlxs xl_bnx xl_bnx xl_bnx\n"
     ]
    }
   ],
   "source": [
    "bnx = \"DATE_V_UTI\"\n",
    "bnx = \"O2plot_7_29\"\n",
    "\n",
    "df,xl_file,wb,ws,tbl = init_basename(\"bnx\")\n",
    "print(df,xl_file,wb,ws,tbl)"
   ]
  },
  {
   "cell_type": "markdown",
   "id": "415e7350-be7f-49e1-8d4c-44155385f9aa",
   "metadata": {
    "jp-MarkdownHeadingCollapsed": true
   },
   "source": [
    "### Manual data input function goals"
   ]
  },
  {
   "cell_type": "markdown",
   "id": "08f586c8-c5cc-4a22-9583-f6dfe93d878f",
   "metadata": {},
   "source": [
    "1.\n",
    "2. input_log(df_xl,row_strt,row_stp,col_strt,col_stp)\n",
    "3. display row_name & cn & today_date_v & 2025/day/mo calc option\n",
    "4. input by row or col\n",
    "5. if by row \n",
    "6. for row_strt,row_stp\n",
    "7. for col_strt,col_stp\n",
    "8. display name list\n",
    "9. cell name, cell value\n",
    "15. changes cell value with \"keyed in value\" or skips on enter \"\"\n",
    "13. else\n",
    "10. col_strt,col_stp\n",
    "11. for row_strt,row_stp\n",
    "12. Each cell\n",
    "13.\n",
    "16. "
   ]
  },
  {
   "cell_type": "markdown",
   "id": "17427770-822e-461c-8ba2-bc326b996824",
   "metadata": {},
   "source": [
    "# Future Topic"
   ]
  },
  {
   "cell_type": "code",
   "execution_count": null,
   "id": "93294f9f-bb67-4667-81a5-531e2dfc54ef",
   "metadata": {},
   "outputs": [],
   "source": [
    "###### ssc"
   ]
  },
  {
   "cell_type": "code",
   "execution_count": null,
   "id": "10d24588-97b2-46da-8749-3bc5cb6eae20",
   "metadata": {},
   "outputs": [],
   "source": [
    "###### ssc"
   ]
  },
  {
   "cell_type": "raw",
   "id": "58a52f3c-1f4f-4928-85ae-1b7519d118dd",
   "metadata": {},
   "source": [
    "###### ssc"
   ]
  },
  {
   "cell_type": "code",
   "execution_count": null,
   "id": "5e6921ad-bfa0-468d-a6cd-3310dc86206d",
   "metadata": {},
   "outputs": [],
   "source": []
  }
 ],
 "metadata": {
  "kernelspec": {
   "display_name": "Python (scu)",
   "language": "python",
   "name": "scu"
  },
  "language_info": {
   "codemirror_mode": {
    "name": "ipython",
    "version": 3
   },
   "file_extension": ".py",
   "mimetype": "text/x-python",
   "name": "python",
   "nbconvert_exporter": "python",
   "pygments_lexer": "ipython3",
   "version": "3.11.13"
  },
  "toc-autonumbering": false,
  "toc-showcode": true,
  "toc-showmarkdowntxt": false,
  "toc-showtags": false
 },
 "nbformat": 4,
 "nbformat_minor": 5
}
