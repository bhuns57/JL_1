{
 "cells": [
  {
   "cell_type": "markdown",
   "id": "2c949419-c701-4c49-99ef-f05d5faa597a",
   "metadata": {},
   "source": [
    "# Input function for dt_clms.log"
   ]
  },
  {
   "cell_type": "markdown",
   "id": "d117f761-9e52-49c6-b9ab-dc27bf564a94",
   "metadata": {},
   "source": [
    "import pandas as pd\n",
    "\n",
    "def update_row_by_date(df):\n",
    "    date_val = input(\"Enter DATE_V for the row to edit: \")\n",
    "    \n",
    "    if date_val not in df[\"DATE_V\"].values:\n",
    "        print(f\"DATE_V '{date_val}' not found in DataFrame.\")\n",
    "        return df\n",
    "\n",
    "    row_index = df.index[df[\"DATE_V\"] == date_val][0]\n",
    "    print(f\"Editing row:\\n{df.loc[row_index]}\")\n",
    "\n",
    "    for col in df.columns:\n",
    "        if col == \"DATE_V\":\n",
    "            continue\n",
    "        current_val = df.at[row_index, col]\n",
    "        new_val = input(f\"{col} (current value: {current_val}) → Enter new value or press Enter to skip: \")\n",
    "        if new_val != \"\":\n",
    "            df.at[row_index, col] = new_val\n",
    "\n",
    "    print(\"\\nUpdated row:\")\n",
    "    print(df.loc[row_index])\n",
    "dat\n",
    "    confirm = input(\"Confirm update? (y/n): \")\n",
    "    if confirm.lower() != \"y\":\n",
    "        print(\"Update canceled.\")\n",
    "        return df\n",
    "    else:\n",
    "        print(\"Row updated.\")\n",
    "        return df\n"
   ]
  },
  {
   "cell_type": "markdown",
   "id": "733d0c6a-763f-4778-b5c4-40cfe58b5577",
   "metadata": {},
   "source": [
    "instructions\n",
    "\n",
    "I have a \"df_dt_clms.log\" datafrane that has a shape = 5 x 7 the column heads of df_dt_clms_log.colunms is a list = [\"DATE_V\",\"dt_ckms1\", ... ,\"dt_ckms6\"] It will first ask for the DATE_V for the row to be loaded and then find the row in df_dt_clms.log, where ]\"DATE_V\"]} has that value. Then will go to each column in that row, show the column name, and request a value, When the dt_clm value is entered, it goes to the next dt_clms.; if enter is struck with no value it wiill jump to next col leave the cell untouched When it gets to the end of the row, it prints out the row and asks for a confirmation to complete the row entry\n",
    "Got it, Bill — sounds like you're setting up a kind of interactive data editor for a specific row in a pandas DataFrame based on the date. Here's a Python function that does just that using `input()` to guide the user through updating each field:\n",
    "#-------------------------------------------------------------------------------------\n",
    "```python\n"
   ]
  },
  {
   "cell_type": "markdown",
   "id": "bbe2957f-49e6-4fb1-989f-b8d92b65de4c",
   "metadata": {},
   "source": [
    "**Enter example table and run**\n"
   ]
  },
  {
   "cell_type": "code",
   "execution_count": null,
   "id": "f3d8ca7a-e123-4f33-bf8e-6e68799f0c8d",
   "metadata": {},
   "outputs": [],
   "source": []
  }
 ],
 "metadata": {
  "kernelspec": {
   "display_name": "Python (scu)",
   "language": "python",
   "name": "scu"
  },
  "language_info": {
   "codemirror_mode": {
    "name": "ipython",
    "version": 3
   },
   "file_extension": ".py",
   "mimetype": "text/x-python",
   "name": "python",
   "nbconvert_exporter": "python",
   "pygments_lexer": "ipython3",
   "version": "3.11.13"
  }
 },
 "nbformat": 4,
 "nbformat_minor": 5
}
