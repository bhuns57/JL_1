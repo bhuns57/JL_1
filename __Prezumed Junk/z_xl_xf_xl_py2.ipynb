{
 "cells": [
  {
   "cell_type": "code",
   "execution_count": null,
   "id": "a2fb7f5a-f3ce-4b23-bbff-5e68a8389d01",
   "metadata": {},
   "outputs": [],
   "source": [
    "import importlib\n",
    "importlib.reload(my_utils)\n"
   ]
  },
  {
   "cell_type": "code",
   "execution_count": 1,
   "id": "04981d57-43e9-437d-b367-519cb02b31be",
   "metadata": {},
   "outputs": [],
   "source": [
    "__version__ = \"1.0.0\"\n",
    "\n",
    "import pandas as pd\n",
    "from openpyxl import load_workbook, Workbook\n",
    "from openpyxl.worksheet.table import Table, TableStyleInfo\n",
    "from openpyxl.utils import get_column_letter\n",
    "\n",
    "def load_df_with_formulas(file_name=\"xl_tbl.xlsx\", sheet_name=\"xl_tbl\"):\n",
    "    \"\"\"\n",
    "    Reads an Excel sheet, preserving formulas and structure.\n",
    "    Returns a pandas DataFrame with formulas as strings.\n",
    "    \"\"\"\n",
    "    wb = load_workbook(file_name, data_only=False)\n",
    "    ws = wb[sheet_name]\n",
    "\n",
    "    data = []\n",
    "    for row in ws.iter_rows(values_only=False):\n",
    "        row_data = []\n",
    "        for cell in row:\n",
    "            if cell.value is not None:\n",
    "                if cell.data_type == 'f':\n",
    "                    row_data.append(f\"={cell.value}\")\n",
    "                else:\n",
    "                    row_data.append(cell.value)\n",
    "            else:\n",
    "                row_data.append(None)\n",
    "        data.append(row_data)\n",
    "\n",
    "    headers = data[0]\n",
    "    df = pd.DataFrame(data[1:], columns=headers)\n",
    "    return df\n",
    "\n",
    "def write_df_with_formulas(df, file_name=\"xl_tbl.xlsx\", sheet_name=\"xl_tbl\", table_name=\"xl_tbl\"):\n",
    "    \"\"\"\n",
    "    Writes a DataFrame to Excel, preserving formula strings.\n",
    "    Rebuilds the target sheet and formats it as a table.\n",
    "    \"\"\"\n",
    "    wb = Workbook()\n",
    "    ws = wb.active\n",
    "    ws.title = sheet_name\n",
    "\n",
    "    # Write headers\n",
    "    for col_idx, col_name in enumerate(df.columns, start=1):\n",
    "        ws.cell(row=1, column=col_idx, value=col_name)\n",
    "\n",
    "    # Write rows\n",
    "    for row_idx, row in enumerate(df.itertuples(index=False), start=2):\n",
    "        for col_idx, value in enumerate(row, start=1):\n",
    "            cell = ws.cell(row=row_idx, column=col_idx)\n",
    "            if isinstance(value, str) and value.startswith(\"=\"):\n",
    "                cell.value = value[1:]  # Strip '=' for Excel formula\n",
    "                cell.data_type = 'f'\n",
    "            else:\n",
    "                cell.value = value\n",
    "\n",
    "    # Create table\n",
    "    nrows, ncols = df.shape\n",
    "    table_range = f\"A1:{get_column_letter(ncols)}{nrows+1}\"\n",
    "    table = Table(displayName=table_name, ref=table_range)\n",
    "    style = TableStyleInfo(name=\"TableStyleMedium9\", showRowStripes=True)\n",
    "    table.tableStyleInfo = style\n",
    "    ws.add_table(table)\n",
    "\n",
    "    wb.save(file_name)\n"
   ]
  },
  {
   "cell_type": "code",
   "execution_count": 2,
   "id": "44d30735-b0c3-422c-8217-61b4cb9bcd51",
   "metadata": {},
   "outputs": [
    {
     "ename": "ImportError",
     "evalue": "attempted relative import with no known parent package",
     "output_type": "error",
     "traceback": [
      "\u001b[31m---------------------------------------------------------------------------\u001b[39m",
      "\u001b[31mImportError\u001b[39m                               Traceback (most recent call last)",
      "\u001b[36mCell\u001b[39m\u001b[36m \u001b[39m\u001b[32mIn[2]\u001b[39m\u001b[32m, line 3\u001b[39m\n\u001b[32m      1\u001b[39m __version__ = \u001b[33m\"\u001b[39m\u001b[33m1.0.0\u001b[39m\u001b[33m\"\u001b[39m\n\u001b[32m----> \u001b[39m\u001b[32m3\u001b[39m \u001b[38;5;28;01mfrom\u001b[39;00m\u001b[38;5;250m \u001b[39m\u001b[34;01m.\u001b[39;00m\u001b[34;01mmy_utils\u001b[39;00m\u001b[38;5;250m \u001b[39m\u001b[38;5;28;01mimport\u001b[39;00m load_df_with_formulas, write_df_with_formulas\n",
      "\u001b[31mImportError\u001b[39m: attempted relative import with no known parent package"
     ]
    }
   ],
   "source": [
    "__version__ = \"1.0.0\"\n",
    "\n",
    "from .my_utils import load_df_with_formulas, write_df_with_formulas\n"
   ]
  },
  {
   "cell_type": "code",
   "execution_count": null,
   "id": "ed1a1014-059d-4093-af6e-2f317ca92345",
   "metadata": {},
   "outputs": [],
   "source": []
  }
 ],
 "metadata": {
  "kernelspec": {
   "display_name": "Python (scu)",
   "language": "python",
   "name": "scu"
  },
  "language_info": {
   "codemirror_mode": {
    "name": "ipython",
    "version": 3
   },
   "file_extension": ".py",
   "mimetype": "text/x-python",
   "name": "python",
   "nbconvert_exporter": "python",
   "pygments_lexer": "ipython3",
   "version": "3.11.13"
  }
 },
 "nbformat": 4,
 "nbformat_minor": 5
}
