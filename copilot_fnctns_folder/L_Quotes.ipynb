{
 "cells": [
  {
   "cell_type": "markdown",
   "id": "88128bdb-6e8d-4a7f-aa59-fc3b25853fb8",
   "metadata": {
    "jp-MarkdownHeadingCollapsed": true
   },
   "source": [
    "# One Liners"
   ]
  },
  {
   "cell_type": "markdown",
   "id": "79e422fd-d4f1-4263-8016-38aa8d788ea1",
   "metadata": {
    "jp-MarkdownHeadingCollapsed": true
   },
   "source": [
    "## Misc\n",
    "1. xx"
   ]
  },
  {
   "cell_type": "markdown",
   "id": "71e7290f-e9de-4ac2-ad87-e5ba0b22e1fe",
   "metadata": {
    "jupyter": {
     "source_hidden": true
    }
   },
   "source": [
    "1. ***I am cheep, if your free; give me a call***\n",
    "2. "
   ]
  },
  {
   "cell_type": "markdown",
   "id": "fbe150d6-8869-4a64-928b-3304f90c730c",
   "metadata": {
    "jp-MarkdownHeadingCollapsed": true
   },
   "source": [
    "# Old Stories"
   ]
  },
  {
   "cell_type": "markdown",
   "id": "e73995d2-510e-4a01-b184-81aec23de7fb",
   "metadata": {
    "jp-MarkdownHeadingCollapsed": true
   },
   "source": [
    "## Les\n",
    "1. xx"
   ]
  },
  {
   "cell_type": "markdown",
   "id": "3674eb5c-8462-4f7c-85d6-de3d50ba9e28",
   "metadata": {
    "jp-MarkdownHeadingCollapsed": true
   },
   "source": [
    "## Maw\n",
    "1. ***Cant did it in his pants***"
   ]
  },
  {
   "cell_type": "markdown",
   "id": "3b00ee4d-feaa-4022-a6de-ff161a50fe9f",
   "metadata": {
    "jp-MarkdownHeadingCollapsed": true
   },
   "source": [
    "## Grandma & Grandpa\n",
    "1. xx"
   ]
  },
  {
   "cell_type": "markdown",
   "id": "950ce61c-8414-4f43-89f1-721cbf83319d",
   "metadata": {
    "jp-MarkdownHeadingCollapsed": true
   },
   "source": [
    "## DAD\n",
    "1. xx"
   ]
  },
  {
   "cell_type": "markdown",
   "id": "ab0716d5-9d9c-494d-bcb9-5e09a492c67e",
   "metadata": {
    "jp-MarkdownHeadingCollapsed": true
   },
   "source": [
    "## Les\n",
    "1. xx"
   ]
  },
  {
   "cell_type": "markdown",
   "id": "113a7c1f-12bb-448e-a68f-c6116babe7c1",
   "metadata": {
    "jp-MarkdownHeadingCollapsed": true
   },
   "source": [
    "## Les\n",
    "1. xx"
   ]
  },
  {
   "cell_type": "markdown",
   "id": "2b4492ee-eab7-4f4b-8fd6-9da95c4d0cfd",
   "metadata": {
    "jp-MarkdownHeadingCollapsed": true
   },
   "source": [
    "## Les\n",
    "1. xx"
   ]
  },
  {
   "cell_type": "markdown",
   "id": "7c3268be-55a9-4d6c-8b9a-002e8795f35f",
   "metadata": {
    "jp-MarkdownHeadingCollapsed": true
   },
   "source": [
    "# TGO"
   ]
  },
  {
   "cell_type": "markdown",
   "id": "a66e4cde-64c2-4095-812c-fa3c8e0eab9b",
   "metadata": {
    "jp-MarkdownHeadingCollapsed": true
   },
   "source": [
    "## Allegator\n",
    "1. xx"
   ]
  },
  {
   "cell_type": "markdown",
   "id": "4cdb42a5-7a12-41c3-83ab-886e010a9b9e",
   "metadata": {
    "jp-MarkdownHeadingCollapsed": true
   },
   "source": [
    "## Les\n",
    "1. xx"
   ]
  }
 ],
 "metadata": {
  "kernelspec": {
   "display_name": "Python (scu)",
   "language": "python",
   "name": "scu"
  },
  "language_info": {
   "codemirror_mode": {
    "name": "ipython",
    "version": 3
   },
   "file_extension": ".py",
   "mimetype": "text/x-python",
   "name": "python",
   "nbconvert_exporter": "python",
   "pygments_lexer": "ipython3",
   "version": "3.11.13"
  }
 },
 "nbformat": 4,
 "nbformat_minor": 5
}
