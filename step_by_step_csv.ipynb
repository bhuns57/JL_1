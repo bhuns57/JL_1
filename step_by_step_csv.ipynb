{
 "cells": [
  {
   "cell_type": "markdown",
   "id": "03d60ce1-6226-4ce4-b0ca-3bd9e53e3510",
   "metadata": {},
   "source": [
    "# Loading mrn_mstr_dict"
   ]
  },
  {
   "cell_type": "markdown",
   "id": "b044a044-7e24-45cc-a8ca-b7a6af9aa894",
   "metadata": {},
   "source": [
    "## Step 1 Load imports"
   ]
  },
  {
   "cell_type": "code",
   "execution_count": 60,
   "id": "496c354d-ed67-4d43-b788-2df75f14c541",
   "metadata": {
    "scrolled": true
   },
   "outputs": [],
   "source": [
    "import pandas as pd\n",
    "from datetime import timedelta\n",
    "import os\n"
   ]
  },
  {
   "cell_type": "markdown",
   "id": "4c0d5397-5d69-4ad2-b8ab-491944f05b51",
   "metadata": {},
   "source": [
    "## Step 2 Read filename.csv and get col names"
   ]
  },
  {
   "cell_type": "code",
   "execution_count": 39,
   "id": "f4f6ca75-8de0-4303-8a5a-357c6d1bdeb7",
   "metadata": {
    "jupyter": {
     "source_hidden": true
    },
    "scrolled": true
   },
   "outputs": [],
   "source": [
    "# def imprt_csl)filename) assumes in repo : reads csi file and creates df of the array using the file name ; it also creates a of the col heads in filename_heads\n",
    "############################################################################\n",
    "def df_repo_csv(filename):            # filename is str\n",
    "    #df = \"df_\" + filename\n",
    "    #hds = \"hds\" + filename\n",
    "    #df = pd.read_csv()\n",
    "    hds= pd.DataFrame(df.columns)\n",
    "    return df\n",
    "###############################\n",
    "#filename = df_nm\n",
    "#df,hds =   "
   ]
  },
  {
   "cell_type": "code",
   "execution_count": null,
   "id": "bf65d833-d12c-4f1c-addc-3d80fcb69ba0",
   "metadata": {},
   "outputs": [],
   "source": [
    "filename = \"JL_1\\df_nm.csv\"\n",
    "#\"\\\\wsl.localhost\\Ubuntu\\home\\bhuns\\JL_1\\df_nm.csv\"\n",
    "\"\\\\wsl.localhost\\Ubuntu\\home\\bhuns\\JL_1\\df_nm.csv\"\n",
    "df = df_repo_csv(filename)"
   ]
  },
  {
   "cell_type": "code",
   "execution_count": null,
   "id": "2d64ab8d-90e6-4b67-a81b-f99997f2ea26",
   "metadata": {
    "scrolled": true
   },
   "outputs": [],
   "source": [
    "   # Load the CSV file to use df(file_path)  to get clmn_nn [nickname]\n",
    "file_path = \"mrn_mstr_8_04.csv\"    # name of the mrn_mstr file\n",
    "############################################################################\n",
    "df = pd.read_csv(file_path)\n",
    "clmn_nn= pd.DataFrame(df.columns)\n"
   ]
  },
  {
   "cell_type": "code",
   "execution_count": 62,
   "id": "eb227281-5788-4690-a1af-d0b1b0002ef5",
   "metadata": {
    "scrolled": true
   },
   "outputs": [
    {
     "name": "stdout",
     "output_type": "stream",
     "text": [
      "repo =  /home/bhuns/JL_1\n"
     ]
    }
   ],
   "source": [
    "##########################  import os ???  ############################################\n",
    "print(\"repo = \",os.getcwd())\n",
    "\n",
    "def csv_df(file_path):\n",
    "    df = pd.read_csv(file_path)\n",
    "    clmn_nn= pd.DataFrame(df.columns)\n",
    "    return df"
   ]
  },
  {
   "cell_type": "code",
   "execution_count": 68,
   "id": "5940bd76-fa4d-47cf-a20d-0afcfbac09fb",
   "metadata": {},
   "outputs": [
    {
     "data": {
      "text/html": [
       "<div>\n",
       "<style scoped>\n",
       "    .dataframe tbody tr th:only-of-type {\n",
       "        vertical-align: middle;\n",
       "    }\n",
       "\n",
       "    .dataframe tbody tr th {\n",
       "        vertical-align: top;\n",
       "    }\n",
       "\n",
       "    .dataframe thead th {\n",
       "        text-align: right;\n",
       "    }\n",
       "</style>\n",
       "<table border=\"1\" class=\"dataframe\">\n",
       "  <thead>\n",
       "    <tr style=\"text-align: right;\">\n",
       "      <th></th>\n",
       "      <th>dn</th>\n",
       "      <th>nn</th>\n",
       "      <th>pn</th>\n",
       "    </tr>\n",
       "  </thead>\n",
       "  <tbody>\n",
       "    <tr>\n",
       "      <th>0</th>\n",
       "      <td>dn0001</td>\n",
       "      <td>BMR</td>\n",
       "      <td>asfasf</td>\n",
       "    </tr>\n",
       "    <tr>\n",
       "      <th>1</th>\n",
       "      <td>dn0002</td>\n",
       "      <td>EWC/TBWtr</td>\n",
       "      <td>EWC/TBWtr 102</td>\n",
       "    </tr>\n",
       "    <tr>\n",
       "      <th>2</th>\n",
       "      <td>dn0003</td>\n",
       "      <td>VFA</td>\n",
       "      <td>NaN</td>\n",
       "    </tr>\n",
       "    <tr>\n",
       "      <th>3</th>\n",
       "      <td>dn0004</td>\n",
       "      <td>NaN</td>\n",
       "      <td>NaN</td>\n",
       "    </tr>\n",
       "    <tr>\n",
       "      <th>4</th>\n",
       "      <td>dn0005</td>\n",
       "      <td>NaN</td>\n",
       "      <td>NaN</td>\n",
       "    </tr>\n",
       "    <tr>\n",
       "      <th>5</th>\n",
       "      <td>dn0006</td>\n",
       "      <td>NaN</td>\n",
       "      <td>NaN</td>\n",
       "    </tr>\n",
       "    <tr>\n",
       "      <th>6</th>\n",
       "      <td>dn0007</td>\n",
       "      <td>NaN</td>\n",
       "      <td>NaN</td>\n",
       "    </tr>\n",
       "    <tr>\n",
       "      <th>7</th>\n",
       "      <td>dn0008</td>\n",
       "      <td>NaN</td>\n",
       "      <td>NaN</td>\n",
       "    </tr>\n",
       "    <tr>\n",
       "      <th>8</th>\n",
       "      <td>dn0009</td>\n",
       "      <td>NaN</td>\n",
       "      <td>NaN</td>\n",
       "    </tr>\n",
       "    <tr>\n",
       "      <th>9</th>\n",
       "      <td>dn0010</td>\n",
       "      <td>NaN</td>\n",
       "      <td>NaN</td>\n",
       "    </tr>\n",
       "    <tr>\n",
       "      <th>10</th>\n",
       "      <td>dn0011</td>\n",
       "      <td>NaN</td>\n",
       "      <td>NaN</td>\n",
       "    </tr>\n",
       "    <tr>\n",
       "      <th>11</th>\n",
       "      <td>dn0012</td>\n",
       "      <td>NaN</td>\n",
       "      <td>NaN</td>\n",
       "    </tr>\n",
       "    <tr>\n",
       "      <th>12</th>\n",
       "      <td>dn0013</td>\n",
       "      <td>NaN</td>\n",
       "      <td>NaN</td>\n",
       "    </tr>\n",
       "    <tr>\n",
       "      <th>13</th>\n",
       "      <td>dn0014</td>\n",
       "      <td>NaN</td>\n",
       "      <td>NaN</td>\n",
       "    </tr>\n",
       "    <tr>\n",
       "      <th>14</th>\n",
       "      <td>dn0015</td>\n",
       "      <td>NaN</td>\n",
       "      <td>NaN</td>\n",
       "    </tr>\n",
       "    <tr>\n",
       "      <th>15</th>\n",
       "      <td>dn0016</td>\n",
       "      <td>NaN</td>\n",
       "      <td>NaN</td>\n",
       "    </tr>\n",
       "    <tr>\n",
       "      <th>16</th>\n",
       "      <td>dn0017</td>\n",
       "      <td>NaN</td>\n",
       "      <td>NaN</td>\n",
       "    </tr>\n",
       "    <tr>\n",
       "      <th>17</th>\n",
       "      <td>dn0018</td>\n",
       "      <td>NaN</td>\n",
       "      <td>NaN</td>\n",
       "    </tr>\n",
       "    <tr>\n",
       "      <th>18</th>\n",
       "      <td>dn0019</td>\n",
       "      <td>NaN</td>\n",
       "      <td>NaN</td>\n",
       "    </tr>\n",
       "    <tr>\n",
       "      <th>19</th>\n",
       "      <td>dn0020</td>\n",
       "      <td>NaN</td>\n",
       "      <td>NaN</td>\n",
       "    </tr>\n",
       "    <tr>\n",
       "      <th>20</th>\n",
       "      <td>dn0021</td>\n",
       "      <td>NaN</td>\n",
       "      <td>NaN</td>\n",
       "    </tr>\n",
       "    <tr>\n",
       "      <th>21</th>\n",
       "      <td>dn0022</td>\n",
       "      <td>NaN</td>\n",
       "      <td>NaN</td>\n",
       "    </tr>\n",
       "    <tr>\n",
       "      <th>22</th>\n",
       "      <td>dn0023</td>\n",
       "      <td>NaN</td>\n",
       "      <td>NaN</td>\n",
       "    </tr>\n",
       "    <tr>\n",
       "      <th>23</th>\n",
       "      <td>dn0024</td>\n",
       "      <td>NaN</td>\n",
       "      <td>NaN</td>\n",
       "    </tr>\n",
       "    <tr>\n",
       "      <th>24</th>\n",
       "      <td>dn0025</td>\n",
       "      <td>NaN</td>\n",
       "      <td>NaN</td>\n",
       "    </tr>\n",
       "    <tr>\n",
       "      <th>25</th>\n",
       "      <td>dn0026</td>\n",
       "      <td>NaN</td>\n",
       "      <td>NaN</td>\n",
       "    </tr>\n",
       "    <tr>\n",
       "      <th>26</th>\n",
       "      <td>dn0027</td>\n",
       "      <td>NaN</td>\n",
       "      <td>NaN</td>\n",
       "    </tr>\n",
       "    <tr>\n",
       "      <th>27</th>\n",
       "      <td>dn0028</td>\n",
       "      <td>NaN</td>\n",
       "      <td>NaN</td>\n",
       "    </tr>\n",
       "    <tr>\n",
       "      <th>28</th>\n",
       "      <td>dn0029</td>\n",
       "      <td>NaN</td>\n",
       "      <td>NaN</td>\n",
       "    </tr>\n",
       "    <tr>\n",
       "      <th>29</th>\n",
       "      <td>dn0030</td>\n",
       "      <td>NaN</td>\n",
       "      <td>NaN</td>\n",
       "    </tr>\n",
       "    <tr>\n",
       "      <th>30</th>\n",
       "      <td>dn0031</td>\n",
       "      <td>NaN</td>\n",
       "      <td>NaN</td>\n",
       "    </tr>\n",
       "    <tr>\n",
       "      <th>31</th>\n",
       "      <td>dn0032</td>\n",
       "      <td>NaN</td>\n",
       "      <td>NaN</td>\n",
       "    </tr>\n",
       "  </tbody>\n",
       "</table>\n",
       "</div>"
      ],
      "text/plain": [
       "        dn         nn             pn\n",
       "0   dn0001        BMR         asfasf\n",
       "1   dn0002  EWC/TBWtr  EWC/TBWtr 102\n",
       "2   dn0003        VFA            NaN\n",
       "3   dn0004        NaN            NaN\n",
       "4   dn0005        NaN            NaN\n",
       "5   dn0006        NaN            NaN\n",
       "6   dn0007        NaN            NaN\n",
       "7   dn0008        NaN            NaN\n",
       "8   dn0009        NaN            NaN\n",
       "9   dn0010        NaN            NaN\n",
       "10  dn0011        NaN            NaN\n",
       "11  dn0012        NaN            NaN\n",
       "12  dn0013        NaN            NaN\n",
       "13  dn0014        NaN            NaN\n",
       "14  dn0015        NaN            NaN\n",
       "15  dn0016        NaN            NaN\n",
       "16  dn0017        NaN            NaN\n",
       "17  dn0018        NaN            NaN\n",
       "18  dn0019        NaN            NaN\n",
       "19  dn0020        NaN            NaN\n",
       "20  dn0021        NaN            NaN\n",
       "21  dn0022        NaN            NaN\n",
       "22  dn0023        NaN            NaN\n",
       "23  dn0024        NaN            NaN\n",
       "24  dn0025        NaN            NaN\n",
       "25  dn0026        NaN            NaN\n",
       "26  dn0027        NaN            NaN\n",
       "27  dn0028        NaN            NaN\n",
       "28  dn0029        NaN            NaN\n",
       "29  dn0030        NaN            NaN\n",
       "30  dn0031        NaN            NaN\n",
       "31  dn0032        NaN            NaN"
      ]
     },
     "execution_count": 68,
     "metadata": {},
     "output_type": "execute_result"
    }
   ],
   "source": [
    "file = \"df_nm\"\n",
    "file_path = file + \".csv\"    # name of the mrn_mstr file\n",
    "df = csv_df(file_path)\n",
    "df_nm = df\n",
    "df = df.columns\n",
    "file_hds\n",
    "df_nm"
   ]
  },
  {
   "cell_type": "markdown",
   "id": "12487800-ec72-4503-aec3-e0cc4bcc2fbb",
   "metadata": {
    "jp-MarkdownHeadingCollapsed": true
   },
   "source": [
    "### Proving file is read into df"
   ]
  },
  {
   "cell_type": "code",
   "execution_count": 26,
   "id": "a2b3ecb4-f427-470b-b50b-311678e154b0",
   "metadata": {
    "collapsed": true,
    "editable": true,
    "jupyter": {
     "outputs_hidden": true
    },
    "slideshow": {
     "slide_type": ""
    },
    "tags": []
   },
   "outputs": [
    {
     "data": {
      "text/html": [
       "<div>\n",
       "<style scoped>\n",
       "    .dataframe tbody tr th:only-of-type {\n",
       "        vertical-align: middle;\n",
       "    }\n",
       "\n",
       "    .dataframe tbody tr th {\n",
       "        vertical-align: top;\n",
       "    }\n",
       "\n",
       "    .dataframe thead th {\n",
       "        text-align: right;\n",
       "    }\n",
       "</style>\n",
       "<table border=\"1\" class=\"dataframe\">\n",
       "  <thead>\n",
       "    <tr style=\"text-align: right;\">\n",
       "      <th></th>\n",
       "      <th>0</th>\n",
       "    </tr>\n",
       "  </thead>\n",
       "  <tbody>\n",
       "    <tr>\n",
       "      <th>0</th>\n",
       "      <td>*</td>\n",
       "    </tr>\n",
       "    <tr>\n",
       "      <th>1</th>\n",
       "      <td>770Drow#</td>\n",
       "    </tr>\n",
       "    <tr>\n",
       "      <th>2</th>\n",
       "      <td>bNght_Mrn</td>\n",
       "    </tr>\n",
       "    <tr>\n",
       "      <th>3</th>\n",
       "      <td>&lt;bMrnLst</td>\n",
       "    </tr>\n",
       "    <tr>\n",
       "      <th>4</th>\n",
       "      <td>Column36</td>\n",
       "    </tr>\n",
       "    <tr>\n",
       "      <th>5</th>\n",
       "      <td>Column34</td>\n",
       "    </tr>\n",
       "    <tr>\n",
       "      <th>6</th>\n",
       "      <td>Column35</td>\n",
       "    </tr>\n",
       "    <tr>\n",
       "      <th>7</th>\n",
       "      <td>&lt;sMrnLst</td>\n",
       "    </tr>\n",
       "    <tr>\n",
       "      <th>8</th>\n",
       "      <td>23-Feb</td>\n",
       "    </tr>\n",
       "    <tr>\n",
       "      <th>9</th>\n",
       "      <td>DATE_V</td>\n",
       "    </tr>\n",
       "    <tr>\n",
       "      <th>10</th>\n",
       "      <td>0</td>\n",
       "    </tr>\n",
       "    <tr>\n",
       "      <th>11</th>\n",
       "      <td>6. Weight</td>\n",
       "    </tr>\n",
       "    <tr>\n",
       "      <th>12</th>\n",
       "      <td>7. TBW (Total Body Water)</td>\n",
       "    </tr>\n",
       "    <tr>\n",
       "      <th>13</th>\n",
       "      <td>8. ICW (Intracellular Water)</td>\n",
       "    </tr>\n",
       "    <tr>\n",
       "      <th>14</th>\n",
       "      <td>9. ECW (Extracellular Water)</td>\n",
       "    </tr>\n",
       "    <tr>\n",
       "      <th>15</th>\n",
       "      <td>10. DLM (Dry Lean Mass)</td>\n",
       "    </tr>\n",
       "    <tr>\n",
       "      <th>16</th>\n",
       "      <td>11. BFM (Body Fat Mass)</td>\n",
       "    </tr>\n",
       "    <tr>\n",
       "      <th>17</th>\n",
       "      <td>12. LBM (Lean Body Mass)</td>\n",
       "    </tr>\n",
       "    <tr>\n",
       "      <th>18</th>\n",
       "      <td>13. SMM (Skeletal Muscle Mass)</td>\n",
       "    </tr>\n",
       "    <tr>\n",
       "      <th>19</th>\n",
       "      <td>14. BMI (Body Mass Index)</td>\n",
       "    </tr>\n",
       "    <tr>\n",
       "      <th>20</th>\n",
       "      <td>15. PBF (Percent Body Fat)</td>\n",
       "    </tr>\n",
       "    <tr>\n",
       "      <th>21</th>\n",
       "      <td>42. ECW/TBW</td>\n",
       "    </tr>\n",
       "    <tr>\n",
       "      <th>22</th>\n",
       "      <td>43. ECW/TBW of Right Arm</td>\n",
       "    </tr>\n",
       "    <tr>\n",
       "      <th>23</th>\n",
       "      <td>44. ECW/TBW of Left Arm</td>\n",
       "    </tr>\n",
       "    <tr>\n",
       "      <th>24</th>\n",
       "      <td>45. ECW/TBW Trunk</td>\n",
       "    </tr>\n",
       "    <tr>\n",
       "      <th>25</th>\n",
       "      <td>46. ECW/TBW of Right Leg</td>\n",
       "    </tr>\n",
       "    <tr>\n",
       "      <th>26</th>\n",
       "      <td>47. ECW/TBW of Left Leg</td>\n",
       "    </tr>\n",
       "    <tr>\n",
       "      <th>27</th>\n",
       "      <td>48. BFM of Right Arm</td>\n",
       "    </tr>\n",
       "    <tr>\n",
       "      <th>28</th>\n",
       "      <td>49. BFM% of Right Arm</td>\n",
       "    </tr>\n",
       "    <tr>\n",
       "      <th>29</th>\n",
       "      <td>50. BFM of Left Arm</td>\n",
       "    </tr>\n",
       "  </tbody>\n",
       "</table>\n",
       "</div>"
      ],
      "text/plain": [
       "                                 0\n",
       "0                                *\n",
       "1                         770Drow#\n",
       "2                        bNght_Mrn\n",
       "3                         <bMrnLst\n",
       "4                         Column36\n",
       "5                         Column34\n",
       "6                         Column35\n",
       "7                         <sMrnLst\n",
       "8                           23-Feb\n",
       "9                           DATE_V\n",
       "10                               0\n",
       "11                       6. Weight\n",
       "12       7. TBW (Total Body Water)\n",
       "13    8. ICW (Intracellular Water)\n",
       "14    9. ECW (Extracellular Water)\n",
       "15         10. DLM (Dry Lean Mass)\n",
       "16         11. BFM (Body Fat Mass)\n",
       "17        12. LBM (Lean Body Mass)\n",
       "18  13. SMM (Skeletal Muscle Mass)\n",
       "19       14. BMI (Body Mass Index)\n",
       "20      15. PBF (Percent Body Fat)\n",
       "21                     42. ECW/TBW\n",
       "22        43. ECW/TBW of Right Arm\n",
       "23         44. ECW/TBW of Left Arm\n",
       "24               45. ECW/TBW Trunk\n",
       "25        46. ECW/TBW of Right Leg\n",
       "26         47. ECW/TBW of Left Leg\n",
       "27            48. BFM of Right Arm\n",
       "28           49. BFM% of Right Arm\n",
       "29             50. BFM of Left Arm"
      ]
     },
     "execution_count": 26,
     "metadata": {},
     "output_type": "execute_result"
    }
   ],
   "source": [
    "# get the names of the first 30 cols\n",
    "clmn_nn.iloc[:30]"
   ]
  },
  {
   "cell_type": "code",
   "execution_count": 8,
   "id": "3e313549-7880-4e8d-94bf-a474b01c3cf8",
   "metadata": {
    "collapsed": true,
    "jupyter": {
     "outputs_hidden": true,
     "source_hidden": true
    }
   },
   "outputs": [
    {
     "data": {
      "text/plain": [
       "0    45. ECW/TBW Trunk\n",
       "Name: 24, dtype: object"
      ]
     },
     "execution_count": 8,
     "metadata": {},
     "output_type": "execute_result"
    }
   ],
   "source": [
    "# Get the name of the 24th column\n",
    "nn = clmn_nn.iloc[24]\n",
    "nn"
   ]
  },
  {
   "cell_type": "code",
   "execution_count": 24,
   "id": "3f4b3012-9f09-47f5-b01c-0d7895edecd1",
   "metadata": {
    "collapsed": true,
    "jupyter": {
     "outputs_hidden": true
    }
   },
   "outputs": [
    {
     "data": {
      "text/plain": [
       "0       0.387\n",
       "1       0.387\n",
       "2       0.385\n",
       "3       0.387\n",
       "4       0.388\n",
       "        ...  \n",
       "1433    0.409\n",
       "1434      NaN\n",
       "1435      NaN\n",
       "1436      NaN\n",
       "1437      NaN\n",
       "Name: 45. ECW/TBW Trunk, Length: 1438, dtype: float64"
      ]
     },
     "execution_count": 24,
     "metadata": {},
     "output_type": "execute_result"
    }
   ],
   "source": [
    "# show a col with index col 24 of df [the array from the file made into a data frame]\n",
    "df.iloc[:,24]                 # col 24 of df"
   ]
  },
  {
   "cell_type": "code",
   "execution_count": 25,
   "id": "089ecf69-87ac-490a-833c-d949950d30ad",
   "metadata": {},
   "outputs": [
    {
     "data": {
      "text/plain": [
       "0       43893\n",
       "1       43899\n",
       "2       43890\n",
       "3       43931\n",
       "4       43932\n",
       "        ...  \n",
       "1433    45873\n",
       "1434      NaN\n",
       "1435      NaN\n",
       "1436      NaN\n",
       "1437      NaN\n",
       "Name: DATE_V, Length: 1438, dtype: object"
      ]
     },
     "execution_count": 25,
     "metadata": {},
     "output_type": "execute_result"
    }
   ],
   "source": [
    "# Show creating a variable from cols example DATE_V\n",
    "DATE_V = df.loc[:,\"DATE_V\"]\n",
    "DATE_V"
   ]
  },
  {
   "cell_type": "code",
   "execution_count": 21,
   "id": "295213ae-8faf-4bf4-b9c0-510b1fd288b8",
   "metadata": {
    "collapsed": true,
    "jupyter": {
     "outputs_hidden": true,
     "source_hidden": true
    },
    "scrolled": true
   },
   "outputs": [
    {
     "data": {
      "text/plain": [
       "10"
      ]
     },
     "execution_count": 21,
     "metadata": {},
     "output_type": "execute_result"
    }
   ],
   "source": [
    "# Create a list if the index of a df\n",
    "df_ind = df.index\n",
    "df_ind[10]"
   ]
  },
  {
   "cell_type": "markdown",
   "id": "47516dc1-d403-4403-b34e-7a4a7204b930",
   "metadata": {},
   "source": [
    "## df_ind (shld be df_ndx)  >> Function to Find Index by Column and String"
   ]
  },
  {
   "cell_type": "markdown",
   "id": "ce8a1616-5be6-4a88-ad43-b059de340153",
   "metadata": {},
   "source": [
    "#### copilot pattern = df_ind  Function to Find Index by Column and String"
   ]
  },
  {
   "cell_type": "markdown",
   "id": "8fe61746-16f2-4f9d-971c-49a20969f26b",
   "metadata": {
    "jp-MarkdownHeadingCollapsed": true
   },
   "source": [
    "##### Also look at query to find matches"
   ]
  },
  {
   "cell_type": "raw",
   "id": "f9a660a7-965a-4d9e-b80f-0829faa9fd2e",
   "metadata": {},
   "source": [
    "#### copilot pattern = def >> df_ind  Function to Find Index by Column and String\n",
    "def find_index_by_value(df, col_name, target_str):\n",
    "    if col_name not in df.columns:\n",
    "        raise ValueError(f\"Column '{col_name}' not found in DataFrame.\")\n",
    "    \n",
    "    matches = df[df[col_name] == target_str]\n",
    "    \n",
    "    if matches.empty:\n",
    "        print(f\"❌ No match found for '{target_str}' in column '{col_name}'.\")\n",
    "        return None\n",
    "    \n",
    "    return matches.index.tolist()\n"
   ]
  },
  {
   "cell_type": "raw",
   "id": "263c88a4-43a7-4e7b-ae0c-434f91c02446",
   "metadata": {},
   "source": [
    "### call df_ind function\n",
    "# Sample DataFrame\n",
    "import pandas as pd\n",
    "\n",
    "df_nms = pd.DataFrame({\n",
    "    \"DATE_V\": [\"2025-08-01\", \"2025-08-02\", \"2025-08-03\"],\n",
    "    \"dn\": [\"alpha\", \"beta\", \"gamma\"],\n",
    "    \"nn\": [\"x1\", \"x2\", \"x3\"],\n",
    "    \"pn\": [\"p1\", \"p2\", \"p3\"]\n",
    "}, index=[101, 102, 103])\n",
    "\n",
    "# Find index where 'dn' == 'beta'\n",
    "idx = find_index_by_value(df_nms, \"dn\", \"beta\")\n",
    "print(\"✅ Matching index:\", idx)\n"
   ]
  },
  {
   "cell_type": "raw",
   "id": "b34fdde5-97b1-4c8c-81e3-4f5ca1b48f65",
   "metadata": {},
   "source": [
    "### call df_ind function \n",
    "# Sample DataFrame\n",
    "import pandas as pd\n",
    "\n",
    "df_nms = pd.DataFrame({\n",
    "    \"DATE_V\": [\"2025-08-01\", \"2025-08-02\", \"2025-08-03\"],\n",
    "    \"dn\": [\"alpha\", \"beta\", \"gamma\"],\n",
    "    \"nn\": [\"x1\", \"x2\", \"x3\"],\n",
    "    \"pn\": [\"p1\", \"p2\", \"p3\"]\n",
    "}, index=[101, 102, 103])\n",
    "\n",
    "# Find index where 'dn' == 'beta'\n",
    "\n",
    "#idx = find_index_by_value(df_nms, \"dn\", \"beta\")\n",
    "\n",
    "print(\"✅ Matching index:\", idx)\n"
   ]
  },
  {
   "cell_type": "markdown",
   "id": "8639a70f-05aa-4718-93a7-c2c4f15fa43f",
   "metadata": {},
   "source": [
    "### applied version = df_ind  Function to Find Index by Column and String"
   ]
  },
  {
   "cell_type": "markdown",
   "id": "bb7ea5a7-3a25-49e5-b148-c95c8615c37b",
   "metadata": {},
   "source": [
    "#### applied version >> def find_index_by_value(df, col_name, target_str)\n"
   ]
  },
  {
   "cell_type": "code",
   "execution_count": 35,
   "id": "1952348a-bff4-4227-adcb-32ba2aac1a97",
   "metadata": {},
   "outputs": [],
   "source": [
    "#### applied version >> call find_index_by_value(df, col_name, target_str)\n",
    "def find_index_by_value(df, col_name, target_str):\n",
    "    if col_name not in df.columns:\n",
    "        raise ValueError(f\"Column '{col_name}' not found in DataFrame.\")\n",
    "    \n",
    "    matches = df[df[col_name] == target_str]\n",
    "    \n",
    "    if matches.empty:\n",
    "        print(f\"❌ No match found for '{target_str}' in column '{col_name}'.\")\n",
    "        return None\n",
    "    \n",
    "    return matches.index.tolist()\n"
   ]
  },
  {
   "cell_type": "markdown",
   "id": "b7c01a80-467c-4ab4-967a-269e329ded99",
   "metadata": {},
   "source": [
    "#### applied version >> call  >>  find_index_by_value(df, col_name, target_str): use assignment list"
   ]
  },
  {
   "cell_type": "code",
   "execution_count": 37,
   "id": "288420cb-4185-4447-aeae-53b27aa7f05a",
   "metadata": {},
   "outputs": [
    {
     "name": "stdout",
     "output_type": "stream",
     "text": [
      "✅ Matching index: [102]\n"
     ]
    }
   ],
   "source": [
    "#### call >> find_index_by_value(df, col_name, target_str) >> use assignment list to avoid confusion\n",
    "df = df_nms                      \n",
    "col_name = \"dn\"\n",
    "target_str = \"beta\"\n",
    "# Find index where 'dn' == 'beta'\n",
    "idx = find_index_by_value(df, col_name, target_str)\n",
    "print(\"✅ Matching index:\", idx)\n"
   ]
  },
  {
   "cell_type": "code",
   "execution_count": 48,
   "id": "100346dc-672d-41e8-9ee2-ae9ec0886399",
   "metadata": {},
   "outputs": [
    {
     "name": "stdout",
     "output_type": "stream",
     "text": [
      "/home/bhuns/JL_1\n"
     ]
    }
   ],
   "source": [
    "import os\n",
    "print(os.getcwd())\n"
   ]
  },
  {
   "cell_type": "code",
   "execution_count": 49,
   "id": "3dee4355-f444-4745-89f4-4ad71a2fefe0",
   "metadata": {},
   "outputs": [
    {
     "name": "stdout",
     "output_type": "stream",
     "text": [
      "['Untitled1.ipynb', '1ratlabs_toc.ipynb', 'Sandbox_load.ipynb', 'O2plot 2025.07.26.csv', 'SBblend_addinto_mstr.ipynb', 'new_file.xlsx', 'F_my_utils.py', 'dt_clms.csv', 'L_medical.ipynb', 'xl_uti.xlsx', 'xl_bn.xlsx', 'F_new_xl_df_frm_copilot.ipynb', 'step_by_step_csv.ipynb', 'New folder', 'ztestfile', 'Book1.xlsx', 'jrnl_v1.ipynb', 'F_input_def_sb.ipynb', 'xl_tbl.xlsx', 'Untitled.ipynb', 'step_by_step_csv-Copy2.ipynb', '__pycache__', 'copilot_fnctns_folder', 'DATE_V_UTI.xlsx', 'bn_frst_pt.xlsx', 'dt_clms_log.xlsx', '.git', 'mrn_mstr_8_04.csv', 'dist_dt_clm.ipynb', 'df_nm.csv', 'xl_clmns_log - Copy.xlsx:Zone.Identifier', 'step_by_step_csv-Copy1.ipynb', 'New Microsoft Excel Worksheet.xlsx', '1RatLabs.ipynb', 'csv_sys_fnct.ipynb', 'xl_tbl wait.xlsx', '.gitignore', 'L_JL_Hlp.ipynb', '1RatLabsv3.ipynb', 'name_nn.xlsx', 'name_nn.csv', 'sys_util', 'xl_inbody_log.xlsx', 'JL_z_files', 'F_my_fnctn_tst.ipynb', 'step_by_step_csv-Copy3.ipynb', 'L_Quotes.ipynb', 'L_WSL_JL_hlp.ipynb', '.ipynb_checkpoints', '1RatLabsv2.ipynb']\n"
     ]
    }
   ],
   "source": [
    "import os\n",
    "print(os.listdir())\n"
   ]
  },
  {
   "cell_type": "code",
   "execution_count": null,
   "id": "dcbe3de7-4ad1-4598-848f-9a559da9abd0",
   "metadata": {},
   "outputs": [],
   "source": []
  }
 ],
 "metadata": {
  "kernelspec": {
   "display_name": "Python (scu)",
   "language": "python",
   "name": "scu"
  },
  "language_info": {
   "codemirror_mode": {
    "name": "ipython",
    "version": 3
   },
   "file_extension": ".py",
   "mimetype": "text/x-python",
   "name": "python",
   "nbconvert_exporter": "python",
   "pygments_lexer": "ipython3",
   "version": "3.11.13"
  }
 },
 "nbformat": 4,
 "nbformat_minor": 5
}
