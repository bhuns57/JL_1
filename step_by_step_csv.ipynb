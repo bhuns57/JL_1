{
 "cells": [
  {
   "cell_type": "markdown",
   "id": "03d60ce1-6226-4ce4-b0ca-3bd9e53e3510",
   "metadata": {},
   "source": [
    "# Developing \".csv\" Data Storage SYS"
   ]
  },
  {
   "cell_type": "markdown",
   "id": "b044a044-7e24-45cc-a8ca-b7a6af9aa894",
   "metadata": {},
   "source": [
    "## Step 1 Load imports of extensions"
   ]
  },
  {
   "cell_type": "code",
   "execution_count": 37,
   "id": "496c354d-ed67-4d43-b788-2df75f14c541",
   "metadata": {
    "scrolled": true
   },
   "outputs": [],
   "source": [
    "import pandas as pd\n",
    "from datetime import timedelta\n",
    "import os\n",
    "import numpy as np\n",
    "\n",
    "\n",
    "# <br><br> to skip 2 lines"
   ]
  },
  {
   "cell_type": "markdown",
   "id": "3d171562-15da-4eb8-8a58-2794fe392d05",
   "metadata": {},
   "source": [
    "# Data Storage Sys using .csv in XL Discription"
   ]
  },
  {
   "cell_type": "markdown",
   "id": "81766dec-6a06-4a72-bbe1-34b97d615f4f",
   "metadata": {},
   "source": [
    "## Nomentclature with Descriptions"
   ]
  },
  {
   "cell_type": "markdown",
   "id": "6fe708d9-628f-4896-8774-c25b9a434366",
   "metadata": {},
   "source": [
    "### ***** Data_Storage_Sys_name overview and relationships *****"
   ]
  },
  {
   "cell_type": "markdown",
   "id": "af53190d-285f-4332-a33a-b34aac95a155",
   "metadata": {},
   "source": [
    "#### Defining ***data storage in .csv*** and  ***Nomenclature*** "
   ]
  },
  {
   "cell_type": "markdown",
   "id": "546b7fdd-0177-4c5b-a307-9b8549b43ac5",
   "metadata": {},
   "source": [
    "1. Defining ***data storage in .csv***\n",
    "2. ***dtv*** is the ***d***a***t***e ***v***alue of the data entry; it is an integer count of the number of days since 1/1/1900. Last ***dtv*** is ***today*** and it is kept  current at ***startup*** with the ***imports***.\n",
    "3. ***dtv*** is stored and kept current in ***df_dtv***  &  ***xl_dtv.csv*** \n",
    "2. ***ubn*** is the ***u***nique ***b***asic ***n***ame for the **data col proberties list** class of data cols.\n",
    "3. ***ubn*** has attirbutes like name & length and methods like making \n",
    "4. attribute1: ***a daily data log array**\n",
    "5. Each data col is given a serial number ***snb***\n",
    "6. Each ***snb*** is a member of the ubn(snb) class.\n",
    "7. ***snb*** becomes the data **col name**.\n",
    "8. ***ubn*** acts very much like a specialized class()\n",
    "9.  **snb*** being an object that belongs to that class()\n",
    "13. The whole array of all data cols are stored in the ***df_dtv_all_snb*** and stored in the ***xl_dtv_all_snb.csv*** file.\n",
    "14. The ***ubn***   **name** is stored along with the ***snc*** in the ***df_snb_md**  [***xl_snb_md.csv***] along with the ***list name*** of ***sng***s that use this  ***snb***."
   ]
  },
  {
   "cell_type": "markdown",
   "id": "aee6b6a3-645b-4c1b-b3db-e05a0c58556d",
   "metadata": {},
   "source": [
    "## Step 2 Load xl_data"
   ]
  },
  {
   "cell_type": "code",
   "execution_count": 38,
   "id": "784a0045-de51-41c5-acf6-b68f40356018",
   "metadata": {},
   "outputs": [],
   "source": [
    "# loading csv to df\n",
    "# Load the CSV into a DataFrame\n",
    "df_dtv_all_snb = pd.read_csv(\"xl_dtv_all_snb.csv\")\n"
   ]
  },
  {
   "cell_type": "markdown",
   "id": "d39585a1-069b-4c72-a211-d4dceed19e05",
   "metadata": {},
   "source": [
    "## Step 3 Convert a df_colunn to a numby array with a name as & perform addition"
   ]
  },
  {
   "cell_type": "code",
   "execution_count": null,
   "id": "2b22ab39-7527-4fa5-a657-641a7fd1b40b",
   "metadata": {},
   "outputs": [],
   "source": [
    "# Example: convert a specific column to NumPy array when needed\n",
    "# when assigning a name to the array that is different from the col head name\n",
    "test_list1 = df_dtv_all_snb[\"ICW\"].to_numpy()  # these are numpy arrays of one snb\n",
    "test_list2 = df_dtv_all_snb[\"ECW\"].to_numpy()\n",
    "print(type(test_list2[0]))\n",
    "print(test_list2.shape)\n",
    "\n",
    "#test_list1 + test_list2 "
   ]
  },
  {
   "cell_type": "code",
   "execution_count": null,
   "id": "64d1b2a1-600a-4ace-ae6f-24771ae4db26",
   "metadata": {},
   "outputs": [],
   "source": [
    "# copilots version \n",
    "# Function Definition to extract a df col to np array\n",
    "def extract_column_as_array(df, col_name, globals_dict=None):\n",
    "    \"\"\"\n",
    "    Extracts a column from a DataFrame and assigns it as a NumPy array\n",
    "    to a variable named after the column header.\n",
    "\n",
    "    Parameters:\n",
    "    - df: pandas.DataFrame\n",
    "    - col_name: str, name of the column to extract\n",
    "    - globals_dict: dict, typically pass globals() to assign in global scope\n",
    "\n",
    "    Returns:\n",
    "    - np.ndarray of the column data\n",
    "    \"\"\"\n",
    "    arr = np.array(df[col_name].tolist())\n",
    "    if globals_dict is not None:\n",
    "        globals_dict[col_name] = arr\n",
    "    return arr\n"
   ]
  },
  {
   "cell_type": "code",
   "execution_count": null,
   "id": "b0b236e0-3d4e-49d3-a385-13d642e71ad9",
   "metadata": {},
   "outputs": [],
   "source": [
    "# Function Definition\n",
    "df = df_dtv_all_snb \n",
    "col_name = \"ICW\"\n",
    "#ICW = \n",
    "extract_column_as_array(df, col_name) # gives name of col head to array automatically\n",
    "print(type(ICW[0]))\n",
    "print(ICW.shape)\n"
   ]
  },
  {
   "cell_type": "markdown",
   "id": "f9415190-07e2-4067-930d-b3aa57746ce1",
   "metadata": {},
   "source": [
    "## Stetting up the class system"
   ]
  },
  {
   "cell_type": "markdown",
   "id": "8b0ce9df-022d-4d51-a1cb-a115d3aca816",
   "metadata": {},
   "source": [
    "### Perfect the strategy and techniques to leverage classes\n",
    "***Set up classes to ***dat cols*** and ***grps*** so classes can be used to find data and to create ***grps for processing***"
   ]
  },
  {
   "cell_type": "markdown",
   "id": "2f13da0a-554f-4882-b26d-227586ac674b",
   "metadata": {},
   "source": [
    "#### ***The following is the pilot leading me to use of classes for sorting***"
   ]
  },
  {
   "cell_type": "code",
   "execution_count": 41,
   "id": "150b8203-a1c7-430d-9be9-a0377d9c8bf2",
   "metadata": {},
   "outputs": [],
   "source": [
    "# contents available for class studies\n",
    "# ok df_dtv_all_snb"
   ]
  },
  {
   "cell_type": "code",
   "execution_count": 42,
   "id": "21300666-b917-4522-8040-5845d7a988e7",
   "metadata": {},
   "outputs": [],
   "source": [
    "# 1. Define the Class Hierarchy\n",
    "class Nutrition:\n",
    "    def __init__(self, name):\n",
    "        self.name = name\n",
    "\n"
   ]
  },
  {
   "cell_type": "code",
   "execution_count": 43,
   "id": "24b7ce30-2540-430f-b1aa-fe93b3557075",
   "metadata": {},
   "outputs": [],
   "source": [
    "# 2. Define the LifeStyle Class\n",
    "class LifeStyle(Nutrition):\n",
    "    def __init__(self, name, data_series, d_type, parent):\n",
    "        if not isinstance(data_series, pd.Series):\n",
    "            raise TypeError(\"data_series must be a pandas Series\")\n",
    "\n",
    "        super().__init__(name)\n",
    "        self.data = data_series\n",
    "        self.d_type = d_type\n",
    "        self.length = len(data_series)\n",
    "        self.parent = parent\n",
    "\n",
    "    def count_nan(self):\n",
    "        return self.data.isna().sum()           # counts \"isna\" \n",
    "\n",
    "    def average_value(self):                    \n",
    "        return self.data.dropna().mean()\n"
   ]
  },
  {
   "cell_type": "code",
   "execution_count": 44,
   "id": "d76c6e6b-6b89-4554-a20d-888595d030fb",
   "metadata": {},
   "outputs": [],
   "source": [
    "#3. Define Parent Classes\n",
    "class Supplements(LifeStyle):\n",
    "    def __init__(self, name, data_series, d_type):\n",
    "        super().__init__(name, data_series, d_type, parent=\"Supplements\")\n",
    "\n",
    "class Food(LifeStyle):\n",
    "    def __init__(self, name, data_series, d_type):\n",
    "        super().__init__(name, data_series, d_type, parent=\"Food\")\n"
   ]
  },
  {
   "cell_type": "code",
   "execution_count": 45,
   "id": "e8265252-10fc-474c-8115-018259f342f8",
   "metadata": {},
   "outputs": [],
   "source": [
    "# 4. Define Specific Children\n",
    "class CoQ10(Supplements):\n",
    "    pass\n",
    "\n",
    "class Mag(Supplements):\n",
    "    pass\n",
    "\n",
    "class Yogurt(Food):\n",
    "    pass\n",
    "\n",
    "class Lettuce(Food):\n",
    "    pass\n"
   ]
  },
  {
   "cell_type": "code",
   "execution_count": 47,
   "id": "d1e95813-596d-4df1-b103-71ab51bd3e08",
   "metadata": {},
   "outputs": [
    {
     "name": "stdout",
     "output_type": "stream",
     "text": [
      "NaNs: 0\n",
      "Average: 260.77730192719486\n",
      "Parent: Supplements\n"
     ]
    }
   ],
   "source": [
    "# 🧪 Example Usage\n",
    "# Assuming \"\" is your DataFrame and b002 corresponds to CoQ10:\n",
    "coq10_obj = CoQ10(name=\"b002\", data_series=dtv_all_snb[\"b002\"], d_type=\"float\") # change for df to series.\n",
    "print(\"NaNs:\", coq10_obj.count_nan())\n",
    "print(\"Average:\", coq10_obj.average_value())\n",
    "print(\"Parent:\", coq10_obj.parent)\n"
   ]
  },
  {
   "cell_type": "code",
   "execution_count": null,
   "id": "76e93696-a456-47a5-8d50-70d787b01697",
   "metadata": {},
   "outputs": [],
   "source": []
  },
  {
   "cell_type": "code",
   "execution_count": null,
   "id": "0e435b33-248c-4efa-a694-ea236d6d40a6",
   "metadata": {},
   "outputs": [],
   "source": []
  },
  {
   "cell_type": "code",
   "execution_count": null,
   "id": "d112afd9-4324-4285-b828-01d09cdcfbeb",
   "metadata": {},
   "outputs": [],
   "source": []
  },
  {
   "cell_type": "markdown",
   "id": "6a9efe9f-be7c-4191-805c-7fa6b382230a",
   "metadata": {},
   "source": [
    "## Step 4 Serial numbers for ubn, cvs, grp"
   ]
  },
  {
   "cell_type": "markdown",
   "id": "ff678bbe-2090-4a8b-907b-a04741926dc3",
   "metadata": {},
   "source": [
    "1. ***ubn*** is the ***u***nifying ***b***asicdatacol ***n***ame that stands for class of data col vs dtv where the serial number  ***snb*** is the name for an single individual data col.\n",
    "2.  ***_snb*** is a serial number ***snb*** relates 1 for 1 to the ***ubn*** .(it has the form of (***b000***)\n",
    "6.  It is stored in the index col1 of a ***df_snb_md*** [***md*** stands for ***m***edia***d***ata]. This df contains more cols that include other media data unique to ***snb*** \n",
    "3. ***_snc*** is a serial number that stands for a **class name** (it has the form of a **c000** )\n",
    "4. ***ubn = df_snb_md.loc[\"snb\",\"1\"]***\n",
    "5. ***cls_nm=df_snb_md.loc[\"snc\",\"2\"]***\n",
    "6. ***_sng*** is a serial number for an  individual ***grp_nm*** (it has the form of a **g000** )\n",
    "7. ***grp_nm = df_snb_md.loc[\"sng\",\"3\"]**\n",
    "8.  The serial numbers are created at the time the ***snb*** is first entered into the system as part ***init_snb*** process*."
   ]
  },
  {
   "cell_type": "markdown",
   "id": "45afbb49-f07a-4117-a644-cd3d99168533",
   "metadata": {
    "jp-MarkdownHeadingCollapsed": true
   },
   "source": [
    "#### DATE_V +"
   ]
  },
  {
   "cell_type": "markdown",
   "id": "248f5920-1499-4b45-9f09-0133789e82f6",
   "metadata": {},
   "source": [
    "1. ***\"df_dtv_snb\"*** is the list for all dates over the entire ***dvt*** range for a single r ***snb***.\n",
    "8. The *dataframe* that holds all of the ***snb***s is ***\"df_dtv_all_snb\"***\n",
    "9. All data is stored ***.csv files*** in excell and the filename is prefixed with **xl_** for e***x***ce***l*** = is ***\"xl_dtv_all_snb.csv\"***\n",
    "6. A ***\"df_dtv_snb\"*** can be extracted from ***\"df_dtv_all_snb\"*** using the ***\"extrct_fnct\"***"
   ]
  },
  {
   "cell_type": "markdown",
   "id": "77ddbae8-f889-4cd6-96c0-0e6b686a7f16",
   "metadata": {},
   "source": [
    "#### Creating grps"
   ]
  },
  {
   "cell_type": "markdown",
   "id": "af3549d6-10b6-4317-bd12-2f803b91026a",
   "metadata": {},
   "source": [
    " ________________ Creating and using grps __________________________________________\n",
    "1. Every ***data_col*** is a *list of data* with a name (***ubn***) and a serial number(***snb***). For simplicity and uniqueness ***ubn*** s are tracked with ***snb***s.\n",
    "2. Much of the *data entry* and *processing* involve only a group of a few ***snb***\n",
    "3. There are many processes and groups and they are tracked by serial numbers ***sng***s.\n",
    "4. A df named ***df_full_sng_snb'*** records which ***snb*** will be include in each ***sng***(serial number group)\n",
    "1. Since ***snb*** can be found in more than one group, we need create an array with all ***sng***s as **row**s and all ***snb***s as **col**s.\n",
    "14. The dataframe made from this array is ***df_full_sng_snb'***\n",
    "15. When created the ***df_full_sng_snb'***, has all values of **NAN** and then any array_item that is in the ***snb*** column and in the ***sng*** row with a **true**\n",
    "1. The grp adjustments are only required when ***data type or process*** changes\n",
    "1. To place an ***snb*** into a ***sng*** , individually set ***df_grp_sng.loc***[***\"sng\"***,***\"snb\"***] = **true**(or False to remove it)\n"
   ]
  },
  {
   "cell_type": "markdown",
   "id": "15349257-77d7-45a5-a72c-fe5a595f1b60",
   "metadata": {},
   "source": [
    "#### Using grps"
   ]
  },
  {
   "cell_type": "markdown",
   "id": "24ff7067-453c-403c-b08c-898183ad3d6e",
   "metadata": {},
   "source": [
    "1.  Each time a process is initiated, it needs to build a ***df*** to hold all the required ***snb*** cols of data.\n",
    "11. That required group of ***snb*** data cols needed for the task is read from***df_full_sng_snb'***. ....    *# array with all sng and snb combinationss*\n",
    "12. ***sng_grp_lst*** = ***sng_grp_lst_mkr(sng):*** ,,,,, *# this is a functon decribed on next line*\n",
    "1. def ***sng_grp_lst_mkr(sng)*** ;loop ***df_all_grp_snb[sng,:]*** [go to row ***sng***] then loop through all ***snb*** and amend  ***snb*** if the array iten is marked **true** for this ***sng*** row then return ***snb_grp_lst*** for that ***sng***."
   ]
  },
  {
   "cell_type": "markdown",
   "id": "46bd84a0-2b91-401c-80ed-9990f33f8db3",
   "metadata": {},
   "source": [
    "#### The ***\"df_dtf_wrk_snb\"*** is a Temporary Dataframe for a Process"
   ]
  },
  {
   "cell_type": "markdown",
   "id": "be0c09c1-65c3-4088-9a77-871a6166cd73",
   "metadata": {},
   "source": [
    "1. This **df** is called ****df_dtf_wrk_snb***  ..... *# it is a temporary df in that is used for a single process and then abandoned when processing is completed*\n",
    "11.  The ***\"df_dtf_wrk_snb\"*** is a ***df*** consisting f a ***\"dtv\"*** index and the first ***snb*** in the ***snb_grp_lst*** \n",
    "12. Then it goes through the list and appends that ***snb*** data col"
   ]
  },
  {
   "cell_type": "markdown",
   "id": "062c0168-97aa-4b10-a0dc-f2aa28569877",
   "metadata": {},
   "source": [
    "#### Working with classes"
   ]
  },
  {
   "cell_type": "markdown",
   "id": "4aa931be-8a5e-4b0b-bdea-1401b51433eb",
   "metadata": {},
   "source": [
    "##### The snb use of classes"
   ]
  },
  {
   "cell_type": "markdown",
   "id": "40d96f92-82ce-4589-bdcb-d8a34006066b",
   "metadata": {},
   "source": [
    "1. Each ***snb*** will have 1 or more classes.\n",
    "2. Each individual class is given a serial number ***snc***\n",
    "3. The **cls_nm** will **attribute:1** of the ***snc***\n",
    "4. Each ***snc*** is shared by many ***snb***s\n",
    "5. Each ***snn*** is shared by many ***snc***s\n",
    "6. A **df** named ***\"df_snb_snc\"*** is used to specify the pairing.\n",
    "7. ***\"df_snb_snc\"*** is a **df** that has ***snb*** for rows and ***snc*** for cols.\n",
    "8. ***\"df_snb_snc\"*** will have all **items** set to NAN to start.\n",
    "9. **True** is inserted in ***items*** at a ***snb,snc*** intersection]\n",
    "10. Then every time an ***snb*** row has a **true** in it that indicates col head ***snc** is used by that ***bnc***\n",
    "11. ***snc.name*** is used to retrieve the ***snc name*** [1st attrbt of each ***snc***]\n",
    "12. ***df_snb,snc*** is stored in a file ***\"xl_snb,snc.csv\"***\n",
    "13. The class **c**lass **a**ttributes and **m**ethods (***cam***s)  are defined by a ***df_cam_smc*** and filed in ***xl_cam_smc.csv***\n",
    "14. The **c**lass **a**ttributes and **m**ethods (***cam***s) are stored in rows while ***snc*** are the column heads.\n",
    "15. To assugn a class to \n"
   ]
  },
  {
   "cell_type": "markdown",
   "id": "ee10a585-f747-4ab4-b40c-6c8495e8e574",
   "metadata": {
    "jp-MarkdownHeadingCollapsed": true
   },
   "source": [
    "# Temp Hold that will need to be erase \n",
    "7. ***\"df_dtv_snb\"*** is the ***df**** containing the list of snb's data along with a ***\"dtv\"*** index col. the ***_snb*** is the serial number of the data col."
   ]
  },
  {
   "cell_type": "markdown",
   "id": "30e8dd31-ae29-4fa9-a217-357bec80dc4f",
   "metadata": {},
   "source": [
    "### Names of dataframes and csv files"
   ]
  },
  {
   "cell_type": "markdown",
   "id": "a2319158-bc28-4db1-b4f5-7944b976d327",
   "metadata": {},
   "source": [
    "***Utilities --------------------------***\n",
    "\n",
    "***df_dtv***  ==   **df of only a complete up to date dtv**\n",
    "\n",
    "***df_files***   ==   **df of list of all .csv files**\n",
    "\n",
    "***xl_files.csv***   ==   **file of list of all .csv files**\n",
    "\n",
    "***init loading of structure ------------------***\n",
    "\n",
    "***df_snb*** == **df with ***snb*** indexed and cols for ***snc***, ***sng*** & other media.\n",
    "\n",
    "***df_dtv***  ==   **df of only a complete up to date dtv**\n",
    "\n",
    "***xl_dtv.csv***  ==   **file of only a complete up to date dtv**\n",
    "\n",
    "***df_snb***  ==  given   ***snb*** lookup ***snb***__ *index is ***snb***,_  ***snc***,_ ***sng*** __[col0 ***snb***,_col1  and _col2 ***snc*** and  _col3 ***sng***  *_[group list [1 snr may be in mltpl sng]*\n",
    "\n",
    "***ubn[snb]*** = *df_snb_md.iloc*[\"***snb\"***,\"***ubn***\"]  [find name from serial number]\n",
    "\n",
    "***xl_df_snb.csv***  ==  given   ***snb*** lookup ***ubn***__ * ubn*,_  ***snc***,_ ***sng*** __[col0 ***snb***,_col1  and _col2 ***snc*** and  _col3 ***sng***  *_[group list [1 snr may be in mltpl sng]*\n",
    "***Use*** == find the name ***ubn*** from ***snb***\n",
    "\n",
    "***xl_ubn_cls.csv*** ==   **file of lookup \"cls\"[name] for a \"snb\" : cols \"snb\" [index] & col2 \"snc\"**\n",
    "***df_dtv_snb***   ==   **df of single data col \"snb\"**\n",
    "***xl_dtv_snb***   ==   **xl of single data col \"snb\"**\n",
    "\n",
    "***xl_dtv_all_snbn.csv*** \n",
    "\n",
    "\n",
    "\n",
    "***xl_all_grp_snbn.csv***._____"
   ]
  },
  {
   "cell_type": "code",
   "execution_count": null,
   "id": "2c2af095-2b55-40a7-bf51-33d21ff36401",
   "metadata": {},
   "outputs": [],
   "source": []
  },
  {
   "cell_type": "markdown",
   "id": "9b75c6fc-fd25-4e01-bc6b-04352b171128",
   "metadata": {},
   "source": [
    "## Create a new ***snb***[data column]  ***init_snb*** "
   ]
  },
  {
   "cell_type": "markdown",
   "id": "d856f11f-5b48-438b-b721-b4ad75816c2f",
   "metadata": {},
   "source": [
    "### Put the ***snb*** in the sytem requires following steps"
   ]
  },
  {
   "cell_type": "code",
   "execution_count": null,
   "id": "dc27f64c-c0c2-4637-b103-c3a4ca2ea905",
   "metadata": {},
   "outputs": [],
   "source": []
  },
  {
   "cell_type": "markdown",
   "id": "c53809c2-c118-4e04-b9ce-b9bed380104d",
   "metadata": {},
   "source": [
    "### Abbreviations"
   ]
  },
  {
   "cell_type": "markdown",
   "id": "33138738-8c1b-4451-9416-f1aa9ce24cdc",
   "metadata": {},
   "source": [
    "***ubn***  ==    unifying basicdatacol name for single data type[1 data type col].\n",
    "\n",
    "***cls***    == a list of ***attrbts***, ***mthds*** and  that are part of a common process.\n",
    "\n",
    "***grp***    == a list of ***ubn*** that are part of a common process.\n",
    "\n",
    "***snc***  ==    unique serial number assgned to every ***cls***\n",
    "\n",
    "***dtv***   ==   DATE_V _____ the index col in all log dataframes.\n",
    "\n",
    "***df_snb_ubn*** == lookup table for name from serial number ***snb***\n",
    "\n",
    "***\"dtv_snb\"***  ==  A dataframe for a single data col with snb as the coluumn head\n",
    "\n",
    "***dtv_all_snb***     ==  A dataframe for all_types_data cols with snb as the coluumn head\n",
    "\n",
    "***df_wrk_ubn*** ==  Group of ***df_dtv_ubn*** extracted to use in processing _____\n",
    "\n",
    "***Serial numbers----------------------------------------------------------***\n",
    "\n",
    "***\"sng\"***  == the serial number of a group that holds the list of  ***snb's*** chosen for this process *[unique serial number assgned to every ***grp***]* but *[1 ***snb*** *can be  in many groups]*\n",
    "\n",
    "***_snb***   ==    unifying basicdatacol name serial number that is assigned when a new ***ubn*** is assind\n",
    "\n",
    "***_snc***   ==  is the serial number of a given class. The snc will be applied to many ***bnr*** but is unique for each class name and is calculated on the basis of parenting level: grandfather 1 and grand child is 5. Each ***ubn*** will be assigned an appropriate snc when is initiated.\n"
   ]
  },
  {
   "cell_type": "markdown",
   "id": "e839f385-a284-4b25-b421-b956e493f422",
   "metadata": {
    "jp-MarkdownHeadingCollapsed": true
   },
   "source": [
    "## Implementation example:"
   ]
  },
  {
   "cell_type": "markdown",
   "id": "7a0b2345-a94f-479c-908e-69308d8e0e5c",
   "metadata": {},
   "source": [
    "## Step by Step Process to perform processing on one or more data lists"
   ]
  },
  {
   "cell_type": "markdown",
   "id": "c27dbd6a-6aa0-4a7c-b3f1-c43f714ce743",
   "metadata": {
    "jp-MarkdownHeadingCollapsed": true
   },
   "source": [
    "### Load data from an ***xl_dtv_ubn_all.csv*** file to a ***df_dtv_ubn_all*** dataframe in python worksheet"
   ]
  },
  {
   "cell_type": "markdown",
   "id": "430b24c8-aa24-4fe9-b8fe-4b1a2087216c",
   "metadata": {},
   "source": [
    "1. load arrays from xl to dfs in a workbook"
   ]
  },
  {
   "cell_type": "markdown",
   "id": "7943d8b5-8916-4b20-a937-3840e2163c6e",
   "metadata": {},
   "source": [
    "### Extract a ***df_wrk_ubn*** datframe fro specific cols from ***df_dtv_all_ubn***"
   ]
  },
  {
   "cell_type": "markdown",
   "id": "bf1c8481-5cb8-4a22-a246-057dae5f67af",
   "metadata": {},
   "source": [
    "1. create new **df_wrk_ubn*** with ***dtv***.\n",
    "2. for ***snb*** in ***grp_gn***.\n",
    "3. use the ***extrct_fnct*** to copy ***\"dtv_ubn_snb\"*** from ***dtv_all_ubn*** and\n",
    "4. amend it to ***df_wrk_ubn***"
   ]
  },
  {
   "cell_type": "markdown",
   "id": "bc414484-35c2-4cbb-ab2e-ac1b42bad6ea",
   "metadata": {
    "jp-MarkdownHeadingCollapsed": true
   },
   "source": [
    "### Make a list of planned columneupdates to ***df_wrk_ubn*** with any process"
   ]
  },
  {
   "cell_type": "markdown",
   "id": "69c2c5d5-e215-4a8d-8481-5ad523e4d72e",
   "metadata": {},
   "source": [
    "### select a ***grp_gn*** that contains of the ***dtv_ubn*** that you need to update ***grp_gn*** make Modifications to ***df_wrk_ubn***"
   ]
  },
  {
   "cell_type": "markdown",
   "id": "5ed59ada-2452-4799-87b7-899107a78c88",
   "metadata": {},
   "source": [
    "15. To start a process build the  LOOP-----------------------\n",
    "15. A list of ***grp_gn*** that will be specified in cycle ***grp_gn*** loop.\n",
    "16. Then start the loop specifying each of the "
   ]
  },
  {
   "cell_type": "markdown",
   "id": "0bac3253-a889-49cd-b161-d272736ac06a",
   "metadata": {},
   "source": [
    "### Update   ***df_dtv_all_ubn***  from ***df_wrk_ubn***"
   ]
  },
  {
   "cell_type": "markdown",
   "id": "ef951a70-3d4e-48d8-a1bc-b72cb2b1dfc5",
   "metadata": {},
   "source": [
    "15. After processing is completed on the ***df_wrk_ubn*** , the ***updt_funct*** is used to transfer the updates from the ***df_wrk_ubn*** to the ***df_dtv_all_ubn*** \n",
    "16. ------------------ LOOP END -------------------------------\n",
    "17. This extraction, processing, and updating is repeated for every group apecified."
   ]
  },
  {
   "cell_type": "markdown",
   "id": "c9a8f443-69f2-47ef-81d8-9b1749654620",
   "metadata": {},
   "source": [
    "## Functions to be proven and moved to a py module"
   ]
  },
  {
   "cell_type": "markdown",
   "id": "ea7e2d96-3bc8-45c1-b376-f4c2af6ea870",
   "metadata": {},
   "source": [
    "***xl_fnct_mdls.csv***  for   **Help**\n",
    "***extrct_fnct***  ==  extract a single ***\"df_dtv_ubn_snb\"*** from the ***df_dtv_all_ubn***\n",
    "***extrct_df_wrk_ubn*** == use the ***extrct_fnct*** to extract ***df_wrk_ubns*** one by one to bld ***df_wrk_ubn**\n",
    "***updt_funct***   == transfer the updates  from the ***df_wrk_ubn*** to the ***xl_dtv_all_ubn.csv*** "
   ]
  },
  {
   "cell_type": "markdown",
   "id": "e6022b09-5e4a-40e9-83a9-fc934490ebea",
   "metadata": {
    "tags": []
   },
   "source": [
    "### def imprt_csv): assumes in repo : \n",
    "1. filename = ada_dict.csv\n",
    "2. reads csi file(file name)\n",
    "2. creates df of the array using the file name ; it also creates a of the col heads in filename_heads"
   ]
  },
  {
   "cell_type": "markdown",
   "id": "8480a794-48ef-4c84-ad69-99ff8c9e114f",
   "metadata": {
    "tags": []
   },
   "source": [
    "\n",
    "############################################################################\n",
    "def df_repo_csv(filename):            # filename is str\n",
    "    hds= pd.DataFrame(df.columns)\n",
    "    return \n",
    "###############################\n",
    "    df_nm\n",
    "#df,hds =   "
   ]
  },
  {
   "cell_type": "code",
   "execution_count": null,
   "id": "46a6ecf4-51a8-48f5-9ee8-1449cf008f56",
   "metadata": {},
   "outputs": [],
   "source": [
    "import os\n",
    "\n",
    "filename = \"df_nm\"\n",
    "# file_path = os.path.join(\"JL_1\", filename + \".csv\")\n",
    "file_path = os.path.join(filename + \".csv\")\n",
    "\n",
    "file_path\n"
   ]
  },
  {
   "cell_type": "code",
   "execution_count": null,
   "id": "40ac891e-021f-4073-a092-cd4a8582cec7",
   "metadata": {},
   "outputs": [],
   "source": [
    "\n",
    "df = pd.read_csv(file_path)\n",
    "\n",
    "df"
   ]
  },
  {
   "cell_type": "code",
   "execution_count": null,
   "id": "08b6a0ee-6d0c-4b57-ae55-e7618e8e9004",
   "metadata": {},
   "outputs": [],
   "source": [
    "df = pd.read_csv(\"df_nm.csv\")\n",
    "\n",
    "df"
   ]
  },
  {
   "cell_type": "code",
   "execution_count": null,
   "id": "5da3a79d-0f0b-41b8-8179-a7e67f9913c8",
   "metadata": {
    "scrolled": true
   },
   "outputs": [],
   "source": [
    "\n",
    "df = pd.read_csv(\"/home/bhuns/JL_1/df_nm.csv\")\n",
    "\n",
    "df"
   ]
  },
  {
   "cell_type": "code",
   "execution_count": null,
   "id": "0e0d3c4d-458f-40f3-8927-52afc5705c8d",
   "metadata": {},
   "outputs": [],
   "source": [
    "print(\"Current working directory:\", os.getcwd())\n"
   ]
  },
  {
   "cell_type": "code",
   "execution_count": null,
   "id": "babe3da8-46fe-4c06-b992-07a1f471b488",
   "metadata": {},
   "outputs": [],
   "source": [
    "import os\n",
    "\n",
    "filename = \"df_nm.csv\"\n",
    "folder = \"JL_1\"\n",
    "path = os.path.join(os.getcwd(), folder, filename)\n",
    "\n",
    "print(path)  # Confirm full path\n"
   ]
  },
  {
   "cell_type": "code",
   "execution_count": null,
   "id": "a6ba84ca-91b8-4cb8-aec7-b835c8a6dc11",
   "metadata": {},
   "outputs": [],
   "source": [
    "import os\n",
    "\n",
    "print(os.getcwd())  # Shows your current working directory\n",
    "print(os.listdir(\"JL_1\"))  # Lists files in the JL_1 subfolder\n"
   ]
  },
  {
   "cell_type": "code",
   "execution_count": null,
   "id": "0276002a-d694-4225-bf90-ed029accb5f8",
   "metadata": {},
   "outputs": [],
   "source": [
    "filename = pd.read_csv(file_path)\n",
    "filename = pd.DataFrame(df.columns)\n",
    "file_hds\n"
   ]
  },
  {
   "cell_type": "code",
   "execution_count": null,
   "id": "2d64ab8d-90e6-4b67-a81b-f99997f2ea26",
   "metadata": {
    "scrolled": true
   },
   "outputs": [],
   "source": [
    "   # Load the CSV file to use df(file_path)  to get clmn_nn [nickname]\n",
    "file_path = \"mrn_mstr_8_04.csv\"    # name of the mrn_mstr file\n",
    "############################################################################\n",
    "df = pd.read_csv(file_path)\n",
    "clmn_nn= pd.DataFrame(df.columns)\n",
    "file_hds"
   ]
  },
  {
   "cell_type": "markdown",
   "id": "4c0d5397-5d69-4ad2-b8ab-491944f05b51",
   "metadata": {
    "jp-MarkdownHeadingCollapsed": true
   },
   "source": [
    "### Step 2 Read filename.csv and get col names"
   ]
  },
  {
   "cell_type": "markdown",
   "id": "05c87c02-f382-4d2a-b6d0-8d5ab1d00d72",
   "metadata": {},
   "source": [
    "### Reading the file from .csv"
   ]
  },
  {
   "cell_type": "code",
   "execution_count": null,
   "id": "eb227281-5788-4690-a1af-d0b1b0002ef5",
   "metadata": {
    "scrolled": true
   },
   "outputs": [],
   "source": [
    "##########################  import os ???  ############################################\n",
    "print(\"repo = \",os.getcwd())\n",
    "\n",
    "def csv_df(file_path):\n",
    "    df = pd.read_csv(file_path)\n",
    "    clmn_nn= pd.DataFrame(df.columns)\n",
    "    return df"
   ]
  },
  {
   "cell_type": "code",
   "execution_count": null,
   "id": "5940bd76-fa4d-47cf-a20d-0afcfbac09fb",
   "metadata": {
    "scrolled": true
   },
   "outputs": [],
   "source": [
    "file = \"df_nm\"\n",
    "file_path = file + \".csv\"    # name of the mrn_mstr file\n",
    "df = csv_df(file_path)\n",
    "df_nm = df\n",
    "file_hds = df.columns\n",
    "file_hds\n",
    "print(file_hds)\n",
    "df_nm"
   ]
  },
  {
   "cell_type": "markdown",
   "id": "12487800-ec72-4503-aec3-e0cc4bcc2fbb",
   "metadata": {},
   "source": [
    "### Proving file is read into df"
   ]
  },
  {
   "cell_type": "code",
   "execution_count": null,
   "id": "a2b3ecb4-f427-470b-b50b-311678e154b0",
   "metadata": {
    "editable": true,
    "slideshow": {
     "slide_type": ""
    },
    "tags": []
   },
   "outputs": [],
   "source": [
    "# get the names of the first 30 cols\n",
    "clmn_nn.iloc[:30]"
   ]
  },
  {
   "cell_type": "code",
   "execution_count": null,
   "id": "3e313549-7880-4e8d-94bf-a474b01c3cf8",
   "metadata": {},
   "outputs": [],
   "source": [
    "# Get the name of the 24th column\n",
    "nn = clmn_nn.iloc[24]\n",
    "nn"
   ]
  },
  {
   "cell_type": "code",
   "execution_count": null,
   "id": "3f4b3012-9f09-47f5-b01c-0d7895edecd1",
   "metadata": {},
   "outputs": [],
   "source": [
    "# show a col with index col 24 of df [the array from the file made into a data frame]\n",
    "df.iloc[:,24]                 # col 24 of df"
   ]
  },
  {
   "cell_type": "code",
   "execution_count": null,
   "id": "089ecf69-87ac-490a-833c-d949950d30ad",
   "metadata": {},
   "outputs": [],
   "source": [
    "# Show creating a variable from cols example DATE_V\n",
    "DATE_V = df.loc[:,\"DATE_V\"]\n",
    "DATE_V"
   ]
  },
  {
   "cell_type": "code",
   "execution_count": null,
   "id": "295213ae-8faf-4bf4-b9c0-510b1fd288b8",
   "metadata": {
    "scrolled": true
   },
   "outputs": [],
   "source": [
    "# Create a list if the index of a df\n",
    "df_ind = df.index\n",
    "df_ind[10]"
   ]
  },
  {
   "cell_type": "markdown",
   "id": "47516dc1-d403-4403-b34e-7a4a7204b930",
   "metadata": {
    "jp-MarkdownHeadingCollapsed": true
   },
   "source": [
    "##trial Function to Find Index by Column and String\n",
    "\n",
    "***df_ind (shld be df_ndx)***"
   ]
  },
  {
   "cell_type": "markdown",
   "id": "ce8a1616-5be6-4a88-ad43-b059de340153",
   "metadata": {},
   "source": [
    "#### copilot pattern = df_ind  Function to Find Index by Column and String"
   ]
  },
  {
   "cell_type": "markdown",
   "id": "8fe61746-16f2-4f9d-971c-49a20969f26b",
   "metadata": {},
   "source": [
    "##### Also look at query to find matches"
   ]
  },
  {
   "cell_type": "raw",
   "id": "f9a660a7-965a-4d9e-b80f-0829faa9fd2e",
   "metadata": {},
   "source": [
    "#### copilot pattern = def >> df_ind  Function to Find Index by Column and String\n",
    "def find_index_by_value(df, col_name, target_str):\n",
    "    if col_name not in df.columns:\n",
    "        raise ValueError(f\"Column '{col_name}' not found in DataFrame.\")\n",
    "    \n",
    "    matches = df[df[col_name] == target_str]\n",
    "    \n",
    "    if matches.empty:\n",
    "        print(f\"❌ No match found for '{target_str}' in column '{col_name}'.\")\n",
    "        return None\n",
    "    \n",
    "    return matches.index.tolist()\n"
   ]
  },
  {
   "cell_type": "raw",
   "id": "263c88a4-43a7-4e7b-ae0c-434f91c02446",
   "metadata": {},
   "source": [
    "### call df_ind function\n",
    "# Sample DataFrame\n",
    "import pandas as pd\n",
    "\n",
    "df_nms = pd.DataFrame({\n",
    "    \"DATE_V\": [\"2025-08-01\", \"2025-08-02\", \"2025-08-03\"],\n",
    "    \"dn\": [\"alpha\", \"beta\", \"gamma\"],\n",
    "    \"nn\": [\"x1\", \"x2\", \"x3\"],\n",
    "    \"pn\": [\"p1\", \"p2\", \"p3\"]\n",
    "}, index=[101, 102, 103])\n",
    "\n",
    "# Find index where 'dn' == 'beta'\n",
    "idx = find_index_by_value(df_nms, \"dn\", \"beta\")\n",
    "print(\"✅ Matching index:\", idx)\n"
   ]
  },
  {
   "cell_type": "raw",
   "id": "b34fdde5-97b1-4c8c-81e3-4f5ca1b48f65",
   "metadata": {},
   "source": [
    "### call df_ind function \n",
    "# Sample DataFrame\n",
    "import pandas as pd\n",
    "\n",
    "df_nms = pd.DataFrame({\n",
    "    \"DATE_V\": [\"2025-08-01\", \"2025-08-02\", \"2025-08-03\"],\n",
    "    \"dn\": [\"alpha\", \"beta\", \"gamma\"],\n",
    "    \"nn\": [\"x1\", \"x2\", \"x3\"],\n",
    "    \"pn\": [\"p1\", \"p2\", \"p3\"]\n",
    "}, index=[101, 102, 103])\n",
    "\n",
    "# Find index where 'dn' == 'beta'\n",
    "\n",
    "#idx = find_index_by_value(df_nms, \"dn\", \"beta\")\n",
    "\n",
    "print(\"✅ Matching index:\", idx)\n"
   ]
  },
  {
   "cell_type": "markdown",
   "id": "8639a70f-05aa-4718-93a7-c2c4f15fa43f",
   "metadata": {},
   "source": [
    "### applied version = df_ind  Function to Find Index by Column and String"
   ]
  },
  {
   "cell_type": "code",
   "execution_count": null,
   "id": "1952348a-bff4-4227-adcb-32ba2aac1a97",
   "metadata": {},
   "outputs": [],
   "source": [
    "#### applied version >> call find_index_by_value(df, col_name, target_str)\n",
    "def find_index_by_value(df, col_name, target_str):\n",
    "    if col_name not in df.columns:\n",
    "        raise ValueError(f\"Column '{col_name}' not found in DataFrame.\")\n",
    "    \n",
    "    matches = df[df[col_name] == target_str]\n",
    "    \n",
    "    if matches.empty:\n",
    "        print(f\"❌ No match found for '{target_str}' in column '{col_name}'.\")\n",
    "        return None\n",
    "    \n",
    "    return matches.index.tolist()\n"
   ]
  },
  {
   "cell_type": "markdown",
   "id": "b7c01a80-467c-4ab4-967a-269e329ded99",
   "metadata": {},
   "source": [
    "#### call  >>  find_index_by_value(df, col_name, target_str): "
   ]
  },
  {
   "cell_type": "code",
   "execution_count": null,
   "id": "288420cb-4185-4447-aeae-53b27aa7f05a",
   "metadata": {},
   "outputs": [],
   "source": [
    "#### call >> find_index_by_value(df, col_name, target_str) >> use assignment list to avoid confusion\n",
    "df = df_nms                      \n",
    "col_name = \"dn\"\n",
    "target_str = \"beta\"\n",
    "# Find index where 'dn' == 'beta'\n",
    "idx = find_index_by_value(df, col_name, target_str)\n",
    "print(\"✅ Matching index:\", idx)\n"
   ]
  },
  {
   "cell_type": "markdown",
   "id": "d7ef6601-c4a2-49cb-8c8b-a7eb7fa94691",
   "metadata": {},
   "source": [
    "# def functions"
   ]
  },
  {
   "cell_type": "markdown",
   "id": "596f2eec-4fbc-42ef-98e6-b378462f6365",
   "metadata": {},
   "source": [
    "##  inport/export to csv storage"
   ]
  },
  {
   "cell_type": "markdown",
   "id": "f575b509-bdbd-44b7-b438-8545620657af",
   "metadata": {},
   "source": [
    "### xl to df"
   ]
  },
  {
   "cell_type": "code",
   "execution_count": null,
   "id": "8f0aef31-c1c1-458a-adde-e988f25ae05a",
   "metadata": {},
   "outputs": [],
   "source": [
    "### xl to df\n",
    "def load_csv_to_df(filepath, index_col=None):\n",
    "    return pd.read_csv(filepath, index_col=index_col)"
   ]
  },
  {
   "cell_type": "code",
   "execution_count": null,
   "id": "bd233cc6-8cdd-446e-89a5-475f9bf680dd",
   "metadata": {},
   "outputs": [],
   "source": [
    "### test def function to xl to df\n",
    "filepath = \"xl_dtv_all_snb.csv\"\n",
    "df_dtv_all_snb = load_csv_to_df(filepath, index_col=None)\n",
    "# df_dtv_all_snb.loc[:,\"ICW\"]"
   ]
  },
  {
   "cell_type": "markdown",
   "id": "64bce3f4-a004-460f-b938-be1a248ff3cd",
   "metadata": {},
   "source": [
    "### df to np"
   ]
  },
  {
   "cell_type": "code",
   "execution_count": null,
   "id": "3df4dafc-8614-42ca-ba15-04bf2473f963",
   "metadata": {},
   "outputs": [],
   "source": [
    "### df to np\n",
    "def get_column_as_array(df, col_name):\n",
    "    return df[col_name].to_numpy()"
   ]
  },
  {
   "cell_type": "code",
   "execution_count": null,
   "id": "d621c15f-02f6-4818-b64a-41bc759bd919",
   "metadata": {},
   "outputs": [],
   "source": [
    "### test def function df to np\n",
    "df = df_dtv_all_snb\n",
    "filepath = \"xl_dtv_all_snr.csv\"\n",
    "def df.to_csv(filepath, index=False)\n",
    "df_dtv_all_snb"
   ]
  },
  {
   "cell_type": "markdown",
   "id": "a8219fb0-a3b9-48af-b3cb-648ad8f63b0e",
   "metadata": {},
   "source": [
    "### \"np to df\""
   ]
  },
  {
   "cell_type": "code",
   "execution_count": null,
   "id": "aaaad00e-9563-4743-a335-f8597b293412",
   "metadata": {},
   "outputs": [],
   "source": [
    "### np to df\n",
    "# Your NumPy array to insert\n",
    "new_values = np.array([1.2, 3.4, 5.6, 7.8])  # Replace with your actual array\n",
    "\n",
    "# Insert into a new or existing column\n",
    "df_dtv_all_snb[\"new_column\"] = new_values  # or overwrite: df_dtv_all_snb[\"existing_column\"] = new_values\n",
    "def insert_array(df, col_name, array, filepath):\n",
    "    df[col_name] = array\n",
    "   \n"
   ]
  },
  {
   "cell_type": "markdown",
   "id": "90e376c4-2083-4dfb-a510-19d2e66200fa",
   "metadata": {},
   "source": [
    "### df to xl"
   ]
  },
  {
   "cell_type": "code",
   "execution_count": null,
   "id": "f4c483de-9213-48e0-8db4-37d240b731ff",
   "metadata": {},
   "outputs": [],
   "source": [
    "### function to df to xl\n",
    "def df_.to_csv(filepath, index=False):\n",
    "#df_dtv_all_snb.to_csv(\"xl_dtv_all_snb.csv\", index=False)"
   ]
  },
  {
   "cell_type": "code",
   "execution_count": null,
   "id": "1d22d0ea-1c22-4954-b1b8-90eb31992f6e",
   "metadata": {},
   "outputs": [],
   "source": [
    "### test def function to df to xl\n",
    "df = df_dtv_all_snb\n",
    "filepath = xl_dtv_all_snb.csv\n",
    "def df.to_csv(filepath, index=False)\n"
   ]
  },
  {
   "cell_type": "markdown",
   "id": "b33b1395-8846-4be6-b3e0-ae42fe54da2c",
   "metadata": {},
   "source": [
    "##  i_"
   ]
  },
  {
   "cell_type": "markdown",
   "id": "ecdb03c4-7e6d-478d-a9e3-76fccf937b60",
   "metadata": {},
   "source": [
    "##  i__"
   ]
  },
  {
   "cell_type": "markdown",
   "id": "f22b8aab-6d0b-4f1d-86b9-682097bd3e57",
   "metadata": {},
   "source": [
    "##  inport/export to csv storage"
   ]
  },
  {
   "cell_type": "markdown",
   "id": "26d77822-dd23-4faa-8cf7-7c7ce64d87a9",
   "metadata": {
    "jp-MarkdownHeadingCollapsed": true
   },
   "source": [
    "# next"
   ]
  },
  {
   "cell_type": "code",
   "execution_count": null,
   "id": "5ba8350c-44e9-4327-b00e-2cb15805c8d3",
   "metadata": {},
   "outputs": [],
   "source": [
    "## find a name for a dictionary"
   ]
  },
  {
   "cell_type": "markdown",
   "id": "65c6b450-9849-4cdf-872c-ee2f983af409",
   "metadata": {},
   "source": [
    "### Find ***ubn = df_snb_ubn.iloc[snb]       by entering df_snb_ubn                            ******  **indexed on snb**          "
   ]
  },
  {
   "cell_type": "markdown",
   "id": "dac5ff2b-171d-46f0-89e8-a1925d024822",
   "metadata": {},
   "source": [
    "1. Read the real name from the serial nmber ***df_snb_ubn from xl_snb_ubn***                                    *row is snb & col is ubn*"
   ]
  },
  {
   "cell_type": "code",
   "execution_count": null,
   "id": "559aed19-1c94-402c-81a7-298f5bbc6ef5",
   "metadata": {},
   "outputs": [],
   "source": [
    "2. "
   ]
  },
  {
   "cell_type": "code",
   "execution_count": null,
   "id": "3d0109f8-8686-490c-8b26-f3772fedae4b",
   "metadata": {},
   "outputs": [],
   "source": []
  },
  {
   "cell_type": "code",
   "execution_count": null,
   "id": "32482639-0c99-49f3-865a-b7171d5bd4a5",
   "metadata": {},
   "outputs": [],
   "source": []
  },
  {
   "cell_type": "code",
   "execution_count": null,
   "id": "a8a2b210-6ad7-458e-8243-fd1f37f2eb0b",
   "metadata": {},
   "outputs": [],
   "source": []
  },
  {
   "cell_type": "code",
   "execution_count": null,
   "id": "797c8978-5d12-4e73-aff7-3a6748baee27",
   "metadata": {},
   "outputs": [],
   "source": []
  },
  {
   "cell_type": "code",
   "execution_count": null,
   "id": "a5c34ea1-0dfb-408b-9480-6e6e52c9907d",
   "metadata": {},
   "outputs": [],
   "source": []
  },
  {
   "cell_type": "code",
   "execution_count": null,
   "id": "08fc4e3e-c7d8-424a-b657-b8fdd14f4982",
   "metadata": {},
   "outputs": [],
   "source": []
  },
  {
   "cell_type": "code",
   "execution_count": null,
   "id": "10f23cd3-573b-4ba0-ae74-0f30918384a1",
   "metadata": {},
   "outputs": [],
   "source": []
  },
  {
   "cell_type": "code",
   "execution_count": null,
   "id": "76513b12-0bff-48bf-8696-804c33894aa4",
   "metadata": {},
   "outputs": [],
   "source": []
  },
  {
   "cell_type": "code",
   "execution_count": null,
   "id": "68a3eb29-47a2-4f8e-aa38-f3e1b3f07b67",
   "metadata": {},
   "outputs": [],
   "source": []
  }
 ],
 "metadata": {
  "kernelspec": {
   "display_name": "Python (scu)",
   "language": "python",
   "name": "scu"
  },
  "language_info": {
   "codemirror_mode": {
    "name": "ipython",
    "version": 3
   },
   "file_extension": ".py",
   "mimetype": "text/x-python",
   "name": "python",
   "nbconvert_exporter": "python",
   "pygments_lexer": "ipython3",
   "version": "3.11.13"
  }
 },
 "nbformat": 4,
 "nbformat_minor": 5
}
