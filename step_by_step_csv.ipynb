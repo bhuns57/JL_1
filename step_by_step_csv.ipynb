{
 "cells": [
  {
   "cell_type": "markdown",
   "id": "03d60ce1-6226-4ce4-b0ca-3bd9e53e3510",
   "metadata": {},
   "source": [
    "# Developing \".csv\" Data Storage SYS"
   ]
  },
  {
   "cell_type": "markdown",
   "id": "b044a044-7e24-45cc-a8ca-b7a6af9aa894",
   "metadata": {
    "jupyter": {
     "source_hidden": true
    }
   },
   "source": [
    "## Step 1 Load imports of extensions"
   ]
  },
  {
   "cell_type": "code",
   "execution_count": 5,
   "id": "496c354d-ed67-4d43-b788-2df75f14c541",
   "metadata": {
    "jupyter": {
     "source_hidden": true
    },
    "scrolled": true
   },
   "outputs": [],
   "source": [
    "import pandas as pd\n",
    "from datetime import timedelta\n",
    "import os\n",
    "\n",
    "\n",
    "# <br><br> to skip 2 lines"
   ]
  },
  {
   "cell_type": "markdown",
   "id": "3d171562-15da-4eb8-8a58-2794fe392d05",
   "metadata": {},
   "source": [
    "# Data Storage Sys using .csv in XL Discription"
   ]
  },
  {
   "cell_type": "markdown",
   "id": "81766dec-6a06-4a72-bbe1-34b97d615f4f",
   "metadata": {},
   "source": [
    "## Nomentclature"
   ]
  },
  {
   "cell_type": "markdown",
   "id": "6fe708d9-628f-4896-8774-c25b9a434366",
   "metadata": {},
   "source": [
    "### ************ Data_Storage_Sys_name overview and relationships *********"
   ]
  },
  {
   "cell_type": "markdown",
   "id": "af53190d-285f-4332-a33a-b34aac95a155",
   "metadata": {
    "jp-MarkdownHeadingCollapsed": true
   },
   "source": [
    "#### Defining ***data storage in .csv*** and  ***Nomenclature*** "
   ]
  },
  {
   "cell_type": "markdown",
   "id": "546b7fdd-0177-4c5b-a307-9b8549b43ac5",
   "metadata": {},
   "source": [
    "1. Defining ***data storage in .csv***\n",
    "2. ***dtv*** is the ***d***a***t***e ***v***alue of the data entry; it is an integer count of the number of days since 1/1/1900. Last ***dtv*** is ***today*** and it is kept  current at ***startup*** with the ***imports***.\n",
    "3. ***dtv*** is stored and kept current in ***df_dtv***  &  ***xl_dtv.csv*** \n",
    "2. ***ubn*** is the ***u***nique ***b***asic ***n***ame for a each type of data.[ie each data col in the log array] The data in its list is stored in the ***xl_dtv_all_snb.csv*** file.\n",
    "3. The ***ubn***   **name** is stored in the ***df_snb_ubn*** [***xl_snb_ubn.csv***]"
   ]
  },
  {
   "cell_type": "markdown",
   "id": "6a9efe9f-be7c-4191-805c-7fa6b382230a",
   "metadata": {
    "jp-MarkdownHeadingCollapsed": true
   },
   "source": [
    "#### Serial numbers for ubn, cvs, grp"
   ]
  },
  {
   "cell_type": "markdown",
   "id": "ff678bbe-2090-4a8b-907b-a04741926dc3",
   "metadata": {},
   "source": [
    "4. ***_snb*** is a serial number ***_snb*** relates 1 for 1 to the ***ubn*** .\n",
    "5.  It is created at the time the ***snb*** is first entered into the system as part ***init_snb*** process*.\n",
    "6.  It is stored in the index col1 of a ***df_snb_md*** [***md*** stands for ***m***edea***d***ata] this includes important data about the ***snb*** \n",
    "3. ***_snc*** is a serial # that stands for an integer variable between 000 and 999 that denotes a serial number for an  individual ubn\n",
    "4. ***ubn = df_snb_md.loc[\"snb\",\"1\"]**\n",
    "5. ***cls_nm=df_snb_md.loc[\"snc\",\"2\"]***\n",
    "6. ***_sng*** is a serial # that stands for an integer variable between 000 and 999 that denotes a serial number for an  individual ***grp_nm***\n",
    "7. ***grp_nm = df_snb_md.loc[\"sng\",\"3\"]**"
   ]
  },
  {
   "cell_type": "markdown",
   "id": "45afbb49-f07a-4117-a644-cd3d99168533",
   "metadata": {
    "jp-MarkdownHeadingCollapsed": true
   },
   "source": [
    "#### DATE_V +"
   ]
  },
  {
   "cell_type": "markdown",
   "id": "248f5920-1499-4b45-9f09-0133789e82f6",
   "metadata": {},
   "source": [
    "1. ***\"df_dtv_snb\"*** is the list data for all dates over the entire ***dvt*** range for a single r ***snb***.\n",
    "8. The *dataframe* that holds all ***snb*** is ***\"df_dtv_all_snb\"***\n",
    "9. All data is stored ***.csv files*** in excell and the filename is prefixed with **xl_** for e***x***ce***l*** = is ***\"xl_dtv_all_snb.csv\"***\n",
    "5. The ***dataframe storage file*** for ***\"df_dtv_all_ubn\"*** is  ***\"xl_dtv_all_snb.csv\"***\n",
    "6. A ***\"df_dtv_snb\"*** can be extracted from ***\"df_dtv_all_snb\"*** using the ***\"extrct_fnct\"***"
   ]
  },
  {
   "cell_type": "markdown",
   "id": "77ddbae8-f889-4cd6-96c0-0e6b686a7f16",
   "metadata": {
    "jp-MarkdownHeadingCollapsed": true
   },
   "source": [
    "#### Creating grps"
   ]
  },
  {
   "cell_type": "markdown",
   "id": "af3549d6-10b6-4317-bd12-2f803b91026a",
   "metadata": {
    "jupyter": {
     "source_hidden": true
    }
   },
   "source": [
    " ________________ Creating and using grps __________________________________________\n",
    "1. Every ***data_col*** is a *list of data* with a name (***ubn***) and a serial number(***snb***). For simplicity and uniqueness ***ubn*** s are tracked with ***snb***s.\n",
    "2. Much of the *data entry* and *processing* involve only a group of a few ***snb***\n",
    "3. There are many processes and groups and they are tracked by serial numbers ***sng***s.\n",
    "4. A df named ***df_full_sng_snb'*** records which ***snb*** will be include in each ***sng***(serial number group)\n",
    "1. Since ***snb*** can be found in more than one group, we need create an array with all ***sng***s as **row**s and all ***snb***s as **col**s.\n",
    "14. The dataframe made from this array is ***df_full_sng_snb'***\n",
    "15. When created the ***df_full_sng_snb'***, has all values of **NAN** and then any array_item that is in the ***snb*** column and in the ***sng*** row with a **true**\n",
    "1. The grp adjustments are only required when ***data type or process*** changes\n",
    "1. To place an ***snb*** into a ***sng*** , individually set ***df_grp_sng.loc***[***\"sng\"***,***\"snb\"***] = **true**(or False to remove it)\n"
   ]
  },
  {
   "cell_type": "markdown",
   "id": "15349257-77d7-45a5-a72c-fe5a595f1b60",
   "metadata": {
    "jp-MarkdownHeadingCollapsed": true
   },
   "source": [
    "#### Using grps"
   ]
  },
  {
   "cell_type": "markdown",
   "id": "24ff7067-453c-403c-b08c-898183ad3d6e",
   "metadata": {},
   "source": [
    "1.  Each time a process is initiated, it needs to build a ***df*** to hold all the required ***snb*** cols of data.\n",
    "11. That required group of ***snb*** data cols needed for the task is read from***df_full_sng_snb'***.\n",
    "12. ***sng_grp_lst*** = ***sng_grp_lst_mkr(sng):***\n",
    "1. def ***sng_grp_lst(sng)*** ;loop ***df_all_grp_snb[sng,:]*** [go to row ***sng***] then loop through all ***snb*** and amend  ***snb*** if the array iten is marked **true** for this ***sng*** row then return ***snb_grp_lst***"
   ]
  },
  {
   "cell_type": "markdown",
   "id": "062c0168-97aa-4b10-a0dc-f2aa28569877",
   "metadata": {
    "jp-MarkdownHeadingCollapsed": true
   },
   "source": [
    "#### Working with classes"
   ]
  },
  {
   "cell_type": "markdown",
   "id": "77a6cc86-780a-4c44-98c8-c7968e5c080e",
   "metadata": {},
   "source": [
    "1. Each ***snb*** will have 1 or more classes(***cls***)s.\n",
    "3. Each ***cls*** is shared by many ***snb***s\n",
    "4. A df named ***\"df_snc_snb\"*** is used to specify the pairing.\n",
    "5. ***\"df_snc_snb\"*** is a df that has ***snb*** for rows and ***snc*** for cols.\n",
    "6. ***\"df_snc_snb\"*** will have all **items**  NAN to start\n",
    "7. Then every time a ***snb*** is classified a **true** will be placed in its ***snb*** row ***snc*** col. intersection **item**\n",
    "8. \n",
    "9.\n",
    "10. #### stopped editing------------------------------------------------------------------------\n",
    "\n",
    "11.\n",
    "12.\n",
    "13.\n",
    "14.\n",
    "15.  A ***df*** named ***\"df_snc_cls_nm\"*** is used to retrieve the ***cls_nm*** [1st attrbt of each cls]\n",
    "16.  ***\"df_snc_cls_mn\"*** is stored in a file ***\"xl_snc_cls_nm.csv\"***\n",
    "17. The ***df_snc_cls_nm*** has ***snc*** held in **rows** which is specified as the **index***. **Col1** holds the ***cls_nm*** \n",
    "10. ***syc_cls_nm*** = ***df_snc_cls_nm.loc[\"snc\"]***\n",
    "10. That group of ***snc*** in a single ***snc***is called ***grp_snc*** # group of ***snr*** of same ***snc***\n",
    "\n",
    "\n",
    "\n",
    "11.  ***\"df_wrk_snb\"*** is a ***df*** consisting if a ***\"dtv\"*** index and a one \n",
    "12.   That **df** is called ****df_wrk_snb***\n",
    "13. \n",
    "11.__________________\n",
    "\n",
    "\n",
    "16.***\"df_dtv_snb\"*** col for each ***snb*** listed in a ***\"grp_gn\"*** \n",
    "\n",
    "11. ***grp_gn*** is derived from a ***\"df_all_grp_snb\"***' \n",
    "12. ***df_all_grp_snb\"*** is a dataframe with ***rows*** made up ***\"all_grps*** and ***cols*** made up of ***all_snbs*** and all values originally set to false.\n",
    "13. ***df_all_grp_snb\"*** is stored in ***xl_all_grp_snb.csv***\n",
    "13. When a new ***\"grp_gn\"*** is added as a new row it must have a unque name and the cell in the col  of a ***ubn_snb*** that is to be included is changed from ***false*** to ***true***\n",
    "14. Changes of ***grp_gn*** changing cells from ***false_true*** in a cell."
   ]
  },
  {
   "cell_type": "markdown",
   "id": "ee10a585-f747-4ab4-b40c-6c8495e8e574",
   "metadata": {},
   "source": [
    "# Temp Hold that will need to be erase \n",
    "7. ***\"df_dtv_snb\"*** is the ***df**** containing the list of snb's data along with a ***\"dtv\"*** index col. the ***_snb*** is the serial number of the data col."
   ]
  },
  {
   "cell_type": "markdown",
   "id": "30e8dd31-ae29-4fa9-a217-357bec80dc4f",
   "metadata": {
    "jp-MarkdownHeadingCollapsed": true
   },
   "source": [
    "### Names of dataframes and csv files"
   ]
  },
  {
   "cell_type": "markdown",
   "id": "a2319158-bc28-4db1-b4f5-7944b976d327",
   "metadata": {},
   "source": [
    "***Utilities --------------------------***\n",
    "\n",
    "***df_dtv***  ==   **df of only a complete up to date dtv**\n",
    "\n",
    "***df_files***   ==   **df of list of all .csv files**\n",
    "\n",
    "***xl_files.csv***   ==   **file of list of all .csv files**\n",
    "\n",
    "***init loading of structure ------------------***\n",
    "\n",
    "***df_snb*** == **df with ***snb*** indexed and cols for ***snc***, ***sng*** & other media.\n",
    "\n",
    "***df_dtv***  ==   **df of only a complete up to date dtv**\n",
    "\n",
    "***xl_dtv.csv***  ==   **file of only a complete up to date dtv**\n",
    "\n",
    "***df_snb***  ==  given   ***snb*** lookup ***snb***__ *index is ***snb***,_  ***snc***,_ ***sng*** __[col0 ***snb***,_col1  and _col2 ***snc*** and  _col3 ***sng***  *_[group list [1 snr may be in mltpl sng]*\n",
    "\n",
    "***ubn[snb]*** = *df_snb_md.iloc*[\"***snb\"***,\"***ubn***\"]  [find name from serial number]\n",
    "\n",
    "***xl_df_snb.csv***  ==  given   ***snb*** lookup ***ubn***__ * ubn*,_  ***snc***,_ ***sng*** __[col0 ***snb***,_col1  and _col2 ***snc*** and  _col3 ***sng***  *_[group list [1 snr may be in mltpl sng]*\n",
    "***Use*** == find the name ***ubn*** from ***snb***\n",
    "\n",
    "***xl_ubn_cls.csv*** ==   **file of lookup \"cls\"[name] for a \"snb\" : cols \"snb\" [index] & col2 \"snc\"**\n",
    "***df_dtv_snb***   ==   **df of single data col \"snb\"**\n",
    "***xl_dtv_snb***   ==   **xl of single data col \"snb\"**\n",
    "\n",
    "***xl_dtv_all_snbn.csv*** \n",
    "\n",
    "\n",
    "\n",
    "***xl_all_grp_snbn.csv***._____"
   ]
  },
  {
   "cell_type": "code",
   "execution_count": null,
   "id": "2c2af095-2b55-40a7-bf51-33d21ff36401",
   "metadata": {},
   "outputs": [],
   "source": []
  },
  {
   "cell_type": "markdown",
   "id": "9b75c6fc-fd25-4e01-bc6b-04352b171128",
   "metadata": {
    "jp-MarkdownHeadingCollapsed": true
   },
   "source": [
    "## Create a new ***snb***[data column]  ***init_snb*** "
   ]
  },
  {
   "cell_type": "markdown",
   "id": "d856f11f-5b48-438b-b721-b4ad75816c2f",
   "metadata": {},
   "source": [
    "### Put the ***snb*** in the sytem requires following steps"
   ]
  },
  {
   "cell_type": "code",
   "execution_count": null,
   "id": "dc27f64c-c0c2-4637-b103-c3a4ca2ea905",
   "metadata": {},
   "outputs": [],
   "source": []
  },
  {
   "cell_type": "markdown",
   "id": "c53809c2-c118-4e04-b9ce-b9bed380104d",
   "metadata": {
    "jp-MarkdownHeadingCollapsed": true
   },
   "source": [
    "### Abbreviations"
   ]
  },
  {
   "cell_type": "markdown",
   "id": "33138738-8c1b-4451-9416-f1aa9ce24cdc",
   "metadata": {},
   "source": [
    "***ubn***  ==    unique basic name for single data type[1 data type col].\n",
    "\n",
    "***cls***    == a list of ***attrbts***, ***mthds*** and  that are part of a common process.\n",
    "\n",
    "***grp***    == a list of ***ubn*** that are part of a common process.\n",
    "\n",
    "***snc***  ==    unique serial number assgned to every ***cls***\n",
    "\n",
    "***dtv***   ==   DATE_V _____ the index col in all log dataframes.\n",
    "\n",
    "***df_snb_ubn*** == lookup table for name from serial number ***snb***\n",
    "\n",
    "***\"dtv_snb\"***  ==  A dataframe for a single data col with snb as the coluumn head\n",
    "\n",
    "***dtv_all_snb***     ==  A dataframe for all_types_data cols with snb as the coluumn head\n",
    "\n",
    "***df_wrk_ubn*** ==  Group of ***df_dtv_ubn*** extracted to use in processing _____\n",
    "\n",
    "***Serial numbers----------------------------------------------------------***\n",
    "\n",
    "***\"sng\"***  == the serial number of a group that holds the list of  ***snb's*** chosen for this process *[unique serial number assgned to every ***grp***]* but *[1 ***snb*** *can be  in many groups]*\n",
    "\n",
    "***_snb***   ==    unique basic name serial number that is assigned when a new ***ubn*** is assind\n",
    "\n",
    "***_snc***   ==  is the serial number of a given class. The snc will be applied to many ***bnr*** but is unique for each class name and is calculated on the basis of parenting level: grandfather 1 and grand child is 5. Each ***ubn*** will be assigned an appropriate snc when is initiated.\n"
   ]
  },
  {
   "cell_type": "markdown",
   "id": "e839f385-a284-4b25-b421-b956e493f422",
   "metadata": {
    "jp-MarkdownHeadingCollapsed": true
   },
   "source": [
    "## Implementation example:"
   ]
  },
  {
   "cell_type": "markdown",
   "id": "7a0b2345-a94f-479c-908e-69308d8e0e5c",
   "metadata": {},
   "source": [
    "## Step by Step Process to perform processing on one or more data lists"
   ]
  },
  {
   "cell_type": "markdown",
   "id": "c27dbd6a-6aa0-4a7c-b3f1-c43f714ce743",
   "metadata": {
    "jp-MarkdownHeadingCollapsed": true
   },
   "source": [
    "### Load data from an ***xl_dtv_ubn_all.csv*** file to a ***df_dtv_ubn_all*** dataframe in python worksheet"
   ]
  },
  {
   "cell_type": "markdown",
   "id": "430b24c8-aa24-4fe9-b8fe-4b1a2087216c",
   "metadata": {},
   "source": [
    "1. load arrays from xl to dfs in a workbook"
   ]
  },
  {
   "cell_type": "markdown",
   "id": "7943d8b5-8916-4b20-a937-3840e2163c6e",
   "metadata": {},
   "source": [
    "### Extract a ***df_wrk_ubn*** datframe fro specific cols from ***df_dtv_all_ubn***"
   ]
  },
  {
   "cell_type": "markdown",
   "id": "bf1c8481-5cb8-4a22-a246-057dae5f67af",
   "metadata": {},
   "source": [
    "1. create new **df_wrk_ubn*** with ***dtv***.\n",
    "2. for ***snb*** in ***grp_gn***.\n",
    "3. use the ***extrct_fnct*** to copy ***\"dtv_ubn_snb\"*** from ***dtv_all_ubn*** and\n",
    "4. amend it to ***df_wrk_ubn***"
   ]
  },
  {
   "cell_type": "markdown",
   "id": "bc414484-35c2-4cbb-ab2e-ac1b42bad6ea",
   "metadata": {
    "jp-MarkdownHeadingCollapsed": true
   },
   "source": [
    "### Make a list of planned columneupdates to ***df_wrk_ubn*** with any process"
   ]
  },
  {
   "cell_type": "markdown",
   "id": "69c2c5d5-e215-4a8d-8481-5ad523e4d72e",
   "metadata": {},
   "source": [
    "### select a ***grp_gn*** that contains of the ***dtv_ubn*** that you need to update ***grp_gn*** make Modifications to ***df_wrk_ubn***"
   ]
  },
  {
   "cell_type": "markdown",
   "id": "5ed59ada-2452-4799-87b7-899107a78c88",
   "metadata": {},
   "source": [
    "15. To start a process build the  LOOP-----------------------\n",
    "15. A list of ***grp_gn*** that will be specified in cycle ***grp_gn*** loop.\n",
    "16. Then start the loop specifying each of the "
   ]
  },
  {
   "cell_type": "markdown",
   "id": "0bac3253-a889-49cd-b161-d272736ac06a",
   "metadata": {},
   "source": [
    "### Update   ***df_dtv_all_ubn***  from ***df_wrk_ubn***"
   ]
  },
  {
   "cell_type": "markdown",
   "id": "ef951a70-3d4e-48d8-a1bc-b72cb2b1dfc5",
   "metadata": {},
   "source": [
    "15. After processing is completed on the ***df_wrk_ubn*** , the ***updt_funct*** is used to transfer the updates from the ***df_wrk_ubn*** to the ***df_dtv_all_ubn*** \n",
    "16. ------------------ LOOP END -------------------------------\n",
    "17. This extraction, processing, and updating is repeated for every group apecified."
   ]
  },
  {
   "cell_type": "markdown",
   "id": "c9a8f443-69f2-47ef-81d8-9b1749654620",
   "metadata": {
    "jp-MarkdownHeadingCollapsed": true
   },
   "source": [
    "## Functions to be proven and moved to a py module"
   ]
  },
  {
   "cell_type": "markdown",
   "id": "ea7e2d96-3bc8-45c1-b376-f4c2af6ea870",
   "metadata": {},
   "source": [
    "***xl_fnct_mdls.csv***  for   **Help**\n",
    "***extrct_fnct***  ==  extract a single ***\"df_dtv_ubn_snb\"*** from the ***df_dtv_all_ubn***\n",
    "***extrct_df_wrk_ubn*** == use the ***extrct_fnct*** to extract ***df_wrk_ubns*** one by one to bld ***df_wrk_ubn**\n",
    "***updt_funct***   == transfer the updates  from the ***df_wrk_ubn*** to the ***xl_dtv_all_ubn.csv*** "
   ]
  },
  {
   "cell_type": "markdown",
   "id": "e6022b09-5e4a-40e9-83a9-fc934490ebea",
   "metadata": {
    "tags": []
   },
   "source": [
    "### def imprt_csv): assumes in repo : \n",
    "1. filename = ada_dict.csv\n",
    "2. reads csi file(file name)\n",
    "2. creates df of the array using the file name ; it also creates a of the col heads in filename_heads"
   ]
  },
  {
   "cell_type": "markdown",
   "id": "8480a794-48ef-4c84-ad69-99ff8c9e114f",
   "metadata": {
    "tags": []
   },
   "source": [
    "\n",
    "############################################################################\n",
    "def df_repo_csv(filename):            # filename is str\n",
    "    hds= pd.DataFrame(df.columns)\n",
    "    return \n",
    "###############################\n",
    "    df_nm\n",
    "#df,hds =   "
   ]
  },
  {
   "cell_type": "code",
   "execution_count": 1,
   "id": "46a6ecf4-51a8-48f5-9ee8-1449cf008f56",
   "metadata": {},
   "outputs": [
    {
     "data": {
      "text/plain": [
       "'df_nm.csv'"
      ]
     },
     "execution_count": 1,
     "metadata": {},
     "output_type": "execute_result"
    },
    {
     "name": "stdout",
     "output_type": "stream",
     "text": [
      "The history saving thread hit an unexpected error (OperationalError('attempt to write a readonly database')).History will not be written to the database.\n"
     ]
    }
   ],
   "source": [
    "import os\n",
    "\n",
    "filename = \"df_nm\"\n",
    "# file_path = os.path.join(\"JL_1\", filename + \".csv\")\n",
    "file_path = os.path.join(filename + \".csv\")\n",
    "\n",
    "file_path\n"
   ]
  },
  {
   "cell_type": "code",
   "execution_count": 2,
   "id": "40ac891e-021f-4073-a092-cd4a8582cec7",
   "metadata": {},
   "outputs": [
    {
     "ename": "NameError",
     "evalue": "name 'pd' is not defined",
     "output_type": "error",
     "traceback": [
      "\u001b[31m---------------------------------------------------------------------------\u001b[39m",
      "\u001b[31mNameError\u001b[39m                                 Traceback (most recent call last)",
      "\u001b[36mCell\u001b[39m\u001b[36m \u001b[39m\u001b[32mIn[2]\u001b[39m\u001b[32m, line 1\u001b[39m\n\u001b[32m----> \u001b[39m\u001b[32m1\u001b[39m df = pd.read_csv(file_path)\n\u001b[32m      3\u001b[39m df\n",
      "\u001b[31mNameError\u001b[39m: name 'pd' is not defined"
     ]
    }
   ],
   "source": [
    "\n",
    "df = pd.read_csv(file_path)\n",
    "\n",
    "df"
   ]
  },
  {
   "cell_type": "code",
   "execution_count": 3,
   "id": "08b6a0ee-6d0c-4b57-ae55-e7618e8e9004",
   "metadata": {},
   "outputs": [
    {
     "ename": "NameError",
     "evalue": "name 'pd' is not defined",
     "output_type": "error",
     "traceback": [
      "\u001b[31m---------------------------------------------------------------------------\u001b[39m",
      "\u001b[31mNameError\u001b[39m                                 Traceback (most recent call last)",
      "\u001b[36mCell\u001b[39m\u001b[36m \u001b[39m\u001b[32mIn[3]\u001b[39m\u001b[32m, line 1\u001b[39m\n\u001b[32m----> \u001b[39m\u001b[32m1\u001b[39m df = pd.read_csv(\u001b[33m\"\u001b[39m\u001b[33mdf_nm.csv\u001b[39m\u001b[33m\"\u001b[39m)\n\u001b[32m      3\u001b[39m df\n",
      "\u001b[31mNameError\u001b[39m: name 'pd' is not defined"
     ]
    }
   ],
   "source": [
    "df = pd.read_csv(\"df_nm.csv\")\n",
    "\n",
    "df"
   ]
  },
  {
   "cell_type": "code",
   "execution_count": 4,
   "id": "5da3a79d-0f0b-41b8-8179-a7e67f9913c8",
   "metadata": {
    "scrolled": true
   },
   "outputs": [
    {
     "ename": "NameError",
     "evalue": "name 'pd' is not defined",
     "output_type": "error",
     "traceback": [
      "\u001b[31m---------------------------------------------------------------------------\u001b[39m",
      "\u001b[31mNameError\u001b[39m                                 Traceback (most recent call last)",
      "\u001b[36mCell\u001b[39m\u001b[36m \u001b[39m\u001b[32mIn[4]\u001b[39m\u001b[32m, line 1\u001b[39m\n\u001b[32m----> \u001b[39m\u001b[32m1\u001b[39m df = pd.read_csv(\u001b[33m\"\u001b[39m\u001b[33m/home/bhuns/JL_1/df_nm.csv\u001b[39m\u001b[33m\"\u001b[39m)\n\u001b[32m      3\u001b[39m df\n",
      "\u001b[31mNameError\u001b[39m: name 'pd' is not defined"
     ]
    }
   ],
   "source": [
    "\n",
    "df = pd.read_csv(\"/home/bhuns/JL_1/df_nm.csv\")\n",
    "\n",
    "df"
   ]
  },
  {
   "cell_type": "code",
   "execution_count": 5,
   "id": "0e0d3c4d-458f-40f3-8927-52afc5705c8d",
   "metadata": {},
   "outputs": [
    {
     "name": "stdout",
     "output_type": "stream",
     "text": [
      "Current working directory: /home/bhuns/JL_1\n"
     ]
    }
   ],
   "source": [
    "print(\"Current working directory:\", os.getcwd())\n"
   ]
  },
  {
   "cell_type": "code",
   "execution_count": 7,
   "id": "babe3da8-46fe-4c06-b992-07a1f471b488",
   "metadata": {},
   "outputs": [
    {
     "name": "stdout",
     "output_type": "stream",
     "text": [
      "/home/bhuns/JL_1/JL_1/df_nm.csv\n"
     ]
    }
   ],
   "source": [
    "import os\n",
    "\n",
    "filename = \"df_nm.csv\"\n",
    "folder = \"JL_1\"\n",
    "path = os.path.join(os.getcwd(), folder, filename)\n",
    "\n",
    "print(path)  # Confirm full path\n"
   ]
  },
  {
   "cell_type": "code",
   "execution_count": 8,
   "id": "a6ba84ca-91b8-4cb8-aec7-b835c8a6dc11",
   "metadata": {},
   "outputs": [
    {
     "name": "stdout",
     "output_type": "stream",
     "text": [
      "/home/bhuns/JL_1\n"
     ]
    },
    {
     "ename": "FileNotFoundError",
     "evalue": "[Errno 2] No such file or directory: 'JL_1'",
     "output_type": "error",
     "traceback": [
      "\u001b[31m---------------------------------------------------------------------------\u001b[39m",
      "\u001b[31mFileNotFoundError\u001b[39m                         Traceback (most recent call last)",
      "\u001b[36mCell\u001b[39m\u001b[36m \u001b[39m\u001b[32mIn[8]\u001b[39m\u001b[32m, line 4\u001b[39m\n\u001b[32m      1\u001b[39m \u001b[38;5;28;01mimport\u001b[39;00m\u001b[38;5;250m \u001b[39m\u001b[34;01mos\u001b[39;00m\n\u001b[32m      3\u001b[39m \u001b[38;5;28mprint\u001b[39m(os.getcwd())  \u001b[38;5;66;03m# Shows your current working directory\u001b[39;00m\n\u001b[32m----> \u001b[39m\u001b[32m4\u001b[39m \u001b[38;5;28mprint\u001b[39m(os.listdir(\u001b[33m\"\u001b[39m\u001b[33mJL_1\u001b[39m\u001b[33m\"\u001b[39m))\n",
      "\u001b[31mFileNotFoundError\u001b[39m: [Errno 2] No such file or directory: 'JL_1'"
     ]
    }
   ],
   "source": [
    "import os\n",
    "\n",
    "print(os.getcwd())  # Shows your current working directory\n",
    "print(os.listdir(\"JL_1\"))  # Lists files in the JL_1 subfolder\n"
   ]
  },
  {
   "cell_type": "code",
   "execution_count": null,
   "id": "0276002a-d694-4225-bf90-ed029accb5f8",
   "metadata": {},
   "outputs": [],
   "source": [
    "filename = pd.read_csv(file_path)\n",
    "filename = pd.DataFrame(df.columns)\n",
    "file_hds\n"
   ]
  },
  {
   "cell_type": "code",
   "execution_count": null,
   "id": "2d64ab8d-90e6-4b67-a81b-f99997f2ea26",
   "metadata": {
    "scrolled": true
   },
   "outputs": [],
   "source": [
    "   # Load the CSV file to use df(file_path)  to get clmn_nn [nickname]\n",
    "file_path = \"mrn_mstr_8_04.csv\"    # name of the mrn_mstr file\n",
    "############################################################################\n",
    "df = pd.read_csv(file_path)\n",
    "clmn_nn= pd.DataFrame(df.columns)\n",
    "file_hds"
   ]
  },
  {
   "cell_type": "markdown",
   "id": "4c0d5397-5d69-4ad2-b8ab-491944f05b51",
   "metadata": {
    "jp-MarkdownHeadingCollapsed": true
   },
   "source": [
    "### Step 2 Read filename.csv and get col names"
   ]
  },
  {
   "cell_type": "markdown",
   "id": "05c87c02-f382-4d2a-b6d0-8d5ab1d00d72",
   "metadata": {
    "jp-MarkdownHeadingCollapsed": true
   },
   "source": [
    "### Reading the file from .csv"
   ]
  },
  {
   "cell_type": "code",
   "execution_count": null,
   "id": "eb227281-5788-4690-a1af-d0b1b0002ef5",
   "metadata": {
    "scrolled": true
   },
   "outputs": [],
   "source": [
    "##########################  import os ???  ############################################\n",
    "print(\"repo = \",os.getcwd())\n",
    "\n",
    "def csv_df(file_path):\n",
    "    df = pd.read_csv(file_path)\n",
    "    clmn_nn= pd.DataFrame(df.columns)\n",
    "    return df"
   ]
  },
  {
   "cell_type": "code",
   "execution_count": null,
   "id": "5940bd76-fa4d-47cf-a20d-0afcfbac09fb",
   "metadata": {
    "scrolled": true
   },
   "outputs": [],
   "source": [
    "file = \"df_nm\"\n",
    "file_path = file + \".csv\"    # name of the mrn_mstr file\n",
    "df = csv_df(file_path)\n",
    "df_nm = df\n",
    "file_hds = df.columns\n",
    "file_hds\n",
    "print(file_hds)\n",
    "df_nm"
   ]
  },
  {
   "cell_type": "markdown",
   "id": "12487800-ec72-4503-aec3-e0cc4bcc2fbb",
   "metadata": {},
   "source": [
    "### Proving file is read into df"
   ]
  },
  {
   "cell_type": "code",
   "execution_count": null,
   "id": "a2b3ecb4-f427-470b-b50b-311678e154b0",
   "metadata": {
    "editable": true,
    "slideshow": {
     "slide_type": ""
    },
    "tags": []
   },
   "outputs": [],
   "source": [
    "# get the names of the first 30 cols\n",
    "clmn_nn.iloc[:30]"
   ]
  },
  {
   "cell_type": "code",
   "execution_count": null,
   "id": "3e313549-7880-4e8d-94bf-a474b01c3cf8",
   "metadata": {},
   "outputs": [],
   "source": [
    "# Get the name of the 24th column\n",
    "nn = clmn_nn.iloc[24]\n",
    "nn"
   ]
  },
  {
   "cell_type": "code",
   "execution_count": null,
   "id": "3f4b3012-9f09-47f5-b01c-0d7895edecd1",
   "metadata": {},
   "outputs": [],
   "source": [
    "# show a col with index col 24 of df [the array from the file made into a data frame]\n",
    "df.iloc[:,24]                 # col 24 of df"
   ]
  },
  {
   "cell_type": "code",
   "execution_count": null,
   "id": "089ecf69-87ac-490a-833c-d949950d30ad",
   "metadata": {},
   "outputs": [],
   "source": [
    "# Show creating a variable from cols example DATE_V\n",
    "DATE_V = df.loc[:,\"DATE_V\"]\n",
    "DATE_V"
   ]
  },
  {
   "cell_type": "code",
   "execution_count": null,
   "id": "295213ae-8faf-4bf4-b9c0-510b1fd288b8",
   "metadata": {
    "scrolled": true
   },
   "outputs": [],
   "source": [
    "# Create a list if the index of a df\n",
    "df_ind = df.index\n",
    "df_ind[10]"
   ]
  },
  {
   "cell_type": "markdown",
   "id": "47516dc1-d403-4403-b34e-7a4a7204b930",
   "metadata": {
    "jp-MarkdownHeadingCollapsed": true
   },
   "source": [
    "##trial Function to Find Index by Column and String\n",
    "\n",
    "***df_ind (shld be df_ndx)***"
   ]
  },
  {
   "cell_type": "markdown",
   "id": "ce8a1616-5be6-4a88-ad43-b059de340153",
   "metadata": {},
   "source": [
    "#### copilot pattern = df_ind  Function to Find Index by Column and String"
   ]
  },
  {
   "cell_type": "markdown",
   "id": "8fe61746-16f2-4f9d-971c-49a20969f26b",
   "metadata": {},
   "source": [
    "##### Also look at query to find matches"
   ]
  },
  {
   "cell_type": "raw",
   "id": "f9a660a7-965a-4d9e-b80f-0829faa9fd2e",
   "metadata": {},
   "source": [
    "#### copilot pattern = def >> df_ind  Function to Find Index by Column and String\n",
    "def find_index_by_value(df, col_name, target_str):\n",
    "    if col_name not in df.columns:\n",
    "        raise ValueError(f\"Column '{col_name}' not found in DataFrame.\")\n",
    "    \n",
    "    matches = df[df[col_name] == target_str]\n",
    "    \n",
    "    if matches.empty:\n",
    "        print(f\"❌ No match found for '{target_str}' in column '{col_name}'.\")\n",
    "        return None\n",
    "    \n",
    "    return matches.index.tolist()\n"
   ]
  },
  {
   "cell_type": "raw",
   "id": "263c88a4-43a7-4e7b-ae0c-434f91c02446",
   "metadata": {},
   "source": [
    "### call df_ind function\n",
    "# Sample DataFrame\n",
    "import pandas as pd\n",
    "\n",
    "df_nms = pd.DataFrame({\n",
    "    \"DATE_V\": [\"2025-08-01\", \"2025-08-02\", \"2025-08-03\"],\n",
    "    \"dn\": [\"alpha\", \"beta\", \"gamma\"],\n",
    "    \"nn\": [\"x1\", \"x2\", \"x3\"],\n",
    "    \"pn\": [\"p1\", \"p2\", \"p3\"]\n",
    "}, index=[101, 102, 103])\n",
    "\n",
    "# Find index where 'dn' == 'beta'\n",
    "idx = find_index_by_value(df_nms, \"dn\", \"beta\")\n",
    "print(\"✅ Matching index:\", idx)\n"
   ]
  },
  {
   "cell_type": "raw",
   "id": "b34fdde5-97b1-4c8c-81e3-4f5ca1b48f65",
   "metadata": {},
   "source": [
    "### call df_ind function \n",
    "# Sample DataFrame\n",
    "import pandas as pd\n",
    "\n",
    "df_nms = pd.DataFrame({\n",
    "    \"DATE_V\": [\"2025-08-01\", \"2025-08-02\", \"2025-08-03\"],\n",
    "    \"dn\": [\"alpha\", \"beta\", \"gamma\"],\n",
    "    \"nn\": [\"x1\", \"x2\", \"x3\"],\n",
    "    \"pn\": [\"p1\", \"p2\", \"p3\"]\n",
    "}, index=[101, 102, 103])\n",
    "\n",
    "# Find index where 'dn' == 'beta'\n",
    "\n",
    "#idx = find_index_by_value(df_nms, \"dn\", \"beta\")\n",
    "\n",
    "print(\"✅ Matching index:\", idx)\n"
   ]
  },
  {
   "cell_type": "markdown",
   "id": "8639a70f-05aa-4718-93a7-c2c4f15fa43f",
   "metadata": {},
   "source": [
    "### applied version = df_ind  Function to Find Index by Column and String"
   ]
  },
  {
   "cell_type": "code",
   "execution_count": null,
   "id": "1952348a-bff4-4227-adcb-32ba2aac1a97",
   "metadata": {},
   "outputs": [],
   "source": [
    "#### applied version >> call find_index_by_value(df, col_name, target_str)\n",
    "def find_index_by_value(df, col_name, target_str):\n",
    "    if col_name not in df.columns:\n",
    "        raise ValueError(f\"Column '{col_name}' not found in DataFrame.\")\n",
    "    \n",
    "    matches = df[df[col_name] == target_str]\n",
    "    \n",
    "    if matches.empty:\n",
    "        print(f\"❌ No match found for '{target_str}' in column '{col_name}'.\")\n",
    "        return None\n",
    "    \n",
    "    return matches.index.tolist()\n"
   ]
  },
  {
   "cell_type": "markdown",
   "id": "b7c01a80-467c-4ab4-967a-269e329ded99",
   "metadata": {},
   "source": [
    "#### call  >>  find_index_by_value(df, col_name, target_str): "
   ]
  },
  {
   "cell_type": "code",
   "execution_count": null,
   "id": "288420cb-4185-4447-aeae-53b27aa7f05a",
   "metadata": {},
   "outputs": [],
   "source": [
    "#### call >> find_index_by_value(df, col_name, target_str) >> use assignment list to avoid confusion\n",
    "df = df_nms                      \n",
    "col_name = \"dn\"\n",
    "target_str = \"beta\"\n",
    "# Find index where 'dn' == 'beta'\n",
    "idx = find_index_by_value(df, col_name, target_str)\n",
    "print(\"✅ Matching index:\", idx)\n"
   ]
  },
  {
   "cell_type": "markdown",
   "id": "26d77822-dd23-4faa-8cf7-7c7ce64d87a9",
   "metadata": {},
   "source": [
    "# next"
   ]
  },
  {
   "cell_type": "code",
   "execution_count": null,
   "id": "5ba8350c-44e9-4327-b00e-2cb15805c8d3",
   "metadata": {},
   "outputs": [],
   "source": [
    "## find a name for a dictionary"
   ]
  },
  {
   "cell_type": "markdown",
   "id": "65c6b450-9849-4cdf-872c-ee2f983af409",
   "metadata": {},
   "source": [
    "### Find ***ubn = df_snb_ubn.iloc[snb]       by entering df_snb_ubn                            ******  **indexed on snb**          "
   ]
  },
  {
   "cell_type": "markdown",
   "id": "dac5ff2b-171d-46f0-89e8-a1925d024822",
   "metadata": {},
   "source": [
    "1. Read the real name from the serial nmber ***df_snb_ubn from xl_snb_ubn***                                    *row is snb & col is ubn*"
   ]
  },
  {
   "cell_type": "code",
   "execution_count": null,
   "id": "559aed19-1c94-402c-81a7-298f5bbc6ef5",
   "metadata": {},
   "outputs": [],
   "source": [
    "2. "
   ]
  },
  {
   "cell_type": "code",
   "execution_count": null,
   "id": "3d0109f8-8686-490c-8b26-f3772fedae4b",
   "metadata": {},
   "outputs": [],
   "source": []
  }
 ],
 "metadata": {
  "kernelspec": {
   "display_name": "Python (scu)",
   "language": "python",
   "name": "scu"
  },
  "language_info": {
   "codemirror_mode": {
    "name": "ipython",
    "version": 3
   },
   "file_extension": ".py",
   "mimetype": "text/x-python",
   "name": "python",
   "nbconvert_exporter": "python",
   "pygments_lexer": "ipython3",
   "version": "3.11.13"
  }
 },
 "nbformat": 4,
 "nbformat_minor": 5
}
