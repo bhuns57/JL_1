{
 "cells": [
  {
   "cell_type": "markdown",
   "id": "b044a044-7e24-45cc-a8ca-b7a6af9aa894",
   "metadata": {},
   "source": [
    "***Load imports of extensions***"
   ]
  },
  {
   "cell_type": "code",
   "execution_count": 21,
   "id": "496c354d-ed67-4d43-b788-2df75f14c541",
   "metadata": {
    "scrolled": true
   },
   "outputs": [],
   "source": [
    "# Load imports of extensions\n",
    "import pandas as pd\n",
    "from datetime import timedelta\n",
    "import os\n",
    "import numpy as np\n",
    "import inspect\n",
    "\n",
    "# <br><br> to skip 2 lines"
   ]
  },
  {
   "cell_type": "markdown",
   "id": "3d171562-15da-4eb8-8a58-2794fe392d05",
   "metadata": {
    "jp-MarkdownHeadingCollapsed": true
   },
   "source": [
    "# 1.1 Data Storage Sys using .csv in XL Discription"
   ]
  },
  {
   "cell_type": "markdown",
   "id": "81766dec-6a06-4a72-bbe1-34b97d615f4f",
   "metadata": {
    "jp-MarkdownHeadingCollapsed": true
   },
   "source": [
    "## 2.1 Nomentclature with Descriptions"
   ]
  },
  {
   "cell_type": "markdown",
   "id": "45afbb49-f07a-4117-a644-cd3d99168533",
   "metadata": {
    "jp-MarkdownHeadingCollapsed": true
   },
   "source": [
    "### 3.1 DATE_V +"
   ]
  },
  {
   "cell_type": "markdown",
   "id": "248f5920-1499-4b45-9f09-0133789e82f6",
   "metadata": {},
   "source": [
    "1. ***\"df_dtv_snb\"*** is the list for all dates over the entire ***dvt*** range for a single r ***snb***.\n",
    "8. The *dataframe* that holds all of the ***snb***s is ***\"df_dtv_all_snb\"***\n",
    "9. All data is stored ***.csv files*** in excell and the filename is prefixed with **xl_** for e***x***ce***l*** = is ***\"xl_dtv_all_snb.csv\"***\n",
    "6. A ***\"df_dtv_snb\"*** can be extracted from ***\"df_dtv_all_snb\"*** using the ***\"extrct_fnct\"***"
   ]
  },
  {
   "cell_type": "markdown",
   "id": "af53190d-285f-4332-a33a-b34aac95a155",
   "metadata": {
    "jp-MarkdownHeadingCollapsed": true
   },
   "source": [
    "### 3.2 Defining ***data storage in .csv*** and  ***Nomenclature*** "
   ]
  },
  {
   "cell_type": "markdown",
   "id": "546b7fdd-0177-4c5b-a307-9b8549b43ac5",
   "metadata": {},
   "source": [
    "1. Defining ***data storage in .csv***\n",
    "2. ***dtv*** is the ***d***a***t***e ***v***alue of the data entry; it is an integer count of the number of days since 1/1/1900. Last ***dtv*** is ***today*** and it is kept  current at ***startup*** with the ***imports***.\n",
    "3. ***dtv*** is stored and kept current in ***df_dtv***  &  ***xl_dtv.csv*** \n",
    "2. ***ubn*** is the ***u***nique ***b***asic ***n***ame for the **data col proberties list** class of data cols.\n",
    "3. ***ubn*** has attirbutes like name & length and methods like making \n",
    "4. attribute1: ***a daily data log array**\n",
    "5. Each data col is given a serial number ***snb***\n",
    "6. Each ***snb*** is a member of the ubn(snb) class.\n",
    "7. ***snb*** becomes the data **col name**.\n",
    "8. ***ubn*** acts very much like a specialized class()\n",
    "9.  **snb*** being an object that belongs to that class()\n",
    "13. The whole array of all data cols are stored in the ***df_dtv_all_snb*** and stored in the ***xl_dtv_all_snb.csv*** file.\n",
    "14. The ***ubn***   **name** is stored along with the ***snc*** in the ***df_snb_md**  [***xl_snb_md.csv***] along with the ***list name*** of ***sng***s that use this  ***snb***."
   ]
  },
  {
   "cell_type": "markdown",
   "id": "6a9efe9f-be7c-4191-805c-7fa6b382230a",
   "metadata": {
    "jp-MarkdownHeadingCollapsed": true
   },
   "source": [
    "### 3.3 Serial numbers for ubn, cvs, grp"
   ]
  },
  {
   "cell_type": "markdown",
   "id": "ff678bbe-2090-4a8b-907b-a04741926dc3",
   "metadata": {},
   "source": [
    "1. ***ubn*** is the ***u***nifying ***b***asicdatacol ***n***ame that stands for class of data col vs dtv where the serial number  ***snb*** is the name for an single individual data col.\n",
    "2.  ***_snb*** is a serial number ***snb*** relates 1 for 1 to the ***ubn*** .(it has the form of (***b000***)\n",
    "6.  It is stored in the index col1 of a ***df_snb_md*** [***md*** stands for ***m***edia***d***ata]. This df contains more cols that include other media data unique to ***snb*** \n",
    "3. ***_snc*** is a serial number that stands for a **class name** (it has the form of a **c000** )\n",
    "4. ***ubn = df_snb_md.loc[\"snb\",\"1\"]***\n",
    "5. ***cls_nm=df_snb_md.loc[\"snc\",\"2\"]***\n",
    "6. ***_sng*** is a serial number for an  individual ***grp_nm*** (it has the form of a **g000** )\n",
    "7. ***grp_nm = df_snb_md.loc[\"sng\",\"3\"]**\n",
    "8.  The serial numbers are created at the time the ***snb*** is first entered into the system as part ***init_snb*** process*."
   ]
  },
  {
   "cell_type": "markdown",
   "id": "46bd84a0-2b91-401c-80ed-9990f33f8db3",
   "metadata": {
    "jp-MarkdownHeadingCollapsed": true
   },
   "source": [
    "### 3.6 The ***\"df_dtf_wrk_snb\"*** is a Temporary Dataframe for a Process"
   ]
  },
  {
   "cell_type": "markdown",
   "id": "be0c09c1-65c3-4088-9a77-871a6166cd73",
   "metadata": {},
   "source": [
    "1. This **df** is called ****df_dtf_wrk_snb***  ..... *# it is a temporary df in that is used for a single process and then abandoned when processing is completed*\n",
    "11.  The ***\"df_dtf_wrk_snb\"*** is a ***df*** consisting f a ***\"dtv\"*** index and the first ***snb*** in the ***snb_grp_lst*** \n",
    "12. Then it goes through the list and appends that ***snb*** data col"
   ]
  },
  {
   "cell_type": "markdown",
   "id": "77ddbae8-f889-4cd6-96c0-0e6b686a7f16",
   "metadata": {},
   "source": [
    "### 3.7 Creating and using grps"
   ]
  },
  {
   "cell_type": "markdown",
   "id": "fd96d5db-bdd5-48d3-8c28-007524558e4f",
   "metadata": {
    "jp-MarkdownHeadingCollapsed": true
   },
   "source": [
    "#### 4.1 Creating groups"
   ]
  },
  {
   "cell_type": "markdown",
   "id": "af3549d6-10b6-4317-bd12-2f803b91026a",
   "metadata": {
    "jp-MarkdownHeadingCollapsed": true
   },
   "source": [
    " ________________ Creating and using grps __________________________________________\n",
    "1. Every ***data_col*** is a *list of data* with a name (***ubn***) and a serial number(***snb***). For simplicity and uniqueness ***ubn*** s are tracked with ***snb***s.\n",
    "2. Much of the *data entry* and *processing* involve only a group of a few ***snb***\n",
    "3. There are many processes and groups and they are tracked by serial numbers ***sng***s.\n",
    "4. A df named ***df_full_sng_snb'*** records which ***snb*** will be include in each ***sng***(serial number group)\n",
    "1. Since ***snb*** can be found in more than one group, we need create an array with all ***sng***s as **row**s and all ***snb***s as **col**s.\n",
    "14. The dataframe made from this array is ***df_full_sng_snb'***\n",
    "15. When created the ***df_full_sng_snb'***, has all values of **NAN** and then any array_item that is in the ***snb*** column and in the ***sng*** row with a **true**\n",
    "1. The grp adjustments are only required when ***data type or process*** changes\n",
    "1. To place an ***snb*** into a ***sng*** , individually set ***df_grp_sng.loc***[***\"sng\"***,***\"snb\"***] = **true**(or False to remove it)\n"
   ]
  },
  {
   "cell_type": "markdown",
   "id": "15349257-77d7-45a5-a72c-fe5a595f1b60",
   "metadata": {
    "jp-MarkdownHeadingCollapsed": true
   },
   "source": [
    "#### 4.2 Using grps"
   ]
  },
  {
   "cell_type": "markdown",
   "id": "24ff7067-453c-403c-b08c-898183ad3d6e",
   "metadata": {},
   "source": [
    "1.  Each time a process is initiated, it needs to build a ***df*** to hold all the required ***snb*** cols of data.\n",
    "11. That required group of ***snb*** data cols needed for the task is read from***df_full_sng_snb'***. ....    *# array with all sng and snb combinationss*\n",
    "12. ***sng_grp_lst*** = ***sng_grp_lst_mkr(sng):*** ,,,,, *# this is a functon decribed on next line*\n",
    "1. def ***sng_grp_lst_mkr(sng)*** ;loop ***df_all_grp_snb[sng,:]*** [go to row ***sng***] then loop through all ***snb*** and amend  ***snb*** if the array iten is marked **true** for this ***sng*** row then return ***snb_grp_lst*** for that ***sng***."
   ]
  },
  {
   "cell_type": "markdown",
   "id": "c53809c2-c118-4e04-b9ce-b9bed380104d",
   "metadata": {
    "jp-MarkdownHeadingCollapsed": true
   },
   "source": [
    "### 3.9 Abbreviations"
   ]
  },
  {
   "cell_type": "markdown",
   "id": "33138738-8c1b-4451-9416-f1aa9ce24cdc",
   "metadata": {},
   "source": [
    "***ubn***  ==    unifying basicdatacol name for single data type[1 data type col].\n",
    "\n",
    "***cls***    == a list of ***attrbts***, ***mthds*** and  that are part of a common process.\n",
    "\n",
    "***grp***    == a list of ***ubn*** that are part of a common process.\n",
    "\n",
    "***snc***  ==    unique serial number assgned to every ***cls***\n",
    "\n",
    "***dtv***   ==   DATE_V _____ the index col in all log dataframes.\n",
    "\n",
    "***df_snb_ubn*** == lookup table for name from serial number ***snb***\n",
    "\n",
    "***\"dtv_snb\"***  ==  A dataframe for a single data col with snb as the coluumn head\n",
    "\n",
    "***dtv_all_snb***     ==  A dataframe for all_types_data cols with snb as the coluumn head\n",
    "\n",
    "***df_wrk_ubn*** ==  Group of ***df_dtv_ubn*** extracted to use in processing _____\n",
    "\n",
    "***Serial numbers----------------------------------------------------------***\n",
    "\n",
    "***\"sng\"***  == the serial number of a group that holds the list of  ***snb's*** chosen for this process *[unique serial number assgned to every ***grp***]* but *[1 ***snb*** *can be  in many groups]*\n",
    "\n",
    "***_snb***   ==    unifying basicdatacol name serial number that is assigned when a new ***ubn*** is assind\n",
    "\n",
    "***_snc***   ==  is the serial number of a given class. The snc will be applied to many ***bnr*** but is unique for each class name and is calculated on the basis of parenting level: grandfather 1 and grand child is 5. Each ***ubn*** will be assigned an appropriate snc when is initiated.\n"
   ]
  },
  {
   "cell_type": "markdown",
   "id": "243e3c4a-179e-45be-9ae8-88bf18620d7a",
   "metadata": {
    "jp-MarkdownHeadingCollapsed": true
   },
   "source": [
    "## 2.2 Asset List"
   ]
  },
  {
   "cell_type": "markdown",
   "id": "a2319158-bc28-4db1-b4f5-7944b976d327",
   "metadata": {},
   "source": [
    "***Utilities --------------------------***\n",
    "\n",
    "***df_dtv***  ==   **df of only a complete up to date dtv**\n",
    "\n",
    "***df_files***   ==   **df of list of all .csv files**\n",
    "\n",
    "***xl_files.csv***   ==   **file of list of all .csv files**\n",
    "\n",
    "***init loading of structure ------------------***\n",
    "\n",
    "***df_snb*** == **df with ***snb*** indexed and cols for ***snc***, ***sng*** & other media.\n",
    "\n",
    "***df_dtv***  ==   **df of only a complete up to date dtv**\n",
    "\n",
    "***xl_dtv.csv***  ==   **file of only a complete up to date dtv**\n",
    "\n",
    "***df_snb***  ==  given   ***snb*** lookup ***snb***__ *index is ***snb***,_  ***snc***,_ ***sng*** __[col0 ***snb***,_col1  and _col2 ***snc*** and  _col3 ***sng***  *_[group list [1 snr may be in mltpl sng]*\n",
    "\n",
    "***ubn[snb]*** = *df_snb_md.iloc*[\"***snb\"***,\"***ubn***\"]  [find name from serial number]\n",
    "\n",
    "***xl_df_snb.csv***  ==  given   ***snb*** lookup ***ubn***__ * ubn*,_  ***snc***,_ ***sng*** __[col0 ***snb***,_col1  and _col2 ***snc*** and  _col3 ***sng***  *_[group list [1 snr may be in mltpl sng]*\n",
    "***Use*** == find the name ***ubn*** from ***snb***\n",
    "\n",
    "***xl_ubn_cls.csv*** ==   **file of lookup \"cls\"[name] for a \"snb\" : cols \"snb\" [index] & col2 \"snc\"**\n",
    "***df_dtv_snb***   ==   **df of single data col \"snb\"**\n",
    "***xl_dtv_snb***   ==   **xl of single data col \"snb\"**\n",
    "\n",
    "***xl_dtv_all_snbn.csv*** \n",
    "\n",
    "\n",
    "\n",
    "***xl_all_grp_snbn.csv***._____"
   ]
  },
  {
   "cell_type": "markdown",
   "id": "8aa82d28-0f8a-4df8-961f-5e21d681c2e3",
   "metadata": {},
   "source": [
    "## 2.4 Processes ***unpeoven move to functuion when proven"
   ]
  },
  {
   "cell_type": "markdown",
   "id": "7a0b2345-a94f-479c-908e-69308d8e0e5c",
   "metadata": {},
   "source": [
    "### 3.1 Step by Step Process to perform processing on one or more data lists"
   ]
  },
  {
   "cell_type": "markdown",
   "id": "c27dbd6a-6aa0-4a7c-b3f1-c43f714ce743",
   "metadata": {
    "jp-MarkdownHeadingCollapsed": true
   },
   "source": [
    "### 3.2 Load data from an ***xl_dtv_ubn_all.csv*** file to a ***df_dtv_ubn_all*** dataframe in python worksheet"
   ]
  },
  {
   "cell_type": "markdown",
   "id": "430b24c8-aa24-4fe9-b8fe-4b1a2087216c",
   "metadata": {
    "jp-MarkdownHeadingCollapsed": true
   },
   "source": [
    "1. load arrays from xl to dfs in a workbook"
   ]
  },
  {
   "cell_type": "markdown",
   "id": "7943d8b5-8916-4b20-a937-3840e2163c6e",
   "metadata": {
    "jp-MarkdownHeadingCollapsed": true
   },
   "source": [
    "### 3.3Extract a ***df_wrk_ubn*** datframe fro specific cols from ***df_dtv_all_ubn***"
   ]
  },
  {
   "cell_type": "markdown",
   "id": "bf1c8481-5cb8-4a22-a246-057dae5f67af",
   "metadata": {},
   "source": [
    "1. create new **df_wrk_ubn*** with ***dtv***.\n",
    "2. for ***snb*** in ***grp_gn***.\n",
    "3. use the ***extrct_fnct*** to copy ***\"dtv_ubn_snb\"*** from ***dtv_all_ubn*** and\n",
    "4. amend it to ***df_wrk_ubn***"
   ]
  },
  {
   "cell_type": "markdown",
   "id": "bc414484-35c2-4cbb-ab2e-ac1b42bad6ea",
   "metadata": {},
   "source": [
    "### 3.4 Make a list of planned columneupdates to ***df_wrk_ubn*** with any process"
   ]
  },
  {
   "cell_type": "markdown",
   "id": "69c2c5d5-e215-4a8d-8481-5ad523e4d72e",
   "metadata": {
    "jp-MarkdownHeadingCollapsed": true
   },
   "source": [
    "### 3.5 select a ***grp_gn*** that contains of the ***dtv_ubn*** that you need to update ***grp_gn*** make Modifications to ***df_wrk_ubn***"
   ]
  },
  {
   "cell_type": "markdown",
   "id": "5ed59ada-2452-4799-87b7-899107a78c88",
   "metadata": {},
   "source": [
    "15. To start a process build the  LOOP-----------------------\n",
    "15. A list of ***grp_gn*** that will be specified in cycle ***grp_gn*** loop.\n",
    "16. Then start the loop specifying each of the "
   ]
  },
  {
   "cell_type": "markdown",
   "id": "0bac3253-a889-49cd-b161-d272736ac06a",
   "metadata": {
    "jp-MarkdownHeadingCollapsed": true
   },
   "source": [
    "### 3.6 Update   ***df_dtv_all_ubn***  from ***df_wrk_ubn***"
   ]
  },
  {
   "cell_type": "markdown",
   "id": "ef951a70-3d4e-48d8-a1bc-b72cb2b1dfc5",
   "metadata": {},
   "source": [
    "15. After processing is completed on the ***df_wrk_ubn*** , the ***updt_funct*** is used to transfer the updates from the ***df_wrk_ubn*** to the ***df_dtv_all_ubn*** \n",
    "16. ------------------ LOOP END -------------------------------\n",
    "17. This extraction, processing, and updating is repeated for every group apecified."
   ]
  },
  {
   "cell_type": "markdown",
   "id": "d39585a1-069b-4c72-a211-d4dceed19e05",
   "metadata": {
    "jp-MarkdownHeadingCollapsed": true
   },
   "source": [
    "### 3.5 def Convert a df_colunn to a numby array with a name as & perform addition"
   ]
  },
  {
   "cell_type": "code",
   "execution_count": null,
   "id": "2b22ab39-7527-4fa5-a657-641a7fd1b40b",
   "metadata": {},
   "outputs": [],
   "source": [
    "# Example: convert a specific column to NumPy array when needed\n",
    "# when assigning a name to the array that is different from the col head name\n",
    "test_list1 = df_dtv_all_snb[\"b006\"].to_numpy()  # these are numpy arrays of one snb\n",
    "test_list2 = df_dtv_all_snb[\"b007\"].to_numpy()\n",
    "print(type(test_list2[0]))\n",
    "print(test_list2.shape)\n",
    "\n",
    "#test_list1 + test_list2 "
   ]
  },
  {
   "cell_type": "code",
   "execution_count": null,
   "id": "64d1b2a1-600a-4ace-ae6f-24771ae4db26",
   "metadata": {},
   "outputs": [],
   "source": [
    "# copilots version \n",
    "# Function Definition to extract a df col to np array\n",
    "def extract_column_as_array(df, col_name, globals_dict=None):\n",
    "    \"\"\"\n",
    "    Extracts a column from a DataFrame and assigns it as a NumPy array\n",
    "    to a variable named after the column header.\n",
    "\n",
    "    Parameters:\n",
    "    - df: pandas.DataFrame\n",
    "    - col_name: str, name of the column to extract\n",
    "    - globals_dict: dict, typically pass globals() to assign in global scope\n",
    "\n",
    "    Returns:\n",
    "    - np.ndarray of the column data\n",
    "    \"\"\"\n",
    "    arr = np.array(df[col_name].tolist())\n",
    "    if globals_dict is not None:\n",
    "        globals_dict[col_name] = arr\n",
    "    return arr\n"
   ]
  },
  {
   "cell_type": "code",
   "execution_count": null,
   "id": "d0d5cf19-30a3-479a-87ab-1a713683c049",
   "metadata": {
    "jupyter": {
     "source_hidden": true
    }
   },
   "outputs": [],
   "source": [
    "df_dtv_all_snb_hdr"
   ]
  },
  {
   "cell_type": "code",
   "execution_count": null,
   "id": "b0b236e0-3d4e-49d3-a385-13d642e71ad9",
   "metadata": {},
   "outputs": [],
   "source": [
    "# Function Definition\n",
    "df = df_dtv_all_snb_hdr  #version with names as hdrs\n",
    "col_name = \"ICW\"\n",
    "col_name = extract_column_as_array(df, col_name) # gives name of col head to array automatically\n",
    "#col_name        # note array name is the col_name"
   ]
  },
  {
   "cell_type": "markdown",
   "id": "4aa931be-8a5e-4b0b-bdea-1401b51433eb",
   "metadata": {
    "jp-MarkdownHeadingCollapsed": true
   },
   "source": [
    "#### 4.1 The snb use of classes"
   ]
  },
  {
   "cell_type": "markdown",
   "id": "40d96f92-82ce-4589-bdcb-d8a34006066b",
   "metadata": {
    "jp-MarkdownHeadingCollapsed": true
   },
   "source": [
    "1. Each ***snb*** will have 1 or more classes.\n",
    "2. Each individual class is given a serial number ***snc***\n",
    "3. The **cls_nm** will **attribute:1** of the ***snc***\n",
    "4. Each ***snc*** is shared by many ***snb***s\n",
    "5. Each ***snn*** is shared by many ***snc***s\n",
    "6. A **df** named ***\"df_snb_snc\"*** is used to specify the pairing.\n",
    "7. ***\"df_snb_snc\"*** is a **df** that has ***snb*** for rows and ***snc*** for cols.\n",
    "8. ***\"df_snb_snc\"*** will have all **items** set to NAN to start.\n",
    "9. **True** is inserted in ***items*** at a ***snb,snc*** intersection]\n",
    "10. Then every time an ***snb*** row has a **true** in it that indicates col head ***snc** is used by that ***bnc***\n",
    "11. ***snc.name*** is used to retrieve the ***snc name*** [1st attrbt of each ***snc***]\n",
    "12. ***df_snb,snc*** is stored in a file ***\"xl_snb,snc.csv\"***\n",
    "13. The class **c**lass **a**ttributes and **m**ethods (***cam***s)  are defined by a ***df_cam_smc*** and filed in ***xl_cam_smc.csv***\n",
    "14. The **c**lass **a**ttributes and **m**ethods (***cam***s) are stored in rows while ***snc*** are the column heads.\n",
    "15. To assugn a class to \n"
   ]
  },
  {
   "cell_type": "markdown",
   "id": "d7ef6601-c4a2-49cb-8c8b-a7eb7fa94691",
   "metadata": {},
   "source": [
    "# 1.2 def functions"
   ]
  },
  {
   "cell_type": "markdown",
   "id": "596f2eec-4fbc-42ef-98e6-b378462f6365",
   "metadata": {},
   "source": [
    "##  2.1 import/export to csv storage def functions and calls"
   ]
  },
  {
   "cell_type": "markdown",
   "id": "f575b509-bdbd-44b7-b438-8545620657af",
   "metadata": {},
   "source": [
    "### 3.1 xl to df   IMPORT FROM XL and build dc"
   ]
  },
  {
   "cell_type": "markdown",
   "id": "9a3fae39-72ed-40cd-9a48-4d2910ae1a35",
   "metadata": {},
   "source": [
    "#### 4.0 Inividual ***def functions***  *for each step in defining df_() by reading the* = -  ***csv file***"
   ]
  },
  {
   "cell_type": "markdown",
   "id": "2da7955e-62e2-4216-8d72-6b3194c7aefa",
   "metadata": {},
   "source": [
    "##### 5.1 ***def functions*** that *derive the required data objects* from an ***xl_file name***"
   ]
  },
  {
   "cell_type": "markdown",
   "id": "f3938b36-b778-4abb-ac28-c8b6f3976388",
   "metadata": {},
   "source": [
    "###### 6.1 *Returns the ***df*** *with both* ***col hds*** *and a* ***data array*** *for a specified* ***.csv file in xl***"
   ]
  },
  {
   "cell_type": "code",
   "execution_count": 22,
   "id": "02beb4c3-3e13-4a14-9687-1247d8a5363e",
   "metadata": {},
   "outputs": [],
   "source": [
    "# load_csv_to_df(filename,index_col=None)\n",
    "# 6.1 *Returns the df with both col hds and a data array for a specified .csv file in xl\n",
    "def load_csv_to_df(filename,index_col=None):           # Reads the filenamne[insures reading accuracy from msc .csv encoders]\n",
    "    # catch and correct coding error introduced by XL\n",
    "    try:\n",
    "        return pd.read_csv(filename, index_col=index_col)\n",
    "    except UnicodeDecodeError:\n",
    "        return pd.read_csv(filename, index_col=index_col, encoding='latin1')"
   ]
  },
  {
   "cell_type": "markdown",
   "id": "5edf6508-e47f-49a0-943e-61231b85839c",
   "metadata": {},
   "source": [
    "###### 6.2 *Returns the*  ***df_name*** *for the specified* ***.csv filename read from XL*** "
   ]
  },
  {
   "cell_type": "code",
   "execution_count": 24,
   "id": "2d557763-c55b-46b2-ba37-e3c0de2865a4",
   "metadata": {},
   "outputs": [],
   "source": [
    "# filename_to_df_name(filename)\n",
    "#6.2 Returns the df_name for the specified .csv filename read from XL\n",
    "def filename_to_df_name(filename):\n",
    "    # Compute the df name from file name\n",
    "    # Strip path if present\n",
    "    base = filename.split(\"/\")[-1]\n",
    "    # Remove extension\n",
    "    if base.endswith(\".csv\"):\n",
    "        base = base[:-4]\n",
    "    # Replace first two characters with \"df\"\n",
    "    df_name =  \"df\" + base[2:]  \n",
    "    print(\"df_name  =  \",df_name)                                          \n",
    "    return df_name                   # df name \n"
   ]
  },
  {
   "cell_type": "markdown",
   "id": "d34cfd74-d055-4b28-8d33-90f40931ec6b",
   "metadata": {},
   "source": [
    "###### *6.3 Returns a* ***dict {dc} = for the speified filename*** *with* ***df_name: = col hds*** and a ***data array***"
   ]
  },
  {
   "cell_type": "code",
   "execution_count": 25,
   "id": "d9495097-2a97-4077-811e-84a73522de99",
   "metadata": {},
   "outputs": [],
   "source": [
    "#  dc_dict(filename)\n",
    "# 6.3 Returns a dict {dc} = for the speified filename with df_name: = col hds and a data array\n",
    "def dc_dict(filename):            # dc abv for data_colomns\n",
    "    #first we compute the df_name from file name\n",
    "    df_name = filename_to_df_name(filename)    # from def funct\n",
    "    dc = {df_name: load_csv_to_df(filename, index_col=None)}  # from def funct to get array\n",
    "    return dc               #dc is a dict with a {name of \"df_name\";\"df_loaded array\"}\n",
    "   "
   ]
  },
  {
   "cell_type": "markdown",
   "id": "66000642-a21f-43e2-be78-07a2c3cecad4",
   "metadata": {},
   "source": [
    "###### 6.5 combines the ***calls*** *above and returns a* ***dict {dc}*** *named* ***df_name*** *that has*  ***col_names: data arrray*** "
   ]
  },
  {
   "cell_type": "code",
   "execution_count": null,
   "id": "d4a0c020-78ed-407c-8bd0-5d77a1802ee3",
   "metadata": {},
   "outputs": [],
   "source": [
    "# import(filename)\n",
    "# 6.5 combines the calls above and returns a dict {dc} named df_name that has col_names: data arrray\n",
    "def imprt(filename):\n",
    "    load_csv_to_df(filename, index_col=None)\n",
    "    filename_to_df_name(filename)\n",
    "    dc_dict(filename)\n",
    "    return \n"
   ]
  },
  {
   "cell_type": "markdown",
   "id": "e51eafa6-75fa-45e6-9c1a-c3f81b1038f3",
   "metadata": {},
   "source": [
    "##### 5.2 The *def function* ***calls*** that *derive the required data objects* from an ***xl_file name***"
   ]
  },
  {
   "cell_type": "code",
   "execution_count": 27,
   "id": "f6a988ad-e607-4608-8095-e6cb9db17c95",
   "metadata": {},
   "outputs": [],
   "source": [
    "filename = \"xl_dtv_all_snm_hdr.csv\" "
   ]
  },
  {
   "cell_type": "code",
   "execution_count": null,
   "id": "07ff7c76-9444-4567-8d18-087a1ec28445",
   "metadata": {},
   "outputs": [],
   "source": [
    "imprt(filename)"
   ]
  },
  {
   "cell_type": "code",
   "execution_count": null,
   "id": "22eba210-435c-4489-a0be-9ccdf3ee9979",
   "metadata": {},
   "outputs": [],
   "source": [
    "df_name  "
   ]
  },
  {
   "cell_type": "code",
   "execution_count": 29,
   "id": "4fe91690-c44e-4535-a4f7-8b232e8568b1",
   "metadata": {
    "scrolled": true
   },
   "outputs": [
    {
     "data": {
      "text/html": [
       "<div>\n",
       "<style scoped>\n",
       "    .dataframe tbody tr th:only-of-type {\n",
       "        vertical-align: middle;\n",
       "    }\n",
       "\n",
       "    .dataframe tbody tr th {\n",
       "        vertical-align: top;\n",
       "    }\n",
       "\n",
       "    .dataframe thead th {\n",
       "        text-align: right;\n",
       "    }\n",
       "</style>\n",
       "<table border=\"1\" class=\"dataframe\">\n",
       "  <thead>\n",
       "    <tr style=\"text-align: right;\">\n",
       "      <th></th>\n",
       "      <th>Augmented NAC</th>\n",
       "      <th>mega Vit K2</th>\n",
       "      <th>Eliquist</th>\n",
       "      <th>Furosemide 20mg</th>\n",
       "      <th>citrulline caps</th>\n",
       "      <th>Melatonin Cap</th>\n",
       "      <th>L-Carnosine</th>\n",
       "      <th>Alpha GPC</th>\n",
       "      <th>Quercetin with Bromelain</th>\n",
       "      <th>Hawthorne Berry</th>\n",
       "      <th>...</th>\n",
       "      <th>Silver 500</th>\n",
       "      <th>Curcumin[Tumeric]</th>\n",
       "      <th>Apple cider vinegar</th>\n",
       "      <th>Cranberry</th>\n",
       "      <th>Serrapeptase</th>\n",
       "      <th>Lactoferrin</th>\n",
       "      <th>d_mannose</th>\n",
       "      <th>Magnesium Gycinate</th>\n",
       "      <th>Vitamin C Cap</th>\n",
       "      <th>Probiotics</th>\n",
       "    </tr>\n",
       "  </thead>\n",
       "  <tbody>\n",
       "    <tr>\n",
       "      <th>0</th>\n",
       "      <td>45380</td>\n",
       "      <td>NaN</td>\n",
       "      <td>NaN</td>\n",
       "      <td>NaN</td>\n",
       "      <td>NaN</td>\n",
       "      <td>NaN</td>\n",
       "      <td>NaN</td>\n",
       "      <td>NaN</td>\n",
       "      <td>NaN</td>\n",
       "      <td>NaN</td>\n",
       "      <td>...</td>\n",
       "      <td>NaN</td>\n",
       "      <td>NaN</td>\n",
       "      <td>NaN</td>\n",
       "      <td>NaN</td>\n",
       "      <td>NaN</td>\n",
       "      <td>NaN</td>\n",
       "      <td>NaN</td>\n",
       "      <td>NaN</td>\n",
       "      <td>NaN</td>\n",
       "      <td>NaN</td>\n",
       "    </tr>\n",
       "    <tr>\n",
       "      <th>1</th>\n",
       "      <td>45381</td>\n",
       "      <td>NaN</td>\n",
       "      <td>NaN</td>\n",
       "      <td>NaN</td>\n",
       "      <td>NaN</td>\n",
       "      <td>NaN</td>\n",
       "      <td>NaN</td>\n",
       "      <td>NaN</td>\n",
       "      <td>NaN</td>\n",
       "      <td>NaN</td>\n",
       "      <td>...</td>\n",
       "      <td>NaN</td>\n",
       "      <td>NaN</td>\n",
       "      <td>NaN</td>\n",
       "      <td>NaN</td>\n",
       "      <td>NaN</td>\n",
       "      <td>NaN</td>\n",
       "      <td>NaN</td>\n",
       "      <td>NaN</td>\n",
       "      <td>NaN</td>\n",
       "      <td>NaN</td>\n",
       "    </tr>\n",
       "    <tr>\n",
       "      <th>2</th>\n",
       "      <td>45382</td>\n",
       "      <td>NaN</td>\n",
       "      <td>NaN</td>\n",
       "      <td>NaN</td>\n",
       "      <td>NaN</td>\n",
       "      <td>NaN</td>\n",
       "      <td>NaN</td>\n",
       "      <td>NaN</td>\n",
       "      <td>NaN</td>\n",
       "      <td>NaN</td>\n",
       "      <td>...</td>\n",
       "      <td>NaN</td>\n",
       "      <td>NaN</td>\n",
       "      <td>NaN</td>\n",
       "      <td>NaN</td>\n",
       "      <td>NaN</td>\n",
       "      <td>NaN</td>\n",
       "      <td>NaN</td>\n",
       "      <td>NaN</td>\n",
       "      <td>NaN</td>\n",
       "      <td>NaN</td>\n",
       "    </tr>\n",
       "    <tr>\n",
       "      <th>3</th>\n",
       "      <td>45383</td>\n",
       "      <td>NaN</td>\n",
       "      <td>NaN</td>\n",
       "      <td>NaN</td>\n",
       "      <td>NaN</td>\n",
       "      <td>NaN</td>\n",
       "      <td>NaN</td>\n",
       "      <td>NaN</td>\n",
       "      <td>NaN</td>\n",
       "      <td>NaN</td>\n",
       "      <td>...</td>\n",
       "      <td>NaN</td>\n",
       "      <td>NaN</td>\n",
       "      <td>NaN</td>\n",
       "      <td>NaN</td>\n",
       "      <td>NaN</td>\n",
       "      <td>NaN</td>\n",
       "      <td>NaN</td>\n",
       "      <td>NaN</td>\n",
       "      <td>NaN</td>\n",
       "      <td>NaN</td>\n",
       "    </tr>\n",
       "    <tr>\n",
       "      <th>4</th>\n",
       "      <td>45384</td>\n",
       "      <td>NaN</td>\n",
       "      <td>NaN</td>\n",
       "      <td>NaN</td>\n",
       "      <td>NaN</td>\n",
       "      <td>NaN</td>\n",
       "      <td>NaN</td>\n",
       "      <td>NaN</td>\n",
       "      <td>NaN</td>\n",
       "      <td>NaN</td>\n",
       "      <td>...</td>\n",
       "      <td>NaN</td>\n",
       "      <td>NaN</td>\n",
       "      <td>NaN</td>\n",
       "      <td>NaN</td>\n",
       "      <td>NaN</td>\n",
       "      <td>NaN</td>\n",
       "      <td>NaN</td>\n",
       "      <td>NaN</td>\n",
       "      <td>NaN</td>\n",
       "      <td>NaN</td>\n",
       "    </tr>\n",
       "    <tr>\n",
       "      <th>...</th>\n",
       "      <td>...</td>\n",
       "      <td>...</td>\n",
       "      <td>...</td>\n",
       "      <td>...</td>\n",
       "      <td>...</td>\n",
       "      <td>...</td>\n",
       "      <td>...</td>\n",
       "      <td>...</td>\n",
       "      <td>...</td>\n",
       "      <td>...</td>\n",
       "      <td>...</td>\n",
       "      <td>...</td>\n",
       "      <td>...</td>\n",
       "      <td>...</td>\n",
       "      <td>...</td>\n",
       "      <td>...</td>\n",
       "      <td>...</td>\n",
       "      <td>...</td>\n",
       "      <td>...</td>\n",
       "      <td>...</td>\n",
       "      <td>...</td>\n",
       "    </tr>\n",
       "    <tr>\n",
       "      <th>462</th>\n",
       "      <td>45854</td>\n",
       "      <td>NaN</td>\n",
       "      <td>NaN</td>\n",
       "      <td>NaN</td>\n",
       "      <td>NaN</td>\n",
       "      <td>NaN</td>\n",
       "      <td>NaN</td>\n",
       "      <td>NaN</td>\n",
       "      <td>NaN</td>\n",
       "      <td>NaN</td>\n",
       "      <td>...</td>\n",
       "      <td>NaN</td>\n",
       "      <td>NaN</td>\n",
       "      <td>NaN</td>\n",
       "      <td>NaN</td>\n",
       "      <td>NaN</td>\n",
       "      <td>NaN</td>\n",
       "      <td>NaN</td>\n",
       "      <td>NaN</td>\n",
       "      <td>NaN</td>\n",
       "      <td>NaN</td>\n",
       "    </tr>\n",
       "    <tr>\n",
       "      <th>463</th>\n",
       "      <td>45855</td>\n",
       "      <td>NaN</td>\n",
       "      <td>NaN</td>\n",
       "      <td>NaN</td>\n",
       "      <td>NaN</td>\n",
       "      <td>NaN</td>\n",
       "      <td>NaN</td>\n",
       "      <td>NaN</td>\n",
       "      <td>NaN</td>\n",
       "      <td>NaN</td>\n",
       "      <td>...</td>\n",
       "      <td>NaN</td>\n",
       "      <td>NaN</td>\n",
       "      <td>NaN</td>\n",
       "      <td>NaN</td>\n",
       "      <td>NaN</td>\n",
       "      <td>NaN</td>\n",
       "      <td>NaN</td>\n",
       "      <td>NaN</td>\n",
       "      <td>NaN</td>\n",
       "      <td>NaN</td>\n",
       "    </tr>\n",
       "    <tr>\n",
       "      <th>464</th>\n",
       "      <td>45856</td>\n",
       "      <td>NaN</td>\n",
       "      <td>NaN</td>\n",
       "      <td>NaN</td>\n",
       "      <td>NaN</td>\n",
       "      <td>NaN</td>\n",
       "      <td>NaN</td>\n",
       "      <td>NaN</td>\n",
       "      <td>NaN</td>\n",
       "      <td>NaN</td>\n",
       "      <td>...</td>\n",
       "      <td>NaN</td>\n",
       "      <td>NaN</td>\n",
       "      <td>NaN</td>\n",
       "      <td>NaN</td>\n",
       "      <td>NaN</td>\n",
       "      <td>NaN</td>\n",
       "      <td>NaN</td>\n",
       "      <td>NaN</td>\n",
       "      <td>NaN</td>\n",
       "      <td>NaN</td>\n",
       "    </tr>\n",
       "    <tr>\n",
       "      <th>465</th>\n",
       "      <td>45857</td>\n",
       "      <td>NaN</td>\n",
       "      <td>NaN</td>\n",
       "      <td>NaN</td>\n",
       "      <td>NaN</td>\n",
       "      <td>NaN</td>\n",
       "      <td>NaN</td>\n",
       "      <td>NaN</td>\n",
       "      <td>NaN</td>\n",
       "      <td>NaN</td>\n",
       "      <td>...</td>\n",
       "      <td>NaN</td>\n",
       "      <td>NaN</td>\n",
       "      <td>NaN</td>\n",
       "      <td>NaN</td>\n",
       "      <td>NaN</td>\n",
       "      <td>NaN</td>\n",
       "      <td>NaN</td>\n",
       "      <td>NaN</td>\n",
       "      <td>NaN</td>\n",
       "      <td>NaN</td>\n",
       "    </tr>\n",
       "    <tr>\n",
       "      <th>466</th>\n",
       "      <td>45858</td>\n",
       "      <td>NaN</td>\n",
       "      <td>NaN</td>\n",
       "      <td>NaN</td>\n",
       "      <td>NaN</td>\n",
       "      <td>NaN</td>\n",
       "      <td>NaN</td>\n",
       "      <td>NaN</td>\n",
       "      <td>NaN</td>\n",
       "      <td>NaN</td>\n",
       "      <td>...</td>\n",
       "      <td>NaN</td>\n",
       "      <td>NaN</td>\n",
       "      <td>NaN</td>\n",
       "      <td>NaN</td>\n",
       "      <td>NaN</td>\n",
       "      <td>NaN</td>\n",
       "      <td>NaN</td>\n",
       "      <td>NaN</td>\n",
       "      <td>NaN</td>\n",
       "      <td>NaN</td>\n",
       "    </tr>\n",
       "  </tbody>\n",
       "</table>\n",
       "<p>467 rows × 37 columns</p>\n",
       "</div>"
      ],
      "text/plain": [
       "     Augmented NAC   mega Vit K2  Eliquist  Furosemide 20mg  citrulline caps  \\\n",
       "0             45380          NaN       NaN              NaN              NaN   \n",
       "1             45381          NaN       NaN              NaN              NaN   \n",
       "2             45382          NaN       NaN              NaN              NaN   \n",
       "3             45383          NaN       NaN              NaN              NaN   \n",
       "4             45384          NaN       NaN              NaN              NaN   \n",
       "..              ...          ...       ...              ...              ...   \n",
       "462           45854          NaN       NaN              NaN              NaN   \n",
       "463           45855          NaN       NaN              NaN              NaN   \n",
       "464           45856          NaN       NaN              NaN              NaN   \n",
       "465           45857          NaN       NaN              NaN              NaN   \n",
       "466           45858          NaN       NaN              NaN              NaN   \n",
       "\n",
       "     Melatonin Cap   L-Carnosine  Alpha GPC  Quercetin with Bromelain  \\\n",
       "0              NaN           NaN        NaN                       NaN   \n",
       "1              NaN           NaN        NaN                       NaN   \n",
       "2              NaN           NaN        NaN                       NaN   \n",
       "3              NaN           NaN        NaN                       NaN   \n",
       "4              NaN           NaN        NaN                       NaN   \n",
       "..             ...           ...        ...                       ...   \n",
       "462            NaN           NaN        NaN                       NaN   \n",
       "463            NaN           NaN        NaN                       NaN   \n",
       "464            NaN           NaN        NaN                       NaN   \n",
       "465            NaN           NaN        NaN                       NaN   \n",
       "466            NaN           NaN        NaN                       NaN   \n",
       "\n",
       "     Hawthorne Berry  ...  Silver 500  Curcumin[Tumeric]  Apple cider vinegar  \\\n",
       "0                NaN  ...         NaN                NaN                  NaN   \n",
       "1                NaN  ...         NaN                NaN                  NaN   \n",
       "2                NaN  ...         NaN                NaN                  NaN   \n",
       "3                NaN  ...         NaN                NaN                  NaN   \n",
       "4                NaN  ...         NaN                NaN                  NaN   \n",
       "..               ...  ...         ...                ...                  ...   \n",
       "462              NaN  ...         NaN                NaN                  NaN   \n",
       "463              NaN  ...         NaN                NaN                  NaN   \n",
       "464              NaN  ...         NaN                NaN                  NaN   \n",
       "465              NaN  ...         NaN                NaN                  NaN   \n",
       "466              NaN  ...         NaN                NaN                  NaN   \n",
       "\n",
       "     Cranberry  Serrapeptase  Lactoferrin  d_mannose  Magnesium Gycinate  \\\n",
       "0          NaN           NaN          NaN        NaN                 NaN   \n",
       "1          NaN           NaN          NaN        NaN                 NaN   \n",
       "2          NaN           NaN          NaN        NaN                 NaN   \n",
       "3          NaN           NaN          NaN        NaN                 NaN   \n",
       "4          NaN           NaN          NaN        NaN                 NaN   \n",
       "..         ...           ...          ...        ...                 ...   \n",
       "462        NaN           NaN          NaN        NaN                 NaN   \n",
       "463        NaN           NaN          NaN        NaN                 NaN   \n",
       "464        NaN           NaN          NaN        NaN                 NaN   \n",
       "465        NaN           NaN          NaN        NaN                 NaN   \n",
       "466        NaN           NaN          NaN        NaN                 NaN   \n",
       "\n",
       "     Vitamin C Cap  Probiotics  \n",
       "0              NaN         NaN  \n",
       "1              NaN         NaN  \n",
       "2              NaN         NaN  \n",
       "3              NaN         NaN  \n",
       "4              NaN         NaN  \n",
       "..             ...         ...  \n",
       "462            NaN         NaN  \n",
       "463            NaN         NaN  \n",
       "464            NaN         NaN  \n",
       "465            NaN         NaN  \n",
       "466            NaN         NaN  \n",
       "\n",
       "[467 rows x 37 columns]"
      ]
     },
     "execution_count": 29,
     "metadata": {},
     "output_type": "execute_result"
    }
   ],
   "source": [
    " load_csv_to_df(filename, index_col=None)"
   ]
  },
  {
   "cell_type": "code",
   "execution_count": 32,
   "id": "ccce4e1e-d1ac-487d-9644-747e2897801b",
   "metadata": {},
   "outputs": [
    {
     "ename": "NameError",
     "evalue": "name 'index_col' is not defined",
     "output_type": "error",
     "traceback": [
      "\u001b[31m---------------------------------------------------------------------------\u001b[39m",
      "\u001b[31mNameError\u001b[39m                                 Traceback (most recent call last)",
      "\u001b[36mCell\u001b[39m\u001b[36m \u001b[39m\u001b[32mIn[32]\u001b[39m\u001b[32m, line 1\u001b[39m\n\u001b[32m----> \u001b[39m\u001b[32m1\u001b[39m pd.read_csv(filename, index_col=index_col)\n",
      "\u001b[31mNameError\u001b[39m: name 'index_col' is not defined"
     ]
    }
   ],
   "source": [
    "pd.read_csv(filename, index_col=index_col)"
   ]
  },
  {
   "cell_type": "code",
   "execution_count": 30,
   "id": "f492e76d-51e5-478a-90b3-02ab466a8d04",
   "metadata": {},
   "outputs": [
    {
     "name": "stdout",
     "output_type": "stream",
     "text": [
      "filename =  xl_dtv_all_snm_hdr.csv  loaded\n"
     ]
    }
   ],
   "source": [
    "print(\"filename = \",filename, \" loaded\")"
   ]
  },
  {
   "cell_type": "code",
   "execution_count": null,
   "id": "b95ffa53-5350-49a8-9fc1-d128bad07a39",
   "metadata": {},
   "outputs": [],
   "source": [
    "filename_to_df_name(filename)"
   ]
  },
  {
   "cell_type": "code",
   "execution_count": null,
   "id": "2b0f68c9-ec54-4236-a098-4a2478cf4682",
   "metadata": {
    "scrolled": true
   },
   "outputs": [],
   "source": [
    "dc_dict(filename)"
   ]
  },
  {
   "cell_type": "markdown",
   "id": "61384f95-f95c-4f7b-ab60-cd8e18b6ee6c",
   "metadata": {},
   "source": [
    "# --------------Stop divider-----------------------"
   ]
  },
  {
   "cell_type": "code",
   "execution_count": null,
   "id": "9cb9cf3d-fd5f-4c61-9084-add02839b8b6",
   "metadata": {},
   "outputs": [],
   "source": [
    "#def df_name(filename):\n",
    "    # Compute the df name from file name\n",
    "    # Strip path if present\n",
    "    base = filename.split(\"/\")[-1]\n",
    "    # Remove extension\n",
    "    if base.endswith(\".csv\"):\n",
    "        base = base[:-4]\n",
    "    # Replace first two characters with \"df\"\n",
    "    df_name =  \"df\" + base[2:]  \n",
    "#    return df_name                   # df name \n",
    "###################################################################\n",
    "    load_csv_to_df(filename, index_col=None)\n",
    "###############################################################################"
   ]
  },
  {
   "cell_type": "code",
   "execution_count": null,
   "id": "9891410c-8df9-4d1a-b36e-73fe5cf53f52",
   "metadata": {},
   "outputs": [],
   "source": [
    "#def dc_dict(filename):            # dc stands for data colomns\n",
    "    #first we compute the df_name from file name\n",
    "    df_name = filename_to_df_name(filename)    # from def funct\n",
    "    dc = {df_name: load_csv_to_df(filename, index_col=None)}  # from def funct to get array\n",
    "#    return dc               #dc is a dict with a {name of \"df_name\";\"df_loaded array\"}\n",
    "####################################################################################\n",
    "# dc is a dict with a {name of \"df_name\";\"df_loaded array\"}\n",
    "    dc = dc_dict(filename)   # dc stands for data columns\n",
    "    print(df_name) \n",
    "    dc[df_name]"
   ]
  },
  {
   "cell_type": "code",
   "execution_count": null,
   "id": "2723c439-c293-4bc8-934e-bced49e293a3",
   "metadata": {},
   "outputs": [],
   "source": [
    "filename = \"xl_dtv_all_snm_hdr.csv\"              # test cell\n",
    "load_csv_to_df(filename, index_col=None)"
   ]
  },
  {
   "cell_type": "code",
   "execution_count": null,
   "id": "ff2fae07-e321-4d41-80bf-80d53a0c5cfa",
   "metadata": {},
   "outputs": [],
   "source": [
    "filename = \"xl_dtv_all_snm_hdr.csv\"   \n",
    "df_dict(filename)"
   ]
  },
  {
   "cell_type": "code",
   "execution_count": null,
   "id": "15597f4c-26bd-487c-8d86-e78fabc19717",
   "metadata": {},
   "outputs": [],
   "source": [
    "df_name = filename_to_df_name(filename)    # test cell\n",
    "print(df_name)                        #print the name \n",
    "type(df_name)"
   ]
  },
  {
   "cell_type": "markdown",
   "id": "03077ab9-358b-483d-b6f9-0037f24a548e",
   "metadata": {},
   "source": [
    "##### 5.2 *def* ***load_csv_to_df(filename, index_col=None)***  *Read the*  ***data array*** *from the* ***xl_file***."
   ]
  },
  {
   "cell_type": "code",
   "execution_count": null,
   "id": "423e1187-f154-418a-b49f-6a3dab1bab91",
   "metadata": {},
   "outputs": [],
   "source": [
    "filename = \"xl_dtv_all_snm.csv\" \n",
    "# dc is a dict with a {name of \"df_name\";\"df_loaded array\"}\n",
    "dc = dc_dict(filename)   # dc stands for data columns\n",
    "print(df_name) \n",
    "dc[df_name]\n"
   ]
  },
  {
   "cell_type": "code",
   "execution_count": null,
   "id": "97e0f96a-5d6e-45db-b95c-a0fa639d7df9",
   "metadata": {},
   "outputs": [],
   "source": [
    "##############################################################"
   ]
  },
  {
   "cell_type": "code",
   "execution_count": null,
   "id": "2eb718fe-2199-4ba0-9d1d-0d981d68efcc",
   "metadata": {},
   "outputs": [],
   "source": [
    "######################################################################"
   ]
  },
  {
   "cell_type": "code",
   "execution_count": null,
   "id": "0a87a6a0-87f5-48b6-9b5f-bda597c75915",
   "metadata": {},
   "outputs": [],
   "source": [
    "# call cmplt_import(filename) to get s=df_name & hsr_dict from xl_file\n",
    "filename = \"xl_dtv_all_snm_hdr.csv\"  \n",
    "df_name, hdr_names, df_name_only = cmplt_import2(filename)\n",
    "print(\"df_name  = \",df_name)\n",
    "#print(\"hdr_names  = \",hdr_names)  \n",
    "print(\"df_name_only  = \",df_name_only)  \n",
    "#print(\"df_name_only  = \",df_dtv_all_snm_hdr)\n"
   ]
  },
  {
   "cell_type": "markdown",
   "id": "ad39f5e6-ade4-4eec-8d1f-b9a5bcf42324",
   "metadata": {},
   "source": [
    "##### 5.3 ***def gt_hdr_names(filename)*** *Compute hdr names*"
   ]
  },
  {
   "cell_type": "code",
   "execution_count": null,
   "id": "a079c2c0-3610-4be8-9a5a-ca2df011b49b",
   "metadata": {},
   "outputs": [],
   "source": [
    "def gt_hdr_names(df_data):\n",
    "    hdr_names = df_data.columns\n",
    "    return hdr_names"
   ]
  },
  {
   "cell_type": "code",
   "execution_count": null,
   "id": "930b8a9e-1671-4f07-99f7-99c933c68763",
   "metadata": {},
   "outputs": [],
   "source": [
    "hdr_names = gt_hdr_names(df_name)                                #checkout\n",
    "hdr_names"
   ]
  },
  {
   "cell_type": "markdown",
   "id": "2b33995e-8c13-417c-aae0-e8f30836b83a",
   "metadata": {},
   "source": [
    "#### 4.0 ***def cmplt_imprt***  *Using the functions*  - ***defined above***"
   ]
  },
  {
   "cell_type": "markdown",
   "id": "c5924ad9-a530-4c2e-8281-6d2e3e504092",
   "metadata": {},
   "source": [
    "##### 5.1 ***def cmplt_imprt***  *Using the functions*  - ***calc all data***"
   ]
  },
  {
   "cell_type": "code",
   "execution_count": null,
   "id": "4a578af5-95ab-438d-97ba-9d6abf4272d9",
   "metadata": {},
   "outputs": [],
   "source": [
    "def cmplt_import(filename):    # gets all data for datafile\n",
    "    df_name = filename_to_df_name(filename)        # computed from xl file name\n",
    "    hdr_names = gt_hdr_names(df_name)                                #checkout\n",
    "    return df_name, hdr_names"
   ]
  },
  {
   "cell_type": "markdown",
   "id": "ebde5043-dc74-479c-ae5f-0c3250501d7f",
   "metadata": {},
   "source": [
    "#### 4.1 Load data for file types using ***cmplt_import(filename)***"
   ]
  },
  {
   "cell_type": "code",
   "execution_count": null,
   "id": "5d2f7297-05eb-4ccf-9549-1f41842f7b39",
   "metadata": {},
   "outputs": [],
   "source": [
    "df_name = filename_to_df_name(filename)        # computed from xl file name\n",
    "hdr_names = gt_hdr_names(df_data)                                #checkout\n",
    "hdr_names\n",
    "df_name"
   ]
  },
  {
   "cell_type": "markdown",
   "id": "2e9a3d4a-3c1d-4739-9a8f-3391d2dc711a",
   "metadata": {},
   "source": [
    "##### 5.1 call ***cmplt_import(filename)***"
   ]
  },
  {
   "cell_type": "code",
   "execution_count": null,
   "id": "003044ea-4051-4b39-8bbc-f4a42338c0d0",
   "metadata": {},
   "outputs": [],
   "source": [
    "filename = \"xl_dtv_all_snb_hdr.csv\"\n",
    "df_name, hdr_names = cmplt_import(filename)    # gets all data for datafile\n",
    "#type(df_name)\n",
    "#hdr_names\n"
   ]
  },
  {
   "cell_type": "code",
   "execution_count": null,
   "id": "f8d820ed-0713-4e04-8592-e20a526266ff",
   "metadata": {},
   "outputs": [],
   "source": [
    "#filename = \"xl_dtv_all_snb.csv\"\n",
    "filename = \"xl_dtv_all_snm_hdr.csv\"\n",
    "df_name, array_name, hdr_names = cmplt_import(filename)\n",
    "print(df_name)\n",
    "hdr_names\n"
   ]
  },
  {
   "cell_type": "code",
   "execution_count": null,
   "id": "17991eee-9a66-4e23-8a16-e7f8702a4155",
   "metadata": {},
   "outputs": [],
   "source": []
  },
  {
   "cell_type": "code",
   "execution_count": null,
   "id": "f92f7e91-ab98-4ddb-9f0e-607e49e1f993",
   "metadata": {},
   "outputs": [],
   "source": []
  },
  {
   "cell_type": "code",
   "execution_count": null,
   "id": "a337a403-d929-44e2-b854-fdbb45ffab36",
   "metadata": {},
   "outputs": [],
   "source": [
    "#### get df_dtv_all_snb from \"xl_dtv_all_snb.csv\"\n",
    "filepath = \"xl_dtv_all_snm_hdr.csv\"             # this is version with snb for headers\n",
    "#filepath = \"xl_dtv_all_snm_hdr.csv\"\n",
    "df_name =\n",
    "df_dtv_all_snb = load_csv_to_df(filepath, index_col=None)\n",
    "print(type(df_dtv_all_snb))\n",
    "print(filepath,\"loaded\")\n",
    "print(df_dtv_all_snb.head() )      # Shows first few rows\n",
    "#df.columns      # Lists column names\n",
    "#df.info()       # Summary of DataFrame\n"
   ]
  },
  {
   "cell_type": "markdown",
   "id": "db94de94-66c2-4191-8862-8b545af40eb5",
   "metadata": {},
   "source": [
    "#### 4.2 get df_dtv_all_snm from \"xl_dtv_all_snm.csv\" using load_csv_to_df"
   ]
  },
  {
   "cell_type": "markdown",
   "id": "1a9ce9d7-1708-4daa-adf2-62a2a9b416bb",
   "metadata": {},
   "source": [
    "### 3.2 def Mapping Dicts <> *.get names from snb*"
   ]
  },
  {
   "cell_type": "code",
   "execution_count": null,
   "id": "ea61971f-bf19-4d9f-8b70-77984d883513",
   "metadata": {
    "jupyter": {
     "source_hidden": true
    },
    "scrolled": true
   },
   "outputs": [],
   "source": [
    "#### get df_dtv_all_snm from \"xl_dtv_all_snm.csv\"\n",
    "filepath = \"xl_dtv_all_snm.csv\"             # this is version with snm for headers\n",
    "df_dtv_all_snm = load_csv_to_df(filepath, index_col=None)\n",
    "print(type(df_dtv_all_snm))\n",
    "print(filepath,\"loaded\")\n",
    "print(df_dtv_all_snm.head() )      # Shows first few rows\n",
    "df_dtv_all_snm.columns      # Lists column names\n",
    "\n"
   ]
  },
  {
   "cell_type": "code",
   "execution_count": null,
   "id": "0a596fc4-bd99-46f5-bfdc-ecf6ee632996",
   "metadata": {
    "jupyter": {
     "source_hidden": true
    },
    "scrolled": true
   },
   "outputs": [],
   "source": [
    "#### get df_dtv_all_snm_hdr from \"xl_dtv_all_snm_hdr.csv\"\n",
    "filepath = \"xl_dtv_all_snm_hdr.csv\"             # this is version with snm for headers\n",
    "df_dtv_all_snm_hdr = load_csv_to_df(filepath, index_col=None)\n",
    "print(type(df_dtv_all_snm_hdr))\n",
    "print(filepath,\"loaded\")\n",
    "print(df_dtv_all_snm_hdr.head() )      # Shows first few rows\n",
    "df_dtv_all_snm_hdr.columns      # Lists column names\n",
    "\n"
   ]
  },
  {
   "cell_type": "markdown",
   "id": "7dda5c7a-91a8-4036-b91a-fab5806dcabf",
   "metadata": {
    "jp-MarkdownHeadingCollapsed": true
   },
   "source": [
    "## 2.2 Reformating the data for processes"
   ]
  },
  {
   "cell_type": "markdown",
   "id": "64bce3f4-a004-460f-b938-be1a248ff3cd",
   "metadata": {},
   "source": [
    "### 3.1 ***df to np_array*** *Prepaning for for np processing ----*"
   ]
  },
  {
   "cell_type": "markdown",
   "id": "75e2a255-99e6-45c1-88a2-9782f5ad5458",
   "metadata": {
    "jp-MarkdownHeadingCollapsed": true
   },
   "source": [
    "#### 4.1 Defining ***df_to_np_array***  *Converts a DataFrame to a NumPy array with optional header inclusion and diagnostics.*"
   ]
  },
  {
   "cell_type": "code",
   "execution_count": null,
   "id": "2ddc569e-24a8-407e-b9ff-08f2052a4f82",
   "metadata": {},
   "outputs": [],
   "source": [
    "def df_to_np_array(df, include_headers=False, dtype=None, logger=print):\n",
    "    \"\"\"\n",
    " # def Converts a DataFrame to a NumPy array with optional header inclusion and diagnostics.\n",
    "\n",
    "    Parameters:\n",
    "    - df (pd.DataFrame): The DataFrame to convert.\n",
    "    - include_headers (bool): Whether to include column headers as the first row.\n",
    "    - dtype (type or str, optional): Desired NumPy dtype (e.g., float, str).\n",
    "    - logger (callable): Logging function (e.g., print or custom logger).\n",
    "\n",
    "    Returns:\n",
    "    - np.ndarray: The resulting NumPy array.\n",
    "\n",
    "    Caller assign name\n",
    "    \"\"\" \n",
    "    try:\n",
    "        np_array = df.to_numpy(dtype=dtype) if dtype else df.to_numpy()\n",
    "        logger(f\"[CONVERT] DataFrame shape: {df.shape}, dtype: {np_array.dtype}\")\n",
    "\n",
    "        if include_headers:\n",
    "            headers = df.columns.to_numpy()\n",
    "            combined = np.vstack([headers, np_array.astype(str)])\n",
    "            logger(f\"[INCLUDE_HEADERS] Headers added as first row.\")\n",
    "            return combined\n",
    "        else:\n",
    "            return np_array\n",
    "\n",
    "    except Exception as e:\n",
    "        logger(f\"[ERROR] Failed to convert DataFrame to np_arra: {e}\")\n",
    "        raise\n"
   ]
  },
  {
   "cell_type": "markdown",
   "id": "c5854763-02ca-43d1-885e-47747dfd720c",
   "metadata": {
    "jp-MarkdownHeadingCollapsed": true
   },
   "source": [
    "#### 4.2 Using  ***df_to_np_array***  *Converts a DataFrame to a NumPy array with optional header inclusion and diagnostics.*"
   ]
  },
  {
   "cell_type": "code",
   "execution_count": null,
   "id": "f62bb930-9e13-48f0-8fb2-af9d6b050361",
   "metadata": {},
   "outputs": [],
   "source": [
    "# test df_to_np_array(df, include_headers=False, dtype=None, logger=print):\n",
    "df= df_dtv_all_snb\n",
    "np_dtv_all_snb = df_to_np_array(df, include_headers=False, dtype=None, logger=print)\n",
    "np_dtv_all_snb"
   ]
  },
  {
   "cell_type": "markdown",
   "id": "de4e9f55-7724-47b1-9087-fdd80b278dc2",
   "metadata": {
    "jp-MarkdownHeadingCollapsed": true
   },
   "source": [
    "#### 4.1 Defining *Simple * = ***df_to_np(df)***"
   ]
  },
  {
   "cell_type": "code",
   "execution_count": null,
   "id": "ac99b3a1-7b1b-4c10-b82e-86582d95f110",
   "metadata": {},
   "outputs": [],
   "source": [
    "def df_to_np(df):\n",
    "    headers = df.columns.to_numpy()\n",
    "    data = df.to_numpy()\n",
    "    return headers,data"
   ]
  },
  {
   "cell_type": "markdown",
   "id": "8b5a0e3a-6345-45e4-9c65-4de8a693baba",
   "metadata": {
    "jp-MarkdownHeadingCollapsed": true
   },
   "source": [
    "#### 4.2 Using *Simple * = ***df_to_np(df)***"
   ]
  },
  {
   "cell_type": "code",
   "execution_count": null,
   "id": "8295d18f-2c7e-49b4-a2e0-1519597adc47",
   "metadata": {},
   "outputs": [],
   "source": [
    "df= df_dtv_all_snb\n",
    "headers,data = df_to_np(df)\n",
    "headers, data\n",
    "combined = np.vstack([headers, data.astype(str)])\n",
    "\n",
    "#df_dtv_all_snb"
   ]
  },
  {
   "cell_type": "markdown",
   "id": "233f6212-f388-4b26-b629-0f0ef64c6d7e",
   "metadata": {},
   "source": [
    "## 2.3 ***Manual input and editing functions***"
   ]
  },
  {
   "cell_type": "markdown",
   "id": "3c06077e-89b9-4b91-891b-288b6b26bb06",
   "metadata": {},
   "source": [
    "### 3.1 ***Input or Edit values in a row***"
   ]
  },
  {
   "cell_type": "markdown",
   "id": "d3d6af9b-9e6b-4ece-9b43-7d465a8c6604",
   "metadata": {},
   "source": [
    "#### 4.1 ***Get the row*** "
   ]
  },
  {
   "cell_type": "markdown",
   "id": "6f32caa1-53ee-4edd-ae85-e7bcc141f930",
   "metadata": {},
   "source": [
    "#### 4.2 ***edit row*** "
   ]
  },
  {
   "cell_type": "markdown",
   "id": "7d880cf7-8afb-4235-9648-20945ca09d5e",
   "metadata": {},
   "source": [
    "#### 4.3 ***commit the row***"
   ]
  },
  {
   "cell_type": "markdown",
   "id": "9cd40f73-8af4-44de-a7bf-7318fcdf12d3",
   "metadata": {},
   "source": [
    "### 3.3 Extract edit/update, preview, and commit a clone of snb data col back into the snb data col"
   ]
  },
  {
   "cell_type": "markdown",
   "id": "ebe4b21d-7cc8-40d7-8f60-db42a6f9e552",
   "metadata": {},
   "source": [
    "#### 4.1 Get the ***data array*** to be modified"
   ]
  },
  {
   "cell_type": "code",
   "execution_count": null,
   "id": "03e7b4c3-8243-4439-82a7-e27d0240f902",
   "metadata": {},
   "outputs": [],
   "source": [
    "### test def function to xl to df\n",
    "filepath = \"xl_dtv_all_snb.csv\"             # this is version with snb for headers\n",
    "df_dtv_all_snb = load_csv_to_df(filepath, index_col=None)\n",
    "#df_dtv_all_snb.loc[2:,\"b005\"]"
   ]
  },
  {
   "cell_type": "markdown",
   "id": "d83b1bd4-9c12-4106-9afc-83fb7065020b",
   "metadata": {
    "jp-MarkdownHeadingCollapsed": true
   },
   "source": [
    "#### 4.2 #Extract and preview a clone of a data col"
   ]
  },
  {
   "cell_type": "code",
   "execution_count": null,
   "id": "42ca46f1-d853-4e90-9a12-58290fafaf4d",
   "metadata": {},
   "outputs": [],
   "source": [
    "#Extract and preview commit a clone of snb data col\n",
    "\n",
    "def clone_column(df, column_name, clone_suffix='_clone'):\n",
    "    \"\"\"Create a copy of a column for manual edits.\"\"\"\n",
    "    clone_name = f\"{column_name}{clone_suffix}\"\n",
    "    df[clone_name] = df[column_name].copy()\n",
    "    return df, clone_name"
   ]
  },
  {
   "cell_type": "markdown",
   "id": "2cb82202-81ad-4a9b-b047-c7fee3d3d560",
   "metadata": {
    "jp-MarkdownHeadingCollapsed": true
   },
   "source": [
    "#### 4.3 #preview changes of the clone of a data col"
   ]
  },
  {
   "cell_type": "code",
   "execution_count": null,
   "id": "104310f9-1689-4b95-99ba-f5aafbb17508",
   "metadata": {},
   "outputs": [],
   "source": [
    "def preview_changes(df, original_col, clone_col, logger=print):\n",
    "    \"\"\"Compare original and clone, log differences.\"\"\"\n",
    "    changes = df[df[original_col] != df[clone_col]]\n",
    "    if changes.empty:\n",
    "        logger(\"[PREVIEW] No changes detected.\")\n",
    "    else:\n",
    "        logger(f\"[PREVIEW] {len(changes)} changes:\")\n",
    "        logger(changes[[original_col, clone_col]])\n",
    "    return changes"
   ]
  },
  {
   "cell_type": "markdown",
   "id": "bedba445-1832-46b3-a9e0-dfecc9ddee9c",
   "metadata": {
    "jp-MarkdownHeadingCollapsed": true
   },
   "source": [
    "#### 4.4 #Commit changes of a clone to the data col"
   ]
  },
  {
   "cell_type": "code",
   "execution_count": null,
   "id": "4e2778e7-4d5d-4597-a119-4766d946bf99",
   "metadata": {},
   "outputs": [],
   "source": [
    "def commit_changes(df, original_col, clone_col, logger=print):\n",
    "    \"\"\"Overwrite original column with clone after approval.\"\"\"\n",
    "    df[original_col] = df[clone_col]\n",
    "    logger(f\"[COMMIT] '{original_col}' overwritten with '{clone_col}' values.\")\n",
    "    return df"
   ]
  },
  {
   "cell_type": "markdown",
   "id": "d9841bb2-225b-4772-a067-6fa4741e04a9",
   "metadata": {
    "jp-MarkdownHeadingCollapsed": true
   },
   "source": [
    "#### 4.5 # Example use"
   ]
  },
  {
   "cell_type": "code",
   "execution_count": null,
   "id": "6ecd936f-101e-4715-b912-96cd1b328c1b",
   "metadata": {},
   "outputs": [],
   "source": [
    "df = df_dtv_all_snb    # df  for test\n",
    "\n",
    "# Step 1: Clone column   b003 for test\n",
    "df, clone_col = clone_column(df, 'b003')\n",
    "clone_col"
   ]
  },
  {
   "cell_type": "markdown",
   "id": "d76ad721-6d9e-4f7c-b635-19a0b8496b0a",
   "metadata": {},
   "source": [
    "##### 5.1 Example making changes"
   ]
  },
  {
   "cell_type": "code",
   "execution_count": null,
   "id": "8b042cab-e30e-45ee-9509-6132b02b5cac",
   "metadata": {},
   "outputs": [],
   "source": [
    "# Step 2: Manual edits\n",
    "df.loc[1, clone_col] = 115\n",
    "df.loc[3, clone_col] = 125\n",
    "df.loc[:,clone_col]"
   ]
  },
  {
   "cell_type": "markdown",
   "id": "412317a7-545e-4307-80a2-2cf5ae863669",
   "metadata": {},
   "source": [
    "##### 5.1 Example making changes"
   ]
  },
  {
   "cell_type": "code",
   "execution_count": null,
   "id": "80d18641-bbdd-4237-bdc8-da756298b259",
   "metadata": {},
   "outputs": [],
   "source": [
    "# Step 3: Preview changes\n",
    "preview_changes(df, 'b003', clone_col)\n",
    "preview_changes(df, 'b003', clone_col)"
   ]
  },
  {
   "cell_type": "markdown",
   "id": "d55ee4a0-0bd3-41df-8186-aa2c077bf727",
   "metadata": {},
   "source": [
    "##### 5.1 Example making changes"
   ]
  },
  {
   "cell_type": "code",
   "execution_count": null,
   "id": "b4dcbb6c-45a6-43b5-b12d-0aa239fc1dad",
   "metadata": {},
   "outputs": [],
   "source": [
    "# Step 4: Commit if approved\n",
    "commit_changes(df, 'b003', clone_col)"
   ]
  },
  {
   "cell_type": "markdown",
   "id": "7fb8919b-58c2-4234-a46f-fc198b1d617d",
   "metadata": {
    "jp-MarkdownHeadingCollapsed": true
   },
   "source": [
    "### 3.5 trace the inheritance tree of an object later"
   ]
  },
  {
   "cell_type": "code",
   "execution_count": null,
   "id": "990f5541-58e2-40bb-b9d6-7774532a05dd",
   "metadata": {},
   "outputs": [],
   "source": [
    "def trace_inheritance(self):\n",
    "    import inspect\n",
    "    return [cls.__name__ for cls in inspect.getmro(self.__class__)]\n"
   ]
  },
  {
   "cell_type": "markdown",
   "id": "9b75c6fc-fd25-4e01-bc6b-04352b171128",
   "metadata": {
    "jp-MarkdownHeadingCollapsed": true
   },
   "source": [
    "### 3.6 Create a new ***snb***[data column]  ***init_snb*** later"
   ]
  },
  {
   "cell_type": "markdown",
   "id": "90e376c4-2083-4dfb-a510-19d2e66200fa",
   "metadata": {
    "jp-MarkdownHeadingCollapsed": true
   },
   "source": [
    "### 3.5 df to xl   later"
   ]
  },
  {
   "cell_type": "markdown",
   "id": "8639a70f-05aa-4718-93a7-c2c4f15fa43f",
   "metadata": {
    "jp-MarkdownHeadingCollapsed": true
   },
   "source": [
    "### 3.8 Function to Find Index by Column and String"
   ]
  },
  {
   "cell_type": "markdown",
   "id": "ea7e2d96-3bc8-45c1-b376-f4c2af6ea870",
   "metadata": {
    "jp-MarkdownHeadingCollapsed": true
   },
   "source": [
    "***xl_fnct_mdls.csv***  for   **Help**\n",
    "***extrct_fnct***  ==  extract a single ***\"df_dtv_ubn_snb\"*** from the ***df_dtv_all_ubn***\n",
    "***extrct_df_wrk_ubn*** == use the ***extrct_fnct*** to extract ***df_wrk_ubns*** one by one to bld ***df_wrk_ubn**\n",
    "***updt_funct***   == transfer the updates  from the ***df_wrk_ubn*** to the ***xl_dtv_all_ubn.csv*** "
   ]
  },
  {
   "cell_type": "code",
   "execution_count": null,
   "id": "3df4dafc-8614-42ca-ba15-04bf2473f963",
   "metadata": {},
   "outputs": [],
   "source": [
    "### df to np\n",
    "def get_column_as_array(df, col_name):\n",
    "    return df[col_name].to_numpy()"
   ]
  },
  {
   "cell_type": "code",
   "execution_count": null,
   "id": "d621c15f-02f6-4818-b64a-41bc759bd919",
   "metadata": {},
   "outputs": [],
   "source": [
    "### test def function df to np\n",
    "df = df_dtv_all_snb\n",
    "filepath = \"xl_dtv_all_snr.csv\"\n",
    "def df.to_csv(filepath, index=False)\n",
    "df_dtv_all_snb"
   ]
  },
  {
   "cell_type": "markdown",
   "id": "948ba874-c8b8-46ab-b3be-4f894ae4960a",
   "metadata": {},
   "source": [
    "### 3.7 Find items in df with spefic value"
   ]
  },
  {
   "cell_type": "markdown",
   "id": "8fe61746-16f2-4f9d-971c-49a20969f26b",
   "metadata": {},
   "source": [
    "##### Also look at query to find matches"
   ]
  },
  {
   "cell_type": "raw",
   "id": "f9a660a7-965a-4d9e-b80f-0829faa9fd2e",
   "metadata": {},
   "source": [
    "#### copilot pattern = def >> df_ind  Function to Find Index by Column and String\n",
    "def find_index_by_value(df, col_name, target_str):\n",
    "    if col_name not in df.columns:\n",
    "        raise ValueError(f\"Column '{col_name}' not found in DataFrame.\")\n",
    "    \n",
    "    matches = df[df[col_name] == target_str]\n",
    "    \n",
    "    if matches.empty:\n",
    "        print(f\"❌ No match found for '{target_str}' in column '{col_name}'.\")\n",
    "        return None\n",
    "    \n",
    "    return matches.index.tolist()\n"
   ]
  },
  {
   "cell_type": "raw",
   "id": "263c88a4-43a7-4e7b-ae0c-434f91c02446",
   "metadata": {},
   "source": [
    "### call df_ind function\n",
    "# Sample DataFrame\n",
    "import pandas as pd\n",
    "\n",
    "df_nms = pd.DataFrame({\n",
    "    \"DATE_V\": [\"2025-08-01\", \"2025-08-02\", \"2025-08-03\"],\n",
    "    \"dn\": [\"alpha\", \"beta\", \"gamma\"],\n",
    "    \"nn\": [\"x1\", \"x2\", \"x3\"],\n",
    "    \"pn\": [\"p1\", \"p2\", \"p3\"]\n",
    "}, index=[101, 102, 103])\n",
    "\n",
    "# Find index where 'dn' == 'beta'\n",
    "idx = find_index_by_value(df_nms, \"dn\", \"beta\")\n",
    "print(\"✅ Matching index:\", idx)\n"
   ]
  },
  {
   "cell_type": "raw",
   "id": "b34fdde5-97b1-4c8c-81e3-4f5ca1b48f65",
   "metadata": {},
   "source": [
    "### call df_ind function \n",
    "# Sample DataFrame\n",
    "import pandas as pd\n",
    "\n",
    "df_nms = pd.DataFrame({\n",
    "    \"DATE_V\": [\"2025-08-01\", \"2025-08-02\", \"2025-08-03\"],\n",
    "    \"dn\": [\"alpha\", \"beta\", \"gamma\"],\n",
    "    \"nn\": [\"x1\", \"x2\", \"x3\"],\n",
    "    \"pn\": [\"p1\", \"p2\", \"p3\"]\n",
    "}, index=[101, 102, 103])\n",
    "\n",
    "# Find index where 'dn' == 'beta'\n",
    "\n",
    "#idx = find_index_by_value(df_nms, \"dn\", \"beta\")\n",
    "\n",
    "print(\"✅ Matching index:\", idx)\n"
   ]
  },
  {
   "cell_type": "markdown",
   "id": "b7c01a80-467c-4ab4-967a-269e329ded99",
   "metadata": {},
   "source": [
    "#### call  >>  find_index_by_value(df, col_name, target_str): "
   ]
  },
  {
   "cell_type": "code",
   "execution_count": null,
   "id": "1952348a-bff4-4227-adcb-32ba2aac1a97",
   "metadata": {},
   "outputs": [],
   "source": [
    "#### applied version >> call find_index_by_value(df, col_name, target_str)\n",
    "def find_index_by_value(df, col_name, target_str):\n",
    "    if col_name not in df.columns:\n",
    "        raise ValueError(f\"Column '{col_name}' not found in DataFrame.\")\n",
    "    \n",
    "    matches = df[df[col_name] == target_str]\n",
    "    \n",
    "    if matches.empty:\n",
    "        print(f\"❌ No match found for '{target_str}' in column '{col_name}'.\")\n",
    "        return None\n",
    "    \n",
    "    return matches.index.tolist()\n"
   ]
  },
  {
   "cell_type": "code",
   "execution_count": null,
   "id": "288420cb-4185-4447-aeae-53b27aa7f05a",
   "metadata": {},
   "outputs": [],
   "source": [
    "#### call >> find_index_by_value(df, col_name, target_str) >> use assignment list to avoid confusion\n",
    "df = df_nms                      \n",
    "col_name = \"dn\"\n",
    "target_str = \"beta\"\n",
    "# Find index where 'dn' == 'beta'\n",
    "idx = find_index_by_value(df, col_name, target_str)\n",
    "print(\"✅ Matching index:\", idx)\n"
   ]
  },
  {
   "cell_type": "markdown",
   "id": "70f350c2-9328-4149-a26f-e1fc8d3656ec",
   "metadata": {
    "jp-MarkdownHeadingCollapsed": true
   },
   "source": [
    "#### 4.1 Setting up matching dict functions for snb"
   ]
  },
  {
   "cell_type": "code",
   "execution_count": null,
   "id": "9482852d-e4cc-4108-b70b-b0813338cc22",
   "metadata": {},
   "outputs": [],
   "source": [
    "# Create the mapping dictionary\n",
    "snb_to_name = dict(zip(df_dtv_all_snb.columns, df_dtv_all_snb_hdr.columns))\n",
    "\n",
    "# Example: retrieve the name for a given snb\n",
    "selected_snb = \"b002\"  # replace with your actual snb\n",
    "corresponding_name = snb_to_name.get(selected_snb)\n",
    "\n",
    "print(f\"The name for {selected_snb} is: {corresponding_name}\")\n"
   ]
  },
  {
   "cell_type": "code",
   "execution_count": null,
   "id": "a04b32dd-99b4-4be1-b165-d2bbf24247ef",
   "metadata": {},
   "outputs": [],
   "source": [
    "# Create mappings\n",
    "snb_to_name = dict(zip(df_dtv_all_snb.columns, df_dtv_all_snb_hdr.columns))\n",
    "name_to_snb = dict(zip(df_dtv_all_snb_hdr.columns, df_dtv_all_snb.columns))\n"
   ]
  },
  {
   "cell_type": "markdown",
   "id": "0495369f-7bf1-456a-8d9b-f66a02892e1d",
   "metadata": {
    "jp-MarkdownHeadingCollapsed": true
   },
   "source": [
    "#### 4.2 Single lookup using mapping dictionaries"
   ]
  },
  {
   "cell_type": "code",
   "execution_count": null,
   "id": "e1432119-0f79-4f38-a8eb-6ae3cbb4b9dd",
   "metadata": {},
   "outputs": [],
   "source": [
    "# Single lookup\n",
    "selected_snb = \"b002\"\n",
    "selected_name = snb_to_name.get(selected_snb)\n",
    "\n",
    "selected_name = \"6. Weight\"\n",
    "corresponding_snb = name_to_snb.get(selected_name)\n"
   ]
  },
  {
   "cell_type": "markdown",
   "id": "89d8b38c-f646-4e45-9491-50185bbf57b6",
   "metadata": {
    "jp-MarkdownHeadingCollapsed": true
   },
   "source": [
    "#### 4.3 ??Create mapping dictionaries]first is key, scnd is name]"
   ]
  },
  {
   "cell_type": "markdown",
   "id": "8bf8ec6a-0d2d-4f3f-9bc4-bb4a38eb2c3c",
   "metadata": {
    "jp-MarkdownHeadingCollapsed": true
   },
   "source": [
    "##### 5.1 example snr vs name from pilot page\n",
    "*https://copilot.microsoft.com/chats/RHdGn8EUxkZdd3d9MzpJR*"
   ]
  },
  {
   "cell_type": "markdown",
   "id": "db02ef40-c219-4a39-b9fb-e04856e8c002",
   "metadata": {},
   "source": [
    "##### ***snb & names available for class studies*** \n",
    "*****snb: ......   df_dtv_all_snb*****\n",
    "\n",
    "*****name: ....   df_dtv_all_snb_hdr*****"
   ]
  },
  {
   "cell_type": "code",
   "execution_count": null,
   "id": "afcf7fc6-6b6d-431f-82a2-332b14d0acd5",
   "metadata": {
    "scrolled": true
   },
   "outputs": [],
   "source": [
    "# loading csv to df\n",
    "# Load the CSV into a DataFrame\n",
    "df_dtv_all_snb = pd.read_csv(\"xl_dtv_all_snb.csv\")\n",
    "df_dtv_all_snb_hdr = pd.read_csv(\"xl_dtv_all_snb_hdr.csv\")\n",
    "print(df_dtv_all_snb.columns)          \n",
    "df_dtv_all_snb_hdr.columns        # snr header names\n"
   ]
  },
  {
   "cell_type": "markdown",
   "id": "36800b71-d5f1-4d98-a05d-fd936258631a",
   "metadata": {
    "jp-MarkdownHeadingCollapsed": true
   },
   "source": [
    "#### 3.7 def get.dict returns value of the specified key of the dictionary."
   ]
  },
  {
   "cell_type": "markdown",
   "id": "bd3d0afc-1629-40c2-8b73-4c35a99cd22b",
   "metadata": {},
   "source": [
    "##### def snb_to_name(): # # afunction to get name"
   ]
  },
  {
   "cell_type": "code",
   "execution_count": null,
   "id": "f03be7de-c207-4c04-9832-c79117bbb8b5",
   "metadata": {},
   "outputs": [],
   "source": [
    "# get.dict returns value of the specified key of the dictionary.\n",
    "snb_to_name = dict(zip(df_dtv_all_snb.columns, df_dtv_all_snb_hdr.columns))\n"
   ]
  },
  {
   "cell_type": "markdown",
   "id": "4ab94f5d-b75d-435a-98c4-f1bac5fc10b3",
   "metadata": {},
   "source": [
    "##### def name_to_snb():     # afunction to get snb"
   ]
  },
  {
   "cell_type": "code",
   "execution_count": null,
   "id": "9e23e7ee-d67d-4e82-a3d9-602957ced3c7",
   "metadata": {},
   "outputs": [],
   "source": [
    "# get.dict returns value of the specified key of the dictionary.\n",
    "name_to_snb = dict(zip(df_dtv_all_snb_hdr.columns, df_dtv_all_snb.columns))"
   ]
  },
  {
   "cell_type": "code",
   "execution_count": null,
   "id": "00dbce24-a55c-4e27-ad9e-19d09e96ed0e",
   "metadata": {},
   "outputs": [],
   "source": [
    "# getting name \n",
    "name = snb_to_name.get(\"b005\")\n",
    "name"
   ]
  },
  {
   "cell_type": "code",
   "execution_count": null,
   "id": "165be90f-c47c-44b7-ba8c-9f72d85fe976",
   "metadata": {},
   "outputs": [],
   "source": [
    "# getting snb \n",
    "snb = name_to_snb.get(\"ECW\")\n",
    "snb"
   ]
  },
  {
   "cell_type": "code",
   "execution_count": null,
   "id": "39e32b6e-c5c0-40a8-90a9-304e9049864b",
   "metadata": {},
   "outputs": [],
   "source": [
    "# tested run batches https://copilot.microsoft.com/chats/RHdGn8EUxkZdd3d9MzpJR\n",
    "# Batch snb → name\n",
    "snb_list = [\"b004\", \"b006\",\"b005\"]\n",
    "names = [snb_to_name.get(snb, \"Unknown SNB\") for snb in snb_list]\n",
    "names"
   ]
  },
  {
   "cell_type": "code",
   "execution_count": null,
   "id": "8603c9d3-7a88-4814-ac83-1120cda76602",
   "metadata": {},
   "outputs": [],
   "source": [
    "# tested run batches https://copilot.microsoft.com/chats/RHdGn8EUxkZdd3d9MzpJ\n",
    "# Batch name → snb\n",
    "name_list = ['ICW', '10. DLM (Dry Lean Mass)', 'ECW']\n",
    "snb = [name_to_snb.get(name, \"Unknown Name\") for name in name_list]\n",
    "snb"
   ]
  },
  {
   "cell_type": "markdown",
   "id": "062c0168-97aa-4b10-a0dc-f2aa28569877",
   "metadata": {},
   "source": [
    "### 3.8 def Setup classes for \"snb\" as an example"
   ]
  },
  {
   "cell_type": "markdown",
   "id": "8b0ce9df-022d-4d51-a1cb-a115d3aca816",
   "metadata": {},
   "source": [
    "#### 4.0 Perfect the strategy and techniques to leverage classes\n",
    "***Set up classes to ***dat cols*** and ***grps*** so classes can be used to find data and to create ***grps for processing***"
   ]
  },
  {
   "cell_type": "markdown",
   "id": "aee6b6a3-645b-4c1b-b3db-e05a0c58556d",
   "metadata": {},
   "source": [
    "#### 4.1 Load xl_data for snb for setting up classes for snb"
   ]
  },
  {
   "cell_type": "code",
   "execution_count": null,
   "id": "784a0045-de51-41c5-acf6-b68f40356018",
   "metadata": {},
   "outputs": [],
   "source": [
    "# 4.1 loading csv to df\n",
    "# Load the CSV into a DataFrame\n",
    "df_dtv_all_snb = pd.read_csv(\"xl_dtv_all_snb.csv\")  # snb as hdrs\n",
    "df_dtv_all_snb_hdr = pd.read_csv(\"xl_dtv_all_snb_hdr.csv\")  # snb as hdrs"
   ]
  },
  {
   "cell_type": "markdown",
   "id": "05a3274d-e8e8-492e-abdd-24749a9ab94a",
   "metadata": {},
   "source": [
    "#### 4.2 Define the Class Hierarchy"
   ]
  },
  {
   "cell_type": "code",
   "execution_count": null,
   "id": "bb1ce490-a1c0-4909-8a7e-20392710eb9f",
   "metadata": {},
   "outputs": [],
   "source": [
    "#### 4.2 Define the Class Hierarchy\n",
    "class HealthMngmt:\n",
    "    def __init__(self, name):\n",
    "        self.name = name\n",
    "        "
   ]
  },
  {
   "cell_type": "code",
   "execution_count": null,
   "id": "24b7ce30-2540-430f-b1aa-fe93b3557075",
   "metadata": {},
   "outputs": [],
   "source": [
    "#### 2. Define the LifeStyle Class  # super().__init__(snb)\n",
    "class LifeStyle(HealthMngmt):\n",
    "    def __init__(self,serial_number , name, data_series, d_type, parent):\n",
    "        if not isinstance(data_series, pd.Series):\n",
    "            raise TypeError(\"data_series must be a pandas Series\")\n",
    "        super().__init__(name)\n",
    "        self.serial_number = serial_number\n",
    "        self.data = data_series\n",
    "        self.d_type = d_type\n",
    "        self.length = len(data_series)\n",
    "        self.parent = parent\n",
    "\n",
    "    def count_nan(self):\n",
    "        return self.data.isna().sum()           # counts \"isna\" \n",
    "\n",
    "    def average_value(self):                    \n",
    "        return self.data.dropna().mean()\n"
   ]
  },
  {
   "cell_type": "code",
   "execution_count": null,
   "id": "d76c6e6b-6b89-4554-a20d-888595d030fb",
   "metadata": {},
   "outputs": [],
   "source": [
    "#### 3. Define Parent Classes\n",
    "class Supplements(LifeStyle):\n",
    "   def __init__(self, serial_number, name, data_series, d_type):\n",
    "        super().__init__(serial_number, name, data_series, d_type, parent=\"Supplements\")\n",
    "\n",
    "class Food(LifeStyle):\n",
    "   def __init__(self, serial_number, name, data_series, d_type):\n",
    "        super().__init__(serial_number, name, data_series, d_type, parent=\"Food\")\n"
   ]
  },
  {
   "cell_type": "code",
   "execution_count": null,
   "id": "e8265252-10fc-474c-8115-018259f342f8",
   "metadata": {},
   "outputs": [],
   "source": [
    "#### Specific Child\n",
    "class CoQ10(Supplements):\n",
    "    def __init__(self, serial_number, name, data_series, d_type):\n",
    "        super().__init__(serial_number, name, data_series, d_type)"
   ]
  },
  {
   "cell_type": "code",
   "execution_count": null,
   "id": "ee25ee4e-e504-4526-bcfb-a3c69168e968",
   "metadata": {},
   "outputs": [],
   "source": [
    "#### 🧪 Example Usage\n",
    "# Example Usage\n",
    "coq10_obj = CoQ10(serial_number=\"b002\", name=\"CoQ10\", data_series=df_dtv_all_snb[\"b002\"], d_type=\"float\")\n",
    "print(\"Average:\", coq10_obj.average_value())"
   ]
  },
  {
   "cell_type": "markdown",
   "id": "08cf01d8-7563-457e-aaac-6ed869f03809",
   "metadata": {
    "jp-MarkdownHeadingCollapsed": true
   },
   "source": [
    "#### 4.3 type of variable"
   ]
  },
  {
   "cell_type": "code",
   "execution_count": null,
   "id": "eb09ac7c-49b8-4aeb-96e2-8c4e865d35b6",
   "metadata": {},
   "outputs": [],
   "source": [
    "#### type \n",
    "type(coq10_obj)\n"
   ]
  },
  {
   "cell_type": "markdown",
   "id": "66c62a5b-6f3f-4e02-8da9-089e54fdedb5",
   "metadata": {
    "jp-MarkdownHeadingCollapsed": true
   },
   "source": [
    "#### 4.4 basis =  child of"
   ]
  },
  {
   "cell_type": "code",
   "execution_count": null,
   "id": "938052f6-8f84-4c77-9b32-7563886143d9",
   "metadata": {},
   "outputs": [],
   "source": [
    "#### basis =  means child of\n",
    "Supplements.__bases__\n",
    "\n",
    "\n"
   ]
  },
  {
   "cell_type": "code",
   "execution_count": null,
   "id": "663cb6be-9964-41b6-b54a-825d97f2cefa",
   "metadata": {},
   "outputs": [],
   "source": [
    "\n",
    "LifeStyle.__bases__"
   ]
  },
  {
   "cell_type": "code",
   "execution_count": null,
   "id": "bb27b8f8-6b92-4a43-8cad-2c01d37ff3ca",
   "metadata": {},
   "outputs": [],
   "source": [
    "HealthMngmt.__bases__"
   ]
  },
  {
   "cell_type": "code",
   "execution_count": null,
   "id": "499ad2e9-21fe-463a-b239-65d6c85c670b",
   "metadata": {},
   "outputs": [],
   "source": [
    "type(coq10_obj).__bases__\n"
   ]
  },
  {
   "cell_type": "markdown",
   "id": "51708322-df4f-401e-ad79-a6c613a47baf",
   "metadata": {
    "jp-MarkdownHeadingCollapsed": true
   },
   "source": [
    "#### 4.5 calc order of priority which is order of inheritance"
   ]
  },
  {
   "cell_type": "code",
   "execution_count": null,
   "id": "3d2209da-761d-4a0f-ada8-620b12419b6f",
   "metadata": {},
   "outputs": [],
   "source": [
    "# calc order of priority which is orde of inheritance\n",
    "\n",
    "inspect.getmro(type(coq10_obj))\n"
   ]
  },
  {
   "cell_type": "markdown",
   "id": "0335a88c-c4ce-4cb7-aa7e-9179b55700e8",
   "metadata": {
    "jp-MarkdownHeadingCollapsed": true
   },
   "source": [
    "#### 4.6 Help "
   ]
  },
  {
   "cell_type": "code",
   "execution_count": null,
   "id": "250b4a5a-b6b3-4e42-8e68-363ebb95fd2b",
   "metadata": {
    "scrolled": true
   },
   "outputs": [],
   "source": [
    "help(coq10_obj)\n"
   ]
  },
  {
   "cell_type": "code",
   "execution_count": null,
   "id": "ac2a7315-3af0-4e21-a181-cca9b252ff01",
   "metadata": {},
   "outputs": [],
   "source": []
  },
  {
   "cell_type": "code",
   "execution_count": null,
   "id": "cfcfe99d-19b8-4c2e-b04e-9152f0f1cb95",
   "metadata": {},
   "outputs": [],
   "source": []
  },
  {
   "cell_type": "markdown",
   "id": "c9a8f443-69f2-47ef-81d8-9b1749654620",
   "metadata": {},
   "source": [
    "## 2.2 Functions to be proven and moved to a py module"
   ]
  },
  {
   "cell_type": "markdown",
   "id": "c9ae69d3-7c5a-41bd-8028-6e59ff93f78f",
   "metadata": {},
   "source": [
    "#  ====================="
   ]
  },
  {
   "cell_type": "markdown",
   "id": "5ef86bbb-3cbd-4556-92dd-f3fc44e12f51",
   "metadata": {},
   "source": [
    "# --------------Stop divider-----------------------"
   ]
  },
  {
   "cell_type": "markdown",
   "id": "cb2b4758-a7c1-4b12-bd37-d625f4ddd079",
   "metadata": {},
   "source": [
    "#  9.0 [not wrkng  or old junk]"
   ]
  }
 ],
 "metadata": {
  "kernelspec": {
   "display_name": "Python (scu)",
   "language": "python",
   "name": "scu"
  },
  "language_info": {
   "codemirror_mode": {
    "name": "ipython",
    "version": 3
   },
   "file_extension": ".py",
   "mimetype": "text/x-python",
   "name": "python",
   "nbconvert_exporter": "python",
   "pygments_lexer": "ipython3",
   "version": "3.11.13"
  }
 },
 "nbformat": 4,
 "nbformat_minor": 5
}
