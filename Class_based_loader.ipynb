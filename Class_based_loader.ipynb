{
 "cells": [
  {
   "cell_type": "markdown",
   "id": "332b3517-a7a0-4b86-8c46-7587cb743303",
   "metadata": {},
   "source": [
    "# Class-Based Loader as a means of Organizing and Calling def functions\n",
    "https://copilot.microsoft.com/shares/m2mrsKb4Xd5WmKzhdxBPz"
   ]
  },
  {
   "cell_type": "markdown",
   "id": "cf643cd1-ced4-49af-895d-065465c2e2ef",
   "metadata": {},
   "source": [
    "## Overview and introduction: Class-Based Loader"
   ]
  },
  {
   "cell_type": "markdown",
   "id": "bcd9a0a0-096d-42cc-b2a6-3d034c29ad4b",
   "metadata": {},
   "source": [
    "### Summary Is it possible to define the \"load pkl function\" as a method in a class?"
   ]
  },
  {
   "cell_type": "markdown",
   "id": "0cb6a626-40a9-4e2c-aadf-c507581cd76a",
   "metadata": {
    "jp-MarkdownHeadingCollapsed": true
   },
   "source": [
    "1. Absolutely—it’s not only possible, it’s often a great idea for modularity and reuse.\n",
    "3. You can encapsulate your load_pkl logic inside a class to manage paths,\n",
    "4.  metadata,\n",
    "5.   or even batch operations more cleanly.\n",
    "6.   Here's a scaffold tailored to your workflow: "
   ]
  },
  {
   "cell_type": "markdown",
   "id": "b54b0cbc-2d06-43f2-9ea5-e9223991ce50",
   "metadata": {},
   "source": [
    "## Mechanism of action  Class-Based Loader\n",
    "*https://copilot.microsoft.com/shares/1dCpisKUMAxMwFQ46aiND*"
   ]
  },
  {
   "cell_type": "markdown",
   "id": "b54d9f41-9a84-42f2-9a16-97e7bb1f66b8",
   "metadata": {},
   "source": [
    "### Example: Class-Based Loader\n",
    "1. Got it—you're asking how to exploit the mechanism of the Class-Based Loader example I gave earlier.\n",
    "2. Let’s break down the underlying mechanics so you can extend, dispatch, and round-trip your data modules."
   ]
  },
  {
   "cell_type": "markdown",
   "id": "bb8b25d5-38fb-4cdb-8f97-711a91a4dcfd",
   "metadata": {},
   "source": [
    "## Pilot expanation of mechanism of action"
   ]
  },
  {
   "cell_type": "markdown",
   "id": "cc0abeec-9e41-4550-89a8-8a4dac1ada08",
   "metadata": {},
   "source": [
    "#### How to **exploit the mechanism** of the `Class-Based Loader` example I gave earlier. Let’s break down the underlying mechanics so you can confidently extend, dispatch, and round-trip your data modules."
   ]
  },
  {
   "cell_type": "markdown",
   "id": "061f36de-5185-431d-abd6-2b0ec3b9d130",
   "metadata": {
    "jp-MarkdownHeadingCollapsed": true
   },
   "source": [
    "#### 1. **Encapsulation of Path Logic**\n",
    "The method `get_paths(bnm)` centralizes all file naming logic:\n",
    "- Keeps naming conventions consistent\n",
    "- Allows easy extension (e.g. add `.xlsx`, `.meta.json`, etc.)\n",
    "- Supports classification flags or overlays"
   ]
  },
  {
   "cell_type": "markdown",
   "id": "de3a5a95-7ac8-4baa-841a-ce578bb71c2d",
   "metadata": {
    "jp-MarkdownHeadingCollapsed": true
   },
   "source": [
    "#### 2. **Registry as Internal State**\n",
    "The class maintains a `self.registry` dictionary:\n",
    "- Keys are base names (`bnm`)\n",
    "- Values are structured payloads: `{ \"data\": obj, \"csv\": df }`\n",
    "- Enables batch loading, metadata tracking, and GUI overlays"
   ]
  },
  {
   "cell_type": "markdown",
   "id": "bc405748-ea99-4a50-9eaf-d42b59abfd92",
   "metadata": {
    "jp-MarkdownHeadingCollapsed": true
   },
   "source": [
    "#### 3. **Method Dispatch with Arguments**\n",
    "You call `loader.load(\"ad_sn\")` and it:\n",
    "- Computes paths via `get_paths(\"ad_sn\")`\n",
    "- Loads `.pkl` and `.csv` files\n",
    "- Stores them in `self.registry[\"ad_sn\"]`\n",
    "\n",
    "This is where your question about “where to insert the arg” fits:  \n",
    "**You insert the argument (`bnm`) when calling the method**, not when storing the method.\n",
    "\n",
    "---"
   ]
  },
  {
   "cell_type": "markdown",
   "id": "344cd1e7-3727-4349-84e4-d4eafde5cefb",
   "metadata": {},
   "source": [
    "## 🧠 Exploiting the Mechanism\n",
    "\n",
    "Here’s how you can extend and exploit this architecture:"
   ]
  },
  {
   "cell_type": "markdown",
   "id": "63e6f4fb-9fda-4cad-9b8c-02aed964aaf7",
   "metadata": {},
   "source": [
    "### 3 Add ons for the future\n",
    "\n",
    "Here’s how you can extend and exploit this architecture:"
   ]
  },
  {
   "cell_type": "markdown",
   "id": "44b24f79-8f5b-4253-a649-bb916e5b53c9",
   "metadata": {
    "jp-MarkdownHeadingCollapsed": true
   },
   "source": [
    "#### ✅ Add Save Functionality\n",
    "```python\n",
    "def save(self, bnm):\n",
    "    paths = self.get_paths(bnm)\n",
    "    obj = self.registry[bnm][\"data\"]\n",
    "    with open(paths[\"pkl\"], \"wb\") as f:\n",
    "        pickle.dump(obj, f)\n",
    "```"
   ]
  },
  {
   "cell_type": "markdown",
   "id": "6d719bff-3a39-4378-b665-ebfa787d572d",
   "metadata": {},
   "source": [
    "#### ✅ Add Metadata Flags\n",
    "Extend `get_paths()`:\n",
    "```python\n",
    "def get_paths(self, bnm):\n",
    "    return {\n",
    "        \"pkl\": f\"{self.base_dir}/{bnm}.pkl\",\n",
    "        \"csv\": f\"{self.base_dir}/{bnm}.csv\",\n",
    "        \"dict_key\": bnm,\n",
    "        \"flags\": {\n",
    "            \"is_rx\": \"rx\" in bnm,\n",
    "            \"is_sn\": \"sn\" in bnm\n",
    "        }\n",
    "    }\n",
    "```"
   ]
  },
  {
   "cell_type": "code",
   "execution_count": null,
   "id": "0fe157fc-0891-4004-ad79-14fd0b87d1de",
   "metadata": {
    "jp-MarkdownHeadingCollapsed": true
   },
   "outputs": [],
   "source": [
    "#### ✅ Add Excel Patch Logic\n",
    "```python\n",
    "def patch_from_excel(self, bnm, excel_path):\n",
    "    df_patch = pd.read_excel(excel_path)\n",
    "    self.registry[bnm][\"csv\"].update(df_patch)\n",
    "```"
   ]
  },
  {
   "cell_type": "markdown",
   "id": "ce559c6e-727b-4d6d-a18a-f323541a0bcc",
   "metadata": {
    "jp-MarkdownHeadingCollapsed": true
   },
   "source": [
    "### 🧩 3 Summary of the Mechanism\n",
    "| Component        | Role                                                                 |\n",
    "|------------------|----------------------------------------------------------------------|\n",
    "| `get_paths(bnm)` | Centralizes naming and metadata logic                                |\n",
    "| `load(bnm)`      | Loads `.pkl` and `.csv`, stores in registry                          |\n",
    "| `save(bnm)`      | Dumps object back to `.pkl`                                          |\n",
    "| `registry`       | Internal dictionary for round-trip access and metadata tracking      |\n",
    "| `batch_load()`   | Iterates over multiple base names for scalable ingestion             |"
   ]
  },
  {
   "cell_type": "markdown",
   "id": "50d36c07-8895-4cc7-ae7a-6210f4ad646f",
   "metadata": {},
   "source": [
    "### 3 Add ons for the future\n",
    "\n",
    "Here’s how you can extend and exploit this architecture:"
   ]
  },
  {
   "cell_type": "markdown",
   "id": "d8c63f2a-dcaf-4e43-a4b3-85a544573ae3",
   "metadata": {},
   "source": [
    "## 2 Implementation (class ResourceLoader:)"
   ]
  },
  {
   "cell_type": "markdown",
   "id": "af1fd075-7516-484d-b8f9-c9ef54836120",
   "metadata": {},
   "source": [
    "### 3 class definition scripts"
   ]
  },
  {
   "cell_type": "markdown",
   "id": "0ea3cd2f-93a4-448b-8016-144c9690638a",
   "metadata": {},
   "source": [
    "#### 4 def functions script  (from copilor)"
   ]
  },
  {
   "cell_type": "code",
   "execution_count": 1,
   "id": "0a91932c-8013-4fb4-a715-e4bb0a133bc8",
   "metadata": {},
   "outputs": [],
   "source": [
    "# Building the functions to be called from coPilot]\n",
    "import pickle\n",
    "import pandas as pd\n",
    "\n",
    "class ResourceLoader:\n",
    "    def __init__(self, base_dir=\"data\"):  #set base directory to data\n",
    "        self.base_dir = base_dir          # later add Repo directory\n",
    "        self.registry = {}\n",
    "\n",
    "    def get_paths(self, bnm):\n",
    "        return {\n",
    "            \"pkl\": f\"{self.base_dir}/{bnm}.pkl\",\n",
    "            \"csv\": f\"{self.base_dir}/{bnm}.csv\",  #change later\n",
    "            \"dict_key\": bnm\n",
    "        }\n",
    "\n",
    "    def load(self, bnm):\n",
    "        paths = self.get_paths(bnm)\n",
    "        with open(paths[\"pkl\"], \"rb\") as f:\n",
    "            obj = pickle.load(f)\n",
    "        df = pd.read_csv(paths[\"csv\"])\n",
    "        self.registry[paths[\"dict_key\"]] = {\n",
    "            \"data\": obj,\n",
    "            \"csv\": df\n",
    "        }\n",
    "\n",
    "    def batch_load(self, names):\n",
    "        for bnm in names:\n",
    "            self.load(bnm)\n"
   ]
  },
  {
   "cell_type": "markdown",
   "id": "9ac783c6-65ea-4053-9a23-6a9a50c59df0",
   "metadata": {},
   "source": [
    "#### 4 def functions script"
   ]
  },
  {
   "cell_type": "code",
   "execution_count": 2,
   "id": "0114beea-8d32-4467-969d-868bf1a6d52c",
   "metadata": {},
   "outputs": [],
   "source": [
    "import pickle\n",
    "import pandas as pd"
   ]
  },
  {
   "cell_type": "code",
   "execution_count": 3,
   "id": "9296943f-bf43-41e2-8518-908d1f63c077",
   "metadata": {},
   "outputs": [],
   "source": [
    " class ResourceLoader:             # defining the functions\n",
    "    def __init__(self, base_dir=\"data\"):\n",
    "        self.base_dir = base_dir\n",
    "        self.registry = {}\n",
    "\n",
    "    def get_paths(self, bnm):\n",
    "        return {\n",
    "            \"pkl\": f\"{self.base_dir}/{bnm}.pkl\",\n",
    "            \"csv\": f\"{self.base_dir}/{bnm}.csv\",\n",
    "            \"dict_key\": bnm\n",
    "        }\n",
    "\n",
    "    def load(self, bnm):\n",
    "        paths = self.get_paths(bnm)\n",
    "        with open(paths[\"pkl\"], \"rb\") as f:\n",
    "            obj = pickle.load(f)\n",
    "        df = pd.read_csv(paths[\"csv\"])\n",
    "        self.registry[paths[\"dict_key\"]] = {\n",
    "            \"data\": obj,\n",
    "            \"csv\": df\n",
    "        }\n",
    "\n",
    "    def batch_load(self, names):\n",
    "        for bnm in names:\n",
    "            self.load(bnm)"
   ]
  },
  {
   "cell_type": "markdown",
   "id": "1f9e6bc6-1140-4f99-899a-b8e83663ac0f",
   "metadata": {},
   "source": [
    "### 3 class usage"
   ]
  },
  {
   "cell_type": "markdown",
   "id": "289d1ed4-216f-4b44-8e93-c6c3600d7bd9",
   "metadata": {},
   "source": [
    "#### 4 defining the loader(path)"
   ]
  },
  {
   "cell_type": "code",
   "execution_count": 4,
   "id": "d59810c6-1774-4247-82be-7f3c37473c07",
   "metadata": {},
   "outputs": [],
   "source": [
    "loader = ResourceLoader(base_dir=\"data\")"
   ]
  },
  {
   "cell_type": "markdown",
   "id": "47f720db-0780-4677-b408-b115f4090065",
   "metadata": {},
   "source": [
    "#### 4 defining the loader extension loader.batch(list of arrays to be loaded)"
   ]
  },
  {
   "cell_type": "code",
   "execution_count": 5,
   "id": "6ab60ab1-51f3-4574-b1dc-498df79ea5a1",
   "metadata": {},
   "outputs": [],
   "source": [
    "#loader.batch_load([\"ad_sn\", \"ad_an\", \"ad_rx\"] # for more than one\n",
    "loader.batch_load([\"ad_sn\"])"
   ]
  },
  {
   "cell_type": "markdown",
   "id": "fc5c0661-f36d-4528-badb-5c227cab462f",
   "metadata": {},
   "source": [
    "#### Access like this"
   ]
  },
  {
   "cell_type": "code",
   "execution_count": 6,
   "id": "2db9d8ac-e27c-4f2d-b18c-276231d01492",
   "metadata": {},
   "outputs": [
    {
     "data": {
      "text/plain": [
       "'ad_sn'"
      ]
     },
     "execution_count": 6,
     "metadata": {},
     "output_type": "execute_result"
    }
   ],
   "source": [
    "# Access like this:\n",
    "loader.registry[\"ad_sn\"][\"data\"]\n",
    "#loader.registry[\"ad_sn\"][\"csv\"]\n"
   ]
  },
  {
   "cell_type": "code",
   "execution_count": 8,
   "id": "6ad0c1ee-04c2-4fb4-ab43-436f1b58683f",
   "metadata": {},
   "outputs": [
    {
     "data": {
      "text/html": [
       "<div>\n",
       "<style scoped>\n",
       "    .dataframe tbody tr th:only-of-type {\n",
       "        vertical-align: middle;\n",
       "    }\n",
       "\n",
       "    .dataframe tbody tr th {\n",
       "        vertical-align: top;\n",
       "    }\n",
       "\n",
       "    .dataframe thead th {\n",
       "        text-align: right;\n",
       "    }\n",
       "</style>\n",
       "<table border=\"1\" class=\"dataframe\">\n",
       "  <thead>\n",
       "    <tr style=\"text-align: right;\">\n",
       "      <th></th>\n",
       "      <th>dtv</th>\n",
       "      <th>s000</th>\n",
       "      <th>s001</th>\n",
       "      <th>s002</th>\n",
       "      <th>s003</th>\n",
       "      <th>s004</th>\n",
       "      <th>s005</th>\n",
       "    </tr>\n",
       "  </thead>\n",
       "  <tbody>\n",
       "    <tr>\n",
       "      <th>0</th>\n",
       "      <td>45860</td>\n",
       "      <td>2.0</td>\n",
       "      <td>NaN</td>\n",
       "      <td>NaN</td>\n",
       "      <td>NaN</td>\n",
       "      <td>NaN</td>\n",
       "      <td>NaN</td>\n",
       "    </tr>\n",
       "    <tr>\n",
       "      <th>1</th>\n",
       "      <td>45861</td>\n",
       "      <td>NaN</td>\n",
       "      <td>6.0</td>\n",
       "      <td>NaN</td>\n",
       "      <td>6.0</td>\n",
       "      <td>NaN</td>\n",
       "      <td>NaN</td>\n",
       "    </tr>\n",
       "    <tr>\n",
       "      <th>2</th>\n",
       "      <td>45862</td>\n",
       "      <td>NaN</td>\n",
       "      <td>NaN</td>\n",
       "      <td>NaN</td>\n",
       "      <td>NaN</td>\n",
       "      <td>NaN</td>\n",
       "      <td>NaN</td>\n",
       "    </tr>\n",
       "    <tr>\n",
       "      <th>3</th>\n",
       "      <td>45863</td>\n",
       "      <td>NaN</td>\n",
       "      <td>NaN</td>\n",
       "      <td>NaN</td>\n",
       "      <td>NaN</td>\n",
       "      <td>NaN</td>\n",
       "      <td>NaN</td>\n",
       "    </tr>\n",
       "    <tr>\n",
       "      <th>4</th>\n",
       "      <td>45864</td>\n",
       "      <td>NaN</td>\n",
       "      <td>NaN</td>\n",
       "      <td>NaN</td>\n",
       "      <td>NaN</td>\n",
       "      <td>NaN</td>\n",
       "      <td>NaN</td>\n",
       "    </tr>\n",
       "  </tbody>\n",
       "</table>\n",
       "</div>"
      ],
      "text/plain": [
       "     dtv  s000  s001  s002  s003  s004  s005\n",
       "0  45860   2.0   NaN   NaN   NaN   NaN   NaN\n",
       "1  45861   NaN   6.0   NaN   6.0   NaN   NaN\n",
       "2  45862   NaN   NaN   NaN   NaN   NaN   NaN\n",
       "3  45863   NaN   NaN   NaN   NaN   NaN   NaN\n",
       "4  45864   NaN   NaN   NaN   NaN   NaN   NaN"
      ]
     },
     "execution_count": 8,
     "metadata": {},
     "output_type": "execute_result"
    }
   ],
   "source": [
    "loader.registry[\"ad_sn\"][\"csv\"]"
   ]
  },
  {
   "cell_type": "raw",
   "id": "2120e53a-2fb4-483e-b118-66cf54086982",
   "metadata": {},
   "source": [
    "#RAW originAL RESOURCE LOADER FROM COPILOT\n",
    "import pickle\n",
    "import pandas as pd\n",
    "\n",
    "class ResourceLoader:\n",
    "    def __init__(self, base_dir=\"data\"):\n",
    "        self.base_dir = base_dir\n",
    "        self.registry = {}\n",
    "\n",
    "    def get_paths(self, bnm):\n",
    "        return {\n",
    "            \"pkl\": f\"{self.base_dir}/{bnm}.pkl\",\n",
    "            \"csv\": f\"{self.base_dir}/{bnm}.csv\",\n",
    "            \"dict_key\": bnm\n",
    "        }\n",
    "\n",
    "    def load(self, bnm):\n",
    "        paths = self.get_paths(bnm)\n",
    "        with open(paths[\"pkl\"], \"rb\") as f:\n",
    "            obj = pickle.load(f)\n",
    "        df = pd.read_csv(paths[\"csv\"])\n",
    "        self.registry[paths[\"dict_key\"]] = {\n",
    "            \"data\": obj,\n",
    "            \"csv\": df\n",
    "        }\n",
    "\n",
    "    def batch_load(self, names):\n",
    "        for bnm in names:\n",
    "            self.load(bnm)\n"
   ]
  },
  {
   "cell_type": "markdown",
   "id": "6c62d236-c87a-4ff1-99a8-5b84f12e3f9d",
   "metadata": {
    "jp-MarkdownHeadingCollapsed": true
   },
   "source": [
    "## Build a homade load using"
   ]
  }
 ],
 "metadata": {
  "kernelspec": {
   "display_name": "Python (scu)",
   "language": "python",
   "name": "scu"
  },
  "language_info": {
   "codemirror_mode": {
    "name": "ipython",
    "version": 3
   },
   "file_extension": ".py",
   "mimetype": "text/x-python",
   "name": "python",
   "nbconvert_exporter": "python",
   "pygments_lexer": "ipython3",
   "version": "3.11.13"
  }
 },
 "nbformat": 4,
 "nbformat_minor": 5
}
