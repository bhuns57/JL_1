{
 "cells": [
  {
   "cell_type": "code",
   "execution_count": 1,
   "id": "a23e2f66-9f6b-4299-a7e7-1de9dcd07b02",
   "metadata": {},
   "outputs": [],
   "source": [
    "%run ./sys_funcs.py  "
   ]
  },
  {
   "cell_type": "code",
   "execution_count": 2,
   "id": "21033314-7162-4091-a8a2-2b210afe18b4",
   "metadata": {},
   "outputs": [],
   "source": [
    "#%run ./sys_funcs.py              # loads all the def functions in ss_funcs.py into memory\n",
    "import sys_funcs                 # gives access to these def function digitalform that are in memory\n",
    "from pathlib import Path\n",
    "import csv\n",
    "import pandas as pd\n",
    "import numpy as np\n",
    "import tkinter as tk\n",
    "import pickle\n",
    "from pathlib import Path\n",
    "import csv\n",
    "import os\n",
    "import sys\n",
    "from sys_funcs import read_csv_to_array\n",
    "from sys_funcs import clean_wsl_path\n",
    "from sys_funcs import array_to_dt_row_dict\n",
    "from sys_funcs import make_blnk_update_row_dict\n",
    "from sys_funcs import transpose_csv_to_col_dict\n",
    "#from sys_funcs import update_values_with_config, get_update_result\n",
    "from sys_funcs import transfer_updates\n",
    "from sys_funcs import get_dtv_range"
   ]
  },
  {
   "cell_type": "code",
   "execution_count": 3,
   "id": "560ab5f1-f345-444d-9e35-b24ccca1a519",
   "metadata": {},
   "outputs": [],
   "source": [
    "%run ./sys_funcs.py  "
   ]
  },
  {
   "cell_type": "markdown",
   "id": "93bfc4b0-9336-43ac-a786-a2646e444975",
   "metadata": {},
   "source": [
    "***trial run of sliders function erase if move to .py***"
   ]
  },
  {
   "cell_type": "code",
   "execution_count": 4,
   "id": "f857522d-5633-43d9-a81f-b0f6970e5995",
   "metadata": {
    "jupyter": {
     "source_hidden": true
    }
   },
   "outputs": [],
   "source": [
    "import ipywidgets as widgets\n",
    "from IPython.display import display, clear_output\n",
    "import pickle\n",
    "\n",
    "def update_values_with_config(blnk_update_dt_row_dict, lut_serial_config, pickle_path=\"update_result.pkl\"):\n",
    "    update_dt_row_dict = {day: dict(serials) for day, serials in blnk_update_dt_row_dict.items()}\n",
    "    output = widgets.Output()\n",
    "    display(output)\n",
    "\n",
    "    form_items = []\n",
    "    slider_widgets = {}\n",
    "\n",
    "    for day, serials in update_dt_row_dict.items():\n",
    "        form_items.append(widgets.HTML(value=f\"<b>Day: {day}</b>\"))\n",
    "        for serial in serials:\n",
    "            config = lut_serial_config.get(serial, {})\n",
    "            if str(config.get('active', True)).lower() in ['no', 'false']:\n",
    "                continue\n",
    "            slider = widgets.FloatSlider(\n",
    "                value=config.get('value', 1),\n",
    "                min=config.get('min', 0),\n",
    "                max=config.get('max', 10),\n",
    "                step=config.get('step', 1) or 1,\n",
    "                description=f\"{config.get('name', serial)}:\",\n",
    "                layout=widgets.Layout(width='400px')\n",
    "            )\n",
    "            slider_widgets[(day, serial)] = slider\n",
    "            form_items.append(slider)\n",
    "\n",
    "    submit_button = widgets.Button(description=\"Submit\")\n",
    "\n",
    "    def on_submit(b):\n",
    "        for (day, serial), slider in slider_widgets.items():\n",
    "            update_dt_row_dict[day][serial] = slider.value\n",
    "\n",
    "        with open(pickle_path, \"wb\") as f:\n",
    "            pickle.dump(update_dt_row_dict, f)\n",
    "\n",
    "        with output:\n",
    "            clear_output()\n",
    "            print(\"✅ Update complete. Result saved to pickle.\")\n",
    "            print(\"📦 You can now retrieve it using `get_update_result()` in a new cell.\")\n",
    "\n",
    "    submit_button.on_click(on_submit)\n",
    "    form_items.append(submit_button)\n",
    "    form = widgets.VBox(form_items)\n",
    "\n",
    "    with output:\n",
    "        clear_output()\n",
    "        print(\"Adjust sliders for each active supplement. Suspended ones are skipped.\\n\")\n",
    "        display(form)\n"
   ]
  },
  {
   "cell_type": "code",
   "execution_count": 5,
   "id": "838aed1e-b5aa-4b8c-bf5b-8206c03dfefd",
   "metadata": {},
   "outputs": [],
   "source": [
    "def get_update_result(pickle_path=\"update_result.pkl\"):\n",
    "    import pickle\n",
    "    with open(pickle_path, \"rb\") as f:\n",
    "        result = pickle.load(f)\n",
    "    print(\"📤 Retrieved result from pickle:\")\n",
    "    return result\n"
   ]
  },
  {
   "cell_type": "markdown",
   "id": "6f0a3657-edde-412d-a6e5-d19d13e4062b",
   "metadata": {},
   "source": [
    "### *Clean a* **bnm_raw_path** *give a clean* **csv_path** *result*   [3]"
   ]
  },
  {
   "cell_type": "code",
   "execution_count": 6,
   "id": "32f43871-07b7-4590-9189-3fc4af19ab7d",
   "metadata": {},
   "outputs": [],
   "source": [
    "# clean \"bnm\" [raw file path = base_name.csl] to WSL clean path [csv_path])\n",
    "bnm_raw_path = \"bnm.csv\"\n",
    "# bnm_raw_path = \"lut_serial_config.csv\"\n",
    "csv_path = clean_wsl_path(bnm_raw_path)"
   ]
  },
  {
   "cell_type": "code",
   "execution_count": 7,
   "id": "66144289-57cb-4f9c-9e35-4efb5e5bbfb1",
   "metadata": {},
   "outputs": [
    {
     "data": {
      "text/plain": [
       "PosixPath('bnm.csv')"
      ]
     },
     "execution_count": 7,
     "metadata": {},
     "output_type": "execute_result"
    }
   ],
   "source": [
    "csv_path"
   ]
  },
  {
   "cell_type": "markdown",
   "id": "bc46e42d-a076-4cfa-87f2-72d5f0e87efb",
   "metadata": {},
   "source": [
    "### *Read a* **csv_path** *and give an* **array** *result*  [3]\n",
    "*when not concerned about WSL file path corruption\"*"
   ]
  },
  {
   "cell_type": "code",
   "execution_count": 8,
   "id": "7d66e70b-59ae-4dd1-922b-6f91cafc6241",
   "metadata": {},
   "outputs": [],
   "source": [
    "# Read array from csv_path\n",
    "array = read_csv_to_array(csv_path)\n"
   ]
  },
  {
   "cell_type": "code",
   "execution_count": 9,
   "id": "2c716de3-ddc6-4519-beea-f7218a7e8886",
   "metadata": {},
   "outputs": [
    {
     "data": {
      "text/plain": [
       "[['dtv', 's000', 's001', 's002', 's003', 's004'],\n",
       " ['45860', '', '', '', '', ''],\n",
       " ['45861', '', '', '', '', ''],\n",
       " ['45862', '', '8.0', '', '', ''],\n",
       " ['45863', '', '', '', '', ''],\n",
       " ['45864', '', '', '', '5.0', ''],\n",
       " ['45865', '', '', '', '', '']]"
      ]
     },
     "execution_count": 9,
     "metadata": {},
     "output_type": "execute_result"
    }
   ],
   "source": [
    "array"
   ]
  },
  {
   "cell_type": "markdown",
   "id": "8fb62661-974a-4110-9624-67e296dc1bc3",
   "metadata": {},
   "source": [
    "### *Read* **bnm_raw_path** and give an* **array** *result*   [3]\n",
    "*when **concerned** about WSL file path corruption\"*"
   ]
  },
  {
   "cell_type": "code",
   "execution_count": 10,
   "id": "882521da-456e-4de9-9511-e02bef8afec6",
   "metadata": {},
   "outputs": [],
   "source": [
    "# Read a \"csv file\" at \"bnm_raw_path\" to get an \"array\" from  bnm.csv file.\n",
    "bnm_raw_path = \"bnm.csv\"         \n",
    "csv_path = clean_wsl_path(bnm_raw_path)       # clean_wsl_path(bnm_raw_path) from cleaner function\n",
    "array = read_csv_to_array(csv_path)"
   ]
  },
  {
   "cell_type": "code",
   "execution_count": 11,
   "id": "0af2618b-21da-4f58-af64-1f5a9a9bc823",
   "metadata": {},
   "outputs": [
    {
     "data": {
      "text/plain": [
       "[['dtv', 's000', 's001', 's002', 's003', 's004'],\n",
       " ['45860', '', '', '', '', ''],\n",
       " ['45861', '', '', '', '', ''],\n",
       " ['45862', '', '8.0', '', '', ''],\n",
       " ['45863', '', '', '', '', ''],\n",
       " ['45864', '', '', '', '5.0', ''],\n",
       " ['45865', '', '', '', '', '']]"
      ]
     },
     "execution_count": 11,
     "metadata": {},
     "output_type": "execute_result"
    }
   ],
   "source": [
    "array"
   ]
  },
  {
   "cell_type": "markdown",
   "id": "5b6c16bf-48eb-4718-b168-6fae2e410ac3",
   "metadata": {},
   "source": [
    "### *Convert an*  **array** *and provide a* **row_dict** *result* [3]"
   ]
  },
  {
   "cell_type": "code",
   "execution_count": 12,
   "id": "4f03224f-3b2b-4923-a921-723ec97816b4",
   "metadata": {},
   "outputs": [],
   "source": [
    "# Convert an array_to a_dt_row_dict(array)\n",
    "#array = array\n",
    "dt_row_dict = array_to_dt_row_dict(array)    "
   ]
  },
  {
   "cell_type": "code",
   "execution_count": 13,
   "id": "ded0d6f5-68a2-4df2-bc03-c487bb7e0b25",
   "metadata": {
    "scrolled": true
   },
   "outputs": [
    {
     "data": {
      "text/plain": [
       "{'45860': {'s000': '', 's001': '', 's002': '', 's003': '', 's004': ''},\n",
       " '45861': {'s000': '', 's001': '', 's002': '', 's003': '', 's004': ''},\n",
       " '45862': {'s000': '', 's001': '8.0', 's002': '', 's003': '', 's004': ''},\n",
       " '45863': {'s000': '', 's001': '', 's002': '', 's003': '', 's004': ''},\n",
       " '45864': {'s000': '', 's001': '', 's002': '', 's003': '5.0', 's004': ''},\n",
       " '45865': {'s000': '', 's001': '', 's002': '', 's003': '', 's004': ''}}"
      ]
     },
     "execution_count": 13,
     "metadata": {},
     "output_type": "execute_result"
    }
   ],
   "source": [
    "dt_row_dict"
   ]
  },
  {
   "cell_type": "markdown",
   "id": "d4c4ca59-c401-495b-96cb-7af88d0ec762",
   "metadata": {},
   "source": [
    "### *Make update blnk dict* **\"blnk_update_row_dict\"** *is a blank* **update_dt_row_dict**  ready for **updates** to be manually inserted*        [3]"
   ]
  },
  {
   "cell_type": "code",
   "execution_count": 15,
   "id": "ba496cf1-ab30-4002-972a-e27955a0f74d",
   "metadata": {},
   "outputs": [
    {
     "name": "stdin",
     "output_type": "stream",
     "text": [
      "Enter beginning dtv:  45863\n",
      "Enter ending dtv:  45863\n"
     ]
    },
    {
     "name": "stdout",
     "output_type": "stream",
     "text": [
      "dtv range: [45863, 45863]\n"
     ]
    }
   ],
   "source": [
    "dtv = get_dtv_range()\n",
    "print(\"dtv range:\", dtv)"
   ]
  },
  {
   "cell_type": "code",
   "execution_count": null,
   "id": "8378f3c2-fcdc-4d0a-b0b4-b10b5d14439e",
   "metadata": {},
   "outputs": [],
   "source": [
    "# Enter the range of dates where updates will be made\n",
    "#dvt = [\"45861\", \"45865\"]\n",
    "row_dict = dt_row_dict\n",
    "blnk_update_dt_row_dict = dt_row_dict(row_dict, dvt)\n"
   ]
  },
  {
   "cell_type": "code",
   "execution_count": null,
   "id": "e84b9a70-aa79-4ae6-a59e-494dedda9b45",
   "metadata": {},
   "outputs": [],
   "source": [
    "blnk_update_dt_row_dict "
   ]
  },
  {
   "cell_type": "code",
   "execution_count": null,
   "id": "e95b6453-ee96-4d20-9c20-1c8a705a5598",
   "metadata": {},
   "outputs": [],
   "source": [
    "# In input_driver.ipynb\n",
    "with open(\"blnk_update_dt_row_dict.pkl\", \"wb\") as f:\n",
    "    pickle.dump(blnk_update_dt_row_dict, f)"
   ]
  },
  {
   "cell_type": "code",
   "execution_count": null,
   "id": "86f73a99-2080-48e7-9847-9dc56809cce0",
   "metadata": {},
   "outputs": [],
   "source": []
  },
  {
   "cell_type": "code",
   "execution_count": null,
   "id": "85435532-202e-4270-a36b-0b0c0caa43af",
   "metadata": {},
   "outputs": [],
   "source": [
    "# ====start next edit ===================================================strt"
   ]
  },
  {
   "cell_type": "code",
   "execution_count": null,
   "id": "1d467e80-cf29-4c3f-b854-018394cc0dd8",
   "metadata": {},
   "outputs": [],
   "source": [
    "#blnk_update_dt_row_dict"
   ]
  },
  {
   "cell_type": "code",
   "execution_count": null,
   "id": "47b34d3f-2d8e-418c-9440-24ade93a7496",
   "metadata": {},
   "outputs": [],
   "source": [
    "#--------------------------------------------------"
   ]
  },
  {
   "cell_type": "markdown",
   "id": "e2e14a83-f454-416c-88b4-70505d71fce7",
   "metadata": {},
   "source": [
    "### *Loading* **\"lut_serial_config\"** *.csv file into a* **dict of same name** *[osm]*  [3]"
   ]
  },
  {
   "cell_type": "code",
   "execution_count": null,
   "id": "1bc2f8b5-1f16-4a31-b52c-cbb5db012945",
   "metadata": {
    "jupyter": {
     "source_hidden": true
    }
   },
   "outputs": [],
   "source": [
    "# DEF DATA INPUT WITH SLIDERS || def update_values_with_config(blnk_update_dt_row_dict, lut_serial_config)\n",
    "import ipywidgets as widgets\n",
    "from IPython.display import display, clear_output\n",
    "\n",
    "def update_values_with_config(blnk_update_dt_row_dict, lut_serial_config):\n",
    "    update_dt_row_dict = blnk_update_dt_row_dict.copy()\n",
    "    output = widgets.Output()\n",
    "    display(output)\n",
    "\n",
    "    def build_form():\n",
    "        with output:\n",
    "            clear_output()\n",
    "            print(\"Adjust sliders for each active supplement. Suspended ones are skipped.\\n\")\n",
    "            form_items = []\n",
    "            slider_widgets = {}\n",
    "\n",
    "            for day, serials in update_dt_row_dict.items():\n",
    "                day_label = widgets.HTML(value=f\"<b>Day: {day}</b>\")\n",
    "                form_items.append(day_label)\n",
    "\n",
    "                for serial in serials:\n",
    "                    config = lut_serial_config.get(serial, {})\n",
    "                    active = config.get('active', True)\n",
    "                    if str(active).lower() in ['no', 'false']:\n",
    "                        continue  # Skip suspended supplements\n",
    "\n",
    "                    name = config.get('name', serial)\n",
    "                    value = config.get('value', 1)\n",
    "                    min_val = config.get('min', 0)\n",
    "                    max_val = config.get('max', 10)\n",
    "                    step_val = config.get('step', 1)\n",
    "\n",
    "                    slider = widgets.FloatSlider(\n",
    "                        value=value,\n",
    "                        min=min_val,\n",
    "                        max=max_val,\n",
    "                        step=step_val,\n",
    "                        description=f\"{name}:\",\n",
    "                        style={'description_width': 'initial'},\n",
    "                        layout=widgets.Layout(width='400px')\n",
    "                    )\n",
    "                    slider_widgets[(day, serial)] = slider\n",
    "                    form_items.append(slider)\n",
    "\n",
    "            if not slider_widgets:\n",
    "                form_items.append(widgets.HTML(value=\"<i>No active supplements to update.</i>\"))\n",
    "\n",
    "            submit_button = widgets.Button(description=\"Submit\")\n",
    "            form_items.append(submit_button)\n",
    "            form = widgets.VBox(form_items)\n",
    "            display(form)\n",
    "\n",
    "            def on_submit(b):\n",
    "                for (day, serial), slider in slider_widgets.items():\n",
    "                    update_dt_row_dict[day][serial] = slider.value\n",
    "                clear_output()\n",
    "                print(\"✅ Update complete. Here's the result:\")\n",
    "                print(update_dt_row_dict)\n",
    "\n",
    "            submit_button.on_click(on_submit)\n",
    "\n",
    "    build_form()\n"
   ]
  },
  {
   "cell_type": "code",
   "execution_count": null,
   "id": "f78b79d6-52dd-464e-a1db-89d26ea2757f",
   "metadata": {},
   "outputs": [],
   "source": [
    "# RUN: get array frm lut_serial_config: >>> clean \"bnm\" [raw file path = base_name.csl] to WSL clean path [csv_path])\n",
    "# bnm_raw_path = \"bnm.csv\"\n",
    "bnm_raw_path = \"lut_serial_config.csv\"\n",
    "csv_path = clean_wsl_path(bnm_raw_path)\n",
    "array = read_csv_to_array(csv_path)\n",
    "array"
   ]
  },
  {
   "cell_type": "code",
   "execution_count": null,
   "id": "88f8e159-d617-4a4b-b152-6a1672e4ace2",
   "metadata": {
    "scrolled": true
   },
   "outputs": [],
   "source": [
    "# call transpose lut from rows to cols\n",
    "csv_data = array\n",
    "lut_serial_config = transpose_csv_to_col_dict(csv_data)\n",
    "lut_serial_config"
   ]
  },
  {
   "cell_type": "markdown",
   "id": "395f7a4a-9879-4061-b58d-c0079a160cd2",
   "metadata": {},
   "source": [
    "### **Input function**         [3]\n",
    "*uses* **sliders** *to add* **updates** *to*  **blnk_update_dt_row_dict** *to fill* **update_dt_row_dict** *that is used to modify the* **dt_row_dict**"
   ]
  },
  {
   "cell_type": "code",
   "execution_count": null,
   "id": "eff4e81d-08ba-4d44-82d7-f550bfec2f5e",
   "metadata": {},
   "outputs": [],
   "source": [
    "blnk_update_dt_row_dict"
   ]
  },
  {
   "cell_type": "code",
   "execution_count": null,
   "id": "77f039fd-3520-467d-bb0a-06bce0cd7f3e",
   "metadata": {
    "scrolled": true
   },
   "outputs": [],
   "source": [
    "#update_values_with_config(blnk_update_dt_row_dict, lut_serial_config)"
   ]
  },
  {
   "cell_type": "code",
   "execution_count": null,
   "id": "968eca26-c59a-47fd-8427-e722a4b0dfce",
   "metadata": {},
   "outputs": [],
   "source": [
    "#result = get_update_result()\n",
    "result"
   ]
  },
  {
   "cell_type": "markdown",
   "id": "2e7f9eab-bf73-422d-9a94-7b25b06645ad",
   "metadata": {},
   "source": [
    "### **update** *the* **dt_row_dict**  *with the values from **update_dt_row_dict**"
   ]
  },
  {
   "cell_type": "code",
   "execution_count": null,
   "id": "56d316c9-0ce0-4f41-b32e-5291bc679864",
   "metadata": {},
   "outputs": [],
   "source": [
    "# Takes \"blnk_update_dt_row_dict\"  fills in values from sliders and results in \"update_dt_row_dict\"\n",
    "#update_values_with_config(blnk_update_dt_row_dict, lut_serial_config)"
   ]
  },
  {
   "cell_type": "code",
   "execution_count": null,
   "id": "06954dbc-9d28-47cf-ad5e-bf7742bacc5d",
   "metadata": {},
   "outputs": [],
   "source": [
    "dt_row_dict = transfer_updates(update_dt_row_dict, dt_row_dict)\n",
    "dt_row_dict\n"
   ]
  },
  {
   "cell_type": "markdown",
   "id": "7291164f-f9ab-4c58-a6b2-de9d51f7c4d3",
   "metadata": {},
   "source": [
    "# ================================================================"
   ]
  },
  {
   "cell_type": "raw",
   "id": "90a7c6a3-873b-4cac-969c-385d26fbd4b9",
   "metadata": {
    "jupyter": {
     "source_hidden": true
    }
   },
   "source": [
    "# RAW CALL INPUT DAT WITH LIDERS update_values_with_config(blnk_update_dt_row_dict, lut_serial_config)"
   ]
  },
  {
   "cell_type": "raw",
   "id": "3d584b24-08de-4b71-a864-1d3ae3954eb9",
   "metadata": {},
   "source": [
    "update_dt_row_dict "
   ]
  },
  {
   "cell_type": "raw",
   "id": "e99c3051-9672-46f4-899d-49cdf06aa326",
   "metadata": {
    "jupyter": {
     "source_hidden": true
    }
   },
   "source": [
    "# RAW CALL Read array from csv_path\n",
    "array = read_csv_to_array(csv_path)\n",
    "csv_path"
   ]
  },
  {
   "cell_type": "raw",
   "id": "c7b9ae7b-44de-43aa-8b95-1781bd6916e1",
   "metadata": {},
   "source": [
    "# RAW DEF transpose lut from rows to cols\n",
    "def transpose_csv_to_col_dict(csv_rows):\n",
    "    headers = csv_rows[0][1:]  # skip BOM or placeholder\n",
    "    col_dict = {}\n",
    "\n",
    "    for col_index, serial in enumerate(headers):\n",
    "        entry = {}\n",
    "        for row in csv_rows[1:]:\n",
    "            key = row[0].strip('\"')  # remove quotes\n",
    "            value = row[col_index + 1].strip('\"')\n",
    "            # Convert types if needed\n",
    "            if key in ['value', 'min', 'max', 'step']:\n",
    "                try:\n",
    "                    entry[key] = float(value) if '.' in value else int(value)\n",
    "                except ValueError:\n",
    "                    entry[key] = None\n",
    "            elif key == 'active':\n",
    "                entry[key] = value.lower() not in ['no', 'false', '0', '']\n",
    "            else:\n",
    "                entry[key] = value\n",
    "        col_dict[serial] = entry\n",
    "\n",
    "    return col_dict\n"
   ]
  }
 ],
 "metadata": {
  "kernelspec": {
   "display_name": "Python (scu)",
   "language": "python",
   "name": "scu"
  },
  "language_info": {
   "codemirror_mode": {
    "name": "ipython",
    "version": 3
   },
   "file_extension": ".py",
   "mimetype": "text/x-python",
   "name": "python",
   "nbconvert_exporter": "python",
   "pygments_lexer": "ipython3",
   "version": "3.11.13"
  }
 },
 "nbformat": 4,
 "nbformat_minor": 5
}
