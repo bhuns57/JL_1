{
 "cells": [
  {
   "cell_type": "code",
   "execution_count": 1,
   "id": "99252b4c-8da4-4ed7-bba1-55e9a23e83eb",
   "metadata": {},
   "outputs": [],
   "source": [
    "import pandas as pd\n",
    "import numpy as np\n",
    "import tkinter as tk\n",
    "import pickle\n",
    "import os\n",
    "from datetime import datetime\n",
    "## whie testing use:\n",
    "filename = \"array_dict\""
   ]
  },
  {
   "cell_type": "markdown",
   "id": "80de7351-a47d-48bf-a89f-cb5e33520ca8",
   "metadata": {},
   "source": [
    "# Script to Build and Save NumPy Dictionary\n",
    "__https://copilot.microsoft.com/shares/pages/EXixmQtcx3QwZXJvzsLNe"
   ]
  },
  {
   "cell_type": "code",
   "execution_count": 18,
   "id": "628df013-3a33-4903-935a-ad9810d247f0",
   "metadata": {},
   "outputs": [],
   "source": [
    "def build_array_dict(num_cols=1000, num_rows=15, dtv_start=45888, save_dir='data'):\n",
    "    \"\"\"\n",
    "    Builds an array_dict with serial-numbered keys and saves it to Pickle.\n",
    "    \n",
    "    Parameters:\n",
    "        num_cols (int): Number of dat_cols to generate\n",
    "        num_rows (int): Number of rows per dat_col\n",
    "        dtv_start (int): Starting value for dtv index\n",
    "        save_dir (str): Folder to save the Pickle file\n",
    "    \"\"\"\n",
    "    os.makedirs(save_dir, exist_ok=True)\n",
    "\n",
    "    # Create dtv index\n",
    "    dtv = list(range(dtv_start, dtv_start + num_rows))\n",
    "\n",
    "    # Build array_dict\n",
    "    array_dict = {}\n",
    "    for i in range(num_cols):\n",
    "        snr = f\"snm{i:04d}\"\n",
    "        array_dict[snr] = {\n",
    "            'data': np.full(num_rows, np.nan),\n",
    "            'dtv': dtv\n",
    "        }\n",
    "\n",
    "    # Save to Pickle\n",
    "    save_path = os.path.join(save_dir, 'array_dict_initial.pkl')\n",
    "    with open(save_path, 'wb') as f:\n",
    "        pickle.dump(array_dict, f)\n",
    "\n",
    "    print(f\"✅ array_dict with {num_cols} cols saved to: {save_path}\")\n",
    "    return array_dict\n"
   ]
  },
  {
   "cell_type": "code",
   "execution_count": 16,
   "id": "f1614f52-fd8f-4d13-86ee-d84444db5f88",
   "metadata": {
    "jupyter": {
     "source_hidden": true
    }
   },
   "outputs": [],
   "source": [
    "# this works but I it doesnt fit  my structure but can be modifiec\n",
    "def export_array_dict_metadata(array_dict, key='classification', save_dir='data', tag='v1'):\n",
    "    \"\"\"\n",
    "    Exports a metadata slice from array_dict to Excel for operator edits.\n",
    "\n",
    "    Parameters:\n",
    "        array_dict (dict): Your working dictionary\n",
    "        key (str): Metadata key to export (e.g., 'classification', 'method')\n",
    "        save_dir (str): Folder to save the Excel file\n",
    "        tag (str): Version tag for filename\n",
    "    \"\"\"\n",
    "    os.makedirs(save_dir, exist_ok=True)\n",
    "    timestamp = datetime.now().strftime('%Y%m%d_%H%M%S')\n",
    "\n",
    "    # Build DataFrame\n",
    "    df = pd.DataFrame({\n",
    "        'snr': list(array_dict.keys()),\n",
    "        key: [entry.get(key, '') for entry in array_dict.values()]\n",
    "    })\n",
    "\n",
    "    # Save to Excel\n",
    "    filename = f'{key}_review_{tag}_{timestamp}.xlsx'\n",
    "    filepath = os.path.join(save_dir, filename)\n",
    "    df.to_excel(filepath, index=False)\n",
    "\n",
    "    print(f\"📤 Exported '{key}' metadata to Excel: {filepath}\")\n",
    "    return filepath\n"
   ]
  },
  {
   "cell_type": "code",
   "execution_count": 17,
   "id": "af7ceca1-6a24-4743-b63c-d3d458150cf1",
   "metadata": {},
   "outputs": [
    {
     "name": "stdout",
     "output_type": "stream",
     "text": [
      "📤 Exported 'classification' metadata to Excel: data/classification_review_init_20250905_165553.xlsx\n"
     ]
    },
    {
     "data": {
      "text/plain": [
       "'data/classification_review_init_20250905_165553.xlsx'"
      ]
     },
     "execution_count": 17,
     "metadata": {},
     "output_type": "execute_result"
    }
   ],
   "source": [
    "export_array_dict_metadata(array_dict, key='classification', tag='init')\n"
   ]
  },
  {
   "cell_type": "markdown",
   "id": "6f6aeb4f-1f22-4df6-bf75-3ca6f929a712",
   "metadata": {},
   "source": []
  },
  {
   "cell_type": "code",
   "execution_count": null,
   "id": "5c1bc769-7a99-4da7-8fc2-c7da1f6d6df6",
   "metadata": {},
   "outputs": [],
   "source": []
  }
 ],
 "metadata": {
  "kernelspec": {
   "display_name": "Python (scu)",
   "language": "python",
   "name": "scu"
  },
  "language_info": {
   "codemirror_mode": {
    "name": "ipython",
    "version": 3
   },
   "file_extension": ".py",
   "mimetype": "text/x-python",
   "name": "python",
   "nbconvert_exporter": "python",
   "pygments_lexer": "ipython3",
   "version": "3.11.13"
  }
 },
 "nbformat": 4,
 "nbformat_minor": 5
}
