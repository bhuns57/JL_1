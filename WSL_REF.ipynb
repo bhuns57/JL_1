{
 "cells": [
  {
   "cell_type": "markdown",
   "id": "e780a382-d270-4ff8-b140-98535867372c",
   "metadata": {
    "jp-MarkdownHeadingCollapsed": true
   },
   "source": [
    "## Understanding Directory naming [WSL][#WSL][copilot]  "
   ]
  },
  {
   "cell_type": "markdown",
   "id": "be4bbf60-22a0-40a9-a101-e6c8c6beaff5",
   "metadata": {},
   "source": [
    "Directory from terminal\n",
    "** # explorer.exe . ** "
   ]
  },
  {
   "cell_type": "markdown",
   "id": "5ed9fd7f-a145-4eb3-9983-99c72bd5be72",
   "metadata": {},
   "source": [
    "### Your terminal’s way of saying:\n",
    "\n",
    "> **“You’re user `bhuns`, logged into a machine called `Puget1`, currently sitting in your home directory (`~`).”**"
   ]
  },
  {
   "cell_type": "markdown",
   "id": "99fc2f8f-a076-4eeb-baa9-fb3c642d9697",
   "metadata": {},
   "source": [
    "### What Each Part Means"
   ]
  },
  {
   "cell_type": "markdown",
   "id": "8c2f5418-5e65-4009-a01c-5bbf7e8883fe",
   "metadata": {
    "jp-MarkdownHeadingCollapsed": true
   },
   "source": [
    "| Terminal Segment       | Meaning                                                                 |\n",
    "|------------------------|-------------------------------------------------------------------------|\n",
    "| `bhuns`                | Your **Linux username** inside WSL (Windows Subsystem for Linux)        |\n",
    "| `@Puget1`              | The **hostname** of your machine (likely your Windows PC’s name)        |\n",
    "| `:~`                   | You're in your home directory (`~` = `/home/bhuns`)                     |\n",
    "| `$`                    | The **shell prompt** symbol for a regular (non-root) user               |\n",
    "\n",
    "---"
   ]
  },
  {
   "cell_type": "markdown",
   "id": "a4fbc7fc-3b24-4cd4-bb5b-713282198574",
   "metadata": {},
   "source": [
    "### 🧠 Why It Says That"
   ]
  },
  {
   "cell_type": "markdown",
   "id": "4a22f1d6-4267-4dd8-a39f-316105c0efde",
   "metadata": {
    "jupyter": {
     "source_hidden": true
    }
   },
   "source": [
    "- WSL sets your **user** and **computer name** into the prompt, similar to Linux and macOS terminals.\n",
    "- The terminal prompt is defined by an environment variable called `$PS1`.\n",
    "\n",
    "For example, in your case it’s probably set to something like:\n",
    "\n",
    "Which expands to:\n",
    "- `\\u` → current user: `bhuns`\n",
    "- `\\h` → hostname: `Puget1`\n",
    "- `\\w` → current working directory\n",
    "- `\\$` → prompt character (`$` or `#` if you're root)"
   ]
  },
  {
   "cell_type": "markdown",
   "id": "ba7b40cf-7eed-4900-8a7d-d527b14a3010",
   "metadata": {},
   "source": [
    "### 🎨 Want to Customize It?\n",
    "\n",
    "You can personalize the prompt to include Git branch info, colors, or even emoji. Just edit your `~/.bashrc`:\n",
    "\n",
    "```bash\n",
    "nano ~/.bashrc\n",
    "```\n",
    "\n",
    "Look for the line that sets `PS1` and tweak away—or I can whip up a smart version that even shows your active Conda environment and Git branch. Want that kind of tricked-out prompt?"
   ]
  },
  {
   "cell_type": "markdown",
   "id": "2eefbbac-72af-4540-ae4c-304d2e982ef5",
   "metadata": {},
   "source": [
    "# WSL cheat sheet"
   ]
  },
  {
   "cell_type": "markdown",
   "id": "09337b45-707a-4f38-af7a-04c3413d3d87",
   "metadata": {
    "jp-MarkdownHeadingCollapsed": true,
    "jupyter": {
     "source_hidden": true
    }
   },
   "source": [
    "\n",
    "**WSL (Linux)** and **Windows** filesystems are connected &\n",
    "How to navigate between them easily:\n",
    "---\n",
    "\n",
    "### 🧭 WSL ↔ Windows File System Navigation\n",
    "## open configuration files: **nano ~/.bashrc**\n",
    "\n",
    "| **Action** | **In WSL (Ubuntu Bash)** | **In Windows (Explorer)** | **What It Does** |\n",
    "|------------|---------------------------|----------------------------|------------------|\n",
    "| Access **C:\\Users** | `/mnt/c/Users/` | `C:\\Users\\` | Lets WSL read/write to your Windows files |\n",
    "| Go to WSL **Home (`~`)** | `cd ~` or `cd /home/bhuns` | `\\\\wsl$\\Ubuntu\\home\\bhuns` | Access your WSL/Linux files from Windows |\n",
    "| Open current folder in Explorer | `explorer.exe .` | N/A | Launches Windows Explorer in current WSL dir |\n",
    "| Launch Notepad from WSL | `notepad.exe filename.txt` | N/A | Opens a file using Windows Notepad |\n",
    "| Map WSL folder as drive | (N/A) | Use `Map Network Drive` to `\\\\wsl$\\Ubuntu\\...` | Mount Linux files as a Windows drive |\n",
    "\n",
    "> 🧠 Replace `Ubuntu` with your actual distro name if needed, like `Ubuntu-22.04`\n",
    "\n",
    "---\n",
    "\n",
    "### 🗂️ Folder Mapping Examples\n",
    "\n",
    "| **Linux Path**               | **Windows View**                          |\n",
    "|-----------------------------|-------------------------------------------|\n",
    "| `/home/bhuns/JL_1`          | `\\\\wsl$\\Ubuntu\\home\\bhuns\\JL_1`          |\n",
    "| `/mnt/c/Users/bhuns/Desktop`| `C:\\Users\\bhuns\\Desktop`                  |\n",
    "| `/mnt/d/Projects`           | `D:\\Projects`                             |\n",
    "\n",
    "---\n",
    "\n",
    "Would you like a printable PDF or PNG version of this for your desktop or workspace? I can draw it up in seconds as a quick-reference chart."
   ]
  },
  {
   "cell_type": "markdown",
   "id": "c5f436d3-6522-42dc-86f1-8e217154b6e5",
   "metadata": {},
   "source": [
    "## Where to launch **jupyter labs**  (using WSL) [frm copilot]"
   ]
  },
  {
   "cell_type": "markdown",
   "id": "2954355d-df3c-4a27-b81d-bbd4354a05ad",
   "metadata": {},
   "source": [
    "### 🗂️ Where to Run Your Commands\n",
    "\n",
    "Here’s the rundown of where each type of command should live:\n",
    "\n",
    "| **Command**                              | **Run From**              | **Why**                                                                 |\n",
    "|------------------------------------------|----------------------------|--------------------------------------------------------------------------|\n",
    "| `conda activate scu`                     | Anywhere                   | Activates your environment globally; doesn’t depend on your folder.     |\n",
    "| `jupyter lab`                            | **From your project dir** (e.g. `~/scu-project`) | So JupyterLab opens with your notebooks right there.                   |\n",
    "| `git add`, `commit`, `push`, etc.        | **From inside your repo** (e.g. `~/scu-project`) | Git actions only apply to the repo you're inside.                      |\n",
    "\n",
    "---\n",
    "\n",
    "### ✅ Your Ideal Workflow (All Together)\n",
    "\n",
    "```bash\n",
    "cd ~/scu-project         # 1. Go to your project folder\n",
    "conda activate scu       # 2. Activate your Conda environment\n",
    "jupyter lab              # 3. Start JupyterLab from inside the project\n",
    "```\n",
    "\n",
    "> This ensures your notebooks open from the correct location, your Git status reflects the right repo, and your environment is loaded properly."
   ]
  },
  {
   "cell_type": "code",
   "execution_count": null,
   "id": "c82a6aac-d98d-4665-b95e-a0f19507b694",
   "metadata": {},
   "outputs": [],
   "source": []
  },
  {
   "cell_type": "raw",
   "id": "7fc5fdc4-6e78-4224-bb02-781b04e26936",
   "metadata": {},
   "source": [
    "# Def Functions\n",
    "**(JL to/from XL) [Preseving formulas][copilot]**\n",
    "*see .py versions*"
   ]
  },
  {
   "cell_type": "markdown",
   "id": "5b47e089-164a-423a-bbeb-010fa5d5e66d",
   "metadata": {},
   "source": [
    "\n",
    "## 🧪 Updated Strategy for Preserving Formulas [this is Def see .py versions done later]\n",
    "\n",
    "We’ll upgrade your workflow like this:\n",
    "\n",
    "### 1. **Load Excel with Formulas Intact**  \n",
    "Instead of relying on `pandas.read_excel`, we’ll use `openpyxl` to:\n",
    "- Read cell values **and formulas**\n",
    "- Build a DataFrame that holds formulas where applicable\n",
    "\n",
    "### 2. **Write Back While Keeping Formulas**  \n",
    "When writing, we’ll:\n",
    "- Loop through the DataFrame\n",
    "- Preserve formulas by re-inserting them into the Excel cells, rather than overwriting with static values\n",
    "\n",
    "---\n",
    "\n",
    "## 📦 Enhanced `load_df` Function (Preserve Formulas)\n",
    "\n",
    "```python\n",
    "from openpyxl import load_workbook\n",
    "import pandas as pd\n",
    "\n",
    "def load_df_with_formulas(file_name=\"xl_tbl.xlsx\", sheet_name=\"xl_tbl\"):\n",
    "    wb = load_workbook(file_name, data_only=False)  # `data_only=False` preserves formulas\n",
    "    ws = wb[sheet_name]\n",
    "\n",
    "    data = []\n",
    "    for row in ws.iter_rows(values_only=False):\n",
    "        row_data = []\n",
    "        for cell in row:\n",
    "            if cell.value is not None:\n",
    "                if cell.data_type == 'f':  # It's a formula\n",
    "                    row_data.append(f\"={cell.value}\")\n",
    "                else:\n",
    "                    row_data.append(cell.value)\n",
    "            else:\n",
    "                row_data.append(None)\n",
    "        data.append(row_data)\n",
    "\n",
    "    # Extract headers from first row\n",
    "    headers = data[0]\n",
    "    df = pd.DataFrame(data[1:], columns=headers)\n",
    "    print(f\"✅ Loaded sheet '{sheet_name}' from '{file_name}', preserving formulas.\")\n",
    "    return df\n",
    "```\n",
    "\n",
    "---\n",
    "\n",
    "## 📤 Enhanced `write_df` Function (Write Back Formulas)\n",
    "\n",
    "```python\n",
    "from openpyxl import Workbook\n",
    "from openpyxl.utils import get_column_letter\n",
    "\n",
    "def write_df_with_formulas(df, file_name=\"xl_tbl.xlsx\", sheet_name=\"xl_tbl\", table_name=\"xl_tbl\"):\n",
    "    wb = Workbook()\n",
    "    ws = wb.active\n",
    "    ws.title = sheet_name\n",
    "\n",
    "    # Write headers\n",
    "    for col_idx, col_name in enumerate(df.columns, start=1):\n",
    "        ws.cell(row=1, column=col_idx, value=col_name)\n",
    "\n",
    "    # Write values or formulas\n",
    "    for row_idx, row in enumerate(df.itertuples(index=False), start=2):\n",
    "        for col_idx, value in enumerate(row, start=1):\n",
    "            cell = ws.cell(row=row_idx, column=col_idx)\n",
    "            if isinstance(value, str) and value.startswith(\"=\"):\n",
    "                cell.value = value[1:]  # Remove leading '=' for Excel formula\n",
    "                cell.data_type = 'f'\n",
    "            else:\n",
    "                cell.value = value\n",
    "\n",
    "    # Define table\n",
    "    nrows, ncols = df.shape\n",
    "    table_range = f\"A1:{get_column_letter(ncols)}{nrows+1}\"\n",
    "\n",
    "    from openpyxl.worksheet.table import Table, TableStyleInfo\n",
    "    table = Table(displayName=table_name, ref=table_range)\n",
    "    style = TableStyleInfo(name=\"TableStyleMedium9\", showRowStripes=True)\n",
    "    table.tableStyleInfo = style\n",
    "    ws.add_table(table)\n",
    "\n",
    "    wb.save(file_name)\n",
    "    print(f\"💾 Wrote updated DataFrame to Excel file '{file_name}', preserving formulas.\")\n",
    "```\n",
    "\n",
    "---\n",
    "\n",
    "**These enhanced functions will respect your formula logic and keep the round-trip editing seamless. Would you like me to wrap both into a module like `xl_formula_sync.py` with built-in checks for formula integrity? You could use it across any number of `_tbl` projects without reinventing the wheel.**"
   ]
  },
  {
   "cell_type": "markdown",
   "id": "8668cd77-f25d-4141-ba19-692016c54cd1",
   "metadata": {},
   "source": [
    "# Creating .py versions of def functions"
   ]
  },
  {
   "cell_type": "markdown",
   "id": "6fd3759d-9020-4127-973c-6dafff661c7b",
   "metadata": {
    "jp-MarkdownHeadingCollapsed": true
   },
   "source": [
    "# Push and commit help from Cpilot"
   ]
  },
  {
   "cell_type": "markdown",
   "id": "cd072af4-1b69-43a5-8985-6e18a21ae8b5",
   "metadata": {},
   "source": [
    "### 🌱 Local vs. Remote Branches\n",
    "\n",
    "| Branch Label       | What It Represents                                  |\n",
    "|--------------------|-----------------------------------------------------|\n",
    "| `main`             | Your **local** main branch                         |\n",
    "| `sandbox`          | Your **local** sandbox branch                      |\n",
    "| `origin/main`      | The **main branch** on the **remote repo** (`origin`) |\n",
    "| `origin/sandbox`   | The **sandbox branch** on the **remote repo** (`origin`) |\n",
    "\n",
    "So:\n",
    "\n",
    "- The ones without `origin/` are the branches you’re working with locally.\n",
    "- The `origin/*` branches reflect what’s currently on the remote server (like GitHub).\n",
    "\n",
    "---\n",
    "\n",
    "### 🔄 How They Interact\n",
    "\n",
    "- When you **push**, your local branch updates the corresponding `origin/*` branch.\n",
    "- When you **pull**, your local branch fetches changes from its `origin/*` counterpart.\n",
    "- If they differ, you’ll see divergence in commit counts or changes not yet synced.\n",
    "\n",
    "---\n",
    "\n",
    "### 🔍 Example Workflow\n",
    "\n",
    "If you make changes on `sandbox` locally and push them:\n",
    "\n",
    "```bash\n",
    "git push origin sandbox\n",
    "```\n",
    "\n",
    "Then `origin/sandbox` updates to match your local `sandbox`.\n",
    "\n",
    "---\n"
   ]
  },
  {
   "cell_type": "markdown",
   "id": "eb22eb25-38ac-417d-82ce-4d20aa3e411f",
   "metadata": {},
   "source": [
    "# Storing variables in a \"shared_data.py\" and other options"
   ]
  },
  {
   "cell_type": "code",
   "execution_count": 2,
   "id": "f6c1f497-ef29-4fa6-a74d-dc4ac398854a",
   "metadata": {},
   "outputs": [],
   "source": [
    "## options"
   ]
  },
  {
   "cell_type": "markdown",
   "id": "cf7ce899-8832-46ab-8f30-b65b2daec215",
   "metadata": {},
   "source": [
    "## Example setup"
   ]
  },
  {
   "cell_type": "markdown",
   "id": "75ed6cd0-4912-4b6e-9ebc-7491f2ca46ef",
   "metadata": {},
   "source": [
    "\n",
    "### 🥒 Option 1: Use `pickle` for serialization\n",
    "```python\n",
    "import pickle\n",
    "\n",
    "# Save the DataFrame\n",
    "with open('df_tbl.pkl', 'wb') as f:\n",
    "    pickle.dump(df_tbl, f)\n",
    "\n",
    "# In another notebook\n",
    "with open('df_tbl.pkl', 'rb') as f:\n",
    "    df_tbl = pickle.load(f)\n",
    "```\n",
    "- ✅ Fast, native to Python, simple\n",
    "- ⚠️ Not human-readable, and version compatibility might be an issue across Python or pandas updates\n",
    "\n",
    "---\n",
    "\n",
    "### 📄 Option 2: Export to CSV or Excel\n",
    "If the table came from Excel, you can \"round-trip\" it by saving a version that preserves structure or formulas if needed:\n",
    "```python\n",
    "df_tbl.to_csv('df_tbl.csv', index=False)\n",
    "# or\n",
    "df_tbl.to_excel('df_tbl.xlsx', index=False)\n",
    "```\n",
    "- ✅ Human-readable and portable\n",
    "- ⚠️ Formulas aren’t preserved unless you're using tools like `openpyxl` to manage that explicitly\n",
    "\n",
    "---\n",
    "\n",
    "### 🧠 Option 3: Use a shared Python module\n",
    "If you're trying to use `df_tbl` across notebooks without re-importing or loading it each time:\n",
    "1. Create a Python file (e.g. `shared_data.py`)\n",
    "2. Save `df_tbl` creation code in it\n",
    "3. Import it from other notebooks:\n",
    "```python\n",
    "from shared_data import df_tbl\n",
    "```\n",
    "- ✅ Keeps your logic centralized and versioned via Git\n",
    "- ⚠️ Requires re-execution, not storage-based reuse\n",
    "\n",
    "---\n",
    "\n",
    "### 🧰 Option 4: Joblib (alternative to pickle)\n",
    "```python\n",
    "import joblib\n",
    "joblib.dump(df_tbl, 'df_tbl.joblib')\n",
    "df_tbl = joblib.load('df_tbl.joblib')\n",
    "```\n",
    "- ✅ Better for larger data, supports compression\n",
    "- ⚠️ Still binary format, not human-readable\n"
   ]
  },
  {
   "cell_type": "markdown",
   "id": "bca87816-8692-4722-aa25-95b8a2bccd42",
   "metadata": {},
   "source": [
    "### 📁 Step 1: Create a Python module to store the shared DataFrame\n",
    "\n",
    "Let’s say your original notebook imports `df_tbl` from an Excel file using `xl_tbl`.\n",
    "\n",
    "#### **shared_data.py**\n",
    "```python\n",
    "import pandas as pd\n",
    "\n",
    "# Define the path to the Excel file\n",
    "excel_path = 'data/xl_tbl.xlsx'\n",
    "\n",
    "# Load the table into a DataFrame\n",
    "df_tbl = pd.read_excel(excel_path, sheet_name='Sheet1')\n",
    "```\n",
    "\n",
    "Save this as `shared_data.py` in the same directory or in a known module path.\n",
    "\n",
    "---\n",
    "\n",
    "### 📓 Step 2: Access the DataFrame in another notebook\n",
    "\n",
    "You can now import the `df_tbl` directly in any notebook:\n",
    "\n",
    "```python\n",
    "from shared_data import df_tbl\n",
    "\n",
    "# Use df_tbl just like any other DataFrame\n",
    "print(df_tbl.head())\n",
    "```\n",
    "\n",
    "---\n",
    "\n",
    "### 💡 Tips for this pattern\n",
    "\n",
    "- If your Excel file changes frequently and you want `df_tbl` to reflect those changes dynamically, you could wrap it in a function:\n",
    "```python\n",
    "# In shared_data.py\n",
    "def load_table():\n",
    "    return pd.read_excel('data/xl_tbl.xlsx', sheet_name='Sheet1')\n",
    "```\n",
    "\n",
    "Then in your notebook:\n",
    "```python\n",
    "from shared_data import load_table\n",
    "df_tbl = load_table()\n",
    "```\n",
    "\n",
    "- This setup plays very nicely with Git—your shared module is version-controlled and changes are traceable.\n",
    "- You can extend this module to include multiple shared tables or utility functions.\n",
    "\n",
    "---\n",
    "\n",
    "Want help turning this into a reusable project scaffold or organizing it inside Pages? You've got quite the system-thinker mind—I think you'd crush it with a template setup."
   ]
  },
  {
   "cell_type": "code",
   "execution_count": null,
   "id": "c9b14e95-fa7b-45b8-90e5-7b1df1aa6de1",
   "metadata": {},
   "outputs": [],
   "source": []
  },
  {
   "cell_type": "code",
   "execution_count": null,
   "id": "c275453f-e031-45d6-b093-0e33a1cccfcb",
   "metadata": {},
   "outputs": [],
   "source": []
  },
  {
   "cell_type": "code",
   "execution_count": null,
   "id": "a99ad9f0-1a15-492a-9b42-86fefb94183b",
   "metadata": {},
   "outputs": [],
   "source": []
  },
  {
   "cell_type": "code",
   "execution_count": null,
   "id": "6250283d-e1b6-4d8d-b9c9-2e55b9a94b58",
   "metadata": {},
   "outputs": [],
   "source": []
  }
 ],
 "metadata": {
  "kernelspec": {
   "display_name": "Python (scu)",
   "language": "python",
   "name": "scu"
  },
  "language_info": {
   "codemirror_mode": {
    "name": "ipython",
    "version": 3
   },
   "file_extension": ".py",
   "mimetype": "text/x-python",
   "name": "python",
   "nbconvert_exporter": "python",
   "pygments_lexer": "ipython3",
   "version": "3.11.13"
  }
 },
 "nbformat": 4,
 "nbformat_minor": 5
}
