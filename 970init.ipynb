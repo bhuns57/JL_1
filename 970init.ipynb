{
 "cells": [
  {
   "cell_type": "markdown",
   "id": "ac28a09a-0f71-4510-9009-975f58c633fe",
   "metadata": {},
   "source": [
    "# 970 integration       [1]"
   ]
  },
  {
   "cell_type": "markdown",
   "id": "4a228357-f2ff-403b-9094-60157d94596b",
   "metadata": {
    "jp-MarkdownHeadingCollapsed": true
   },
   "source": [
    "## Simplified load_csv_to_dict features[2]"
   ]
  },
  {
   "cell_type": "markdown",
   "id": "17d5ca1e-e740-417f-b015-e1941acdbf12",
   "metadata": {},
   "source": [
    "1. **Path():**   *from pathlib import Path*\n",
    "2. **csv.DictReader(file):**  *import csv*\n",
    "3. **dtv** *index*  *many*  **np.cols**"
   ]
  },
  {
   "cell_type": "markdown",
   "id": "dda37008-d24e-408e-92f1-aa067fc5bd1a",
   "metadata": {},
   "source": [
    "## Importing dat_dicts ib970  & ib770 [2]"
   ]
  },
  {
   "cell_type": "markdown",
   "id": "0d6cc3bd-f7f7-444b-8578-a8add0e84ed6",
   "metadata": {},
   "source": [
    "### Tools         [3]"
   ]
  },
  {
   "cell_type": "markdown",
   "id": "4d034932-4106-4aef-a464-8c7783f8c7f9",
   "metadata": {
    "jp-MarkdownHeadingCollapsed": true
   },
   "source": [
    "#### Link with Evenote          [4]"
   ]
  },
  {
   "cell_type": "markdown",
   "id": "aa2645cb-7e07-4a8e-a3ea-aeaca31d8273",
   "metadata": {},
   "source": [
    "**Link with evernote to bring in document text and images**\n",
    "1. Make a note in evernote app\n",
    "2. Open evernote web and copy the link\n",
    "3. Go JL and paste it in  Markdown cell with explanations\n",
    "4. Edit at will when linked back "
   ]
  },
  {
   "cell_type": "markdown",
   "id": "fa8d1a49-abae-4fd1-b4a0-798eba569283",
   "metadata": {
    "jp-MarkdownHeadingCollapsed": true
   },
   "source": [
    "#### Find repo           [4]"
   ]
  },
  {
   "cell_type": "code",
   "execution_count": 12,
   "id": "79c31f41-44b2-4b10-8c6c-195d62545074",
   "metadata": {},
   "outputs": [
    {
     "data": {
      "text/plain": [
       "PosixPath('/home/bhuns/JL_1')"
      ]
     },
     "execution_count": 12,
     "metadata": {},
     "output_type": "execute_result"
    }
   ],
   "source": [
    "Path.cwd()"
   ]
  },
  {
   "cell_type": "markdown",
   "id": "6e8b4b85-0a55-43d2-b045-39ac9e37aba4",
   "metadata": {},
   "source": [
    "#### **Move_file** *to* **repo** *from* **explorer** [4] "
   ]
  },
  {
   "cell_type": "markdown",
   "id": "1bed5f09-2323-41af-8000-cba5040587ae",
   "metadata": {},
   "source": [
    "move manually from explorer to repro\n",
    "details in https://share.evernote.com/note/eceab576-e515-b68a-73b1-9e31f1b1b928"
   ]
  },
  {
   "cell_type": "markdown",
   "id": "978150d7-8fe1-4cba-a63e-9dadbcaf3178",
   "metadata": {
    "jp-MarkdownHeadingCollapsed": true
   },
   "source": [
    "###  **row_dic**  | *Dictionary of rows...frm csv file*                       [3] wrks"
   ]
  },
  {
   "cell_type": "markdown",
   "id": "3f902f5c-418a-4d92-87e7-cc93afeeb961",
   "metadata": {
    "jp-MarkdownHeadingCollapsed": true
   },
   "source": [
    "#### **dsf func** *for* **row_dict** [4] "
   ]
  },
  {
   "cell_type": "code",
   "execution_count": 27,
   "id": "c7bbe6fa-a481-4787-869e-daf52ea4c5de",
   "metadata": {},
   "outputs": [],
   "source": [
    "# def load_csv_to_row_dict(bnm, subfolder=None)\n",
    "from pathlib import Path\n",
    "import csv\n",
    "\n",
    "def load_csv_to_row_dict(bnm, subfolder=None):\n",
    "    \"\"\"\n",
    "    Loads a CSV file into a dictionary of dictionaries from working directory or subfolder.\n",
    "\n",
    "    Parameters:\n",
    "        bnm (str): Filename of the CSV (e.g., 'bnm.csv')\n",
    "        subfolder (str, optional): Subdirectory within working directory. Defaults to working directory.\n",
    "\n",
    "    Returns:\n",
    "        dict: Dictionary where each row is keyed by the first column.\n",
    "    \"\"\"\n",
    "    # Step 1: Resolve working directory \n",
    "    base_path = Path.cwd()            #test OK = PosixPath('/home/bhuns/JL_1')\n",
    "    \n",
    "    \n",
    "    # Step 2: Build full path\n",
    "    full_path = base_path / subfolder / bnm if subfolder else base_path / bnm\n",
    "\n",
    "    # Step 3: Read CSV\n",
    "    result_dict = {}\n",
    "    with full_path.open(mode='r', newline='', encoding='utf-8') as file:\n",
    "        reader = csv.DictReader(file)\n",
    "        for row in reader:\n",
    "            primary_key = row[reader.fieldnames[0]]\n",
    "            row_data = {k: v for k, v in row.items() if k != reader.fieldnames[0]}\n",
    "            result_dict[primary_key] = row_data\n",
    "\n",
    "    return result_dict\n"
   ]
  },
  {
   "cell_type": "code",
   "execution_count": 19,
   "id": "aed675e0-b5ae-4b9d-b334-b01d9e476235",
   "metadata": {},
   "outputs": [],
   "source": [
    "# x call load csv dict cols\n",
    "# Load from working directory\n",
    "bnm = load_csv_to_row_dict(\"bnm.csv\")\n",
    "\n",
    "# Load from subfolder within working directory\n",
    "#bnm = load_csv_to_dict(\"bnm.csv\", subfolder=\"data\")\n"
   ]
  },
  {
   "cell_type": "code",
   "execution_count": 32,
   "id": "16e09f7c-9894-44d2-a1e0-1813f95f1c08",
   "metadata": {},
   "outputs": [
    {
     "data": {
      "text/plain": [
       "{'dtv': array(['45860', '45861', '45862', '45863', '45864', '45865'], dtype='<U5'),\n",
       " 's000': array(['', '', '', '', '', ''], dtype='<U1'),\n",
       " 's001': array(['', '', '8', '', '', ''], dtype='<U1'),\n",
       " 's002': array(['', '', '', '', '', ''], dtype='<U1'),\n",
       " 's003': array(['', '', '', '', '5', ''], dtype='<U1'),\n",
       " 's004': array(['', '', '', '', '', ''], dtype='<U1')}"
      ]
     },
     "execution_count": 32,
     "metadata": {},
     "output_type": "execute_result"
    }
   ],
   "source": [
    "# call load_csv_to_row_dict(bnm, subfolder=None)\n",
    "bnm"
   ]
  },
  {
   "cell_type": "markdown",
   "id": "97f8d996-acf5-4ec1-a6d0-ce94426947f2",
   "metadata": {},
   "source": [
    "### **col_dict**  *Dictionary of cols.frm dsv file      [3] wrks"
   ]
  },
  {
   "cell_type": "markdown",
   "id": "e4ef7959-2171-425d-8657-a56e83779991",
   "metadata": {},
   "source": [
    "#### **def func** *for* **col_dict** [4] "
   ]
  },
  {
   "cell_type": "code",
   "execution_count": 24,
   "id": "35441212-5c4e-44a6-8864-4a5447ba0426",
   "metadata": {
    "scrolled": true
   },
   "outputs": [],
   "source": [
    "# def load_csv_to_col_dict(bnm, subfolder=None)\n",
    "from pathlib import Path\n",
    "import csv\n",
    "import numpy as np\n",
    "\n",
    "def load_csv_to_col_dict(bnm, subfolder=None):\n",
    "    \"\"\"\n",
    "    Loads a CSV file into a dictionary of NumPy arrays, keyed by column name.\n",
    "\n",
    "    Parameters:\n",
    "        bnm (str): Filename of the CSV (e.g., 'bnm.csv')\n",
    "        subfolder (str, optional): Subdirectory within working directory.\n",
    "\n",
    "    Returns:\n",
    "        dict: Dictionary where each key is a column name and value is a NumPy array of column values.\n",
    "    \"\"\"\n",
    "    # Step 1: Resolve path\n",
    "    base_path = Path.cwd()\n",
    "    full_path = base_path / subfolder / bnm if subfolder else base_path / bnm\n",
    "\n",
    "    # Step 2: Initialize column containers\n",
    "    col_data = {}\n",
    "\n",
    "    # Step 3: Read CSV and collect column-wise data\n",
    "    with full_path.open(mode='r', newline='', encoding='utf-8') as file:\n",
    "        reader = csv.DictReader(file)\n",
    "        for row in reader:\n",
    "            for col, val in row.items():\n",
    "                col_data.setdefault(col, []).append(val)\n",
    "\n",
    "    # Step 4: Convert lists to NumPy arrays\n",
    "    col_dict = {col: np.array(vals) for col, vals in col_data.items()}\n",
    "\n",
    "    return col_dict\n"
   ]
  },
  {
   "cell_type": "markdown",
   "id": "a41757a9-4265-4545-941f-3e68014b5fb0",
   "metadata": {},
   "source": [
    "#### **Call func** *for* **col_dict** [4] "
   ]
  },
  {
   "cell_type": "code",
   "execution_count": 28,
   "id": "7cac633d-596a-437e-84e2-e1630885522a",
   "metadata": {},
   "outputs": [],
   "source": [
    "# call load_csv_to_col_dict(bnm, subfolder=None)\n",
    "bnm \n",
    "bnm = load_csv_to_col_dict(\"bnm.csv\")"
   ]
  },
  {
   "cell_type": "markdown",
   "id": "06fe8200-069d-49db-89b8-433016f7fef6",
   "metadata": {
    "jp-MarkdownHeadingCollapsed": true
   },
   "source": [
    "####  **Readers for col_dict**       [4] ok"
   ]
  },
  {
   "cell_type": "markdown",
   "id": "3f0b9d3d-4d6b-4c3c-8df5-9b715602728f",
   "metadata": {},
   "source": [
    "#### **windows11 to WSL wrk_dir/ib97 Call func** *for* **csv_file** [4] "
   ]
  },
  {
   "cell_type": "markdown",
   "id": "91acc887-bd83-45ba-a72d-f769f641e3e5",
   "metadata": {},
   "source": [
    "#### **Call func** *for* **col_dict** [4] "
   ]
  },
  {
   "cell_type": "code",
   "execution_count": 29,
   "id": "6367621a-d914-4ce3-bc2e-f629de881c45",
   "metadata": {
    "collapsed": true,
    "jupyter": {
     "outputs_hidden": true
    },
    "scrolled": true
   },
   "outputs": [
    {
     "data": {
      "text/plain": [
       "{'dtv': array(['45860', '45861', '45862', '45863', '45864', '45865'], dtype='<U5'),\n",
       " 's000': array(['', '', '', '', '', ''], dtype='<U1'),\n",
       " 's001': array(['', '', '8', '', '', ''], dtype='<U1'),\n",
       " 's002': array(['', '', '', '', '', ''], dtype='<U1'),\n",
       " 's003': array(['', '', '', '', '5', ''], dtype='<U1'),\n",
       " 's004': array(['', '', '', '', '', ''], dtype='<U1')}"
      ]
     },
     "execution_count": 29,
     "metadata": {},
     "output_type": "execute_result"
    }
   ],
   "source": [
    "bnm"
   ]
  },
  {
   "cell_type": "code",
   "execution_count": 65,
   "id": "10cdda6a-32ff-43a2-a2ef-0b0a2e84636e",
   "metadata": {},
   "outputs": [
    {
     "data": {
      "text/plain": [
       "array(['', '', '8', '', '', ''], dtype='<U1')"
      ]
     },
     "execution_count": 65,
     "metadata": {},
     "output_type": "execute_result"
    }
   ],
   "source": [
    "bnm = load_csv_to_col_dict(\"bnm.csv\")\n",
    "s001_array = bnm[\"s001\"]\n",
    "s001_array"
   ]
  },
  {
   "cell_type": "code",
   "execution_count": null,
   "id": "14c46b34-7e9e-4a92-9a77-38b601e8d35c",
   "metadata": {
    "scrolled": true
   },
   "outputs": [],
   "source": [
    "dtv_array = bmn[\"dtv\"]\n"
   ]
  },
  {
   "cell_type": "code",
   "execution_count": 66,
   "id": "b9c9cd28-fcbf-4e7a-9ab8-f39c1a3d29a4",
   "metadata": {},
   "outputs": [
    {
     "data": {
      "text/plain": [
       "{'dtv': array(['45860', '45861', '45862', '45863', '45864', '45865'], dtype='<U5'),\n",
       " 's000': array(['', '', '', '', '', ''], dtype='<U1'),\n",
       " 's001': array(['', '', '8', '', '', ''], dtype='<U1'),\n",
       " 's002': array(['', '', '', '', '', ''], dtype='<U1'),\n",
       " 's003': array(['', '', '', '', '5', ''], dtype='<U1'),\n",
       " 's004': array(['', '', '', '', '', ''], dtype='<U1')}"
      ]
     },
     "execution_count": 66,
     "metadata": {},
     "output_type": "execute_result"
    }
   ],
   "source": [
    "bnm"
   ]
  },
  {
   "cell_type": "code",
   "execution_count": 50,
   "id": "f14a73e0-2c31-49c1-9d1e-615ec9464b5d",
   "metadata": {},
   "outputs": [
    {
     "data": {
      "text/plain": [
       "array(['45860', '45861', '45862', '45863', '45864', '45865'], dtype='<U5')"
      ]
     },
     "execution_count": 50,
     "metadata": {},
     "output_type": "execute_result"
    }
   ],
   "source": [
    "dtv_array = bnm[\"dtv\"]\n",
    "dtv_array\n"
   ]
  },
  {
   "cell_type": "code",
   "execution_count": null,
   "id": "8e4bdc50-ea71-40e8-9b38-c0d7ce7c1bd6",
   "metadata": {
    "jupyter": {
     "source_hidden": true
    }
   },
   "outputs": [],
   "source": [
    "v"
   ]
  },
  {
   "cell_type": "code",
   "execution_count": 52,
   "id": "e8392e1b-c1b5-4155-ab53-e5043ddedac1",
   "metadata": {},
   "outputs": [
    {
     "name": "stdout",
     "output_type": "stream",
     "text": [
      "45860\n",
      "45861\n",
      "45862\n",
      "45863\n",
      "45864\n",
      "45865\n"
     ]
    }
   ],
   "source": [
    "for dtv in bnm[\"dtv\"]:\n",
    "    print(dtv)\n"
   ]
  },
  {
   "cell_type": "code",
   "execution_count": 57,
   "id": "17995409-e502-4424-97aa-21465402c974",
   "metadata": {},
   "outputs": [
    {
     "data": {
      "text/plain": [
       "{'dtv': array([], dtype='<U5'),\n",
       " 's000': array([], dtype='<U1'),\n",
       " 's001': array([], dtype='<U1'),\n",
       " 's002': array([], dtype='<U1'),\n",
       " 's003': array([], dtype='<U1'),\n",
       " 's004': array([], dtype='<U1')}"
      ]
     },
     "execution_count": 57,
     "metadata": {},
     "output_type": "execute_result"
    }
   ],
   "source": [
    "target_dtv = \"2025-09-18\"\n",
    "mask = bnm[\"dtv\"] == target_dtv\n",
    "filtered = {col: arr[mask] for col, arr in bnm.items()}\n",
    "\n",
    "filtered"
   ]
  },
  {
   "cell_type": "markdown",
   "id": "469d7b40-485e-4b1c-ae84-77e8e29a3f11",
   "metadata": {},
   "source": [
    "## Instrument to dict  [2] untested"
   ]
  },
  {
   "cell_type": "markdown",
   "id": "c03cfe06-b307-4324-aedf-887d54b40479",
   "metadata": {
    "jp-MarkdownHeadingCollapsed": true
   },
   "source": [
    "## Tools   untested   [2]"
   ]
  },
  {
   "cell_type": "markdown",
   "id": "c54adca6-3de3-4f90-bff3-856ff437edd2",
   "metadata": {
    "jp-MarkdownHeadingCollapsed": true
   },
   "source": [
    "#### **convert dates to dvt** *using datetime [4] untested"
   ]
  },
  {
   "cell_type": "code",
   "execution_count": 60,
   "id": "257c0a34-97d1-4502-988e-b340eddd492a",
   "metadata": {},
   "outputs": [],
   "source": [
    "import numpy as np\n",
    "from datetime import datetime, timedelta\n",
    "\n",
    "# Convert Excel serials to datetime\n",
    "dtv_array = np.array([\n",
    "    datetime(1899, 12, 30) + timedelta(days=float(d))\n",
    "    for d in bnm[\"dtv\"]\n",
    "])\n"
   ]
  },
  {
   "cell_type": "code",
   "execution_count": 61,
   "id": "da6d95e2-cc41-420a-8ffe-1eefde9ced19",
   "metadata": {
    "scrolled": true
   },
   "outputs": [
    {
     "name": "stdout",
     "output_type": "stream",
     "text": [
      "[datetime.datetime(2025, 7, 22, 0, 0) datetime.datetime(2025, 7, 23, 0, 0)\n",
      " datetime.datetime(2025, 7, 24, 0, 0) datetime.datetime(2025, 7, 25, 0, 0)\n",
      " datetime.datetime(2025, 7, 26, 0, 0)]\n"
     ]
    }
   ],
   "source": [
    "print(dtv_array[:5])\n",
    "# [datetime.datetime(2025, 9, 18, 0, 0), datetime.datetime(2025, 9, 19, 0, 0), ...]\n"
   ]
  },
  {
   "cell_type": "markdown",
   "id": "bb02d9a6-05e9-4ee1-bc75-2e877f3bdd9c",
   "metadata": {},
   "source": [
    "#### untested **Smart dtv Converter:** *Handles ISO and Excel Serial Formats* [4] "
   ]
  },
  {
   "cell_type": "code",
   "execution_count": 30,
   "id": "69828ef5-cff3-475b-9bdc-f4d165a9bb94",
   "metadata": {},
   "outputs": [],
   "source": [
    "from datetime import datetime, timedelta\n",
    "import numpy as np\n",
    "\n",
    "def convert_dtv_column(dtv_raw_array):\n",
    "    \"\"\"\n",
    "    Converts a raw dtv column to datetime objects.\n",
    "    Detects ISO format vs Excel serial numbers.\n",
    "\n",
    "    Parameters:\n",
    "        dtv_raw_array (np.ndarray): Raw dtv column as strings or numbers.\n",
    "\n",
    "    Returns:\n",
    "        np.ndarray: Array of datetime.datetime objects.\n",
    "    \"\"\"\n",
    "    def is_excel_serial(val):\n",
    "        try:\n",
    "            return float(val) > 30000  # Rough threshold: ~1982 onward\n",
    "        except ValueError:\n",
    "            return False\n",
    "\n",
    "    # Check format of first non-empty entry\n",
    "    sample = next((d for d in dtv_raw_array if d.strip()), None)\n",
    "    if sample is None:\n",
    "        raise ValueError(\"dtv column is empty or malformed.\")\n",
    "\n",
    "    if is_excel_serial(sample):\n",
    "        # Excel serial format\n",
    "        return np.array([\n",
    "            datetime(1899, 12, 30) + timedelta(days=float(d))\n",
    "            for d in dtv_raw_array\n",
    "        ])\n",
    "    else:\n",
    "        # ISO string format\n",
    "        return np.array([\n",
    "            datetime.strptime(d, \"%Y-%m-%d\")\n",
    "            for d in dtv_raw_array\n",
    "        ])\n"
   ]
  },
  {
   "cell_type": "code",
   "execution_count": null,
   "id": "c3eb2262-19a3-4ca2-8735-c5e7bd2a7e61",
   "metadata": {},
   "outputs": [],
   "source": [
    "bmn = load_csv_to_col_dict(\"bmn.csv\")\n",
    "dtv_array = convert_dtv_column(bmn[\"dtv\"])\n"
   ]
  },
  {
   "cell_type": "code",
   "execution_count": null,
   "id": "1aa81afd-1818-40e9-b676-e6edb8bf7d95",
   "metadata": {},
   "outputs": [],
   "source": [
    "import numpy as np\n",
    "from datetime import datetime\n",
    "\n",
    "dtv_array = np.array([datetime.strptime(d, \"%Y-%m-%d\") for d in bnm[\"dtv\"]])\n"
   ]
  },
  {
   "cell_type": "code",
   "execution_count": null,
   "id": "f4368a90-ad96-42ed-ac12-2e622ebaf5ac",
   "metadata": {},
   "outputs": [],
   "source": []
  },
  {
   "cell_type": "code",
   "execution_count": null,
   "id": "00d662db-e85b-4b25-b01b-f0cad3a979ec",
   "metadata": {},
   "outputs": [],
   "source": []
  }
 ],
 "metadata": {
  "kernelspec": {
   "display_name": "Python (scu)",
   "language": "python",
   "name": "scu"
  },
  "language_info": {
   "codemirror_mode": {
    "name": "ipython",
    "version": 3
   },
   "file_extension": ".py",
   "mimetype": "text/x-python",
   "name": "python",
   "nbconvert_exporter": "python",
   "pygments_lexer": "ipython3",
   "version": "3.11.13"
  }
 },
 "nbformat": 4,
 "nbformat_minor": 5
}
