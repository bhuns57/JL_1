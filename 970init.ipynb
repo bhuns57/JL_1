{
 "cells": [
  {
   "cell_type": "markdown",
   "id": "ac28a09a-0f71-4510-9009-975f58c633fe",
   "metadata": {},
   "source": [
    "# 970 integration       [1]"
   ]
  },
  {
   "cell_type": "markdown",
   "id": "dda37008-d24e-408e-92f1-aa067fc5bd1a",
   "metadata": {},
   "source": [
    "## Importing bnm = mrn970   [2]"
   ]
  },
  {
   "cell_type": "markdown",
   "id": "4a228357-f2ff-403b-9094-60157d94596b",
   "metadata": {
    "jp-MarkdownHeadingCollapsed": true
   },
   "source": [
    "## Simplified load_csv_to_dict features[2]"
   ]
  },
  {
   "cell_type": "markdown",
   "id": "17d5ca1e-e740-417f-b015-e1941acdbf12",
   "metadata": {},
   "source": [
    "1. **Path():**   *from pathlib import Path*\n",
    "2. **csv.DictReader(file):**  *import csv*\n",
    "3. **dtv** *index*  *many*  **np.cols**"
   ]
  },
  {
   "cell_type": "markdown",
   "id": "1bee5034-e33d-46f0-8f2e-c31c0054682a",
   "metadata": {},
   "source": [
    "## For a dictionary of rows [2] "
   ]
  },
  {
   "cell_type": "markdown",
   "id": "978150d7-8fe1-4cba-a63e-9dadbcaf3178",
   "metadata": {
    "jp-MarkdownHeadingCollapsed": true
   },
   "source": [
    "### dictionary of rows [3] "
   ]
  },
  {
   "cell_type": "code",
   "execution_count": 35,
   "id": "c7bbe6fa-a481-4787-869e-daf52ea4c5de",
   "metadata": {},
   "outputs": [],
   "source": [
    "from pathlib import Path\n",
    "import csv\n",
    "\n",
    "def load_csv_to_dict(bnm, subfolder=None):\n",
    "    \"\"\"\n",
    "    Loads a CSV file into a dictionary of dictionaries from working directory or subfolder.\n",
    "\n",
    "    Parameters:\n",
    "        bnm (str): Filename of the CSV (e.g., 'bnm.csv')\n",
    "        subfolder (str, optional): Subdirectory within working directory. Defaults to working directory.\n",
    "\n",
    "    Returns:\n",
    "        dict: Dictionary where each row is keyed by the first column.\n",
    "    \"\"\"\n",
    "    # Step 1: Resolve working directory \n",
    "    base_path = Path.cwd()            #test OK = PosixPath('/home/bhuns/JL_1')\n",
    "    \n",
    "    \n",
    "    # Step 2: Build full path\n",
    "    full_path = base_path / subfolder / bnm if subfolder else base_path / bnm\n",
    "\n",
    "    # Step 3: Read CSV\n",
    "    result_dict = {}\n",
    "    with full_path.open(mode='r', newline='', encoding='utf-8') as file:\n",
    "        reader = csv.DictReader(file)\n",
    "        for row in reader:\n",
    "            primary_key = row[reader.fieldnames[0]]\n",
    "            row_data = {k: v for k, v in row.items() if k != reader.fieldnames[0]}\n",
    "            result_dict[primary_key] = row_data\n",
    "\n",
    "    return result_dict\n"
   ]
  },
  {
   "cell_type": "code",
   "execution_count": 36,
   "id": "aed675e0-b5ae-4b9d-b334-b01d9e476235",
   "metadata": {},
   "outputs": [],
   "source": [
    "# Load from working directory\n",
    "bnm = load_csv_to_dict(\"bnm.csv\")\n",
    "\n",
    "# Load from subfolder within working directory\n",
    "#bnm = load_csv_to_dict(\"bnm.csv\", subfolder=\"data\")\n"
   ]
  },
  {
   "cell_type": "code",
   "execution_count": 37,
   "id": "79c31f41-44b2-4b10-8c6c-195d62545074",
   "metadata": {},
   "outputs": [
    {
     "data": {
      "text/plain": [
       "PosixPath('/home/bhuns/JL_1')"
      ]
     },
     "execution_count": 37,
     "metadata": {},
     "output_type": "execute_result"
    }
   ],
   "source": [
    "Path.cwd()"
   ]
  },
  {
   "cell_type": "code",
   "execution_count": 38,
   "id": "16e09f7c-9894-44d2-a1e0-1813f95f1c08",
   "metadata": {},
   "outputs": [
    {
     "data": {
      "text/plain": [
       "{'45860': {'s000': '', 's001': '', 's002': '', 's003': '', 's004': ''},\n",
       " '45861': {'s000': '', 's001': '', 's002': '', 's003': '', 's004': ''},\n",
       " '45862': {'s000': '', 's001': '8', 's002': '', 's003': '', 's004': ''},\n",
       " '45863': {'s000': '', 's001': '', 's002': '', 's003': '', 's004': ''},\n",
       " '45864': {'s000': '', 's001': '', 's002': '', 's003': '5', 's004': ''},\n",
       " '45865': {'s000': '', 's001': '', 's002': '', 's003': '', 's004': ''}}"
      ]
     },
     "execution_count": 38,
     "metadata": {},
     "output_type": "execute_result"
    }
   ],
   "source": [
    "bnm"
   ]
  },
  {
   "cell_type": "markdown",
   "id": "97f8d996-acf5-4ec1-a6d0-ce94426947f2",
   "metadata": {},
   "source": [
    "### Dictionary of cols [3] "
   ]
  },
  {
   "cell_type": "markdown",
   "id": "5f335765-a04f-41fc-a1c3-55babd602282",
   "metadata": {},
   "source": [
    "### Readouts col_dict [3] "
   ]
  },
  {
   "cell_type": "markdown",
   "id": "8242c595-4e0a-41b9-bd60-c50ecc25254e",
   "metadata": {},
   "source": [
    "#### 4] "
   ]
  },
  {
   "cell_type": "markdown",
   "id": "50fef25f-2aa5-4035-acae-6a976052793a",
   "metadata": {
    "jp-MarkdownHeadingCollapsed": true
   },
   "source": [
    "#### Column-Oriented Loader: load_csv_to_col_dict [34] "
   ]
  },
  {
   "cell_type": "markdown",
   "id": "58d95453-38b1-4d76-bf2e-56004dc841fb",
   "metadata": {},
   "source": [
    "#### Column-Oriented Loader: load_csv_to_col_dict [3] "
   ]
  },
  {
   "cell_type": "code",
   "execution_count": 39,
   "id": "35441212-5c4e-44a6-8864-4a5447ba0426",
   "metadata": {
    "scrolled": true
   },
   "outputs": [],
   "source": [
    "from pathlib import Path\n",
    "import csv\n",
    "import numpy as np\n",
    "\n",
    "def load_csv_to_col_dict(bnm, subfolder=None):\n",
    "    \"\"\"\n",
    "    Loads a CSV file into a dictionary of NumPy arrays, keyed by column name.\n",
    "\n",
    "    Parameters:\n",
    "        bnm (str): Filename of the CSV (e.g., 'bnm.csv')\n",
    "        subfolder (str, optional): Subdirectory within working directory.\n",
    "\n",
    "    Returns:\n",
    "        dict: Dictionary where each key is a column name and value is a NumPy array of column values.\n",
    "    \"\"\"\n",
    "    # Step 1: Resolve path\n",
    "    base_path = Path.cwd()\n",
    "    full_path = base_path / subfolder / bnm if subfolder else base_path / bnm\n",
    "\n",
    "    # Step 2: Initialize column containers\n",
    "    col_data = {}\n",
    "\n",
    "    # Step 3: Read CSV and collect column-wise data\n",
    "    with full_path.open(mode='r', newline='', encoding='utf-8') as file:\n",
    "        reader = csv.DictReader(file)\n",
    "        for row in reader:\n",
    "            for col, val in row.items():\n",
    "                col_data.setdefault(col, []).append(val)\n",
    "\n",
    "    # Step 4: Convert lists to NumPy arrays\n",
    "    col_dict = {col: np.array(vals) for col, vals in col_data.items()}\n",
    "\n",
    "    return col_dict\n"
   ]
  },
  {
   "cell_type": "code",
   "execution_count": 63,
   "id": "7cac633d-596a-437e-84e2-e1630885522a",
   "metadata": {},
   "outputs": [],
   "source": [
    "bnm = load_csv_to_col_dict(\"bnm.csv\")"
   ]
  },
  {
   "cell_type": "code",
   "execution_count": 64,
   "id": "6367621a-d914-4ce3-bc2e-f629de881c45",
   "metadata": {},
   "outputs": [
    {
     "data": {
      "text/plain": [
       "{'dtv': array(['45860', '45861', '45862', '45863', '45864', '45865'], dtype='<U5'),\n",
       " 's000': array(['', '', '', '', '', ''], dtype='<U1'),\n",
       " 's001': array(['', '', '8', '', '', ''], dtype='<U1'),\n",
       " 's002': array(['', '', '', '', '', ''], dtype='<U1'),\n",
       " 's003': array(['', '', '', '', '5', ''], dtype='<U1'),\n",
       " 's004': array(['', '', '', '', '', ''], dtype='<U1')}"
      ]
     },
     "execution_count": 64,
     "metadata": {},
     "output_type": "execute_result"
    }
   ],
   "source": [
    "bnm"
   ]
  },
  {
   "cell_type": "markdown",
   "id": "cc7bb270-2606-483f-b58c-c3240162812e",
   "metadata": {},
   "source": [
    "### Column-Oriented Loader: load_csv_to_col_dict [3] "
   ]
  },
  {
   "cell_type": "code",
   "execution_count": null,
   "id": "14c46b34-7e9e-4a92-9a77-38b601e8d35c",
   "metadata": {
    "scrolled": true
   },
   "outputs": [],
   "source": [
    "dtv_array = bmn[\"dtv\"]\n"
   ]
  },
  {
   "cell_type": "code",
   "execution_count": 65,
   "id": "10cdda6a-32ff-43a2-a2ef-0b0a2e84636e",
   "metadata": {},
   "outputs": [
    {
     "data": {
      "text/plain": [
       "array(['', '', '8', '', '', ''], dtype='<U1')"
      ]
     },
     "execution_count": 65,
     "metadata": {},
     "output_type": "execute_result"
    }
   ],
   "source": [
    "bnm = load_csv_to_col_dict(\"bnm.csv\")\n",
    "s001_array = bnm[\"s001\"]\n",
    "s001_array"
   ]
  },
  {
   "cell_type": "code",
   "execution_count": 66,
   "id": "b9c9cd28-fcbf-4e7a-9ab8-f39c1a3d29a4",
   "metadata": {},
   "outputs": [
    {
     "data": {
      "text/plain": [
       "{'dtv': array(['45860', '45861', '45862', '45863', '45864', '45865'], dtype='<U5'),\n",
       " 's000': array(['', '', '', '', '', ''], dtype='<U1'),\n",
       " 's001': array(['', '', '8', '', '', ''], dtype='<U1'),\n",
       " 's002': array(['', '', '', '', '', ''], dtype='<U1'),\n",
       " 's003': array(['', '', '', '', '5', ''], dtype='<U1'),\n",
       " 's004': array(['', '', '', '', '', ''], dtype='<U1')}"
      ]
     },
     "execution_count": 66,
     "metadata": {},
     "output_type": "execute_result"
    }
   ],
   "source": [
    "bnm"
   ]
  },
  {
   "cell_type": "markdown",
   "id": "06fe8200-069d-49db-89b8-433016f7fef6",
   "metadata": {},
   "source": [
    "###  Readers for col_dict     [3]"
   ]
  },
  {
   "cell_type": "code",
   "execution_count": 50,
   "id": "f14a73e0-2c31-49c1-9d1e-615ec9464b5d",
   "metadata": {},
   "outputs": [
    {
     "data": {
      "text/plain": [
       "array(['45860', '45861', '45862', '45863', '45864', '45865'], dtype='<U5')"
      ]
     },
     "execution_count": 50,
     "metadata": {},
     "output_type": "execute_result"
    }
   ],
   "source": [
    "dtv_array = bnm[\"dtv\"]\n",
    "dtv_array\n"
   ]
  },
  {
   "cell_type": "code",
   "execution_count": null,
   "id": "8e4bdc50-ea71-40e8-9b38-c0d7ce7c1bd6",
   "metadata": {
    "jupyter": {
     "source_hidden": true
    }
   },
   "outputs": [],
   "source": [
    "v"
   ]
  },
  {
   "cell_type": "code",
   "execution_count": 52,
   "id": "e8392e1b-c1b5-4155-ab53-e5043ddedac1",
   "metadata": {},
   "outputs": [
    {
     "name": "stdout",
     "output_type": "stream",
     "text": [
      "45860\n",
      "45861\n",
      "45862\n",
      "45863\n",
      "45864\n",
      "45865\n"
     ]
    }
   ],
   "source": [
    "for dtv in bnm[\"dtv\"]:\n",
    "    print(dtv)\n"
   ]
  },
  {
   "cell_type": "code",
   "execution_count": 57,
   "id": "17995409-e502-4424-97aa-21465402c974",
   "metadata": {},
   "outputs": [
    {
     "data": {
      "text/plain": [
       "{'dtv': array([], dtype='<U5'),\n",
       " 's000': array([], dtype='<U1'),\n",
       " 's001': array([], dtype='<U1'),\n",
       " 's002': array([], dtype='<U1'),\n",
       " 's003': array([], dtype='<U1'),\n",
       " 's004': array([], dtype='<U1')}"
      ]
     },
     "execution_count": 57,
     "metadata": {},
     "output_type": "execute_result"
    }
   ],
   "source": [
    "target_dtv = \"2025-09-18\"\n",
    "mask = bnm[\"dtv\"] == target_dtv\n",
    "filtered = {col: arr[mask] for col, arr in bnm.items()}\n",
    "\n",
    "filtered"
   ]
  },
  {
   "cell_type": "markdown",
   "id": "c54adca6-3de3-4f90-bff3-856ff437edd2",
   "metadata": {},
   "source": [
    "## For a dictionary of rows [3] "
   ]
  },
  {
   "cell_type": "code",
   "execution_count": 60,
   "id": "257c0a34-97d1-4502-988e-b340eddd492a",
   "metadata": {},
   "outputs": [],
   "source": [
    "import numpy as np\n",
    "from datetime import datetime, timedelta\n",
    "\n",
    "# Convert Excel serials to datetime\n",
    "dtv_array = np.array([\n",
    "    datetime(1899, 12, 30) + timedelta(days=float(d))\n",
    "    for d in bnm[\"dtv\"]\n",
    "])\n"
   ]
  },
  {
   "cell_type": "code",
   "execution_count": 61,
   "id": "da6d95e2-cc41-420a-8ffe-1eefde9ced19",
   "metadata": {},
   "outputs": [
    {
     "name": "stdout",
     "output_type": "stream",
     "text": [
      "[datetime.datetime(2025, 7, 22, 0, 0) datetime.datetime(2025, 7, 23, 0, 0)\n",
      " datetime.datetime(2025, 7, 24, 0, 0) datetime.datetime(2025, 7, 25, 0, 0)\n",
      " datetime.datetime(2025, 7, 26, 0, 0)]\n"
     ]
    }
   ],
   "source": [
    "print(dtv_array[:5])\n",
    "# [datetime.datetime(2025, 9, 18, 0, 0), datetime.datetime(2025, 9, 19, 0, 0), ...]\n"
   ]
  },
  {
   "cell_type": "code",
   "execution_count": null,
   "id": "499c5dce-ba21-408b-8020-eba5504af5e1",
   "metadata": {},
   "outputs": [],
   "source": []
  },
  {
   "cell_type": "markdown",
   "id": "bb02d9a6-05e9-4ee1-bc75-2e877f3bdd9c",
   "metadata": {},
   "source": [
    "### Smart dtv Converter: Handles ISO and Excel Serial Formats [3] "
   ]
  },
  {
   "cell_type": "code",
   "execution_count": null,
   "id": "69828ef5-cff3-475b-9bdc-f4d165a9bb94",
   "metadata": {},
   "outputs": [],
   "source": [
    "from datetime import datetime, timedelta\n",
    "import numpy as np\n",
    "\n",
    "def convert_dtv_column(dtv_raw_array):\n",
    "    \"\"\"\n",
    "    Converts a raw dtv column to datetime objects.\n",
    "    Detects ISO format vs Excel serial numbers.\n",
    "\n",
    "    Parameters:\n",
    "        dtv_raw_array (np.ndarray): Raw dtv column as strings or numbers.\n",
    "\n",
    "    Returns:\n",
    "        np.ndarray: Array of datetime.datetime objects.\n",
    "    \"\"\"\n",
    "    def is_excel_serial(val):\n",
    "        try:\n",
    "            return float(val) > 30000  # Rough threshold: ~1982 onward\n",
    "        except ValueError:\n",
    "            return False\n",
    "\n",
    "    # Check format of first non-empty entry\n",
    "    sample = next((d for d in dtv_raw_array if d.strip()), None)\n",
    "    if sample is None:\n",
    "        raise ValueError(\"dtv column is empty or malformed.\")\n",
    "\n",
    "    if is_excel_serial(sample):\n",
    "        # Excel serial format\n",
    "        return np.array([\n",
    "            datetime(1899, 12, 30) + timedelta(days=float(d))\n",
    "            for d in dtv_raw_array\n",
    "        ])\n",
    "    else:\n",
    "        # ISO string format\n",
    "        return np.array([\n",
    "            datetime.strptime(d, \"%Y-%m-%d\")\n",
    "            for d in dtv_raw_array\n",
    "        ])\n"
   ]
  },
  {
   "cell_type": "code",
   "execution_count": null,
   "id": "c3eb2262-19a3-4ca2-8735-c5e7bd2a7e61",
   "metadata": {},
   "outputs": [],
   "source": [
    "bmn = load_csv_to_col_dict(\"bmn.csv\")\n",
    "dtv_array = convert_dtv_column(bmn[\"dtv\"])\n"
   ]
  },
  {
   "cell_type": "code",
   "execution_count": 62,
   "id": "1aa81afd-1818-40e9-b676-e6edb8bf7d95",
   "metadata": {},
   "outputs": [
    {
     "ename": "ValueError",
     "evalue": "time data np.str_('45860') does not match format '%Y-%m-%d'",
     "output_type": "error",
     "traceback": [
      "\u001b[31m---------------------------------------------------------------------------\u001b[39m",
      "\u001b[31mValueError\u001b[39m                                Traceback (most recent call last)",
      "\u001b[36mCell\u001b[39m\u001b[36m \u001b[39m\u001b[32mIn[62]\u001b[39m\u001b[32m, line 4\u001b[39m\n\u001b[32m      1\u001b[39m \u001b[38;5;28;01mimport\u001b[39;00m\u001b[38;5;250m \u001b[39m\u001b[34;01mnumpy\u001b[39;00m\u001b[38;5;250m \u001b[39m\u001b[38;5;28;01mas\u001b[39;00m\u001b[38;5;250m \u001b[39m\u001b[34;01mnp\u001b[39;00m\n\u001b[32m      2\u001b[39m \u001b[38;5;28;01mfrom\u001b[39;00m\u001b[38;5;250m \u001b[39m\u001b[34;01mdatetime\u001b[39;00m\u001b[38;5;250m \u001b[39m\u001b[38;5;28;01mimport\u001b[39;00m datetime\n\u001b[32m----> \u001b[39m\u001b[32m4\u001b[39m dtv_array = np.array([datetime.strptime(d, \u001b[33m\"\u001b[39m\u001b[33m%\u001b[39m\u001b[33mY-\u001b[39m\u001b[33m%\u001b[39m\u001b[33mm-\u001b[39m\u001b[38;5;132;01m%d\u001b[39;00m\u001b[33m\"\u001b[39m) \u001b[38;5;28;01mfor\u001b[39;00m d \u001b[38;5;129;01min\u001b[39;00m bnm[\u001b[33m\"\u001b[39m\u001b[33mdtv\u001b[39m\u001b[33m\"\u001b[39m]])\n",
      "\u001b[36mCell\u001b[39m\u001b[36m \u001b[39m\u001b[32mIn[62]\u001b[39m\u001b[32m, line 4\u001b[39m, in \u001b[36m<listcomp>\u001b[39m\u001b[34m(.0)\u001b[39m\n\u001b[32m      1\u001b[39m \u001b[38;5;28;01mimport\u001b[39;00m\u001b[38;5;250m \u001b[39m\u001b[34;01mnumpy\u001b[39;00m\u001b[38;5;250m \u001b[39m\u001b[38;5;28;01mas\u001b[39;00m\u001b[38;5;250m \u001b[39m\u001b[34;01mnp\u001b[39;00m\n\u001b[32m      2\u001b[39m \u001b[38;5;28;01mfrom\u001b[39;00m\u001b[38;5;250m \u001b[39m\u001b[34;01mdatetime\u001b[39;00m\u001b[38;5;250m \u001b[39m\u001b[38;5;28;01mimport\u001b[39;00m datetime\n\u001b[32m----> \u001b[39m\u001b[32m4\u001b[39m dtv_array = np.array([datetime.strptime(d, \u001b[33m\"\u001b[39m\u001b[33m%\u001b[39m\u001b[33mY-\u001b[39m\u001b[33m%\u001b[39m\u001b[33mm-\u001b[39m\u001b[38;5;132;01m%d\u001b[39;00m\u001b[33m\"\u001b[39m) \u001b[38;5;28;01mfor\u001b[39;00m d \u001b[38;5;129;01min\u001b[39;00m bnm[\u001b[33m\"\u001b[39m\u001b[33mdtv\u001b[39m\u001b[33m\"\u001b[39m]])\n",
      "\u001b[36mFile \u001b[39m\u001b[32m~/miniconda3/envs/scu/lib/python3.11/_strptime.py:567\u001b[39m, in \u001b[36m_strptime_datetime\u001b[39m\u001b[34m(cls, data_string, format)\u001b[39m\n\u001b[32m    564\u001b[39m \u001b[38;5;28;01mdef\u001b[39;00m\u001b[38;5;250m \u001b[39m\u001b[34m_strptime_datetime\u001b[39m(\u001b[38;5;28mcls\u001b[39m, data_string, \u001b[38;5;28mformat\u001b[39m=\u001b[33m\"\u001b[39m\u001b[38;5;132;01m%a\u001b[39;00m\u001b[33m \u001b[39m\u001b[33m%\u001b[39m\u001b[33mb \u001b[39m\u001b[38;5;132;01m%d\u001b[39;00m\u001b[33m \u001b[39m\u001b[33m%\u001b[39m\u001b[33mH:\u001b[39m\u001b[33m%\u001b[39m\u001b[33mM:\u001b[39m\u001b[33m%\u001b[39m\u001b[33mS \u001b[39m\u001b[33m%\u001b[39m\u001b[33mY\u001b[39m\u001b[33m\"\u001b[39m):\n\u001b[32m    565\u001b[39m \u001b[38;5;250m    \u001b[39m\u001b[33;03m\"\"\"Return a class cls instance based on the input string and the\u001b[39;00m\n\u001b[32m    566\u001b[39m \u001b[33;03m    format string.\"\"\"\u001b[39;00m\n\u001b[32m--> \u001b[39m\u001b[32m567\u001b[39m     tt, fraction, gmtoff_fraction = _strptime(data_string, \u001b[38;5;28mformat\u001b[39m)\n\u001b[32m    568\u001b[39m     tzname, gmtoff = tt[-\u001b[32m2\u001b[39m:]\n\u001b[32m    569\u001b[39m     args = tt[:\u001b[32m6\u001b[39m] + (fraction,)\n",
      "\u001b[36mFile \u001b[39m\u001b[32m~/miniconda3/envs/scu/lib/python3.11/_strptime.py:349\u001b[39m, in \u001b[36m_strptime\u001b[39m\u001b[34m(data_string, format)\u001b[39m\n\u001b[32m    347\u001b[39m found = format_regex.match(data_string)\n\u001b[32m    348\u001b[39m \u001b[38;5;28;01mif\u001b[39;00m \u001b[38;5;129;01mnot\u001b[39;00m found:\n\u001b[32m--> \u001b[39m\u001b[32m349\u001b[39m     \u001b[38;5;28;01mraise\u001b[39;00m \u001b[38;5;167;01mValueError\u001b[39;00m(\u001b[33m\"\u001b[39m\u001b[33mtime data \u001b[39m\u001b[38;5;132;01m%r\u001b[39;00m\u001b[33m does not match format \u001b[39m\u001b[38;5;132;01m%r\u001b[39;00m\u001b[33m\"\u001b[39m %\n\u001b[32m    350\u001b[39m                      (data_string, \u001b[38;5;28mformat\u001b[39m))\n\u001b[32m    351\u001b[39m \u001b[38;5;28;01mif\u001b[39;00m \u001b[38;5;28mlen\u001b[39m(data_string) != found.end():\n\u001b[32m    352\u001b[39m     \u001b[38;5;28;01mraise\u001b[39;00m \u001b[38;5;167;01mValueError\u001b[39;00m(\u001b[33m\"\u001b[39m\u001b[33munconverted data remains: \u001b[39m\u001b[38;5;132;01m%s\u001b[39;00m\u001b[33m\"\u001b[39m %\n\u001b[32m    353\u001b[39m                       data_string[found.end():])\n",
      "\u001b[31mValueError\u001b[39m: time data np.str_('45860') does not match format '%Y-%m-%d'"
     ]
    }
   ],
   "source": [
    "import numpy as np\n",
    "from datetime import datetime\n",
    "\n",
    "dtv_array = np.array([datetime.strptime(d, \"%Y-%m-%d\") for d in bnm[\"dtv\"]])\n"
   ]
  },
  {
   "cell_type": "code",
   "execution_count": null,
   "id": "2206f561-8385-418d-805b-4e26adeb776a",
   "metadata": {},
   "outputs": [],
   "source": []
  },
  {
   "cell_type": "markdown",
   "id": "7cb837dd-689a-4e45-9d96-a04a360466d7",
   "metadata": {},
   "source": [
    "## x"
   ]
  },
  {
   "cell_type": "code",
   "execution_count": null,
   "id": "dd9e099b-7716-47c4-b92f-770d2d6f7d29",
   "metadata": {},
   "outputs": [],
   "source": []
  },
  {
   "cell_type": "markdown",
   "id": "f2ba7719-94db-4a4d-b1d5-bdf62ee831bc",
   "metadata": {},
   "source": [
    "## x"
   ]
  },
  {
   "cell_type": "code",
   "execution_count": null,
   "id": "6f044510-a8e6-42cb-a2a7-66aede92e324",
   "metadata": {},
   "outputs": [],
   "source": []
  },
  {
   "cell_type": "markdown",
   "id": "69c9b026-e27a-489b-9580-7022daf46caf",
   "metadata": {},
   "source": [
    "### Column-Oriented Loader: load_csv_to_col_dict [3] "
   ]
  }
 ],
 "metadata": {
  "kernelspec": {
   "display_name": "Python (scu)",
   "language": "python",
   "name": "scu"
  },
  "language_info": {
   "codemirror_mode": {
    "name": "ipython",
    "version": 3
   },
   "file_extension": ".py",
   "mimetype": "text/x-python",
   "name": "python",
   "nbconvert_exporter": "python",
   "pygments_lexer": "ipython3",
   "version": "3.11.13"
  }
 },
 "nbformat": 4,
 "nbformat_minor": 5
}
