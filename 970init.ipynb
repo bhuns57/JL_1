{
 "cells": [
  {
   "cell_type": "markdown",
   "id": "ac28a09a-0f71-4510-9009-975f58c633fe",
   "metadata": {
    "jupyter": {
     "source_hidden": true
    }
   },
   "source": [
    "# 970 integration       [1]"
   ]
  },
  {
   "cell_type": "markdown",
   "id": "8f56cb93-a0c1-445a-8dc5-8560acdd88be",
   "metadata": {
    "jp-MarkdownHeadingCollapsed": true
   },
   "source": [
    "## Simplified load_csv_to_dict features[2]"
   ]
  },
  {
   "cell_type": "markdown",
   "id": "17d5ca1e-e740-417f-b015-e1941acdbf12",
   "metadata": {},
   "source": [
    "1. **Path():**   *from pathlib import Path*\n",
    "2. **csv.DictReader(file):**  *import csv*\n",
    "3. **dtv** *index*  *many*  **np.cols**"
   ]
  },
  {
   "cell_type": "markdown",
   "id": "dda37008-d24e-408e-92f1-aa067fc5bd1a",
   "metadata": {},
   "source": [
    "## The def functions and Example calls for the system[1]"
   ]
  },
  {
   "cell_type": "markdown",
   "id": "0d6cc3bd-f7f7-444b-8578-a8add0e84ed6",
   "metadata": {},
   "source": [
    "### Tools         [3]"
   ]
  },
  {
   "cell_type": "markdown",
   "id": "4d034932-4106-4aef-a464-8c7783f8c7f9",
   "metadata": {
    "jp-MarkdownHeadingCollapsed": true
   },
   "source": [
    "#### Link with Evenote/pilot Documentation         [4]"
   ]
  },
  {
   "cell_type": "markdown",
   "id": "aa2645cb-7e07-4a8e-a3ea-aeaca31d8273",
   "metadata": {},
   "source": [
    "**Link with evernote to bring in document text and images**\n",
    "1. Make a note in evernote app\n",
    "2. Open evernote web and copy the link\n",
    "3. Go JL and paste it in  Markdown cell with explanations\n",
    "4. Edit at will when linked back "
   ]
  },
  {
   "cell_type": "markdown",
   "id": "fa8d1a49-abae-4fd1-b4a0-798eba569283",
   "metadata": {},
   "source": [
    "#### Find repo           [4]"
   ]
  },
  {
   "cell_type": "code",
   "execution_count": 12,
   "id": "79c31f41-44b2-4b10-8c6c-195d62545074",
   "metadata": {},
   "outputs": [
    {
     "data": {
      "text/plain": [
       "PosixPath('/home/bhuns/JL_1')"
      ]
     },
     "execution_count": 12,
     "metadata": {},
     "output_type": "execute_result"
    }
   ],
   "source": [
    "Path.cwd()"
   ]
  },
  {
   "cell_type": "markdown",
   "id": "6e8b4b85-0a55-43d2-b045-39ac9e37aba4",
   "metadata": {},
   "source": [
    "#### **Move_file** *to* **repo** *from* **explorer** [4] "
   ]
  },
  {
   "cell_type": "markdown",
   "id": "1bed5f09-2323-41af-8000-cba5040587ae",
   "metadata": {},
   "source": [
    "move manually from explorer to repro\n",
    "details in https://share.evernote.com/note/eceab576-e515-b68a-73b1-9e31f1b1b928"
   ]
  },
  {
   "cell_type": "markdown",
   "id": "978150d7-8fe1-4cba-a63e-9dadbcaf3178",
   "metadata": {},
   "source": [
    "###  **row_dic**  | *Dictionary of rows...frm csv file*                       [3] wrks"
   ]
  },
  {
   "cell_type": "markdown",
   "id": "3f902f5c-418a-4d92-87e7-cc93afeeb961",
   "metadata": {
    "jp-MarkdownHeadingCollapsed": true
   },
   "source": [
    "#### **def func** *for* **row_dict** [4] "
   ]
  },
  {
   "cell_type": "code",
   "execution_count": 49,
   "id": "c7bbe6fa-a481-4787-869e-daf52ea4c5de",
   "metadata": {},
   "outputs": [],
   "source": [
    "# def load_csv_to_row_dict(bnm, subfolder=None)\n",
    "from pathlib import Path\n",
    "import csv\n",
    "\n",
    "def load_csv_to_row_dict(bnm, subfolder=None):\n",
    "    \"\"\"\n",
    "    Loads a CSV file into a dictionary of dictionaries from working directory or subfolder.\n",
    "\n",
    "    Parameters:\n",
    "        bnm (str): Filename of the CSV (e.g., 'bnm.csv')\n",
    "        subfolder (str, optional): Subdirectory within working directory. Defaults to working directory.\n",
    "\n",
    "    Returns:\n",
    "        dict: Dictionary where each row is keyed by the first column.\n",
    "    \"\"\"\n",
    "    # Step 1: Resolve working directory \n",
    "    base_path = Path.cwd()            #test OK = PosixPath('/home/bhuns/JL_1')\n",
    "    \n",
    "    \n",
    "    # Step 2: Build full path\n",
    "    full_path = base_path / subfolder / bnm if subfolder else base_path / bnm\n",
    "\n",
    "    # Step 3: Read CSV\n",
    "    result_dict = {}\n",
    "    with full_path.open(mode='r', newline='', encoding='latin1') as file:\n",
    "        reader = csv.DictReader(file)\n",
    "        for row in reader:\n",
    "            primary_key = row[reader.fieldnames[0]]\n",
    "            row_data = {k: v for k, v in row.items() if k != reader.fieldnames[0]}\n",
    "            result_dict[primary_key] = row_data\n",
    "\n",
    "    return result_dict\n"
   ]
  },
  {
   "cell_type": "markdown",
   "id": "45b02b49-e9c5-4751-9d8b-f89aa165122d",
   "metadata": {
    "jp-MarkdownHeadingCollapsed": true
   },
   "source": [
    "#### **Call func** *for* **row_dict** [4] "
   ]
  },
  {
   "cell_type": "code",
   "execution_count": 50,
   "id": "aed675e0-b5ae-4b9d-b334-b01d9e476235",
   "metadata": {},
   "outputs": [],
   "source": [
    "# call load csv dict cols\n",
    "# Load from working directory\n",
    "bnm = \"bnm.csv\"       # qualification test\n",
    "bnm = \"ib97.csv\"\n",
    "bnm = load_csv_to_row_dict(bnm)\n",
    "\n",
    "# Load from subfolder within working directory\n",
    "#bnm = load_csv_to_dict(\"bnm.csv\", subfolder=\"data\")\n"
   ]
  },
  {
   "cell_type": "code",
   "execution_count": null,
   "id": "16e09f7c-9894-44d2-a1e0-1813f95f1c08",
   "metadata": {},
   "outputs": [],
   "source": [
    "# call load_csv_to_row_dict(bnm, subfolder=None)\n",
    "bnm"
   ]
  },
  {
   "cell_type": "markdown",
   "id": "97f8d996-acf5-4ec1-a6d0-ce94426947f2",
   "metadata": {},
   "source": [
    "### **col_dict**  *Dictionary of cols.frm dsv file      [3] wrks"
   ]
  },
  {
   "cell_type": "markdown",
   "id": "e4ef7959-2171-425d-8657-a56e83779991",
   "metadata": {
    "jp-MarkdownHeadingCollapsed": true
   },
   "source": [
    "#### **def func** *for* **col_dict** [4] "
   ]
  },
  {
   "cell_type": "code",
   "execution_count": 10,
   "id": "35441212-5c4e-44a6-8864-4a5447ba0426",
   "metadata": {
    "scrolled": true
   },
   "outputs": [],
   "source": [
    "# def load_csv_to_col_dict(bnm, subfolder=None)\n",
    "from pathlib import Path\n",
    "import csv\n",
    "import numpy as np\n",
    "\n",
    "def load_csv_to_col_dict(bnm, subfolder=None):\n",
    "    \"\"\"\n",
    "    Loads a CSV file into a dictionary of NumPy arrays, keyed by column name.\n",
    "\n",
    "    Parameters:\n",
    "        bnm (str): Filename of the CSV (e.g., 'bnm.csv')\n",
    "        subfolder (str, optional): Subdirectory within working directory.\n",
    "\n",
    "    Returns:\n",
    "        dict: Dictionary where each key is a column name and value is a NumPy array of column values.\n",
    "    \"\"\"\n",
    "    # Step 1: Resolve path\n",
    "    base_path = Path.cwd()\n",
    "    full_path = base_path / subfolder / bnm if subfolder else base_path / bnm\n",
    "\n",
    "    # Step 2: Initialize column containers\n",
    "    col_data = {}\n",
    "\n",
    "    # Step 3: Read CSV and collect column-wise data\n",
    "    with full_path.open(mode='r', newline='', encoding='latin1') as file:\n",
    "        reader = csv.DictReader(file)\n",
    "        for row in reader:\n",
    "            for col, val in row.items():\n",
    "                col_data.setdefault(col, []).append(val)\n",
    "\n",
    "    # Step 4: Convert lists to NumPy arrays\n",
    "    col_dict = {col: np.array(vals) for col, vals in col_data.items()}\n",
    "\n",
    "    return col_dict\n"
   ]
  },
  {
   "cell_type": "markdown",
   "id": "a41757a9-4265-4545-941f-3e68014b5fb0",
   "metadata": {
    "jp-MarkdownHeadingCollapsed": true
   },
   "source": [
    "#### **Call func** *for* **col_dict** [4] "
   ]
  },
  {
   "cell_type": "code",
   "execution_count": 11,
   "id": "7cac633d-596a-437e-84e2-e1630885522a",
   "metadata": {
    "collapsed": true,
    "jupyter": {
     "outputs_hidden": true
    }
   },
   "outputs": [
    {
     "data": {
      "text/plain": [
       "{'1. Name': array(['-'], dtype='<U1'),\n",
       " '2. ID': array(['bjh_mrn'], dtype='<U7'),\n",
       " '3. Height': array(['6ft 06.0in'], dtype='<U10'),\n",
       " '4. Date of Birth': array(['-'], dtype='<U1'),\n",
       " '5. Gender': array(['M'], dtype='<U1'),\n",
       " '6. Age': array(['76'], dtype='<U2'),\n",
       " '7. Mobile Number': array(['-'], dtype='<U1'),\n",
       " '8. Phone Number': array(['-'], dtype='<U1'),\n",
       " '9. Zip Code': array(['-'], dtype='<U1'),\n",
       " '10. Address': array(['-'], dtype='<U1'),\n",
       " '11. E-mail': array(['-'], dtype='<U1'),\n",
       " '12. Date of Registration': array(['2025.09.17.'], dtype='<U11'),\n",
       " '13. Memo': array(['-'], dtype='<U1'),\n",
       " '14. Test Date / Time': array(['2.02509E+13'], dtype='<U11'),\n",
       " '15. Weight': array(['260.8'], dtype='<U5'),\n",
       " '16. Lower Limit (Weight Normal Range)': array(['161.8'], dtype='<U5'),\n",
       " '17. Upper Limit (Weight Normal Range)': array(['218.7'], dtype='<U5'),\n",
       " '18. TBW (Total Body Water)': array(['132.9'], dtype='<U5'),\n",
       " '19. Lower Limit (TBW Normal Range)': array(['106.9'], dtype='<U5'),\n",
       " '20. Upper Limit (TBW Normal Range)': array(['130.7'], dtype='<U5'),\n",
       " '21. ICW (Intracellular Water)': array(['78'], dtype='<U2'),\n",
       " '22. Lower Limit (ICW Normal Range)': array(['66.4'], dtype='<U4'),\n",
       " '23. Upper Limit (ICW Normal Range)': array(['80.9'], dtype='<U4'),\n",
       " '24. ECW (Extracellular Water)': array(['54.9'], dtype='<U4'),\n",
       " '25. Lower Limit (ECW Normal Range)': array(['40.8'], dtype='<U4'),\n",
       " '26. Upper Limit (ECW Normal Range)': array(['49.6'], dtype='<U4'),\n",
       " '27. Protein': array(['33.5'], dtype='<U4'),\n",
       " '28. Lower Limit (Protein Normal Range)': array(['28.9'], dtype='<U4'),\n",
       " '29. Upper Limit (Protein Normal Range)': array(['35.1'], dtype='<U4'),\n",
       " '30. Minerals': array(['13.18'], dtype='<U5'),\n",
       " '31. Lower Limit (Minerals Normal Range)': array(['9.9'], dtype='<U3'),\n",
       " '32. Upper Limit (Minerals Normal Range)': array(['12.1'], dtype='<U4'),\n",
       " '33. DLM (Dry Lean Mass)': array(['46.7'], dtype='<U4'),\n",
       " '34. BFM (Body Fat Mass)': array(['81.1'], dtype='<U4'),\n",
       " '35. Lower Limit (BFM Normal Range)': array(['22.9'], dtype='<U4'),\n",
       " '36. Upper Limit (BFM Normal Range)': array(['45.6'], dtype='<U4'),\n",
       " '37. FFM (Fat Free Mass)': array(['179.7'], dtype='<U5'),\n",
       " '38. SMM (Skeletal Muscle Mass)': array(['97.2'], dtype='<U4'),\n",
       " '39. Lower Limit (SMM Normal Range)': array(['82.5'], dtype='<U4'),\n",
       " '40. Upper Limit (SMM Normal Range)': array(['101'], dtype='<U3'),\n",
       " '41. BMI (Body Mass Index)': array(['30.1'], dtype='<U4'),\n",
       " '42. Lower Limit (BMI Normal Range)': array(['18.5'], dtype='<U4'),\n",
       " '43. Upper Limit (BMI Normal Range)': array(['25'], dtype='<U2'),\n",
       " '44. PBF (Percent Body Fat)': array(['31.1'], dtype='<U4'),\n",
       " '45. Lower Limit (PBF Normal Range)': array(['10'], dtype='<U2'),\n",
       " '46. Upper Limit (PBF Normal Range)': array(['20'], dtype='<U2'),\n",
       " '47. Lean Mass of Right Arm': array(['10.32'], dtype='<U5'),\n",
       " '48. Lower Limit (Lean Mass of Right Arm Normal Range)': array(['7.69'], dtype='<U4'),\n",
       " '49. Upper Limit (Lean Mass of Right Arm Normal Range)': array(['10.43'], dtype='<U5'),\n",
       " '50. Lean Mass(%) of Right Arm': array(['103.5'], dtype='<U5'),\n",
       " '51. Lean Mass of Left Arm': array(['10.03'], dtype='<U5'),\n",
       " '52. Lower Limit (Lean Mass of Left Arm Normal Range)': array(['7.69'], dtype='<U4'),\n",
       " '53. Upper Limit (Lean Mass of Left Arm Normal Range)': array(['10.43'], dtype='<U5'),\n",
       " '54. Lean Mass(%) of Left Arm': array(['100.6'], dtype='<U5'),\n",
       " '55. Lean Mass of Trunk': array(['74.9'], dtype='<U4'),\n",
       " '56. Lower Limit (Lean Mass of Trunk Normal Range)': array(['65'], dtype='<U2'),\n",
       " '57. Upper Limit (Lean Mass of Trunk Normal Range)': array(['79.6'], dtype='<U4'),\n",
       " '58. Lean Mass(%) of Trunk': array(['94.4'], dtype='<U4'),\n",
       " '59. Lean Mass of Right Leg': array(['33.03'], dtype='<U5'),\n",
       " '60. Lower Limit (Lean Mass of Right Leg Normal Range)': array(['22.66'], dtype='<U5'),\n",
       " '61. Upper Limit (Lean Mass of Right Leg Normal Range)': array(['27.69'], dtype='<U5'),\n",
       " '62. Lean Mass(%) of Right Leg': array(['119.3'], dtype='<U5'),\n",
       " '63. Lean Mass of Left Leg': array(['32.21'], dtype='<U5'),\n",
       " '64. Lower Limit (Lean Mass of Left Leg Normal Range)': array(['22.66'], dtype='<U5'),\n",
       " '65. Upper Limit (Lean Mass of Left Leg Normal Range)': array(['27.69'], dtype='<U5'),\n",
       " '66. Lean Mass(%) of Left Leg': array(['116.3'], dtype='<U5'),\n",
       " '67. Leg Lean Mass': array(['65.3'], dtype='<U4'),\n",
       " '68. TBW of Right Arm': array(['8.05'], dtype='<U4'),\n",
       " '69. Lower Limit (TBW of Right Arm Normal Range)': array(['6.04'], dtype='<U4'),\n",
       " '70. Upper Limit (TBW of Right Arm Normal Range)': array(['8.16'], dtype='<U4'),\n",
       " '71. TBW of Left Arm': array(['7.85'], dtype='<U4'),\n",
       " '72. Lower Limit (TBW of Left Arm Normal Range)': array(['6.04'], dtype='<U4'),\n",
       " '73. Upper Limit (TBW of Left Arm Normal Range)': array(['8.16'], dtype='<U4'),\n",
       " '74. TBW of Trunk': array(['59.1'], dtype='<U4'),\n",
       " '75. Lower Limit (TBW of Trunk Normal Range)': array(['50.9'], dtype='<U4'),\n",
       " '76. Upper Limit (TBW of Trunk Normal Range)': array(['62.4'], dtype='<U4'),\n",
       " '77. TBW of Right Leg': array(['26.1'], dtype='<U4'),\n",
       " '78. Lower Limit (TBW of Right Leg Normal Range)': array(['17.77'], dtype='<U5'),\n",
       " '79. Upper Limit (TBW of Right Leg Normal Range)': array(['21.72'], dtype='<U5'),\n",
       " '80. TBW of Left Leg': array(['25.42'], dtype='<U5'),\n",
       " '81. Lower Limit (TBW of Left Leg Normal Range)': array(['17.77'], dtype='<U5'),\n",
       " '82. Upper Limit (TBW of Left Leg Normal Range)': array(['21.72'], dtype='<U5'),\n",
       " '83. ICW of Right Arm': array(['4.92'], dtype='<U4'),\n",
       " '84. Lower Limit (ICW of Right Arm Normal Range)': array(['3.75'], dtype='<U4'),\n",
       " '85. Upper Limit (ICW of Right Arm Normal Range)': array(['5.07'], dtype='<U4'),\n",
       " '86. ICW of Left Arm': array(['4.78'], dtype='<U4'),\n",
       " '87. Lower Limit (ICW of Left Arm Normal Range)': array(['3.75'], dtype='<U4'),\n",
       " '88. Upper Limit (ICW of Left Arm Normal Range)': array(['5.07'], dtype='<U4'),\n",
       " '89. ICW of Trunk': array(['34.6'], dtype='<U4'),\n",
       " '90. Lower Limit (ICW of Trunk Normal Range)': array(['31.5'], dtype='<U4'),\n",
       " '91. Upper Limit (ICW of Trunk Normal Range)': array(['38.6'], dtype='<U4'),\n",
       " '92. ICW of Right Leg': array(['15.08'], dtype='<U5'),\n",
       " '93. Lower Limit (ICW of Right Leg Normal Range)': array(['11.02'], dtype='<U5'),\n",
       " '94. Upper Limit (ICW of Right Leg Normal Range)': array(['13.47'], dtype='<U5'),\n",
       " '95. ICW of Left Leg': array(['14.75'], dtype='<U5'),\n",
       " '96. Lower Limit (ICW of Left Leg Normal Range)': array(['11.02'], dtype='<U5'),\n",
       " '97. Upper Limit (ICW of Left Leg Normal Range)': array(['13.47'], dtype='<U5'),\n",
       " '98. ECW of Right Arm': array(['3.13'], dtype='<U4'),\n",
       " '99. Lower Limit (ECW of Right Arm Normal Range)': array(['2.29'], dtype='<U4'),\n",
       " '100. Upper Limit (ECW of Right Arm Normal Range)': array(['3.09'], dtype='<U4'),\n",
       " '101. ECW of Left Arm': array(['3.06'], dtype='<U4'),\n",
       " '102. Lower Limit (ECW of Left Arm Normal Range)': array(['2.29'], dtype='<U4'),\n",
       " '103. Upper Limit (ECW of Left Arm Normal Range)': array(['3.09'], dtype='<U4'),\n",
       " '104. ECW of Trunk': array(['24.5'], dtype='<U4'),\n",
       " '105. Lower Limit (ECW of Trunk Normal Range)': array(['19.4'], dtype='<U4'),\n",
       " '106. Upper Limit (ECW of Trunk Normal Range)': array(['23.8'], dtype='<U4'),\n",
       " '107. ECW of Right Leg': array(['11.02'], dtype='<U5'),\n",
       " '108. Lower Limit (ECW of Right Leg Normal Range)': array(['6.75'], dtype='<U4'),\n",
       " '109. Upper Limit (ECW of Right Leg Normal Range)': array(['8.25'], dtype='<U4'),\n",
       " '110. ECW of Left Leg': array(['10.67'], dtype='<U5'),\n",
       " '111. Lower Limit (ECW of Left Leg Normal Range)': array(['6.75'], dtype='<U4'),\n",
       " '112. Upper Limit (ECW of Left Leg Normal Range)': array(['8.25'], dtype='<U4'),\n",
       " '113. ECW/TBW': array(['0.413'], dtype='<U5'),\n",
       " '114. ECW/TBW of Right Arm': array(['0.389'], dtype='<U5'),\n",
       " '115. ECW/TBW of Left Arm': array(['0.392'], dtype='<U5'),\n",
       " '116. ECW/TBW of Trunk': array(['0.413'], dtype='<U5'),\n",
       " '117. ECW/TBW of Right Leg': array(['0.422'], dtype='<U5'),\n",
       " '118. ECW/TBW of Left Leg': array(['0.419'], dtype='<U5'),\n",
       " '119. BFM of Right Arm': array(['6.6'], dtype='<U3'),\n",
       " '120. BFM% of Right Arm': array(['385'], dtype='<U3'),\n",
       " '121. BFM of Left Arm': array(['6.8'], dtype='<U3'),\n",
       " '122. BFM% of Left Arm': array(['398.6'], dtype='<U5'),\n",
       " '123. BFM of Trunk': array(['40.3'], dtype='<U4'),\n",
       " '124. BFM% of Trunk': array(['334.8'], dtype='<U5'),\n",
       " '125. BFM of Right Leg': array(['12.1'], dtype='<U4'),\n",
       " '126. BFM% of Right Leg': array(['246.8'], dtype='<U5'),\n",
       " '127. BFM of Left Leg': array(['12.1'], dtype='<U4'),\n",
       " '128. BFM% of Left Leg': array(['245.9'], dtype='<U5'),\n",
       " '129. InBody Score': array(['66'], dtype='<U2'),\n",
       " '130. BFM Control': array(['-49.4'], dtype='<U5'),\n",
       " '131. FFM Control': array(['0'], dtype='<U1'),\n",
       " '132. BMR (Basal Metabolic Rate)': array(['2131'], dtype='<U4'),\n",
       " '133. VFL (Visceral Fat Level)': array(['16'], dtype='<U2'),\n",
       " '134. VFA (Visceral Fat Area)': array(['169.4'], dtype='<U5'),\n",
       " '135. BCM (Body Cell Mass)': array(['111.6'], dtype='<U5'),\n",
       " '136. Lower Limit (BCM Normal Range)': array(['95'], dtype='<U2'),\n",
       " '137. Upper Limit (BCM Normal Range)': array(['116.2'], dtype='<U5'),\n",
       " '138. AC (Arm Circumference)': array(['13'], dtype='<U2'),\n",
       " '139. BMC (Bone Mineral Content)': array(['10.96'], dtype='<U5'),\n",
       " '140. Lower Limit (BMC Normal Range)': array(['8.16'], dtype='<U4'),\n",
       " '141. Upper Limit (BMC Normal Range)': array(['9.97'], dtype='<U4'),\n",
       " '142. TBW/FFM': array(['74'], dtype='<U2'),\n",
       " '143. FFMI (Fat Free Mass Index)': array(['20.8'], dtype='<U4'),\n",
       " '144. FMI (Fat Mass Index)': array(['9.4'], dtype='<U3'),\n",
       " '145. 5kHz-RA Phase Angle': array(['2.1'], dtype='<U3'),\n",
       " '146. 5kHz-LA Phase Angle': array(['1.9'], dtype='<U3'),\n",
       " '147. 5kHz-TR Phase Angle': array(['2.8'], dtype='<U3'),\n",
       " '148. 5kHz-RL Phase Angle': array(['1.3'], dtype='<U3'),\n",
       " '149. 5kHz-LL Phase Angle': array(['1.4'], dtype='<U3'),\n",
       " '150. 50kHz-RA Phase Angle': array(['4.2'], dtype='<U3'),\n",
       " '151. 50kHz-LA Phase Angle': array(['3.8'], dtype='<U3'),\n",
       " '152. 50kHz-TR Phase Angle': array(['5.5'], dtype='<U3'),\n",
       " '153. 50kHz-RL Phase Angle': array(['2.6'], dtype='<U3'),\n",
       " '154. 50kHz-LL Phase Angle': array(['2.9'], dtype='<U3'),\n",
       " '155. 250kHz-RA Phase Angle': array(['4.1'], dtype='<U3'),\n",
       " '156. 250kHz-LA Phase Angle': array(['3.7'], dtype='<U3'),\n",
       " '157. 250kHz-TR Phase Angle': array(['6.1'], dtype='<U3'),\n",
       " '158. 250kHz-RL Phase Angle': array(['2.5'], dtype='<U3'),\n",
       " '159. 250kHz-LL Phase Angle': array(['2.7'], dtype='<U3'),\n",
       " '160. 50kHz-Whole Body Phase Angle': array(['3.7'], dtype='<U3'),\n",
       " '161. Systolic': array(['-'], dtype='<U1'),\n",
       " '162. Diastolic': array(['-'], dtype='<U1'),\n",
       " '163. Pulse': array(['-'], dtype='<U1'),\n",
       " '164. Mean Artery Pressure': array(['-'], dtype='<U1'),\n",
       " '165. Pulse Pressure': array(['-'], dtype='<U1'),\n",
       " '166. Rate Pressure Product': array(['-'], dtype='<U1'),\n",
       " '167. InBody Type': array(['970'], dtype='<U3'),\n",
       " '168. Local ID': array(['17'], dtype='<U2'),\n",
       " '169. ICW/FFM%': array(['43.4'], dtype='<U4'),\n",
       " '170. SMI (Skeletal Muscle Index)': array(['9.9'], dtype='<U3'),\n",
       " '171. Medical History': array(['-'], dtype='<U1'),\n",
       " '172. Group': array(['-'], dtype='<U1'),\n",
       " '173. Recommended Calorie Intake': array(['3072'], dtype='<U4'),\n",
       " '174. Lower Limit (BMR Normal Range)': array(['2325'], dtype='<U4'),\n",
       " '175. Upper Limit (BMR Normal Range)': array(['2759'], dtype='<U4'),\n",
       " '176. SMI(ASM/Ht²)_T score': array(['1.2'], dtype='<U3'),\n",
       " '177. SMI(ASM/Ht²)_Z score': array(['2.1'], dtype='<U3'),\n",
       " '178. Whole Body ECW/TBW_T score': array(['7.5'], dtype='<U3'),\n",
       " '179. Whole Body ECW/TBW_Z score': array(['4.3'], dtype='<U3'),\n",
       " '180. VFA_T score': array(['3.3'], dtype='<U3'),\n",
       " '181. VFA_Z score': array(['1.7'], dtype='<U3'),\n",
       " '182. BMI_T score': array(['0.9'], dtype='<U3'),\n",
       " '183. BMI_Z score': array(['0.6'], dtype='<U3'),\n",
       " '184. Subcutaneous Fat': array(['0'], dtype='<U1'),\n",
       " '185. Arms/Legs Fat': array(['37.7'], dtype='<U4'),\n",
       " '186. Lower Limit (Subcutaneous Fat of Abdomen Normal Range)': array(['2.51'], dtype='<U4'),\n",
       " '187. Upper Limit (Subcutaneous Fat of Abdomen Normal Range)': array(['5.03'], dtype='<U4'),\n",
       " '188. Visceral Fat': array(['0'], dtype='<U1'),\n",
       " '189. Lower Limit (Visceral Fat of Abdomen Normal Range)': array(['1.26'], dtype='<U4'),\n",
       " '190. Upper Limit (Visceral Fat of Abdomen Normal Range)': array(['2.51'], dtype='<U4'),\n",
       " '191. Lower Limit (BFM of Arm & Leg Normal Range)': array(['10.6'], dtype='<U4'),\n",
       " '192. Upper Limit (BFM of Arm & Leg Normal Range)': array(['21.2'], dtype='<U4'),\n",
       " '193. Lower Limit (BFM of Trunk Normal Range)': array(['9.7'], dtype='<U3'),\n",
       " '194. Upper Limit (BFM of Trunk Normal Range)': array(['19.4'], dtype='<U4'),\n",
       " '195. Abdominal Fat': array(['0'], dtype='<U1'),\n",
       " '196. V/S Ratio(Visceral Fat Area/Subcutaneous Fat Area ratio)': array(['0'], dtype='<U1'),\n",
       " '197. SFA(Subcutaneous Fat Area)': array(['0'], dtype='<U1'),\n",
       " '198. WHtR(Waist-Height Ratio)': array(['0.56'], dtype='<U4'),\n",
       " '199. BAI(Body Adiposity Index)': array(['22.3'], dtype='<U4'),\n",
       " '200. ABSI(A Body Shaped Index)': array(['0.081'], dtype='<U5'),\n",
       " '201. Conicity Index': array(['1.32'], dtype='<U4'),\n",
       " '202. LVR(Lean Mass-Visceral Fat Area Ratio)': array(['0.26'], dtype='<U4'),\n",
       " '203. Upper Limit (WHtR Normal Range)': array(['0.5'], dtype='<U3'),\n",
       " '204. Upper Limit (BAI Normal Range)': array(['26.9'], dtype='<U4'),\n",
       " '205. Upper Limit (ABSI Normal Range)': array(['0.076'], dtype='<U5'),\n",
       " '206. Upper Limit (Conicity Index Normal Range)': array(['1.25'], dtype='<U4'),\n",
       " '207. Upper Limit (LVR Normal Range)': array(['0.19'], dtype='<U4'),\n",
       " '208. 50khz-Ab Impedance': array(['0'], dtype='<U1'),\n",
       " '209. 250khz-Ab Impedance': array(['0'], dtype='<U1'),\n",
       " '210. WC(Waist Circumference)\\xa0': array(['43.7'], dtype='<U4'),\n",
       " '211. Angle-R': array(['0'], dtype='<U1'),\n",
       " '212. Angle_L': array(['0'], dtype='<U1'),\n",
       " '213. Lower Limit (Abdominal Fat Normal Range)': array(['3.77'], dtype='<U4'),\n",
       " '214. Upper Limit (Abdominal Fat Normal Range)': array(['7.54'], dtype='<U4'),\n",
       " '215. Lower Limit (FFM Normal Range)': array(['145.5'], dtype='<U5'),\n",
       " '216. Upper Limit (FFM Normal Range)': array(['177.9'], dtype='<U5'),\n",
       " '217. SMM/WT': array(['37.3'], dtype='<U4'),\n",
       " '218. Systolic2': array(['0'], dtype='<U1'),\n",
       " '219. Diastolic2': array(['0'], dtype='<U1'),\n",
       " '220. Pulse2': array(['0'], dtype='<U1'),\n",
       " '221. Mean Artery Pressure2': array(['0'], dtype='<U1'),\n",
       " '222. Pulse Pressure2': array(['0'], dtype='<U1'),\n",
       " '223. Rate Pressure Product2': array(['0'], dtype='<U1'),\n",
       " '224. BFM% of Whole Body': array(['284'], dtype='<U3'),\n",
       " '225. ECM/BCM': array(['0.611'], dtype='<U5'),\n",
       " '226. TBW/WT': array(['51'], dtype='<U2'),\n",
       " '227. Lean Mass(%) of Right Arm (Ideal Weight)': array(['113.9'], dtype='<U5'),\n",
       " '228. Lean Mass(%) of Left Arm (Ideal Weight)': array(['110.7'], dtype='<U5'),\n",
       " '229. Lean Mass(%) of Trunk (Ideal Weight)': array(['103.7'], dtype='<U5'),\n",
       " '230. Lean Mass(%) of Right Leg (Ideal Weight)': array(['131.2'], dtype='<U5'),\n",
       " '231. Lean Mass(%) of Left Leg (Ideal Weight)': array(['127.9'], dtype='<U5'),\n",
       " '232. Impedance Check': array(['000/000/000'], dtype='<U11'),\n",
       " '233. BCM_T score': array(['0.7'], dtype='<U3'),\n",
       " '234. BCM_Z score': array(['2.6'], dtype='<U3'),\n",
       " '235. FFMI_T score': array(['-0.3'], dtype='<U4'),\n",
       " '236. FFMI_Z score': array(['0.6'], dtype='<U3'),\n",
       " '237. FMI_T score': array(['1.4'], dtype='<U3'),\n",
       " '238. FMI_Z score': array(['0.4'], dtype='<U3'),\n",
       " '239. PBF_T score': array(['1.5'], dtype='<U3'),\n",
       " '240. PBF_Z score': array(['0.4'], dtype='<U3'),\n",
       " '241. Weight_T score': array(['2.4'], dtype='<U3'),\n",
       " '242. Weight_Z score': array(['2.4'], dtype='<U3'),\n",
       " '243. 50kHz-Whole Body Phase Angle_T score': array(['-5.4'], dtype='<U4'),\n",
       " '244. 50kHz-Whole Body Phase Angle_Z score': array(['-2.4'], dtype='<U4'),\n",
       " '245. TBW/WT_T Score': array(['-1.4'], dtype='<U4'),\n",
       " '246. TBW/WT_Z Score': array(['-0.4'], dtype='<U4'),\n",
       " '247. SMI(SMM/Wt)_T score': array(['-2'], dtype='<U2'),\n",
       " '248. SMI(SMM/Wt)_Z score': array(['-0.6'], dtype='<U4'),\n",
       " '249. ECM/BCM_T Score': array(['8.2'], dtype='<U3'),\n",
       " '250. ECM/BCM Z Score': array(['4.8'], dtype='<U3')}"
      ]
     },
     "execution_count": 11,
     "metadata": {},
     "output_type": "execute_result"
    }
   ],
   "source": [
    "# call load_csv_to_col_dict(bnm, subfolder=None)\n",
    " \n",
    "bnm = \"ib97.csv\"\n",
    "bnm = load_csv_to_col_dict(bnm)\n",
    "bnm"
   ]
  },
  {
   "cell_type": "markdown",
   "id": "06fe8200-069d-49db-89b8-433016f7fef6",
   "metadata": {},
   "source": [
    "####  **Readers for col_dict**       [4] ok"
   ]
  },
  {
   "cell_type": "code",
   "execution_count": 12,
   "id": "6367621a-d914-4ce3-bc2e-f629de881c45",
   "metadata": {
    "collapsed": true,
    "jupyter": {
     "outputs_hidden": true
    },
    "scrolled": true
   },
   "outputs": [
    {
     "data": {
      "text/plain": [
       "{'1. Name': array(['-'], dtype='<U1'),\n",
       " '2. ID': array(['bjh_mrn'], dtype='<U7'),\n",
       " '3. Height': array(['6ft 06.0in'], dtype='<U10'),\n",
       " '4. Date of Birth': array(['-'], dtype='<U1'),\n",
       " '5. Gender': array(['M'], dtype='<U1'),\n",
       " '6. Age': array(['76'], dtype='<U2'),\n",
       " '7. Mobile Number': array(['-'], dtype='<U1'),\n",
       " '8. Phone Number': array(['-'], dtype='<U1'),\n",
       " '9. Zip Code': array(['-'], dtype='<U1'),\n",
       " '10. Address': array(['-'], dtype='<U1'),\n",
       " '11. E-mail': array(['-'], dtype='<U1'),\n",
       " '12. Date of Registration': array(['2025.09.17.'], dtype='<U11'),\n",
       " '13. Memo': array(['-'], dtype='<U1'),\n",
       " '14. Test Date / Time': array(['2.02509E+13'], dtype='<U11'),\n",
       " '15. Weight': array(['260.8'], dtype='<U5'),\n",
       " '16. Lower Limit (Weight Normal Range)': array(['161.8'], dtype='<U5'),\n",
       " '17. Upper Limit (Weight Normal Range)': array(['218.7'], dtype='<U5'),\n",
       " '18. TBW (Total Body Water)': array(['132.9'], dtype='<U5'),\n",
       " '19. Lower Limit (TBW Normal Range)': array(['106.9'], dtype='<U5'),\n",
       " '20. Upper Limit (TBW Normal Range)': array(['130.7'], dtype='<U5'),\n",
       " '21. ICW (Intracellular Water)': array(['78'], dtype='<U2'),\n",
       " '22. Lower Limit (ICW Normal Range)': array(['66.4'], dtype='<U4'),\n",
       " '23. Upper Limit (ICW Normal Range)': array(['80.9'], dtype='<U4'),\n",
       " '24. ECW (Extracellular Water)': array(['54.9'], dtype='<U4'),\n",
       " '25. Lower Limit (ECW Normal Range)': array(['40.8'], dtype='<U4'),\n",
       " '26. Upper Limit (ECW Normal Range)': array(['49.6'], dtype='<U4'),\n",
       " '27. Protein': array(['33.5'], dtype='<U4'),\n",
       " '28. Lower Limit (Protein Normal Range)': array(['28.9'], dtype='<U4'),\n",
       " '29. Upper Limit (Protein Normal Range)': array(['35.1'], dtype='<U4'),\n",
       " '30. Minerals': array(['13.18'], dtype='<U5'),\n",
       " '31. Lower Limit (Minerals Normal Range)': array(['9.9'], dtype='<U3'),\n",
       " '32. Upper Limit (Minerals Normal Range)': array(['12.1'], dtype='<U4'),\n",
       " '33. DLM (Dry Lean Mass)': array(['46.7'], dtype='<U4'),\n",
       " '34. BFM (Body Fat Mass)': array(['81.1'], dtype='<U4'),\n",
       " '35. Lower Limit (BFM Normal Range)': array(['22.9'], dtype='<U4'),\n",
       " '36. Upper Limit (BFM Normal Range)': array(['45.6'], dtype='<U4'),\n",
       " '37. FFM (Fat Free Mass)': array(['179.7'], dtype='<U5'),\n",
       " '38. SMM (Skeletal Muscle Mass)': array(['97.2'], dtype='<U4'),\n",
       " '39. Lower Limit (SMM Normal Range)': array(['82.5'], dtype='<U4'),\n",
       " '40. Upper Limit (SMM Normal Range)': array(['101'], dtype='<U3'),\n",
       " '41. BMI (Body Mass Index)': array(['30.1'], dtype='<U4'),\n",
       " '42. Lower Limit (BMI Normal Range)': array(['18.5'], dtype='<U4'),\n",
       " '43. Upper Limit (BMI Normal Range)': array(['25'], dtype='<U2'),\n",
       " '44. PBF (Percent Body Fat)': array(['31.1'], dtype='<U4'),\n",
       " '45. Lower Limit (PBF Normal Range)': array(['10'], dtype='<U2'),\n",
       " '46. Upper Limit (PBF Normal Range)': array(['20'], dtype='<U2'),\n",
       " '47. Lean Mass of Right Arm': array(['10.32'], dtype='<U5'),\n",
       " '48. Lower Limit (Lean Mass of Right Arm Normal Range)': array(['7.69'], dtype='<U4'),\n",
       " '49. Upper Limit (Lean Mass of Right Arm Normal Range)': array(['10.43'], dtype='<U5'),\n",
       " '50. Lean Mass(%) of Right Arm': array(['103.5'], dtype='<U5'),\n",
       " '51. Lean Mass of Left Arm': array(['10.03'], dtype='<U5'),\n",
       " '52. Lower Limit (Lean Mass of Left Arm Normal Range)': array(['7.69'], dtype='<U4'),\n",
       " '53. Upper Limit (Lean Mass of Left Arm Normal Range)': array(['10.43'], dtype='<U5'),\n",
       " '54. Lean Mass(%) of Left Arm': array(['100.6'], dtype='<U5'),\n",
       " '55. Lean Mass of Trunk': array(['74.9'], dtype='<U4'),\n",
       " '56. Lower Limit (Lean Mass of Trunk Normal Range)': array(['65'], dtype='<U2'),\n",
       " '57. Upper Limit (Lean Mass of Trunk Normal Range)': array(['79.6'], dtype='<U4'),\n",
       " '58. Lean Mass(%) of Trunk': array(['94.4'], dtype='<U4'),\n",
       " '59. Lean Mass of Right Leg': array(['33.03'], dtype='<U5'),\n",
       " '60. Lower Limit (Lean Mass of Right Leg Normal Range)': array(['22.66'], dtype='<U5'),\n",
       " '61. Upper Limit (Lean Mass of Right Leg Normal Range)': array(['27.69'], dtype='<U5'),\n",
       " '62. Lean Mass(%) of Right Leg': array(['119.3'], dtype='<U5'),\n",
       " '63. Lean Mass of Left Leg': array(['32.21'], dtype='<U5'),\n",
       " '64. Lower Limit (Lean Mass of Left Leg Normal Range)': array(['22.66'], dtype='<U5'),\n",
       " '65. Upper Limit (Lean Mass of Left Leg Normal Range)': array(['27.69'], dtype='<U5'),\n",
       " '66. Lean Mass(%) of Left Leg': array(['116.3'], dtype='<U5'),\n",
       " '67. Leg Lean Mass': array(['65.3'], dtype='<U4'),\n",
       " '68. TBW of Right Arm': array(['8.05'], dtype='<U4'),\n",
       " '69. Lower Limit (TBW of Right Arm Normal Range)': array(['6.04'], dtype='<U4'),\n",
       " '70. Upper Limit (TBW of Right Arm Normal Range)': array(['8.16'], dtype='<U4'),\n",
       " '71. TBW of Left Arm': array(['7.85'], dtype='<U4'),\n",
       " '72. Lower Limit (TBW of Left Arm Normal Range)': array(['6.04'], dtype='<U4'),\n",
       " '73. Upper Limit (TBW of Left Arm Normal Range)': array(['8.16'], dtype='<U4'),\n",
       " '74. TBW of Trunk': array(['59.1'], dtype='<U4'),\n",
       " '75. Lower Limit (TBW of Trunk Normal Range)': array(['50.9'], dtype='<U4'),\n",
       " '76. Upper Limit (TBW of Trunk Normal Range)': array(['62.4'], dtype='<U4'),\n",
       " '77. TBW of Right Leg': array(['26.1'], dtype='<U4'),\n",
       " '78. Lower Limit (TBW of Right Leg Normal Range)': array(['17.77'], dtype='<U5'),\n",
       " '79. Upper Limit (TBW of Right Leg Normal Range)': array(['21.72'], dtype='<U5'),\n",
       " '80. TBW of Left Leg': array(['25.42'], dtype='<U5'),\n",
       " '81. Lower Limit (TBW of Left Leg Normal Range)': array(['17.77'], dtype='<U5'),\n",
       " '82. Upper Limit (TBW of Left Leg Normal Range)': array(['21.72'], dtype='<U5'),\n",
       " '83. ICW of Right Arm': array(['4.92'], dtype='<U4'),\n",
       " '84. Lower Limit (ICW of Right Arm Normal Range)': array(['3.75'], dtype='<U4'),\n",
       " '85. Upper Limit (ICW of Right Arm Normal Range)': array(['5.07'], dtype='<U4'),\n",
       " '86. ICW of Left Arm': array(['4.78'], dtype='<U4'),\n",
       " '87. Lower Limit (ICW of Left Arm Normal Range)': array(['3.75'], dtype='<U4'),\n",
       " '88. Upper Limit (ICW of Left Arm Normal Range)': array(['5.07'], dtype='<U4'),\n",
       " '89. ICW of Trunk': array(['34.6'], dtype='<U4'),\n",
       " '90. Lower Limit (ICW of Trunk Normal Range)': array(['31.5'], dtype='<U4'),\n",
       " '91. Upper Limit (ICW of Trunk Normal Range)': array(['38.6'], dtype='<U4'),\n",
       " '92. ICW of Right Leg': array(['15.08'], dtype='<U5'),\n",
       " '93. Lower Limit (ICW of Right Leg Normal Range)': array(['11.02'], dtype='<U5'),\n",
       " '94. Upper Limit (ICW of Right Leg Normal Range)': array(['13.47'], dtype='<U5'),\n",
       " '95. ICW of Left Leg': array(['14.75'], dtype='<U5'),\n",
       " '96. Lower Limit (ICW of Left Leg Normal Range)': array(['11.02'], dtype='<U5'),\n",
       " '97. Upper Limit (ICW of Left Leg Normal Range)': array(['13.47'], dtype='<U5'),\n",
       " '98. ECW of Right Arm': array(['3.13'], dtype='<U4'),\n",
       " '99. Lower Limit (ECW of Right Arm Normal Range)': array(['2.29'], dtype='<U4'),\n",
       " '100. Upper Limit (ECW of Right Arm Normal Range)': array(['3.09'], dtype='<U4'),\n",
       " '101. ECW of Left Arm': array(['3.06'], dtype='<U4'),\n",
       " '102. Lower Limit (ECW of Left Arm Normal Range)': array(['2.29'], dtype='<U4'),\n",
       " '103. Upper Limit (ECW of Left Arm Normal Range)': array(['3.09'], dtype='<U4'),\n",
       " '104. ECW of Trunk': array(['24.5'], dtype='<U4'),\n",
       " '105. Lower Limit (ECW of Trunk Normal Range)': array(['19.4'], dtype='<U4'),\n",
       " '106. Upper Limit (ECW of Trunk Normal Range)': array(['23.8'], dtype='<U4'),\n",
       " '107. ECW of Right Leg': array(['11.02'], dtype='<U5'),\n",
       " '108. Lower Limit (ECW of Right Leg Normal Range)': array(['6.75'], dtype='<U4'),\n",
       " '109. Upper Limit (ECW of Right Leg Normal Range)': array(['8.25'], dtype='<U4'),\n",
       " '110. ECW of Left Leg': array(['10.67'], dtype='<U5'),\n",
       " '111. Lower Limit (ECW of Left Leg Normal Range)': array(['6.75'], dtype='<U4'),\n",
       " '112. Upper Limit (ECW of Left Leg Normal Range)': array(['8.25'], dtype='<U4'),\n",
       " '113. ECW/TBW': array(['0.413'], dtype='<U5'),\n",
       " '114. ECW/TBW of Right Arm': array(['0.389'], dtype='<U5'),\n",
       " '115. ECW/TBW of Left Arm': array(['0.392'], dtype='<U5'),\n",
       " '116. ECW/TBW of Trunk': array(['0.413'], dtype='<U5'),\n",
       " '117. ECW/TBW of Right Leg': array(['0.422'], dtype='<U5'),\n",
       " '118. ECW/TBW of Left Leg': array(['0.419'], dtype='<U5'),\n",
       " '119. BFM of Right Arm': array(['6.6'], dtype='<U3'),\n",
       " '120. BFM% of Right Arm': array(['385'], dtype='<U3'),\n",
       " '121. BFM of Left Arm': array(['6.8'], dtype='<U3'),\n",
       " '122. BFM% of Left Arm': array(['398.6'], dtype='<U5'),\n",
       " '123. BFM of Trunk': array(['40.3'], dtype='<U4'),\n",
       " '124. BFM% of Trunk': array(['334.8'], dtype='<U5'),\n",
       " '125. BFM of Right Leg': array(['12.1'], dtype='<U4'),\n",
       " '126. BFM% of Right Leg': array(['246.8'], dtype='<U5'),\n",
       " '127. BFM of Left Leg': array(['12.1'], dtype='<U4'),\n",
       " '128. BFM% of Left Leg': array(['245.9'], dtype='<U5'),\n",
       " '129. InBody Score': array(['66'], dtype='<U2'),\n",
       " '130. BFM Control': array(['-49.4'], dtype='<U5'),\n",
       " '131. FFM Control': array(['0'], dtype='<U1'),\n",
       " '132. BMR (Basal Metabolic Rate)': array(['2131'], dtype='<U4'),\n",
       " '133. VFL (Visceral Fat Level)': array(['16'], dtype='<U2'),\n",
       " '134. VFA (Visceral Fat Area)': array(['169.4'], dtype='<U5'),\n",
       " '135. BCM (Body Cell Mass)': array(['111.6'], dtype='<U5'),\n",
       " '136. Lower Limit (BCM Normal Range)': array(['95'], dtype='<U2'),\n",
       " '137. Upper Limit (BCM Normal Range)': array(['116.2'], dtype='<U5'),\n",
       " '138. AC (Arm Circumference)': array(['13'], dtype='<U2'),\n",
       " '139. BMC (Bone Mineral Content)': array(['10.96'], dtype='<U5'),\n",
       " '140. Lower Limit (BMC Normal Range)': array(['8.16'], dtype='<U4'),\n",
       " '141. Upper Limit (BMC Normal Range)': array(['9.97'], dtype='<U4'),\n",
       " '142. TBW/FFM': array(['74'], dtype='<U2'),\n",
       " '143. FFMI (Fat Free Mass Index)': array(['20.8'], dtype='<U4'),\n",
       " '144. FMI (Fat Mass Index)': array(['9.4'], dtype='<U3'),\n",
       " '145. 5kHz-RA Phase Angle': array(['2.1'], dtype='<U3'),\n",
       " '146. 5kHz-LA Phase Angle': array(['1.9'], dtype='<U3'),\n",
       " '147. 5kHz-TR Phase Angle': array(['2.8'], dtype='<U3'),\n",
       " '148. 5kHz-RL Phase Angle': array(['1.3'], dtype='<U3'),\n",
       " '149. 5kHz-LL Phase Angle': array(['1.4'], dtype='<U3'),\n",
       " '150. 50kHz-RA Phase Angle': array(['4.2'], dtype='<U3'),\n",
       " '151. 50kHz-LA Phase Angle': array(['3.8'], dtype='<U3'),\n",
       " '152. 50kHz-TR Phase Angle': array(['5.5'], dtype='<U3'),\n",
       " '153. 50kHz-RL Phase Angle': array(['2.6'], dtype='<U3'),\n",
       " '154. 50kHz-LL Phase Angle': array(['2.9'], dtype='<U3'),\n",
       " '155. 250kHz-RA Phase Angle': array(['4.1'], dtype='<U3'),\n",
       " '156. 250kHz-LA Phase Angle': array(['3.7'], dtype='<U3'),\n",
       " '157. 250kHz-TR Phase Angle': array(['6.1'], dtype='<U3'),\n",
       " '158. 250kHz-RL Phase Angle': array(['2.5'], dtype='<U3'),\n",
       " '159. 250kHz-LL Phase Angle': array(['2.7'], dtype='<U3'),\n",
       " '160. 50kHz-Whole Body Phase Angle': array(['3.7'], dtype='<U3'),\n",
       " '161. Systolic': array(['-'], dtype='<U1'),\n",
       " '162. Diastolic': array(['-'], dtype='<U1'),\n",
       " '163. Pulse': array(['-'], dtype='<U1'),\n",
       " '164. Mean Artery Pressure': array(['-'], dtype='<U1'),\n",
       " '165. Pulse Pressure': array(['-'], dtype='<U1'),\n",
       " '166. Rate Pressure Product': array(['-'], dtype='<U1'),\n",
       " '167. InBody Type': array(['970'], dtype='<U3'),\n",
       " '168. Local ID': array(['17'], dtype='<U2'),\n",
       " '169. ICW/FFM%': array(['43.4'], dtype='<U4'),\n",
       " '170. SMI (Skeletal Muscle Index)': array(['9.9'], dtype='<U3'),\n",
       " '171. Medical History': array(['-'], dtype='<U1'),\n",
       " '172. Group': array(['-'], dtype='<U1'),\n",
       " '173. Recommended Calorie Intake': array(['3072'], dtype='<U4'),\n",
       " '174. Lower Limit (BMR Normal Range)': array(['2325'], dtype='<U4'),\n",
       " '175. Upper Limit (BMR Normal Range)': array(['2759'], dtype='<U4'),\n",
       " '176. SMI(ASM/Ht²)_T score': array(['1.2'], dtype='<U3'),\n",
       " '177. SMI(ASM/Ht²)_Z score': array(['2.1'], dtype='<U3'),\n",
       " '178. Whole Body ECW/TBW_T score': array(['7.5'], dtype='<U3'),\n",
       " '179. Whole Body ECW/TBW_Z score': array(['4.3'], dtype='<U3'),\n",
       " '180. VFA_T score': array(['3.3'], dtype='<U3'),\n",
       " '181. VFA_Z score': array(['1.7'], dtype='<U3'),\n",
       " '182. BMI_T score': array(['0.9'], dtype='<U3'),\n",
       " '183. BMI_Z score': array(['0.6'], dtype='<U3'),\n",
       " '184. Subcutaneous Fat': array(['0'], dtype='<U1'),\n",
       " '185. Arms/Legs Fat': array(['37.7'], dtype='<U4'),\n",
       " '186. Lower Limit (Subcutaneous Fat of Abdomen Normal Range)': array(['2.51'], dtype='<U4'),\n",
       " '187. Upper Limit (Subcutaneous Fat of Abdomen Normal Range)': array(['5.03'], dtype='<U4'),\n",
       " '188. Visceral Fat': array(['0'], dtype='<U1'),\n",
       " '189. Lower Limit (Visceral Fat of Abdomen Normal Range)': array(['1.26'], dtype='<U4'),\n",
       " '190. Upper Limit (Visceral Fat of Abdomen Normal Range)': array(['2.51'], dtype='<U4'),\n",
       " '191. Lower Limit (BFM of Arm & Leg Normal Range)': array(['10.6'], dtype='<U4'),\n",
       " '192. Upper Limit (BFM of Arm & Leg Normal Range)': array(['21.2'], dtype='<U4'),\n",
       " '193. Lower Limit (BFM of Trunk Normal Range)': array(['9.7'], dtype='<U3'),\n",
       " '194. Upper Limit (BFM of Trunk Normal Range)': array(['19.4'], dtype='<U4'),\n",
       " '195. Abdominal Fat': array(['0'], dtype='<U1'),\n",
       " '196. V/S Ratio(Visceral Fat Area/Subcutaneous Fat Area ratio)': array(['0'], dtype='<U1'),\n",
       " '197. SFA(Subcutaneous Fat Area)': array(['0'], dtype='<U1'),\n",
       " '198. WHtR(Waist-Height Ratio)': array(['0.56'], dtype='<U4'),\n",
       " '199. BAI(Body Adiposity Index)': array(['22.3'], dtype='<U4'),\n",
       " '200. ABSI(A Body Shaped Index)': array(['0.081'], dtype='<U5'),\n",
       " '201. Conicity Index': array(['1.32'], dtype='<U4'),\n",
       " '202. LVR(Lean Mass-Visceral Fat Area Ratio)': array(['0.26'], dtype='<U4'),\n",
       " '203. Upper Limit (WHtR Normal Range)': array(['0.5'], dtype='<U3'),\n",
       " '204. Upper Limit (BAI Normal Range)': array(['26.9'], dtype='<U4'),\n",
       " '205. Upper Limit (ABSI Normal Range)': array(['0.076'], dtype='<U5'),\n",
       " '206. Upper Limit (Conicity Index Normal Range)': array(['1.25'], dtype='<U4'),\n",
       " '207. Upper Limit (LVR Normal Range)': array(['0.19'], dtype='<U4'),\n",
       " '208. 50khz-Ab Impedance': array(['0'], dtype='<U1'),\n",
       " '209. 250khz-Ab Impedance': array(['0'], dtype='<U1'),\n",
       " '210. WC(Waist Circumference)\\xa0': array(['43.7'], dtype='<U4'),\n",
       " '211. Angle-R': array(['0'], dtype='<U1'),\n",
       " '212. Angle_L': array(['0'], dtype='<U1'),\n",
       " '213. Lower Limit (Abdominal Fat Normal Range)': array(['3.77'], dtype='<U4'),\n",
       " '214. Upper Limit (Abdominal Fat Normal Range)': array(['7.54'], dtype='<U4'),\n",
       " '215. Lower Limit (FFM Normal Range)': array(['145.5'], dtype='<U5'),\n",
       " '216. Upper Limit (FFM Normal Range)': array(['177.9'], dtype='<U5'),\n",
       " '217. SMM/WT': array(['37.3'], dtype='<U4'),\n",
       " '218. Systolic2': array(['0'], dtype='<U1'),\n",
       " '219. Diastolic2': array(['0'], dtype='<U1'),\n",
       " '220. Pulse2': array(['0'], dtype='<U1'),\n",
       " '221. Mean Artery Pressure2': array(['0'], dtype='<U1'),\n",
       " '222. Pulse Pressure2': array(['0'], dtype='<U1'),\n",
       " '223. Rate Pressure Product2': array(['0'], dtype='<U1'),\n",
       " '224. BFM% of Whole Body': array(['284'], dtype='<U3'),\n",
       " '225. ECM/BCM': array(['0.611'], dtype='<U5'),\n",
       " '226. TBW/WT': array(['51'], dtype='<U2'),\n",
       " '227. Lean Mass(%) of Right Arm (Ideal Weight)': array(['113.9'], dtype='<U5'),\n",
       " '228. Lean Mass(%) of Left Arm (Ideal Weight)': array(['110.7'], dtype='<U5'),\n",
       " '229. Lean Mass(%) of Trunk (Ideal Weight)': array(['103.7'], dtype='<U5'),\n",
       " '230. Lean Mass(%) of Right Leg (Ideal Weight)': array(['131.2'], dtype='<U5'),\n",
       " '231. Lean Mass(%) of Left Leg (Ideal Weight)': array(['127.9'], dtype='<U5'),\n",
       " '232. Impedance Check': array(['000/000/000'], dtype='<U11'),\n",
       " '233. BCM_T score': array(['0.7'], dtype='<U3'),\n",
       " '234. BCM_Z score': array(['2.6'], dtype='<U3'),\n",
       " '235. FFMI_T score': array(['-0.3'], dtype='<U4'),\n",
       " '236. FFMI_Z score': array(['0.6'], dtype='<U3'),\n",
       " '237. FMI_T score': array(['1.4'], dtype='<U3'),\n",
       " '238. FMI_Z score': array(['0.4'], dtype='<U3'),\n",
       " '239. PBF_T score': array(['1.5'], dtype='<U3'),\n",
       " '240. PBF_Z score': array(['0.4'], dtype='<U3'),\n",
       " '241. Weight_T score': array(['2.4'], dtype='<U3'),\n",
       " '242. Weight_Z score': array(['2.4'], dtype='<U3'),\n",
       " '243. 50kHz-Whole Body Phase Angle_T score': array(['-5.4'], dtype='<U4'),\n",
       " '244. 50kHz-Whole Body Phase Angle_Z score': array(['-2.4'], dtype='<U4'),\n",
       " '245. TBW/WT_T Score': array(['-1.4'], dtype='<U4'),\n",
       " '246. TBW/WT_Z Score': array(['-0.4'], dtype='<U4'),\n",
       " '247. SMI(SMM/Wt)_T score': array(['-2'], dtype='<U2'),\n",
       " '248. SMI(SMM/Wt)_Z score': array(['-0.6'], dtype='<U4'),\n",
       " '249. ECM/BCM_T Score': array(['8.2'], dtype='<U3'),\n",
       " '250. ECM/BCM Z Score': array(['4.8'], dtype='<U3')}"
      ]
     },
     "execution_count": 12,
     "metadata": {},
     "output_type": "execute_result"
    }
   ],
   "source": [
    "bnm"
   ]
  },
  {
   "cell_type": "code",
   "execution_count": 65,
   "id": "10cdda6a-32ff-43a2-a2ef-0b0a2e84636e",
   "metadata": {
    "collapsed": true,
    "jupyter": {
     "outputs_hidden": true,
     "source_hidden": true
    }
   },
   "outputs": [
    {
     "data": {
      "text/plain": [
       "array(['', '', '8', '', '', ''], dtype='<U1')"
      ]
     },
     "execution_count": 65,
     "metadata": {},
     "output_type": "execute_result"
    }
   ],
   "source": [
    "bnm = load_csv_to_col_dict(\"bnm.csv\")\n",
    "s001_array = bnm[\"s001\"]\n",
    "s001_array"
   ]
  },
  {
   "cell_type": "code",
   "execution_count": 20,
   "id": "14c46b34-7e9e-4a92-9a77-38b601e8d35c",
   "metadata": {
    "scrolled": true
   },
   "outputs": [],
   "source": [
    "dtv_array = bnm[\"dtv\"]\n"
   ]
  },
  {
   "cell_type": "code",
   "execution_count": 66,
   "id": "b9c9cd28-fcbf-4e7a-9ab8-f39c1a3d29a4",
   "metadata": {
    "collapsed": true,
    "jupyter": {
     "outputs_hidden": true
    }
   },
   "outputs": [
    {
     "data": {
      "text/plain": [
       "{'dtv': array(['45860', '45861', '45862', '45863', '45864', '45865'], dtype='<U5'),\n",
       " 's000': array(['', '', '', '', '', ''], dtype='<U1'),\n",
       " 's001': array(['', '', '8', '', '', ''], dtype='<U1'),\n",
       " 's002': array(['', '', '', '', '', ''], dtype='<U1'),\n",
       " 's003': array(['', '', '', '', '5', ''], dtype='<U1'),\n",
       " 's004': array(['', '', '', '', '', ''], dtype='<U1')}"
      ]
     },
     "execution_count": 66,
     "metadata": {},
     "output_type": "execute_result"
    }
   ],
   "source": [
    "bnm"
   ]
  },
  {
   "cell_type": "code",
   "execution_count": 50,
   "id": "f14a73e0-2c31-49c1-9d1e-615ec9464b5d",
   "metadata": {},
   "outputs": [
    {
     "data": {
      "text/plain": [
       "array(['45860', '45861', '45862', '45863', '45864', '45865'], dtype='<U5')"
      ]
     },
     "execution_count": 50,
     "metadata": {},
     "output_type": "execute_result"
    }
   ],
   "source": [
    "dtv_array = bnm[\"dtv\"]\n",
    "dtv_array\n"
   ]
  },
  {
   "cell_type": "code",
   "execution_count": 52,
   "id": "e8392e1b-c1b5-4155-ab53-e5043ddedac1",
   "metadata": {
    "collapsed": true,
    "jupyter": {
     "outputs_hidden": true
    }
   },
   "outputs": [
    {
     "name": "stdout",
     "output_type": "stream",
     "text": [
      "45860\n",
      "45861\n",
      "45862\n",
      "45863\n",
      "45864\n",
      "45865\n"
     ]
    }
   ],
   "source": [
    "for dtv in bnm[\"dtv\"]:\n",
    "    print(dtv)\n"
   ]
  },
  {
   "cell_type": "code",
   "execution_count": 57,
   "id": "17995409-e502-4424-97aa-21465402c974",
   "metadata": {},
   "outputs": [
    {
     "data": {
      "text/plain": [
       "{'dtv': array([], dtype='<U5'),\n",
       " 's000': array([], dtype='<U1'),\n",
       " 's001': array([], dtype='<U1'),\n",
       " 's002': array([], dtype='<U1'),\n",
       " 's003': array([], dtype='<U1'),\n",
       " 's004': array([], dtype='<U1')}"
      ]
     },
     "execution_count": 57,
     "metadata": {},
     "output_type": "execute_result"
    }
   ],
   "source": [
    "target_dtv = \"2025-09-18\"\n",
    "mask = bnm[\"dtv\"] == target_dtv\n",
    "filtered = {col: arr[mask] for col, arr in bnm.items()}\n",
    "\n",
    "filtered"
   ]
  },
  {
   "cell_type": "markdown",
   "id": "d4a39dcc-c62e-40b9-9eec-9e4d6ef2177d",
   "metadata": {},
   "source": [
    "# The calls required to implement the accumulation of data               [1]"
   ]
  },
  {
   "cell_type": "markdown",
   "id": "35333b4b-67fd-4d7d-863e-494c8f15007a",
   "metadata": {},
   "source": [
    "## Get data from insturments to .csb files.               [2]"
   ]
  },
  {
   "cell_type": "markdown",
   "id": "40f5f1c7-8339-4b16-8374-de7ee86e333d",
   "metadata": {},
   "source": [
    "## Get data from inbod to .csb files.               [2]"
   ]
  },
  {
   "cell_type": "markdown",
   "id": "c3a3fa32-eb05-4cab-92f8-ee31b41f1dc1",
   "metadata": {},
   "source": [
    "## Get data from manual inputs to .csb files.               [2]"
   ]
  },
  {
   "cell_type": "markdown",
   "id": "0ba417ec-4101-4fa7-8f60-c4e9ad4e62db",
   "metadata": {},
   "source": [
    "## Move data from .csv files to df,dict and lookup tables [2]"
   ]
  },
  {
   "cell_type": "markdown",
   "id": "52142e19-9175-4305-9b96-3801f969669e",
   "metadata": {},
   "source": [
    "## Backup the data to pickel and .csv files  [2]"
   ]
  },
  {
   "cell_type": "markdown",
   "id": "cc30085a-ce13-47a0-8058-9dbc1cf4e22e",
   "metadata": {},
   "source": [
    "# The calls required to implement the accumulation of data               [1]"
   ]
  },
  {
   "cell_type": "markdown",
   "id": "c3450bd0-ce1e-4cf0-9c48-1957b471ab53",
   "metadata": {},
   "source": [
    "## Get data from .csv files to dataframes  [2]"
   ]
  },
  {
   "cell_type": "markdown",
   "id": "65ad37cb-73d4-435e-983b-333db360080a",
   "metadata": {},
   "source": [
    "## dictionaries  [2]"
   ]
  }
 ],
 "metadata": {
  "kernelspec": {
   "display_name": "Python (scu)",
   "language": "python",
   "name": "scu"
  },
  "language_info": {
   "codemirror_mode": {
    "name": "ipython",
    "version": 3
   },
   "file_extension": ".py",
   "mimetype": "text/x-python",
   "name": "python",
   "nbconvert_exporter": "python",
   "pygments_lexer": "ipython3",
   "version": "3.11.13"
  }
 },
 "nbformat": 4,
 "nbformat_minor": 5
}
