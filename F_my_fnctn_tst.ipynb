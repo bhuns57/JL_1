{
 "cells": [
  {
   "cell_type": "markdown",
   "id": "fab6cda1",
   "metadata": {
    "jp-MarkdownHeadingCollapsed": true
   },
   "source": [
    "# Readme\n",
    "***Info about worksheet***"
   ]
  },
  {
   "cell_type": "markdown",
   "id": "2bdf362a",
   "metadata": {
    "jp-MarkdownHeadingCollapsed": true,
    "jupyter": {
     "source_hidden": true
    }
   },
   "source": [
    " \n",
    "### xl_xf_xl_py.ipynb:  holds .py functions   \"\n",
    "### *\"_tbl\"*  is the defining phrase for .py functions sync *xl_tbl* to *df_tbl* \n",
    "#### ----- xl file name = ??_tbl       &      \n",
    "#### ----- df name      = ??_tbl\n",
    "### *script:* df_tbl = xlsync.load_df_with_formulas(\"xl_tbl.xlsx\", \"xl_tbl\")\n",
    "### *--- update using df_tbl ---*\n",
    "### *script:* xlsync.write_df_with_formulas(df_tbl, \"xl_tbl.xlsx\", \"xl_tbl\", \"xl_tbl\")\n",
    "####----------------------------------------------------------------------"
   ]
  },
  {
   "cell_type": "markdown",
   "id": "1aa8a9ec-4187-4d6f-b54c-d5ef6b925d81",
   "metadata": {
    "jp-MarkdownHeadingCollapsed": true
   },
   "source": [
    "### Description of  IO functions XL <> DF"
   ]
  },
  {
   "cell_type": "markdown",
   "id": "83463eb9-6551-4a7b-ac2e-df7e28785139",
   "metadata": {},
   "source": [
    "1.  READ FROM XL to make a \"df_tbl\" for processing\n",
    "[df_tbl = xlsync.load_df_with_formulas(\"xl_tbl.xlsx\", \"xl_tbl\")]"
   ]
  },
  {
   "cell_type": "markdown",
   "id": "d4fa949d-b193-495a-8df6-4cb009d06a3a",
   "metadata": {},
   "source": [
    "2. WRITE \"df_tbl\" TO \"xl_tbl\" uses the processed \"df_tbl\" to create an updated \"xl_tbl\" in xl\n",
    "[xlsync.write_df_with_formulas(df_tbl, \"xl_tbl.xlsx\", \"xl_tbl\", \"xl_tbl\")]"
   ]
  },
  {
   "cell_type": "markdown",
   "id": "26a24d2b",
   "metadata": {
    "jp-MarkdownHeadingCollapsed": true
   },
   "source": [
    "## Create any missing custom functions in \"F_my-utils.py module\" [\"this is for a new custom function that is required\"]"
   ]
  },
  {
   "cell_type": "markdown",
   "id": "c601ae4b-bc68-4357-bbd8-bfef66efad0b",
   "metadata": {
    "jp-MarkdownHeadingCollapsed": true
   },
   "source": [
    "1. If the required def functions have not been previously created\n",
    "2. Create the missing *def functions and place them in F_ my_utils.py pyton moduall* **scripts**"
   ]
  },
  {
   "cell_type": "markdown",
   "id": "f7e48284-77a0-4161-af9a-faa91c82b2e4",
   "metadata": {},
   "source": [
    "# Load:\n",
    "1. ***module imports***\n",
    "2. ***dt_nm: ie name of target xl_table***"
   ]
  },
  {
   "cell_type": "code",
   "execution_count": 63,
   "id": "b87c63b9",
   "metadata": {},
   "outputs": [
    {
     "name": "stdout",
     "output_type": "stream",
     "text": [
      "xl_tbl.xlsx\n",
      "xl_tbl\n"
     ]
    }
   ],
   "source": [
    "#Enter variables & import the modules\n",
    "import F_my_utils as xlsync         # recal def functions placed in E_my_utils.py molule\n",
    "import pandas as pd\n",
    "dt_nm = \"tbl\"\n",
    "#dt_nm = \"tbl\"\n",
    "xl_tbl =\"xl_\" + dt_nm  # xl table being processed\n",
    "print(xl_tbl + \".xlsx\")\n",
    "print(xl_tbl)"
   ]
  },
  {
   "cell_type": "markdown",
   "id": "691fe29b-282c-4064-bcd9-3f95847a6fa0",
   "metadata": {},
   "source": [
    "# -----------proven above line --------------------"
   ]
  },
  {
   "cell_type": "markdown",
   "id": "d151c00a-53ab-4df4-a214-0a62c9d3cd1e",
   "metadata": {
    "jp-MarkdownHeadingCollapsed": true
   },
   "source": [
    "# Use this for xl with formulas"
   ]
  },
  {
   "cell_type": "markdown",
   "id": "cec6ed6c-bc03-42e8-ab75-9bce1e7ad7aa",
   "metadata": {
    "editable": true,
    "jp-MarkdownHeadingCollapsed": true,
    "slideshow": {
     "slide_type": ""
    },
    "tags": []
   },
   "source": [
    "## Structure of the XL >> XF >> XL calls"
   ]
  },
  {
   "cell_type": "markdown",
   "id": "581ba6f1",
   "metadata": {
    "jp-MarkdownHeadingCollapsed": true
   },
   "source": [
    "# Call functions to import from XL and convert to DF"
   ]
  },
  {
   "cell_type": "code",
   "execution_count": null,
   "id": "d7248a81-025a-4f40-a0e9-71e18f34c612",
   "metadata": {},
   "outputs": [],
   "source": [
    "import pandas as pd\n",
    "\n",
    "xl_file = \"xl_tbl.xlsx\"  # make sure the filename extension is correct\n",
    "#df_tbl = pd.read_excel(xl_file)\n",
    "df_tbl = pd.read_excel(xl_file, sheet_name=ws)  # or the exact name of your sheet\n"
   ]
  },
  {
   "cell_type": "code",
   "execution_count": null,
   "id": "e7918eef-804f-4e2c-ae37-d3ebac29199d",
   "metadata": {},
   "outputs": [],
   "source": [
    "print(\"Loaded and succcesfull: see df_tbl.iloc[0,0])  =  \",df_tbl.iloc[0,0])"
   ]
  },
  {
   "cell_type": "markdown",
   "id": "a185ba38",
   "metadata": {
    "jp-MarkdownHeadingCollapsed": true
   },
   "source": [
    "# Make required \"df_tbl\" modifications"
   ]
  },
  {
   "cell_type": "code",
   "execution_count": null,
   "id": "016fe95e",
   "metadata": {},
   "outputs": [],
   "source": [
    "#df_tbl.iloc[0,0] = \"bill\" # verify"
   ]
  },
  {
   "cell_type": "code",
   "execution_count": null,
   "id": "60ba1acc",
   "metadata": {
    "scrolled": true
   },
   "outputs": [],
   "source": [
    "print(df_tbl.iloc[0]) # verif"
   ]
  },
  {
   "cell_type": "markdown",
   "id": "b500954d",
   "metadata": {
    "jp-MarkdownHeadingCollapsed": true
   },
   "source": [
    "# Call function to write [if confirmed] the updated df_tbl to xl_tbl in xl_tbl.xlxs"
   ]
  },
  {
   "cell_type": "code",
   "execution_count": null,
   "id": "84b90112-8b07-4d7f-bfd1-f46d13a90e42",
   "metadata": {
    "editable": true,
    "slideshow": {
     "slide_type": ""
    },
    "tags": []
   },
   "outputs": [],
   "source": [
    "response = input(\"Update 'xl_tbl.xlsx'? Type 'y' to confirm or press Enter to skip: \")\n",
    "if response.lower() == 'y':\n",
    "    xlsync.write_df_with_formulas(df_tbl, \"xl_tbl.xlsx\", \"xl_tbl\", \"xl_tbl\")\n",
    "    print(\"✓ Wrote df_tbl to 'xl_tbl.xlsx'\")\n",
    "else:\n",
    "    print(\"⏭️ Skipped update.\")\n"
   ]
  },
  {
   "cell_type": "code",
   "execution_count": null,
   "id": "cc79f200-d924-43fb-b54b-4fa943bd8c6c",
   "metadata": {},
   "outputs": [],
   "source": []
  },
  {
   "cell_type": "markdown",
   "id": "5e6da226-3a2c-4237-b05a-e0eb6c4d9647",
   "metadata": {
    "jp-MarkdownHeadingCollapsed": true
   },
   "source": [
    "# ***Building base_name xlfile by joining df_clms***\n",
    "## *Expain and Example*"
   ]
  },
  {
   "cell_type": "markdown",
   "id": "b7475072-576a-4840-9fc4-79a53774225b",
   "metadata": {
    "jp-MarkdownHeadingCollapsed": true
   },
   "source": [
    "1. Learning to build a base_name df via joining df\n",
    "2. copilot teaching example of the issues of join\n",
    "3. #----------\n",
    "4. https://copilot.microsoft.com/shares/gb2HChsXdg2av2657t7ob\n",
    "5. #========================================================"
   ]
  },
  {
   "cell_type": "code",
   "execution_count": null,
   "id": "4332b15a-4af8-47a7-811f-8472d1feff78",
   "metadata": {},
   "outputs": [],
   "source": [
    "#Enter variables & import the modules\n",
    "import F_my_utils as xlsync         # recal def functions placed in E_my_utils.py molule\n",
    "import pandas as pd\n",
    "dt_nm = \"tbl\"\n",
    "#dt_nm = \"tbl\"\n",
    "xl_tbl =\"xl_\" + dt_nm  # xl table being processed\n",
    "#df_tbl = \"df\" + dt_nm  # df table being process\n",
    "print(xl_tbl + \".xlsx\")\n",
    "print(xl_tbl)"
   ]
  },
  {
   "cell_type": "code",
   "execution_count": null,
   "id": "9f782668-8a78-4859-9fb5-16f6500cd693",
   "metadata": {},
   "outputs": [],
   "source": [
    "# Learning to build a base_name df via joining df\n",
    "# copilot teaching example of the issues of join \n",
    "#----------------------------------------------------------\n",
    "# https://copilot.microsoft.com/shares/gb2HChsXdg2av2657t7ob\n",
    "# ========================================================\n",
    "\n",
    "temp_df = pd.read_excel('xl_tbl.xlsx')\n",
    "#temp_df = print(df)\n",
    "temp_df.set_index('date_value', inplace=True)\n",
    "df1 = (temp_df.iloc[0:10,1])\n",
    "df1 = (temp_df.iloc[0:10,[1]]) # double brackets keep it as a DataFrame\n",
    "#df2 = (temp_df.iloc[5:7,1])\n",
    "df2 = temp_df.iloc[5:7, [1]]  # double brackets keep it as a DataFrame\n",
    "#dfadd = df1.join(df2, how='left')\n",
    "dfadd = df1.join(df2, how='left', rsuffix='_new')\n",
    "#dfadd = pd.concat([df1,df2])\n",
    "#dfadd = df1.join(df2, how='left')\n",
    "#combined = df1.join(df2, how='left')\n",
    "\n",
    "print(dfadd)\n",
    "print(df1)\n",
    "print(df2)"
   ]
  }
 ],
 "metadata": {
  "kernelspec": {
   "display_name": "Python (scu)",
   "language": "python",
   "name": "scu"
  },
  "language_info": {
   "codemirror_mode": {
    "name": "ipython",
    "version": 3
   },
   "file_extension": ".py",
   "mimetype": "text/x-python",
   "name": "python",
   "nbconvert_exporter": "python",
   "pygments_lexer": "ipython3",
   "version": "3.11.13"
  }
 },
 "nbformat": 4,
 "nbformat_minor": 5
}
