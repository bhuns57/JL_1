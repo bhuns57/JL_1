{
 "cells": [
  {
   "cell_type": "markdown",
   "id": "60ff09fe-2fc6-4136-8b33-4556d9044457",
   "metadata": {
    "jp-MarkdownHeadingCollapsed": true
   },
   "source": [
    "# Introducing Diagrams to JL  \"#\""
   ]
  },
  {
   "cell_type": "markdown",
   "id": "ed7e48f8-0239-4c90-9a46-02bd8c2adf11",
   "metadata": {
    "jp-MarkdownHeadingCollapsed": true
   },
   "source": [
    "## Using template | ## "
   ]
  },
  {
   "cell_type": "markdown",
   "id": "431b73e8-0d70-4e0e-9de9-7817a4f0a373",
   "metadata": {
    "jp-MarkdownHeadingCollapsed": true
   },
   "source": [
    "### Instructions | ### \n",
    "1. Expand the the Topic [make sure it is completely expanded]\n",
    "2. Click on the bottom in left side mode with big X\n",
    "3. Shift click the top where it says \"Topic\"\n",
    "4. stay in the side mode and press \"c\"\n",
    "5. Go to the cell above where you want it\n",
    "6. select that cell in the side mode and press \"v\""
   ]
  },
  {
   "cell_type": "markdown",
   "id": "d3686242-fb91-4cde-a31a-f046836bbfa2",
   "metadata": {
    "jupyter": {
     "source_hidden": true
    }
   },
   "source": [
    "## | Topic | \"##\"\n"
   ]
  },
  {
   "cell_type": "markdown",
   "id": "232ab225-a232-428f-a57d-6c24c372fc29",
   "metadata": {
    "jp-MarkdownHeadingCollapsed": true
   },
   "source": [
    "### |  Question: | \"###\""
   ]
  },
  {
   "cell_type": "markdown",
   "id": "5a5b65e7-60a4-496a-9372-4c414f51b9fc",
   "metadata": {},
   "source": [
    "Continuing the diagrams using dicts for args in function assignment: I would like to include all the args as dictionary inputs: in addition i would like to use \"brighness, hue and starurion to describe color since am planning to use it for function labling"
   ]
  },
  {
   "cell_type": "markdown",
   "id": "de7f0ef1-af58-4ae6-9c45-1dd21a21a5a8",
   "metadata": {
    "jp-MarkdownHeadingCollapsed": true
   },
   "source": [
    "### |  Summary: | \"###\"\n"
   ]
  },
  {
   "cell_type": "markdown",
   "id": "fa5e0cfa-3c2d-4b83-9085-053d42406801",
   "metadata": {
    "jp-MarkdownHeadingCollapsed": true
   },
   "source": [
    "### |  Intr:  | \"###\"\n"
   ]
  },
  {
   "cell_type": "markdown",
   "id": "da39ebab-a3e0-4d98-9c13-d1d0fab88aa8",
   "metadata": {},
   "source": [
    "this is a great direction for modular labeling and operator clarity. Using a dictionary to encapsulate all function arguments, including visual descriptors like brightness, hue, and saturation, gives you a clean, extensible scaffold for both execution and documentation. Here's a stepwise sketch to get us rolling:"
   ]
  },
  {
   "cell_type": "markdown",
   "id": "002a15a4-5787-4ae3-b19f-d1f5e81f6127",
   "metadata": {},
   "source": [
    "### |  Step 1: | \"###\""
   ]
  },
  {
   "cell_type": "markdown",
   "id": "8a49f476-77c2-4312-a5bc-830c8dddcc5b",
   "metadata": {},
   "source": [
    "#### | Explanation | \"####\""
   ]
  },
  {
   "cell_type": "code",
   "execution_count": 10,
   "id": "2452fd65-00e4-44b6-b7ad-e5bde3724111",
   "metadata": {},
   "outputs": [],
   "source": [
    "#### Scaffold"
   ]
  },
  {
   "cell_type": "markdown",
   "id": "f070f04a-0c7e-49a6-9a11-760e0dfa2153",
   "metadata": {},
   "source": [
    "### |  Step 2: | \"###\"\n"
   ]
  },
  {
   "cell_type": "markdown",
   "id": "f0420d1f-690e-4d57-bc5e-2c82b01f7014",
   "metadata": {},
   "source": [
    "#### | Explanation | \"####\""
   ]
  },
  {
   "cell_type": "code",
   "execution_count": 11,
   "id": "d56abd6b-e39c-411b-90ea-dc702c9a1e73",
   "metadata": {},
   "outputs": [],
   "source": [
    "#### Scaffold"
   ]
  },
  {
   "cell_type": "markdown",
   "id": "7c4cb4eb-19c8-4c71-9c28-4eb8903a82e2",
   "metadata": {},
   "source": [
    "### |  Step 3: | \"###\"\n"
   ]
  },
  {
   "cell_type": "markdown",
   "id": "e413dff1-6dd6-4177-ad47-e6ef365dcf40",
   "metadata": {},
   "source": [
    "#### | Explanation | \"####\""
   ]
  },
  {
   "cell_type": "code",
   "execution_count": 12,
   "id": "5b9c22ee-cb57-4d0c-8071-a00322b3179a",
   "metadata": {},
   "outputs": [],
   "source": [
    "#### Scaffold"
   ]
  },
  {
   "cell_type": "markdown",
   "id": "22397fd2-9ec7-4f65-aaa5-50e4aef0b859",
   "metadata": {},
   "source": [
    "### |  Step 4: | \"###\"\n"
   ]
  },
  {
   "cell_type": "markdown",
   "id": "31ba9652-a7ff-4564-9e63-104e61a59d91",
   "metadata": {},
   "source": [
    "#### | Explanation | \"####\""
   ]
  },
  {
   "cell_type": "code",
   "execution_count": 12,
   "id": "4f85122b-5a71-423f-be61-c0fa6b329146",
   "metadata": {},
   "outputs": [],
   "source": [
    "#### Scaffold"
   ]
  },
  {
   "cell_type": "markdown",
   "id": "bcf5b294-d806-4db5-bb06-dc57c3058934",
   "metadata": {},
   "source": [
    "### |  Step 5: | \"###\"\n"
   ]
  },
  {
   "cell_type": "markdown",
   "id": "43ff3460-0ca0-4c99-8cc5-f1b71d85cc63",
   "metadata": {},
   "source": [
    "#### | Explanation | \"####\""
   ]
  },
  {
   "cell_type": "code",
   "execution_count": 12,
   "id": "c00642b4-38f6-4211-92e6-dcf98717f94c",
   "metadata": {},
   "outputs": [],
   "source": [
    "#### Scaffold"
   ]
  },
  {
   "cell_type": "markdown",
   "id": "39fb6d5e-ad7b-4a85-bac0-2b39006525ec",
   "metadata": {},
   "source": [
    "### |  Link: | \"###\"\n"
   ]
  },
  {
   "cell_type": "markdown",
   "id": "0110c7f8-6ed0-4ea9-bd2d-8f838b3d3b0b",
   "metadata": {
    "jp-MarkdownHeadingCollapsed": true
   },
   "source": [
    "#### | Explanation | \"####\""
   ]
  },
  {
   "cell_type": "markdown",
   "id": "a379d0f4-33ea-4800-93eb-c4eccca9052a",
   "metadata": {},
   "source": [
    "# NEW TOPIC \"#\""
   ]
  },
  {
   "cell_type": "markdown",
   "id": "748c3d07-7fe0-41f8-bad9-2fa8b73f0582",
   "metadata": {},
   "source": [
    "## 2 Rerences for drawing diagrams in JL  \"##\"\n"
   ]
  },
  {
   "cell_type": "markdown",
   "id": "f6866c16-3131-4bc5-8380-bb8329a737ba",
   "metadata": {},
   "source": [
    "### 3 Refernce List [JL_wb:***ad_v1***][Reference and Help:**JupyterLab is a great sandbox for building and visualizing hierarchical structures **]"
   ]
  },
  {
   "cell_type": "markdown",
   "id": "8967a48d-8c52-492d-b720-46c81be70591",
   "metadata": {},
   "source": [
    "***JupyterLab is a great sandbox for building and visualizing hierarchical structures like ancestral trees, signal pathways, and organizational charts\"**"
   ]
  },
  {
   "cell_type": "markdown",
   "id": "87857f14-41d3-4ee1-a4b3-dbbfc84359dc",
   "metadata": {},
   "source": [
    "## 2 Methods for drawing system diagrams in JL\n"
   ]
  },
  {
   "cell_type": "markdown",
   "id": "fe274956-4d19-453b-8826-94183d0ac810",
   "metadata": {},
   "source": [
    "### 3 The method for drawing  single system diagram from individual parameters "
   ]
  },
  {
   "cell_type": "code",
   "execution_count": 7,
   "id": "2584cec1-451b-46f0-80e9-79c016df8b71",
   "metadata": {
    "scrolled": true
   },
   "outputs": [
    {
     "name": "stdout",
     "output_type": "stream",
     "text": [
      "Diagram saved to png/ad_an_structure_diagram.png\n"
     ]
    },
    {
     "data": {
      "image/png": "[encoded data removed]",
      "text/plain": [
       "<Figure size 800x600 with 1 Axes>"
      ]
     },
     "metadata": {},
     "output_type": "display_data"
    }
   ],
   "source": [
    "import matplotlib.pyplot as plt\n",
    "import networkx as nx\n",
    "\n",
    "# Create a directed graph\n",
    "G = nx.DiGraph()\n",
    "\n",
    "# Add nodes\n",
    "nodes = [\"ad_an\", \"csv\", \"pkl\", \"cn\", \"in_an\"]\n",
    "G.add_nodes_from(nodes)\n",
    "\n",
    "# Add edges to represent relationships\n",
    "edges = [\n",
    "    (\"ad_an\", \"csv\"),\n",
    "    (\"ad_an\", \"pkl\"),\n",
    "    (\"ad_an\", \"cn\"),\n",
    "    (\"cn\", \"in_an\")\n",
    "]\n",
    "G.add_edges_from(edges)\n",
    "\n",
    "# Define node positions for better layout\n",
    "pos = {\n",
    "    \"ad_an\": (0, 2),\n",
    "    \"csv\": (-1, 1),\n",
    "    \"pkl\": (1, 1),\n",
    "    \"cn\": (0.5, 0),\n",
    "    \"in_an\": (1.5, 0)\n",
    "}\n",
    "\n",
    "# Set up plot with constrained layout\n",
    "plt.style.use('seaborn-v0_8')\n",
    "fig, ax = plt.subplots(figsize=(8, 6), constrained_layout=True)\n",
    "\n",
    "# Draw the graph\n",
    "nx.draw(G, pos, with_labels=True, node_color='skyblue', node_size=2000, font_size=10, font_weight='bold', edge_color='gray', ax=ax)\n",
    "\n",
    "# Annotate for extensibility\n",
    "ax.text(-1.5, 2.2, \"Hooks for operator overlays\", fontsize=9, color='darkgreen')\n",
    "ax.text(-1.5, 2.0, \"Future migration to Plotly supported\", fontsize=9, color='darkgreen')\n",
    "\n",
    "# Save the diagram\n",
    "output_path = \"png/ad_an_structure_diagram.png\"\n",
    "plt.savefig(output_path)\n",
    "print(f\"Diagram saved to {output_path}\")\n"
   ]
  },
  {
   "cell_type": "markdown",
   "id": "c23402c5-603f-4813-8045-4f83ffb14dda",
   "metadata": {},
   "source": [
    "#### 4🧱 Step 1: Define the sys_dgrm Dictionary"
   ]
  },
  {
   "cell_type": "markdown",
   "id": "fb665c6c-9f71-4014-a081-f7414d9b900f",
   "metadata": {},
   "source": [
    "### 3 The def function/caller for drawing diagram in JL from a data_dict. "
   ]
  },
  {
   "cell_type": "markdown",
   "id": "09a9fe04-fb95-4219-94e7-e2cd061581bf",
   "metadata": {},
   "source": [
    "#### 4 def function "
   ]
  },
  {
   "cell_type": "code",
   "execution_count": 4,
   "id": "4df4db12-099d-4bd8-a2c2-b4fe78101bf3",
   "metadata": {},
   "outputs": [],
   "source": [
    "import networkx as nx\n",
    "import matplotlib.pyplot as plt\n",
    "\n",
    "def load_sys_dgrm(sys_dgrm, node_color='lightblue', edge_color='red', figsize=(8, 6)):\n",
    "    \"\"\"\n",
    "    Visualizes a system diagram from the provided dictionary.\n",
    "\n",
    "    Args:\n",
    "        sys_dgrm (dict): Dictionary with keys 'nodes', 'edges', 'pos'\n",
    "        node_color (str): Color for nodes\n",
    "        edge_color (str): Color for edges\n",
    "        figsize (tuple): Figure size\n",
    "    \"\"\"\n",
    "    G = nx.DiGraph()\n",
    "    G.add_nodes_from(sys_dgrm[\"nodes\"])\n",
    "    G.add_edges_from(sys_dgrm[\"edges\"])\n",
    "\n",
    "    fig, ax = plt.subplots(figsize=figsize, constrained_layout=True)\n",
    "    nx.draw(\n",
    "        G,\n",
    "        pos=sys_dgrm[\"pos\"],\n",
    "        with_labels=True,\n",
    "        node_color=node_color,\n",
    "        edge_color=edge_color,\n",
    "        ax=ax\n",
    "    )\n",
    "    plt.show()\n"
   ]
  },
  {
   "cell_type": "markdown",
   "id": "e8da6243-a0dc-4aaa-93ef-8a0a1d2f9c32",
   "metadata": {},
   "source": [
    "#### 4 Popiate the Source Dicts & df"
   ]
  },
  {
   "cell_type": "code",
   "execution_count": 5,
   "id": "e542a61e-98be-4b02-93df-70528384ba72",
   "metadata": {},
   "outputs": [],
   "source": [
    "nd_lst = [\"ad_an\", \"csv\", \"pkl\", \"cn\", \"in_an\"]\n",
    "# Add edges to represent relationships\n",
    "edge_df = [\n",
    "    (\"ad_an\", \"csv\"),\n",
    "    (\"ad_an\", \"pkl\"),\n",
    "    (\"ad_an\", \"cn\"),\n",
    "    (\"cn\", \"in_an\")\n",
    "]\n",
    "\n",
    "# Define node positions for better layout\n",
    "pos_dict = {\n",
    "    \"ad_an\": (0, 2),\n",
    "    \"csv\": (-1, 1),\n",
    "    \"pkl\": (1, 1),\n",
    "    \"cn\": (0.5, 0),\n",
    "    \"in_an\": (1.5, 0)\n",
    "}"
   ]
  },
  {
   "cell_type": "markdown",
   "id": "8a8ae675-88a8-491a-8240-9b0a41e22a26",
   "metadata": {},
   "source": [
    "#### 4 Call >>> load_sys_dgrm(sys_dgrm, node_color='lightblue', edge_color='gray', figsize=(8, 6))"
   ]
  },
  {
   "cell_type": "code",
   "execution_count": 6,
   "id": "e6eb2fd3-95d8-4721-8328-f91ca67e05e6",
   "metadata": {},
   "outputs": [
    {
     "data": {
      "image/png": "[encoded data removed]",
      "text/plain": [
       "<Figure size 800x600 with 1 Axes>"
      ]
     },
     "metadata": {},
     "output_type": "display_data"
    }
   ],
   "source": [
    "sys_dgrm = {\n",
    "    \"nodes\": nd_lst,       # List of node names\n",
    "    \"edges\": edge_df,      # List of (source, target) tuples\n",
    "    \"pos\": pos_dict        # Dict of node positions for layout\n",
    "}\n",
    "\n",
    "load_sys_dgrm(sys_dgrm, node_color='lightblue', edge_color='gray', figsize=(8, 6))"
   ]
  },
  {
   "cell_type": "markdown",
   "id": "1e0d32ed-15cf-4a4e-8f04-a2cb959eb633",
   "metadata": {
    "jp-MarkdownHeadingCollapsed": true
   },
   "source": [
    "#### 4 🔁 Step 2: Loader Function"
   ]
  },
  {
   "cell_type": "markdown",
   "id": "5b689584-607c-4e0f-ae55-afd477be10a3",
   "metadata": {},
   "source": [
    "#### 4 🧠 Extensibility Notes"
   ]
  },
  {
   "cell_type": "markdown",
   "id": "488e6e59-522d-4bf9-b09e-ee856f0a88d5",
   "metadata": {},
   "source": [
    "**You can evolve sys_dgrm to include:**\n",
    "\n",
    "\"meta\": classification metadata per node\n",
    "\n",
    "\"flags\": diagnostic overlays or operator annotations\n",
    "\n",
    "\"groups\": for batch selection or GUI toggles\n",
    "\n",
    "**The loader can be extended to:**\n",
    "\n",
    "Color nodes by type or status\n",
    "\n",
    "Add hover tooltips (via Plotly migration)\n",
    "\n",
    "Export to HTML or Dash for operator interaction\n",
    "\n",
    "Would you like a **Page-ready version with glossary annotations and hooks for classification overlays?** I can scaffold that next so it’s ready for operator training and future extensibility."
   ]
  },
  {
   "cell_type": "markdown",
   "id": "d8753513-af2f-4ca4-bbfd-2d40c46ada59",
   "metadata": {},
   "source": [
    "# Introducing Diagrams to JL"
   ]
  },
  {
   "cell_type": "code",
   "execution_count": null,
   "id": "ad6981da-d839-4b2c-8db9-9b1acc28ccb5",
   "metadata": {},
   "outputs": [],
   "source": []
  }
 ],
 "metadata": {
  "kernelspec": {
   "display_name": "Python (scu)",
   "language": "python",
   "name": "scu"
  },
  "language_info": {
   "codemirror_mode": {
    "name": "ipython",
    "version": 3
   },
   "file_extension": ".py",
   "mimetype": "text/x-python",
   "name": "python",
   "nbconvert_exporter": "python",
   "pygments_lexer": "ipython3",
   "version": "3.11.13"
  }
 },
 "nbformat": 4,
 "nbformat_minor": 5
}
