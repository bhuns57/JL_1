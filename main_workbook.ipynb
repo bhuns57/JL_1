{
 "cells": [
  {
   "cell_type": "markdown",
   "id": "caf84a14-aa30-4b7c-8a1e-37c51ff103b4",
   "metadata": {},
   "source": [
    "# **Result of loading using defaults and sliders stored in pickel**"
   ]
  },
  {
   "cell_type": "markdown",
   "id": "14028f78-38f5-4578-8376-cd3900cb5fd7",
   "metadata": {},
   "source": [
    "# write the dates with  Incorporate this in the regular linse to set dates "
   ]
  },
  {
   "cell_type": "code",
   "execution_count": 6,
   "id": "724d6d68-6862-46bd-90b5-48920ff56aa5",
   "metadata": {},
   "outputs": [
    {
     "name": "stdout",
     "output_type": "stream",
     "text": [
      "📤 Loaded updated dictionary from pickle.\n"
     ]
    },
    {
     "data": {
      "text/plain": [
       "{'45861': {'s000': 5.0, 's001': 1.0, 's002': 2.0, 's003': 1.0, 's004': 1.0},\n",
       " '45862': {'s000': 1.0, 's001': 1.0, 's002': 2.0, 's003': 1.0, 's004': 1.0},\n",
       " '45863': {'s000': 1.0, 's001': 1.0, 's002': 2.0, 's003': 1.0, 's004': 1.0},\n",
       " '45864': {'s000': 1.0, 's001': 1.0, 's002': 2.0, 's003': 1.0, 's004': 1.0},\n",
       " '45865': {'s000': 1.0, 's001': 1.0, 's002': 2.0, 's003': 1.0, 's004': 5.0}}"
      ]
     },
     "execution_count": 6,
     "metadata": {},
     "output_type": "execute_result"
    }
   ],
   "source": [
    "# Step 1: Load the Updated Dictionary\n",
    "import pickle\n",
    "\n",
    "def load_updated_dict(pickle_path=\"update_result.pkl\"):\n",
    "    with open(pickle_path, \"rb\") as f:\n",
    "        update_dt_row_dict = pickle.load(f)\n",
    "    print(\"📤 Loaded updated dictionary from pickle.\")\n",
    "    return update_dt_row_dict\n",
    "\n",
    "update_dt_row_dict = load_updated_dict()\n",
    "update_dt_row_dict"
   ]
  },
  {
   "cell_type": "code",
   "execution_count": null,
   "id": "f7acbd19-fa61-430b-aa07-91832e0f6cd8",
   "metadata": {},
   "outputs": [],
   "source": [
    "#============ all that is needed ===================="
   ]
  },
  {
   "cell_type": "code",
   "execution_count": null,
   "id": "3d64f3ed-978f-4e43-9672-266da5630777",
   "metadata": {},
   "outputs": [],
   "source": []
  },
  {
   "cell_type": "code",
   "execution_count": null,
   "id": "bbba7e13-1102-4151-a052-662c8a4c8cc4",
   "metadata": {},
   "outputs": [],
   "source": []
  },
  {
   "cell_type": "raw",
   "id": "a377d27d-8314-41ec-be92-a0bb932096e1",
   "metadata": {},
   "source": [
    "# _RAW_ Step 1: Load the Updated Dictionary\n",
    "import pickle\n",
    "\n",
    "def load_updated_dict(pickle_path=\"blnk_update_result.pkl\"):\n",
    "    with open(pickle_path, \"rb\") as f:\n",
    "        blnk_update_dt_row_dict = pickle.load(f)\n",
    "    print(\"📤 Loaded blnk_updated dictionary from pickle.\")\n",
    "    return blnk_update_dt_row_dict\n",
    "\n",
    "blnk_update_dt_row_dict = load_updated_dict()\n"
   ]
  },
  {
   "cell_type": "raw",
   "id": "2bb7b8d4-e934-4172-9089-bad868f9bd34",
   "metadata": {
    "jupyter": {
     "source_hidden": true
    }
   },
   "source": [
    "#_RAW_update_dt_row_dict"
   ]
  },
  {
   "cell_type": "raw",
   "id": "d47dca2b-8e2f-4517-a81a-004ad072d31a",
   "metadata": {
    "jupyter": {
     "source_hidden": true
    }
   },
   "source": [
    "def validate_update(update_dt_row_dict, lut_serial_config):\n",
    "    issues = []\n",
    "    for day, serials in update_dt_row_dict.items():\n",
    "        for serial, value in serials.items():\n",
    "            config = lut_serial_config.get(serial, {})\n",
    "            if not config.get('active', True):\n",
    "                continue  # Skip inactive\n",
    "            try:\n",
    "                val = float(value)\n",
    "                if val < config['min'] or val > config['max']:\n",
    "                    issues.append((day, serial, val, \"out of range\"))\n",
    "            except Exception as e:\n",
    "                issues.append((day, serial, value, f\"invalid: {e}\"))\n",
    "    return issues\n",
    "\n",
    "# Load config from CSV again\n",
    "import csv\n",
    "\n",
    "def load_lut_config(csv_path):\n",
    "    with open(csv_path, newline='') as f:\n",
    "        reader = list(csv.reader(f))\n",
    "    headers = reader[0][1:]\n",
    "    lut = {}\n",
    "    for row in reader[1:]:\n",
    "        key = row[0].strip('\"')\n",
    "        for i, val in enumerate(row[1:]):\n",
    "            serial = headers[i]\n",
    "            lut.setdefault(serial, {})[key] = val.strip('\"')\n",
    "    for serial, config in lut.items():\n",
    "        config['value'] = int(config.get('value', 1))\n",
    "        config['min'] = int(config.get('min', 0))\n",
    "        config['max'] = int(config.get('max', 10))\n",
    "        config['step'] = int(config.get('step', 1)) if config.get('step') else 1\n",
    "        config['active'] = config.get('active', 'true').lower() in ['true', 'yes']\n",
    "    return lut\n",
    "\n",
    "lut_serial_config = load_lut_config(\"lut_serial_config.csv\")\n",
    "issues = validate_update(update_dt_row_dict, lut_serial_config)\n",
    "\n",
    "if issues:\n",
    "    print(\"⚠️ Validation issues found:\")\n",
    "    for issue in issues:\n",
    "        print(f\"Day {issue[0]}, Serial {issue[1]} → Value {issue[2]} ({issue[3]})\")\n",
    "else:\n",
    "    print(\"✅ All entries validated successfully.\")\n"
   ]
  },
  {
   "cell_type": "code",
   "execution_count": null,
   "id": "d2332688-f2c5-4f45-90d9-007633f21200",
   "metadata": {},
   "outputs": [],
   "source": [
    "lut_serial_config"
   ]
  },
  {
   "cell_type": "raw",
   "id": "1469f048-dff0-46a1-97f5-630e9c4c7b3b",
   "metadata": {
    "jupyter": {
     "source_hidden": true
    }
   },
   "source": [
    "def next_operation(update_dt_row_dict):\n",
    "    print(\"\\n🚀 Ready for next operation.\")\n",
    "    # Example: flatten for export, trigger batch, or pass to another module\n",
    "    for day, serials in update_dt_row_dict.items():\n",
    "        print(f\"{day}: {serials}\")\n",
    "\n",
    "next_operation(update_dt_row_dict)\n"
   ]
  },
  {
   "cell_type": "code",
   "execution_count": null,
   "id": "58640d35-861a-487f-990c-55dfb77966ad",
   "metadata": {},
   "outputs": [],
   "source": []
  }
 ],
 "metadata": {
  "kernelspec": {
   "display_name": "Python (scu)",
   "language": "python",
   "name": "scu"
  },
  "language_info": {
   "codemirror_mode": {
    "name": "ipython",
    "version": 3
   },
   "file_extension": ".py",
   "mimetype": "text/x-python",
   "name": "python",
   "nbconvert_exporter": "python",
   "pygments_lexer": "ipython3",
   "version": "3.11.13"
  }
 },
 "nbformat": 4,
 "nbformat_minor": 5
}
