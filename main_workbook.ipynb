{
 "cells": [
  {
   "cell_type": "markdown",
   "id": "ef25d9da-357d-43cd-a5c6-a21675c9c966",
   "metadata": {},
   "source": [
    "# Main 1RL workbook \n",
    "***[Documented by linked Evernotes]***\n",
    "1. Main starting point\n",
    "2. Storage uses data/pickel as a buffer and xl...csv as arcieves \n",
    "3. Gathering manual data via dedicated worksheets and xl..csv.worksheets.\n",
    "4. Importing machine data\n",
    "5. Encorporating data into archieves"
   ]
  },
  {
   "cell_type": "markdown",
   "id": "caf84a14-aa30-4b7c-8a1e-37c51ff103b4",
   "metadata": {
    "jp-MarkdownHeadingCollapsed": true
   },
   "source": [
    "## **Main starting point** [2]"
   ]
  },
  {
   "cell_type": "markdown",
   "id": "1544ae0c-3df4-42ea-9a30-5ffa86c8affb",
   "metadata": {},
   "source": [
    "## **Storage uses data/pickel as a buffer and xl...csv as arcieves** [2]"
   ]
  },
  {
   "cell_type": "markdown",
   "id": "b8ec750e-7a56-4451-9c74-404a20be82fc",
   "metadata": {},
   "source": [
    "## **Gathering manual data via dedicated worksheets and xl..csv.worksheets.** [3]"
   ]
  },
  {
   "cell_type": "markdown",
   "id": "fae1cd30-f7a1-449b-a63a-069bf669862e",
   "metadata": {},
   "source": [
    "#### **add latest manual data to be updated** [4]\n",
    "1. Create **blnk_update_dt_row_dict** in pickle for the days being added.\n",
    "2. Insure that the correct **lut_serial_config** is in pickle.\n",
    "3. Go to **input_driver** in a dedicated workbook that gets and receives all values from pickle and hit \">>\" sliders are loaded with the defalult values; to insert values different from the default by moving the sliders; the final slider settings are inserted into **update_dt_row_dict**\n",
    "4. Insert the values of **update_dt_row_dict** into **dt_row_dict**"
   ]
  },
  {
   "cell_type": "code",
   "execution_count": 10,
   "id": "724d6d68-6862-46bd-90b5-48920ff56aa5",
   "metadata": {},
   "outputs": [
    {
     "name": "stdout",
     "output_type": "stream",
     "text": [
      "📤 Loaded updated dictionary from pickle.\n"
     ]
    },
    {
     "data": {
      "text/plain": [
       "{'45861': {'s000': 1.0, 's001': 1.0, 's002': 2.0, 's003': 1.0, 's004': 1.0},\n",
       " '45862': {'s000': 1.0, 's001': 1.0, 's002': 2.0, 's003': 1.0, 's004': 1.0},\n",
       " '45863': {'s000': 1.0, 's001': 1.0, 's002': 2.0, 's003': 1.0, 's004': 1.0},\n",
       " '45864': {'s000': 1.0, 's001': 1.0, 's002': 2.0, 's003': 1.0, 's004': 1.0},\n",
       " '45865': {'s000': 5.0, 's001': 1.0, 's002': 2.0, 's003': 1.0, 's004': 1.0}}"
      ]
     },
     "execution_count": 10,
     "metadata": {},
     "output_type": "execute_result"
    }
   ],
   "source": [
    "# Step 1: Upload the latest archieved data\n",
    "# Load the Updated Dictionary\n",
    "import pickle\n",
    "\n",
    "def load_updated_dict(pickle_path=\"update_result.pkl\"):\n",
    "    with open(pickle_path, \"rb\") as f:\n",
    "        update_dt_row_dict = pickle.load(f)\n",
    "    print(\"📤 Loaded updated dictionary from pickle.\")\n",
    "    return update_dt_row_dict\n",
    "\n",
    "update_dt_row_dict = load_updated_dict()\n",
    "update_dt_row_dict"
   ]
  },
  {
   "cell_type": "markdown",
   "id": "3b551a3a-69ed-4505-a68b-b8f3c2b1c829",
   "metadata": {},
   "source": [
    "## **Importing machine data** [2]"
   ]
  },
  {
   "cell_type": "markdown",
   "id": "1a8b5cd9-959e-46e3-85be-46590f49106e",
   "metadata": {},
   "source": [
    "### **Importing O2 data** [3]"
   ]
  },
  {
   "cell_type": "markdown",
   "id": "bd519149-cf0d-4dac-975b-c242e57532a7",
   "metadata": {},
   "source": [
    "### **Importing bp data** [3]"
   ]
  },
  {
   "cell_type": "markdown",
   "id": "957d497e-0e21-4c01-946e-4a36b2265f93",
   "metadata": {},
   "source": [
    "### **Importing sugar data** [3]"
   ]
  },
  {
   "cell_type": "markdown",
   "id": "7cb64ea3-5435-4d69-afe0-2853b3c23dbf",
   "metadata": {},
   "source": [
    "### **Importing inbody data** [3]"
   ]
  },
  {
   "cell_type": "markdown",
   "id": "d09d02da-a9e3-4865-a9df-5cd9e2ede174",
   "metadata": {},
   "source": [
    "## **Encorporating data into archieves** [2]"
   ]
  },
  {
   "cell_type": "markdown",
   "id": "084e9caa-82ba-4a49-8156-b18048dae0f6",
   "metadata": {
    "jp-MarkdownHeadingCollapsed": true
   },
   "source": [
    "### **Result of loading using defaults and sliders stored in pickel**"
   ]
  },
  {
   "cell_type": "markdown",
   "id": "14028f78-38f5-4578-8376-cd3900cb5fd7",
   "metadata": {},
   "source": [
    "# write the dates with  Incorporate this in the regular linse to set dates "
   ]
  },
  {
   "cell_type": "code",
   "execution_count": 2,
   "id": "f7acbd19-fa61-430b-aa07-91832e0f6cd8",
   "metadata": {},
   "outputs": [],
   "source": [
    "#============ all that is needed ===================="
   ]
  },
  {
   "cell_type": "code",
   "execution_count": null,
   "id": "58640d35-861a-487f-990c-55dfb77966ad",
   "metadata": {},
   "outputs": [],
   "source": []
  }
 ],
 "metadata": {
  "kernelspec": {
   "display_name": "Python (scu)",
   "language": "python",
   "name": "scu"
  },
  "language_info": {
   "codemirror_mode": {
    "name": "ipython",
    "version": 3
   },
   "file_extension": ".py",
   "mimetype": "text/x-python",
   "name": "python",
   "nbconvert_exporter": "python",
   "pygments_lexer": "ipython3",
   "version": "3.11.13"
  }
 },
 "nbformat": 4,
 "nbformat_minor": 5
}
