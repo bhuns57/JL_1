{
 "cells": [
  {
   "cell_type": "markdown",
   "id": "14028f78-38f5-4578-8376-cd3900cb5fd7",
   "metadata": {},
   "source": [
    "# *Start* **dt_row_dict updates** \n",
    "1. *by specifying range of* **\"dtv\"s** *to update\"*\n",
    "2. *go to **input_driver** *complete proscess*] "
   ]
  },
  {
   "cell_type": "code",
   "execution_count": 5,
   "id": "57255c95-3414-487d-abe0-5c43fb5dbc55",
   "metadata": {},
   "outputs": [],
   "source": [
    "#%run ./sys_funcs.py              # loads all the def functions in ss_funcs.py into memory\n",
    "import sys_funcs                 # gives access to these def function digitalform that are in memory\n",
    "from pathlib import Path\n",
    "import csv\n",
    "import pandas as pd\n",
    "import numpy as np\n",
    "import tkinter as tk\n",
    "import pickle\n",
    "from pathlib import Path\n",
    "import csv\n",
    "import os\n",
    "import sys\n",
    "from sys_funcs import read_csv_to_array\n",
    "from sys_funcs import clean_wsl_path\n",
    "from sys_funcs import array_to_dt_row_dict\n",
    "from sys_funcs import make_blnk_update_row_dict\n",
    "from sys_funcs import transpose_csv_to_col_dict\n",
    "#from sys_funcs import update_values_with_config, get_update_result\n",
    "from sys_funcs import transfer_updates\n",
    "from sys_funcs import get_dtv_range"
   ]
  },
  {
   "cell_type": "markdown",
   "id": "5667104a-b8eb-4868-b1c7-1533665b4878",
   "metadata": {},
   "source": [
    "## *run* **\"get_dtv_range\"** *to start update process*"
   ]
  },
  {
   "cell_type": "code",
   "execution_count": null,
   "id": "58640d35-861a-487f-990c-55dfb77966ad",
   "metadata": {},
   "outputs": [],
   "source": [
    "def get_dtv_range():\n",
    "    try:\n",
    "        start_dtv = int(input(\"Enter beginning dtv: \"))\n",
    "        end_dtv = int(input(\"Enter ending dtv: \"))\n",
    "        return [start_dtv, end_dtv]\n",
    "    except ValueError:\n",
    "        print(\"Invalid input. Please enter integer values.\")\n",
    "        return None\n",
    "\n",
    "# Example usage:\n",
    "dtv = get_dtv_range()\n",
    "\n",
    "pickle_path = \"dtv_input.pkl\"\n",
    "with open(pickle_path, \"wb\") as f:\n",
    "    pickle.dump(dtv, f)\n",
    "print(\"\\ndtv to be updated have been specified\\n Go To input_driver WB\\n \", dtv)\n"
   ]
  },
  {
   "cell_type": "code",
   "execution_count": 3,
   "id": "f7acbd19-fa61-430b-aa07-91832e0f6cd8",
   "metadata": {},
   "outputs": [],
   "source": [
    "#============ all that is needed ===================="
   ]
  },
  {
   "cell_type": "code",
   "execution_count": null,
   "id": "0649518d-f0bc-4557-8048-9fcd6af34d34",
   "metadata": {},
   "outputs": [],
   "source": []
  },
  {
   "cell_type": "markdown",
   "id": "ef25d9da-357d-43cd-a5c6-a21675c9c966",
   "metadata": {
    "jp-MarkdownHeadingCollapsed": true
   },
   "source": [
    "# Main 1RL workbook \n",
    "***[Documented by linked Evernotes]***\n",
    "1. Main starting point\n",
    "2. Storage uses data/pickel as a buffer and xl...csv as arcieves \n",
    "3. Gathering manual data via dedicated worksheets and xl..csv.worksheets.\n",
    "4. Importing machine data\n",
    "5. Encorporating data into archieves"
   ]
  },
  {
   "cell_type": "markdown",
   "id": "caf84a14-aa30-4b7c-8a1e-37c51ff103b4",
   "metadata": {
    "jp-MarkdownHeadingCollapsed": true
   },
   "source": [
    "## **Main starting point** [2]"
   ]
  },
  {
   "cell_type": "markdown",
   "id": "1544ae0c-3df4-42ea-9a30-5ffa86c8affb",
   "metadata": {
    "jp-MarkdownHeadingCollapsed": true
   },
   "source": [
    "## **Storage uses data/pickel as a buffer and xl...csv as arcieves** [2]"
   ]
  },
  {
   "cell_type": "markdown",
   "id": "b8ec750e-7a56-4451-9c74-404a20be82fc",
   "metadata": {
    "jp-MarkdownHeadingCollapsed": true
   },
   "source": [
    "## **Gathering manual data via dedicated worksheets and xl..csv.worksheets.** [3]"
   ]
  },
  {
   "cell_type": "markdown",
   "id": "fae1cd30-f7a1-449b-a63a-069bf669862e",
   "metadata": {},
   "source": [
    "#### **add latest manual data to be updated** [4]\n",
    "1. Create **blnk_update_dt_row_dict** in pickle for the days being added.\n",
    "2. Insure that the correct **lut_serial_config** is in pickle.\n",
    "3. Go to **input_driver** in a dedicated workbook that gets and receives all values from pickle and hit \">>\" sliders are loaded with the defalult values; to insert values different from the default by moving the sliders; the final slider settings are inserted into **update_dt_row_dict**\n",
    "4. Insert the values of **update_dt_row_dict** into **dt_row_dict**"
   ]
  },
  {
   "cell_type": "code",
   "execution_count": 4,
   "id": "724d6d68-6862-46bd-90b5-48920ff56aa5",
   "metadata": {},
   "outputs": [
    {
     "ename": "FileNotFoundError",
     "evalue": "[Errno 2] No such file or directory: 'update_result.pkl'",
     "output_type": "error",
     "traceback": [
      "\u001b[31m---------------------------------------------------------------------------\u001b[39m",
      "\u001b[31mFileNotFoundError\u001b[39m                         Traceback (most recent call last)",
      "\u001b[36mCell\u001b[39m\u001b[36m \u001b[39m\u001b[32mIn[4]\u001b[39m\u001b[32m, line 11\u001b[39m\n\u001b[32m      8\u001b[39m     \u001b[38;5;28mprint\u001b[39m(\u001b[33m\"\u001b[39m\u001b[33m📤 Loaded updated dictionary from pickle.\u001b[39m\u001b[33m\"\u001b[39m)\n\u001b[32m      9\u001b[39m     \u001b[38;5;28;01mreturn\u001b[39;00m update_dt_row_dict\n\u001b[32m---> \u001b[39m\u001b[32m11\u001b[39m update_dt_row_dict = load_updated_dict()\n\u001b[32m     12\u001b[39m update_dt_row_dict\n",
      "\u001b[36mCell\u001b[39m\u001b[36m \u001b[39m\u001b[32mIn[4]\u001b[39m\u001b[32m, line 6\u001b[39m, in \u001b[36mload_updated_dict\u001b[39m\u001b[34m(pickle_path)\u001b[39m\n\u001b[32m      5\u001b[39m \u001b[38;5;28;01mdef\u001b[39;00m\u001b[38;5;250m \u001b[39m\u001b[34mload_updated_dict\u001b[39m(pickle_path=\u001b[33m\"\u001b[39m\u001b[33mupdate_result.pkl\u001b[39m\u001b[33m\"\u001b[39m):\n\u001b[32m----> \u001b[39m\u001b[32m6\u001b[39m     \u001b[38;5;28;01mwith\u001b[39;00m \u001b[38;5;28mopen\u001b[39m(pickle_path, \u001b[33m\"\u001b[39m\u001b[33mrb\u001b[39m\u001b[33m\"\u001b[39m) \u001b[38;5;28;01mas\u001b[39;00m f:\n\u001b[32m      7\u001b[39m         update_dt_row_dict = pickle.load(f)\n\u001b[32m      8\u001b[39m     \u001b[38;5;28mprint\u001b[39m(\u001b[33m\"\u001b[39m\u001b[33m📤 Loaded updated dictionary from pickle.\u001b[39m\u001b[33m\"\u001b[39m)\n",
      "\u001b[36mFile \u001b[39m\u001b[32m~/miniconda3/envs/scu/lib/python3.11/site-packages/IPython/core/interactiveshell.py:326\u001b[39m, in \u001b[36m_modified_open\u001b[39m\u001b[34m(file, *args, **kwargs)\u001b[39m\n\u001b[32m    319\u001b[39m \u001b[38;5;28;01mif\u001b[39;00m file \u001b[38;5;129;01min\u001b[39;00m {\u001b[32m0\u001b[39m, \u001b[32m1\u001b[39m, \u001b[32m2\u001b[39m}:\n\u001b[32m    320\u001b[39m     \u001b[38;5;28;01mraise\u001b[39;00m \u001b[38;5;167;01mValueError\u001b[39;00m(\n\u001b[32m    321\u001b[39m         \u001b[33mf\u001b[39m\u001b[33m\"\u001b[39m\u001b[33mIPython won\u001b[39m\u001b[33m'\u001b[39m\u001b[33mt let you open fd=\u001b[39m\u001b[38;5;132;01m{\u001b[39;00mfile\u001b[38;5;132;01m}\u001b[39;00m\u001b[33m by default \u001b[39m\u001b[33m\"\u001b[39m\n\u001b[32m    322\u001b[39m         \u001b[33m\"\u001b[39m\u001b[33mas it is likely to crash IPython. If you know what you are doing, \u001b[39m\u001b[33m\"\u001b[39m\n\u001b[32m    323\u001b[39m         \u001b[33m\"\u001b[39m\u001b[33myou can use builtins\u001b[39m\u001b[33m'\u001b[39m\u001b[33m open.\u001b[39m\u001b[33m\"\u001b[39m\n\u001b[32m    324\u001b[39m     )\n\u001b[32m--> \u001b[39m\u001b[32m326\u001b[39m \u001b[38;5;28;01mreturn\u001b[39;00m io_open(file, *args, **kwargs)\n",
      "\u001b[31mFileNotFoundError\u001b[39m: [Errno 2] No such file or directory: 'update_result.pkl'"
     ]
    }
   ],
   "source": [
    "# Step 1: Upload the latest archieved data\n",
    "# Load the Updated Dictionary\n",
    "import pickle\n",
    "\n",
    "def load_updated_dict(pickle_path=\"update_result.pkl\"):\n",
    "    with open(pickle_path, \"rb\") as f:\n",
    "        update_dt_row_dict = pickle.load(f)\n",
    "    print(\"📤 Loaded updated dictionary from pickle.\")\n",
    "    return update_dt_row_dict\n",
    "\n",
    "update_dt_row_dict = load_updated_dict()\n",
    "update_dt_row_dict"
   ]
  },
  {
   "cell_type": "markdown",
   "id": "3b551a3a-69ed-4505-a68b-b8f3c2b1c829",
   "metadata": {},
   "source": [
    "## **Importing machine data** [2]"
   ]
  },
  {
   "cell_type": "markdown",
   "id": "1a8b5cd9-959e-46e3-85be-46590f49106e",
   "metadata": {},
   "source": [
    "### **Importing O2 data** [3]"
   ]
  },
  {
   "cell_type": "markdown",
   "id": "bd519149-cf0d-4dac-975b-c242e57532a7",
   "metadata": {},
   "source": [
    "### **Importing bp data** [3]"
   ]
  },
  {
   "cell_type": "markdown",
   "id": "957d497e-0e21-4c01-946e-4a36b2265f93",
   "metadata": {},
   "source": [
    "### **Importing sugar data** [3]"
   ]
  },
  {
   "cell_type": "markdown",
   "id": "7cb64ea3-5435-4d69-afe0-2853b3c23dbf",
   "metadata": {},
   "source": [
    "### **Importing inbody data** [3]"
   ]
  },
  {
   "cell_type": "markdown",
   "id": "d09d02da-a9e3-4865-a9df-5cd9e2ede174",
   "metadata": {},
   "source": [
    "## **Encorporating data into archieves** [2]"
   ]
  },
  {
   "cell_type": "markdown",
   "id": "084e9caa-82ba-4a49-8156-b18048dae0f6",
   "metadata": {},
   "source": [
    "### **Result of loading using defaults and sliders stored in pickel**"
   ]
  },
  {
   "cell_type": "raw",
   "id": "6d7f5748-55a0-4cb6-86d2-5366c0337f1f",
   "metadata": {},
   "source": []
  }
 ],
 "metadata": {
  "kernelspec": {
   "display_name": "Python (scu)",
   "language": "python",
   "name": "scu"
  },
  "language_info": {
   "codemirror_mode": {
    "name": "ipython",
    "version": 3
   },
   "file_extension": ".py",
   "mimetype": "text/x-python",
   "name": "python",
   "nbconvert_exporter": "python",
   "pygments_lexer": "ipython3",
   "version": "3.11.13"
  }
 },
 "nbformat": 4,
 "nbformat_minor": 5
}
