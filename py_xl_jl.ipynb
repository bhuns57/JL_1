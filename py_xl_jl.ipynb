{
 "cells": [
  {
   "cell_type": "markdown",
   "id": "27bea869-5e01-45bc-bc4b-5bada24fd329",
   "metadata": {
    "tags": []
   },
   "source": [
    "📘 Processing XL tables Using Jupyter Lab___"
   ]
  },
  {
   "cell_type": "markdown",
   "id": "6ed026d9-f8d6-473c-a923-c1a073ef1cd2",
   "metadata": {
    "jp-MarkdownHeadingCollapsed": true,
    "tags": [],
    "toc-hr-collapsed": true
   },
   "source": [
    "# Readme"
   ]
  },
  {
   "cell_type": "markdown",
   "id": "1b32b335-d63e-4fe8-bc0f-b31cb7508a40",
   "metadata": {
    "jp-MarkdownHeadingCollapsed": true,
    "jupyter": {
     "source_hidden": true
    },
    "tags": []
   },
   "source": [
    "## Goal"
   ]
  },
  {
   "cell_type": "markdown",
   "id": "dab646ec-effc-44f8-9c9a-8531d769af39",
   "metadata": {
    "tags": []
   },
   "source": [
    " - Bring a XL table into Jupyter Lab for editing as DataFrame\n",
    " - edit the DataFrame in Jupyter Labs\n",
    " - write the updated verion to XL and track versions"
   ]
  },
  {
   "cell_type": "markdown",
   "id": "a49d93b6-3df1-461a-9a20-4856ad90dc55",
   "metadata": {
    "tags": []
   },
   "source": [
    "## Procedure"
   ]
  },
  {
   "cell_type": "markdown",
   "id": "f3dbf689-6c85-4909-88a2-b88f4e4dd356",
   "metadata": {
    "jp-MarkdownHeadingCollapsed": true,
    "tags": []
   },
   "source": [
    "- A standard xl template is made in XL with unchangeable cell functions and 0 for cell values \n",
    "- XL_ws_tbl is loaded as a  datafrane named \"df_tbl\" by a custom read function\n",
    "    fn = filename & wb=workbook & ws = worksheet & tbl = tablename\n",
    "    df_tbl = db[loader results] \n",
    "    df_tbl is modified to have >> row O be assigned as col names\n",
    "- Editing Changes are made to XL_ws_table using Jupyter Lab\n",
    "- Save the \"df\" changes to the \"XL_ws_tbl\"\n",
    "- Further edits to \"XL_ws_tbl\" can be made in XL\n",
    "- XL_ws_tbl\" cannot be open in both XL and in Python at the same time"
   ]
  },
  {
   "cell_type": "markdown",
   "id": "3345a642-dd57-4ba3-a8fb-44e1e935b21f",
   "metadata": {
    "tags": []
   },
   "source": [
    " ## Precausions & Notes"
   ]
  },
  {
   "cell_type": "markdown",
   "id": "fdc4dc10-a0e5-43c0-a942-18b49caedc8c",
   "metadata": {
    "jp-MarkdownHeadingCollapsed": true,
    "tags": []
   },
   "source": [
    " \n",
    " - This is developing an interface between Python and Excel so that \"XL_ws_tbl\" retains the form of a data table.\n",
    " - The only exception to that is formulas; we read in from the Excel files the evaluation of all formulas.\n",
    " - If any changes to the formula cells are made the changes in the formulas will be lost.\n",
    " - wb = load_workbook(file_path, data_only=False)  # Keep formulas intact\n",
    " - The default file extension for Jupyter Lab files is .ipynb. \n",
    " - This extension stands for \"Interactive Python Notebook\"\n",
    " - These .ipynb files are essentially JSON documents that store all the content of your notebook"
   ]
  },
  {
   "cell_type": "markdown",
   "id": "15a11f46-b981-4434-93f5-5c8685d7c870",
   "metadata": {
    "tags": []
   },
   "source": [
    "# Load Imports & Global Constants & Paths"
   ]
  },
  {
   "cell_type": "markdown",
   "id": "d1d1b30d-d544-4100-8b78-053bccbf0f88",
   "metadata": {
    "tags": []
   },
   "source": [
    "## Load imports"
   ]
  },
  {
   "cell_type": "code",
   "execution_count": 29,
   "id": "46ac7710-17c5-4607-8fb6-87d78aafe89c",
   "metadata": {
    "jupyter": {
     "source_hidden": true
    },
    "tags": []
   },
   "outputs": [],
   "source": [
    "from openpyxl import load_workbook\n",
    "import pandas as pd\n",
    "from git import Repo\n",
    "import os\n",
    "import subprocess"
   ]
  },
  {
   "cell_type": "markdown",
   "id": "5cea5e5c-5e65-4723-9fc3-c3fa2525ff32",
   "metadata": {
    "jp-MarkdownHeadingCollapsed": true,
    "tags": []
   },
   "source": [
    "## Load paths of base and XL tables to be analyzed"
   ]
  },
  {
   "cell_type": "markdown",
   "id": "322f4387-9ee2-450a-bb83-c5a2ab805e2d",
   "metadata": {
    "tags": []
   },
   "source": [
    "# Set the XL_Table to be analyzed and Edited [ the file, wb_ws_& tbl = have same root name.]"
   ]
  },
  {
   "cell_type": "code",
   "execution_count": 55,
   "id": "19eabee3-eaa5-412f-bebf-99a751bf2f64",
   "metadata": {
    "scrolled": true,
    "tags": []
   },
   "outputs": [
    {
     "name": "stdout",
     "output_type": "stream",
     "text": [
      "This is the root of all the names called >> xl_file =  Cls_attrbt_tbl\n",
      "path =  Cls_attrbt_tbl.xlxs\n",
      "sheet_name =  Cls_attrbt_tbl\n",
      "table_name =  Cls_attrbt_tbl\n"
     ]
    }
   ],
   "source": [
    "# The attributes of the data columns or groups of columns name ; dt_clmns :: Cls_attrbt_tbl\n",
    "xl_file = \"Cls_attrbt_tbl\"\n",
    "print(\"This is the root of all the names called >> xl_file = \", xl_file)\n",
    "path = xl_file + \".xlxs\"\n",
    "sheet_name = xl_file\n",
    "table_name = xl_file\n",
    "print(\"path = \", path)\n",
    "print(\"sheet_name = \", sheet_name)\n",
    "print(\"table_name = \", table_name)"
   ]
  },
  {
   "cell_type": "code",
   "execution_count": null,
   "id": "ba3cc553-3cfc-414d-96a4-fbaf3a57a0d9",
   "metadata": {},
   "outputs": [],
   "source": [
    "# [GOT THIS FROM COPILOT // works so I use it]    Assuming this script runs from within the repo\n",
    "repo = Repo(os.getcwd(), search_parent_directories=True)\n",
    "repo_path = repo.working_tree_dir\n",
    "print(f\"🗂️ repo_path : {repo_path}\")"
   ]
  },
  {
   "cell_type": "code",
   "execution_count": null,
   "id": "eabb482e-a011-4adb-b41a-f448b6be3dd9",
   "metadata": {
    "jupyter": {
     "source_hidden": true
    }
   },
   "outputs": [],
   "source": [
    "# [GOT THIS option FROM COPILOT // works so I use it]    Assuming this script runs from within the repo\n",
    "import subprocess\n",
    "\n",
    "repo_path = subprocess.check_output(\n",
    "    ['git', 'rev-parse', '--show-toplevel'],\n",
    "    text=True\n",
    ").strip()\n",
    "print(f\"🧭 repo_path: {repo_path}\")\n"
   ]
  },
  {
   "cell_type": "markdown",
   "id": "67ea0c70-96cf-4a6d-8111-00919037940a",
   "metadata": {
    "tags": [],
    "toc-hr-collapsed": true
   },
   "source": [
    "# Create the custom \"def\" functions"
   ]
  },
  {
   "cell_type": "markdown",
   "id": "64e75fbd-9ad1-4f0a-9f45-0c05406900f8",
   "metadata": {
    "tags": []
   },
   "source": [
    "## This \"def\" reads_both_the_formulas_editable_values_frm_xl_tbl_to_build_a_df_tbl"
   ]
  },
  {
   "cell_type": "code",
   "execution_count": 27,
   "id": "6e52ce35-de3b-45d5-83b7-971d9c9a618e",
   "metadata": {
    "tags": []
   },
   "outputs": [],
   "source": [
    "def reads_both_the_formulas_editable_values_frm_xl_tbl_to_build_a_df_tbl(path: str, sheet_name: str, table_name: str, return_meta=False):\n",
    "  \n",
    "    wb = load_workbook(path, data_only=False)       # reads data of total wb \n",
    "    ws = wb[sheet_name]                             # selects only the sheet holding the table\n",
    "    #print(\"ws ---------------------------\",ws)\n",
    "    \n",
    "    tbl = ws.tables[table_name]                     # copies the values in the table\n",
    "    #print(\"tbl ---------------------------\",tbl)\n",
    "    \n",
    "    ref_range = tbl.ref  # e.g., \"A1:F20\"           \n",
    "    print(\"ref_range or tbl cells ---------------------------\",ref_range,\"\\n\")  \n",
    "    print()\n",
    "    start_cell, end_cell = ref_range.split(\":\")\n",
    "    data = ws[start_cell:end_cell]\n",
    "    #print(\"data ---------------------------\",data)\n",
    "\n",
    "    rows = [[cell.value for cell in row] for row in data]\n",
    "    # print(\"rows ---------------------------\",rows)\n",
    "    formulas = [[cell.value if cell.data_type == 'f' else None for cell in row] for row in data]\n",
    "    #print(\"formulas ---------------------------\",formulas)\n",
    "    \n",
    "    types = [[cell.data_type for cell in row] for row in data]\n",
    "    #print(\"types ---------------------------\",types)\n",
    "\n",
    "    headers, *data_rows = rows\n",
    "    #print(\"headers ---------------------------\",headers)\n",
    "    \n",
    "    df_tbl = pd.DataFrame(data_rows, columns=headers)\n",
    "    print(\"col_nm list =  \",list(df_tbl.columns))\n",
    "    \n",
    "    print()\n",
    "    print()\n",
    "      \n",
    "    if return_meta:\n",
    "        return df_tbl, formulas[1:], types[1:]\n",
    "    else:\n",
    "        return df_tbl\n",
    "    #print(\"df after meta check---------------------------\",df)\n"
   ]
  },
  {
   "cell_type": "markdown",
   "id": "5e468cdc-1854-4f23-80fa-c9dc736c5234",
   "metadata": {
    "tags": []
   },
   "source": [
    "# Call_def_functions_to_PERFORM_tasks"
   ]
  },
  {
   "cell_type": "markdown",
   "id": "bf3e5fe7-2461-4635-bb0e-c3d4d9868f61",
   "metadata": {
    "tags": []
   },
   "source": [
    "## Call_this_def to build **df_tbl**   by reading both_the_formulas_and_editable_values from **xl_tbl**"
   ]
  },
  {
   "cell_type": "code",
   "execution_count": 35,
   "id": "e62a6099-e6de-44ee-b32a-a4f3d76b4861",
   "metadata": {
    "tags": []
   },
   "outputs": [
    {
     "name": "stdout",
     "output_type": "stream",
     "text": [
      "Cls_attrbt_tbl\n"
     ]
    },
    {
     "ename": "FileNotFoundError",
     "evalue": "[Errno 2] No such file or directory: 'Cls_attrbt_tbl.xlsx'",
     "output_type": "error",
     "traceback": [
      "\u001b[31m---------------------------------------------------------------------------\u001b[39m",
      "\u001b[31mFileNotFoundError\u001b[39m                         Traceback (most recent call last)",
      "\u001b[36mCell\u001b[39m\u001b[36m \u001b[39m\u001b[32mIn[35]\u001b[39m\u001b[32m, line 2\u001b[39m\n\u001b[32m      1\u001b[39m \u001b[38;5;28mprint\u001b[39m(xl_file)\n\u001b[32m----> \u001b[39m\u001b[32m2\u001b[39m df_tbl, cell_formulas, cell_types = reads_both_the_formulas_editable_values_frm_xl_tbl_to_build_a_df_tbl(\n\u001b[32m      3\u001b[39m     path = xl_file + \u001b[33m\"\u001b[39m\u001b[33m.xlsx\u001b[39m\u001b[33m\"\u001b[39m,\n\u001b[32m      4\u001b[39m     sheet_name= xl_file,\n\u001b[32m      5\u001b[39m     table_name= xl_file,\n\u001b[32m      6\u001b[39m     return_meta=\u001b[38;5;28;01mTrue\u001b[39;00m\n\u001b[32m      7\u001b[39m )\n\u001b[32m      8\u001b[39m \u001b[38;5;28mprint\u001b[39m(\u001b[33m\"\u001b[39m\u001b[33mSource file name in excel[file,wb,ws and table have same Root name  =  \u001b[39m\u001b[33m\"\u001b[39m,xl_file + \u001b[33m\"\u001b[39m\u001b[33m.xlsx\u001b[39m\u001b[33m\"\u001b[39m)\n\u001b[32m      9\u001b[39m \u001b[38;5;28mprint\u001b[39m()\n",
      "\u001b[36mCell\u001b[39m\u001b[36m \u001b[39m\u001b[32mIn[27]\u001b[39m\u001b[32m, line 3\u001b[39m, in \u001b[36mreads_both_the_formulas_editable_values_frm_xl_tbl_to_build_a_df_tbl\u001b[39m\u001b[34m(path, sheet_name, table_name, return_meta)\u001b[39m\n\u001b[32m      1\u001b[39m \u001b[38;5;28;01mdef\u001b[39;00m\u001b[38;5;250m \u001b[39m\u001b[34mreads_both_the_formulas_editable_values_frm_xl_tbl_to_build_a_df_tbl\u001b[39m(path: \u001b[38;5;28mstr\u001b[39m, sheet_name: \u001b[38;5;28mstr\u001b[39m, table_name: \u001b[38;5;28mstr\u001b[39m, return_meta=\u001b[38;5;28;01mFalse\u001b[39;00m):\n\u001b[32m----> \u001b[39m\u001b[32m3\u001b[39m     wb = load_workbook(path, data_only=\u001b[38;5;28;01mFalse\u001b[39;00m)       \u001b[38;5;66;03m# reads data of total wb \u001b[39;00m\n\u001b[32m      4\u001b[39m     ws = wb[sheet_name]                             \u001b[38;5;66;03m# selects only the sheet holding the table\u001b[39;00m\n\u001b[32m      5\u001b[39m     \u001b[38;5;66;03m#print(\"ws ---------------------------\",ws)\u001b[39;00m\n",
      "\u001b[36mFile \u001b[39m\u001b[32m~/miniconda3/envs/scu/lib/python3.11/site-packages/openpyxl/reader/excel.py:346\u001b[39m, in \u001b[36mload_workbook\u001b[39m\u001b[34m(filename, read_only, keep_vba, data_only, keep_links, rich_text)\u001b[39m\n\u001b[32m    316\u001b[39m \u001b[38;5;28;01mdef\u001b[39;00m\u001b[38;5;250m \u001b[39m\u001b[34mload_workbook\u001b[39m(filename, read_only=\u001b[38;5;28;01mFalse\u001b[39;00m, keep_vba=KEEP_VBA,\n\u001b[32m    317\u001b[39m                   data_only=\u001b[38;5;28;01mFalse\u001b[39;00m, keep_links=\u001b[38;5;28;01mTrue\u001b[39;00m, rich_text=\u001b[38;5;28;01mFalse\u001b[39;00m):\n\u001b[32m    318\u001b[39m \u001b[38;5;250m    \u001b[39m\u001b[33;03m\"\"\"Open the given filename and return the workbook\u001b[39;00m\n\u001b[32m    319\u001b[39m \n\u001b[32m    320\u001b[39m \u001b[33;03m    :param filename: the path to open or a file-like object\u001b[39;00m\n\u001b[32m   (...)\u001b[39m\u001b[32m    344\u001b[39m \n\u001b[32m    345\u001b[39m \u001b[33;03m    \"\"\"\u001b[39;00m\n\u001b[32m--> \u001b[39m\u001b[32m346\u001b[39m     reader = ExcelReader(filename, read_only, keep_vba,\n\u001b[32m    347\u001b[39m                          data_only, keep_links, rich_text)\n\u001b[32m    348\u001b[39m     reader.read()\n\u001b[32m    349\u001b[39m     \u001b[38;5;28;01mreturn\u001b[39;00m reader.wb\n",
      "\u001b[36mFile \u001b[39m\u001b[32m~/miniconda3/envs/scu/lib/python3.11/site-packages/openpyxl/reader/excel.py:123\u001b[39m, in \u001b[36mExcelReader.__init__\u001b[39m\u001b[34m(self, fn, read_only, keep_vba, data_only, keep_links, rich_text)\u001b[39m\n\u001b[32m    121\u001b[39m \u001b[38;5;28;01mdef\u001b[39;00m\u001b[38;5;250m \u001b[39m\u001b[34m__init__\u001b[39m(\u001b[38;5;28mself\u001b[39m, fn, read_only=\u001b[38;5;28;01mFalse\u001b[39;00m, keep_vba=KEEP_VBA,\n\u001b[32m    122\u001b[39m              data_only=\u001b[38;5;28;01mFalse\u001b[39;00m, keep_links=\u001b[38;5;28;01mTrue\u001b[39;00m, rich_text=\u001b[38;5;28;01mFalse\u001b[39;00m):\n\u001b[32m--> \u001b[39m\u001b[32m123\u001b[39m     \u001b[38;5;28mself\u001b[39m.archive = _validate_archive(fn)\n\u001b[32m    124\u001b[39m     \u001b[38;5;28mself\u001b[39m.valid_files = \u001b[38;5;28mself\u001b[39m.archive.namelist()\n\u001b[32m    125\u001b[39m     \u001b[38;5;28mself\u001b[39m.read_only = read_only\n",
      "\u001b[36mFile \u001b[39m\u001b[32m~/miniconda3/envs/scu/lib/python3.11/site-packages/openpyxl/reader/excel.py:95\u001b[39m, in \u001b[36m_validate_archive\u001b[39m\u001b[34m(filename)\u001b[39m\n\u001b[32m     88\u001b[39m             msg = (\u001b[33m'\u001b[39m\u001b[33mopenpyxl does not support \u001b[39m\u001b[38;5;132;01m%s\u001b[39;00m\u001b[33m file format, \u001b[39m\u001b[33m'\u001b[39m\n\u001b[32m     89\u001b[39m                    \u001b[33m'\u001b[39m\u001b[33mplease check you can open \u001b[39m\u001b[33m'\u001b[39m\n\u001b[32m     90\u001b[39m                    \u001b[33m'\u001b[39m\u001b[33mit with Excel first. \u001b[39m\u001b[33m'\u001b[39m\n\u001b[32m     91\u001b[39m                    \u001b[33m'\u001b[39m\u001b[33mSupported formats are: \u001b[39m\u001b[38;5;132;01m%s\u001b[39;00m\u001b[33m'\u001b[39m) % (file_format,\n\u001b[32m     92\u001b[39m                                                    \u001b[33m'\u001b[39m\u001b[33m,\u001b[39m\u001b[33m'\u001b[39m.join(SUPPORTED_FORMATS))\n\u001b[32m     93\u001b[39m         \u001b[38;5;28;01mraise\u001b[39;00m InvalidFileException(msg)\n\u001b[32m---> \u001b[39m\u001b[32m95\u001b[39m archive = ZipFile(filename, \u001b[33m'\u001b[39m\u001b[33mr\u001b[39m\u001b[33m'\u001b[39m)\n\u001b[32m     96\u001b[39m \u001b[38;5;28;01mreturn\u001b[39;00m archive\n",
      "\u001b[36mFile \u001b[39m\u001b[32m~/miniconda3/envs/scu/lib/python3.11/zipfile.py:1295\u001b[39m, in \u001b[36mZipFile.__init__\u001b[39m\u001b[34m(self, file, mode, compression, allowZip64, compresslevel, strict_timestamps, metadata_encoding)\u001b[39m\n\u001b[32m   1293\u001b[39m \u001b[38;5;28;01mwhile\u001b[39;00m \u001b[38;5;28;01mTrue\u001b[39;00m:\n\u001b[32m   1294\u001b[39m     \u001b[38;5;28;01mtry\u001b[39;00m:\n\u001b[32m-> \u001b[39m\u001b[32m1295\u001b[39m         \u001b[38;5;28mself\u001b[39m.fp = io.open(file, filemode)\n\u001b[32m   1296\u001b[39m     \u001b[38;5;28;01mexcept\u001b[39;00m \u001b[38;5;167;01mOSError\u001b[39;00m:\n\u001b[32m   1297\u001b[39m         \u001b[38;5;28;01mif\u001b[39;00m filemode \u001b[38;5;129;01min\u001b[39;00m modeDict:\n",
      "\u001b[31mFileNotFoundError\u001b[39m: [Errno 2] No such file or directory: 'Cls_attrbt_tbl.xlsx'"
     ]
    }
   ],
   "source": [
    "print(xl_file)\n",
    "df_tbl, cell_formulas, cell_types = reads_both_the_formulas_editable_values_frm_xl_tbl_to_build_a_df_tbl(\n",
    "    path = xl_file + \".xlsx\",\n",
    "    sheet_name= xl_file,\n",
    "    table_name= xl_file,\n",
    "    return_meta=True\n",
    ")\n",
    "print(\"Source file name in excel[file,wb,ws and table have same Root name  =  \",xl_file + \".xlsx\")\n",
    "print()\n",
    "col_nm = (df_tbl.columns) # Cols with index labled\n",
    "print(\"all columns  =  \",col_nm)\n",
    "print()\n",
    "print(\"numbr_cols  =  \",len(col_nm))\n",
    "print()\n",
    "print(\"col = _dt_clms_or_grp_ of df_tbl\" )\n",
    "print()\n",
    "\n",
    "print(df_tbl.loc[:,\"dt_clms_or_grp\"])   # teat print col \"dt_clms_or_grp\"\n",
    "print()\n",
    "print()\n",
    "print()\n",
    "print()\n",
    "print()\n"
   ]
  },
  {
   "cell_type": "markdown",
   "id": "a1e5445b-787a-4707-99c7-1bc15141badb",
   "metadata": {
    "jp-MarkdownHeadingCollapsed": true,
    "tags": []
   },
   "source": [
    "# #####################################################################################\n"
   ]
  },
  {
   "cell_type": "markdown",
   "id": "2144534a-f987-47e6-9649-ab1204c08a0d",
   "metadata": {
    "tags": []
   },
   "source": [
    "#  Sandbox for new Defs"
   ]
  },
  {
   "cell_type": "markdown",
   "id": "b6785a7d-3dba-461e-b8a0-b6941cf4b612",
   "metadata": {
    "tags": []
   },
   "source": [
    "## New def x"
   ]
  },
  {
   "cell_type": "markdown",
   "id": "4ce6e99a-0d4c-4bc4-bd8c-16ee0861d573",
   "metadata": {},
   "source": []
  }
 ],
 "metadata": {
  "kernelspec": {
   "display_name": "Python 3 (ipykernel)",
   "language": "python",
   "name": "python3"
  },
  "language_info": {
   "codemirror_mode": {
    "name": "ipython",
    "version": 3
   },
   "file_extension": ".py",
   "mimetype": "text/x-python",
   "name": "python",
   "nbconvert_exporter": "python",
   "pygments_lexer": "ipython3",
   "version": "3.11.13"
  },
  "toc-autonumbering": true,
  "toc-showcode": false,
  "toc-showtags": false
 },
 "nbformat": 4,
 "nbformat_minor": 5
}
