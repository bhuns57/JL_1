{
 "cells": [
  {
   "cell_type": "markdown",
   "id": "27bea869-5e01-45bc-bc4b-5bada24fd329",
   "metadata": {
    "jp-MarkdownHeadingCollapsed": true,
    "tags": []
   },
   "source": [
    "# 📘 Processing XL tables Using Jupyter Lab___"
   ]
  },
  {
   "cell_type": "markdown",
   "id": "6ed026d9-f8d6-473c-a923-c1a073ef1cd2",
   "metadata": {
    "jp-MarkdownHeadingCollapsed": true,
    "tags": [],
    "toc-hr-collapsed": true
   },
   "source": [
    "# Goal & Procedures"
   ]
  },
  {
   "cell_type": "markdown",
   "id": "1b32b335-d63e-4fe8-bc0f-b31cb7508a40",
   "metadata": {
    "jp-MarkdownHeadingCollapsed": true,
    "tags": []
   },
   "source": [
    "## Goal"
   ]
  },
  {
   "cell_type": "markdown",
   "id": "dab646ec-effc-44f8-9c9a-8531d769af39",
   "metadata": {
    "tags": []
   },
   "source": [
    " - Bring a XL table into Jupyter Lab for editing as DataFrame\n",
    " - edit the DataFrame in Jupyter Labs\n",
    " - write the updated verion to XL and track versions"
   ]
  },
  {
   "cell_type": "markdown",
   "id": "a49d93b6-3df1-461a-9a20-4856ad90dc55",
   "metadata": {
    "tags": []
   },
   "source": [
    "## Procedure"
   ]
  },
  {
   "cell_type": "markdown",
   "id": "f3dbf689-6c85-4909-88a2-b88f4e4dd356",
   "metadata": {
    "jp-MarkdownHeadingCollapsed": true,
    "tags": []
   },
   "source": [
    "- A standard xl template is made in XL with unchangeable cell functions and 0 for cell values \n",
    "- XL_ws_tbl is loaded as a  datafrane named \"df_tbl\" by a custom read function\n",
    "    fn = filename & wb=workbook & ws = worksheet & tbl = tablename\n",
    "    df_tbl = db[loader results] \n",
    "    df_tbl is modified to have >> row O be assigned as col names\n",
    "- Editing Changes are made to XL_ws_table using Jupyter Lab\n",
    "- Save the \"df\" changes to the \"XL_ws_tbl\"\n",
    "- Further edits to \"XL_ws_tbl\" can be made in XL\n",
    "- XL_ws_tbl\" cannot be open in both XL and in Python at the same time"
   ]
  },
  {
   "cell_type": "markdown",
   "id": "3345a642-dd57-4ba3-a8fb-44e1e935b21f",
   "metadata": {
    "tags": []
   },
   "source": [
    " ## Precausions & Notes"
   ]
  },
  {
   "cell_type": "markdown",
   "id": "fdc4dc10-a0e5-43c0-a942-18b49caedc8c",
   "metadata": {
    "jp-MarkdownHeadingCollapsed": true,
    "tags": []
   },
   "source": [
    " \n",
    " - This is developing an interface between Python and Excel so that \"XL_ws_tbl\" retains the form of a data table.\n",
    " - The only exception to that is formulas; we read in from the Excel files the evaluation of all formulas.\n",
    " - If any changes to the formula cells are made the changes in the formulas will be lost.\n",
    " - wb = load_workbook(file_path, data_only=False)  # Keep formulas intact\n",
    " - The default file extension for Jupyter Lab files is .ipynb. \n",
    " - This extension stands for \"Interactive Python Notebook\"\n",
    " - These .ipynb files are essentially JSON documents that store all the content of your notebook"
   ]
  },
  {
   "cell_type": "markdown",
   "id": "322f4387-9ee2-450a-bb83-c5a2ab805e2d",
   "metadata": {
    "jp-MarkdownHeadingCollapsed": true,
    "tags": []
   },
   "source": [
    "# The name of the XL Table to be analyzed and Edited                [file, wb_ws_tbl = have same name.]"
   ]
  },
  {
   "cell_type": "code",
   "execution_count": 1,
   "id": "19eabee3-eaa5-412f-bebf-99a751bf2f64",
   "metadata": {
    "jupyter": {
     "source_hidden": true
    },
    "tags": []
   },
   "outputs": [],
   "source": [
    "# The attributes of the data columns or groups of columns name ; dt_clmns :: Cls_attrbt_tbl\n",
    "xl_file = \"Cls_attrbt_tbl\""
   ]
  },
  {
   "cell_type": "markdown",
   "id": "15a11f46-b981-4434-93f5-5c8685d7c870",
   "metadata": {
    "jp-MarkdownHeadingCollapsed": true,
    "tags": []
   },
   "source": [
    "# Load Imports & Global Constants & Paths"
   ]
  },
  {
   "cell_type": "markdown",
   "id": "d1d1b30d-d544-4100-8b78-053bccbf0f88",
   "metadata": {
    "tags": []
   },
   "source": [
    "## Load imports"
   ]
  },
  {
   "cell_type": "code",
   "execution_count": 2,
   "id": "46ac7710-17c5-4607-8fb6-87d78aafe89c",
   "metadata": {
    "jupyter": {
     "source_hidden": true
    },
    "tags": []
   },
   "outputs": [],
   "source": [
    "from openpyxl import load_workbook\n",
    "import pandas as pd"
   ]
  },
  {
   "cell_type": "markdown",
   "id": "5cea5e5c-5e65-4723-9fc3-c3fa2525ff32",
   "metadata": {
    "tags": []
   },
   "source": [
    "## Load paths of base and XL tables to be analyzed"
   ]
  },
  {
   "cell_type": "code",
   "execution_count": 3,
   "id": "187f4fdd-26a5-4ae2-97cb-7e27e5edd8ae",
   "metadata": {
    "jupyter": {
     "source_hidden": true
    },
    "tags": []
   },
   "outputs": [],
   "source": [
    "Base_dir = r\" G:\\pythn\\Projects\\JL_1\""
   ]
  },
  {
   "cell_type": "markdown",
   "id": "67ea0c70-96cf-4a6d-8111-00919037940a",
   "metadata": {
    "jp-MarkdownHeadingCollapsed": true,
    "tags": [],
    "toc-hr-collapsed": true
   },
   "source": [
    "# Create the custom \"def\" functions"
   ]
  },
  {
   "cell_type": "markdown",
   "id": "64e75fbd-9ad1-4f0a-9f45-0c05406900f8",
   "metadata": {
    "tags": []
   },
   "source": [
    "## This \"def\" reads_both_the_formulas_editable_values_frm_xl_tbl_to_build_a_df_tbl"
   ]
  },
  {
   "cell_type": "code",
   "execution_count": 4,
   "id": "6e52ce35-de3b-45d5-83b7-971d9c9a618e",
   "metadata": {
    "jupyter": {
     "source_hidden": true
    },
    "tags": []
   },
   "outputs": [],
   "source": [
    "def reads_both_the_formulas_editable_values_frm_xl_tbl_to_build_a_df_tbl(path: str, sheet_name: str, table_name: str, return_meta=False):\n",
    "  \n",
    "    wb = load_workbook(path, data_only=False)       # reads data of total wb \n",
    "    ws = wb[sheet_name]                             # selects only the sheet holding the table\n",
    "    #print(\"ws ---------------------------\",ws)\n",
    "    \n",
    "    tbl = ws.tables[table_name]                     # copies the values in the table\n",
    "    #print(\"tbl ---------------------------\",tbl)\n",
    "    \n",
    "    ref_range = tbl.ref  # e.g., \"A1:F20\"           \n",
    "    print(\"ref_range or tbl cells ---------------------------\",ref_range,\"\\n\")  \n",
    "    print()\n",
    "    start_cell, end_cell = ref_range.split(\":\")\n",
    "    data = ws[start_cell:end_cell]\n",
    "    #print(\"data ---------------------------\",data)\n",
    "\n",
    "    rows = [[cell.value for cell in row] for row in data]\n",
    "    # print(\"rows ---------------------------\",rows)\n",
    "    formulas = [[cell.value if cell.data_type == 'f' else None for cell in row] for row in data]\n",
    "    #print(\"formulas ---------------------------\",formulas)\n",
    "    \n",
    "    types = [[cell.data_type for cell in row] for row in data]\n",
    "    #print(\"types ---------------------------\",types)\n",
    "\n",
    "    headers, *data_rows = rows\n",
    "    #print(\"headers ---------------------------\",headers)\n",
    "    \n",
    "    df_tbl = pd.DataFrame(data_rows, columns=headers)\n",
    "    print(\"col_nm list =  \",list(df_tbl.columns))\n",
    "    \n",
    "    print()\n",
    "    print()\n",
    "      \n",
    "    if return_meta:\n",
    "        return df_tbl, formulas[1:], types[1:]\n",
    "    else:\n",
    "        return df_tbl\n",
    "    #print(\"df after meta check---------------------------\",df)\n"
   ]
  },
  {
   "cell_type": "markdown",
   "id": "5e468cdc-1854-4f23-80fa-c9dc736c5234",
   "metadata": {
    "jp-MarkdownHeadingCollapsed": true,
    "tags": []
   },
   "source": [
    "# Call_def_functions_to_PERFORM_tasks"
   ]
  },
  {
   "cell_type": "markdown",
   "id": "bf3e5fe7-2461-4635-bb0e-c3d4d9868f61",
   "metadata": {
    "tags": []
   },
   "source": [
    "## Call_this_def to build **df_tbl**   by reading both_the_formulas_and_editable_values from **xl_tbl**"
   ]
  },
  {
   "cell_type": "code",
   "execution_count": 5,
   "id": "e62a6099-e6de-44ee-b32a-a4f3d76b4861",
   "metadata": {
    "jupyter": {
     "source_hidden": true
    },
    "tags": []
   },
   "outputs": [
    {
     "name": "stdout",
     "output_type": "stream",
     "text": [
      "ref_range or tbl cells --------------------------- A1:Q160 \n",
      "\n",
      "\n",
      "col_nm list =   ['dt_clms_or_grp', 'dt_clms_id', 'lvl', 'Cls1', 'Cls2', 'Cls3', 'Cls4', 'grp_data', 'parent1_nm', 'parent2_nm', 'parent3_nm', 'parent4_nm', 'Input_typ_freq', 'dt_clms_nm', '50573', '50574', '50575']\n",
      "\n",
      "\n",
      "Source file name in excel[file,wb,ws and table have same Root name  =   Cls_attrbt_tbl.xlsx\n",
      "\n",
      "all columns  =   Index(['dt_clms_or_grp', 'dt_clms_id', 'lvl', 'Cls1', 'Cls2', 'Cls3', 'Cls4',\n",
      "       'grp_data', 'parent1_nm', 'parent2_nm', 'parent3_nm', 'parent4_nm',\n",
      "       'Input_typ_freq', 'dt_clms_nm', '50573', '50574', '50575'],\n",
      "      dtype='object')\n",
      "\n",
      "numbr_cols  =   17\n",
      "\n",
      "col = _dt_clms_or_grp_ of df_tbl\n",
      "\n",
      "0        lifestyle\n",
      "1      balance_grp\n",
      "2       rstrnt_grp\n",
      "3           rstrnt\n",
      "4           rstrnt\n",
      "          ...     \n",
      "154      _______22\n",
      "155      _______23\n",
      "156      _______24\n",
      "157      _______25\n",
      "158      _______26\n",
      "Name: dt_clms_or_grp, Length: 159, dtype: object\n",
      "\n",
      "\n",
      "\n",
      "\n",
      "\n"
     ]
    }
   ],
   "source": [
    "df_tbl, cell_formulas, cell_types = reads_both_the_formulas_editable_values_frm_xl_tbl_to_build_a_df_tbl(\n",
    "    path = xl_file + \".xlsx\",\n",
    "    sheet_name= xl_file,\n",
    "    table_name= xl_file,\n",
    "    return_meta=True\n",
    ")\n",
    "print(\"Source file name in excel[file,wb,ws and table have same Root name  =  \",xl_file + \".xlsx\")\n",
    "print()\n",
    "col_nm = (df_tbl.columns) # Cols with index labled\n",
    "print(\"all columns  =  \",col_nm)\n",
    "print()\n",
    "print(\"numbr_cols  =  \",len(col_nm))\n",
    "print()\n",
    "print(\"col = _dt_clms_or_grp_ of df_tbl\" )\n",
    "print()\n",
    "\n",
    "print(df_tbl.loc[:,\"dt_clms_or_grp\"])   # teat print col \"dt_clms_or_grp\"\n",
    "print()\n",
    "print()\n",
    "print()\n",
    "print()\n",
    "print()\n"
   ]
  },
  {
   "cell_type": "markdown",
   "id": "a1e5445b-787a-4707-99c7-1bc15141badb",
   "metadata": {
    "jp-MarkdownHeadingCollapsed": true,
    "tags": []
   },
   "source": [
    "# #####################################################################################\n"
   ]
  },
  {
   "cell_type": "markdown",
   "id": "2144534a-f987-47e6-9649-ab1204c08a0d",
   "metadata": {
    "jp-MarkdownHeadingCollapsed": true,
    "tags": []
   },
   "source": [
    "#  Sandbox for new Defs"
   ]
  },
  {
   "cell_type": "markdown",
   "id": "b6785a7d-3dba-461e-b8a0-b6941cf4b612",
   "metadata": {
    "tags": []
   },
   "source": [
    "## New def x"
   ]
  },
  {
   "cell_type": "markdown",
   "id": "4ce6e99a-0d4c-4bc4-bd8c-16ee0861d573",
   "metadata": {},
   "source": []
  }
 ],
 "metadata": {
  "kernelspec": {
   "display_name": "Python 3 (ipykernel)",
   "language": "python",
   "name": "python3"
  },
  "language_info": {
   "codemirror_mode": {
    "name": "ipython",
    "version": 3
   },
   "file_extension": ".py",
   "mimetype": "text/x-python",
   "name": "python",
   "nbconvert_exporter": "python",
   "pygments_lexer": "ipython3",
   "version": "3.12.5"
  },
  "toc-autonumbering": true,
  "toc-showcode": false,
  "toc-showtags": false
 },
 "nbformat": 4,
 "nbformat_minor": 5
}
