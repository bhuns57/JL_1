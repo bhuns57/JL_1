{
 "cells": [
  {
   "cell_type": "markdown",
   "id": "27bea869-5e01-45bc-bc4b-5bada24fd329",
   "metadata": {
    "tags": []
   },
   "source": [
    "📘 Processing XL tables Using Jupyter Lab___"
   ]
  },
  {
   "cell_type": "markdown",
   "id": "6ed026d9-f8d6-473c-a923-c1a073ef1cd2",
   "metadata": {
    "jp-MarkdownHeadingCollapsed": true,
    "tags": [],
    "toc-hr-collapsed": true
   },
   "source": [
    "# Readme"
   ]
  },
  {
   "cell_type": "markdown",
   "id": "1b32b335-d63e-4fe8-bc0f-b31cb7508a40",
   "metadata": {
    "jp-MarkdownHeadingCollapsed": true,
    "jupyter": {
     "source_hidden": true
    },
    "tags": []
   },
   "source": [
    "## Goal"
   ]
  },
  {
   "cell_type": "markdown",
   "id": "dab646ec-effc-44f8-9c9a-8531d769af39",
   "metadata": {
    "tags": []
   },
   "source": [
    " - Bring a XL table into Jupyter Lab for editing as DataFrame\n",
    " - edit the DataFrame in Jupyter Labs\n",
    " - write the updated verion to XL and track versions"
   ]
  },
  {
   "cell_type": "markdown",
   "id": "a49d93b6-3df1-461a-9a20-4856ad90dc55",
   "metadata": {
    "tags": []
   },
   "source": [
    "## Procedure"
   ]
  },
  {
   "cell_type": "markdown",
   "id": "f3dbf689-6c85-4909-88a2-b88f4e4dd356",
   "metadata": {
    "jp-MarkdownHeadingCollapsed": true,
    "tags": []
   },
   "source": [
    "- A standard xl template is made in XL with unchangeable cell functions and 0 for cell values \n",
    "- XL_ws_tbl is loaded as a  datafrane named \"df_tbl\" by a custom read function\n",
    "    fn = filename & wb=workbook & ws = worksheet & tbl = tablename\n",
    "    df_tbl = db[loader results] \n",
    "    df_tbl is modified to have >> row O be assigned as col names\n",
    "- Editing Changes are made to XL_ws_table using Jupyter Lab\n",
    "- Save the \"df\" changes to the \"XL_ws_tbl\"\n",
    "- Further edits to \"XL_ws_tbl\" can be made in XL\n",
    "- XL_ws_tbl\" cannot be open in both XL and in Python at the same time"
   ]
  },
  {
   "cell_type": "markdown",
   "id": "3345a642-dd57-4ba3-a8fb-44e1e935b21f",
   "metadata": {
    "tags": []
   },
   "source": [
    " ## Precausions & Notes"
   ]
  },
  {
   "cell_type": "markdown",
   "id": "fdc4dc10-a0e5-43c0-a942-18b49caedc8c",
   "metadata": {
    "jp-MarkdownHeadingCollapsed": true,
    "tags": []
   },
   "source": [
    " \n",
    " - This is developing an interface between Python and Excel so that \"XL_ws_tbl\" retains the form of a data table.\n",
    " - The only exception to that is formulas; we read in from the Excel files the evaluation of all formulas.\n",
    " - If any changes to the formula cells are made the changes in the formulas will be lost.\n",
    " - wb = load_workbook(file_path, data_only=False)  # Keep formulas intact\n",
    " - The default file extension for Jupyter Lab files is .ipynb. \n",
    " - This extension stands for \"Interactive Python Notebook\"\n",
    " - These .ipynb files are essentially JSON documents that store all the content of your notebook"
   ]
  },
  {
   "cell_type": "markdown",
   "id": "15a11f46-b981-4434-93f5-5c8685d7c870",
   "metadata": {
    "tags": []
   },
   "source": [
    "# Load Imports & Global Constants & Paths"
   ]
  },
  {
   "cell_type": "markdown",
   "id": "d1d1b30d-d544-4100-8b78-053bccbf0f88",
   "metadata": {
    "tags": []
   },
   "source": [
    "## Load imports"
   ]
  },
  {
   "cell_type": "code",
   "execution_count": 29,
   "id": "46ac7710-17c5-4607-8fb6-87d78aafe89c",
   "metadata": {
    "jupyter": {
     "source_hidden": true
    },
    "tags": []
   },
   "outputs": [],
   "source": [
    "from openpyxl import load_workbook\n",
    "import pandas as pd\n",
    "from git import Repo\n",
    "import os\n",
    "import subprocess"
   ]
  },
  {
   "cell_type": "markdown",
   "id": "5cea5e5c-5e65-4723-9fc3-c3fa2525ff32",
   "metadata": {
    "jp-MarkdownHeadingCollapsed": true,
    "tags": []
   },
   "source": [
    "## Load paths of base and XL tables to be analyzed"
   ]
  },
  {
   "cell_type": "markdown",
   "id": "322f4387-9ee2-450a-bb83-c5a2ab805e2d",
   "metadata": {
    "tags": []
   },
   "source": [
    "# Set the XL_Table to be analyzed and Edited [ the file, wb_ws_& tbl = have same root name.]"
   ]
  },
  {
   "cell_type": "code",
   "execution_count": 76,
   "id": "19eabee3-eaa5-412f-bebf-99a751bf2f64",
   "metadata": {
    "scrolled": true,
    "tags": []
   },
   "outputs": [
    {
     "name": "stdout",
     "output_type": "stream",
     "text": [
      "This is the root of all the names called >> xl_file =  Cls_attrbt_tbl\n",
      "path =  Cls_attrbt_tbl.xlxs\n",
      "sheet_name =  Cls_attrbt_tbl\n",
      "table_name =  Cls_attrbt_tbl\n"
     ]
    }
   ],
   "source": [
    "# The attributes of the data columns or groups of columns name ; dt_clmns :: Cls_attrbt_tbl\n",
    "xl_file = \"Cls_attrbt_tbl\"\n",
    "print(\"This is the root of all the names called >> xl_file = \", xl_file)\n",
    "path = xl_file + \".xlxs\"\n",
    "sheet_name = xl_file\n",
    "table_name = xl_file\n",
    "print(\"path = \", path)\n",
    "print(\"sheet_name = \", sheet_name)\n",
    "print(\"table_name = \", table_name)"
   ]
  },
  {
   "cell_type": "code",
   "execution_count": 77,
   "id": "ba3cc553-3cfc-414d-96a4-fbaf3a57a0d9",
   "metadata": {},
   "outputs": [
    {
     "name": "stdout",
     "output_type": "stream",
     "text": [
      "🗂️ repo_path : /home/bhuns/JL_1\n"
     ]
    }
   ],
   "source": [
    "# [GOT THIS FROM COPILOT // works so I use it]    Assuming this script runs from within the repo\n",
    "repo = Repo(os.getcwd(), search_parent_directories=True)\n",
    "repo_path = repo.working_tree_dir\n",
    "print(f\"🗂️ repo_path : {repo_path}\")"
   ]
  },
  {
   "cell_type": "code",
   "execution_count": 60,
   "id": "eabb482e-a011-4adb-b41a-f448b6be3dd9",
   "metadata": {
    "jupyter": {
     "source_hidden": true
    }
   },
   "outputs": [
    {
     "name": "stdout",
     "output_type": "stream",
     "text": [
      "🧭 repo_path: /home/bhuns/JL_1\n"
     ]
    }
   ],
   "source": [
    "# [GOT THIS option FROM COPILOT // works so I use it]    Assuming this script runs from within the repo\n",
    "import subprocess\n",
    "\n",
    "repo_path = subprocess.check_output(\n",
    "    ['git', 'rev-parse', '--show-toplevel'],\n",
    "    text=True\n",
    ").strip()\n",
    "print(f\"🧭 repo_path: {repo_path}\")\n"
   ]
  },
  {
   "cell_type": "markdown",
   "id": "67ea0c70-96cf-4a6d-8111-00919037940a",
   "metadata": {
    "tags": [],
    "toc-hr-collapsed": true
   },
   "source": [
    "# Create the custom \"def\" functions"
   ]
  },
  {
   "cell_type": "markdown",
   "id": "64e75fbd-9ad1-4f0a-9f45-0c05406900f8",
   "metadata": {
    "tags": []
   },
   "source": [
    "## This \"def\" reads_both_the_formulas_editable_values_frm_xl_tbl_to_build_a_df_tbl"
   ]
  },
  {
   "cell_type": "code",
   "execution_count": 82,
   "id": "6e52ce35-de3b-45d5-83b7-971d9c9a618e",
   "metadata": {
    "tags": []
   },
   "outputs": [],
   "source": [
    "def build_df_table_from_xl_tbl(path, sheet_name, table_name, return_meta=False):\n",
    "    # reads_both_the_formulas_editable_values_frm_xl_tbl_to_build_a_df_tbl\n",
    "    # ---------------------------------------------------------------------\n",
    "    wb = load_workbook(path, data_only=False)       # reads data of total wb \n",
    "    ws = wb[sheet_name]                             # selects only the sheet holding the table\n",
    "    print(\"ws ---------------------------\",ws)\n",
    "    \n",
    "    tbl = ws.tables[table_name]                     # copies the values in the table\n",
    "    #print(\"tbl ---------------------------\",tbl)\n",
    "    \n",
    "    ref_range = tbl.ref  # e.g., \"A1:F20\"           \n",
    "    print(\"ref_range or tbl cells ---------------------------\",ref_range,\"\\n\")  \n",
    "    print()\n",
    "    start_cell, end_cell = ref_range.split(\":\")\n",
    "    data = ws[start_cell:end_cell]\n",
    "    #print(\"data ---------------------------\",data)\n",
    "\n",
    "    rows = [[cell.value for cell in row] for row in data]\n",
    "    # print(\"rows ---------------------------\",rows)\n",
    "    formulas = [[cell.value if cell.data_type == 'f' else None for cell in row] for row in data]\n",
    "    #print(\"formulas ---------------------------\",formulas)\n",
    "    \n",
    "    types = [[cell.data_type for cell in row] for row in data]\n",
    "    #print(\"types ---------------------------\",types)\n",
    "\n",
    "    headers, *data_rows = rows\n",
    "    #print(\"headers ---------------------------\",headers)\n",
    "    \n",
    "    df_tbl = pd.DataFrame(data_rows, columns=headers)\n",
    "    print(\"col_nm list =  \",list(df_tbl.columns))\n",
    "    \n",
    "    print()\n",
    "    print(\"df after meta check---------------------------\",df)\n",
    "    print()\n",
    "      \n",
    "    if return_meta:\n",
    "        return df_tbl, formulas[1:], types[1:]\n",
    "    else:\n",
    "        return df_tbl\n",
    "    \n"
   ]
  },
  {
   "cell_type": "markdown",
   "id": "5e468cdc-1854-4f23-80fa-c9dc736c5234",
   "metadata": {
    "tags": []
   },
   "source": [
    "# Call_def_functions_to_PERFORM_tasks"
   ]
  },
  {
   "cell_type": "markdown",
   "id": "bf3e5fe7-2461-4635-bb0e-c3d4d9868f61",
   "metadata": {
    "tags": []
   },
   "source": [
    "## Call_this_def to build **df_tbl**   by reading both_the_formulas_and_editable_values from **xl_tbl**"
   ]
  },
  {
   "cell_type": "code",
   "execution_count": 86,
   "id": "e62a6099-e6de-44ee-b32a-a4f3d76b4861",
   "metadata": {
    "tags": []
   },
   "outputs": [
    {
     "ename": "SyntaxError",
     "evalue": "invalid syntax (831282879.py, line 7)",
     "output_type": "error",
     "traceback": [
      "  \u001b[36mCell\u001b[39m\u001b[36m \u001b[39m\u001b[32mIn[86]\u001b[39m\u001b[32m, line 7\u001b[39m\n\u001b[31m    \u001b[39m\u001b[31mdf_tbl = build_df_table_from_xl_tbl(path:path,sheet_name:sheet_name,table_name:table_name,return_meta=True)\u001b[39m\n                                            ^\n\u001b[31mSyntaxError\u001b[39m\u001b[31m:\u001b[39m invalid syntax\n"
     ]
    }
   ],
   "source": [
    "# def build_df_table_from_xl_tbl(path, sheet_name, table_name, return_meta=False):\n",
    "print(xl_file)\n",
    "path = xl_file + \".xlsx\"\n",
    "sheet_name = xl_file\n",
    "table_name= xl_file\n",
    "\n",
    "df_tbl = build_df_table_from_xl_tbl(path:path,sheet_name:sheet_name,table_name:table_name,return_meta=True)\n",
    "#df_tbl, cell_formulas, cell_types = build_df_table_from_xl_tbl(path,sheet_name,table_name,return_meta=True)\n",
    "# reads_both_the_formulas_editable_values_frm_xl_tbl_to_build_a_df_tbl\n",
    "# ---------------------------------------------------------------------\n",
    "\n",
    "print(\"Source file name in excel[file,wb,ws and table have same Root name  =  \",xl_file + \".xlsx\")\n",
    "print()\n",
    "col_nm = (df_tbl.columns) # Cols with index labled\n",
    "print(\"all columns  =  \",col_nm)\n",
    "print()\n",
    "print(\"numbr_cols  =  \",len(col_nm))\n",
    "print()\n",
    "print(\"col = _dt_clms_or_grp_ of df_tbl\" )\n",
    "print()\n",
    "\n",
    "print(df_tbl.loc[:,\"dt_clms_or_grp\"])   # teat print col \"dt_clms_or_grp\"\n",
    "print()\n",
    "print()\n",
    "print()\n",
    "print()\n",
    "print()\n"
   ]
  },
  {
   "cell_type": "markdown",
   "id": "a1e5445b-787a-4707-99c7-1bc15141badb",
   "metadata": {
    "jp-MarkdownHeadingCollapsed": true,
    "tags": []
   },
   "source": [
    "# #####################################################################################\n"
   ]
  },
  {
   "cell_type": "markdown",
   "id": "2144534a-f987-47e6-9649-ab1204c08a0d",
   "metadata": {
    "tags": []
   },
   "source": [
    "#  Sandbox for new Defs"
   ]
  },
  {
   "cell_type": "markdown",
   "id": "b6785a7d-3dba-461e-b8a0-b6941cf4b612",
   "metadata": {
    "tags": []
   },
   "source": [
    "## New def x"
   ]
  },
  {
   "cell_type": "markdown",
   "id": "4ce6e99a-0d4c-4bc4-bd8c-16ee0861d573",
   "metadata": {},
   "source": []
  }
 ],
 "metadata": {
  "kernelspec": {
   "display_name": "Python 3 (ipykernel)",
   "language": "python",
   "name": "python3"
  },
  "language_info": {
   "codemirror_mode": {
    "name": "ipython",
    "version": 3
   },
   "file_extension": ".py",
   "mimetype": "text/x-python",
   "name": "python",
   "nbconvert_exporter": "python",
   "pygments_lexer": "ipython3",
   "version": "3.11.13"
  },
  "toc-autonumbering": true,
  "toc-showcode": false,
  "toc-showtags": false
 },
 "nbformat": 4,
 "nbformat_minor": 5
}
