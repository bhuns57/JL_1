{
 "cells": [
  {
   "cell_type": "markdown",
   "id": "4443adb6-6cca-42b4-885c-f0a6bf7d5121",
   "metadata": {},
   "source": [
    "**1. Define Your Specialized Loaders**"
   ]
  },
  {
   "cell_type": "code",
   "execution_count": 1,
   "id": "2e597c11-b557-46ac-b3c1-17c35bfab32c",
   "metadata": {},
   "outputs": [],
   "source": [
    "def load_df_csv(bmn):                   # df\n",
    "    \"\"\"Load a DataFrame from a CSV file.\"\"\"\n",
    "    return pd.read_csv(path)\n",
    "\n",
    "def load_dvt_dict_csv(bmn):                  # dvt_dict\n",
    "    \"\"\"Load a dict of NumPy arrays with 'dvt' as first column.\"\"\"\n",
    "    #path_csv = Path(f\"{bnm}.csv\")\n",
    "    #df = pd.read_csv(path_csv)\n",
    "    path = Path(f\"{bnm}.csv\")\n",
    "    print(path)\n",
    "    df = pd.read_csv(path)\n",
    "\n",
    "# Ensure 'dvt' is string before setting index\n",
    "    df['dvt'] = df['dvt'].astype(str)\n",
    "    df.set_index('dvt', inplace=True)\n",
    "\n",
    "    # Build ordered dictionary with 'dvt' as first key\n",
    "    obj = OrderedDict()\n",
    "    obj['dvt'] = df.index.tolist()\n",
    "\n",
    "    for col in df.columns:\n",
    "        #obj[col] = df[col].tolist()  # converts to panda series\n",
    "        obj[col] = df[col].to_numpy() # converts to numpy\n",
    "\n",
    "    return obj\n"
   ]
  },
  {
   "cell_type": "markdown",
   "id": "bf235f37-d86d-4d46-9a94-d1a74a79a906",
   "metadata": {},
   "source": [
    "**2. Create a Registry Dictionary**"
   ]
  },
  {
   "cell_type": "code",
   "execution_count": 8,
   "id": "34167c73-6e38-4f4c-947e-1851804eaca9",
   "metadata": {},
   "outputs": [],
   "source": [
    "load_registry = {\n",
    "    \"df_csv\": load_df_csv,#(bnm),\n",
    "    \"dvt_dict_csv\": load_dvt_dict_csv,#(bnm),\n",
    "    # Add more loaders here as needed\n",
    "}\n"
   ]
  },
  {
   "cell_type": "code",
   "execution_count": 9,
   "id": "12b4070f-2bcb-49a4-ad4d-806d5fefa9d9",
   "metadata": {},
   "outputs": [
    {
     "data": {
      "text/plain": [
       "{'df_csv': <function __main__.load_df_csv(bmn)>,\n",
       " 'dvt_dict_csv': <function __main__.load_dvt_dict_csv(bmn)>}"
      ]
     },
     "execution_count": 9,
     "metadata": {},
     "output_type": "execute_result"
    }
   ],
   "source": [
    "load_registry[def load_dvt_dict_csv(bmn):                  # dvt_dict\n",
    "    \"\"\"Load a dict of NumPy arrays with 'dvt' as first column.\"\"\"\n",
    "    #path_csv = Path(f\"{bnm}.csv\")\n",
    "    #df = pd.read_csv(path_csv)\n",
    "    path = Path(f\"{bnm}.csv\")\n",
    "    print(path)\n",
    "    df = pd.read_csv(path)]"
   ]
  },
  {
   "cell_type": "markdown",
   "id": "95801a6c-603b-4564-b5e8-33c13a2ad2de",
   "metadata": {},
   "source": [
    "**3a. create an object "
   ]
  },
  {
   "cell_type": "code",
   "execution_count": null,
   "id": "1209c5a9-7eab-4e1f-916b-2de006f55f26",
   "metadata": {},
   "outputs": [],
   "source": []
  },
  {
   "cell_type": "markdown",
   "id": "55fd89de-cd18-4aae-b89c-ccf01902a910",
   "metadata": {},
   "source": [
    "**3b. call the obj**"
   ]
  },
  {
   "cell_type": "code",
   "execution_count": null,
   "id": "97f8426b-1c02-4ff9-bb48-bb0524f6e324",
   "metadata": {},
   "outputs": [],
   "source": [
    "bnm = \"ad_sn\"\n",
    "        #selected_loader = \"dvt_csv\"\n",
    "selected_loader = \"dvt_dict_csv\"\n",
    "        #selected_loader = \"df_csv\"\n",
    "result = load_registry[selected_loader](bnm)\n",
    "result"
   ]
  },
  {
   "cell_type": "code",
   "execution_count": null,
   "id": "43cb477c-7018-4df8-8170-0ba84040f0f0",
   "metadata": {},
   "outputs": [],
   "source": [
    "result[\"s000\"]"
   ]
  },
  {
   "cell_type": "code",
   "execution_count": null,
   "id": "ce0e681f-0b96-4831-a4d3-7d9eb1323057",
   "metadata": {},
   "outputs": [],
   "source": [
    "result[\"dvt\"]"
   ]
  },
  {
   "cell_type": "code",
   "execution_count": null,
   "id": "e90573b5-8683-4bb6-b0dc-38be4f84784d",
   "metadata": {},
   "outputs": [],
   "source": [
    "dvt_to_idx = {dvt: idx for idx, dvt in enumerate(result.index)}"
   ]
  },
  {
   "cell_type": "code",
   "execution_count": null,
   "id": "92f864f8-bc84-46c9-819e-c1cb43284582",
   "metadata": {},
   "outputs": [],
   "source": [
    "def get_idx_from_dvt(dvt_val: str, dvt_to_idx: dict) -> int:\n",
    "    \"\"\"\n",
    "    Return positional index for a given dvt value.\n",
    "    Raises KeyError if not found.\n",
    "    \"\"\"\n",
    "    return dvt_to_idx[dvt_val]\n",
    "\n"
   ]
  },
  {
   "cell_type": "code",
   "execution_count": null,
   "id": "45d88228-9c98-4262-bda3-2c3c802b7a49",
   "metadata": {},
   "outputs": [],
   "source": [
    "get_idx_from_dvt(45863, result)"
   ]
  },
  {
   "cell_type": "markdown",
   "id": "2efd3cd5-daa2-4630-b5cb-6c6ce73278ec",
   "metadata": {},
   "source": [
    "**Add metadata to each loader:**"
   ]
  },
  {
   "cell_type": "markdown",
   "id": "0e2bf226-3f44-4a2b-abf4-f1a4587b304b",
   "metadata": {},
   "source": [
    "**Add metadata to each loader:**"
   ]
  },
  {
   "cell_type": "code",
   "execution_count": 7,
   "id": "7ad6445b-e304-42d8-b577-c808d646c37c",
   "metadata": {},
   "outputs": [
    {
     "ename": "NameError",
     "evalue": "name 'Path' is not defined",
     "output_type": "error",
     "traceback": [
      "\u001b[31m---------------------------------------------------------------------------\u001b[39m",
      "\u001b[31mNameError\u001b[39m                                 Traceback (most recent call last)",
      "\u001b[36mCell\u001b[39m\u001b[36m \u001b[39m\u001b[32mIn[7]\u001b[39m\u001b[32m, line 5\u001b[39m\n\u001b[32m      1\u001b[39m load_registry = {\n\u001b[32m      2\u001b[39m     \u001b[33m\"\u001b[39m\u001b[33mdf_csv\u001b[39m\u001b[33m\"\u001b[39m: {\u001b[33m\"\u001b[39m\u001b[33mfunc\u001b[39m\u001b[33m\"\u001b[39m: load_df_csv, \u001b[33m\"\u001b[39m\u001b[33mdesc\u001b[39m\u001b[33m\"\u001b[39m: \u001b[33m\"\u001b[39m\u001b[33mStandard DataFrame from CSV\u001b[39m\u001b[33m\"\u001b[39m},\n\u001b[32m      3\u001b[39m     \u001b[33m\"\u001b[39m\u001b[33mdvt_csv\u001b[39m\u001b[33m\"\u001b[39m: {\u001b[33m\"\u001b[39m\u001b[33mfunc\u001b[39m\u001b[33m\"\u001b[39m: load_dvt_dict_csv, \u001b[33m\"\u001b[39m\u001b[33mdesc\u001b[39m\u001b[33m\"\u001b[39m: \u001b[33m\"\u001b[39m\u001b[33mDict of arrays with \u001b[39m\u001b[33m'\u001b[39m\u001b[33mdvt\u001b[39m\u001b[33m'\u001b[39m\u001b[33m column\u001b[39m\u001b[33m\"\u001b[39m}\n\u001b[32m      4\u001b[39m }\n\u001b[32m----> \u001b[39m\u001b[32m5\u001b[39m result = load_registry[\u001b[33m\"\u001b[39m\u001b[33mdvt_csv\u001b[39m\u001b[33m\"\u001b[39m][\u001b[33m\"\u001b[39m\u001b[33mfunc\u001b[39m\u001b[33m\"\u001b[39m](\u001b[33m\"\u001b[39m\u001b[33mdata/my_file.csv\u001b[39m\u001b[33m\"\u001b[39m)\n",
      "\u001b[36mCell\u001b[39m\u001b[36m \u001b[39m\u001b[32mIn[1]\u001b[39m\u001b[32m, line 9\u001b[39m, in \u001b[36mload_dvt_dict_csv\u001b[39m\u001b[34m(bmn)\u001b[39m\n\u001b[32m      6\u001b[39m \u001b[38;5;250m\u001b[39m\u001b[33;03m\"\"\"Load a dict of NumPy arrays with 'dvt' as first column.\"\"\"\u001b[39;00m\n\u001b[32m      7\u001b[39m \u001b[38;5;66;03m#path_csv = Path(f\"{bnm}.csv\")\u001b[39;00m\n\u001b[32m      8\u001b[39m \u001b[38;5;66;03m#df = pd.read_csv(path_csv)\u001b[39;00m\n\u001b[32m----> \u001b[39m\u001b[32m9\u001b[39m path = Path(\u001b[33mf\u001b[39m\u001b[33m\"\u001b[39m\u001b[38;5;132;01m{\u001b[39;00mbnm\u001b[38;5;132;01m}\u001b[39;00m\u001b[33m.csv\u001b[39m\u001b[33m\"\u001b[39m)\n\u001b[32m     10\u001b[39m \u001b[38;5;28mprint\u001b[39m(path)\n\u001b[32m     11\u001b[39m df = pd.read_csv(path)\n",
      "\u001b[31mNameError\u001b[39m: name 'Path' is not defined"
     ]
    }
   ],
   "source": [
    "load_registry = {\n",
    "    \"df_csv\": {\"func\": load_df_csv, \"desc\": \"Standard DataFrame from CSV\"},\n",
    "    \"dvt_csv\": {\"func\": load_dvt_dict_csv, \"desc\": \"Dict of arrays with 'dvt' column\"}\n",
    "}\n",
    "result = load_registry[\"dvt_csv\"][\"func\"](\"data/my_file.csv\")\n"
   ]
  },
  {
   "cell_type": "code",
   "execution_count": null,
   "id": "b3a511a0-5a0d-40ec-84c1-7e0d3431c61d",
   "metadata": {},
   "outputs": [],
   "source": []
  },
  {
   "cell_type": "code",
   "execution_count": null,
   "id": "08efdef7-5d36-40b9-a7aa-4eb9a4211530",
   "metadata": {},
   "outputs": [],
   "source": [
    "result[s001]"
   ]
  },
  {
   "cell_type": "code",
   "execution_count": null,
   "id": "d5ef7ceb-82ee-43a6-8d89-a4ffc7172bf1",
   "metadata": {},
   "outputs": [],
   "source": [
    "result[\"dtv\"]"
   ]
  },
  {
   "cell_type": "code",
   "execution_count": null,
   "id": "d3fdb45e-8d1d-48fe-ac2b-6225cc5be8e8",
   "metadata": {},
   "outputs": [],
   "source": [
    "dvt_to_idx = {dvt: idx for idx, dvt in enumerate(df.index)}\n"
   ]
  },
  {
   "cell_type": "markdown",
   "id": "c6d7e993-214d-41c3-b55b-cd65baa53d5c",
   "metadata": {},
   "source": [
    "**Wrap with error handling:**"
   ]
  },
  {
   "cell_type": "code",
   "execution_count": null,
   "id": "bb933f65-5a5f-446c-a2ef-9a8c3c4fe218",
   "metadata": {},
   "outputs": [],
   "source": [
    "def safe_load(key, path):\n",
    "    try:\n",
    "        return load_registry[key](path)\n",
    "    except KeyError:\n",
    "        print(f\"❌ Loader '{key}' not found.\")\n",
    "    except Exception as e:\n",
    "        print(f\"⚠️ Error loading '{path}': {e}\")\n"
   ]
  },
  {
   "cell_type": "code",
   "execution_count": null,
   "id": "4d2b6245-9785-489e-8bc5-45fc69b8ab97",
   "metadata": {},
   "outputs": [],
   "source": [
    "def get_idx_from_dvt(dvt_val: str, dvt_to_idx: dict) -> int:\n",
    "    \"\"\"\n",
    "    Return positional index for a given dvt value.\n",
    "    Raises KeyError if not found.\n",
    "    \"\"\"\n",
    "    return dvt_to_idx[dvt_val]\n"
   ]
  },
  {
   "cell_type": "code",
   "execution_count": null,
   "id": "dc6cd46d-8249-46a8-91f5-ba72bb175bdb",
   "metadata": {},
   "outputs": [],
   "source": [
    "get_idx_from_dvt(dvt_val: \"85863\", dvt_to_idx: result[\"dtv\"])"
   ]
  },
  {
   "cell_type": "code",
   "execution_count": null,
   "id": "1d24b4bc-b072-4d50-ac1c-6179dd3bf033",
   "metadata": {},
   "outputs": [],
   "source": []
  }
 ],
 "metadata": {
  "kernelspec": {
   "display_name": "Python (scu)",
   "language": "python",
   "name": "scu"
  },
  "language_info": {
   "codemirror_mode": {
    "name": "ipython",
    "version": 3
   },
   "file_extension": ".py",
   "mimetype": "text/x-python",
   "name": "python",
   "nbconvert_exporter": "python",
   "pygments_lexer": "ipython3",
   "version": "3.11.13"
  }
 },
 "nbformat": 4,
 "nbformat_minor": 5
}
