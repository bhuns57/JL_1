{
 "cells": [
  {
   "cell_type": "markdown",
   "id": "4443adb6-6cca-42b4-885c-f0a6bf7d5121",
   "metadata": {},
   "source": [
    "**1. Define Your Specialized Loaders**"
   ]
  },
  {
   "cell_type": "code",
   "execution_count": 11,
   "id": "2e597c11-b557-46ac-b3c1-17c35bfab32c",
   "metadata": {},
   "outputs": [],
   "source": [
    "def load_df_csv(path):                   # df\n",
    "    \"\"\"Load a DataFrame from a CSV file.\"\"\"\n",
    "    import pandas as pd\n",
    "    return pd.read_csv(path)\n",
    "\n",
    "def load_dvt_dict_csv(path):                  # dvt_dict\n",
    "    \"\"\"Load a dict of NumPy arrays with 'dvt' as first column.\"\"\"\n",
    "    path_csv = Path(f\"{bnm}.csv\")\n",
    "    df = pd.read_csv(path_csv)\n",
    "\n",
    "# Ensure 'dvt' is string before setting index\n",
    "    df['dvt'] = df['dvt'].astype(str)\n",
    "    df.set_index('dvt', inplace=True)\n",
    "\n",
    "    # Build ordered dictionary with 'dvt' as first key\n",
    "    obj = OrderedDict()\n",
    "    obj['dvt'] = df.index.tolist()\n",
    "\n",
    "    for col in df.columns:\n",
    "        #obj[col] = df[col].tolist()  # converts to panda series\n",
    "        obj[col] = df[col].to_numpy() # converts to numpy\n",
    "\n",
    "    return obj\n"
   ]
  },
  {
   "cell_type": "markdown",
   "id": "bf235f37-d86d-4d46-9a94-d1a74a79a906",
   "metadata": {},
   "source": [
    "**2. Create a Registry Dictionary**"
   ]
  },
  {
   "cell_type": "code",
   "execution_count": 3,
   "id": "34167c73-6e38-4f4c-947e-1851804eaca9",
   "metadata": {},
   "outputs": [],
   "source": [
    "load_registry = {\n",
    "    \"df_csv\": load_df_csv,\n",
    "    \"dvt_csv\": load_dvt_dict_csv,\n",
    "    # Add more loaders here as needed\n",
    "}\n"
   ]
  },
  {
   "cell_type": "code",
   "execution_count": 4,
   "id": "12b4070f-2bcb-49a4-ad4d-806d5fefa9d9",
   "metadata": {},
   "outputs": [
    {
     "data": {
      "text/plain": [
       "{'df_csv': <function __main__.load_df_csv(path)>,\n",
       " 'dvt_csv': <function __main__.load_dvt_csv(path)>}"
      ]
     },
     "execution_count": 4,
     "metadata": {},
     "output_type": "execute_result"
    }
   ],
   "source": [
    "load_registry"
   ]
  },
  {
   "cell_type": "markdown",
   "id": "95801a6c-603b-4564-b5e8-33c13a2ad2de",
   "metadata": {},
   "source": [
    "**3. Call by Key**"
   ]
  },
  {
   "cell_type": "code",
   "execution_count": 9,
   "id": "97f8426b-1c02-4ff9-bb48-bb0524f6e324",
   "metadata": {},
   "outputs": [],
   "source": [
    "bnm = \"ad_sn.csv\"\n",
    "\n",
    "selected_loader = \"dvt_csv\"\n",
    "result = load_registry[selected_loader](bnm)\n"
   ]
  },
  {
   "cell_type": "markdown",
   "id": "2efd3cd5-daa2-4630-b5cb-6c6ce73278ec",
   "metadata": {},
   "source": [
    "**Add metadata to each loader:**"
   ]
  },
  {
   "cell_type": "code",
   "execution_count": null,
   "id": "7ad6445b-e304-42d8-b577-c808d646c37c",
   "metadata": {},
   "outputs": [],
   "source": [
    "load_registry = {\n",
    "    \"df_csv\": {\"func\": load_df_csv, \"desc\": \"Standard DataFrame from CSV\"},\n",
    "    \"dvt_csv\": {\"func\": load_dvt_dict_csv, \"desc\": \"Dict of arrays with 'dvt' column\"}\n",
    "}\n",
    "result = load_registry[\"dvt_csv\"][\"func\"](\"data/my_file.csv\")\n"
   ]
  },
  {
   "cell_type": "markdown",
   "id": "c6d7e993-214d-41c3-b55b-cd65baa53d5c",
   "metadata": {},
   "source": [
    "**Wrap with error handling:**"
   ]
  },
  {
   "cell_type": "code",
   "execution_count": null,
   "id": "bb933f65-5a5f-446c-a2ef-9a8c3c4fe218",
   "metadata": {},
   "outputs": [],
   "source": [
    "def safe_load(key, path):\n",
    "    try:\n",
    "        return load_registry[key](path)\n",
    "    except KeyError:\n",
    "        print(f\"❌ Loader '{key}' not found.\")\n",
    "    except Exception as e:\n",
    "        print(f\"⚠️ Error loading '{path}': {e}\")\n"
   ]
  },
  {
   "cell_type": "code",
   "execution_count": null,
   "id": "4d2b6245-9785-489e-8bc5-45fc69b8ab97",
   "metadata": {},
   "outputs": [],
   "source": []
  }
 ],
 "metadata": {
  "kernelspec": {
   "display_name": "Python (scu)",
   "language": "python",
   "name": "scu"
  },
  "language_info": {
   "codemirror_mode": {
    "name": "ipython",
    "version": 3
   },
   "file_extension": ".py",
   "mimetype": "text/x-python",
   "name": "python",
   "nbconvert_exporter": "python",
   "pygments_lexer": "ipython3",
   "version": "3.11.13"
  }
 },
 "nbformat": 4,
 "nbformat_minor": 5
}
