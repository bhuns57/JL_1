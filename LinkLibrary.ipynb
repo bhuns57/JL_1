{
 "cells": [
  {
   "cell_type": "markdown",
   "id": "2a7b9a01-e898-4f4d-9e59-e16fa0ce6e79",
   "metadata": {},
   "source": [
    "# LinkLibrary                         [1]\n",
    "1. all here chats into a linked evernote from now\n",
    "2. move here when and old reference is used.\n",
    "3. All evernote will have comment and corrected summary stored local andividual chats have reference stored\n",
    "4. log all question on a topic in evernote along with a copilot connected summary\n",
    "5. hard copy request for local storage."
   ]
  },
  {
   "cell_type": "markdown",
   "id": "087af558-4d0e-4dfd-8ea9-057f82766879",
   "metadata": {
    "jp-MarkdownHeadingCollapsed": true
   },
   "source": [
    "## link_path                                                        [2]\n",
    "1. LinkLibrary: Search \"Topic\"\n",
    "2. Evernote: Search \"Situation\"\n",
    "3. Copilot Page \"Search the details and issues\""
   ]
  },
  {
   "cell_type": "markdown",
   "id": "8d44a005-6d7b-4d18-9de8-0aeb3c0fb2c5",
   "metadata": {},
   "source": [
    "# Topics                        [1]"
   ]
  },
  {
   "cell_type": "markdown",
   "id": "0db8f5c6-a154-4aff-9296-be426837d29a",
   "metadata": {},
   "source": [
    "## Topics                                                        [2]\n",
    "1. __"
   ]
  },
  {
   "cell_type": "markdown",
   "id": "f0001480-4519-4028-a4ca-bb8473233007",
   "metadata": {},
   "source": []
  },
  {
   "cell_type": "markdown",
   "id": "242cea34-02dc-41b1-91b2-55c1ff820c18",
   "metadata": {},
   "source": [
    "**rename tracking problem evernote**\n",
    "https://share.evernote.com/note/67fc066b-80f4-c2dc-7992-ed6e1942eed2"
   ]
  },
  {
   "cell_type": "markdown",
   "id": "4d9f7123-dc58-4514-90f8-64e359c808b1",
   "metadata": {},
   "source": [
    "**make an array into a row dict with dtv as index**\n",
    "https://copilot.microsoft.com/shares/Dg3WcLcFc9FVnopBSMtzV\n",
    "**Python Function for Time-Series Row Mapping**\n",
    "https://copilot.microsoft.com/shares/MZ8S6Webg2GT56xCKZWfW\n",
    "**Absolutely, Bill — here's a clean, modular scaffold that reads bnm.csv using Path() and converts it into a dictionary of rows indexed by your dtv list.\n",
    "🔧 Full Function with CSV Reader and dtv Indexing**\n",
    "https://copilot.microsoft.com/shares/mjKRXfcCUs2u9fmUH1FUU\n"
   ]
  },
  {
   "cell_type": "markdown",
   "id": "48f3b990-e08b-40b5-bcb2-e67ee1375a83",
   "metadata": {},
   "source": [
    "## cleaning up my reads and writes to csv\n",
    "https://copilot.microsoft.com/shares/z9D25v3AxPZ5jzfc59fPU"
   ]
  }
 ],
 "metadata": {
  "kernelspec": {
   "display_name": "Python (scu)",
   "language": "python",
   "name": "scu"
  },
  "language_info": {
   "codemirror_mode": {
    "name": "ipython",
    "version": 3
   },
   "file_extension": ".py",
   "mimetype": "text/x-python",
   "name": "python",
   "nbconvert_exporter": "python",
   "pygments_lexer": "ipython3",
   "version": "3.11.13"
  }
 },
 "nbformat": 4,
 "nbformat_minor": 5
}
