{
 "cells": [
  {
   "cell_type": "markdown",
   "id": "2a7b9a01-e898-4f4d-9e59-e16fa0ce6e79",
   "metadata": {},
   "source": [
    "# LinkLibrary                         [1]"
   ]
  },
  {
   "cell_type": "markdown",
   "id": "087af558-4d0e-4dfd-8ea9-057f82766879",
   "metadata": {},
   "source": [
    "## link_path                                                        [2]\n",
    "1. LinkLibrary: Search \"Topic\"\n",
    "2. Evernote: Search \"Situation\"\n",
    "3. Copilot Page \"Search the details and issues\""
   ]
  },
  {
   "cell_type": "markdown",
   "id": "8d44a005-6d7b-4d18-9de8-0aeb3c0fb2c5",
   "metadata": {},
   "source": [
    "# Topics                        [1]"
   ]
  },
  {
   "cell_type": "markdown",
   "id": "0db8f5c6-a154-4aff-9296-be426837d29a",
   "metadata": {},
   "source": [
    "## Topics                                                        [2]\n",
    "1. __"
   ]
  },
  {
   "cell_type": "code",
   "execution_count": null,
   "id": "78da0369-e13d-4ad0-b16a-195c26e6d62a",
   "metadata": {},
   "outputs": [],
   "source": []
  }
 ],
 "metadata": {
  "kernelspec": {
   "display_name": "Python (scu)",
   "language": "python",
   "name": "scu"
  },
  "language_info": {
   "codemirror_mode": {
    "name": "ipython",
    "version": 3
   },
   "file_extension": ".py",
   "mimetype": "text/x-python",
   "name": "python",
   "nbconvert_exporter": "python",
   "pygments_lexer": "ipython3",
   "version": "3.11.13"
  }
 },
 "nbformat": 4,
 "nbformat_minor": 5
}
