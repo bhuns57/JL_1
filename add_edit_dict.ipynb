{
 "cells": [
  {
   "cell_type": "markdown",
   "id": "f3747b56-d6fc-4347-904c-b5f9b6967f62",
   "metadata": {},
   "source": [
    "# Functions for editing and adding [1]"
   ]
  },
  {
   "cell_type": "markdown",
   "id": "ce64c522-9bc3-4f70-a482-7b1936d6dd91",
   "metadata": {},
   "source": [
    "## At function named \"append_dict_dtv [2]"
   ]
  },
  {
   "cell_type": "markdown",
   "id": "fae78b06-e8b5-4413-81a8-aa7e1fea48a5",
   "metadata": {},
   "source": [
    "### (Append synchronously a \"mstr_dict_dtv\" with a \"sbst_dict_dtv\" [3]"
   ]
  },
  {
   "cell_type": "code",
   "execution_count": null,
   "id": "1f8372a5-7592-4002-8c2d-85cdb0d118da",
   "metadata": {},
   "outputs": [],
   "source": [
    "def append_dict_dtv(mstr_dict_dtv, sbst_dict_dtv, vrs_nm):\n",
    "    \"\"\"\n",
    "    Synchronously updates mstr_dict_dtv with values from sbst_dict_dtv.\n",
    "    Preserves original mstr_dict_dtv under a versioned name.\n",
    "\n",
    "    Parameters:\n",
    "        mstr_dict_dtv (dict): Master dictionary with dtv-indexed rows and dat_cols.\n",
    "        sbst_dict_dtv (dict): Subset dictionary with matching dtv keys and dat_cols.\n",
    "        vrs_nm (str): Version name to preserve original mstr_dict_dtv.\n",
    "\n",
    "    Returns:\n",
    "        tuple: (updated mstr_dict_dtv, original mstr_dict_dtv copy)\n",
    "    \"\"\"\n",
    "    import copy\n",
    "\n",
    "    # Step 1: Deep copy original for version preservation\n",
    "    mstr_dict_dtv_orig = copy.deepcopy(mstr_dict_dtv)\n",
    "\n",
    "    # Step 2: Iterate over subset and update master\n",
    "    for dtv_key, sbst_row in sbst_dict_dtv.items():\n",
    "        if dtv_key in mstr_dict_dtv:\n",
    "            for col_key, new_val in sbst_row.items():\n",
    "                if col_key in mstr_dict_dtv[dtv_key]:\n",
    "                    mstr_dict_dtv[dtv_key][col_key] = new_val\n",
    "                # Optional: log skipped col_keys if needed\n",
    "        # Optional: log skipped dtv_keys if needed\n",
    "\n",
    "    # Step 3: Return updated and original\n",
    "    return mstr_dict_dtv, mstr_dict_dtv_orig\n"
   ]
  },
  {
   "cell_type": "code",
   "execution_count": null,
   "id": "7e17d2de-80f6-4362-aa50-2565ef860081",
   "metadata": {},
   "outputs": [],
   "source": [
    "updated_dtv, original_dtv = append_dict_dtv(mstr_dict_dtv, sbst_dict_dtv, \"v1_2025\")\n"
   ]
  },
  {
   "cell_type": "code",
   "execution_count": null,
   "id": "9f85ec6f-99f9-4ac2-976b-55f7963109f2",
   "metadata": {},
   "outputs": [],
   "source": []
  }
 ],
 "metadata": {
  "kernelspec": {
   "display_name": "Python (scu)",
   "language": "python",
   "name": "scu"
  },
  "language_info": {
   "codemirror_mode": {
    "name": "ipython",
    "version": 3
   },
   "file_extension": ".py",
   "mimetype": "text/x-python",
   "name": "python",
   "nbconvert_exporter": "python",
   "pygments_lexer": "ipython3",
   "version": "3.11.13"
  }
 },
 "nbformat": 4,
 "nbformat_minor": 5
}
