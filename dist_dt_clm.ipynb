{
 "cells": [
  {
   "cell_type": "raw",
   "id": "7ee2bd6f-fe66-491b-97e4-e0fa5e04a952",
   "metadata": {
    "jupyter": {
     "source_hidden": true
    }
   },
   "source": [
    "https://copilot.microsoft.com/shares/pages/ngz8mpKpockbeU9nMqbdq"
   ]
  },
  {
   "cell_type": "markdown",
   "id": "eaf6fced-1bbd-4be7-b714-a7288fe9d138",
   "metadata": {
    "scrolled": true
   },
   "source": [
    "import pandas as pd\n",
    "\n",
    "devlopt design prototype"
   ]
  },
  {
   "cell_type": "raw",
   "id": "0626688d-fadd-473d-978a-e4a3206998ea",
   "metadata": {
    "scrolled": true
   },
   "source": [
    "# Example structure (you'll replace this with your actual dictionary)\n",
    "# dt_clms = {\n",
    "#     'ColumnA': df_a,\n",
    "#     'ColumnB': df_b,\n",
    "#     ...\n",
    "# }\n",
    "\n",
    "# Assume DATE_V is a standalone column in its own DataFrame\n",
    "DATE_V = dt_clms.get(\"DATE_V\")  # Pulling the DATE_V DataFrame\n",
    "\n",
    "# Create a base DataFrame starting with DATE_V\n",
    "merged_df = pd.DataFrame()\n",
    "merged_df['DATE_V'] = DATE_V.iloc[:, 0]  # Assumes DATE_V has one column\n",
    "\n",
    "# Add each dt_clm to merged_df\n",
    "for key, df in dt_clms.items():\n",
    "    if key != \"DATE_V\":\n",
    "        merged_df[key] = df.iloc[:, 0]  # Assumes single-column DataFrames\n",
    "\n",
    "# Optional: Set DATE_V as the index\n",
    "# merged_df.set_index('DATE_V', inplace=T"
   ]
  },
  {
   "cell_type": "markdown",
   "id": "7ac983b2-ed18-4a44-9e04-2cd816defc73",
   "metadata": {},
   "source": [
    "[Click here to open the site](https://example.com)\n"
   ]
  },
  {
   "cell_type": "code",
   "execution_count": null,
   "id": "7e76e522-7611-4aa9-bfb5-0cbe15eea4a0",
   "metadata": {},
   "outputs": [],
   "source": []
  }
 ],
 "metadata": {
  "kernelspec": {
   "display_name": "Python (scu)",
   "language": "python",
   "name": "scu"
  },
  "language_info": {
   "codemirror_mode": {
    "name": "ipython",
    "version": 3
   },
   "file_extension": ".py",
   "mimetype": "text/x-python",
   "name": "python",
   "nbconvert_exporter": "python",
   "pygments_lexer": "ipython3",
   "version": "3.11.13"
  }
 },
 "nbformat": 4,
 "nbformat_minor": 5
}
