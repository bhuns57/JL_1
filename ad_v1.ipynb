{
 "cells": [
  {
   "cell_type": "markdown",
   "id": "23d1664d-7240-4713-a26f-0026da29fb30",
   "metadata": {
    "jp-MarkdownHeadingCollapsed": true
   },
   "source": [
    "# **This sbs array_dict with pickle v1**"
   ]
  },
  {
   "cell_type": "markdown",
   "id": "4e40277d-0c4e-4cb1-a3dc-e40f6bb25b12",
   "metadata": {
    "jp-MarkdownHeadingCollapsed": true
   },
   "source": [
    "# **00_setup.py** | *Imports, glossary, config flags*"
   ]
  },
  {
   "cell_type": "markdown",
   "id": "d66948aa-129c-45a7-add1-9d4c3eab426f",
   "metadata": {},
   "source": [
    "**Modular Workbook for Array Dictionary Implementation**\n",
    "_\n",
    "https://copilot.microsoft.com/shares/pages/3HV5tomNJNNZi9VReAwN9"
   ]
  },
  {
   "cell_type": "code",
   "execution_count": 32,
   "id": "82ac81bf-bb49-45df-8dc5-eadf7fa15d97",
   "metadata": {},
   "outputs": [],
   "source": [
    "import pandas as pd\n",
    "import numpy as np\n",
    "import tkinter as tk\n",
    "import pickle\n",
    "import os\n",
    "from datetime import datetime\n",
    "xl_pathway = \"xl_ad_sn.csv\"          #xl versions are in REPO  data\\xl_ad_sn.csv\n",
    "pkl_pathway = \"ad_sn\"                # pkl versions are in data folder to avoid git and allow normal version free bu"
   ]
  },
  {
   "cell_type": "markdown",
   "id": "4a472e1f-7a53-4e97-b6a7-5e46f4cc8903",
   "metadata": {
    "jp-MarkdownHeadingCollapsed": true
   },
   "source": [
    "# **01_array_loader.py** |  *Load flat arrays (CSV, Excel) into base structures*"
   ]
  },
  {
   "cell_type": "code",
   "execution_count": 33,
   "id": "edbeed48-5c32-49f9-b592-dc3fb82581a4",
   "metadata": {},
   "outputs": [],
   "source": [
    "# Retreive  xl_ad_sn from .csl\n",
    "# Define the path (reset path to WSL preventing possible p errors)\n",
    "base_path = os.path.expanduser(\"~\")  # Gets /home/bhuns in WSL\n",
    "csv_path = os.path.join(base_path, \"JL_1/data/xl_ad_sn.csv\")\n",
    "\n",
    "# Load with headers\n",
    "df = pd.read_csv(csv_path)\n",
    "\n",
    "# Convert to NumPy array (excluding headers)\n",
    "xl_ad_sn = df.to_numpy()\n",
    "#xl_ad_sn"
   ]
  },
  {
   "cell_type": "markdown",
   "id": "465ac38f-dd84-4bf5-bf21-cfae1ef6bd69",
   "metadata": {
    "jp-MarkdownHeadingCollapsed": true
   },
   "source": [
    "# **02_array_dict_builder.py**   |  *Transform arrays into array_dict with metadata*\n",
    "_ ***Script Update for Data Dictionary Creation** link *https://copilot.microsoft.com/shares/pages/jLLrDDP9aZqQjatwkyFfr*"
   ]
  },
  {
   "cell_type": "code",
   "execution_count": 36,
   "id": "58fb8ff7-8caf-4029-896e-5fc56b38b703",
   "metadata": {},
   "outputs": [],
   "source": [
    "# Read and isolate the raw headers from \"xl_ad_sn_hdr,csl\"\n",
    "# Load CSV\n",
    "csv_path = os.path.join(os.path.expanduser(\"~\"), \"JL_1/data/xl_ad_sn.csv\")\n",
    "df = pd.read_csv(csv_path)\n",
    "\n",
    "# Inspect raw headers\n",
    "raw_headers = df.columns.tolist()\n",
    "#print(\"Raw headers:\", raw_headers)\n"
   ]
  },
  {
   "cell_type": "code",
   "execution_count": null,
   "id": "9977397a-44e3-406b-af83-5dc193a83366",
   "metadata": {},
   "outputs": [],
   "source": [
    "# ✅ Full Setup >> headers >> dtv_index >> array_dict\n",
    "csv_path = os.path.join(os.path.expanduser(\"~\"), \"JL_1/data/xl_ad_sn.csv\")\n",
    "df = pd.read_csv(csv_path)         # read array from \"csv_path\"\n",
    "\n",
    "# Extract headers and data\n",
    "headers = df.columns.tolist()\n",
    "xl_ad_sn = df.to_numpy()\n",
    "\n",
    "# Locate the index of the 'dtv' column\n",
    "dtv_index = headers.index('dtv')\n",
    "\n",
    "# Build array_dict\n",
    "array_dict = {}\n",
    "\n",
    "for row in xl_ad_sn:\n",
    "    dtv_key = row[dtv_index]\n",
    "    raw_values = np.delete(row, dtv_index)\n",
    "\n",
    "    array_dict[dtv_key] = {\n",
    "        'raw_values': raw_values.tolist(),\n",
    "        'flags': {},\n",
    "        'attributes': {\n",
    "            'features': [h for i, h in enumerate(headers) if i != dtv_index]\n",
    "        },\n",
    "        'classification': {}\n",
    "    }\n"
   ]
  },
  {
   "cell_type": "code",
   "execution_count": null,
   "id": "928214d4-84af-473c-a5dc-2399342ff359",
   "metadata": {
    "scrolled": true
   },
   "outputs": [],
   "source": [
    "# 🧪 Verify the construction\n",
    "\n",
    "for dtv, entry in list(array_dict.items())[:3]:\n",
    "    print(f\"DTV: {dtv}\")\n",
    "    print(\"Raw:\", entry['raw_values'])\n",
    "    print(\"Features:\", entry['attributes']['features'])\n",
    "    print(\"-\" * 40)\n"
   ]
  },
  {
   "cell_type": "code",
   "execution_count": 38,
   "id": "42a91b41-4db5-4c9d-aabc-806c4b3210d3",
   "metadata": {},
   "outputs": [],
   "source": [
    "# Step 3: Continue Building array_dict\n",
    "xl_ad_sn = df.to_numpy()\n",
    "\n",
    "array_dict = {}\n",
    "for row in xl_ad_sn:\n",
    "    dtv_key = row[dtv_index]\n",
    "    raw_values = np.delete(row, dtv_index)\n",
    "\n",
    "    array_dict[dtv_key] = {\n",
    "        'raw_values': raw_values.tolist(),\n",
    "        'flags': {},\n",
    "        'attributes': {\n",
    "            'features': [h for i, h in enumerate(raw_headers) if i != dtv_index]\n",
    "        },\n",
    "        'classification': {}\n",
    "    }\n",
    "\n"
   ]
  },
  {
   "cell_type": "code",
   "execution_count": 40,
   "id": "118a6b3c-3baf-4d77-a632-e4e0f3d7502b",
   "metadata": {},
   "outputs": [
    {
     "name": "stdout",
     "output_type": "stream",
     "text": [
      "DVT: 45860.0\n",
      "Raw: [nan, nan, nan, nan, nan, nan, nan, nan, nan, nan, nan, nan, nan, nan, nan, nan]\n",
      "Features: ['s000', 's001', 's002', 's003', 's004', 's005', 's006', 's007', 's008', 's009', 's010', 's011', 's012', 's013', 's014', 's015']\n",
      "----------------------------------------\n",
      "DVT: 45861.0\n",
      "Raw: [nan, nan, nan, nan, nan, nan, nan, nan, nan, nan, nan, nan, nan, nan, nan, nan]\n",
      "Features: ['s000', 's001', 's002', 's003', 's004', 's005', 's006', 's007', 's008', 's009', 's010', 's011', 's012', 's013', 's014', 's015']\n",
      "----------------------------------------\n",
      "DVT: 45862.0\n",
      "Raw: [nan, nan, nan, nan, nan, nan, nan, nan, nan, nan, nan, nan, nan, nan, nan, nan]\n",
      "Features: ['s000', 's001', 's002', 's003', 's004', 's005', 's006', 's007', 's008', 's009', 's010', 's011', 's012', 's013', 's014', 's015']\n",
      "----------------------------------------\n"
     ]
    }
   ],
   "source": [
    "for dvt, entry in list(array_dict.items())[:3]:\n",
    "    print(f\"DVT: {dvt}\")\n",
    "    print(\"Raw:\", entry['raw_values'])\n",
    "    print(\"Features:\", entry['attributes']['features'])\n",
    "    print(\"-\" * 40)"
   ]
  },
  {
   "cell_type": "markdown",
   "id": "dc7d2ff6-add0-449c-932d-96d117f241e7",
   "metadata": {
    "jp-MarkdownHeadingCollapsed": true
   },
   "source": [
    "# **03_classification_registry.py**  |  *Define classification args, flags, and validation logic*"
   ]
  },
  {
   "cell_type": "markdown",
   "id": "4707113e-7e27-414f-9c6e-a89fcfe1e908",
   "metadata": {},
   "source": [
    "**Classification Registry Implementation** \n",
    "_ *https://copilot.microsoft.com/shares/pages/P91viiY6QzR3Mp4WUnbFf*"
   ]
  },
  {
   "cell_type": "markdown",
   "id": "0375551f-c4a6-4ad2-8526-15cbe23d5b7f",
   "metadata": {},
   "source": [
    "## 🧠 Classification Registry Scaffold (classification_registry.py)"
   ]
  },
  {
   "cell_type": "markdown",
   "id": "6c86b3d7-94b9-4fca-93c1-79cf5d508ecd",
   "metadata": {},
   "source": [
    "### Perfect, Bill. You’ve got a classification matrix scaffolded—rows as attribute_sn (e.g. a000, a001, ...) and columns as dat_col.sn (e.g. s000, s001, ...). \n",
    "1. That’s a great foundation for a modular classification registry.\n",
    "2. Let’s build a separate file—say, classification_registry.py—that can:\n",
    "3. Load and validate the matrix\n",
    "4. Apply classification logic per attribute or per column\n",
    "5. Track provenance and confidence\n",
    "6. Return structured results for embedding into array_dict"
   ]
  },
  {
   "cell_type": "code",
   "execution_count": 41,
   "id": "fd54d75e-5f66-43af-8beb-58aba94c6108",
   "metadata": {},
   "outputs": [],
   "source": [
    "#🔹 1. Load the Matrix\n",
    "\n",
    "def load_classification_matrix(path):\n",
    "    df = pd.read_csv(path)  # or pd.read_excel\n",
    "    df.index.name = 'attribute_sn'\n",
    "    return df\n"
   ]
  },
  {
   "cell_type": "code",
   "execution_count": 42,
   "id": "8ce72b28-ce58-45f4-8d33-d3bdd00ebbf5",
   "metadata": {},
   "outputs": [],
   "source": [
    "# 🔹 2. Define Classification Methods\n",
    "def threshold_classifier(row, threshold=0.5):\n",
    "    score = row.mean()\n",
    "    group = 'A' if score > threshold else 'B'\n",
    "    confidence = round(abs(score - threshold), 3)\n",
    "    return group, confidence\n",
    "\n",
    "def zscore_classifier(row):\n",
    "    z = (row - row.mean()) / row.std()\n",
    "    group = 'High' if z.mean() > 1 else 'Low'\n",
    "    confidence = round(z.std(), 3)\n",
    "    return group, confidence\n"
   ]
  },
  {
   "cell_type": "code",
   "execution_count": 43,
   "id": "7a2b28ab-7945-4558-aa05-f36a1d3fee61",
   "metadata": {},
   "outputs": [],
   "source": [
    "# 🔹 3. Registry Dictionary\n",
    "classification_registry = {\n",
    "    'threshold': threshold_classifier,\n",
    "    'zscore': zscore_classifier\n",
    "}\n"
   ]
  },
  {
   "cell_type": "code",
   "execution_count": 44,
   "id": "ec9d72b2-20cf-4858-a991-c42bda18fc2a",
   "metadata": {},
   "outputs": [],
   "source": [
    "# 🔹 4. Apply Classification\n",
    "def classify_matrix(df, method='threshold'):\n",
    "    results = {}\n",
    "    classifier = classification_registry[method]\n",
    "\n",
    "    for attr_sn, row in df.iterrows():\n",
    "        group, confidence = classifier(row)\n",
    "        results[attr_sn] = {\n",
    "            'group': group,\n",
    "            'confidence': confidence,\n",
    "            'method': method\n",
    "        }\n",
    "    return results\n"
   ]
  },
  {
   "cell_type": "code",
   "execution_count": 45,
   "id": "d7d34f0d-0b83-4ef9-8479-e9ed5446305a",
   "metadata": {},
   "outputs": [],
   "source": [
    "# 🔹 5. Embed into array_dict\n",
    "def embed_classification(array_dict, classification_results):\n",
    "    for dvt_key, result in classification_results.items():\n",
    "        if dvt_key in array_dict:\n",
    "            array_dict[dvt_key]['classification'] = result\n"
   ]
  },
  {
   "cell_type": "code",
   "execution_count": 46,
   "id": "c34e463b-3c83-4b35-86c2-3f52cc57ea65",
   "metadata": {},
   "outputs": [],
   "source": [
    "# 🧪 Optional Diagnostic\n",
    "def preview_classification(results, n=5):\n",
    "    for k in list(results.keys())[:n]:\n",
    "        print(f\"{k}: {results[k]}\")\n"
   ]
  },
  {
   "cell_type": "markdown",
   "id": "9be694f8-e508-4ad8-9e79-024d0ba2e7a1",
   "metadata": {},
   "source": [
    "# **04_gui_selector.py**  |  *Operator-driven GUI for selecting and grouping entries*"
   ]
  },
  {
   "cell_type": "markdown",
   "id": "1a4c5dfb-6795-47ed-be00-c950416bf641",
   "metadata": {},
   "source": [
    "# **05_storage_utils.py**  |  *Save/load using Pickle, Excel, HDF5*"
   ]
  },
  {
   "cell_type": "markdown",
   "id": "82e3bd86-41c3-4c8c-bc86-ea7675266348",
   "metadata": {},
   "source": [
    "# **06_diagnostics.py**  |  *Overlay tools for inspecting metadata and classification*"
   ]
  },
  {
   "cell_type": "markdown",
   "id": "5b615ff5-4b49-43cd-a5b4-92ec00aa9a16",
   "metadata": {},
   "source": [
    "# **07_tests.py**  |  *Reproducible test cases and versioning checks*"
   ]
  },
  {
   "cell_type": "code",
   "execution_count": null,
   "id": "270d60fd-80ed-4657-9988-1441f4bad47e",
   "metadata": {},
   "outputs": [],
   "source": []
  },
  {
   "cell_type": "markdown",
   "id": "08c95ccb-1d2a-4648-9056-d04c40693787",
   "metadata": {},
   "source": [
    "### "
   ]
  },
  {
   "cell_type": "code",
   "execution_count": null,
   "id": "24faeb10-1dc1-45d7-a48f-c18980290e8a",
   "metadata": {},
   "outputs": [],
   "source": []
  },
  {
   "cell_type": "code",
   "execution_count": null,
   "id": "d042c552-abd6-42ba-bf39-66876c883f02",
   "metadata": {},
   "outputs": [],
   "source": []
  }
 ],
 "metadata": {
  "kernelspec": {
   "display_name": "Python (scu)",
   "language": "python",
   "name": "scu"
  },
  "language_info": {
   "codemirror_mode": {
    "name": "ipython",
    "version": 3
   },
   "file_extension": ".py",
   "mimetype": "text/x-python",
   "name": "python",
   "nbconvert_exporter": "python",
   "pygments_lexer": "ipython3",
   "version": "3.11.13"
  }
 },
 "nbformat": 4,
 "nbformat_minor": 5
}
