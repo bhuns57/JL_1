{
 "cells": [
  {
   "cell_type": "raw",
   "id": "13c63802-5e21-4d8c-99da-ddea235e16cc",
   "metadata": {
    "tags": []
   },
   "source": [
    "https://copilot.microsoft.com/shares/pages/ngz8mpKpockbeU9nMqbdq\n",
    "[Click here to open the site](https://example.com)"
   ]
  },
  {
   "cell_type": "code",
   "execution_count": 16,
   "id": "b1086d34-0d80-4663-9294-ac5689c1a6a4",
   "metadata": {
    "tags": []
   },
   "outputs": [
    {
     "data": {
      "text/html": [
       "<div>\n",
       "<style scoped>\n",
       "    .dataframe tbody tr th:only-of-type {\n",
       "        vertical-align: middle;\n",
       "    }\n",
       "\n",
       "    .dataframe tbody tr th {\n",
       "        vertical-align: top;\n",
       "    }\n",
       "\n",
       "    .dataframe thead th {\n",
       "        text-align: right;\n",
       "    }\n",
       "</style>\n",
       "<table border=\"1\" class=\"dataframe\">\n",
       "  <thead>\n",
       "    <tr style=\"text-align: right;\">\n",
       "      <th></th>\n",
       "      <th>bill</th>\n",
       "      <th>jack</th>\n",
       "    </tr>\n",
       "  </thead>\n",
       "  <tbody>\n",
       "    <tr>\n",
       "      <th>80545</th>\n",
       "      <td>1</td>\n",
       "      <td>4</td>\n",
       "    </tr>\n",
       "    <tr>\n",
       "      <th>80546</th>\n",
       "      <td>3</td>\n",
       "      <td>5</td>\n",
       "    </tr>\n",
       "    <tr>\n",
       "      <th>80547</th>\n",
       "      <td>5</td>\n",
       "      <td>6</td>\n",
       "    </tr>\n",
       "    <tr>\n",
       "      <th>80548</th>\n",
       "      <td>7</td>\n",
       "      <td>7</td>\n",
       "    </tr>\n",
       "    <tr>\n",
       "      <th>80549</th>\n",
       "      <td>9</td>\n",
       "      <td>8</td>\n",
       "    </tr>\n",
       "  </tbody>\n",
       "</table>\n",
       "</div>"
      ],
      "text/plain": [
       "       bill  jack\n",
       "80545     1     4\n",
       "80546     3     5\n",
       "80547     5     6\n",
       "80548     7     7\n",
       "80549     9     8"
      ]
     },
     "execution_count": 16,
     "metadata": {},
     "output_type": "execute_result"
    }
   ],
   "source": [
    "\n",
    "# creats\n",
    "import pandas as pd\n",
    "from typing import List, Any\n",
    "from dataclasses import dataclass\n",
    "\n",
    "@dataclass\n",
    "class DS_DT_Clm:\n",
    "    name: List[str]\n",
    "    value: List[List[Any]]\n",
    "    ds_dt_type: List[type]\n",
    "\n",
    "def generate_date_list(start_day: int, num_days: int) -> List[int]:\n",
    "    return [start_day + i for i in range(num_days)]\n",
    "\n",
    "def build_dict_dt_clms(start_day: int, num_days: int,\n",
    "                       names: List[str],\n",
    "                       values: List[List[Any]],\n",
    "                       types: List[type]) -> dict:\n",
    "    ds_dt_clm = DS_DT_Clm(name=names, value=values, ds_dt_type=types)\n",
    "    DATE_V = generate_date_list(start_day, num_days)\n",
    "\n",
    "    dict_dt_clms = {\n",
    "        0: DATE_V,\n",
    "        1: ds_dt_clm.name,\n",
    "        2: ds_dt_clm.value,\n",
    "        3: ds_dt_clm.ds_dt_type\n",
    "    }\n",
    "    return dict_dt_clms\n",
    "#  -+----------------------------------------------------------\n",
    "def make_df_from_dict(dict_dt_clms: dict) -> pd.DataFrame:\n",
    "    date_list = dict_dt_clms[0]\n",
    "    col_names = dict_dt_clms[1]\n",
    "    col_values = dict_dt_clms[2]\n",
    "    \n",
    "    \n",
    "    #-----------------------------------------------------\n",
    "\n",
    "    # Create a dictionary for DataFrame construction\n",
    "    data = {col_names[i]: col_values[i] for i in range(len(col_names))}\n",
    "    df = pd.DataFrame(data, index=date_list)\n",
    "    return df\n",
    "\n",
    "# Example usage\n",
    "dict1 = build_dict_dt_clms(\n",
    "    start_day=80545,\n",
    "    num_days=5,\n",
    "    names=[\"bill\", \"jack\"],\n",
    "    values=[[1, 3, 5, 7, 9], [4, 5, 6, 7, 8]],  # Must match length of DATE_V\n",
    "    types=[int, int]\n",
    ")\n",
    "\n",
    "df = make_df_from_dict(dict1)\n",
    "df\n"
   ]
  },
  {
   "cell_type": "code",
   "execution_count": 15,
   "id": "1a169b9b-29fc-429d-b832-447c750631b4",
   "metadata": {
    "tags": []
   },
   "outputs": [
    {
     "name": "stdout",
     "output_type": "stream",
     "text": [
      "{0: [80545, 80546, 80547, 80548, 80549], 1: ['bill', 'jack'], 2: [[1, 3], [4, 5]], 3: [<class 'int'>, <class 'str'>]}\n"
     ]
    }
   ],
   "source": [
    "#1st mod for list \n",
    "from typing import List, Any\n",
    "from dataclasses import dataclass\n",
    "\n",
    "@dataclass\n",
    "class DS_DT_Clm:\n",
    "    name: List[str]\n",
    "    value: List[List[Any]]\n",
    "    ds_dt_type: List[type]\n",
    "\n",
    "def generate_date_list(start_day: int, num_days: int) -> List[int]:\n",
    "    \"\"\"Generates a sorted list of 'num_days' integers starting from 'start_day'.\"\"\"\n",
    "    return [start_day + i for i in range(num_days)]\n",
    "\n",
    "def build_dict_dt_clms(start_day: int, num_days: int,\n",
    "                       names: List[str],\n",
    "                       values: List[List[Any]],\n",
    "                       types: List[type]) -> dict:\n",
    "    \"\"\"Builds dict_dt_clms using provided attributes and a generated DATE_V list.\"\"\"\n",
    "    ds_dt_clm = DS_DT_Clm(name=names, value=values, ds_dt_type=types)\n",
    "    DATE_V = generate_date_list(start_day, num_days)\n",
    "\n",
    "    dict_dt_clms = {\n",
    "        0: DATE_V,                     # ✅ Now a list of 5 date integers\n",
    "        1: ds_dt_clm.name,\n",
    "        2: ds_dt_clm.value,\n",
    "        3: ds_dt_clm.ds_dt_type\n",
    "    }\n",
    "    return dict_dt_clms\n",
    "\n",
    "# Example usage\n",
    "dict1 = build_dict_dt_clms(\n",
    "    start_day=80545,\n",
    "    num_days=5,\n",
    "    names=[\"bill\", \"jack\"],\n",
    "    values=[[1, 3], [4, 5]],\n",
    "    types=[int, str]\n",
    ")\n",
    "\n",
    "dict1\n",
    "print(dict1)"
   ]
  },
  {
   "cell_type": "markdown",
   "id": "c60d7542-82f0-41d8-8150-16f3b884ac1d",
   "metadata": {
    "jp-MarkdownHeadingCollapsed": true,
    "tags": []
   },
   "source": [
    "# This Replaces value when structure does changethe dict1"
   ]
  },
  {
   "cell_type": "code",
   "execution_count": 5,
   "id": "7de8ae83-d7a2-45ac-a823-f63cd388f1a1",
   "metadata": {
    "jupyter": {
     "source_hidden": true
    },
    "tags": []
   },
   "outputs": [
    {
     "data": {
      "text/plain": [
       "{0: [80545, 80546, 80547, 80548, 80549],\n",
       " 1: ['bill', 'jack'],\n",
       " 2: [[1, 3], [4, 5]],\n",
       " 3: [int, str]}"
      ]
     },
     "execution_count": 5,
     "metadata": {},
     "output_type": "execute_result"
    }
   ],
   "source": [
    "##Working\n",
    "from typing import List, Any\n",
    "from datetime import datetime, timedelta\n",
    "\n",
    "class DS_DT_Clm:\n",
    "    def __init__(self, name: List[str], value: List[List[Any]], ds_dt_type: List[type]):\n",
    "        self.name = name\n",
    "        self.value = value\n",
    "        self.ds_dt_type = ds_dt_type\n",
    "\n",
    "def generate_date_v(start: int, days: int) -> List[int]:\n",
    "    # Produces a sorted unbroken list of days since 1/1/1900, starting from `start`\n",
    "    return [start + i for i in range(days)]\n",
    "\n",
    "def build_dict_dt_clms(start_date_value: int, days: int,\n",
    "                       names: List[str], values: List[List[Any]], types: List[type]) -> dict:\n",
    "    \n",
    "    ds_dt_clm = DS_DT_Clm(names, values, types)\n",
    "    DATE_V = generate_date_v(start_date_value, days)\n",
    "    \n",
    "    return {\n",
    "        0: DATE_V,\n",
    "        1: ds_dt_clm.name,\n",
    "        2: ds_dt_clm.value,\n",
    "        3: ds_dt_clm.ds_dt_type\n",
    "    }\n",
    "\n",
    "# Example usage\n",
    "dict1 = build_dict_dt_clms(\n",
    "    start_date_value=80545,\n",
    "    days=5,\n",
    "    names=[\"bill\", \"jack\"],\n",
    "    values=[[1, 3], [4, 5]],\n",
    "    types=[int, str]\n",
    ")\n",
    "\n",
    "dict1\n"
   ]
  },
  {
   "cell_type": "code",
   "execution_count": 9,
   "id": "233317ea-4d12-481f-b908-2ef6ace6a419",
   "metadata": {},
   "outputs": [
    {
     "name": "stdout",
     "output_type": "stream",
     "text": [
      "[[np.int64(1), np.int64(3), np.int64(5), np.int64(7), np.int64(9)], [np.int64(4), np.int64(5), np.int64(6), np.int64(7), np.int64(8)]]\n"
     ]
    }
   ],
   "source": [
    "# 10.46 fills in for missing date_v\n",
    "\n",
    "DATE_V = dict1[0]\n",
    "names = dict1[1]\n",
    "\n",
    "# Ensure each value list matches the length of DATE_V\n",
    "new_values = []\n",
    "for values_list in dict1[2]:\n",
    "    # Pad or slice to match DATE_V length exactly\n",
    "    padded = (values_list + [None] * len(DATE_V))[:len(DATE_V)]\n",
    "    new_values.append(padded)\n",
    "\n",
    "# Now safely update from df\n",
    "for i, date in enumerate(DATE_V):\n",
    "    if date in df.index:\n",
    "        for j, name in enumerate(names):\n",
    "            updated_val = df.at[date, name]\n",
    "            if pd.notna(updated_val):\n",
    "                new_values[j][i] = updated_val\n",
    "\n",
    "# Apply the updates\n",
    "dict1[2] = new_values\n",
    "print(dict1[2])"
   ]
  },
  {
   "cell_type": "markdown",
   "id": "61e4c215-8f7b-47aa-88d3-15bebc78af18",
   "metadata": {
    "tags": []
   },
   "source": [
    "# Build dict with complere unmutalble date_v"
   ]
  },
  {
   "cell_type": "code",
   "execution_count": 27,
   "id": "21b3abd1-7424-4ae6-9907-750b47a9b0b1",
   "metadata": {
    "jp-MarkdownHeadingCollapsed": true,
    "tags": []
   },
   "outputs": [
    {
     "ename": "ValueError",
     "evalue": "Length of values (5) does not match length of index (10)",
     "output_type": "error",
     "traceback": [
      "\u001b[31m---------------------------------------------------------------------------\u001b[39m",
      "\u001b[31mValueError\u001b[39m                                Traceback (most recent call last)",
      "\u001b[36mCell\u001b[39m\u001b[36m \u001b[39m\u001b[32mIn[27]\u001b[39m\u001b[32m, line 49\u001b[39m\n\u001b[32m     40\u001b[39m \u001b[38;5;66;03m# Example usage\u001b[39;00m\n\u001b[32m     41\u001b[39m dict1 = build_dict_dt_clms(\n\u001b[32m     42\u001b[39m     start_day=\u001b[32m80543\u001b[39m,\n\u001b[32m     43\u001b[39m     num_days=\u001b[32m10\u001b[39m,\n\u001b[32m   (...)\u001b[39m\u001b[32m     46\u001b[39m     types=[\u001b[38;5;28mint\u001b[39m, \u001b[38;5;28mint\u001b[39m]\n\u001b[32m     47\u001b[39m )\n\u001b[32m---> \u001b[39m\u001b[32m49\u001b[39m df = make_df_from_dict(dict1)\n\u001b[32m     50\u001b[39m df\n",
      "\u001b[36mCell\u001b[39m\u001b[36m \u001b[39m\u001b[32mIn[27]\u001b[39m\u001b[32m, line 37\u001b[39m, in \u001b[36mmake_df_from_dict\u001b[39m\u001b[34m(dict_dt_clms)\u001b[39m\n\u001b[32m     35\u001b[39m \u001b[38;5;66;03m# Create a dictionary for DataFrame construction\u001b[39;00m\n\u001b[32m     36\u001b[39m data = {col_names[i]: col_values[i] \u001b[38;5;28;01mfor\u001b[39;00m i \u001b[38;5;129;01min\u001b[39;00m \u001b[38;5;28mrange\u001b[39m(\u001b[38;5;28mlen\u001b[39m(col_names))}\n\u001b[32m---> \u001b[39m\u001b[32m37\u001b[39m df = pd.DataFrame(data, index=date_list)\n\u001b[32m     38\u001b[39m \u001b[38;5;28;01mreturn\u001b[39;00m df\n",
      "\u001b[36mFile \u001b[39m\u001b[32m~/miniconda3/envs/scu/lib/python3.11/site-packages/pandas/core/frame.py:778\u001b[39m, in \u001b[36mDataFrame.__init__\u001b[39m\u001b[34m(self, data, index, columns, dtype, copy)\u001b[39m\n\u001b[32m    772\u001b[39m     mgr = \u001b[38;5;28mself\u001b[39m._init_mgr(\n\u001b[32m    773\u001b[39m         data, axes={\u001b[33m\"\u001b[39m\u001b[33mindex\u001b[39m\u001b[33m\"\u001b[39m: index, \u001b[33m\"\u001b[39m\u001b[33mcolumns\u001b[39m\u001b[33m\"\u001b[39m: columns}, dtype=dtype, copy=copy\n\u001b[32m    774\u001b[39m     )\n\u001b[32m    776\u001b[39m \u001b[38;5;28;01melif\u001b[39;00m \u001b[38;5;28misinstance\u001b[39m(data, \u001b[38;5;28mdict\u001b[39m):\n\u001b[32m    777\u001b[39m     \u001b[38;5;66;03m# GH#38939 de facto copy defaults to False only in non-dict cases\u001b[39;00m\n\u001b[32m--> \u001b[39m\u001b[32m778\u001b[39m     mgr = dict_to_mgr(data, index, columns, dtype=dtype, copy=copy, typ=manager)\n\u001b[32m    779\u001b[39m \u001b[38;5;28;01melif\u001b[39;00m \u001b[38;5;28misinstance\u001b[39m(data, ma.MaskedArray):\n\u001b[32m    780\u001b[39m     \u001b[38;5;28;01mfrom\u001b[39;00m\u001b[38;5;250m \u001b[39m\u001b[34;01mnumpy\u001b[39;00m\u001b[34;01m.\u001b[39;00m\u001b[34;01mma\u001b[39;00m\u001b[38;5;250m \u001b[39m\u001b[38;5;28;01mimport\u001b[39;00m mrecords\n",
      "\u001b[36mFile \u001b[39m\u001b[32m~/miniconda3/envs/scu/lib/python3.11/site-packages/pandas/core/internals/construction.py:503\u001b[39m, in \u001b[36mdict_to_mgr\u001b[39m\u001b[34m(data, index, columns, dtype, typ, copy)\u001b[39m\n\u001b[32m    499\u001b[39m     \u001b[38;5;28;01melse\u001b[39;00m:\n\u001b[32m    500\u001b[39m         \u001b[38;5;66;03m# dtype check to exclude e.g. range objects, scalars\u001b[39;00m\n\u001b[32m    501\u001b[39m         arrays = [x.copy() \u001b[38;5;28;01mif\u001b[39;00m \u001b[38;5;28mhasattr\u001b[39m(x, \u001b[33m\"\u001b[39m\u001b[33mdtype\u001b[39m\u001b[33m\"\u001b[39m) \u001b[38;5;28;01melse\u001b[39;00m x \u001b[38;5;28;01mfor\u001b[39;00m x \u001b[38;5;129;01min\u001b[39;00m arrays]\n\u001b[32m--> \u001b[39m\u001b[32m503\u001b[39m \u001b[38;5;28;01mreturn\u001b[39;00m arrays_to_mgr(arrays, columns, index, dtype=dtype, typ=typ, consolidate=copy)\n",
      "\u001b[36mFile \u001b[39m\u001b[32m~/miniconda3/envs/scu/lib/python3.11/site-packages/pandas/core/internals/construction.py:119\u001b[39m, in \u001b[36marrays_to_mgr\u001b[39m\u001b[34m(arrays, columns, index, dtype, verify_integrity, typ, consolidate)\u001b[39m\n\u001b[32m    116\u001b[39m         index = ensure_index(index)\n\u001b[32m    118\u001b[39m     \u001b[38;5;66;03m# don't force copy because getting jammed in an ndarray anyway\u001b[39;00m\n\u001b[32m--> \u001b[39m\u001b[32m119\u001b[39m     arrays, refs = _homogenize(arrays, index, dtype)\n\u001b[32m    120\u001b[39m     \u001b[38;5;66;03m# _homogenize ensures\u001b[39;00m\n\u001b[32m    121\u001b[39m     \u001b[38;5;66;03m#  - all(len(x) == len(index) for x in arrays)\u001b[39;00m\n\u001b[32m    122\u001b[39m     \u001b[38;5;66;03m#  - all(x.ndim == 1 for x in arrays)\u001b[39;00m\n\u001b[32m   (...)\u001b[39m\u001b[32m    125\u001b[39m \n\u001b[32m    126\u001b[39m \u001b[38;5;28;01melse\u001b[39;00m:\n\u001b[32m    127\u001b[39m     index = ensure_index(index)\n",
      "\u001b[36mFile \u001b[39m\u001b[32m~/miniconda3/envs/scu/lib/python3.11/site-packages/pandas/core/internals/construction.py:630\u001b[39m, in \u001b[36m_homogenize\u001b[39m\u001b[34m(data, index, dtype)\u001b[39m\n\u001b[32m    627\u001b[39m         val = lib.fast_multiget(val, oindex._values, default=np.nan)\n\u001b[32m    629\u001b[39m     val = sanitize_array(val, index, dtype=dtype, copy=\u001b[38;5;28;01mFalse\u001b[39;00m)\n\u001b[32m--> \u001b[39m\u001b[32m630\u001b[39m     com.require_length_match(val, index)\n\u001b[32m    631\u001b[39m     refs.append(\u001b[38;5;28;01mNone\u001b[39;00m)\n\u001b[32m    633\u001b[39m homogenized.append(val)\n",
      "\u001b[36mFile \u001b[39m\u001b[32m~/miniconda3/envs/scu/lib/python3.11/site-packages/pandas/core/common.py:573\u001b[39m, in \u001b[36mrequire_length_match\u001b[39m\u001b[34m(data, index)\u001b[39m\n\u001b[32m    569\u001b[39m \u001b[38;5;250m\u001b[39m\u001b[33;03m\"\"\"\u001b[39;00m\n\u001b[32m    570\u001b[39m \u001b[33;03mCheck the length of data matches the length of the index.\u001b[39;00m\n\u001b[32m    571\u001b[39m \u001b[33;03m\"\"\"\u001b[39;00m\n\u001b[32m    572\u001b[39m \u001b[38;5;28;01mif\u001b[39;00m \u001b[38;5;28mlen\u001b[39m(data) != \u001b[38;5;28mlen\u001b[39m(index):\n\u001b[32m--> \u001b[39m\u001b[32m573\u001b[39m     \u001b[38;5;28;01mraise\u001b[39;00m \u001b[38;5;167;01mValueError\u001b[39;00m(\n\u001b[32m    574\u001b[39m         \u001b[33m\"\u001b[39m\u001b[33mLength of values \u001b[39m\u001b[33m\"\u001b[39m\n\u001b[32m    575\u001b[39m         \u001b[33mf\u001b[39m\u001b[33m\"\u001b[39m\u001b[33m(\u001b[39m\u001b[38;5;132;01m{\u001b[39;00m\u001b[38;5;28mlen\u001b[39m(data)\u001b[38;5;132;01m}\u001b[39;00m\u001b[33m) \u001b[39m\u001b[33m\"\u001b[39m\n\u001b[32m    576\u001b[39m         \u001b[33m\"\u001b[39m\u001b[33mdoes not match length of index \u001b[39m\u001b[33m\"\u001b[39m\n\u001b[32m    577\u001b[39m         \u001b[33mf\u001b[39m\u001b[33m\"\u001b[39m\u001b[33m(\u001b[39m\u001b[38;5;132;01m{\u001b[39;00m\u001b[38;5;28mlen\u001b[39m(index)\u001b[38;5;132;01m}\u001b[39;00m\u001b[33m)\u001b[39m\u001b[33m\"\u001b[39m\n\u001b[32m    578\u001b[39m     )\n",
      "\u001b[31mValueError\u001b[39m: Length of values (5) does not match length of index (10)"
     ]
    }
   ],
   "source": [
    "# Build dict with complere unmutalble date_v\n",
    "import pandas as pd\n",
    "from typing import List, Any\n",
    "from dataclasses import dataclass\n",
    "\n",
    "@dataclass\n",
    "class DS_DT_Clm:\n",
    "    name: List[str]\n",
    "    value: List[List[Any]]\n",
    "    ds_dt_type: List[type]\n",
    "\n",
    "def generate_date_list(start_day: int, num_days: int) -> List[int]:\n",
    "    return [start_day + i for i in range(num_days)]\n",
    "\n",
    "def build_dict_dt_clms(start_day: int, num_days: int,\n",
    "                       names: List[str],\n",
    "                       values: List[List[Any]],\n",
    "                       types: List[type]) -> dict:\n",
    "    ds_dt_clm = DS_DT_Clm(name=names, value=values, ds_dt_type=types)\n",
    "    DATE_V = generate_date_list(start_day, num_days)\n",
    "\n",
    "    dict_dt_clms = {\n",
    "        0: DATE_V,\n",
    "        1: ds_dt_clm.name,\n",
    "        2: ds_dt_clm.value,\n",
    "        3: ds_dt_clm.ds_dt_type\n",
    "    }\n",
    "    return dict_dt_clms\n",
    "\n",
    "def make_df_from_dict(dict_dt_clms: dict) -> pd.DataFrame:\n",
    "    date_list = dict_dt_clms[0]\n",
    "    col_names = dict_dt_clms[1]\n",
    "    col_values = dict_dt_clms[2]\n",
    "\n",
    "    # Create a dictionary for DataFrame construction\n",
    "    data = {col_names[i]: col_values[i] for i in range(len(col_names))}\n",
    "    df = pd.DataFrame(data, index=date_list)\n",
    "    return df\n",
    "\n",
    "# Example usage\n",
    "dict1 = build_dict_dt_clms(\n",
    "    start_day=80543,\n",
    "    num_days=,\n",
    "    names=[\"bill\", \"jack\"],\n",
    "    values=[[1, 3, 5, 7, 9], [4, 5, 6, 7, 8]],  # Must match length of DATE_V\n",
    "    types=[int, int]\n",
    ")\n",
    "\n",
    "df = make_df_from_dict(dict1)\n",
    "df\n"
   ]
  },
  {
   "cell_type": "markdown",
   "id": "6889103f-5651-42a2-b03e-a222a7b7ced9",
   "metadata": {},
   "source": [
    "## Change input "
   ]
  },
  {
   "cell_type": "code",
   "execution_count": null,
   "id": "02f506f9-ec99-4812-b302-9b7fb4c2e06d",
   "metadata": {
    "tags": []
   },
   "outputs": [],
   "source": [
    "# Step 1: Apply edits to df\n",
    "df = df.drop(index=80547)\n",
    "df.loc[80549, \"bill\"] = 21\n",
    "\n",
    "# Step 2: Push changes to dict1\n",
    "dict1[0] = df.index.tolist()                             # Update DATE_V\n",
    "dict1[2] = [df[col].tolist() for col in df.columns]      # Update values per column\n",
    "print(dict2)"
   ]
  },
  {
   "cell_type": "markdown",
   "id": "7f8f0f4c-a947-4052-a894-3d114036c6e2",
   "metadata": {},
   "source": [
    "## add changes to orig dict [untested]"
   ]
  },
  {
   "cell_type": "code",
   "execution_count": 23,
   "id": "4dc1ce36-32bc-4969-8a78-69876a7d7876",
   "metadata": {
    "tags": []
   },
   "outputs": [
    {
     "name": "stdout",
     "output_type": "stream",
     "text": [
      "dict[2]\n"
     ]
    }
   ],
   "source": [
    "DATE_V = dict1[0]   #NOT TESTED\n",
    "names = dict1[1]\n",
    "\n",
    "# Ensure each value list matches the length of DATE_V\n",
    "new_values = []\n",
    "for values_list in dict1[2]:\n",
    "    # Pad or slice to match DATE_V length exactly\n",
    "    padded = (values_list + [None] * len(DATE_V))[:len(DATE_V)]\n",
    "    new_values.append(padded)\n",
    "\n",
    "# Now safely update from df\n",
    "for i, date in enumerate(DATE_V):\n",
    "    if date in df.index:\n",
    "        for j, name in enumerate(names):\n",
    "            updated_val = df.at[date, name]\n",
    "            if pd.notna(updated_val):\n",
    "                new_values[j][i] = updated_val\n",
    "\n",
    "# Apply the updates\n",
    "dict1[2] = new_values\n",
    "print(dict[2])\n"
   ]
  },
  {
   "cell_type": "code",
   "execution_count": null,
   "id": "2c12d215-4c3b-4425-b696-e09df991f391",
   "metadata": {},
   "outputs": [],
   "source": []
  }
 ],
 "metadata": {
  "kernelspec": {
   "display_name": "Python (scu)",
   "language": "python",
   "name": "scu"
  },
  "language_info": {
   "codemirror_mode": {
    "name": "ipython",
    "version": 3
   },
   "file_extension": ".py",
   "mimetype": "text/x-python",
   "name": "python",
   "nbconvert_exporter": "python",
   "pygments_lexer": "ipython3",
   "version": "3.11.13"
  },
  "toc-autonumbering": false,
  "toc-showcode": true
 },
 "nbformat": 4,
 "nbformat_minor": 5
}
