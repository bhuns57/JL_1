{
 "cells": [
  {
   "cell_type": "markdown",
   "id": "1323b5de-3fc3-49e2-bb42-eeceaf10e248",
   "metadata": {},
   "source": [
    "/tmp/ipykernel_22309/254689864.py:1: SettingWithCopyWarning: \n",
    "A value is trying to be set on a copy of a slice from a DataFrame\n",
    "\n",
    "See the caveats in the documentation: https://pandas.pydata.org/pandas-docs/stable/user_guide/indexing.html#returning-a-view-versus-a-copy\n",
    "  new_values[2]=22"
   ]
  },
  {
   "cell_type": "markdown",
   "id": "b7866f77-5d2e-4d4c-8da4-e825b065a79a",
   "metadata": {},
   "source": [
    "/tmp/ipykernel_22309/254689864.py:1: SettingWithCopyWarning: \n",
    "A value is trying to be set on a copy of a slice from a DataFrame\n",
    "\n",
    "See the caveats in the documentation: https://pandas.pydata.org/pandas-docs/stable/user_guide/indexing.html#returning-a-view-versus-a-copy\n",
    "  new_values[2]=22"
   ]
  },
  {
   "cell_type": "raw",
   "id": "972fedeb-c3a7-4160-abef-b36634d65488",
   "metadata": {},
   "source": [
    "/tmp/ipykernel_22309/254689864.py:1: SettingWithCopyWarning: \n",
    "A value is trying to be set on a copy of a slice from a DataFrame\n",
    "\n",
    "See the caveats in the documentation: https://pandas.pydata.org/pandas-docs/stable/user_guide/indexing.html#returning-a-view-versus-a-copy\n",
    "  new_values[2]=22"
   ]
  }
 ],
 "metadata": {
  "kernelspec": {
   "display_name": "Python (scu)",
   "language": "python",
   "name": "scu"
  },
  "language_info": {
   "codemirror_mode": {
    "name": "ipython",
    "version": 3
   },
   "file_extension": ".py",
   "mimetype": "text/x-python",
   "name": "python",
   "nbconvert_exporter": "python",
   "pygments_lexer": "ipython3",
   "version": "3.11.13"
  }
 },
 "nbformat": 4,
 "nbformat_minor": 5
}
