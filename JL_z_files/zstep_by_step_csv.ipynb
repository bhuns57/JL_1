{
 "cells": [
  {
   "cell_type": "markdown",
   "id": "03d60ce1-6226-4ce4-b0ca-3bd9e53e3510",
   "metadata": {},
   "source": [
    "# Loading mrn_mstr_dict"
   ]
  },
  {
   "cell_type": "markdown",
   "id": "b044a044-7e24-45cc-a8ca-b7a6af9aa894",
   "metadata": {},
   "source": [
    "## Step 1 Load imports"
   ]
  },
  {
   "cell_type": "code",
   "execution_count": 1,
   "id": "496c354d-ed67-4d43-b788-2df75f14c541",
   "metadata": {
    "scrolled": true
   },
   "outputs": [],
   "source": [
    "import pandas as pd\n",
    "from datetime import timedelta\n",
    "import os\n"
   ]
  },
  {
   "cell_type": "markdown",
   "id": "d25e3b65-8eec-498f-8ccc-2dbc3bf13aa1",
   "metadata": {
    "tags": []
   },
   "source": [
    "# CSV SYSTEM DESCRIPTION"
   ]
  },
  {
   "cell_type": "markdown",
   "id": "283437a1-d108-441e-907e-5c3e71200a56",
   "metadata": {},
   "source": [
    "Nomentclature"
   ]
  },
  {
   "cell_type": "code",
   "execution_count": null,
   "id": "697555d2-38ab-45dc-b7b4-75444eb8ea23",
   "metadata": {},
   "outputs": [],
   "source": []
  },
  {
   "cell_type": "markdown",
   "id": "7ba12a4d-8e24-4d05-9880-11576cd08e7b",
   "metadata": {
    "tags": []
   },
   "source": [
    "## def imprt_csv): assumes in repo : \n",
    "1. filename = ada_dict.csv\n",
    "2. reads csi file(file name)\n",
    "2. creates df of the array using the file name ; it also creates a of the col heads in filename_heads\n",
    "############################################################################\n",
    "def df_repo_csv(filename):            # filename is str\n",
    "    hds= pd.DataFrame(df.columns)\n",
    "    return \n",
    "###############################\n",
    "    df_nm\n",
    "#df,hds =   "
   ]
  },
  {
   "cell_type": "code",
   "execution_count": null,
   "id": "46a6ecf4-51a8-48f5-9ee8-1449cf008f56",
   "metadata": {},
   "outputs": [],
   "source": [
    "import os\n",
    "\n",
    "filename = \"df_nm\"\n",
    "# file_path = os.path.join(\"JL_1\", filename + \".csv\")\n",
    "file_path = os.path.join(filename + \".csv\")\n",
    "\n",
    "file_path\n"
   ]
  },
  {
   "cell_type": "code",
   "execution_count": null,
   "id": "40ac891e-021f-4073-a092-cd4a8582cec7",
   "metadata": {},
   "outputs": [],
   "source": [
    "\n",
    "df = pd.read_csv(file_path)\n",
    "\n",
    "df"
   ]
  },
  {
   "cell_type": "code",
   "execution_count": null,
   "id": "08b6a0ee-6d0c-4b57-ae55-e7618e8e9004",
   "metadata": {},
   "outputs": [],
   "source": [
    "df = pd.read_csv(\"df_nm.csv\")\n",
    "\n",
    "df"
   ]
  },
  {
   "cell_type": "code",
   "execution_count": null,
   "id": "5da3a79d-0f0b-41b8-8179-a7e67f9913c8",
   "metadata": {
    "scrolled": true
   },
   "outputs": [],
   "source": [
    "\n",
    "df = pd.read_csv(\"/home/bhuns/JL_1/df_nm.csv\")\n",
    "\n",
    "df"
   ]
  },
  {
   "cell_type": "code",
   "execution_count": null,
   "id": "0e0d3c4d-458f-40f3-8927-52afc5705c8d",
   "metadata": {},
   "outputs": [],
   "source": [
    "print(\"Current working directory:\", os.getcwd())\n"
   ]
  },
  {
   "cell_type": "code",
   "execution_count": null,
   "id": "babe3da8-46fe-4c06-b992-07a1f471b488",
   "metadata": {},
   "outputs": [],
   "source": [
    "import os\n",
    "\n",
    "filename = \"df_nm.csv\"\n",
    "folder = \"JL_1\"\n",
    "path = os.path.join(os.getcwd(), folder, filename)\n",
    "\n",
    "print(path)  # Confirm full path\n"
   ]
  },
  {
   "cell_type": "code",
   "execution_count": null,
   "id": "a6ba84ca-91b8-4cb8-aec7-b835c8a6dc11",
   "metadata": {},
   "outputs": [],
   "source": [
    "import os\n",
    "\n",
    "print(os.getcwd())  # Shows your current working directory\n",
    "print(os.listdir(\"JL_1\"))  # Lists files in the JL_1 subfolder\n"
   ]
  },
  {
   "cell_type": "code",
   "execution_count": null,
   "id": "0276002a-d694-4225-bf90-ed029accb5f8",
   "metadata": {},
   "outputs": [],
   "source": [
    "filename = pd.read_csv(file_path)\n",
    "filename = pd.DataFrame(df.columns)\n",
    "file_hds\n"
   ]
  },
  {
   "cell_type": "code",
   "execution_count": null,
   "id": "2d64ab8d-90e6-4b67-a81b-f99997f2ea26",
   "metadata": {
    "scrolled": true
   },
   "outputs": [],
   "source": [
    "   # Load the CSV file to use df(file_path)  to get clmn_nn [nickname]\n",
    "file_path = \"mrn_mstr_8_04.csv\"    # name of the mrn_mstr file\n",
    "############################################################################\n",
    "df = pd.read_csv(file_path)\n",
    "clmn_nn= pd.DataFrame(df.columns)\n",
    "file_hds"
   ]
  },
  {
   "cell_type": "markdown",
   "id": "b781a133-7db7-42b3-97cc-81b62d093a37",
   "metadata": {},
   "source": [
    "## Use the df_nm to find the key for dict_master key 1 dn "
   ]
  },
  {
   "cell_type": "markdown",
   "id": "4c0d5397-5d69-4ad2-b8ab-491944f05b51",
   "metadata": {},
   "source": [
    "## Step 2 Read filename.csv and get col names"
   ]
  },
  {
   "cell_type": "code",
   "execution_count": null,
   "id": "eb227281-5788-4690-a1af-d0b1b0002ef5",
   "metadata": {
    "scrolled": true
   },
   "outputs": [],
   "source": [
    "##########################  import os ???  ############################################\n",
    "print(\"repo = \",os.getcwd())\n",
    "\n",
    "def csv_df(file_path):\n",
    "    df = pd.read_csv(file_path)\n",
    "    clmn_nn= pd.DataFrame(df.columns)\n",
    "    return df"
   ]
  },
  {
   "cell_type": "code",
   "execution_count": null,
   "id": "5940bd76-fa4d-47cf-a20d-0afcfbac09fb",
   "metadata": {
    "scrolled": true
   },
   "outputs": [],
   "source": [
    "file = \"df_nm\"\n",
    "file_path = file + \".csv\"    # name of the mrn_mstr file\n",
    "df = csv_df(file_path)\n",
    "df_nm = df\n",
    "file_hds = df.columns\n",
    "file_hds\n",
    "print(file_hds)\n",
    "df_nm"
   ]
  },
  {
   "cell_type": "markdown",
   "id": "12487800-ec72-4503-aec3-e0cc4bcc2fbb",
   "metadata": {},
   "source": [
    "### Proving file is read into df"
   ]
  },
  {
   "cell_type": "code",
   "execution_count": null,
   "id": "a2b3ecb4-f427-470b-b50b-311678e154b0",
   "metadata": {
    "editable": true,
    "slideshow": {
     "slide_type": ""
    },
    "tags": []
   },
   "outputs": [],
   "source": [
    "# get the names of the first 30 cols\n",
    "clmn_nn.iloc[:30]"
   ]
  },
  {
   "cell_type": "code",
   "execution_count": null,
   "id": "3e313549-7880-4e8d-94bf-a474b01c3cf8",
   "metadata": {},
   "outputs": [],
   "source": [
    "# Get the name of the 24th column\n",
    "nn = clmn_nn.iloc[24]\n",
    "nn"
   ]
  },
  {
   "cell_type": "code",
   "execution_count": null,
   "id": "3f4b3012-9f09-47f5-b01c-0d7895edecd1",
   "metadata": {},
   "outputs": [],
   "source": [
    "# show a col with index col 24 of df [the array from the file made into a data frame]\n",
    "df.iloc[:,24]                 # col 24 of df"
   ]
  },
  {
   "cell_type": "code",
   "execution_count": null,
   "id": "089ecf69-87ac-490a-833c-d949950d30ad",
   "metadata": {},
   "outputs": [],
   "source": [
    "# Show creating a variable from cols example DATE_V\n",
    "DATE_V = df.loc[:,\"DATE_V\"]\n",
    "DATE_V"
   ]
  },
  {
   "cell_type": "code",
   "execution_count": null,
   "id": "295213ae-8faf-4bf4-b9c0-510b1fd288b8",
   "metadata": {
    "scrolled": true
   },
   "outputs": [],
   "source": [
    "# Create a list if the index of a df\n",
    "df_ind = df.index\n",
    "df_ind[10]"
   ]
  },
  {
   "cell_type": "markdown",
   "id": "47516dc1-d403-4403-b34e-7a4a7204b930",
   "metadata": {},
   "source": [
    "## df_ind (shld be df_ndx)  >> Function to Find Index by Column and String"
   ]
  },
  {
   "cell_type": "markdown",
   "id": "ce8a1616-5be6-4a88-ad43-b059de340153",
   "metadata": {},
   "source": [
    "#### copilot pattern = df_ind  Function to Find Index by Column and String"
   ]
  },
  {
   "cell_type": "markdown",
   "id": "8fe61746-16f2-4f9d-971c-49a20969f26b",
   "metadata": {},
   "source": [
    "##### Also look at query to find matches"
   ]
  },
  {
   "cell_type": "raw",
   "id": "f9a660a7-965a-4d9e-b80f-0829faa9fd2e",
   "metadata": {},
   "source": [
    "#### copilot pattern = def >> df_ind  Function to Find Index by Column and String\n",
    "def find_index_by_value(df, col_name, target_str):\n",
    "    if col_name not in df.columns:\n",
    "        raise ValueError(f\"Column '{col_name}' not found in DataFrame.\")\n",
    "    \n",
    "    matches = df[df[col_name] == target_str]\n",
    "    \n",
    "    if matches.empty:\n",
    "        print(f\"❌ No match found for '{target_str}' in column '{col_name}'.\")\n",
    "        return None\n",
    "    \n",
    "    return matches.index.tolist()\n"
   ]
  },
  {
   "cell_type": "raw",
   "id": "263c88a4-43a7-4e7b-ae0c-434f91c02446",
   "metadata": {},
   "source": [
    "### call df_ind function\n",
    "# Sample DataFrame\n",
    "import pandas as pd\n",
    "\n",
    "df_nms = pd.DataFrame({\n",
    "    \"DATE_V\": [\"2025-08-01\", \"2025-08-02\", \"2025-08-03\"],\n",
    "    \"dn\": [\"alpha\", \"beta\", \"gamma\"],\n",
    "    \"nn\": [\"x1\", \"x2\", \"x3\"],\n",
    "    \"pn\": [\"p1\", \"p2\", \"p3\"]\n",
    "}, index=[101, 102, 103])\n",
    "\n",
    "# Find index where 'dn' == 'beta'\n",
    "idx = find_index_by_value(df_nms, \"dn\", \"beta\")\n",
    "print(\"✅ Matching index:\", idx)\n"
   ]
  },
  {
   "cell_type": "raw",
   "id": "b34fdde5-97b1-4c8c-81e3-4f5ca1b48f65",
   "metadata": {},
   "source": [
    "### call df_ind function \n",
    "# Sample DataFrame\n",
    "import pandas as pd\n",
    "\n",
    "df_nms = pd.DataFrame({\n",
    "    \"DATE_V\": [\"2025-08-01\", \"2025-08-02\", \"2025-08-03\"],\n",
    "    \"dn\": [\"alpha\", \"beta\", \"gamma\"],\n",
    "    \"nn\": [\"x1\", \"x2\", \"x3\"],\n",
    "    \"pn\": [\"p1\", \"p2\", \"p3\"]\n",
    "}, index=[101, 102, 103])\n",
    "\n",
    "# Find index where 'dn' == 'beta'\n",
    "\n",
    "#idx = find_index_by_value(df_nms, \"dn\", \"beta\")\n",
    "\n",
    "print(\"✅ Matching index:\", idx)\n"
   ]
  },
  {
   "cell_type": "markdown",
   "id": "8639a70f-05aa-4718-93a7-c2c4f15fa43f",
   "metadata": {},
   "source": [
    "### applied version = df_ind  Function to Find Index by Column and String"
   ]
  },
  {
   "cell_type": "markdown",
   "id": "bb7ea5a7-3a25-49e5-b148-c95c8615c37b",
   "metadata": {},
   "source": [
    "#### applied version >> def find_index_by_value(df, col_name, target_str)\n"
   ]
  },
  {
   "cell_type": "code",
   "execution_count": null,
   "id": "1952348a-bff4-4227-adcb-32ba2aac1a97",
   "metadata": {},
   "outputs": [],
   "source": [
    "#### applied version >> call find_index_by_value(df, col_name, target_str)\n",
    "def find_index_by_value(df, col_name, target_str):\n",
    "    if col_name not in df.columns:\n",
    "        raise ValueError(f\"Column '{col_name}' not found in DataFrame.\")\n",
    "    \n",
    "    matches = df[df[col_name] == target_str]\n",
    "    \n",
    "    if matches.empty:\n",
    "        print(f\"❌ No match found for '{target_str}' in column '{col_name}'.\")\n",
    "        return None\n",
    "    \n",
    "    return matches.index.tolist()\n"
   ]
  },
  {
   "cell_type": "markdown",
   "id": "b7c01a80-467c-4ab4-967a-269e329ded99",
   "metadata": {},
   "source": [
    "#### applied version >> call  >>  find_index_by_value(df, col_name, target_str): use assignment list"
   ]
  },
  {
   "cell_type": "code",
   "execution_count": null,
   "id": "288420cb-4185-4447-aeae-53b27aa7f05a",
   "metadata": {},
   "outputs": [],
   "source": [
    "#### call >> find_index_by_value(df, col_name, target_str) >> use assignment list to avoid confusion\n",
    "df = df_nms                      \n",
    "col_name = \"dn\"\n",
    "target_str = \"beta\"\n",
    "# Find index where 'dn' == 'beta'\n",
    "idx = find_index_by_value(df, col_name, target_str)\n",
    "print(\"✅ Matching index:\", idx)\n"
   ]
  },
  {
   "cell_type": "code",
   "execution_count": null,
   "id": "dcbe3de7-4ad1-4598-848f-9a559da9abd0",
   "metadata": {},
   "outputs": [],
   "source": []
  }
 ],
 "metadata": {
  "kernelspec": {
   "display_name": "Python (scu)",
   "language": "python",
   "name": "scu"
  },
  "language_info": {
   "codemirror_mode": {
    "name": "ipython",
    "version": 3
   },
   "file_extension": ".py",
   "mimetype": "text/x-python",
   "name": "python",
   "nbconvert_exporter": "python",
   "pygments_lexer": "ipython3",
   "version": "3.11.13"
  }
 },
 "nbformat": 4,
 "nbformat_minor": 5
}
