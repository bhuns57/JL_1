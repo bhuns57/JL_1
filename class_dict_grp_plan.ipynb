{
 "cells": [
  {
   "cell_type": "markdown",
   "id": "3712048f-a30c-49e6-a7f0-641a4dec65b1",
   "metadata": {},
   "source": [
    "**LAYING OUT THE LISTS FOR CLASSES DICTS AND GRPS**"
   ]
  },
  {
   "cell_type": "markdown",
   "id": "ecb5f7a4-6a78-43c6-a56d-97eb975451e5",
   "metadata": {},
   "source": [
    "# ________________________________________________________________"
   ]
  },
  {
   "cell_type": "markdown",
   "id": "5fed975a-5fb5-46cd-88a2-754b097d62ba",
   "metadata": {
    "jp-MarkdownHeadingCollapsed": true
   },
   "source": [
    "## array_dict{"
   ]
  },
  {
   "cell_type": "markdown",
   "id": "40e783f3-bd17-4c61-bf3b-c3fd97b67966",
   "metadata": {
    "jp-MarkdownHeadingCollapsed": true
   },
   "source": [
    "### *dtv: list[]*"
   ]
  },
  {
   "cell_type": "markdown",
   "id": "10e766b2-35a5-4c59-8b3a-b206fe871284",
   "metadata": {},
   "source": [
    "### *dat_col: nrm_dose_list[]*"
   ]
  },
  {
   "cell_type": "markdown",
   "id": "36ba52c0-4d6b-4a35-a424-63d2747609c0",
   "metadata": {},
   "source": [
    "### *dat_col: default_nrm_dose_list[]*"
   ]
  },
  {
   "cell_type": "markdown",
   "id": "b5bebb92-503a-429e-ae1f-f1712d08bd52",
   "metadata": {},
   "source": [
    "### active_tags: list[]"
   ]
  },
  {
   "cell_type": "markdown",
   "id": "68056caf-87ca-4c0e-b28c-3211a71489b6",
   "metadata": {},
   "source": [
    "### filled_tags: list[]"
   ]
  },
  {
   "cell_type": "markdown",
   "id": "e0040737-2244-4034-b717-fc1224a2838d",
   "metadata": {},
   "source": [
    "### }"
   ]
  },
  {
   "cell_type": "markdown",
   "id": "a695d1fb-0806-4403-b551-7601da3a1c1f",
   "metadata": {
    "jp-MarkdownHeadingCollapsed": true
   },
   "source": [
    "### ________________________________________________________________"
   ]
  },
  {
   "cell_type": "markdown",
   "id": "deabe089-c28e-431a-90c4-15b942507f5b",
   "metadata": {},
   "source": [
    "## df_attrbts_dat_col = pd.dataframe[attrbts_lst, dat_col_list]"
   ]
  },
  {
   "cell_type": "markdown",
   "id": "bb432f74-e637-4207-889f-f140d4fabe24",
   "metadata": {},
   "source": [
    "# class (self, array_dict{snm}, snm) "
   ]
  },
  {
   "cell_type": "markdown",
   "id": "ca1a7ff4-c6fa-40a4-b963-68ea41779e7e",
   "metadata": {},
   "source": [
    "## *attributes*"
   ]
  },
  {
   "cell_type": "markdown",
   "id": "a1ba0324-9710-45a7-94ed-70da9a1c94a4",
   "metadata": {},
   "source": [
    "### self.dose = dat_col_col_dat.dose"
   ]
  },
  {
   "cell_type": "markdown",
   "id": "b69af0af-2785-41e3-ab81-226d153cecce",
   "metadata": {},
   "source": [
    "### col_dat.dose_units"
   ]
  },
  {
   "cell_type": "code",
   "execution_count": null,
   "id": "8eecf6c8-48a9-4ae7-b9d2-d5ea2255f775",
   "metadata": {},
   "outputs": [],
   "source": []
  },
  {
   "cell_type": "markdown",
   "id": "54e1e3af-d03d-430c-94b3-bdc40400d7cb",
   "metadata": {
    "jp-MarkdownHeadingCollapsed": true
   },
   "source": [
    "### col_dat.names"
   ]
  },
  {
   "cell_type": "markdown",
   "id": "0c3a79b7-0ee6-4443-9a7e-9426c41bd1b2",
   "metadata": {
    "jp-MarkdownHeadingCollapsed": true
   },
   "source": [
    "### col_dat.dose_value_list"
   ]
  },
  {
   "cell_type": "markdown",
   "id": "08a41c55-428b-4144-984d-00fdd450a23e",
   "metadata": {},
   "source": [
    "### col_dat.default_dose_value_list"
   ]
  },
  {
   "cell_type": "markdown",
   "id": "bdeaa2f0-6564-4f6c-959e-5a79ff0df3e2",
   "metadata": {},
   "source": [
    "# ________________________________________________________________"
   ]
  },
  {
   "cell_type": "markdown",
   "id": "a648f29d-c000-4d3c-af56-9908a19c285b",
   "metadata": {},
   "source": [
    "## method_dict"
   ]
  },
  {
   "cell_type": "markdown",
   "id": "0576ff0a-f3dd-45e3-a1a7-4efa759c1455",
   "metadata": {},
   "source": [
    "### *col_dat.act_dose*"
   ]
  },
  {
   "cell_type": "markdown",
   "id": "1b2e59f0-db75-4110-bdd5-007121acce12",
   "metadata": {},
   "source": [
    "### *col_dat.number of nans*"
   ]
  },
  {
   "cell_type": "markdown",
   "id": "76a2cbd1-3a6d-4562-90dc-156294951f46",
   "metadata": {
    "jp-MarkdownHeadingCollapsed": true
   },
   "source": [
    "### col_dat.length"
   ]
  },
  {
   "cell_type": "markdown",
   "id": "a115ce43-9af2-450c-ae13-932d95dffb6f",
   "metadata": {},
   "source": [
    "# grp_dict"
   ]
  },
  {
   "cell_type": "code",
   "execution_count": null,
   "id": "878ff111-2cdf-44cc-91a9-500997842424",
   "metadata": {},
   "outputs": [],
   "source": []
  }
 ],
 "metadata": {
  "kernelspec": {
   "display_name": "Python (scu)",
   "language": "python",
   "name": "scu"
  },
  "language_info": {
   "codemirror_mode": {
    "name": "ipython",
    "version": 3
   },
   "file_extension": ".py",
   "mimetype": "text/x-python",
   "name": "python",
   "nbconvert_exporter": "python",
   "pygments_lexer": "ipython3",
   "version": "3.11.13"
  }
 },
 "nbformat": 4,
 "nbformat_minor": 5
}
