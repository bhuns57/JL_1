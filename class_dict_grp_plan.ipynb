{
 "cells": [
  {
   "cell_type": "markdown",
   "id": "3712048f-a30c-49e6-a7f0-641a4dec65b1",
   "metadata": {},
   "source": [
    "**LAYING OUT THE LISTS FOR CLASSES DICTS AND GRPS**"
   ]
  },
  {
   "cell_type": "markdown",
   "id": "c6a92aae-5d53-439a-96be-e29f682228fa",
   "metadata": {},
   "source": [
    "# ***array_dict***          *....Notes: & Data Structure Description: & Data Sources:....*"
   ]
  },
  {
   "cell_type": "markdown",
   "id": "b2ef3f93-76fb-4448-9fcf-e7482312b809",
   "metadata": {},
   "source": [
    "## **Notes:**"
   ]
  },
  {
   "cell_type": "markdown",
   "id": "d06c4793-f67d-40e3-aeec-c7502e8b8220",
   "metadata": {},
   "source": [
    "### ***Note:***  **\"ad\"** is an abrev for **\"array_dict\"** "
   ]
  },
  {
   "cell_type": "markdown",
   "id": "15a9e791-cebd-4c5c-b5b2-158a804a9d00",
   "metadata": {
    "jp-MarkdownHeadingCollapsed": true
   },
   "source": [
    "### ***Note:***  **\"sn\"** is an abrev for **\"serial_number\"** "
   ]
  },
  {
   "cell_type": "markdown",
   "id": "c58feb58-817f-4d1d-b177-747c4932cb28",
   "metadata": {},
   "source": [
    "### ***Note:***  **\"ad_sn\"** is an abrev for **\"array_dict_serial_number\"** "
   ]
  },
  {
   "cell_type": "markdown",
   "id": "f23b6f42-98db-4d39-9ef4-874d7ebe1caa",
   "metadata": {},
   "source": [
    "### ***Note:***  **\"dat_col\"** is an abrev for **\"std_shape_np_array_that_populates_the_cols_in_the_array_dict\"** "
   ]
  },
  {
   "cell_type": "markdown",
   "id": "c1d06be2-599d-4e05-9531-2fb5f484de59",
   "metadata": {},
   "source": [
    "### ***Note:***  **\"dat_col.hdr\"** is an abrev for **\"list_of_dat_col.header_names\"** "
   ]
  },
  {
   "cell_type": "markdown",
   "id": "ba3615f7-8d27-44dc-99c2-c466b5de0731",
   "metadata": {},
   "source": [
    "### ***Note:***  **\"dat_col.sn\"** is an abrev for **\"list_of_dat_col.serial_numbers\"** "
   ]
  },
  {
   "cell_type": "markdown",
   "id": "cb197028-d86d-4d2b-93a7-5cccd889810c",
   "metadata": {},
   "source": [
    "### ***Note:*** a **\"list\"** is a **col of items** with a **specified data type** *(1 item for each day & all lists have the same len and grows each day)*"
   ]
  },
  {
   "cell_type": "markdown",
   "id": "a7a5b0c0-b0b2-4fc6-bac9-ffad5910563d",
   "metadata": {},
   "source": [
    "### ***Note:*** **\"array_dict\"** *is stored as a pickle file at pathway* **-r\"data\\xl_ad_xn.pkl\"**    *# must have the r for raw* "
   ]
  },
  {
   "cell_type": "markdown",
   "id": "3e41980f-2a64-45a1-a32b-20e9f7cd27cd",
   "metadata": {},
   "source": [
    "## **Data Structure Description:**"
   ]
  },
  {
   "cell_type": "markdown",
   "id": "5fed975a-5fb5-46cd-88a2-754b097d62ba",
   "metadata": {},
   "source": [
    "### **array_dict{**            *----------------------beginning of array_dict description (....it has 5 keys....)*"
   ]
  },
  {
   "cell_type": "markdown",
   "id": "40e783f3-bd17-4c61-bf3b-c3fd97b67966",
   "metadata": {
    "jp-MarkdownHeadingCollapsed": true
   },
   "source": [
    "#### **dtv: list[]**              is the **date value list**  which is 1 entry for each day in list *(....str with 5 numbers....)*"
   ]
  },
  {
   "cell_type": "markdown",
   "id": "10e766b2-35a5-4c59-8b3a-b206fe871284",
   "metadata": {},
   "source": [
    "#### **dat_col: tkn_doses_list[]**   is the entered multiple of **full doses taken** each day  *(....list of dtype 3 bits of byte means select between 8 levels....)*"
   ]
  },
  {
   "cell_type": "markdown",
   "id": "36ba52c0-4d6b-4a35-a424-63d2747609c0",
   "metadata": {},
   "source": [
    "#### **dat_col: pln_nrm_dose_list[]** is the **planned # of full doses**  *(....list of dtype 3 bits of byte means select between 8 levels....)*"
   ]
  },
  {
   "cell_type": "markdown",
   "id": "b5bebb92-503a-429e-ae1f-f1712d08bd52",
   "metadata": {},
   "source": [
    "#### **active_tags: list[]**     tag shows if **now active** *(....true/false....)*"
   ]
  },
  {
   "cell_type": "markdown",
   "id": "68056caf-87ca-4c0e-b28c-3211a71489b6",
   "metadata": {},
   "source": [
    "#### **filled_tags: list[]**  shows if has **been filled today**  *(....true/false....)*"
   ]
  },
  {
   "cell_type": "markdown",
   "id": "e0040737-2244-4034-b717-fc1224a2838d",
   "metadata": {
    "jp-MarkdownHeadingCollapsed": true
   },
   "source": [
    "#### }                     *end of array_dict desctiption--------------------------------------------*"
   ]
  },
  {
   "cell_type": "markdown",
   "id": "cdbc974a-b76f-459f-b354-395671ed5c5a",
   "metadata": {},
   "source": [
    "## **Data Sources:**"
   ]
  },
  {
   "cell_type": "markdown",
   "id": "2a58fa24-3065-4f16-b2f0-02c745324ec1",
   "metadata": {
    "jp-MarkdownHeadingCollapsed": true
   },
   "source": [
    "#### **\"dtv: list[]\"** *is derived from reading file* **\"xl_ad_sn\"** *and* **slicing the 1st col**"
   ]
  },
  {
   "cell_type": "markdown",
   "id": "06e9a56a-ec44-46a4-aadc-0379ce9457d9",
   "metadata": {
    "jp-MarkdownHeadingCollapsed": true
   },
   "source": [
    "#### **\"dat_col: nrm_dose_list[] \"** *is derived from reading file* **\"xl_ad_sn\"** *and* **slicing the 2nd col**"
   ]
  },
  {
   "cell_type": "markdown",
   "id": "53c015ce-16c6-4b68-9722-80c86768685c",
   "metadata": {
    "jp-MarkdownHeadingCollapsed": true
   },
   "source": [
    "#### **\" dat_col: pln_nrm_dose_list[] \"** *is derived from reading file* **\"xl_ad_sn\"** *and* **slicing the 3rd col**"
   ]
  },
  {
   "cell_type": "markdown",
   "id": "d07013ff-9594-4342-9c61-4fe282e7e075",
   "metadata": {
    "jp-MarkdownHeadingCollapsed": true
   },
   "source": [
    "#### **\" active_tags: list[] \"** *is derived from reading file* **\"xl_ad_sn\"** *and* **slicing the 4th col**"
   ]
  },
  {
   "cell_type": "markdown",
   "id": "67ff0f5d-5655-4d0a-9f6d-6516e91da114",
   "metadata": {
    "jp-MarkdownHeadingCollapsed": true
   },
   "source": [
    "#### **\" filled_tags: list[] \"** *is derived from reading file* **\"xl_ad_sn\"** *and* **slicing the 5th col**"
   ]
  },
  {
   "cell_type": "markdown",
   "id": "b72b2743-9562-4b68-8b05-0295515a87a7",
   "metadata": {},
   "source": [
    "## ***.....End of array_dict.....***"
   ]
  },
  {
   "cell_type": "markdown",
   "id": "dd56b9d4-415b-40c7-a382-f80062fb8ddc",
   "metadata": {},
   "source": [
    "### "
   ]
  },
  {
   "cell_type": "markdown",
   "id": "f7d09379-4e8f-47a8-ab9b-10b56d506b5b",
   "metadata": {},
   "source": [
    "### "
   ]
  },
  {
   "cell_type": "markdown",
   "id": "4f6d5675-0577-4a73-92d5-f4bfa2d8dd18",
   "metadata": {},
   "source": [
    "### "
   ]
  },
  {
   "cell_type": "markdown",
   "id": "4f76f5d6-f0a8-4b30-8b15-c7223ab18a84",
   "metadata": {},
   "source": [
    "### "
   ]
  },
  {
   "cell_type": "markdown",
   "id": "a695d1fb-0806-4403-b551-7601da3a1c1f",
   "metadata": {
    "jp-MarkdownHeadingCollapsed": true
   },
   "source": [
    "### ________________________________________________________________"
   ]
  },
  {
   "cell_type": "markdown",
   "id": "deabe089-c28e-431a-90c4-15b942507f5b",
   "metadata": {},
   "source": [
    "## df_attrbts_dat_col = pd.dataframe[attrbts_lst, dat_col_list]"
   ]
  },
  {
   "cell_type": "markdown",
   "id": "bb432f74-e637-4207-889f-f140d4fabe24",
   "metadata": {},
   "source": [
    "# class (self, array_dict{snm}, snm) "
   ]
  },
  {
   "cell_type": "markdown",
   "id": "ca1a7ff4-c6fa-40a4-b963-68ea41779e7e",
   "metadata": {},
   "source": [
    "## *attributes*"
   ]
  },
  {
   "cell_type": "markdown",
   "id": "a1ba0324-9710-45a7-94ed-70da9a1c94a4",
   "metadata": {},
   "source": [
    "### self.dose = dat_col_col_dat.dose"
   ]
  },
  {
   "cell_type": "markdown",
   "id": "b69af0af-2785-41e3-ab81-226d153cecce",
   "metadata": {},
   "source": [
    "### col_dat.dose_units"
   ]
  },
  {
   "cell_type": "code",
   "execution_count": null,
   "id": "8eecf6c8-48a9-4ae7-b9d2-d5ea2255f775",
   "metadata": {},
   "outputs": [],
   "source": []
  },
  {
   "cell_type": "markdown",
   "id": "54e1e3af-d03d-430c-94b3-bdc40400d7cb",
   "metadata": {
    "jp-MarkdownHeadingCollapsed": true
   },
   "source": [
    "### col_dat.names"
   ]
  },
  {
   "cell_type": "markdown",
   "id": "0c3a79b7-0ee6-4443-9a7e-9426c41bd1b2",
   "metadata": {
    "jp-MarkdownHeadingCollapsed": true
   },
   "source": [
    "### col_dat.dose_value_list"
   ]
  },
  {
   "cell_type": "markdown",
   "id": "08a41c55-428b-4144-984d-00fdd450a23e",
   "metadata": {},
   "source": [
    "### col_dat.default_dose_value_list"
   ]
  },
  {
   "cell_type": "markdown",
   "id": "bdeaa2f0-6564-4f6c-959e-5a79ff0df3e2",
   "metadata": {},
   "source": [
    "# ________________________________________________________________"
   ]
  },
  {
   "cell_type": "markdown",
   "id": "a648f29d-c000-4d3c-af56-9908a19c285b",
   "metadata": {},
   "source": [
    "## method_dict"
   ]
  },
  {
   "cell_type": "markdown",
   "id": "0576ff0a-f3dd-45e3-a1a7-4efa759c1455",
   "metadata": {},
   "source": [
    "### *col_dat.act_dose*"
   ]
  },
  {
   "cell_type": "markdown",
   "id": "1b2e59f0-db75-4110-bdd5-007121acce12",
   "metadata": {},
   "source": [
    "### *col_dat.number of nans*"
   ]
  },
  {
   "cell_type": "markdown",
   "id": "76a2cbd1-3a6d-4562-90dc-156294951f46",
   "metadata": {
    "jp-MarkdownHeadingCollapsed": true
   },
   "source": [
    "### col_dat.length"
   ]
  },
  {
   "cell_type": "markdown",
   "id": "a115ce43-9af2-450c-ae13-932d95dffb6f",
   "metadata": {},
   "source": [
    "# grp_dict"
   ]
  },
  {
   "cell_type": "code",
   "execution_count": null,
   "id": "878ff111-2cdf-44cc-91a9-500997842424",
   "metadata": {},
   "outputs": [],
   "source": []
  }
 ],
 "metadata": {
  "kernelspec": {
   "display_name": "Python (scu)",
   "language": "python",
   "name": "scu"
  },
  "language_info": {
   "codemirror_mode": {
    "name": "ipython",
    "version": 3
   },
   "file_extension": ".py",
   "mimetype": "text/x-python",
   "name": "python",
   "nbconvert_exporter": "python",
   "pygments_lexer": "ipython3",
   "version": "3.11.13"
  }
 },
 "nbformat": 4,
 "nbformat_minor": 5
}
