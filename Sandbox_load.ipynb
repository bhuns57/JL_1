{
 "cells": [
  {
   "cell_type": "code",
   "execution_count": 1,
   "id": "11621377-38ec-4cee-9788-57f6bad01950",
   "metadata": {},
   "outputs": [],
   "source": [
    "############## DEF FUNCTIONS SAVED AS A PY MODULE ##################\n",
    "import pandas as pd\n",
    "from openpyxl import load_workbook, Workbook\n",
    "from openpyxl.worksheet.table import Table, TableStyleInfo\n",
    "from openpyxl.utils import get_column_letter\n",
    "def bld_base_name_fmly(base_name):\n",
    "    df = \"df_\" + base_name\n",
    "    xl_file = str( \"xl_\" + base_name +\".xlxs\")\n",
    "    wb = \"xl_\" + base_name\n",
    "    ws = \"xl_\" + base_name\n",
    "    tbl = \"xl_\" + base_name\n",
    "    xl_file = \"xl_tbl.xlsx\"  # make sure the filename extension is correct\n",
    "    return df,xl_file,wb,ws,tbl\n",
    "    \n",
    "    "
   ]
  },
  {
   "cell_type": "code",
   "execution_count": 2,
   "id": "b7b35ef9-3336-487b-931f-696219250a9e",
   "metadata": {},
   "outputs": [
    {
     "name": "stdout",
     "output_type": "stream",
     "text": [
      "df_tbl xl_tbl.xlsx xl_tbl xl_tbl xl_tbl\n"
     ]
    }
   ],
   "source": [
    "df,xl_file,wb,ws,tbl= bld_base_name_fmly(\"tbl\")   # this runs  base_name = \"tbl\"\n",
    "print(df,xl_file,wb,ws,tbl)                       # names of base_name family of variables\n"
   ]
  },
  {
   "cell_type": "code",
   "execution_count": 3,
   "id": "bcc75ca0-6442-4127-9771-b88f7d03efa8",
   "metadata": {},
   "outputs": [
    {
     "name": "stdout",
     "output_type": "stream",
     "text": [
      "xl_tbl.xlsx\n"
     ]
    }
   ],
   "source": [
    "print(xl_file)\n",
    "dfx = pd.read_excel(xl_file)  # or the exact name of your sheet  , sheet_name=ws\n",
    "#print(dfx)"
   ]
  },
  {
   "cell_type": "code",
   "execution_count": 8,
   "id": "0a3cca48-d86e-41e3-89c9-dd24f0b7bc9b",
   "metadata": {},
   "outputs": [
    {
     "name": "stdout",
     "output_type": "stream",
     "text": [
      "     date_value  7. TBW (Total Body Water)   ICW   ECW\n",
      "0         45380                      133.2  79.6  53.6\n",
      "1         45381                      131.4  78.7  52.7\n",
      "2         45382                      132.3  79.4  52.9\n",
      "3         45383                      129.4  77.8  51.6\n",
      "4         45384                      132.5  79.6  52.9\n",
      "..          ...                        ...   ...   ...\n",
      "462       45854                      132.7  78.3  54.5\n",
      "463       45855                      131.6  77.8  53.8\n",
      "464       45856                      129.6  76.7  52.9\n",
      "465       45857                      133.6  79.1  54.5\n",
      "466       45858                      132.5  78.3  54.2\n",
      "\n",
      "[467 rows x 4 columns]\n"
     ]
    }
   ],
   "source": [
    "df_tbl = dfx\n",
    "print(df_tbl.iloc[:, [0, 3, 4, 5]])\n"
   ]
  },
  {
   "cell_type": "markdown",
   "id": "f2232b0b-ea53-469d-9838-d7bb5aa2c94f",
   "metadata": {},
   "source": [
    "# the cells above need to be merge to 1def function(base_name)"
   ]
  },
  {
   "cell_type": "code",
   "execution_count": null,
   "id": "a3fd9f54-8fcc-4292-843c-344672dee8c0",
   "metadata": {},
   "outputs": [],
   "source": [
    "import pandas as pd\n",
    "\n",
    "xl_file = \"xl_tbl.xlsx\"  # make sure the filename extension is correct\n",
    "#df_tbl = pd.read_excel(xl_file)\n",
    "df_tbl = pd.read_excel(xl_file, sheet_name=ws)  # or the exact name of your sheet\n"
   ]
  },
  {
   "cell_type": "code",
   "execution_count": null,
   "id": "b0f62a92-ba21-4b89-a09d-7e3db62a045e",
   "metadata": {},
   "outputs": [],
   "source": [
    "print(df_tbl.iloc[0,2])"
   ]
  },
  {
   "cell_type": "code",
   "execution_count": null,
   "id": "3efe341c-ac37-4ecc-b16a-f4fc4d972fb9",
   "metadata": {},
   "outputs": [],
   "source": [
    "df_tbl.iloc[0,2] = 260"
   ]
  },
  {
   "cell_type": "code",
   "execution_count": null,
   "id": "dad840c0-219f-4bcc-9c32-9743224e8da5",
   "metadata": {},
   "outputs": [],
   "source": [
    "print(df_tbl.iloc[0,2])"
   ]
  },
  {
   "cell_type": "code",
   "execution_count": null,
   "id": "230bba96-1925-4765-8ed6-38256cd2aed6",
   "metadata": {},
   "outputs": [],
   "source": [
    "name = dt\n",
    "value = 42  # your computed value\n",
    "\n",
    "dynamic_vars = {}\n",
    "dynamic_vars[name] = value\n",
    "\n",
    "# Access it later:\n",
    "print(dynamic_vars[\"button\"])  # prints: 42\n",
    "#print(dynamic_vars(name))  # prints: 42\n"
   ]
  },
  {
   "cell_type": "code",
   "execution_count": null,
   "id": "20c51210-b892-4ab8-881d-ab9bbb4ceaa6",
   "metadata": {},
   "outputs": [],
   "source": [
    "name = \"button\"\n",
    "value = 42  # your computed value\n",
    "\n",
    "dynamic_vars = {}\n",
    "dynamic_vars[name] = value\n",
    "\n",
    "# Access it later:\n",
    "print(dynamic_vars[\"button\"])  # prints: 42\n",
    "#print(dynamic_vars(name))  # prints: 42\n"
   ]
  },
  {
   "cell_type": "code",
   "execution_count": null,
   "id": "34de462c-c7b6-4009-93d4-b8fdb23d2051",
   "metadata": {},
   "outputs": [],
   "source": []
  },
  {
   "cell_type": "code",
   "execution_count": null,
   "id": "2a55a314-9572-4d3c-9e6e-176dbf2a56c7",
   "metadata": {},
   "outputs": [],
   "source": [
    "df_tbl.to_excel(xl_file, index=False)\n"
   ]
  }
 ],
 "metadata": {
  "kernelspec": {
   "display_name": "Python (scu)",
   "language": "python",
   "name": "scu"
  },
  "language_info": {
   "codemirror_mode": {
    "name": "ipython",
    "version": 3
   },
   "file_extension": ".py",
   "mimetype": "text/x-python",
   "name": "python",
   "nbconvert_exporter": "python",
   "pygments_lexer": "ipython3",
   "version": "3.11.13"
  }
 },
 "nbformat": 4,
 "nbformat_minor": 5
}
