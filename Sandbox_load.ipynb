{
 "cells": [
  {
   "cell_type": "markdown",
   "id": "a2deddac-76dd-42f0-9b09-cab96c665e40",
   "metadata": {},
   "source": [
    "# ***Proven Load functions***"
   ]
  },
  {
   "cell_type": "code",
   "execution_count": 6,
   "id": "95fca41f-cad2-4b2f-9aa3-af687affc951",
   "metadata": {},
   "outputs": [
    {
     "name": "stdout",
     "output_type": "stream",
     "text": [
      "Globals Imported\n"
     ]
    }
   ],
   "source": [
    "############## DEF FUNCTIONS SAVED AS A PY MODULE ##################\n",
    "import pandas as pd\n",
    "from collections import defaultdict\n",
    "from openpyxl import load_workbook, Workbook\n",
    "from openpyxl.worksheet.table import Table, TableStyleInfo\n",
    "from openpyxl.utils import get_column_letter\n",
    "##################### this init works \n",
    "print(\"Globals Imported\")"
   ]
  },
  {
   "cell_type": "code",
   "execution_count": 8,
   "id": "9bdea2b1-fbb0-4c04-b6a7-03e990ac5913",
   "metadata": {},
   "outputs": [
    {
     "ename": "SyntaxError",
     "evalue": "invalid syntax (3964888549.py, line 18)",
     "output_type": "error",
     "traceback": [
      "  \u001b[36mCell\u001b[39m\u001b[36m \u001b[39m\u001b[32mIn[8]\u001b[39m\u001b[32m, line 18\u001b[39m\n\u001b[31m    \u001b[39m\u001b[31m***_________ code above _________________***\u001b[39m\n    ^\n\u001b[31mSyntaxError\u001b[39m\u001b[31m:\u001b[39m invalid syntax\n"
     ]
    }
   ],
   "source": [
    "# init and using BNdict\n",
    "#---Example and pattern -----------\n",
    "bn = \"dt_clms_log\"\n",
    "dt_clms = \"blue_drnk\"\n",
    "nm = \"nm\"\n",
    "rslt =\"rslt\"\n",
    "\n",
    "BNdict[bn][dt_clms][nm]=\"df_tbl\"    \n",
    "BNdict[bn][dt_clms][rslt]=[1,5,3,4,9]\n",
    "print(BNdict[bn][dt_clms][nm])\n",
    "cname = BNdict[bn][dt_clms][nm]\n",
    "print(cname)\n",
    "print(BNdict[bn][dt_clms][rslt])\n",
    "result=BNdict[bn][dt_clms][rslt]\n",
    "print(result)\n",
    "\n",
    "\n",
    "***_________ code above _________________***"
   ]
  },
  {
   "cell_type": "markdown",
   "id": "7f90ba9a-d40a-459e-99a9-0bfe96022e4b",
   "metadata": {},
   "source": [
    "# ***\"base_name\"***  *Dictionary System*"
   ]
  },
  {
   "cell_type": "markdown",
   "id": "d634066f-af84-4aea-8b51-b931c13a7c1e",
   "metadata": {
    "jp-MarkdownHeadingCollapsed": true
   },
   "source": [
    "## Strategy"
   ]
  },
  {
   "cell_type": "markdown",
   "id": "a8236a9f-24c2-4c35-8504-41e749fbaa81",
   "metadata": {
    "jp-MarkdownHeadingCollapsed": true
   },
   "source": [
    "### **base_names[bn]** >>> *start a \"bn\" by creating unique Excel wb*"
   ]
  },
  {
   "cell_type": "markdown",
   "id": "485991bb-756c-45f0-9593-919445139d85",
   "metadata": {},
   "source": [
    "1. ***dt_clms*** = ds\n",
    "***dt_clms_dict*** = key \"nm\" = ***dt_clms.name*** & key \"list\" = ***dt_list*** *[list of measurements synced to each DATE_V]*\n",
    "2. ***BNinbody*** is a df with rows = DATE_V.list and with collumn.names = dt_clms_dict[list].nm & \n",
    "rows a DATE_ many key 2 = ***dt_clms_dict*** *each with a single DATE_V col/index key* \n",
    "3. \n",
    "4. raw_dt [multiple df[DATE_V,str]\n",
    "5. \n"
   ]
  },
  {
   "cell_type": "markdown",
   "id": "efcbeca1-f915-42db-9911-e6fd246ed290",
   "metadata": {},
   "source": [
    "1. Each data item haa [name,row_index,col_index :,:,str_value]\n",
    "2. The value is stored in an excel table with a name = base_name, at row_index,row_index\n",
    "3. Each set of data is stored in and  ***single tbl, single \"ws\", simple \"wb\" with a unique ***\"base_name\"***\n",
    "4. All base_name data sets are each loaded into a dictionary named ***\"BNdict\"***\n",
    "5. An all \"null\" dict with the \"shape\" and \"keys\" of ***\"BNdict\"*** named ***\"BNdictT\"***\n",
    "6. ***Strategy:*** update ***BNdictT*** then on approval, transfer changes to ***BNdict*** then on completion, store data in ***Excel***"
   ]
  },
  {
   "cell_type": "markdown",
   "id": "1cadf25e-1535-465a-b2c9-c8b70dc9e25d",
   "metadata": {},
   "source": [
    "## Structure and Key names"
   ]
  },
  {
   "cell_type": "markdown",
   "id": "a5f170b8-1286-4a13-b6e9-07070d1402fe",
   "metadata": {},
   "source": [
    "### Structure"
   ]
  },
  {
   "cell_type": "markdown",
   "id": "8cee0b44-8a55-49df-bac2-5184e974a82b",
   "metadata": {},
   "source": [
    "***BNdict*** KEY1 ***bn*** KEY2  ***df_clms*** key3 ***nm/val*** key4***str[nm/val]*** [all str]\n",
    "\n",
    "***BNdictT*** KEY1 ***bn*** KEY2  ***df_clms*** key3 ***nm/val*** key4***str[nm/val]*** [all str]"
   ]
  },
  {
   "cell_type": "markdown",
   "id": "f86532b5-593f-499e-bc28-c7a3adc7e425",
   "metadata": {},
   "source": [
    "### ***Keys***"
   ]
  },
  {
   "cell_type": "markdown",
   "id": "22620bc7-04c9-4f35-ad6b-a362399588cd",
   "metadata": {},
   "source": [
    "1. ***bn***  abreviation for ***\"the \"base_name\"\"***\n",
    "2.  ***df_clms***  abreviation for ***\"the \"df_clms\"\"***\n",
    "3.   ***nm/val***  abreviation for ***\"the choice \"nm or value\"***\n",
    "4.    ***str***  abreviation for ***\"str of the nm or value\"***"
   ]
  },
  {
   "cell_type": "markdown",
   "id": "b526f423-a4a5-43cc-ac3c-c295880caa3a",
   "metadata": {},
   "source": [
    "## Functions:"
   ]
  },
  {
   "cell_type": "markdown",
   "id": "57887ce9-cd2f-4749-b18d-77b2c4014caa",
   "metadata": {},
   "source": [
    "***load_BNdict(base_line):*** *Is the function that loads ***BNdict*** from ***Excel****\n",
    "\n",
    "***Update_BNdictT(base_line):*** *Is the function that updates ***BNdict*** via ***input or processing***\n",
    "\n",
    "***Xfer_BNdictT(base_line):*** *Is the function that xfer changes to ***BNdict*** from ***BNdictT****\n",
    "\n",
    "***Write_BNdict(base_line):*** *Is the function that writes updated ***BNdict*** to Excel*"
   ]
  },
  {
   "cell_type": "markdown",
   "id": "c80bf7d0-2ba0-4ae1-a664-07eb867f1eb5",
   "metadata": {},
   "source": [
    "## Init:"
   ]
  },
  {
   "cell_type": "markdown",
   "id": "428d7c9c-b23e-4376-a519-7b8cf9e4afa7",
   "metadata": {},
   "source": [
    "***BNdict_init***  [runs before first time the ***def load_BNdict():***_ is run]\n",
    "\n",
    "***BNdictT_init***  [runs before first time the ***def load_BNdictT():***_ is run]"
   ]
  },
  {
   "cell_type": "markdown",
   "id": "4a4bfe3a-b1e5-466d-84a7-d71b1477577e",
   "metadata": {},
   "source": [
    "## Notes:"
   ]
  },
  {
   "cell_type": "markdown",
   "id": "514bd600-49c4-4f84-ad1c-06fcd95d7beb",
   "metadata": {},
   "source": [
    "***Notes***\n",
    "1. Receives inputs and calculations when they are generated\n",
    "----------------- loads changes to ***BNdict*** at the end of the session"
   ]
  },
  {
   "cell_type": "markdown",
   "id": "66220134-c324-41c7-b1d3-a0e9bc05985c",
   "metadata": {},
   "source": [
    "## Example Using BNdict"
   ]
  },
  {
   "attachments": {},
   "cell_type": "markdown",
   "id": "b5d837a4-68c5-400c-8661-1372c686ba1f",
   "metadata": {},
   "source": [
    "1. ***bn1=dt_clms_log*** # must be a string and is the name of the Excel file for this base_name\n",
    "2. ***blue_drnk***       # column head of blue_drnk history\n",
    "3. ***functon_name = BNdict[bn1][dt_clms1][nm][\"df_tbl\"]***        # dt_clmns_head for dt_clmns blue_drnk column\n",
    "4. ***functon_result = BNdict[bn1][dt_clms1][rslt][\"df_tbl\"]***    # list of data in dt_clmns blue_drnk column"
   ]
  },
  {
   "cell_type": "markdown",
   "id": "df6696bc-a586-4ba2-b852-84aa3bfba75a",
   "metadata": {
    "jp-MarkdownHeadingCollapsed": true
   },
   "source": [
    "## Building init"
   ]
  },
  {
   "cell_type": "code",
   "execution_count": null,
   "id": "f6c1b19f-c7d9-4bd5-8302-7d3b4f36740a",
   "metadata": {},
   "outputs": [],
   "source": []
  },
  {
   "cell_type": "markdown",
   "id": "b1d82406-9164-45f3-9b9a-10aca59acf3c",
   "metadata": {
    "jp-MarkdownHeadingCollapsed": true
   },
   "source": [
    "# MISC  trials & raw copilot loads for later"
   ]
  },
  {
   "cell_type": "markdown",
   "id": "a2276b3f-d474-45e6-8715-7dddb61d6af1",
   "metadata": {
    "jp-MarkdownHeadingCollapsed": true
   },
   "source": [
    "## ***merging files with missing dates**"
   ]
  },
  {
   "cell_type": "markdown",
   "id": "48341930-c244-4980-b675-191cbe107758",
   "metadata": {},
   "source": [
    "https://copilot.microsoft.com/shares/cD89B4MhTpmkH69NmMBgU\n"
   ]
  },
  {
   "cell_type": "code",
   "execution_count": null,
   "id": "5495b817-db73-4376-a59d-c642fc986147",
   "metadata": {},
   "outputs": [],
   "source": [
    "def Load_BNdict(base_name):         # load the BNdict for the key1 = basename                           \n",
    "    BNdict[base_name][df_nm] = \"xxx\"#\"df_\" #+ base_name\n",
    "    print(BNdict[base_name][df_nm])\n",
    "    BNdict[base_name][xl_file_nm] = \"xl_\" + base_name +\".xlxs\"\n",
    "    BNdict[base_name][xl_tbl_nm] = \"xl_\" + base_name\n",
    "    print(BNdict[base_name][xl_file_nm] ) \n",
    "    dfx = pd.read_excel(xl_file_nm)  # or the exact name of your sheet  , sheet_name=ws\n",
    "    print(dfx)                                       # computed df from data\n",
    "    return dfx\n",
    "    "
   ]
  },
  {
   "cell_type": "code",
   "execution_count": null,
   "id": "28bb862d-1270-4627-bca4-90b77f3f7d91",
   "metadata": {},
   "outputs": [],
   "source": [
    "\n",
    "Load_BNdict(\"tbl\")\n"
   ]
  },
  {
   "cell_type": "code",
   "execution_count": null,
   "id": "a76d8096-814c-4cf6-b963-eeef2c903258",
   "metadata": {},
   "outputs": [],
   "source": []
  },
  {
   "cell_type": "code",
   "execution_count": null,
   "id": "950f91de-a04d-4f56-816a-cb2c17f1de5a",
   "metadata": {},
   "outputs": [],
   "source": [
    "base_name = \"tbl\"\n",
    "\n",
    "print(base_name)\n",
    "BNdict[base_name][df_nm] = \"xxx\""
   ]
  },
  {
   "cell_type": "code",
   "execution_count": null,
   "id": "1895ac0a-2654-46a1-b9ce-e2da3ac3e0fc",
   "metadata": {},
   "outputs": [],
   "source": []
  },
  {
   "cell_type": "code",
   "execution_count": null,
   "id": "2413e981-d8f5-46ea-8d06-8a0ed34cd2db",
   "metadata": {},
   "outputs": [],
   "source": [
    "base_name = \"tbl\"                               # example for this run\n",
    "def bld_base_name_fmly(base_name):                              \n",
    "    # building_BN variable names and dataframes fro excel tbl\n",
    "    dfnm = \"df_\" + base_name                    # df name for the base_name default is df_tbl\n",
    "    xl_file = str( \"xl_\" + base_name +\".xlxs\")  # df name for the xl_file default is xl_tbl.xlxs\n",
    "    wb = \"xl_\" + base_name                      # wb for the base_name default is xl_tbl\n",
    "    ws = \"xl_\" + base_name                      # ws for the base_name default is xl_tbl\n",
    "    tbl = \"xl_\" + base_name                     # tbl in xl for the base_name default is xl_tbl\n",
    "    return dfnm,xl_file,wb,ws,tbl               # returns all the names for the base_name default is xl_tbl\n",
    "# def for names computed for base_name\n",
    "\n",
    "dfnm,xl_file,wb,ws,tbl= bld_base_name_fmly(base_name)   # this runs  example base_name = \"tbl\"\n",
    "print(\"dfrm,xl_file,wb,ws,tbl,df = \",dfnm,xl_file,wb,ws,tbl) # keys for the names of base_name family of variables\n",
    "\n",
    "# def function for name computation ran\n",
    "print(\"xl_file =\",xl_file)                                    # name of the XL file where data is stored\n",
    "# print(\"name =\",df) \n",
    "dfx = pd.read_excel(xl_file)                      # assumes a 1 sheet , 1 table wb \n",
    "#print(dfx)                                       # computed df from data\n",
    "\n",
    "df_tbl = dfx                                      # df name changed to standard naming policy\n",
    "                   \n",
    "print(\"df_tbl.iloc[:, [0, 3, 4, 5]] =\\n \",df_tbl.iloc[:, [0, 3, 4, 5]])               # verification that std named df works"
   ]
  },
  {
   "cell_type": "code",
   "execution_count": null,
   "id": "eee0796d-8dd2-4603-82c3-49c19cc05bbe",
   "metadata": {},
   "outputs": [],
   "source": [
    " \n",
    "\n",
    "    \n",
    "    return name,xl_file,wb,ws,tbl\n",
    "# def for names computed for base_name\n",
    "\n",
    "name,xl_file,wb,ws,tbl= bld_base_name_fmly(\"tbl\")   # this runs  base_name = \"tbl\"\n",
    "print(\"name,xl_file,wb,ws,tbl,df = \",xl_file,wb,ws,tbl)                       # names of base_name family of variables\n",
    "\n",
    "# def function for name computation ran\n",
    "print(\"xl_file =\",xl_file)                                    # name of the XL file where data is stored\n",
    "print(\"name =\",name) \n",
    "\n",
    "#print(dfx)                                       # computed df from data\n",
    "\n",
    "df_tbl = dfx                                      # df name changed to standard naming policy\n",
    "                   \n",
    "print(\"df_tbl.iloc[:, [0, 3, 4, 5]] =\\n \",df_tbl.iloc[:, [0, 3, 4, 5]])               # verification that std named df works"
   ]
  },
  {
   "cell_type": "code",
   "execution_count": null,
   "id": "c16ab513-4100-4fc0-b764-27b3f9c953ac",
   "metadata": {},
   "outputs": [],
   "source": []
  },
  {
   "cell_type": "code",
   "execution_count": null,
   "id": "a3fd9f54-8fcc-4292-843c-344672dee8c0",
   "metadata": {},
   "outputs": [],
   "source": [
    "import pandas as pd\n",
    "\n",
    "xl_file = \"xl_tbl.xlsx\"  # make sure the filename extension is correct\n",
    "#df_tbl = pd.read_excel(xl_file)\n",
    "df_tbl = pd.read_excel(xl_file, sheet_name=ws)  # or the exact name of your sheet\n"
   ]
  },
  {
   "cell_type": "code",
   "execution_count": null,
   "id": "b0f62a92-ba21-4b89-a09d-7e3db62a045e",
   "metadata": {},
   "outputs": [],
   "source": [
    "print(df_tbl.iloc[0,2])"
   ]
  },
  {
   "cell_type": "code",
   "execution_count": null,
   "id": "3efe341c-ac37-4ecc-b16a-f4fc4d972fb9",
   "metadata": {},
   "outputs": [],
   "source": [
    "df_tbl.iloc[0,2] = 260"
   ]
  },
  {
   "cell_type": "code",
   "execution_count": null,
   "id": "dad840c0-219f-4bcc-9c32-9743224e8da5",
   "metadata": {},
   "outputs": [],
   "source": [
    "print(df_tbl.iloc[0,2])"
   ]
  },
  {
   "cell_type": "code",
   "execution_count": null,
   "id": "230bba96-1925-4765-8ed6-38256cd2aed6",
   "metadata": {},
   "outputs": [],
   "source": [
    "name = dt\n",
    "value = 42  # your computed value\n",
    "\n",
    "dynamic_vars = {}\n",
    "dynamic_vars[name] = value\n",
    "\n",
    "# Access it later:\n",
    "print(dynamic_vars[\"button\"])  # prints: 42\n",
    "#print(dynamic_vars(name))  # prints: 42\n"
   ]
  },
  {
   "cell_type": "code",
   "execution_count": null,
   "id": "20c51210-b892-4ab8-881d-ab9bbb4ceaa6",
   "metadata": {},
   "outputs": [],
   "source": [
    "name = \"button\"\n",
    "value = 42  # your computed value\n",
    "\n",
    "dynamic_vars = {}\n",
    "dynamic_vars[name] = value\n",
    "\n",
    "# Access it later:\n",
    "print(dynamic_vars[\"button\"])  # prints: 42\n",
    "#print(dynamic_vars(name))  # prints: 42\n"
   ]
  },
  {
   "cell_type": "code",
   "execution_count": null,
   "id": "34de462c-c7b6-4009-93d4-b8fdb23d2051",
   "metadata": {},
   "outputs": [],
   "source": []
  },
  {
   "cell_type": "code",
   "execution_count": null,
   "id": "2a55a314-9572-4d3c-9e6e-176dbf2a56c7",
   "metadata": {},
   "outputs": [],
   "source": [
    "df_tbl.to_excel(xl_file, index=False)\n"
   ]
  }
 ],
 "metadata": {
  "kernelspec": {
   "display_name": "Python (scu)",
   "language": "python",
   "name": "scu"
  },
  "language_info": {
   "codemirror_mode": {
    "name": "ipython",
    "version": 3
   },
   "file_extension": ".py",
   "mimetype": "text/x-python",
   "name": "python",
   "nbconvert_exporter": "python",
   "pygments_lexer": "ipython3",
   "version": "3.11.13"
  }
 },
 "nbformat": 4,
 "nbformat_minor": 5
}
