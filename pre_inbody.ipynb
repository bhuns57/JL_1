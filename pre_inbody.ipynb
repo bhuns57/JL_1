{
 "cells": [
  {
   "cell_type": "code",
   "execution_count": 1,
   "id": "0e1c6941-4bbc-421d-bcf4-ee3bb2055a94",
   "metadata": {},
   "outputs": [],
   "source": [
    "%run ./sys_funcs.py              # loads all the def functions in ss_funcs.py into memory\n",
    "import sys_funcs                 # gives access to these def function digitalform that are in memory\n",
    "from pathlib import Path\n",
    "import csv\n",
    "import pandas as pd\n",
    "import numpy as np\n",
    "import tkinter as tk\n",
    "import pickle\n",
    "from pathlib import Path\n",
    "import csv\n",
    "import os\n",
    "import sys\n",
    "from sys_funcs import read_csv_to_array\n",
    "from sys_funcs import clean_wsl_path\n",
    "from sys_funcs import array_to_dt_row_dict\n",
    "from sys_funcs import make_blnk_update_row_dict\n",
    "from sys_funcs import transpose_csv_to_col_dict\n",
    "#from sys_funcs import update_values_with_config, get_update_result\n",
    "from sys_funcs import transfer_updates\n",
    "from sys_funcs import get_dtv_range\n",
    "from sys_funcs import universal_import"
   ]
  },
  {
   "cell_type": "code",
   "execution_count": 2,
   "id": "b75fb136-0159-498d-baae-0a3ce14c358f",
   "metadata": {},
   "outputs": [
    {
     "name": "stdout",
     "output_type": "stream",
     "text": [
      "✅ Loaded 091725-20250922225826.csv with ISO-8859-1\n",
      "✅ Loaded 091725-1_20251002224015.csv with ISO-8859-1\n",
      "✅ Loaded 091725-1_20251002065435.csv with ISO-8859-1\n",
      "✅ Loaded 091725-1_20250923075549.csv with ISO-8859-1\n",
      "✅ Loaded 091725-1_20251003083258.csv with ISO-8859-1\n",
      "✅ Loaded 091725-1_20250924080305.csv with ISO-8859-1\n",
      "✅ Loaded 091725-1_20250927081713.csv with ISO-8859-1\n",
      "✅ Loaded 091725-1_20251006083510.csv with ISO-8859-1\n",
      "✅ Loaded 091725-1_20250926064349.csv with ISO-8859-1\n",
      "✅ Loaded 091725-1_20250918224425.csv with ISO-8859-1\n",
      "✅ Loaded 091725-1_20250925074906.csv with ISO-8859-1\n",
      "✅ Loaded 091725-1_20251002001738.csv with ISO-8859-1\n",
      "✅ Loaded 091725-1_20251005220517.csv with ISO-8859-1\n",
      "✅ Loaded 091725-20251004225918.csv with ISO-8859-1\n",
      "✅ Loaded 091725-1_20250929081741.csv with ISO-8859-1\n",
      "✅ Loaded 091725-1_20251003224158.csv with ISO-8859-1\n",
      "✅ Loaded 091725-_20250920074042.csv with ISO-8859-1\n",
      "✅ Loaded 091725-1_20251001075307.csv with ISO-8859-1\n",
      "✅ Loaded 091725-1_20251005071928.csv with ISO-8859-1\n",
      "✅ Loaded 091725-1_20250918074512.csv with ISO-8859-1\n",
      "✅ Loaded 091725-_20250917194220.csv with ISO-8859-1\n",
      "✅ Loaded 091725-1_20250928235640.csv with ISO-8859-1\n",
      "✅ Loaded 091725-1_20250918080917.csv with ISO-8859-1\n",
      "✅ Loaded 091725-20250917223242.csv with ISO-8859-1\n",
      "✅ Loaded 091725-1_20250930065147.csv with ISO-8859-1\n",
      "✅ Loaded 091725-1_20250923214603.csv with ISO-8859-1\n",
      "✅ Loaded 091725-1_20250922081410.csv with ISO-8859-1\n",
      "✅ Loaded 091725-1_20250919065043.csv with ISO-8859-1\n",
      "✅ Loaded 091725-20251006020727.csv with ISO-8859-1\n",
      "✅ Loaded 091725-1_20250928083406.csv with ISO-8859-1\n",
      "✅ [ib970] Final DataFrame: 35 rows from 30 files.\n",
      "💾 Saved to pickle: /home/bhuns/JL_1/ib970.pkl\n"
     ]
    }
   ],
   "source": [
    "ib970 = universal_import(\n",
    "    folder_path=\"/home/bhuns/JL_1/ib97\",\n",
    "    pattern=\"091725*\",\n",
    "    #expected_columns=250,\n",
    "    df_name=\"ib970\"\n",
    ")\n",
    "\n"
   ]
  },
  {
   "cell_type": "code",
   "execution_count": null,
   "id": "0c426ce9-a9e4-4bfd-bbdd-0597d66ef85e",
   "metadata": {},
   "outputs": [],
   "source": []
  },
  {
   "cell_type": "code",
   "execution_count": 3,
   "id": "d50be7e3-f435-45a0-a9be-6c18b1351a85",
   "metadata": {},
   "outputs": [
    {
     "name": "stdout",
     "output_type": "stream",
     "text": [
      "Index(['1. Name', '2. ID', '3. Height', '4. Date of Birth', '5. Gender',\n",
      "       '6. Age', '7. Mobile Number', '8. Phone Number', '9. Zip Code',\n",
      "       '10. Address',\n",
      "       ...\n",
      "       '246. TBW/WT_Z Score', '247. SMI(SMM/Wt)_T score',\n",
      "       '248. SMI(SMM/Wt)_Z score', '249. ECM/BCM_T Score',\n",
      "       '250. ECM/BCM Z Score', 'Unnamed: 250', 'source_file', 'encoding_used',\n",
      "       '152 50KH ', '-33.5'],\n",
      "      dtype='object', length=255)\n"
     ]
    }
   ],
   "source": [
    "print(ib970.columns)"
   ]
  },
  {
   "cell_type": "code",
   "execution_count": 4,
   "id": "db315f7f-532b-413a-9cca-dc913fb84124",
   "metadata": {},
   "outputs": [
    {
     "name": "stdout",
     "output_type": "stream",
     "text": [
      "['113. ECW/TBW', '114. ECW/TBW of Right Arm', '115. ECW/TBW of Left Arm', '116. ECW/TBW of Trunk', '117. ECW/TBW of Right Leg', '118. ECW/TBW of Left Leg', '178. Whole Body ECW/TBW_T score', '179. Whole Body ECW/TBW_Z score']\n"
     ]
    }
   ],
   "source": [
    "ewc_cols = [col for col in ib970.columns if \"ECW/TBW\" in col]\n",
    "print(ewc_cols)\n"
   ]
  },
  {
   "cell_type": "code",
   "execution_count": 5,
   "id": "5c71b49c-b872-4614-84a6-53f3a9e0065a",
   "metadata": {},
   "outputs": [
    {
     "name": "stdout",
     "output_type": "stream",
     "text": [
      "0     0.413\n",
      "1     0.409\n",
      "2     0.406\n",
      "3     0.411\n",
      "4     0.405\n",
      "5     0.409\n",
      "6     0.408\n",
      "7     0.406\n",
      "8     0.408\n",
      "9     0.414\n",
      "10    0.409\n",
      "11    0.411\n",
      "12    0.409\n",
      "13    0.409\n",
      "14    0.407\n",
      "15    0.411\n",
      "16    0.409\n",
      "17    0.408\n",
      "18    0.405\n",
      "19    0.410\n",
      "20    0.409\n",
      "21    0.411\n",
      "22    0.409\n",
      "23    0.409\n",
      "24    0.409\n",
      "25    0.413\n",
      "26    0.409\n",
      "27    0.411\n",
      "28    0.414\n",
      "29    0.406\n",
      "30    0.413\n",
      "31    0.409\n",
      "32    0.409\n",
      "33    0.406\n",
      "34    0.407\n",
      "Name: 116. ECW/TBW of Trunk, dtype: float64\n"
     ]
    }
   ],
   "source": [
    "print(ib970[\"116. ECW/TBW of Trunk\"])\n",
    "\n"
   ]
  },
  {
   "cell_type": "code",
   "execution_count": null,
   "id": "4073315a-765e-4da7-9692-1f12477c9e29",
   "metadata": {},
   "outputs": [],
   "source": []
  }
 ],
 "metadata": {
  "kernelspec": {
   "display_name": "Python (scu)",
   "language": "python",
   "name": "scu"
  },
  "language_info": {
   "codemirror_mode": {
    "name": "ipython",
    "version": 3
   },
   "file_extension": ".py",
   "mimetype": "text/x-python",
   "name": "python",
   "nbconvert_exporter": "python",
   "pygments_lexer": "ipython3",
   "version": "3.11.13"
  }
 },
 "nbformat": 4,
 "nbformat_minor": 5
}
