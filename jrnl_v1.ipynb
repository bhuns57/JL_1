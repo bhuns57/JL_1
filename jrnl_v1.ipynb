{
 "cells": [
  {
   "cell_type": "code",
   "execution_count": 1,
   "id": "95fca41f-cad2-4b2f-9aa3-af687affc951",
   "metadata": {},
   "outputs": [
    {
     "name": "stdout",
     "output_type": "stream",
     "text": [
      "Globals Imported\n"
     ]
    }
   ],
   "source": [
    "############## DEF FUNCTIONS SAVED AS A PY MODULE ##################\n",
    "import pandas as pd\n",
    "from collections import defaultdict\n",
    "from openpyxl import load_workbook, Workbook\n",
    "from openpyxl.worksheet.table import Table, TableStyleInfo\n",
    "from openpyxl.utils import get_column_letter\n",
    "##################### this init works \n",
    "print(\"Globals Imported\")"
   ]
  },
  {
   "cell_type": "markdown",
   "id": "7c4aaedf-4a45-4d96-9fb4-133cfd23212d",
   "metadata": {},
   "source": [
    "# Utilities "
   ]
  },
  {
   "cell_type": "markdown",
   "id": "dcb2a1ae-4788-401f-82e5-7ee0ef534cfc",
   "metadata": {},
   "source": [
    "## Create a new excel file in repo"
   ]
  },
  {
   "cell_type": "markdown",
   "id": "eaa44082-1aaf-4064-bb4a-d39780bb1b68",
   "metadata": {},
   "source": [
    "## ***Windows path versus = path in WSL***\n",
    "\n",
    "**Path in windows explorer**\n",
    "path = r\"\\\\wsl.localhost\\Ubuntu\\home\\bill\\project\\data.csv\"\n",
    "\n",
    "\n",
    "the path in WSL\n",
    "path = \"/home/bill/project/data.csv\"\n"
   ]
  },
  {
   "cell_type": "code",
   "execution_count": null,
   "id": "aed40ee5-e838-4080-95d0-2833d6081785",
   "metadata": {},
   "outputs": [],
   "source": [
    "# NOT WORKING  ============= create a file \n",
    "folder_path = \"/home/bhuns/JL_1\"\n",
    "create_xlfile(folder_path, \"new_file\")\n",
    "print(\"created file\")"
   ]
  },
  {
   "cell_type": "code",
   "execution_count": null,
   "id": "7526ee3f-235c-44f0-a776-caaecb35dfd4",
   "metadata": {},
   "outputs": [],
   "source": [
    "# ok =============open an xl file\n",
    "df = pd.read_excel(\"/home/bhuns/JL_1/new_file.xlsx\")\n",
    "print(df)"
   ]
  },
  {
   "cell_type": "code",
   "execution_count": 6,
   "id": "b2c778f8-aa4f-4d6b-a9ec-02dfb6ea3768",
   "metadata": {},
   "outputs": [
    {
     "data": {
      "text/plain": [
       "CompletedProcess(args=['explorer.exe', '\\\\\\\\wsl.localhost\\\\Ubuntu\\\\home\\\\bhuns\\\\JL_1\\\\new_file.xlsx'], returncode=1)"
      ]
     },
     "execution_count": 6,
     "metadata": {},
     "output_type": "execute_result"
    }
   ],
   "source": [
    "# ok ================== Open Excel file for value change EXIT XL TO RETURN: NOTE ANY EQUATION AND STYLE CHANGES ARE INGNORED \n",
    "# Your Excel file inside WSL\n",
    "wsl_path = \"/home/bhuns/JL_1/new_file.xlsx\"  # Update with your actual file path\n",
    "\n",
    "# Convert WSL path to Windows path\n",
    "windows_path = subprocess.check_output([\"wslpath\", \"-w\", wsl_path]).decode().strip()\n",
    "\n",
    "# Open the file with Windows default associated app (usually Excel)\n",
    "subprocess.run([\"explorer.exe\", windows_path])\n"
   ]
  },
  {
   "cell_type": "markdown",
   "id": "5005e243-186c-40a2-ab4f-8b00c6ed1331",
   "metadata": {},
   "source": [
    "### ***example using the different paths\n",
    "\n",
    "From Windows to WSL → use wslpath:\n",
    "\n",
    "bash\n",
    "wslpath '\\\\wsl.localhost\\Ubuntu\\home\\bhuns\\JL_1'\n",
    "Outputs: /home/bhuns/JL_1\n",
    "\n",
    "From WSL to Windows (Explorer-style):\n",
    "\n",
    "bash\n",
    "wslpath -w /home/bhuns/JL_1\n",
    "Outputs something like: \\\\wsl.localhost\\Ubuntu\\home\\bhuns\\JL_1\n",
    "\n",
    "\n",
    "\n"
   ]
  },
  {
   "cell_type": "code",
   "execution_count": null,
   "id": "60b619cd-4586-48de-9947-5ddd91ee226e",
   "metadata": {
    "jupyter": {
     "source_hidden": true
    }
   },
   "outputs": [],
   "source": [
    "# NOT WORKING  =============  STUDY OF WSL Windows path problems\n",
    "\n",
    "# Sample data\n",
    "df = pd.DataFrame({\n",
    "    \"Name\": [\"Alice\", \"Bob\", \"Charlie\"],\n",
    "    \"Score\": [88, 92, 85]\n",
    "})\n",
    "folder_path = \"/home/bhuns/JL_1\"  \n",
    "\n",
    "# Save as Excel file\n",
    "output_path = \"/home/bill/projects/report.xlsx\"  # Change this to your WSL repo path\n",
    "df.to_excel(output_path, index=False)\n"
   ]
  },
  {
   "cell_type": "code",
   "execution_count": null,
   "id": "57dc1c30-9a90-49ec-a9ea-0b4af4bcafe6",
   "metadata": {},
   "outputs": [],
   "source": [
    "folder_path = r\"\\\\wsl.localhost\\Ubuntu\\home\\bhuns\\JL_1\"\n",
    "full_path = os.path.join(folder_path, \"new_file.xlsx\")\n"
   ]
  },
  {
   "cell_type": "code",
   "execution_count": null,
   "id": "ba8c64c1-f1e0-459d-8a04-e3c1f56b6344",
   "metadata": {},
   "outputs": [],
   "source": [
    "import os\n",
    "print(os.path.isdir(folder_path))  # Should be True\n"
   ]
  },
  {
   "cell_type": "code",
   "execution_count": null,
   "id": "904af6ff-829b-4c67-a1b9-17e5261d5f65",
   "metadata": {
    "scrolled": true
   },
   "outputs": [],
   "source": [
    "# NOT WORKING  =============  create  file experiment with WSL windows path problem\n",
    "#\\\\wsl.localhost\\Ubuntu\\home\\bhuns\\JL_1\n",
    "# Define folder and filename\n",
    "folder_path = r\"\\\\wsl.localhost\\Ubuntu\\home\\bhuns\\JL_1\"\n",
    "full_path = os.path.join(folder_path, \"new_file.xlsx\")\n",
    "\n",
    "filename = \"new_file.xlsx\"\n",
    "create_xlfile(folder_path, xlfile_nm):\n",
    "    # Combine into full path\n",
    "    full_path = os.path.join(folder_path, filename)\n",
    "df.to_excel(full_path, index=False, engine=\"openpyxl\")\n",
    "print(f\"✅ Excel file created at:\\n{full_path}\")\n"
   ]
  },
  {
   "cell_type": "markdown",
   "id": "41ac4322-10a2-40f0-81a9-a52c72bc0e29",
   "metadata": {},
   "source": [
    "## Open an excel file in repo"
   ]
  },
  {
   "cell_type": "code",
   "execution_count": null,
   "id": "e05a78c5-c3a1-4aaf-868a-3e4ded7a4a30",
   "metadata": {
    "scrolled": true
   },
   "outputs": [],
   "source": [
    "# NOT WORKING  OPEN EXCEL FILE manually when brings up explorer\n",
    "# folder_path, filename = os.path.split(copied_path)\n",
    "# can be used to get the split\n",
    "#########################################################\n",
    "jl_1_path = r\"\\\\wsl.localhost\\Ubuntu\\home\\bhuns\\JL_1\"\n",
    "xlfile = r\"\\xl_uti\"\n",
    "full_path = jl_1_path + xlfile\n",
    "subprocess.run(['explorer.exe',full_path])"
   ]
  },
  {
   "cell_type": "markdown",
   "id": "3d50ca62-dbda-4394-acf1-64ccd60410d7",
   "metadata": {},
   "source": [
    "# ***BN Example of evolving system using UTI***"
   ]
  },
  {
   "cell_type": "markdown",
   "id": "ccec911a-98db-414b-8a62-efa966c5ffcf",
   "metadata": {},
   "source": [
    "***__frst_pt*** Using ***base_name*** & ***Excel_inputs*** >>\n",
    "**pt stands for Prototype**\n"
   ]
  },
  {
   "cell_type": "markdown",
   "id": "0d523fcc-3334-4864-9de7-6ba879a28456",
   "metadata": {},
   "source": [
    "## Function code"
   ]
  },
  {
   "cell_type": "markdown",
   "id": "e48c6ef2-cfb3-4750-8da7-8bd7af9ce09f",
   "metadata": {},
   "source": []
  },
  {
   "cell_type": "code",
   "execution_count": 12,
   "id": "dae45b31-b95d-4bc0-8b7f-f367384b455b",
   "metadata": {},
   "outputs": [
    {
     "name": "stdout",
     "output_type": "stream",
     "text": [
      "Globals Imported\n"
     ]
    }
   ],
   "source": [
    "OK       ############## DEF FUNCTIONS SAVED AS A PY MODULE ##################\n",
    "import pandas as pd\n",
    "from collections import defaultdict\n",
    "from openpyxl import load_workbook, Workbook\n",
    "from openpyxl.worksheet.table import Table, TableStyleInfo\n",
    "from openpyxl.utils import get_column_letter\n",
    "######################## \n",
    "print(\"Globals Imported\")"
   ]
  },
  {
   "cell_type": "code",
   "execution_count": null,
   "id": "fff53648-f5cc-4d5c-8baa-d075aa8d7e87",
   "metadata": {
    "scrolled": true
   },
   "outputs": [],
   "source": [
    "# read xl_bn in df_bn       this is the base_name df\n",
    "bn=\"uti\"\n",
    "df_uti = pd.read_excel(\"xl_uti.xlsx\")\n",
    "print(df_uti)"
   ]
  },
  {
   "cell_type": "markdown",
   "id": "84d2402b-5d80-4a49-9750-c89526bc24ff",
   "metadata": {},
   "source": [
    "***\"xl_bn.xlsx\"*** is read-only to Jupyter lab >>>\n",
    "***edit directly in Excel*** >>>>\n",
    "Use sliced ***df_bn.iloc[]*** for famly names."
   ]
  },
  {
   "cell_type": "markdown",
   "id": "10f77309-cf65-47d5-b971-f2cefee6830f",
   "metadata": {
    "jp-MarkdownHeadingCollapsed": true
   },
   "source": [
    "## ***Help instructions: Round-trip Excel workflow using pandas:***"
   ]
  },
  {
   "cell_type": "markdown",
   "id": "7e43b801-6105-4ee2-bd2c-a8609ea827a8",
   "metadata": {},
   "source": [
    "1. READ STEP:\n",
    "   - Use `pd.read_excel()` to import a sheet from Excel.\n",
    "   - If the sheet originally had an Excel table, it will be read as plain data.\n",
    "   - The first row becomes column headers.\n",
    "\n",
    "2. UPDATE STEP (optional):\n",
    "   - You can make manual updates in Excel by:\n",
    "       a. Opening the written file.\n",
    "       b. Reformatting the range as a table via Insert → Table.\n",
    "       c. Using sorting, filtering, or cell edits.\n",
    "\n",
    "3. WRITE STEP:\n",
    "   - Use `df.to_excel()` to write the DataFrame back.\n",
    "   - This will overwrite the table with a plain data range.\n",
    "   - Column headers will still be intact, ready for manual re-tabling next time.\n",
    "\n",
    "✔️ Useful for workflows where:\n",
    "   - Occasional Excel edits are needed using native table tools.\n",
    "   - Visual updates/sorts are easier in table form.\n",
    "   - No need to preserve Excel table metadata between sessions.\n",
    "\n",
    "💡 Tip:\n",
    "   If you want to automate reapplying table formatting,\n",
    "   consider using `openpyxl` to programmatically wrap the range as a table.\n",
    "\"\"\""
   ]
  },
  {
   "cell_type": "markdown",
   "id": "f996f9c1-e0fb-47d7-b8dd-218944e3ccc7",
   "metadata": {},
   "source": [
    "## ***functions: Round-trip Excel workflow using pandas:***"
   ]
  },
  {
   "cell_type": "markdown",
   "id": "63820669-23b6-4795-9fd9-741c827289ff",
   "metadata": {},
   "source": [
    "## Python df_tbl >< xl_tbl exchange Instuctions >>>\n",
    "### ***Loading_df_to_xlfile*** >>>> Returns from python reduced from  ***table form*** to ***data range*** bring back to ***table form*** manually if needed"
   ]
  },
  {
   "cell_type": "markdown",
   "id": "764d93c7-c0fe-4972-8bd2-6d32f41ba10c",
   "metadata": {},
   "source": [
    "# Next"
   ]
  }
 ],
 "metadata": {
  "kernelspec": {
   "display_name": "Python (scu)",
   "language": "python",
   "name": "scu"
  },
  "language_info": {
   "codemirror_mode": {
    "name": "ipython",
    "version": 3
   },
   "file_extension": ".py",
   "mimetype": "text/x-python",
   "name": "python",
   "nbconvert_exporter": "python",
   "pygments_lexer": "ipython3",
   "version": "3.11.13"
  }
 },
 "nbformat": 4,
 "nbformat_minor": 5
}
