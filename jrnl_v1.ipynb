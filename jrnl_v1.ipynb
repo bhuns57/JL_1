{
 "cells": [
  {
   "cell_type": "markdown",
   "id": "3d50ca62-dbda-4394-acf1-64ccd60410d7",
   "metadata": {},
   "source": [
    "# ***BN Example of evolving system using UTI***"
   ]
  },
  {
   "cell_type": "markdown",
   "id": "ccec911a-98db-414b-8a62-efa966c5ffcf",
   "metadata": {},
   "source": [
    "***__frst_pt*** Using ***base_name*** & ***Excel_inputs*** >>\n",
    "**pt stands for Prototype**\n"
   ]
  },
  {
   "cell_type": "markdown",
   "id": "0d523fcc-3334-4864-9de7-6ba879a28456",
   "metadata": {},
   "source": [
    "## Function code"
   ]
  },
  {
   "cell_type": "code",
   "execution_count": 34,
   "id": "dae45b31-b95d-4bc0-8b7f-f367384b455b",
   "metadata": {},
   "outputs": [
    {
     "name": "stdout",
     "output_type": "stream",
     "text": [
      "Globals Imported\n"
     ]
    }
   ],
   "source": [
    "############## DEF FUNCTIONS SAVED AS A PY MODULE ##################\n",
    "import pandas as pd\n",
    "from collections import defaultdict\n",
    "from openpyxl import load_workbook, Workbook\n",
    "from openpyxl.worksheet.table import Table, TableStyleInfo\n",
    "from openpyxl.utils import get_column_letter\n",
    "######################## \n",
    "print(\"Globals Imported\")"
   ]
  },
  {
   "cell_type": "code",
   "execution_count": 35,
   "id": "fff53648-f5cc-4d5c-8baa-d075aa8d7e87",
   "metadata": {
    "scrolled": true
   },
   "outputs": [
    {
     "name": "stdout",
     "output_type": "stream",
     "text": [
      "          bn         xl_file_nm         ws     xl_tbl\n",
      "0     inbody     xl_inbody.xlsx     inbody     inbody\n",
      "1    jrnl_v1    xl_jrnl_v1.xlsx    jrnl_v1    jrnl_v1\n",
      "2  mnl_input  xl_mnl_input.xlsx  mnl_input  mnl_input\n",
      "3        uti        xl_uti.xlsx        uti        uti\n"
     ]
    }
   ],
   "source": [
    "# read xl_bn in df_bn       this is the base_name df\n",
    "bn=\"bn\"\n",
    "df_bn = pd.read_excel(\"xl_bn.xlsx\")\n",
    "print(df_bn.iloc[0:6,0:5])"
   ]
  },
  {
   "cell_type": "code",
   "execution_count": null,
   "id": "830419c2-6207-4ab9-8d18-f0e1fc9100ac",
   "metadata": {},
   "outputs": [],
   "source": [
    "# df_bn.to_excel(\"xl_bn.xlsx\", index=False)\n",
    "# destroys cell functions"
   ]
  },
  {
   "cell_type": "markdown",
   "id": "84d2402b-5d80-4a49-9750-c89526bc24ff",
   "metadata": {},
   "source": [
    "***\"xl_bn.xlsx\"*** is read-only to Jupyter lab >>>\n",
    "***edit directly in Excel*** >>>>\n",
    "Use sliced ***df_bn.iloc[]*** for famly names."
   ]
  },
  {
   "cell_type": "markdown",
   "id": "10f77309-cf65-47d5-b971-f2cefee6830f",
   "metadata": {
    "jp-MarkdownHeadingCollapsed": true
   },
   "source": [
    "## ***Help instructions: Round-trip Excel workflow using pandas:***"
   ]
  },
  {
   "cell_type": "markdown",
   "id": "7e43b801-6105-4ee2-bd2c-a8609ea827a8",
   "metadata": {},
   "source": [
    "1. READ STEP:\n",
    "   - Use `pd.read_excel()` to import a sheet from Excel.\n",
    "   - If the sheet originally had an Excel table, it will be read as plain data.\n",
    "   - The first row becomes column headers.\n",
    "\n",
    "2. UPDATE STEP (optional):\n",
    "   - You can make manual updates in Excel by:\n",
    "       a. Opening the written file.\n",
    "       b. Reformatting the range as a table via Insert → Table.\n",
    "       c. Using sorting, filtering, or cell edits.\n",
    "\n",
    "3. WRITE STEP:\n",
    "   - Use `df.to_excel()` to write the DataFrame back.\n",
    "   - This will overwrite the table with a plain data range.\n",
    "   - Column headers will still be intact, ready for manual re-tabling next time.\n",
    "\n",
    "✔️ Useful for workflows where:\n",
    "   - Occasional Excel edits are needed using native table tools.\n",
    "   - Visual updates/sorts are easier in table form.\n",
    "   - No need to preserve Excel table metadata between sessions.\n",
    "\n",
    "💡 Tip:\n",
    "   If you want to automate reapplying table formatting,\n",
    "   consider using `openpyxl` to programmatically wrap the range as a table.\n",
    "\"\"\""
   ]
  },
  {
   "cell_type": "markdown",
   "id": "f996f9c1-e0fb-47d7-b8dd-218944e3ccc7",
   "metadata": {},
   "source": [
    "## ***functions: Round-trip Excel workflow using pandas:***"
   ]
  },
  {
   "cell_type": "markdown",
   "id": "63820669-23b6-4795-9fd9-741c827289ff",
   "metadata": {},
   "source": [
    "## Python df_tbl >< xl_tbl exchange Instuctions >>>\n",
    "### ***Loading_df_to_xlfile*** >>>> Returns from python reduced from  ***table form*** to ***data range*** bring back to ***table form*** manually if needed"
   ]
  },
  {
   "cell_type": "markdown",
   "id": "764d93c7-c0fe-4972-8bd2-6d32f41ba10c",
   "metadata": {},
   "source": [
    "# Next"
   ]
  },
  {
   "cell_type": "code",
   "execution_count": null,
   "id": "6ecf33d7-d65a-4ae8-8cdd-c93515756646",
   "metadata": {},
   "outputs": [],
   "source": []
  }
 ],
 "metadata": {
  "kernelspec": {
   "display_name": "Python (scu)",
   "language": "python",
   "name": "scu"
  },
  "language_info": {
   "codemirror_mode": {
    "name": "ipython",
    "version": 3
   },
   "file_extension": ".py",
   "mimetype": "text/x-python",
   "name": "python",
   "nbconvert_exporter": "python",
   "pygments_lexer": "ipython3",
   "version": "3.11.13"
  }
 },
 "nbformat": 4,
 "nbformat_minor": 5
}
