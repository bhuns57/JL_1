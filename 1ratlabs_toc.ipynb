{
 "cells": [
  {
   "cell_type": "markdown",
   "id": "9da0e802-cba9-47c6-98e3-8d0b2de18518",
   "metadata": {},
   "source": [
    "# 1RatLabs Readme\n",
    "**TOC =  Goals Lists,   Data_Lists,   Function_List,   Inputs_List,   Groups_List,   Files_List**"
   ]
  },
  {
   "cell_type": "markdown",
   "id": "043892c1-906f-487f-b21c-73911cc70479",
   "metadata": {
    "jp-MarkdownHeadingCollapsed": true
   },
   "source": [
    "## 1RatLabs.Goals"
   ]
  },
  {
   "cell_type": "markdown",
   "id": "fea11f2c-aaab-4be0-8648-044880dd5c6f",
   "metadata": {
    "jp-MarkdownHeadingCollapsed": true
   },
   "source": [
    "### Goals list"
   ]
  },
  {
   "cell_type": "markdown",
   "id": "bbc6f16a-a41c-40a6-86b9-d6a7651739ae",
   "metadata": {
    "jp-MarkdownHeadingCollapsed": true
   },
   "source": [
    "1. To learn to measure the cause and effect of lifestyle changes.\n",
    "2. Use this info to adjust my lifestyle to produce the best possible health for my body."
   ]
  },
  {
   "cell_type": "markdown",
   "id": "27238a13-dfa1-4387-bb3d-a98759eea89e",
   "metadata": {},
   "source": [
    "## Data  *(stored in xl)*:"
   ]
  },
  {
   "cell_type": "markdown",
   "id": "6c1b602f-3565-4f9d-9c77-11d21ba3216d",
   "metadata": {},
   "source": [
    "### Data Name List"
   ]
  },
  {
   "cell_type": "markdown",
   "id": "18548bda-e8ff-4c25-9c96-40b7d72f5456",
   "metadata": {},
   "source": [
    "***Naming File convention for functions to work on any compatible xl files***\n",
    "1. Working_df >>> >>>>>>>>>>>>>>>>>>>>>>>>>>>>>> ***df_base_name[]***\n",
    "2. Working_Excel file >>>>>>>>>>>>>>>>>>>>>>>>>>> ***xl_base_name.xlxs***\n",
    "3. Working_Excel wb ie wb_name>>>>>>>>>>>>>>>>>>>>>>> ***xl_base_name***\n",
    "4. Working_worksheet ie ws_name>>>>>>>>>>>>>>>>>>>>>> ***xl_base_name***\n",
    "5. working_xl_tbl ie table`base_name>>> ie tbl_name>>>>>>>>>>>>> ***xl_base_name***\n",
    "6. def import function(\"base_name\") >>> callec from my_utils/py >>>> ***def xl_df(base_name)***\n",
    "7. def export function(\"base_name\") >>> callec from my_utils/py >>>> ***def df_xl(base_name)***\n",
    "\n",
    "***The init functions computes all the names from the base_name***"
   ]
  },
  {
   "cell_type": "code",
   "execution_count": null,
   "id": "455eae7f-7dc9-4f6c-8988-999e1b2d02b7",
   "metadata": {},
   "outputs": [],
   "source": [
    "# ca"
   ]
  },
  {
   "cell_type": "code",
   "execution_count": null,
   "id": "4180df77-2970-41b8-8b61-762247e264b3",
   "metadata": {},
   "outputs": [],
   "source": [
    "def bld_base_name_fmly(base_name):\n",
    "    df = \"df_\" + base_name\n",
    "    xl_file = \"xl_\" + base_name +\".xlxs\"\n",
    "    wb = \"xl_\" + base_namec\n",
    "    ws = \"xl_\" + base_name\n",
    "    tbl = \"xl_\" + base_name\n",
    "    return df,xl_file,wb,ws,tbl\n",
    "    \n",
    "    "
   ]
  },
  {
   "cell_type": "code",
   "execution_count": null,
   "id": "d302e92d-f148-49ad-a5eb-5762e2bc64b1",
   "metadata": {},
   "outputs": [],
   "source": [
    "df,xl_file,wb,ws,tbl = bld_base_name_fmlcy(\"tbl\")\n",
    "print(df,xl_file,wb,ws,tbl)"
   ]
  },
  {
   "cell_type": "code",
   "execution_count": null,
   "id": "edcbbe7c-3e1c-4074-ac9e-20e7830c461d",
   "metadata": {
    "scrolled": true
   },
   "outputs": [],
   "source": [
    "print(df_tbl)"
   ]
  },
  {
   "cell_type": "markdown",
   "id": "b5ecb459-78a5-4d2c-b3a4-1ae765119607",
   "metadata": {},
   "source": [
    "***base_name >>> discription***\n",
    "\n",
    "\n",
    "1. \"***DATE_V***\"  >>> list of days counted from 1/1/1900\n",
    "2. \"***dt_clms***\" >> a single lifestyle parameter \n",
    "3. \"***dt_clms_log***\" >> table of many \"dt_clms\" vs rows of \"DATE_V\"                         \n",
    "4. \"***dt_clms_attrbts***\" >>>  table of  many \"dt_clm_attrbts\" and \"dt_clms\" as rows ***XL_Contains_fromulas***\n",
    "5. \"***dt_clms_fltrd***\"  >>> table of \"dt_clms_fltrd\" as many columns vs \"DATE_V\" as rows\n",
    "6. \"***dt_clms_xcrrltn_ij***\">>> table of cross-correltion of dt_clms.i and dt_clms.j as columns and \"DATEV\" as rows\n",
    "7. \"***dt_clms_xcrrltn_tshft***\" >>> table of dt_clms_crrltn_ij vs \"tshft\" as rows\n",
    "8. \"***inpt_grps***\"              >>> table of dt_clms vs grps  checkmars dtclms in grp ***??XL_Contains_fromulas***\n",
    "9. \"***export_plot_grps***\"       >>> ***???XL_Contains_fromulas***"
   ]
  },
  {
   "cell_type": "markdown",
   "id": "4e34bb24-813e-40c8-9e95-f45364c1a0df",
   "metadata": {
    "jp-MarkdownHeadingCollapsed": true
   },
   "source": [
    "***dt_nm >>> discription for each type of xl data table [this name makes the functions usable for any of the Excel data tables***\n",
    "\n",
    "\n",
    "1. \"***DATE_V***\"  >>> list of days counted from 1/1/1900\n",
    "2. \"***dt_clms***\" >>    xl_tbl = dt_nm\n",
    "3. \"***dt_clms_log***\" >> xl_tbl = dt_nm ,             \n",
    "4. \"***dt_clms_attrbts***\" >>>  table of  many \"dt_clm_attrbts\" and \"dtclms\" as rows\n",
    "5. \"***dt_clms_fltrd***\"  >>> table of \"dt_clms_fltrd\" as many columns vs \"DATE_V\" as rows\n",
    "6. \"***dt_clms_xcrrltn_ij***\">>> table of cross-correltion of dt_clms.i and dt_clms.j as columns and \"DATEV\" as rows\n",
    "7. \"***dt_clms_xcrrltn_tshft***\" >>> table of dt_clms_crrltn_ij vs \"tshft\" as rows\n",
    "8. \"***inpt_grps***\"              >>> table of dt_clms vs grps  checkmars dtclms in grp\n",
    "9. \"***export_plot_grps***\"       "
   ]
  },
  {
   "cell_type": "markdown",
   "id": "0c7b1a74-15e8-4540-9d78-fea0ffb7221d",
   "metadata": {
    "jp-MarkdownHeadingCollapsed": true
   },
   "source": [
    "#### ***Dynamic data: Excel file & dataframe names***\n",
    "\n",
    "***XL_Contains_fromulas*** Note that the i/o functions with \"openpyxl\" must be used.\n",
    "\n",
    "\n",
    "You can swap `\"tbl\"` for any table name like this:\n",
    "\n",
    "```python\n",
    "df_hr = load_df(\"hr_tbl\", \"hr_tbl.xlsx\", \"hr_tbl\")\n",
    "# edit df_hr...\n",
    "write_df(df_hr, \"hr_tbl\", \"hr_tbl.xlsx\", \"hr_tbl\")\n",
    "...\n",
    "\n",
    "1. \n",
    "2. DATE_V  >> DATE_V.xlxs\n",
    "3. dt_clms_log >> dt_clms_log.\n",
    "4. dt_clms_attrbts >> dt_clms_attrbts.\n",
    "5. dt_clms_fltrd  >> dt_clms_fltrd_log.\n",
    "6. \n",
    "7. dt_clms_xcrrltn_ij >>> table of cross-correltion of dt_clms.i and dt_clms.j as columns and \"DATEV\" as rows\n",
    "8. dt_clms_xcrrltn_tshft >>> table of dt_clms_crrltn_ij vs \"tshft\" as rows"
   ]
  },
  {
   "cell_type": "markdown",
   "id": "4d94e07f-a8f2-4c4b-a02a-7cd9c2a92b6d",
   "metadata": {},
   "source": [
    "## Functions *(module.py)*"
   ]
  },
  {
   "cell_type": "markdown",
   "id": "76f3d5f0-1e8a-4044-bb03-1fb29a096f7d",
   "metadata": {
    "jp-MarkdownHeadingCollapsed": true
   },
   "source": [
    "### 🧠 Extendability\n",
    "\n",
    "You can swap `\"tbl\"` for any table name like this:\n",
    "\n",
    "```python\n",
    "df_hr = load_df(\"hr_tbl\", \"hr_tbl.xlsx\", \"hr_tbl\")\n",
    "# edit df_hr...\n",
    "write_df(df_hr, \"hr_tbl\", \"hr_tbl.xlsx\", \"hr_tbl\")\n",
    "```\n"
   ]
  },
  {
   "cell_type": "markdown",
   "id": "3bd512aa-3332-4e77-b7a6-0b4484ca9dbb",
   "metadata": {
    "jp-MarkdownHeadingCollapsed": true
   },
   "source": [
    "### Functions List \n",
    "1. xl_df = [xl_tbl() >>> df_tbl()] *(move data to df for processing)* \n",
    "2. df_xl = [df_tbl() >>>   xl_tbl()] (move data back to xl for storage and readout)\n",
    "3. xl_df_f = [***XL_Contains_fromulas***  xl_tbl() >>> df_tbl()] *(move data to df for processing)* \n",
    "4. df_xl_f = [***XL_Contains_fromulas***  df_tbl() >>>   xl_tbl] *(move data back to xl for storage and readout)\n",
    "5. input_sdt_sDATE_V() *(manually input data to df_tbl for a sngl_dt for a DATE_V)*\n",
    "6. input_gdt_sDATE_V() >>> *(manually input data to df_tbl) for a grp_dt for a DATE_V)*\n",
    "7. input_sdt_gDATE_V() *(manually input data to df_tbl  for a sngl_dt_clms for a grp_DATE_V)*\n",
    "6. input_gdt_gDATE_V() >>> *(manually input data to df_tbl for a grp_dt_clms for a grp_DATE_V)*"
   ]
  },
  {
   "cell_type": "markdown",
   "id": "a46c83ba-5396-4e9e-8fc8-0804bf346c2a",
   "metadata": {},
   "source": [
    "## Inputs to df_tbl"
   ]
  },
  {
   "cell_type": "markdown",
   "id": "a8ddc7a2-b3af-4e61-8729-531d1d969d00",
   "metadata": {
    "editable": true,
    "jp-MarkdownHeadingCollapsed": true,
    "slideshow": {
     "slide_type": ""
    },
    "tags": []
   },
   "source": [
    "### Inputs List by:\n",
    "1. single day, single dt_clms\n",
    "2. single day, grp_x dt_clms\n",
    "3. grp_dys, grp_dt_clms"
   ]
  },
  {
   "cell_type": "markdown",
   "id": "f15b6c04-0619-46b4-84a3-d0ffda649561",
   "metadata": {
    "jp-MarkdownHeadingCollapsed": true
   },
   "source": [
    "## Groups of dt_clms [Processed together] "
   ]
  },
  {
   "cell_type": "markdown",
   "id": "d5a4840d-32f2-4a61-88a7-02c546acc385",
   "metadata": {
    "jp-MarkdownHeadingCollapsed": true
   },
   "source": [
    "### List of data entry groups"
   ]
  },
  {
   "cell_type": "markdown",
   "id": "5e3b7894-d270-409d-96c6-35e773d96c61",
   "metadata": {},
   "source": [
    "1. Morn_dt_clms\n",
    "2. Weekly_dt_clms\n",
    "3. Tray_Spplmts\n",
    "4. "
   ]
  },
  {
   "cell_type": "markdown",
   "id": "eeb52df7-f732-4e5b-8037-09ac6c8f54c8",
   "metadata": {
    "jp-MarkdownHeadingCollapsed": true
   },
   "source": [
    "### List of data processing groups"
   ]
  },
  {
   "cell_type": "markdown",
   "id": "fbf34ca7-1091-4a51-8378-06ed89f13a88",
   "metadata": {},
   "source": [
    "1. Filter\n",
    "2."
   ]
  },
  {
   "cell_type": "markdown",
   "id": "70080e67-a75b-44da-bc90-e672444d9d03",
   "metadata": {
    "jp-MarkdownHeadingCollapsed": true
   },
   "source": [
    "### List of data Dusplay groups"
   ]
  },
  {
   "cell_type": "markdown",
   "id": "0629fea7-8edf-42ed-a36b-aad3f90966b5",
   "metadata": {},
   "source": [
    "1. Filter\n",
    "2."
   ]
  },
  {
   "cell_type": "markdown",
   "id": "d6cef549-98c6-4122-b3bf-2bda10180c4d",
   "metadata": {},
   "source": [
    "## Files Lists"
   ]
  },
  {
   "cell_type": "markdown",
   "id": "b83b276d-3aa7-4067-8f64-376d0cba9f03",
   "metadata": {
    "jp-MarkdownHeadingCollapsed": true
   },
   "source": [
    "### Naming Policy"
   ]
  },
  {
   "cell_type": "markdown",
   "id": "b56abbbd-ab08-413d-8ba7-3fb0079efe61",
   "metadata": {},
   "source": [
    "1. First Letter in file name is its class so classes are grouped together in explorer\n",
    "2. Put other codes as second letter so search works and is memorable"
   ]
  },
  {
   "cell_type": "markdown",
   "id": "51a2a557-d40f-4fd9-a17e-f2ca1e666bed",
   "metadata": {
    "jp-MarkdownHeadingCollapsed": true
   },
   "source": [
    "### List of workbooks"
   ]
  },
  {
   "cell_type": "markdown",
   "id": "729da2e8-2765-43fe-a67f-e33a6326d742",
   "metadata": {},
   "source": [
    "1. xl_xf_xl_py.ipynb       ... call the .py_functions to perform Processing\n",
    "2. 1ratlabs_toc.ipynb      ... TOC\n",
    "4. L_JLhelp.ipynb          ... keyboard shortcuts, Templates, Hints, etc\n",
    "5. L_Medical.ipynb         ... Medical library\n",
    "6. F_my_utils.py           ... Functions py module"
   ]
  },
  {
   "cell_type": "markdown",
   "id": "7272039d-ea48-4d1d-bda3-4bb4b09bdec3",
   "metadata": {
    "jp-MarkdownHeadingCollapsed": true
   },
   "source": [
    "### List Python modules"
   ]
  },
  {
   "cell_type": "markdown",
   "id": "0ad8045b-50ae-42b9-9633-dd52377ee3fe",
   "metadata": {},
   "source": [
    "1. Shared_data.py\n",
    "2. "
   ]
  },
  {
   "cell_type": "markdown",
   "id": "0352915c-c0ad-4cbc-aa85-a6cbce62ec60",
   "metadata": {
    "jp-MarkdownHeadingCollapsed": true
   },
   "source": [
    "### List of Excel files"
   ]
  },
  {
   "cell_type": "markdown",
   "id": "fa4a931a-f521-4b02-8478-0bfa14ec85c1",
   "metadata": {},
   "source": [
    "## List of libraries"
   ]
  },
  {
   "cell_type": "markdown",
   "id": "db8d98f4-753a-403d-91be-7a03894674ce",
   "metadata": {
    "editable": true,
    "slideshow": {
     "slide_type": ""
    },
    "tags": []
   },
   "source": [
    "1. L_WSL_JL_hlp                ... help & Cheat sheets of WSL & JL & Git\n",
    "2. L_medical                   ... Medical\n",
    "3. L_JL_kb_shrtcts\n",
    "4. _____"
   ]
  },
  {
   "cell_type": "code",
   "execution_count": null,
   "id": "60863294-a9be-42cf-8838-2d6ace8d9916",
   "metadata": {},
   "outputs": [],
   "source": []
  }
 ],
 "metadata": {
  "kernelspec": {
   "display_name": "Python (scu)",
   "language": "python",
   "name": "scu"
  },
  "language_info": {
   "codemirror_mode": {
    "name": "ipython",
    "version": 3
   },
   "file_extension": ".py",
   "mimetype": "text/x-python",
   "name": "python",
   "nbconvert_exporter": "python",
   "pygments_lexer": "ipython3",
   "version": "3.11.13"
  }
 },
 "nbformat": 4,
 "nbformat_minor": 5
}
