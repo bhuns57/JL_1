{
 "cells": [
  {
   "cell_type": "markdown",
   "id": "3cf33f1f-0fb6-4e4e-ae0e-a16d8962134e",
   "metadata": {
    "jp-MarkdownHeadingCollapsed": true
   },
   "source": [
    "**🧠 Strategy: Markdown Hierarchy Parsing**"
   ]
  },
  {
   "cell_type": "markdown",
   "id": "267c65bd-ef83-4e9f-b825-037274387a3e",
   "metadata": {},
   "source": [
    "# Level 1\n",
    "## Level 2\n",
    "### Level 3\n",
    "#### Level 4\n",
    "##### Level 5\n",
    "##### Level 5\n",
    "To extract everything under a given heading (say, ### Section 3), we:\n",
    "\n",
    "Scan for the target heading\n",
    "\n",
    "Capture all lines until we hit a heading of equal or higher level"
   ]
  },
  {
   "cell_type": "code",
   "execution_count": null,
   "id": "3265ad1a-49b0-4d35-8074-f6c306456b54",
   "metadata": {},
   "outputs": [],
   "source": [
    "# copy_tmplt.md"
   ]
  },
  {
   "cell_type": "markdown",
   "id": "88f09b6c-ea47-4edf-9bfc-2f014eabf568",
   "metadata": {
    "jp-MarkdownHeadingCollapsed": true
   },
   "source": [
    "**🛠️ Sample Function: read_section(md_text, heading, level)**"
   ]
  },
  {
   "cell_type": "code",
   "execution_count": 1,
   "id": "0b86f340-add6-4461-b12a-aa69a2f573e5",
   "metadata": {},
   "outputs": [],
   "source": [
    "import re\n",
    "\n",
    "def read_section(md_text, heading, level):\n",
    "    lines = md_text.splitlines()\n",
    "    pattern = re.compile(rf'^{\"#\" * level} +{re.escape(heading)}\\s*$')\n",
    "    start_idx = None\n",
    "\n",
    "    # Find the start of the section\n",
    "    for i, line in enumerate(lines):\n",
    "        if pattern.match(line):\n",
    "            start_idx = i\n",
    "            break\n",
    "\n",
    "    if start_idx is None:\n",
    "        return f\"Heading '{heading}' not found at level {level}\"\n",
    "\n",
    "    # Capture lines until next heading of same or higher level\n",
    "    section_lines = []\n",
    "    for line in lines[start_idx + 1:]:\n",
    "        if re.match(r'^#{1,' + str(level) + r'}\\s+', line):\n",
    "            break\n",
    "        section_lines.append(line)\n",
    "\n",
    "    return '\\n'.join([lines[start_idx]] + section_lines)\n"
   ]
  },
  {
   "cell_type": "markdown",
   "id": "3039b2d1-c338-4077-9583-245c7f2fd270",
   "metadata": {
    "jp-MarkdownHeadingCollapsed": true
   },
   "source": [
    "**✅ Example Usage**\n",
    "1. This will give you everything under ### Section 3,\n",
    "2. including deeper levels like #### and #####,\n",
    "3.  until it hits another ### or higher.\n"
   ]
  },
  {
   "cell_type": "code",
   "execution_count": 2,
   "id": "03aad263-4b1e-45cd-8e3e-f9188eb38323",
   "metadata": {},
   "outputs": [
    {
     "ename": "FileNotFoundError",
     "evalue": "[Errno 2] No such file or directory: 'template.md'",
     "output_type": "error",
     "traceback": [
      "\u001b[31m---------------------------------------------------------------------------\u001b[39m",
      "\u001b[31mFileNotFoundError\u001b[39m                         Traceback (most recent call last)",
      "\u001b[36mCell\u001b[39m\u001b[36m \u001b[39m\u001b[32mIn[2]\u001b[39m\u001b[32m, line 1\u001b[39m\n\u001b[32m----> \u001b[39m\u001b[32m1\u001b[39m \u001b[38;5;28;01mwith\u001b[39;00m \u001b[38;5;28mopen\u001b[39m(\u001b[33m\"\u001b[39m\u001b[33mtemplate.md\u001b[39m\u001b[33m\"\u001b[39m, \u001b[33m\"\u001b[39m\u001b[33mr\u001b[39m\u001b[33m\"\u001b[39m, encoding=\u001b[33m\"\u001b[39m\u001b[33mutf-8\u001b[39m\u001b[33m\"\u001b[39m) \u001b[38;5;28;01mas\u001b[39;00m f:\n\u001b[32m      2\u001b[39m     md_text = f.read()\n\u001b[32m      4\u001b[39m section_text = read_section(md_text, \u001b[33m\"\u001b[39m\u001b[33mSection 3\u001b[39m\u001b[33m\"\u001b[39m, \u001b[32m3\u001b[39m)\n",
      "\u001b[36mFile \u001b[39m\u001b[32m~/miniconda3/envs/scu/lib/python3.11/site-packages/IPython/core/interactiveshell.py:326\u001b[39m, in \u001b[36m_modified_open\u001b[39m\u001b[34m(file, *args, **kwargs)\u001b[39m\n\u001b[32m    319\u001b[39m \u001b[38;5;28;01mif\u001b[39;00m file \u001b[38;5;129;01min\u001b[39;00m {\u001b[32m0\u001b[39m, \u001b[32m1\u001b[39m, \u001b[32m2\u001b[39m}:\n\u001b[32m    320\u001b[39m     \u001b[38;5;28;01mraise\u001b[39;00m \u001b[38;5;167;01mValueError\u001b[39;00m(\n\u001b[32m    321\u001b[39m         \u001b[33mf\u001b[39m\u001b[33m\"\u001b[39m\u001b[33mIPython won\u001b[39m\u001b[33m'\u001b[39m\u001b[33mt let you open fd=\u001b[39m\u001b[38;5;132;01m{\u001b[39;00mfile\u001b[38;5;132;01m}\u001b[39;00m\u001b[33m by default \u001b[39m\u001b[33m\"\u001b[39m\n\u001b[32m    322\u001b[39m         \u001b[33m\"\u001b[39m\u001b[33mas it is likely to crash IPython. If you know what you are doing, \u001b[39m\u001b[33m\"\u001b[39m\n\u001b[32m    323\u001b[39m         \u001b[33m\"\u001b[39m\u001b[33myou can use builtins\u001b[39m\u001b[33m'\u001b[39m\u001b[33m open.\u001b[39m\u001b[33m\"\u001b[39m\n\u001b[32m    324\u001b[39m     )\n\u001b[32m--> \u001b[39m\u001b[32m326\u001b[39m \u001b[38;5;28;01mreturn\u001b[39;00m io_open(file, *args, **kwargs)\n",
      "\u001b[31mFileNotFoundError\u001b[39m: [Errno 2] No such file or directory: 'template.md'"
     ]
    }
   ],
   "source": [
    "with open(\"template.md\", \"r\", encoding=\"utf-8\") as f:\n",
    "    md_text = f.read()\n",
    "\n",
    "section_text = read_section(md_text, \"Section 3\", 3)\n",
    "print(section_text)\n"
   ]
  },
  {
   "cell_type": "markdown",
   "id": "544e75df-6b9b-4c14-ba0d-902766aee699",
   "metadata": {
    "jp-MarkdownHeadingCollapsed": true
   },
   "source": [
    "**🧠 Strategy: Markdown Hierarchy Parsing**"
   ]
  }
 ],
 "metadata": {
  "kernelspec": {
   "display_name": "Python (scu)",
   "language": "python",
   "name": "scu"
  },
  "language_info": {
   "codemirror_mode": {
    "name": "ipython",
    "version": 3
   },
   "file_extension": ".py",
   "mimetype": "text/x-python",
   "name": "python",
   "nbconvert_exporter": "python",
   "pygments_lexer": "ipython3",
   "version": "3.11.13"
  }
 },
 "nbformat": 4,
 "nbformat_minor": 5
}
