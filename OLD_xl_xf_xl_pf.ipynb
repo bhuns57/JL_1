{
 "cells": [
  {
   "cell_type": "markdown",
   "id": "f1ed0319-52ac-45d3-83d2-d967f73f9c7c",
   "metadata": {},
   "source": [
    "# OBSOLETE BECAUSE DESTROYS FORMULAS"
   ]
  },
  {
   "cell_type": "markdown",
   "id": "61e98bd4-a5e1-4d1e-836c-c5b356cd4ace",
   "metadata": {},
   "source": [
    "# Readme >>Loading and Writing Tables (JL to/from XL) [Preseving formulas][copilot]"
   ]
  },
  {
   "cell_type": "markdown",
   "id": "35c5d1c9-217d-41bf-9a4e-3ee3bdd9ce73",
   "metadata": {
    "jp-MarkdownHeadingCollapsed": true
   },
   "source": [
    "## 📥 `load_df` — Read Excel Table into a Jupyter-Friendly DataFrame"
   ]
  },
  {
   "cell_type": "markdown",
   "id": "b9a09d5f-0be2-4b2c-8cfe-fdc51c4829e4",
   "metadata": {},
   "source": [
    "## 📤 `write_df` — Push Updated DataFrame Back to Excel as a Table\n",
    "\n",
    "This function will:\n",
    "\n",
    "- Overwrite the `xl_tbl` worksheet\n",
    "- Rebuild the Excel table with your edited DataFrame\n",
    "- Preserve column names and structure\n",
    "\n",
    "\n",
    "To use it:\n",
    "\n",
    "```python\n",
    "write_df(df_tbl)\n",
    "```\n",
    "\n",
    "---\n",
    "\n",
    "## 🧠 Extendability\n",
    "\n",
    "You can swap `\"tbl\"` for any table name like this:\n",
    "\n",
    "```python\n",
    "df_hr = load_df(\"hr_tbl\", \"hr_tbl.xlsx\", \"hr_tbl\")\n",
    "# edit df_hr...\n",
    "write_df(df_hr, \"hr_tbl\", \"hr_tbl.xlsx\", \"hr_tbl\")\n",
    "```\n",
    "\n",
    "---"
   ]
  },
  {
   "cell_type": "markdown",
   "id": "b095fa47-41e1-49f2-9e2a-96732745f18f",
   "metadata": {},
   "source": [
    "# *def* load_df_with_formulas(file_name=\"xl_tbl.xlsx\", sheet_name=\"xl_tbl\"): *>>return df*"
   ]
  },
  {
   "cell_type": "code",
   "execution_count": 5,
   "id": "eb542b42-4419-4442-a93a-b5a357ea4115",
   "metadata": {},
   "outputs": [],
   "source": [
    "from openpyxl import load_workbook\n",
    "import pandas as pd\n",
    "\n",
    "def load_df_with_formulas(file_name=\"xl_tbl.xlsx\", sheet_name=\"xl_tbl\"):\n",
    "    wb = load_workbook(file_name, data_only=False)  # `data_only=False` preserves formulas\n",
    "    ws = wb[sheet_name]\n",
    "\n",
    "    data = []\n",
    "    for row in ws.iter_rows(values_only=False):\n",
    "        row_data = []\n",
    "        for cell in row:\n",
    "            if cell.value is not None:\n",
    "                if cell.data_type == 'f':  # It's a formula\n",
    "                    row_data.append(f\"={cell.value}\")\n",
    "                else:\n",
    "                    row_data.append(cell.value)\n",
    "            else:\n",
    "                row_data.append(None)\n",
    "        data.append(row_data)\n",
    "\n",
    "    # Extract headers from first row\n",
    "    headers = data[0]\n",
    "    df = pd.DataFrame(data[1:], columns=headers)\n",
    "    print(f\"✅ Loaded sheet '{sheet_name}' from '{file_name}', preserving formulas.\")\n",
    "    return df\n"
   ]
  },
  {
   "cell_type": "markdown",
   "id": "b6a54389-0757-48de-99d4-b786fea8ff99",
   "metadata": {},
   "source": [
    "# *def* write_df_with_formulas(df, file_name=\"xl_tbl.xlsx\", sheet_name=\"xl_tbl\", table_name=\"xl_tbl\"): *>> return df*"
   ]
  },
  {
   "cell_type": "code",
   "execution_count": 6,
   "id": "06ff0e3a-1895-4731-8c14-9ed5ff7565fe",
   "metadata": {},
   "outputs": [],
   "source": [
    "from openpyxl import Workbook\n",
    "from openpyxl.utils import get_column_letter\n",
    "\n",
    "def write_df_with_formulas(df, file_name=\"xl_tbl.xlsx\", sheet_name=\"xl_tbl\", table_name=\"xl_tbl\"):\n",
    "    wb = Workbook()\n",
    "    ws = wb.active\n",
    "    ws.title = sheet_name\n",
    "\n",
    "    # Write headers\n",
    "    for col_idx, col_name in enumerate(df.columns, start=1):\n",
    "        ws.cell(row=1, column=col_idx, value=col_name)\n",
    "\n",
    "    # Write values or formulas\n",
    "    for row_idx, row in enumerate(df.itertuples(index=False), start=2):\n",
    "        for col_idx, value in enumerate(row, start=1):\n",
    "            cell = ws.cell(row=row_idx, column=col_idx)\n",
    "            if isinstance(value, str) and value.startswith(\"=\"):\n",
    "                cell.value = value[1:]  # Remove leading '=' for Excel formula\n",
    "                cell.data_type = 'f'\n",
    "            else:\n",
    "                cell.value = value\n",
    "\n",
    "    # Define table\n",
    "    nrows, ncols = df.shape\n",
    "    table_range = f\"A1:{get_column_letter(ncols)}{nrows+1}\"\n",
    "\n",
    "    from openpyxl.worksheet.table import Table, TableStyleInfo\n",
    "    table = Table(displayName=table_name, ref=table_range)\n",
    "    style = TableStyleInfo(name=\"TableStyleMedium9\", showRowStripes=True)\n",
    "    table.tableStyleInfo = style\n",
    "    ws.add_table(table)\n",
    "\n",
    "    wb.save(file_name)\n",
    "    print(f\"💾 Wrote updated DataFrame to Excel file '{file_name}', preserving formulas.\")\n"
   ]
  },
  {
   "cell_type": "code",
   "execution_count": null,
   "id": "ccbe9a1e-1096-4504-81ce-c1fd622590ce",
   "metadata": {},
   "outputs": [],
   "source": []
  }
 ],
 "metadata": {
  "kernelspec": {
   "display_name": "Python (scu)",
   "language": "python",
   "name": "scu"
  },
  "language_info": {
   "codemirror_mode": {
    "name": "ipython",
    "version": 3
   },
   "file_extension": ".py",
   "mimetype": "text/x-python",
   "name": "python",
   "nbconvert_exporter": "python",
   "pygments_lexer": "ipython3",
   "version": "3.11.13"
  }
 },
 "nbformat": 4,
 "nbformat_minor": 5
}
