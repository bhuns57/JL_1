{
 "cells": [
  {
   "cell_type": "code",
   "execution_count": null,
   "id": "e5b6aea3-da7b-4453-94c7-5bb551dd41df",
   "metadata": {},
   "outputs": [],
   "source": [
    "import pandas as pd\n",
    "from datetime import timedelta\n",
    "import os\n",
    "from file_utils import load_csv, save_csv, get_csv_path"
   ]
  },
  {
   "cell_type": "markdown",
   "id": "7196ad82-575c-490a-b6f8-f68475cdcc2b",
   "metadata": {
    "jp-MarkdownHeadingCollapsed": true
   },
   "source": [
    "# Demonstration of how to use: \n",
    "***\"load_csv,     save_csv,     get_csv_path\";   import functions from module  \"file_utils\"***"
   ]
  },
  {
   "cell_type": "code",
   "execution_count": null,
   "id": "fde48d8d-ab33-4854-a9a8-3baaf75ff570",
   "metadata": {},
   "outputs": [],
   "source": [
    "df_path = get_csv_path(\"df_nm\")  # puts in folder and base to compute path\n",
    "\n",
    "df_path"
   ]
  },
  {
   "cell_type": "code",
   "execution_count": null,
   "id": "981b3607-9341-472f-93b8-f2d68a579ade",
   "metadata": {},
   "outputs": [],
   "source": [
    "\n",
    "df = load_csv(\"df_nm\")         # calls \"get_csv_path\"\n",
    "\n",
    "df"
   ]
  },
  {
   "cell_type": "code",
   "execution_count": null,
   "id": "e3180368-e5f6-4e61-9962-e51fdcba870a",
   "metadata": {},
   "outputs": [],
   "source": [
    "df.iloc[2,2] = 289\n",
    "df"
   ]
  },
  {
   "cell_type": "code",
   "execution_count": null,
   "id": "2b0817db-dc7a-44b8-a8be-b0b6913d8608",
   "metadata": {},
   "outputs": [],
   "source": [
    "save_csv(df, \"df_nm\")"
   ]
  },
  {
   "cell_type": "code",
   "execution_count": null,
   "id": "24ba6a45-9fbe-4beb-8e11-095b590d433b",
   "metadata": {},
   "outputs": [],
   "source": [
    "df = load_csv(\"df_nm\")         # calls \"get_csv_path\"\n",
    "\n",
    "df.iloc[2,2]\n"
   ]
  },
  {
   "cell_type": "markdown",
   "id": "74476acd-baa0-4bb3-8cb5-237a0b185b8d",
   "metadata": {},
   "source": [
    "# Load in the data files required for Input functions"
   ]
  },
  {
   "cell_type": "markdown",
   "id": "305af9f3-ffb6-4923-8e6d-4fc64d481909",
   "metadata": {},
   "source": [
    "### Load the Inbody_log data from the \"xl_inbody_log.csv file\n",
    "#### DATE_V >> row    &    dt_clm >> column;     bn=\"inbody_log\""
   ]
  },
  {
   "cell_type": "code",
   "execution_count": 1,
   "id": "b7e528d9-acda-4475-8282-c7e054fcaab9",
   "metadata": {},
   "outputs": [
    {
     "ename": "NameError",
     "evalue": "name 'load_csv' is not defined",
     "output_type": "error",
     "traceback": [
      "\u001b[31m---------------------------------------------------------------------------\u001b[39m",
      "\u001b[31mNameError\u001b[39m                                 Traceback (most recent call last)",
      "\u001b[36mCell\u001b[39m\u001b[36m \u001b[39m\u001b[32mIn[1]\u001b[39m\u001b[32m, line 1\u001b[39m\n\u001b[32m----> \u001b[39m\u001b[32m1\u001b[39m df_inbody_log = load_csv(\u001b[33m\"\u001b[39m\u001b[33mxl_inbody_log\u001b[39m\u001b[33m\"\u001b[39m)         \u001b[38;5;66;03m# internally calls \"get_csv_path\"\u001b[39;00m\n\u001b[32m      2\u001b[39m df\n",
      "\u001b[31mNameError\u001b[39m: name 'load_csv' is not defined"
     ]
    }
   ],
   "source": [
    "df_inbody_log = load_csv(\"xl_inbody_log\")         # internally calls \"get_csv_path\"\n",
    "df"
   ]
  },
  {
   "cell_type": "markdown",
   "id": "c0ae990b-0228-438e-b4d3-feab30785b3e",
   "metadata": {},
   "source": [
    "### Load the log data in the \"xl_dt_clm_attrbt\"\n",
    "#### attrbt >> row & dt_clm >> column bn=\"dt_clm_attrbt\""
   ]
  },
  {
   "cell_type": "code",
   "execution_count": 2,
   "id": "0bb79b0b-2ae7-414f-8d15-0aac2737feff",
   "metadata": {},
   "outputs": [
    {
     "ename": "NameError",
     "evalue": "name 'load_csv' is not defined",
     "output_type": "error",
     "traceback": [
      "\u001b[31m---------------------------------------------------------------------------\u001b[39m",
      "\u001b[31mNameError\u001b[39m                                 Traceback (most recent call last)",
      "\u001b[36mCell\u001b[39m\u001b[36m \u001b[39m\u001b[32mIn[2]\u001b[39m\u001b[32m, line 2\u001b[39m\n\u001b[32m      1\u001b[39m \u001b[38;5;66;03m# bn \"dt_clm_attrbt\"\u001b[39;00m\n\u001b[32m----> \u001b[39m\u001b[32m2\u001b[39m df_dt_clm_attrbt = load_csv(\u001b[33m\"\u001b[39m\u001b[33mxl_dt_clm_attrbt\u001b[39m\u001b[33m\"\u001b[39m)         \u001b[38;5;66;03m# calls \"get_csv_path\"\u001b[39;00m\n\u001b[32m      4\u001b[39m df_dt_clm_attrbt\n",
      "\u001b[31mNameError\u001b[39m: name 'load_csv' is not defined"
     ]
    }
   ],
   "source": [
    "# bn \"dt_clm_attrbt\"\n",
    "df_dt_clm_attrbt = load_csv(\"xl_dt_clm_attrbt\")         # calls \"get_csv_path\"\n",
    "\n",
    "df_dt_clm_attrbt"
   ]
  },
  {
   "cell_type": "code",
   "execution_count": null,
   "id": "356eb980-bdd3-4e9f-902a-5a9701036588",
   "metadata": {},
   "outputs": [],
   "source": []
  },
  {
   "cell_type": "code",
   "execution_count": null,
   "id": "89d8b09c-b390-4a07-8983-a2dff8700b06",
   "metadata": {},
   "outputs": [],
   "source": []
  }
 ],
 "metadata": {
  "kernelspec": {
   "display_name": "Python (scu)",
   "language": "python",
   "name": "scu"
  },
  "language_info": {
   "codemirror_mode": {
    "name": "ipython",
    "version": 3
   },
   "file_extension": ".py",
   "mimetype": "text/x-python",
   "name": "python",
   "nbconvert_exporter": "python",
   "pygments_lexer": "ipython3",
   "version": "3.11.13"
  }
 },
 "nbformat": 4,
 "nbformat_minor": 5
}
