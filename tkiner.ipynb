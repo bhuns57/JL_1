{
 "cells": [
  {
   "cell_type": "markdown",
   "id": "90043168-8e53-413c-8c42-587d8e1a949f",
   "metadata": {},
   "source": [
    "# Tkinter select key sys"
   ]
  },
  {
   "cell_type": "markdown",
   "id": "a263e2e0-c9c8-496f-b4ac-782939e1d197",
   "metadata": {},
   "source": [
    "# 9/4/ tkinter function to select 1 dat_col from a master array"
   ]
  },
  {
   "cell_type": "code",
   "execution_count": 2,
   "id": "e4dab681-2524-4dfb-b9e8-1383fd7f37b0",
   "metadata": {},
   "outputs": [],
   "source": [
    "#✅ Updated Function Signature and Usage\n",
    "import tkinter as tk\n",
    "\n",
    "class GroupCreater:\n",
    "    def __init__(self, array_dict):\n",
    "        self.array_dict = array_dict\n",
    "\n",
    "    def search_by_partial(self, partial: str):\n",
    "        partial_lower = partial.lower()\n",
    "        return [name for name in self.array_dict if partial_lower in name.lower()]\n",
    "\n",
    "    def get_metadata(self, name: str):\n",
    "        return self.array_dict.get(name, {})\n",
    "\n",
    "def tkintr(manager: GroupCreater):\n",
    "    selected_da_col = None\n",
    "\n",
    "    def update_listbox(event):\n",
    "        query = entry.get()\n",
    "        matches = manager.search_by_partial(query)\n",
    "        listbox.delete(0, tk.END)\n",
    "        for name in matches:\n",
    "            listbox.insert(tk.END, name)\n",
    "\n",
    "    def log_selection(event):\n",
    "        nonlocal selected_da_col\n",
    "        selected_da_col = listbox.get(tk.ACTIVE)\n",
    "        metadata = manager.get_metadata(selected_da_col)\n",
    "        log_entry = f\"Selected: {selected_da_col} | Dose: {metadata.get('dose', 'N/A')} | Form: {metadata.get('form', 'Unknown')}\\n\"\n",
    "        log_box.config(state=\"normal\")\n",
    "        log_box.insert(tk.END, log_entry)\n",
    "        log_box.config(state=\"disabled\")\n",
    "        root.destroy()\n",
    "\n",
    "    root = tk.Tk()\n",
    "    root.title(\"Supplement Search\")\n",
    "\n",
    "    entry = tk.Entry(root, width=30)\n",
    "    entry.pack(pady=10)\n",
    "    entry.bind(\"<KeyRelease>\", update_listbox)\n",
    "\n",
    "    listbox = tk.Listbox(root, width=50)\n",
    "    listbox.pack(pady=10)\n",
    "    listbox.bind(\"<Double-Button-1>\", log_selection)\n",
    "\n",
    "    log_label = tk.Label(root, text=\"Diagnostic Overlay\", font=(\"Arial\", 10, \"bold\"))\n",
    "    log_label.pack()\n",
    "\n",
    "    log_box = tk.Text(root, width=60, height=10, state=\"disabled\", bg=\"#f0f0f0\")\n",
    "    log_box.pack(pady=5)\n",
    "\n",
    "    root.mainloop()\n",
    "    return selected_da_col\n"
   ]
  },
  {
   "cell_type": "markdown",
   "id": "4ade6975-6f41-4561-bef9-fcce3f7f5929",
   "metadata": {},
   "source": [
    "## 9/4/ this tkinter function picks 1 dat_col by selecting from co_lables using tkinder selection"
   ]
  },
  {
   "cell_type": "code",
   "execution_count": null,
   "id": "b7318e43-ed12-44dc-8764-6e1c2cff06dd",
   "metadata": {},
   "outputs": [],
   "source": [
    "#✅ How to Call It\n",
    "array_dict = {\n",
    "    \"Vitamin D3\": {\"dose\": \"2000 IU\", \"form\": \"Softgel\"},\n",
    "    \"Magnesium Glycinate\": {\"dose\": \"400 mg\", \"form\": \"Capsule\"},\n",
    "    \"Omega-3\": {\"dose\": \"1000 mg\", \"form\": \"Liquid\"}\n",
    "}\n",
    "\n",
    "#manager = GroupCreater(array_dict)\n",
    "#selected = tkintr(manager)\n",
    "selected = tkintr(GroupCreater(array_dict))\n",
    "print(\"You selected dat_col :\", selected)\n"
   ]
  },
  {
   "cell_type": "markdown",
   "id": "acbcfa64-8f75-473c-a5cb-2383ede6fc3d",
   "metadata": {},
   "source": [
    "## ✅ Refactored GUI for Group Selection"
   ]
  },
  {
   "cell_type": "markdown",
   "id": "50856e01-b9f2-4aca-b997-eb1b3f5f2fa9",
   "metadata": {},
   "source": [
    "## ✅ Example Usage"
   ]
  },
  {
   "cell_type": "markdown",
   "id": "22b672e4-3949-4185-88c3-b76820eac9cb",
   "metadata": {},
   "source": [
    "## 🧠 Notes:\n",
    "1. You can adapt \"dat_cols\" to any metadata key you want to extract.\n",
    "2. This supports multi-selection via tk.MULTIPLE mode.\n",
    "3. The log_box gives you a diagnostic overlay of what was selected and why."
   ]
  },
  {
   "cell_type": "code",
   "execution_count": null,
   "id": "aa2e0de7-8bfa-42c1-9695-855c264ca091",
   "metadata": {},
   "outputs": [],
   "source": []
  }
 ],
 "metadata": {
  "kernelspec": {
   "display_name": "Python (scu)",
   "language": "python",
   "name": "scu"
  },
  "language_info": {
   "codemirror_mode": {
    "name": "ipython",
    "version": 3
   },
   "file_extension": ".py",
   "mimetype": "text/x-python",
   "name": "python",
   "nbconvert_exporter": "python",
   "pygments_lexer": "ipython3",
   "version": "3.11.13"
  }
 },
 "nbformat": 4,
 "nbformat_minor": 5
}
