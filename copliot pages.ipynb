{
 "cells": [
  {
   "cell_type": "markdown",
   "id": "7ad3810b-2a01-4608-8019-64f1c30acdcc",
   "metadata": {},
   "source": [
    "# "
   ]
  },
  {
   "cell_type": "code",
   "execution_count": 2,
   "id": "376c8ee3-82b6-43b0-865b-95699f4853c1",
   "metadata": {},
   "outputs": [
    {
     "ename": "ModuleNotFoundError",
     "evalue": "No module named 'pyperclip'",
     "output_type": "error",
     "traceback": [
      "\u001b[31m---------------------------------------------------------------------------\u001b[39m",
      "\u001b[31mModuleNotFoundError\u001b[39m                       Traceback (most recent call last)",
      "\u001b[36mCell\u001b[39m\u001b[36m \u001b[39m\u001b[32mIn[2]\u001b[39m\u001b[32m, line 2\u001b[39m\n\u001b[32m      1\u001b[39m \u001b[38;5;66;03m# page_registry_listener.py\u001b[39;00m\n\u001b[32m----> \u001b[39m\u001b[32m2\u001b[39m \u001b[38;5;28;01mimport\u001b[39;00m\u001b[38;5;250m \u001b[39m\u001b[34;01mpyperclip\u001b[39;00m,\u001b[38;5;250m \u001b[39m\u001b[34;01mtime\u001b[39;00m,\u001b[38;5;250m \u001b[39m\u001b[34;01mjson\u001b[39;00m\n\u001b[32m      4\u001b[39m REGISTRY_PATH = \u001b[33m\"\u001b[39m\u001b[33mcopilot_pages.json\u001b[39m\u001b[33m\"\u001b[39m\n\u001b[32m      6\u001b[39m \u001b[38;5;28;01mdef\u001b[39;00m\u001b[38;5;250m \u001b[39m\u001b[34mload_registry\u001b[39m():\n",
      "\u001b[31mModuleNotFoundError\u001b[39m: No module named 'pyperclip'"
     ]
    }
   ],
   "source": [
    "# page_registry_listener.py\n",
    "import pyperclip, time, json\n",
    "\n",
    "REGISTRY_PATH = \"copilot_pages.json\"\n",
    "\n",
    "def load_registry():\n",
    "    try:\n",
    "        with open(REGISTRY_PATH, \"r\") as f:\n",
    "            return json.load(f)\n",
    "    except:\n",
    "        return {}\n",
    "\n",
    "def save_registry(registry):\n",
    "    with open(REGISTRY_PATH, \"w\") as f:\n",
    "        json.dump(registry, f, indent=2)\n",
    "\n",
    "def is_copilot_url(text):\n",
    "    return \"copilot.microsoft.com/pages/\" in text\n",
    "\n",
    "def main():\n",
    "    registry = load_registry()\n",
    "    last_clip = \"\"\n",
    "    print(\"🔍 Listening for Copilot Page URLs...\")\n",
    "\n",
    "    while True:\n",
    "        clip = pyperclip.paste()\n",
    "        if clip != last_clip and is_copilot_url(clip):\n",
    "            print(f\"\\n📎 New Copilot Page detected:\\n{clip}\")\n",
    "            title = input(\"Enter page title: \").strip()\n",
    "            registry[title] = clip\n",
    "            save_registry(registry)\n",
    "            print(\"✅ Registry updated.\")\n",
    "        last_clip = clip\n",
    "        time.sleep(2)\n",
    "\n",
    "if __name__ == \"__main__\":\n",
    "    main()\n"
   ]
  },
  {
   "cell_type": "code",
   "execution_count": null,
   "id": "8b75997c-5cb5-4b42-abf9-f335e35f04ba",
   "metadata": {},
   "outputs": [],
   "source": []
  },
  {
   "cell_type": "code",
   "execution_count": null,
   "id": "1b735ecf-952f-45dd-8266-c5f90240ec7c",
   "metadata": {},
   "outputs": [],
   "source": []
  }
 ],
 "metadata": {
  "kernelspec": {
   "display_name": "Python (scu)",
   "language": "python",
   "name": "scu"
  },
  "language_info": {
   "codemirror_mode": {
    "name": "ipython",
    "version": 3
   },
   "file_extension": ".py",
   "mimetype": "text/x-python",
   "name": "python",
   "nbconvert_exporter": "python",
   "pygments_lexer": "ipython3",
   "version": "3.11.13"
  }
 },
 "nbformat": 4,
 "nbformat_minor": 5
}
