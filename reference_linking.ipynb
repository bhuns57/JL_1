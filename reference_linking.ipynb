{
 "cells": [
  {
   "cell_type": "code",
   "execution_count": null,
   "id": "ebe73602-744f-41d8-a0e8-9ac68b41a3bc",
   "metadata": {},
   "outputs": [],
   "source": [
    "2. Python Anchor Sync Utility\n",
    "\n",
    "import json\n",
    "import re\n",
    "\n",
    "def extract_anchors(ipynb_path):\n",
    "    with open(ipynb_path, 'r', encoding='utf-8') as f:\n",
    "        notebook = json.load(f)\n",
    "    anchors = []\n",
    "    for cell in notebook['cells']:\n",
    "        if cell['cell_type'] == 'markdown':\n",
    "            for line in cell['source']:\n",
    "                match = re.match(r'#+\\s+(.*)', line)\n",
    "                if match:\n",
    "                    title = match.group(1)\n",
    "                    anchor = re.sub(r'', '', title).replace(' ', '-').lower()\n",
    "                    anchors.append((title, anchor))\n",
    "    return anchors\n",
    "\n",
    "# Example usage:\n",
    "# anchors = extract_anchors('manual.ipynb')\n",
    "# print(anchors)"
   ]
  }
 ],
 "metadata": {
  "kernelspec": {
   "display_name": "Python (scu)",
   "language": "python",
   "name": "scu"
  },
  "language_info": {
   "codemirror_mode": {
    "name": "ipython",
    "version": 3
   },
   "file_extension": ".py",
   "mimetype": "text/x-python",
   "name": "python",
   "nbconvert_exporter": "python",
   "pygments_lexer": "ipython3",
   "version": "3.11.13"
  }
 },
 "nbformat": 4,
 "nbformat_minor": 5
}
