{
 "cells": [
  {
   "cell_type": "markdown",
   "id": "61e98bd4-a5e1-4d1e-836c-c5b356cd4ace",
   "metadata": {
    "editable": true,
    "slideshow": {
     "slide_type": ""
    },
    "tags": []
   },
   "source": [
    "# Readme"
   ]
  },
  {
   "cell_type": "code",
   "execution_count": null,
   "id": "19c6036c-ea93-48bf-a341-176a9d78359b",
   "metadata": {},
   "outputs": [],
   "source": []
  },
  {
   "cell_type": "markdown",
   "id": "c6da8678-9154-4fbd-8ee6-0e135eee4587",
   "metadata": {
    "jp-MarkdownHeadingCollapsed": true
   },
   "source": [
    "## Readme\n",
    "You're building a great pattern here, Bill—and encapsulating this into reusable functions is spot on for scaling with clarity. Here's a ready-to-run framework you can drop into JupyterLab that keeps Excel and pandas in lockstep.\n",
    "\n",
    "---\n",
    "\n",
    "## 📥 `load_df` — Read Excel Table into a Jupyter-Friendly DataFrame\n",
    "\n",
    "This reads only the Excel **table**, preserving layout and isolating your working data.\n",
    "\n",
    "```python\n",
    "import pandas as pd\n",
    "\n",
    "def load_df(table_name=\"xl_tbl\", file_name=\"xl_tbl.xlsx\", sheet_name=\"xl_tbl\"):\n",
    "    \"\"\"\n",
    "    Reads an Excel table into a DataFrame, preserving structure.\n",
    "    \"\"\"\n",
    "    df = pd.read_excel(\n",
    "        file_name,\n",
    "        sheet_name=sheet_name,\n",
    "        engine='openpyxl',\n",
    "        dtype=object\n",
    "    )\n",
    "    df.columns = df.columns.str.strip()  # Clean up column names\n",
    "    print(f\"✅ Loaded '{table_name}' from worksheet '{sheet_name}' in '{file_name}'\")\n",
    "    return df\n",
    "```\n",
    "\n",
    "To use it:\n",
    "\n",
    "```python\n",
    "df_tbl = load_df()\n",
    "```\n",
    "\n",
    "---\n",
    "\n",
    "## 📤 `write_df` — Push Updated DataFrame Back to Excel as a Table\n",
    "\n",
    "This function will:\n",
    "\n",
    "- Overwrite the `xl_tbl` worksheet\n",
    "- Rebuild the Excel table with your edited DataFrame\n",
    "- Preserve column names and structure\n",
    "\n",
    "```python\n",
    "from openpyxl import load_workbook\n",
    "from openpyxl.utils.dataframe import dataframe_to_rows\n",
    "from openpyxl.worksheet.table import Table, TableStyleInfo\n",
    "\n",
    "def write_df(df, table_name=\"xl_tbl\", file_name=\"xl_tbl.xlsx\", sheet_name=\"xl_tbl\"):\n",
    "    \"\"\"\n",
    "    Writes DataFrame to Excel, replacing the target worksheet and table.\n",
    "    \"\"\"\n",
    "    wb = load_workbook(file_name)\n",
    "    \n",
    "    # Remove existing sheet if it exists\n",
    "    if sheet_name in wb.sheetnames:\n",
    "        std = wb[sheet_name]\n",
    "        wb.remove(std)\n",
    "\n",
    "    # Add fresh sheet\n",
    "    ws = wb.create_sheet(sheet_name)\n",
    "    \n",
    "    # Write DataFrame to sheet\n",
    "    for r_idx, row in enumerate(dataframe_to_rows(df, index=False, header=True), start=1):\n",
    "        ws.append(row)\n",
    "\n",
    "    # Define table dimensions and name\n",
    "    nrows, ncols = df.shape\n",
    "    col_letter = chr(64 + ncols) if ncols <= 26 else None  # Extend this if needed\n",
    "    table_range = f\"A1:{chr(64 + ncols)}{nrows + 1}\"\n",
    "\n",
    "    table = Table(displayName=table_name, ref=table_range)\n",
    "    style = TableStyleInfo(name=\"TableStyleMedium9\", showRowStripes=True, showColumnStripes=False)\n",
    "    table.tableStyleInfo = style\n",
    "    ws.add_table(table)\n",
    "\n",
    "    wb.save(file_name)\n",
    "    print(f\"💾 Wrote updated '{table_name}' to '{file_name}' in sheet '{sheet_name}'\")\n",
    "```\n",
    "\n",
    "To use it:\n",
    "\n",
    "```python\n",
    "write_df(df_tbl)\n",
    "```\n",
    "\n",
    "---\n",
    "\n",
    "## 🧠 Extendability\n",
    "\n",
    "You can swap `\"tbl\"` for any table name like this:\n",
    "\n",
    "```python\n",
    "df_hr = load_df(\"hr_tbl\", \"hr_tbl.xlsx\", \"hr_tbl\")\n",
    "# edit df_hr...\n",
    "write_df(df_hr, \"hr_tbl\", \"hr_tbl.xlsx\", \"hr_tbl\")\n",
    "```\n",
    "\n",
    "---\n",
    "\n",
    "Would you like to package these into a reusable `.py` module like `excel_sync.py` you can import across notebooks? Or scaffold it with logging/version history baked in? You're already building a playbook—might as well make it elegant."
   ]
  },
  {
   "cell_type": "code",
   "execution_count": null,
   "id": "0c5c9c9b-08ad-4115-8fca-45ddfd186a8e",
   "metadata": {},
   "outputs": [],
   "source": [
    "# name the xl_tbl\n",
    "xl_tbl = \"xl_tbl\"  \n",
    "#xl_tbl = \"Cls_attrbt_tbl\""
   ]
  },
  {
   "cell_type": "code",
   "execution_count": null,
   "id": "753a970f-2379-4474-a520-545fa327161a",
   "metadata": {},
   "outputs": [],
   "source": [
    "import pandas as pd\n",
    "\n",
    "def load_df(table_name=xl_tbl, file_name= xl_tbl + \".xlsx\", sheet_name=xl_tbl):\n",
    "    \"\"\"\n",
    "    Reads an Excel table into a DataFrame, preserving structure.\n",
    "    \"\"\"\n",
    "    df = pd.read_excel(\n",
    "        file_name,\n",
    "        sheet_name=sheet_name,\n",
    "        engine='openpyxl',\n",
    "        dtype=object\n",
    "    )\n",
    "    df.columns = df.columns.str.strip()  # Clean up column names\n",
    "    print(f\"✅ Loaded '{table_name}' from worksheet '{sheet_name}' in '{file_name}'\")\n",
    "    return df\n"
   ]
  },
  {
   "cell_type": "code",
   "execution_count": null,
   "id": "f15003df-04c7-4e94-99f2-8f62aee3dbc5",
   "metadata": {},
   "outputs": [],
   "source": [
    "df_tbl = load_df()\n"
   ]
  },
  {
   "cell_type": "code",
   "execution_count": null,
   "id": "bca9400c-4bea-475c-9dc1-fccb8dd1a3b5",
   "metadata": {},
   "outputs": [],
   "source": [
    "print(df_tbl)"
   ]
  },
  {
   "cell_type": "code",
   "execution_count": null,
   "id": "b5ea1ac1-51a9-4430-8f48-12d739aff80f",
   "metadata": {},
   "outputs": [],
   "source": [
    "print(df_tbl.iloc[0,0])"
   ]
  },
  {
   "cell_type": "code",
   "execution_count": null,
   "id": "1d17859f-da22-475a-babb-b3715b620d9d",
   "metadata": {},
   "outputs": [],
   "source": [
    "df_tbl.iloc[0,0]= \"lifestyle\"\n",
    "#df_tbl.iloc[0,0]= \"BILL TEST\""
   ]
  },
  {
   "cell_type": "code",
   "execution_count": null,
   "id": "64ad28bd-09a7-41f9-a3b8-1d5b59251568",
   "metadata": {},
   "outputs": [],
   "source": [
    "print(df_tbl.iloc[0,0])"
   ]
  },
  {
   "cell_type": "code",
   "execution_count": null,
   "id": "3a81f1d9-af60-4d34-9b27-9b001d9069e4",
   "metadata": {
    "jupyter": {
     "source_hidden": true
    }
   },
   "outputs": [],
   "source": [
    "from openpyxl import load_workbook\n",
    "from openpyxl.utils.dataframe import dataframe_to_rows\n",
    "from openpyxl.worksheet.table import Table, TableStyleInfo\n",
    "\n",
    "def write_df(df, table_name=\"xl_tbl\", file_name=\"xl_tbl.xlsx\", sheet_name=\"xl_tbl\"):\n",
    "    \"\"\"\n",
    "    Writes DataFrame to Excel, replacing the target worksheet and table.\n",
    "    \"\"\"\n",
    "    wb = load_workbook(file_name)\n",
    "    \n",
    "    # Remove existing sheet if it exists\n",
    "    if sheet_name in wb.sheetnames:\n",
    "        std = wb[sheet_name]\n",
    "        wb.remove(std)\n",
    "\n",
    "    # Add fresh sheet\n",
    "    ws = wb.create_sheet(sheet_name)\n",
    "    \n",
    "    # Write DataFrame to sheet\n",
    "    for r_idx, row in enumerate(dataframe_to_rows(df, index=False, header=True), start=1):\n",
    "        ws.append(row)\n",
    "\n",
    "    # Define table dimensions and name\n",
    "    nrows, ncols = df.shape\n",
    "    col_letter = chr(64 + ncols) if ncols <= 26 else None  # Extend this if needed\n",
    "    table_range = f\"A1:{chr(64 + ncols)}{nrows + 1}\"\n",
    "\n",
    "    table = Table(displayName=table_name, ref=table_range)\n",
    "    style = TableStyleInfo(name=\"TableStyleMedium9\", showRowStripes=True, showColumnStripes=False)\n",
    "    table.tableStyleInfo = style\n",
    "    ws.add_table(table)\n",
    "\n",
    "    wb.save(file_name)\n",
    "    print(f\"💾 Wrote updated '{table_name}' to '{file_name}' in sheet '{sheet_name}'\")\n"
   ]
  },
  {
   "cell_type": "code",
   "execution_count": null,
   "id": "1e5ec759-4b9b-4503-9f7e-0143793ac04b",
   "metadata": {},
   "outputs": [],
   "source": [
    "write_df(df_tbl)\n"
   ]
  },
  {
   "cell_type": "code",
   "execution_count": null,
   "id": "fb319ba8-4ae8-4490-b356-20aa08d13d48",
   "metadata": {},
   "outputs": [],
   "source": []
  },
  {
   "cell_type": "code",
   "execution_count": null,
   "id": "b1f10280-23fa-4dba-8252-be649baadaf1",
   "metadata": {},
   "outputs": [],
   "source": []
  }
 ],
 "metadata": {
  "kernelspec": {
   "display_name": "Python (scu)",
   "language": "python",
   "name": "scu"
  },
  "language_info": {
   "codemirror_mode": {
    "name": "ipython",
    "version": 3
   },
   "file_extension": ".py",
   "mimetype": "text/x-python",
   "name": "python",
   "nbconvert_exporter": "python",
   "pygments_lexer": "ipython3",
   "version": "3.11.13"
  }
 },
 "nbformat": 4,
 "nbformat_minor": 5
}
