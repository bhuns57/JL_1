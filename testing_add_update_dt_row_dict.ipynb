{
 "cells": [
  {
   "cell_type": "raw",
   "id": "7a1357db-a215-4566-bc8b-3b5dc6d1ef4e",
   "metadata": {
    "jupyter": {
     "source_hidden": true
    }
   },
   "source": [
    "import pickle\n",
    "\n",
    "dt_row_dict = {'45861': {'s000': '', 's001': '', 's002': '', 's003': '', 's004': ''},\n",
    " '45862': {'s000': '', 's001': '', 's002': '', 's003': '', 's004': ''},\n",
    " '45863': {'s000': '', 's001': '', 's002': '', 's003': '', 's004': ''},\n",
    " '45864': {'s000': '', 's001': '', 's002': '', 's003': '', 's004': ''},\n",
    " '45865': {'s000': '', 's001': '', 's002': '', 's003': '', 's004': ''}}\n",
    "\n",
    "\n",
    "\n",
    "\n",
    "# Optionally save the updated dictionary back\n",
    "with open(\"dt_row_dict.pkl\", \"wb\") as f:\n",
    "    pickle.dump(dt_row_dict, f)\n"
   ]
  },
  {
   "cell_type": "code",
   "execution_count": 8,
   "id": "fe91be74-bbb2-4f80-8014-2ab40e9276c3",
   "metadata": {
    "scrolled": true
   },
   "outputs": [
    {
     "data": {
      "text/plain": [
       "{'45861': {'s000': '', 's001': '', 's002': '', 's003': '', 's004': ''},\n",
       " '45862': {'s000': '', 's001': '', 's002': '', 's003': '', 's004': ''},\n",
       " '45863': {'s000': '', 's001': '', 's002': '', 's003': '', 's004': ''},\n",
       " '45864': {'s000': '', 's001': '', 's002': '', 's003': '', 's004': ''},\n",
       " '45865': {'s000': '', 's001': '', 's002': '', 's003': '', 's004': ''}}"
      ]
     },
     "execution_count": 8,
     "metadata": {},
     "output_type": "execute_result"
    }
   ],
   "source": [
    "dt_row_dict"
   ]
  },
  {
   "cell_type": "code",
   "execution_count": 11,
   "id": "3644017f-4bde-4975-9252-d4b127a3160c",
   "metadata": {},
   "outputs": [],
   "source": [
    "import pickle\n",
    "\n",
    "# Load the original storage dictionary\n",
    "with open(\"dt_row_dict.pkl\", \"rb\") as f:\n",
    "    dt_row_dict = pickle.load(f)\n",
    "\n",
    "# Load the update dictionary\n",
    "with open(\"update_dt_row_dict.pkl\", \"rb\") as f:\n",
    "    update_dt_row_dict = pickle.load(f)\n",
    "\n",
    "# Apply updates\n",
    "for row_key, updates in update_dt_row_dict.items():\n",
    "    if row_key in dt_row_dict:\n",
    "        for col_key, new_value in updates.items():\n",
    "            if new_value != \"\":\n",
    "                dt_row_dict[row_key][col_key] = new_value\n",
    "\n",
    "# Optionally save the updated dictionary back\n",
    "with open(\"dt_row_dict.pkl\", \"wb\") as f:\n",
    "    pickle.dump(dt_row_dict, f)\n"
   ]
  },
  {
   "cell_type": "code",
   "execution_count": 12,
   "id": "d0cf3399-331a-4d03-a507-7ca21024bff7",
   "metadata": {},
   "outputs": [
    {
     "data": {
      "text/plain": [
       "{'45861': {'s000': 1.0, 's001': 1.0, 's002': 2.0, 's003': 1.0, 's004': 4.0},\n",
       " '45862': {'s000': 1.0, 's001': 1.0, 's002': 2.0, 's003': 1.0, 's004': 4.0},\n",
       " '45863': {'s000': '', 's001': '', 's002': '', 's003': '', 's004': ''},\n",
       " '45864': {'s000': '', 's001': '', 's002': '', 's003': '', 's004': ''},\n",
       " '45865': {'s000': '', 's001': '', 's002': '', 's003': '', 's004': ''}}"
      ]
     },
     "execution_count": 12,
     "metadata": {},
     "output_type": "execute_result"
    }
   ],
   "source": [
    "dt_row_dict"
   ]
  },
  {
   "cell_type": "code",
   "execution_count": null,
   "id": "823543af-5302-4977-91fa-1d130d537880",
   "metadata": {},
   "outputs": [],
   "source": []
  },
  {
   "cell_type": "code",
   "execution_count": null,
   "id": "6d50f465-2d3f-4e9c-be7f-b58c950afa40",
   "metadata": {},
   "outputs": [],
   "source": []
  }
 ],
 "metadata": {
  "kernelspec": {
   "display_name": "Python (scu)",
   "language": "python",
   "name": "scu"
  },
  "language_info": {
   "codemirror_mode": {
    "name": "ipython",
    "version": 3
   },
   "file_extension": ".py",
   "mimetype": "text/x-python",
   "name": "python",
   "nbconvert_exporter": "python",
   "pygments_lexer": "ipython3",
   "version": "3.11.13"
  }
 },
 "nbformat": 4,
 "nbformat_minor": 5
}
