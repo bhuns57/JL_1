{
 "cells": [
  {
   "cell_type": "markdown",
   "id": "ebbbf3ea-5681-4d70-baf7-3fbc6bd5e673",
   "metadata": {
    "editable": true,
    "jp-MarkdownHeadingCollapsed": true,
    "slideshow": {
     "slide_type": ""
    },
    "tags": []
   },
   "source": [
    "# Keyboard Short Cuts"
   ]
  },
  {
   "cell_type": "markdown",
   "id": "f1889a57-8817-4070-9028-0b0cf9c57e3a",
   "metadata": {
    "jp-MarkdownHeadingCollapsed": true
   },
   "source": [
    "## JL_Keyboard ShrtCTS"
   ]
  },
  {
   "cell_type": "markdown",
   "id": "a1e1db7a-0deb-413b-9186-5526c6d3245a",
   "metadata": {
    "jp-MarkdownHeadingCollapsed": true
   },
   "source": [
    "### 🧭 Modes to Know\n",
    "- **Edit Mode**: Press `Enter` to type inside a cell.\n",
    "- **Command Mode**: Press `Esc` to control cells (add, delete, move, etc.).\n",
    "\n",
    "---\n",
    "\n",
    "### ⚙️ Cell Management Shortcuts (Command Mode)\n",
    "| Action                        | Shortcut         |\n",
    "|------------------------------|------------------|\n",
    "| Run cell and select next     | `Shift + Enter`  |\n",
    "| Run cell and stay            | `Ctrl + Enter`   |\n",
    "| Run cell and insert below    | `Alt + Enter`    |\n",
    "| Insert cell above            | `A`              |\n",
    "| Insert cell below            | `B`              |\n",
    "| Delete cell                  | `D`, then `D`    |\n",
    "| Copy cell                    | `C`              |\n",
    "| Cut cell                     | `X`              |\n",
    "| Paste cell below             | `V`              |\n",
    "| Paste cell above             | `Shift + V`      |\n",
    "| Merge selected cells         | `Shift + M`      |\n",
    "| Undo cell deletion           | `Z`              |\n",
    "| Split cell at cursor         | `Ctrl + Shift + -` |\n",
    "| Change to Markdown           | `M`              |\n",
    "| Change to Code               | `Y`              |\n",
    "| Select cell above            | `K` or `↑`       |\n",
    "| Select cell below            | `J` or `↓`       |\n",
    "| Extend selection above       | `Shift + K`      |\n",
    "| Extend selection below       | `Shift + J`      |\n",
    "| Toggle line numbers          | `L`              |\n",
    "\n",
    "---\n",
    "\n",
    "### 🧠 Edit Mode Essentials\n",
    "| Action                        | Shortcut         |\n",
    "|------------------------------|------------------|\n",
    "| Code completion              | `Tab`            |\n",
    "| Tooltip (docstring preview)  | `Shift + Tab`    |\n",
    "| Comment line                 | `Ctrl + /`       |\n",
    "| Undo                         | `Ctrl + Z`       |\n",
    "| Redo                         | `Ctrl + Shift + Z` |\n",
    "| Indent / Dedent              | `Ctrl + ]` / `Ctrl + [` |\n",
    "\n",
    "---\n",
    "\n",
    "Want to customize these? You can go to **Help → Edit Keyboard Shortcuts** in JupyterLab to tweak or create your own.\n"
   ]
  },
  {
   "cell_type": "code",
   "execution_count": null,
   "id": "ae28eb7b-e89e-46b7-a0b5-89728262ca3e",
   "metadata": {},
   "outputs": [],
   "source": []
  },
  {
   "cell_type": "code",
   "execution_count": null,
   "id": "bae7a018-2b8b-499f-810d-04d0fd16f67b",
   "metadata": {},
   "outputs": [],
   "source": []
  },
  {
   "cell_type": "markdown",
   "id": "c70dcde8-dc32-4e1f-971d-3287db812779",
   "metadata": {
    "jp-MarkdownHeadingCollapsed": true
   },
   "source": [
    "## Terminal Keyboard SC"
   ]
  },
  {
   "cell_type": "markdown",
   "id": "c26672f2-a296-4a32-a818-d3d85718162b",
   "metadata": {
    "jupyter": {
     "source_hidden": true
    }
   },
   "source": [
    "📝 Nano Cheat Sheet — Terminal Text Editor for WSL\n",
    "Set the configuration\n",
    "nano ~/.bashrc\n",
    "\n",
    "🧭 Launching Nano\n",
    "nano filename.py         # Open or create Python script\n",
    "nano ~/.bashrc           # Edit Bash profile\n",
    "\n",
    "💾 Saving and Exiting\n",
    "Ctrl + O                 # Save the file\n",
    "Enter                    # Confirm filename\n",
    "Ctrl + X                 # Exit Nano\n",
    "\n",
    "✂️ Editing Shortcuts\n",
    "Ctrl + K                 # Cut current line\n",
    "Ctrl + U                 # Paste last cut line\n",
    "Ctrl + W                 # Search within file\n",
    "Ctrl + \\                 # Search & replace\n",
    "Ctrl + C                 # Show cursor location\n",
    "Ctrl + G                 # Help menu\n",
    "\n",
    "📌 WSL & Jupyter Tips\n",
    "Shift + Ctrl + V         # Paste into Nano\n",
    "Right-click              # Paste in most terminals\n",
    "Always Ctrl + O before X to avoid losing changes\n"
   ]
  },
  {
   "cell_type": "markdown",
   "id": "4ca2c062-65ef-4b62-a7a8-809aa81c0a1b",
   "metadata": {
    "jp-MarkdownHeadingCollapsed": true
   },
   "source": [
    "## Slicing syntax"
   ]
  },
  {
   "cell_type": "markdown",
   "id": "7e6b5d10-0bcb-4fed-a83f-7193adfb1ca5",
   "metadata": {
    "jp-MarkdownHeadingCollapsed": true,
    "jupyter": {
     "source_hidden": true
    }
   },
   "source": [
    "https://copilot.microsoft.com/pages/c8BYBnZNQ66Px221JYixp\n",
    "Here’s a handy reference for slicing syntax in JupyterLab using pandas and NumPy—perfect for quick lookups while you're working:\n",
    "\n",
    "---\n",
    "\n",
    "### 🧠 **Basic Slicing Syntax Table**\n",
    "\n",
    "| Operation                     | Syntax Example                          | Description                                 |\n",
    "|------------------------------|------------------------------------------|---------------------------------------------|\n",
    "| **Row slice by position**     | `df[0:5]`                                | Rows 0 to 4                                 |\n",
    "| **Row slice by label**        | `df.loc['2025-07-01':'2025-07-10']`     | Rows between two index labels               |\n",
    "| **Column slice by name**      | `df[['col1', 'col2']]`                  | Select multiple columns                     |\n",
    "| **Column slice by position**  | `df.iloc[:, 0:3]`                       | First 3 columns                             |\n",
    "| **Single cell by label**      | `df.loc['2025-07-01', 'col1']`          | Value at row label and column name          |\n",
    "| **Single cell by position**   | `df.iloc[0, 1]`                         | Value at row 0, column 1                    |\n",
    "| **Boolean mask**              | `df[df['col1'] > 100]`                  | Filter rows where `col1` > 100              |\n",
    "| **Conditional slice**         | `df[(df['col1'] > 100) & (df['col2'] < 50)]` | Multiple conditions                     |\n",
    "| **Datetime slice**            | `df.loc['2025-07']`                     | All rows from July 2025 (if datetime index) |\n",
    "\n",
    "---\n",
    "\n",
    "### 🧪 **NumPy Array Slicing**\n",
    "\n",
    "| Operation                     | Syntax Example                          | Description                                 |\n",
    "|------------------------------|------------------------------------------|---------------------------------------------|\n",
    "| **1D slice**                  | `arr[2:5]`                              | Elements 2 to 4                             |\n",
    "| **2D slice**                  | `arr[1:4, 0:2]`                         | Rows 1–3, Columns 0–1                       |\n",
    "| **Step slicing**             | `arr[::2]`                              | Every other element                         |\n",
    "| **Reverse slice**            | `arr[::-1]`                             | Reverse array                               |\n",
    "\n",
    "---\n",
    "\n",
    "If you’re slicing by `DATE_V` and want to align with your wide-format workflow, you’ll likely use `.loc` with datetime or integer ranges. Want help building a reusable slicing function for your analysis routines?"
   ]
  },
  {
   "cell_type": "markdown",
   "id": "0a750631-4180-435f-b037-18955aeddc7b",
   "metadata": {
    "jp-MarkdownHeadingCollapsed": true
   },
   "source": [
    "# Templates"
   ]
  },
  {
   "cell_type": "markdown",
   "id": "b7ecec1d-2680-466d-a620-c51dd20896f9",
   "metadata": {
    "jp-MarkdownHeadingCollapsed": true
   },
   "source": [
    "# Functions"
   ]
  },
  {
   "cell_type": "markdown",
   "id": "00cb9383-9ec0-43f1-a329-d4ba20cc57ed",
   "metadata": {},
   "source": [
    "# Dict structure and use"
   ]
  },
  {
   "cell_type": "markdown",
   "id": "5a44219c-dc12-4a09-8a4f-ada280110839",
   "metadata": {
    "jp-MarkdownHeadingCollapsed": true
   },
   "source": [
    "## dict init"
   ]
  },
  {
   "cell_type": "markdown",
   "id": "a284abd3-9e1e-4edf-bcf2-105630acfddc",
   "metadata": {},
   "source": [
    "## ***defaultdict***`—from the `collections` module—**automatically creates a default value**"
   ]
  },
  {
   "cell_type": "markdown",
   "id": "eed38580-7f06-46a2-b5e5-fd793aed78cf",
   "metadata": {},
   "source": [
    "Sure thing, Bill! Here's a full markdown version of your page, ready to copy and reuse:\n",
    "\n",
    "```markdown\n",
    "Absolutely, Bill—this one’s a subtle Python power move! Let’s break it down so it feels natural and intuitive. You’re seeing something called **recursive `defaultdict`s**, which are perfect for building nested dictionary structures *on the fly* without predefining each level.\n",
    "\n",
    "---\n",
    "\n",
    "### 🧠 What Is `defaultdict`?\n",
    "\n",
    "Normally, if you try accessing a missing key in a `dict`, Python throws a `KeyError`.\n",
    "\n",
    "But `defaultdict`—from the `collections` module—**automatically creates a default value** for missing keys. So instead of manually checking if a key exists, you just use it, and Python handles the rest.\n",
    "\n",
    "---\n",
    "\n",
    "### 🏗️ Now Let’s Decode This:\n",
    "\n",
    "```python\n",
    "from collections import defaultdict\n",
    "\n",
    "BNdict = defaultdict(lambda: defaultdict(lambda: defaultdict(dict)))\n",
    "```\n",
    "\n",
    "Here’s what each layer is doing:\n",
    "\n",
    "| Layer | Description | \n",
    "| --- | --- | \n",
    "| `BNdict` | First-level `defaultdict`. When you access a missing `key1`, it creates... | \n",
    "| → `defaultdict(...)` | A second-level `defaultdict` for `key2`, which creates... | \n",
    "| →→ `defaultdict(...)` | A third-level `defaultdict` for `key3`, which creates... | \n",
    "| →→→ `dict()` | A normal dictionary for `key4`, where the actual data goes. | \n",
    "\n",
    "It’s like saying:\n",
    "\n",
    "> *“If `key1` doesn't exist, create a `defaultdict`.  \n",
    "> If `key2` under that `key1` doesn't exist, create another `defaultdict`.  \n",
    "> If `key3` doesn’t exist under that, create a plain old `dict` to hold actual values.”*\n",
    "\n",
    "---\n",
    "\n",
    "### 📌 Why This Is Useful\n",
    "\n",
    "It lets you do this *without errors*:\n",
    "\n",
    "```python\n",
    "BNdict['A']['B']['C']['D'] = 42\n",
    "```\n",
    "\n",
    "Even if `'A'`, `'B'`, or `'C'` weren’t defined before, they’re instantly created for you.\n",
    "\n",
    "---\n",
    "\n",
    "### 🧪 Simple Example to Try Out\n",
    "\n",
    "```python\n",
    "BNdict['finance']['Q3']['revenue']['productA'] = 120000\n",
    "print(BNdict['finance']['Q3']['revenue']['productA'])  # → 120000\n",
    "```\n",
    "\n",
    "No manual setup required—Python builds the layers for you.\n",
    "\n",
    "---\n",
    "\n",
    "Would you like a version that works with 5 or 6 levels? Or maybe a way to convert this into a regular dictionary when you're ready to serialize or export?\n",
    "```\n",
    "\n",
    "Let me know if you’d like a downloadable file or want this converted into a template for reuse in other projects!"
   ]
  },
  {
   "cell_type": "code",
   "execution_count": null,
   "id": "b7c3b7cd-adb1-4513-9e4d-a2f6886c5bf4",
   "metadata": {},
   "outputs": [],
   "source": []
  }
 ],
 "metadata": {
  "kernelspec": {
   "display_name": "Python (scu)",
   "language": "python",
   "name": "scu"
  },
  "language_info": {
   "codemirror_mode": {
    "name": "ipython",
    "version": 3
   },
   "file_extension": ".py",
   "mimetype": "text/x-python",
   "name": "python",
   "nbconvert_exporter": "python",
   "pygments_lexer": "ipython3",
   "version": "3.11.13"
  }
 },
 "nbformat": 4,
 "nbformat_minor": 5
}
