{
 "cells": [
  {
   "cell_type": "markdown",
   "id": "ebbbf3ea-5681-4d70-baf7-3fbc6bd5e673",
   "metadata": {
    "editable": true,
    "slideshow": {
     "slide_type": ""
    },
    "tags": []
   },
   "source": [
    "# Keyboard Short Cuts"
   ]
  },
  {
   "cell_type": "markdown",
   "id": "f1889a57-8817-4070-9028-0b0cf9c57e3a",
   "metadata": {},
   "source": [
    "## JL_Keyboard ShrtCTS"
   ]
  },
  {
   "cell_type": "markdown",
   "id": "a1e1db7a-0deb-413b-9186-5526c6d3245a",
   "metadata": {
    "jp-MarkdownHeadingCollapsed": true
   },
   "source": [
    "### 🧭 Modes to Know\n",
    "- **Edit Mode**: Press `Enter` to type inside a cell.\n",
    "- **Command Mode**: Press `Esc` to control cells (add, delete, move, etc.).\n",
    "\n",
    "---\n",
    "\n",
    "### ⚙️ Cell Management Shortcuts (Command Mode)\n",
    "| Action                        | Shortcut         |\n",
    "|------------------------------|------------------|\n",
    "| Run cell and select next     | `Shift + Enter`  |\n",
    "| Run cell and stay            | `Ctrl + Enter`   |\n",
    "| Run cell and insert below    | `Alt + Enter`    |\n",
    "| Insert cell above            | `A`              |\n",
    "| Insert cell below            | `B`              |\n",
    "| Delete cell                  | `D`, then `D`    |\n",
    "| Copy cell                    | `C`              |\n",
    "| Cut cell                     | `X`              |\n",
    "| Paste cell below             | `V`              |\n",
    "| Paste cell above             | `Shift + V`      |\n",
    "| Merge selected cells         | `Shift + M`      |\n",
    "| Undo cell deletion           | `Z`              |\n",
    "| Split cell at cursor         | `Ctrl + Shift + -` |\n",
    "| Change to Markdown           | `M`              |\n",
    "| Change to Code               | `Y`              |\n",
    "| Select cell above            | `K` or `↑`       |\n",
    "| Select cell below            | `J` or `↓`       |\n",
    "| Extend selection above       | `Shift + K`      |\n",
    "| Extend selection below       | `Shift + J`      |\n",
    "| Toggle line numbers          | `L`              |\n",
    "\n",
    "---\n",
    "\n",
    "### 🧠 Edit Mode Essentials\n",
    "| Action                        | Shortcut         |\n",
    "|------------------------------|------------------|\n",
    "| Code completion              | `Tab`            |\n",
    "| Tooltip (docstring preview)  | `Shift + Tab`    |\n",
    "| Comment line                 | `Ctrl + /`       |\n",
    "| Undo                         | `Ctrl + Z`       |\n",
    "| Redo                         | `Ctrl + Shift + Z` |\n",
    "| Indent / Dedent              | `Ctrl + ]` / `Ctrl + [` |\n",
    "\n",
    "---\n",
    "\n",
    "Want to customize these? You can go to **Help → Edit Keyboard Shortcuts** in JupyterLab to tweak or create your own.\n"
   ]
  },
  {
   "cell_type": "code",
   "execution_count": null,
   "id": "ae28eb7b-e89e-46b7-a0b5-89728262ca3e",
   "metadata": {},
   "outputs": [],
   "source": []
  },
  {
   "cell_type": "code",
   "execution_count": null,
   "id": "bae7a018-2b8b-499f-810d-04d0fd16f67b",
   "metadata": {},
   "outputs": [],
   "source": []
  },
  {
   "cell_type": "markdown",
   "id": "c70dcde8-dc32-4e1f-971d-3287db812779",
   "metadata": {},
   "source": [
    "## Terminal Keyboard SC"
   ]
  },
  {
   "cell_type": "markdown",
   "id": "c26672f2-a296-4a32-a818-d3d85718162b",
   "metadata": {},
   "source": [
    "📝 Nano Cheat Sheet — Terminal Text Editor for WSL\n",
    "Set the configuration\n",
    "nano ~/.bashrc\n",
    "\n",
    "🧭 Launching Nano\n",
    "nano filename.py         # Open or create Python script\n",
    "nano ~/.bashrc           # Edit Bash profile\n",
    "\n",
    "💾 Saving and Exiting\n",
    "Ctrl + O                 # Save the file\n",
    "Enter                    # Confirm filename\n",
    "Ctrl + X                 # Exit Nano\n",
    "\n",
    "✂️ Editing Shortcuts\n",
    "Ctrl + K                 # Cut current line\n",
    "Ctrl + U                 # Paste last cut line\n",
    "Ctrl + W                 # Search within file\n",
    "Ctrl + \\                 # Search & replace\n",
    "Ctrl + C                 # Show cursor location\n",
    "Ctrl + G                 # Help menu\n",
    "\n",
    "📌 WSL & Jupyter Tips\n",
    "Shift + Ctrl + V         # Paste into Nano\n",
    "Right-click              # Paste in most terminals\n",
    "Always Ctrl + O before X to avoid losing changes\n"
   ]
  },
  {
   "cell_type": "markdown",
   "id": "0a750631-4180-435f-b037-18955aeddc7b",
   "metadata": {},
   "source": [
    "# Templates"
   ]
  },
  {
   "cell_type": "code",
   "execution_count": null,
   "id": "d1476922-7599-47d4-a61b-fae190eae5e1",
   "metadata": {},
   "outputs": [],
   "source": []
  }
 ],
 "metadata": {
  "kernelspec": {
   "display_name": "Python (scu)",
   "language": "python",
   "name": "scu"
  },
  "language_info": {
   "codemirror_mode": {
    "name": "ipython",
    "version": 3
   },
   "file_extension": ".py",
   "mimetype": "text/x-python",
   "name": "python",
   "nbconvert_exporter": "python",
   "pygments_lexer": "ipython3",
   "version": "3.11.13"
  }
 },
 "nbformat": 4,
 "nbformat_minor": 5
}
