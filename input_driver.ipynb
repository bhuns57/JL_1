{
 "cells": [
  {
   "cell_type": "markdown",
   "id": "9fa0ef66-97d2-4901-b948-469622717002",
   "metadata": {},
   "source": [
    "# *Shows sliders of the normal dosage: then adjust what is not normal and hit submit; yields data to be added to archieves*\n",
    "1. **blnk_update_dt_row_dict**\n",
    "2. **get differnt dates by computing it** *done in main_workbook*\n",
    "3. *get using csv_file* +**load_lut_config(csv_path)**\n",
    "4. *configure8 **slider properties with the data** *[Change by loading in XL]*"
   ]
  },
  {
   "cell_type": "code",
   "execution_count": 1,
   "id": "c8e0b737-288a-4722-bff2-3b0a51855f61",
   "metadata": {
    "jupyter": {
     "source_hidden": true
    }
   },
   "outputs": [],
   "source": [
    "# 🔹 Step 1: Load Inputs\n",
    "import pickle\n",
    "import csv\n",
    "\n",
    "# Load blank update dictionary\n",
    "with open(\"blnk_update_dt_row_dict.pkl\", \"rb\") as f:\n",
    "    blnk_update_dt_row_dict = pickle.load(f)\n",
    "\n",
    "\n",
    "# Load and parse lut_serial_config.csv\n",
    "def load_lut_config(csv_path):\n",
    "    with open(csv_path, newline='') as f:\n",
    "        reader = list(csv.reader(f))\n",
    "    headers = reader[0][1:]  # ['s000', 's001', ...]\n",
    "    lut = {}\n",
    "    \n",
    "    for row in reader[1:]:\n",
    "        key = row[0].strip('\"')\n",
    "        for i, val in enumerate(row[1:]):\n",
    "            serial = headers[i]\n",
    "            lut.setdefault(serial, {})[key] = val.strip('\"')\n",
    "    # Convert types\n",
    "    for serial, config in lut.items():\n",
    "        config['value'] = int(config.get('value', 1))\n",
    "        config['min'] = int(config.get('min', 0))\n",
    "        config['max'] = int(config.get('max', 10))\n",
    "        config['step'] = int(config.get('step', 1)) if config.get('step') else 1\n",
    "        config['active'] = config.get('active', 'true').lower() in ['true', 'yes']\n",
    "    return lut\n",
    "\n",
    "lut_serial_config = load_lut_config(\"lut_serial_config.csv\")\n"
   ]
  },
  {
   "cell_type": "code",
   "execution_count": 2,
   "id": "9506ac1d-eb86-4dfa-a361-1b166bf5444d",
   "metadata": {},
   "outputs": [
    {
     "data": {
      "text/plain": [
       "{'45861': {'s000': '', 's001': '', 's002': '', 's003': '', 's004': ''},\n",
       " '45862': {'s000': '', 's001': '', 's002': '', 's003': '', 's004': ''},\n",
       " '45863': {'s000': '', 's001': '', 's002': '', 's003': '', 's004': ''},\n",
       " '45864': {'s000': '', 's001': '', 's002': '', 's003': '', 's004': ''},\n",
       " '45865': {'s000': '', 's001': '', 's002': '', 's003': '', 's004': ''}}"
      ]
     },
     "execution_count": 2,
     "metadata": {},
     "output_type": "execute_result"
    }
   ],
   "source": [
    "blnk_update_dt_row_dict"
   ]
  },
  {
   "cell_type": "code",
   "execution_count": 3,
   "id": "4e793184-28a0-488b-8e7b-6d301ad2e811",
   "metadata": {},
   "outputs": [],
   "source": [
    "#lut_serial_config"
   ]
  },
  {
   "cell_type": "code",
   "execution_count": 4,
   "id": "571e52d7-11b3-4178-b4e5-0d16f64a7dd0",
   "metadata": {},
   "outputs": [
    {
     "data": {
      "application/vnd.jupyter.widget-view+json": {
       "model_id": "cfad9c196ee448da93246f46003f58de",
       "version_major": 2,
       "version_minor": 0
      },
      "text/plain": [
       "Output()"
      ]
     },
     "metadata": {},
     "output_type": "display_data"
    }
   ],
   "source": [
    "# Step 2: Build Slider Form\n",
    "import ipywidgets as widgets\n",
    "from IPython.display import display, clear_output\n",
    "\n",
    "update_dt_row_dict = {day: dict(serials) for day, serials in blnk_update_dt_row_dict.items()}\n",
    "output = widgets.Output()\n",
    "display(output)\n",
    "\n",
    "form_items = []\n",
    "slider_widgets = {}\n",
    "\n",
    "for day, serials in update_dt_row_dict.items():\n",
    "    form_items.append(widgets.HTML(value=f\"<b>Day: {day}</b>\"))\n",
    "    for serial in serials:\n",
    "        config = lut_serial_config.get(serial, {})\n",
    "        if not config.get('active', True):\n",
    "            continue\n",
    "        slider = widgets.FloatSlider(\n",
    "            value=config['value'],\n",
    "            min=config['min'],\n",
    "            max=config['max'],\n",
    "            step=config['step'],\n",
    "            description=f\"{config['name']}:\",\n",
    "            layout=widgets.Layout(width='400px')\n",
    "        )\n",
    "        slider_widgets[(day, serial)] = slider\n",
    "        form_items.append(slider)\n",
    "\n",
    "submit_button = widgets.Button(description=\"Submit\")\n",
    "\n",
    "def on_submit(b):\n",
    "    for (day, serial), slider in slider_widgets.items():\n",
    "        update_dt_row_dict[day][serial] = slider.value\n",
    "    with open(\"update_result.pkl\", \"wb\") as f:\n",
    "        pickle.dump(update_dt_row_dict, f)\n",
    "    with output:\n",
    "        clear_output()\n",
    "        print(\"✅ Update complete. Result saved to [[update_result.pkl]]\")\n",
    "        for day, serials in update_dt_row_dict.items():\n",
    "            print(f\"{day}: {serials}\")\n",
    "\n",
    "submit_button.on_click(on_submit)\n",
    "form_items.append(submit_button)\n",
    "form = widgets.VBox(form_items)\n",
    "\n",
    "with output:\n",
    "    clear_output()\n",
    "    print(\"Adjust sliders for each active supplement. Suspended ones are skipped.\\n\")\n",
    "    display(form)\n"
   ]
  },
  {
   "cell_type": "code",
   "execution_count": 5,
   "id": "7fbacda5-e1e5-43ae-9847-14c85adea677",
   "metadata": {},
   "outputs": [],
   "source": [
    "#update_dt_row_dict"
   ]
  },
  {
   "cell_type": "code",
   "execution_count": null,
   "id": "10fde0fd-6838-4020-b8c8-2294d4067186",
   "metadata": {},
   "outputs": [],
   "source": []
  }
 ],
 "metadata": {
  "kernelspec": {
   "display_name": "Python (scu)",
   "language": "python",
   "name": "scu"
  },
  "language_info": {
   "codemirror_mode": {
    "name": "ipython",
    "version": 3
   },
   "file_extension": ".py",
   "mimetype": "text/x-python",
   "name": "python",
   "nbconvert_exporter": "python",
   "pygments_lexer": "ipython3",
   "version": "3.11.13"
  }
 },
 "nbformat": 4,
 "nbformat_minor": 5
}
