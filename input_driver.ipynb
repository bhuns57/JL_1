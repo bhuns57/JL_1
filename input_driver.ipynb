{
 "cells": [
  {
   "cell_type": "markdown",
   "id": "042fd6b1-8cb4-46bb-860b-dad36cd83d2a",
   "metadata": {
    "jp-MarkdownHeadingCollapsed": true
   },
   "source": [
    "# **Adding New Data with slides:**"
   ]
  },
  {
   "cell_type": "markdown",
   "id": "fa6672e6-aeb6-4423-9e5a-2602cc77cc37",
   "metadata": {},
   "source": [
    "## Process"
   ]
  },
  {
   "cell_type": "markdown",
   "id": "b7dddf58-1465-4b3d-bf70-ff526a63ae4a",
   "metadata": {},
   "source": [
    "1. **blnk_update_dt_row_dict** is used to collect data0\n",
    "2. **Select \"dtv\"s for adding data** *done in main_workbook*\n",
    "3. **load_lut_config(csv_path) to set defaults etc** collects for csv.file.\n",
    "4. *Collects data on specified* **dtv**s\n",
    "5. *Shows sliders of the default dosage:\n",
    "6. Then operatoradjust them as to reflect changes from normal;\n",
    "7. Then put those values into **blnk_update_dt_row_dict**\n",
    "8. When **\"On submit\"** **\"update_dt_row_dict** is created\n",
    "9. Then loaded into* **update_dt_row_dict.pkl**\n",
    "10. Then verify the changes\n",
    "11. Adjust **dt_row_dict** with the data from **update_dt_row_dict**"
   ]
  },
  {
   "cell_type": "markdown",
   "id": "6beec22c-04c2-431b-b419-335b6a4237f1",
   "metadata": {},
   "source": [
    "## **Update**"
   ]
  },
  {
   "cell_type": "markdown",
   "id": "17a70cae-123a-4a43-a7bd-af0dd27de6da",
   "metadata": {
    "jp-MarkdownHeadingCollapsed": true
   },
   "source": [
    "### **Imports**"
   ]
  },
  {
   "cell_type": "code",
   "execution_count": 1,
   "id": "d1f050eb-6f02-4f3f-a86e-ff8d35a58e58",
   "metadata": {},
   "outputs": [],
   "source": [
    "import ipywidgets as widgets\n",
    "from IPython.display import display\n",
    "import pickle"
   ]
  },
  {
   "cell_type": "markdown",
   "id": "0400cbcf-f957-4573-84f4-9d8040a34001",
   "metadata": {
    "jp-MarkdownHeadingCollapsed": true
   },
   "source": [
    "### **Loaded DTV range**"
   ]
  },
  {
   "cell_type": "code",
   "execution_count": 2,
   "id": "b1f5eb6e-7cd0-4267-8d96-7ccdc2d519eb",
   "metadata": {},
   "outputs": [
    {
     "name": "stdout",
     "output_type": "stream",
     "text": [
      "Loaded DTV range: [45861, 45861]\n"
     ]
    }
   ],
   "source": [
    "##### import \"dtv\" from pickle\n",
    "with open(\"dtv_input.pkl\", \"rb\") as f:\n",
    "    dtv = pickle.load(f)\n",
    "print(\"Loaded DTV range:\", dtv)\n"
   ]
  },
  {
   "cell_type": "raw",
   "id": "dec91512-871e-4142-b12f-d5de777dc17f",
   "metadata": {},
   "source": [
    "raw dtv = [45861,45862]"
   ]
  },
  {
   "cell_type": "code",
   "execution_count": 3,
   "id": "d92b8e15-f428-4755-8a58-f8d7fd80733f",
   "metadata": {},
   "outputs": [
    {
     "data": {
      "text/plain": [
       "[45861, 45861]"
      ]
     },
     "execution_count": 3,
     "metadata": {},
     "output_type": "execute_result"
    }
   ],
   "source": [
    "dtv"
   ]
  },
  {
   "cell_type": "markdown",
   "id": "c6b6ebfc-2174-4dd6-94f5-6d43d9e1bb70",
   "metadata": {
    "jp-MarkdownHeadingCollapsed": true
   },
   "source": [
    "### **blnk_update_dt_row_dict**"
   ]
  },
  {
   "cell_type": "code",
   "execution_count": 4,
   "id": "36864c1c-8830-4b3b-92ac-d49cf390a469",
   "metadata": {},
   "outputs": [],
   "source": [
    "# Load blank  master dt_row_dict template all \"\"\n",
    "with open(\"blnk_update_dt_row_dict.pkl\", \"rb\") as f:\n",
    "    blnk_update_dt_row_dict = pickle.load(f)\n",
    "blnk_dt_row_dict = blnk_update_dt_row_dict"
   ]
  },
  {
   "cell_type": "code",
   "execution_count": 5,
   "id": "f11897ee-f5ec-4e03-a4bd-9ba3d2aa9fb0",
   "metadata": {},
   "outputs": [
    {
     "data": {
      "text/plain": [
       "{'45861': {'s000': '', 's001': '', 's002': '', 's003': '', 's004': ''},\n",
       " '45862': {'s000': '', 's001': '', 's002': '', 's003': '', 's004': ''},\n",
       " '45863': {'s000': '', 's001': '', 's002': '', 's003': '', 's004': ''},\n",
       " '45864': {'s000': '', 's001': '', 's002': '', 's003': '', 's004': ''},\n",
       " '45865': {'s000': '', 's001': '', 's002': '', 's003': '', 's004': ''}}"
      ]
     },
     "execution_count": 5,
     "metadata": {},
     "output_type": "execute_result"
    }
   ],
   "source": [
    "blnk_dt_row_dict           #  master dt_row_dict template all \"\""
   ]
  },
  {
   "cell_type": "markdown",
   "id": "710f2854-a664-4971-9ab1-711323036af4",
   "metadata": {
    "jp-MarkdownHeadingCollapsed": true
   },
   "source": [
    "### **blnk_update_dt_row_dict** *select only specified* **\"dtv\"s** *for update*"
   ]
  },
  {
   "cell_type": "code",
   "execution_count": 6,
   "id": "f14299fc-f1c3-4ed8-ab1e-c0ce6c26927c",
   "metadata": {},
   "outputs": [
    {
     "name": "stdout",
     "output_type": "stream",
     "text": [
      "[45861, 45861]\n",
      "{'45861': {'s000': '', 's001': '', 's002': '', 's003': '', 's004': ''}, '45862': {'s000': '', 's001': '', 's002': '', 's003': '', 's004': ''}, '45863': {'s000': '', 's001': '', 's002': '', 's003': '', 's004': ''}, '45864': {'s000': '', 's001': '', 's002': '', 's003': '', 's004': ''}, '45865': {'s000': '', 's001': '', 's002': '', 's003': '', 's004': ''}}\n"
     ]
    }
   ],
   "source": [
    "# def select_dtv_rows(dtv_range, blnk_dt_row_dict):\n",
    "# this the part of main blank dict we want to update.\n",
    "def select_dtv_rows(dtv_range, source_dict):\n",
    "    print(dtv_range)\n",
    "    print(blnk_dt_row_dict)\n",
    "    # Ensure keys are sorted numerically\n",
    "    sorted_keys = sorted(source_dict.keys(), key=int)\n",
    "\n",
    "    # Unpack and normalize range\n",
    "    start, end = sorted(dtv_range)\n",
    "    \n",
    "    # Filter keys within range\n",
    "    selected = {\n",
    "        k: source_dict[k]\n",
    "        for k in sorted_keys\n",
    "        if start <= int(k) <= end\n",
    "    }\n",
    "    return selected\n",
    "\n",
    "# Example usage\n",
    "# dtv = [45962, 45864]  Set ealier\n",
    "blnk_update_dt_row_dict = select_dtv_rows(dtv, blnk_dt_row_dict)\n",
    "\n",
    "#selected_rows = select_dtv_rows(dtv, blnk_my_dt_row_dict)\n",
    "#print(selected_rows)\n",
    "#"
   ]
  },
  {
   "cell_type": "code",
   "execution_count": 7,
   "id": "c23312b4-0420-41d4-86dc-159db7667f5b",
   "metadata": {},
   "outputs": [
    {
     "data": {
      "text/plain": [
       "{'45861': {'s000': '', 's001': '', 's002': '', 's003': '', 's004': ''}}"
      ]
     },
     "execution_count": 7,
     "metadata": {},
     "output_type": "execute_result"
    }
   ],
   "source": [
    "blnk_update_dt_row_dict "
   ]
  },
  {
   "cell_type": "markdown",
   "id": "4160ff72-e4f5-4562-9cf8-b3f0a85b4154",
   "metadata": {
    "jp-MarkdownHeadingCollapsed": true
   },
   "source": [
    "### **Load attributes from luts** *and preset the* **\"Slider\"s** "
   ]
  },
  {
   "cell_type": "code",
   "execution_count": 8,
   "id": "c8e0b737-288a-4722-bff2-3b0a51855f61",
   "metadata": {},
   "outputs": [],
   "source": [
    "# 🔹 Step 1: Load Inputs\n",
    "import pickle\n",
    "import csv\n",
    "\n",
    "# Load blank update dictionary\n",
    "#with open(\"blnk_update_dt_row_dict.pkl\", \"rb\") as f:\n",
    "#    blnk_update_dt_row_dict = pickle.load(f)\n",
    "\n",
    "blnk_update_dt_row_dict \n",
    "# Load and parse lut_serial_config.csv\n",
    "def load_lut_config(csv_path):\n",
    "    with open(csv_path, newline='') as f:\n",
    "        reader = list(csv.reader(f))\n",
    "    headers = reader[0][1:]  # ['s000', 's001', ...]\n",
    "    lut = {}\n",
    "    \n",
    "    for row in reader[1:]:\n",
    "        key = row[0].strip('\"')\n",
    "        for i, val in enumerate(row[1:]):\n",
    "            serial = headers[i]\n",
    "            lut.setdefault(serial, {})[key] = val.strip('\"')\n",
    "    # Convert types\n",
    "    for serial, config in lut.items():\n",
    "        config['value'] = int(config.get('value', 1))\n",
    "        config['min'] = int(config.get('min', 0))\n",
    "        config['max'] = int(config.get('max', 10))\n",
    "        config['step'] = int(config.get('step', 1)) if config.get('step') else 1\n",
    "        config['active'] = config.get('active', 'true').lower() in ['true', 'yes']\n",
    "    return lut\n",
    "\n",
    "lut_serial_config = load_lut_config(\"lut_serial_config.csv\")\n"
   ]
  },
  {
   "cell_type": "code",
   "execution_count": 9,
   "id": "9506ac1d-eb86-4dfa-a361-1b166bf5444d",
   "metadata": {},
   "outputs": [
    {
     "data": {
      "text/plain": [
       "{'45861': {'s000': '', 's001': '', 's002': '', 's003': '', 's004': ''}}"
      ]
     },
     "execution_count": 9,
     "metadata": {},
     "output_type": "execute_result"
    }
   ],
   "source": [
    "blnk_update_dt_row_dict"
   ]
  },
  {
   "cell_type": "markdown",
   "id": "ac86c924-2e19-486a-9238-5fb9a5119fd0",
   "metadata": {},
   "source": [
    "### *Pre=adjusted* **Sliders Presented** *make changes if the slider values are wrong, then* **\"Submit\"** "
   ]
  },
  {
   "cell_type": "code",
   "execution_count": 10,
   "id": "571e52d7-11b3-4178-b4e5-0d16f64a7dd0",
   "metadata": {},
   "outputs": [
    {
     "data": {
      "application/vnd.jupyter.widget-view+json": {
       "model_id": "b777563da83643afb541a45a586d546f",
       "version_major": 2,
       "version_minor": 0
      },
      "text/plain": [
       "Output()"
      ]
     },
     "metadata": {},
     "output_type": "display_data"
    }
   ],
   "source": [
    "# Step 2: Build Slider Form\n",
    "import ipywidgets as widgets\n",
    "from IPython.display import display, clear_output\n",
    "\n",
    "update_dt_row_dict = {day: dict(serials) for day, serials in blnk_update_dt_row_dict.items()}\n",
    "output = widgets.Output()\n",
    "display(output)\n",
    "\n",
    "form_items = []\n",
    "slider_widgets = {}\n",
    "\n",
    "for day, serials in update_dt_row_dict.items():\n",
    "    form_items.append(widgets.HTML(value=f\"<b>Day: {day}</b>\"))\n",
    "    for serial in serials:\n",
    "        config = lut_serial_config.get(serial, {})\n",
    "        if not config.get('active', True):\n",
    "            continue\n",
    "        slider = widgets.FloatSlider(\n",
    "            value=config['value'],\n",
    "            min=config['min'],\n",
    "            max=config['max'],\n",
    "            step=config['step'],\n",
    "            description=f\"{config['name']}:\",\n",
    "            layout=widgets.Layout(width='400px')\n",
    "        )\n",
    "        slider_widgets[(day, serial)] = slider\n",
    "        form_items.append(slider)\n",
    "\n",
    "submit_button = widgets.Button(description=\"Submit\")\n",
    "\n",
    "def on_submit(b):\n",
    "    for (day, serial), slider in slider_widgets.items():\n",
    "        update_dt_row_dict[day][serial] = slider.value\n",
    "    with open(\"update_dt_row_dict.pkl\", \"wb\") as f:    \n",
    "        pickle.dump(update_dt_row_dict, f)\n",
    "    with output:\n",
    "        clear_output()\n",
    "        print(\"✅ Update complete. Result saved to [[update_dt_row_dict.pkl]]\")\n",
    "        for day, serials in update_dt_row_dict.items():\n",
    "            print(f\"{day}: {serials}\")\n",
    "\n",
    "submit_button.on_click(on_submit)\n",
    "form_items.append(submit_button)\n",
    "form = widgets.VBox(form_items)\n",
    "\n",
    "with output:\n",
    "    clear_output()\n",
    "    print(\"Adjust sliders for each active supplement. Suspended ones are skipped.\\n\")\n",
    "    print(\"update_dt_row_dict is loaded'; go to\\n ### *update* *the* **dt_row_dict**  *with the values from* **update_dt_row_dict** \")\n",
    "\n",
    "    display(form)\n"
   ]
  },
  {
   "cell_type": "markdown",
   "id": "2f24b12d-1223-4043-b79a-a8f85e2bf537",
   "metadata": {},
   "source": [
    "### *Verify changes and update* *the* **dt_row_dict**  *with the values from* **update_dt_row_dict**"
   ]
  },
  {
   "cell_type": "code",
   "execution_count": 11,
   "id": "7fbacda5-e1e5-43ae-9847-14c85adea677",
   "metadata": {},
   "outputs": [
    {
     "name": "stdout",
     "output_type": "stream",
     "text": [
      "{'45861': {'s000': 1.0, 's001': 1.0, 's002': 2.0, 's003': 1.0, 's004': 1.0}, '45862': {'s000': 1.0, 's001': 1.0, 's002': 2.0, 's003': 1.0, 's004': 0.0}}\n"
     ]
    }
   ],
   "source": [
    "with open(\"update_dt_row_dict.pkl\", \"rb\") as f:\n",
    "    update_dt_row_dict = pickle.load(f)\n",
    "    print(update_dt_row_dict)"
   ]
  }
 ],
 "metadata": {
  "kernelspec": {
   "display_name": "Python (scu)",
   "language": "python",
   "name": "scu"
  },
  "language_info": {
   "codemirror_mode": {
    "name": "ipython",
    "version": 3
   },
   "file_extension": ".py",
   "mimetype": "text/x-python",
   "name": "python",
   "nbconvert_exporter": "python",
   "pygments_lexer": "ipython3",
   "version": "3.11.13"
  }
 },
 "nbformat": 4,
 "nbformat_minor": 5
}
