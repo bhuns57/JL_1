{
 "cells": [
  {
   "cell_type": "markdown",
   "id": "9fa0ef66-97d2-4901-b948-469622717002",
   "metadata": {},
   "source": [
    "# *Shows sliders of the normal dosage: then adjust what is not normal and hit submit; yields data to be added to archieves*\n",
    "1. **blnk_update_dt_row_dict**\n",
    "2. **get differnt dates by computing it** *done in main_workbook*\n",
    "3. *get using csv_file* +**load_lut_config(csv_path)**\n",
    "4. *configure8 **slider properties with the data** *[Change by loading in XL]*"
   ]
  },
  {
   "cell_type": "code",
   "execution_count": 1,
   "id": "2fc4b8d4-4ebc-4048-b7ff-a997a07320c5",
   "metadata": {},
   "outputs": [
    {
     "data": {
      "application/vnd.jupyter.widget-view+json": {
       "model_id": "b1e8ca8647d94e3d92f2e09b486012c0",
       "version_major": 2,
       "version_minor": 0
      },
      "text/plain": [
       "IntText(value=0, description='Start DTV:')"
      ]
     },
     "metadata": {},
     "output_type": "display_data"
    },
    {
     "data": {
      "application/vnd.jupyter.widget-view+json": {
       "model_id": "ca0f6a86b3fd49ea8cffed8b21e8959b",
       "version_major": 2,
       "version_minor": 0
      },
      "text/plain": [
       "IntText(value=0, description='End DTV:')"
      ]
     },
     "metadata": {},
     "output_type": "display_data"
    },
    {
     "data": {
      "application/vnd.jupyter.widget-view+json": {
       "model_id": "5132af479a4e4897b052138888f39229",
       "version_major": 2,
       "version_minor": 0
      },
      "text/plain": [
       "Button(description='Submit DTV', style=ButtonStyle())"
      ]
     },
     "metadata": {},
     "output_type": "display_data"
    },
    {
     "data": {
      "application/vnd.jupyter.widget-view+json": {
       "model_id": "ca370004fa30488b94f6b6a440d4ceee",
       "version_major": 2,
       "version_minor": 0
      },
      "text/plain": [
       "Output()"
      ]
     },
     "metadata": {},
     "output_type": "display_data"
    }
   ],
   "source": [
    "import ipywidgets as widgets\n",
    "from IPython.display import display\n",
    "import pickle\n",
    "\n",
    "# Output container\n",
    "output = widgets.Output()\n",
    "\n",
    "# Input widgets\n",
    "start_dtv = widgets.IntText(description='Start DTV:')\n",
    "end_dtv = widgets.IntText(description='End DTV:')\n",
    "submit_button = widgets.Button(description='Submit DTV')\n",
    "\n",
    "# Callback\n",
    "def on_submit(b):\n",
    "    with output:\n",
    "        output.clear_output()\n",
    "        dtv = [start_dtv.value, end_dtv.value]\n",
    "        print(\"DTV range:\", dtv)\n",
    "        with open(\"dtv_input.pkl\", \"wb\") as f:\n",
    "            pickle.dump(dtv, f)\n",
    "\n",
    "# Bind and display\n",
    "submit_button.on_click(on_submit)\n",
    "display(start_dtv, end_dtv, submit_button, output)\n"
   ]
  },
  {
   "cell_type": "code",
   "execution_count": 21,
   "id": "9fd4385f-1415-4021-bb43-a51cb899687c",
   "metadata": {},
   "outputs": [
    {
     "name": "stdout",
     "output_type": "stream",
     "text": [
      "Loaded DTV range: [45862, 45863]\n"
     ]
    }
   ],
   "source": [
    "import pickle\n",
    "with open(\"dtv_input.pkl\", \"rb\") as f:\n",
    "    dtv = pickle.load(f)\n",
    "print(\"Loaded DTV range:\", dtv)\n"
   ]
  },
  {
   "cell_type": "code",
   "execution_count": 22,
   "id": "328f4aaf-f4fa-4378-b9c1-3a9298133d47",
   "metadata": {},
   "outputs": [
    {
     "data": {
      "text/plain": [
       "[45862, 45863]"
      ]
     },
     "execution_count": 22,
     "metadata": {},
     "output_type": "execute_result"
    }
   ],
   "source": [
    "dtv"
   ]
  },
  {
   "cell_type": "code",
   "execution_count": 23,
   "id": "d1f050eb-6f02-4f3f-a86e-ff8d35a58e58",
   "metadata": {},
   "outputs": [],
   "source": [
    "import ipywidgets as widgets\n",
    "from IPython.display import display\n",
    "import pickle"
   ]
  },
  {
   "cell_type": "code",
   "execution_count": 24,
   "id": "36864c1c-8830-4b3b-92ac-d49cf390a469",
   "metadata": {},
   "outputs": [],
   "source": [
    "# Load blank update dictionary\n",
    "with open(\"blnk_update_dt_row_dict.pkl\", \"rb\") as f:\n",
    "    blnk_update_dt_row_dict = pickle.load(f)\n",
    "blnk_dt_row_dict = blnk_update_dt_row_dict"
   ]
  },
  {
   "cell_type": "code",
   "execution_count": 25,
   "id": "f11897ee-f5ec-4e03-a4bd-9ba3d2aa9fb0",
   "metadata": {},
   "outputs": [
    {
     "data": {
      "text/plain": [
       "{'45861': {'s000': '', 's001': '', 's002': '', 's003': '', 's004': ''},\n",
       " '45862': {'s000': '', 's001': '', 's002': '', 's003': '', 's004': ''},\n",
       " '45863': {'s000': '', 's001': '', 's002': '', 's003': '', 's004': ''},\n",
       " '45864': {'s000': '', 's001': '', 's002': '', 's003': '', 's004': ''},\n",
       " '45865': {'s000': '', 's001': '', 's002': '', 's003': '', 's004': ''}}"
      ]
     },
     "execution_count": 25,
     "metadata": {},
     "output_type": "execute_result"
    }
   ],
   "source": [
    "blnk_dt_row_dict"
   ]
  },
  {
   "cell_type": "code",
   "execution_count": 28,
   "id": "f14299fc-f1c3-4ed8-ab1e-c0ce6c26927c",
   "metadata": {},
   "outputs": [],
   "source": [
    "# def select_dtv_rows(dtv_range, blnk_dt_row_dict):\n",
    "def select_dtv_rows(dtv_range, source_dict):\n",
    "    # Ensure keys are sorted numerically\n",
    "    sorted_keys = sorted(source_dict.keys(), key=int)\n",
    "\n",
    "    # Unpack and normalize range\n",
    "    start, end = sorted(dtv_range)\n",
    "    \n",
    "    # Filter keys within range\n",
    "    selected = {\n",
    "        k: source_dict[k]\n",
    "        for k in sorted_keys\n",
    "        if start <= int(k) <= end\n",
    "    }\n",
    "    return selected\n",
    "\n",
    "# Example usage\n",
    "# dtv = [45962, 45864]  Set ealier\n",
    "blnk_update_dt_row_dict = select_dtv_rows(dtv, blnk_dt_row_dict)\n",
    "\n",
    "#selected_rows = select_dtv_rows(dtv, blnk_my_dt_row_dict)\n",
    "#print(selected_rows)\n"
   ]
  },
  {
   "cell_type": "code",
   "execution_count": 29,
   "id": "c23312b4-0420-41d4-86dc-159db7667f5b",
   "metadata": {},
   "outputs": [
    {
     "data": {
      "text/plain": [
       "{'45862': {'s000': '', 's001': '', 's002': '', 's003': '', 's004': ''},\n",
       " '45863': {'s000': '', 's001': '', 's002': '', 's003': '', 's004': ''}}"
      ]
     },
     "execution_count": 29,
     "metadata": {},
     "output_type": "execute_result"
    }
   ],
   "source": [
    "blnk_update_dt_row_dict "
   ]
  },
  {
   "cell_type": "code",
   "execution_count": 30,
   "id": "c8e0b737-288a-4722-bff2-3b0a51855f61",
   "metadata": {},
   "outputs": [],
   "source": [
    "# 🔹 Step 1: Load Inputs\n",
    "import pickle\n",
    "import csv\n",
    "\n",
    "# Load blank update dictionary\n",
    "#with open(\"blnk_update_dt_row_dict.pkl\", \"rb\") as f:\n",
    "#    blnk_update_dt_row_dict = pickle.load(f)\n",
    "\n",
    "\n",
    "# Load and parse lut_serial_config.csv\n",
    "def load_lut_config(csv_path):\n",
    "    with open(csv_path, newline='') as f:\n",
    "        reader = list(csv.reader(f))\n",
    "    headers = reader[0][1:]  # ['s000', 's001', ...]\n",
    "    lut = {}\n",
    "    \n",
    "    for row in reader[1:]:\n",
    "        key = row[0].strip('\"')\n",
    "        for i, val in enumerate(row[1:]):\n",
    "            serial = headers[i]\n",
    "            lut.setdefault(serial, {})[key] = val.strip('\"')\n",
    "    # Convert types\n",
    "    for serial, config in lut.items():\n",
    "        config['value'] = int(config.get('value', 1))\n",
    "        config['min'] = int(config.get('min', 0))\n",
    "        config['max'] = int(config.get('max', 10))\n",
    "        config['step'] = int(config.get('step', 1)) if config.get('step') else 1\n",
    "        config['active'] = config.get('active', 'true').lower() in ['true', 'yes']\n",
    "    return lut\n",
    "\n",
    "lut_serial_config = load_lut_config(\"lut_serial_config.csv\")\n"
   ]
  },
  {
   "cell_type": "code",
   "execution_count": 31,
   "id": "9506ac1d-eb86-4dfa-a361-1b166bf5444d",
   "metadata": {},
   "outputs": [
    {
     "data": {
      "text/plain": [
       "{'45862': {'s000': '', 's001': '', 's002': '', 's003': '', 's004': ''},\n",
       " '45863': {'s000': '', 's001': '', 's002': '', 's003': '', 's004': ''}}"
      ]
     },
     "execution_count": 31,
     "metadata": {},
     "output_type": "execute_result"
    }
   ],
   "source": [
    "blnk_update_dt_row_dict"
   ]
  },
  {
   "cell_type": "code",
   "execution_count": 32,
   "id": "4e793184-28a0-488b-8e7b-6d301ad2e811",
   "metadata": {},
   "outputs": [],
   "source": [
    "#lut_serial_config"
   ]
  },
  {
   "cell_type": "code",
   "execution_count": 33,
   "id": "571e52d7-11b3-4178-b4e5-0d16f64a7dd0",
   "metadata": {},
   "outputs": [
    {
     "data": {
      "application/vnd.jupyter.widget-view+json": {
       "model_id": "511c750f966d4f48a594a5f7feced9a7",
       "version_major": 2,
       "version_minor": 0
      },
      "text/plain": [
       "Output()"
      ]
     },
     "metadata": {},
     "output_type": "display_data"
    }
   ],
   "source": [
    "# Step 2: Build Slider Form\n",
    "import ipywidgets as widgets\n",
    "from IPython.display import display, clear_output\n",
    "\n",
    "update_dt_row_dict = {day: dict(serials) for day, serials in blnk_update_dt_row_dict.items()}\n",
    "output = widgets.Output()\n",
    "display(output)\n",
    "\n",
    "form_items = []\n",
    "slider_widgets = {}\n",
    "\n",
    "for day, serials in update_dt_row_dict.items():\n",
    "    form_items.append(widgets.HTML(value=f\"<b>Day: {day}</b>\"))\n",
    "    for serial in serials:\n",
    "        config = lut_serial_config.get(serial, {})\n",
    "        if not config.get('active', True):\n",
    "            continue\n",
    "        slider = widgets.FloatSlider(\n",
    "            value=config['value'],\n",
    "            min=config['min'],\n",
    "            max=config['max'],\n",
    "            step=config['step'],\n",
    "            description=f\"{config['name']}:\",\n",
    "            layout=widgets.Layout(width='400px')\n",
    "        )\n",
    "        slider_widgets[(day, serial)] = slider\n",
    "        form_items.append(slider)\n",
    "\n",
    "submit_button = widgets.Button(description=\"Submit\")\n",
    "\n",
    "def on_submit(b):\n",
    "    for (day, serial), slider in slider_widgets.items():\n",
    "        update_dt_row_dict[day][serial] = slider.value\n",
    "    with open(\"update_result.pkl\", \"wb\") as f:\n",
    "        pickle.dump(update_dt_row_dict, f)\n",
    "    with output:\n",
    "        clear_output()\n",
    "        print(\"✅ Update complete. Result saved to [[update_result.pkl]]\")\n",
    "        for day, serials in update_dt_row_dict.items():\n",
    "            print(f\"{day}: {serials}\")\n",
    "\n",
    "submit_button.on_click(on_submit)\n",
    "form_items.append(submit_button)\n",
    "form = widgets.VBox(form_items)\n",
    "\n",
    "with output:\n",
    "    clear_output()\n",
    "    print(\"Adjust sliders for each active supplement. Suspended ones are skipped.\\n\")\n",
    "    display(form)\n"
   ]
  },
  {
   "cell_type": "code",
   "execution_count": 34,
   "id": "7fbacda5-e1e5-43ae-9847-14c85adea677",
   "metadata": {},
   "outputs": [
    {
     "data": {
      "text/plain": [
       "{'45862': {'s000': 0.0, 's001': 1.0, 's002': 2.0, 's003': 1.0, 's004': 1.0},\n",
       " '45863': {'s000': 1.0, 's001': 1.0, 's002': 2.0, 's003': 1.0, 's004': 4.0}}"
      ]
     },
     "execution_count": 34,
     "metadata": {},
     "output_type": "execute_result"
    }
   ],
   "source": [
    "update_dt_row_dict"
   ]
  }
 ],
 "metadata": {
  "kernelspec": {
   "display_name": "Python (scu)",
   "language": "python",
   "name": "scu"
  },
  "language_info": {
   "codemirror_mode": {
    "name": "ipython",
    "version": 3
   },
   "file_extension": ".py",
   "mimetype": "text/x-python",
   "name": "python",
   "nbconvert_exporter": "python",
   "pygments_lexer": "ipython3",
   "version": "3.11.13"
  }
 },
 "nbformat": 4,
 "nbformat_minor": 5
}
