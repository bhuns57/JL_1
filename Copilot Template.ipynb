{
 "cells": [
  {
   "cell_type": "markdown",
   "id": "7f298b19-6106-4b69-a0d4-cd996e0f6cfa",
   "metadata": {},
   "source": [
    "# CoPilot_References  \"#\""
   ]
  },
  {
   "cell_type": "markdown",
   "id": "647e39fb-3d51-4e11-a8f8-d0c2633f9717",
   "metadata": {},
   "source": [
    "## Using template | ## "
   ]
  },
  {
   "cell_type": "markdown",
   "id": "934c1354-c78c-4545-9562-a06f36f516e1",
   "metadata": {},
   "source": [
    "### Instructions | ### \n",
    "1. Expand the the Topic [make sure it is completely expanded]\n",
    "2. Click on the bottom in left side mode with big X\n",
    "3. Shift click the top where it says \"Topic\"\n",
    "4. stay in the side mode and press control \"c\"\n",
    "5. Go to the cell above where you want it\n",
    "6. select that cell in the side mode and press \"v\""
   ]
  },
  {
   "cell_type": "markdown",
   "id": "587cfad6-2a4f-4dc7-b6cb-1d54258932b3",
   "metadata": {
    "jupyter": {
     "source_hidden": true
    }
   },
   "source": [
    "# Main Topic --------------------------- \"#\""
   ]
  },
  {
   "cell_type": "markdown",
   "id": "e4e7fe13-e0e0-4ac0-ac72-257ae0da9749",
   "metadata": {},
   "source": [
    "## | SubTopic | \"##\"\n"
   ]
  },
  {
   "cell_type": "markdown",
   "id": "830c3278-70d2-4cac-b713-964122754fe6",
   "metadata": {},
   "source": [
    "### | Link | \"###\"\n"
   ]
  },
  {
   "cell_type": "markdown",
   "id": "8608feae-7d63-4eae-a83d-d23887712a95",
   "metadata": {},
   "source": [
    "link"
   ]
  },
  {
   "cell_type": "markdown",
   "id": "769150ee-0e2b-475d-9834-50bf69838093",
   "metadata": {},
   "source": [
    "### |  Summary: | \"###\""
   ]
  },
  {
   "cell_type": "markdown",
   "id": "94362889-507d-42d4-9582-311ae5391acd",
   "metadata": {},
   "source": [
    "text"
   ]
  },
  {
   "cell_type": "markdown",
   "id": "4a7b1592-75ed-4ee6-92d5-3f08373918c3",
   "metadata": {},
   "source": [
    "### |  Intr: | \"###\"\n"
   ]
  },
  {
   "cell_type": "markdown",
   "id": "db6f6c6c-d6d4-4f70-933f-6fecf55b3f1b",
   "metadata": {},
   "source": [
    "text"
   ]
  },
  {
   "cell_type": "markdown",
   "id": "581359b3-8bea-4326-bb48-a39d266b2908",
   "metadata": {},
   "source": [
    "### |  Step 1: | \"###\""
   ]
  },
  {
   "cell_type": "markdown",
   "id": "cffaec8c-6435-4d33-9ab5-9e62ae67c551",
   "metadata": {},
   "source": [
    "#### | Explanation | \"####\""
   ]
  },
  {
   "cell_type": "code",
   "execution_count": 1,
   "id": "859badfc-db43-45f8-888c-60b5347c995d",
   "metadata": {},
   "outputs": [],
   "source": [
    "#### Scaffold"
   ]
  },
  {
   "cell_type": "markdown",
   "id": "b1726059-e0b2-4c14-8aff-71a053cdf194",
   "metadata": {},
   "source": [
    "### |  Step 2: | \"###\"\n"
   ]
  },
  {
   "cell_type": "markdown",
   "id": "81544d33-75ab-43eb-86a2-2701bee4b230",
   "metadata": {},
   "source": [
    "#### | Explanation | \"####\""
   ]
  },
  {
   "cell_type": "code",
   "execution_count": 2,
   "id": "0d07216b-5d8c-4c82-9c47-0a9cd330b36c",
   "metadata": {},
   "outputs": [],
   "source": [
    "#### Scaffold"
   ]
  },
  {
   "cell_type": "markdown",
   "id": "f489fc2d-ea02-486c-bc7a-c168a206d186",
   "metadata": {},
   "source": [
    "### |  Step 3: | \"###\"\n"
   ]
  },
  {
   "cell_type": "markdown",
   "id": "487362b4-a587-491c-874d-cf889d06307c",
   "metadata": {},
   "source": [
    "#### | Explanation | \"####\""
   ]
  },
  {
   "cell_type": "code",
   "execution_count": 3,
   "id": "e795c851-eee0-4148-827b-fb121228e09c",
   "metadata": {},
   "outputs": [],
   "source": [
    "#### Scaffold"
   ]
  },
  {
   "cell_type": "markdown",
   "id": "5cd7fca8-c14f-464e-8d1b-249177631c35",
   "metadata": {},
   "source": [
    "### |  Step 4: | \"###\"\n"
   ]
  },
  {
   "cell_type": "markdown",
   "id": "f2a05c32-01dc-4460-bdbd-3adc1bcefbc0",
   "metadata": {},
   "source": [
    "#### | Explanation | \"####\""
   ]
  },
  {
   "cell_type": "code",
   "execution_count": 4,
   "id": "dbcc6514-da0e-4d85-a9c8-f6ef50ae00af",
   "metadata": {},
   "outputs": [],
   "source": [
    "#### Scaffold"
   ]
  },
  {
   "cell_type": "markdown",
   "id": "9e09ada7-a81e-4a3b-a35b-33e95e4c1bd0",
   "metadata": {},
   "source": [
    "### |  Step 5: | \"###\"\n"
   ]
  },
  {
   "cell_type": "markdown",
   "id": "f1c9f235-36af-47ca-8294-211ec6bb53fc",
   "metadata": {},
   "source": [
    "#### | Explanation | \"####\""
   ]
  },
  {
   "cell_type": "code",
   "execution_count": 5,
   "id": "e298a2ad-219c-4b48-9903-479eae264eef",
   "metadata": {},
   "outputs": [],
   "source": [
    "#### Scaffold"
   ]
  },
  {
   "cell_type": "markdown",
   "id": "79619393-805a-42bb-a3d8-56d988e99065",
   "metadata": {},
   "source": [
    "### | User Anchors | \"###\"\n"
   ]
  },
  {
   "cell_type": "markdown",
   "id": "06e9a1d7-75fb-4777-be64-204aa0f5a6de",
   "metadata": {},
   "source": [
    "#### list           |\"####\""
   ]
  },
  {
   "cell_type": "markdown",
   "id": "89da351c-37af-4e3e-85dc-2a1fe0daeebc",
   "metadata": {
    "jp-MarkdownHeadingCollapsed": true
   },
   "source": [
    "# BU copy------------------------------------- \"#\""
   ]
  },
  {
   "cell_type": "markdown",
   "id": "4244ca11-75e6-44cf-a8c7-3480024bf6ac",
   "metadata": {},
   "source": [
    "## Using template | ## "
   ]
  },
  {
   "cell_type": "markdown",
   "id": "553588cb-8ccf-4311-b243-a874adbf4286",
   "metadata": {
    "jp-MarkdownHeadingCollapsed": true
   },
   "source": [
    "### Instructions | ### \n",
    "1. Expand the the Topic [make sure it is completely expanded]\n",
    "2. Click on the bottom in left side mode with big X\n",
    "3. Shift click the top where it says \"Topic\"\n",
    "4. stay in the side mode and press \"c\"\n",
    "5. Go to the cell above where you want it\n",
    "6. select that cell in the side mode and press \"v\""
   ]
  },
  {
   "cell_type": "markdown",
   "id": "31d6a24e-ad57-4cd4-be53-05b18eddd455",
   "metadata": {},
   "source": [
    "## | Topic | \"##\"\n"
   ]
  },
  {
   "cell_type": "markdown",
   "id": "d9f18188-465d-4b89-bd60-891b362a1ceb",
   "metadata": {},
   "source": [
    "# Main Topic --------------------------- \"#\""
   ]
  },
  {
   "cell_type": "markdown",
   "id": "4079f3d1-4d59-43de-9d29-1b1c9634f369",
   "metadata": {},
   "source": [
    "## | SubTopic | \"##\"\n"
   ]
  },
  {
   "cell_type": "markdown",
   "id": "f64118f5-7192-416d-8c6c-7b247469f901",
   "metadata": {},
   "source": [
    "### |  Summary: | \"###\""
   ]
  },
  {
   "cell_type": "markdown",
   "id": "a251dc40-609d-419c-af5e-0d1602d3642b",
   "metadata": {},
   "source": [
    "text"
   ]
  },
  {
   "cell_type": "markdown",
   "id": "e218b236-5810-4757-b86c-5f9c11abb0e0",
   "metadata": {},
   "source": [
    "### |  Intr: | \"###\"\n"
   ]
  },
  {
   "cell_type": "markdown",
   "id": "d1d1025d-d81d-4be6-ae5e-5231a7c81a58",
   "metadata": {},
   "source": [
    "text"
   ]
  },
  {
   "cell_type": "markdown",
   "id": "c2dd0a95-5f82-4bc3-b650-201871ad034d",
   "metadata": {},
   "source": [
    "### |  Step 1: | \"###\""
   ]
  },
  {
   "cell_type": "markdown",
   "id": "c440b61f-c1c5-4710-bcc3-553dfc36f43a",
   "metadata": {},
   "source": [
    "#### | Explanation | \"####\""
   ]
  },
  {
   "cell_type": "code",
   "execution_count": 6,
   "id": "297bcfd9-dacb-47d1-84fe-682da57174ca",
   "metadata": {},
   "outputs": [],
   "source": [
    "#### Scaffold"
   ]
  },
  {
   "cell_type": "markdown",
   "id": "fcf5b2eb-64ed-4d13-9cab-d63ce29acc7e",
   "metadata": {},
   "source": [
    "### |  Step 2: | \"###\"\n"
   ]
  },
  {
   "cell_type": "markdown",
   "id": "a1df964e-82c9-4ee5-981a-c1814995489a",
   "metadata": {},
   "source": [
    "#### | Explanation | \"####\""
   ]
  },
  {
   "cell_type": "code",
   "execution_count": 7,
   "id": "6165ea15-5b51-4d19-8d7a-fb762b7e88fd",
   "metadata": {},
   "outputs": [],
   "source": [
    "#### Scaffold"
   ]
  },
  {
   "cell_type": "markdown",
   "id": "1da7c668-500a-4293-995b-07aa66a9c028",
   "metadata": {},
   "source": [
    "### |  Step 3: | \"###\"\n"
   ]
  },
  {
   "cell_type": "markdown",
   "id": "af0ec86d-4a6e-4005-bb6d-86245cb2a1df",
   "metadata": {},
   "source": [
    "#### | Explanation | \"####\""
   ]
  },
  {
   "cell_type": "code",
   "execution_count": 8,
   "id": "60594934-2147-4b42-91ba-7679682ab2e0",
   "metadata": {},
   "outputs": [],
   "source": [
    "#### Scaffold"
   ]
  },
  {
   "cell_type": "markdown",
   "id": "d2e11356-d429-4f3d-aeaa-8c8697f15ac2",
   "metadata": {},
   "source": [
    "### |  Step 4: | \"###\"\n"
   ]
  },
  {
   "cell_type": "markdown",
   "id": "e226d68f-efeb-4eea-8d83-2fdf509ea0c7",
   "metadata": {},
   "source": [
    "#### | Explanation | \"####\""
   ]
  },
  {
   "cell_type": "code",
   "execution_count": 9,
   "id": "0f758056-d436-40b0-b72d-8742dcf1ee00",
   "metadata": {},
   "outputs": [],
   "source": [
    "#### Scaffold"
   ]
  },
  {
   "cell_type": "markdown",
   "id": "a2a2f91c-a2ae-4db9-9486-b7a180319058",
   "metadata": {},
   "source": [
    "### |  Step 5: | \"###\"\n"
   ]
  },
  {
   "cell_type": "markdown",
   "id": "d54f3014-a75e-4c8d-b50c-44555ea3077a",
   "metadata": {},
   "source": [
    "#### | Explanation | \"####\""
   ]
  },
  {
   "cell_type": "code",
   "execution_count": 10,
   "id": "91b4f898-61e7-4bf2-9bf4-cfe597812330",
   "metadata": {},
   "outputs": [],
   "source": [
    "#### Scaffold"
   ]
  },
  {
   "cell_type": "markdown",
   "id": "ca5c7654-44e1-418e-8373-e16b400de6e1",
   "metadata": {},
   "source": [
    "### | User Anchors | \"###\"\n"
   ]
  },
  {
   "cell_type": "markdown",
   "id": "c181ff32-c2e2-4062-8bbf-8585ee2e1ace",
   "metadata": {},
   "source": [
    "#### list           |\"####\""
   ]
  },
  {
   "cell_type": "markdown",
   "id": "bc60b1f1-26a9-4b4b-aa60-38c0d3bc55f4",
   "metadata": {},
   "source": [
    "# End ---------------    --------------------- \"#\""
   ]
  },
  {
   "cell_type": "code",
   "execution_count": null,
   "id": "b775fccc-a60b-4322-a0e2-d49881311d10",
   "metadata": {},
   "outputs": [],
   "source": []
  },
  {
   "cell_type": "code",
   "execution_count": null,
   "id": "61227dd3-8c69-46d5-b632-380485a45957",
   "metadata": {},
   "outputs": [],
   "source": []
  }
 ],
 "metadata": {
  "kernelspec": {
   "display_name": "Python (scu)",
   "language": "python",
   "name": "scu"
  },
  "language_info": {
   "codemirror_mode": {
    "name": "ipython",
    "version": 3
   },
   "file_extension": ".py",
   "mimetype": "text/x-python",
   "name": "python",
   "nbconvert_exporter": "python",
   "pygments_lexer": "ipython3",
   "version": "3.11.13"
  }
 },
 "nbformat": 4,
 "nbformat_minor": 5
}
