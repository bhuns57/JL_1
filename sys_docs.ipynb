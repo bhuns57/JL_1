{
 "cells": [
  {
   "cell_type": "markdown",
   "id": "ac28a09a-0f71-4510-9009-975f58c633fe",
   "metadata": {},
   "source": [
    "# System Documentation       [1]"
   ]
  },
  {
   "cell_type": "markdown",
   "id": "8f56cb93-a0c1-445a-8dc5-8560acdd88be",
   "metadata": {},
   "source": [
    "## Simplified load_csv_to_dict Introduction           [2]"
   ]
  },
  {
   "cell_type": "markdown",
   "id": "17d5ca1e-e740-417f-b015-e1941acdbf12",
   "metadata": {},
   "source": [
    "1. **Path():**   *from pathlib import Path*\n",
    "2. **csv.DictReader(file):**  *import csv*\n",
    "3. **dtv** *index*  *many*  **np.cols**"
   ]
  },
  {
   "cell_type": "markdown",
   "id": "0d6cc3bd-f7f7-444b-8578-a8add0e84ed6",
   "metadata": {},
   "source": [
    "## Tools         [2]"
   ]
  },
  {
   "cell_type": "markdown",
   "id": "4d034932-4106-4aef-a464-8c7783f8c7f9",
   "metadata": {},
   "source": [
    "### Link with Evenote/pilot Documentation         [3]"
   ]
  },
  {
   "cell_type": "markdown",
   "id": "aa2645cb-7e07-4a8e-a3ea-aeaca31d8273",
   "metadata": {},
   "source": [
    "**Link with evernote to bring in document text and images**\n",
    "1. Make a note in evernote app\n",
    "2. Open evernote web and copy the link\n",
    "3. Go JL and paste it in  Markdown cell with explanations\n",
    "4. Edit at will when linked back "
   ]
  },
  {
   "cell_type": "markdown",
   "id": "e13069fe-6d27-4097-a462-2f9eed012d5c",
   "metadata": {},
   "source": [
    "### Special Tools                                               [3]"
   ]
  },
  {
   "cell_type": "markdown",
   "id": "fa8d1a49-abae-4fd1-b4a0-798eba569283",
   "metadata": {},
   "source": [
    "#### Find repo           [4]"
   ]
  },
  {
   "cell_type": "code",
   "execution_count": null,
   "id": "79c31f41-44b2-4b10-8c6c-195d62545074",
   "metadata": {},
   "outputs": [],
   "source": [
    "Path.cwd()"
   ]
  },
  {
   "cell_type": "markdown",
   "id": "6e8b4b85-0a55-43d2-b045-39ac9e37aba4",
   "metadata": {},
   "source": [
    "#### **Move_file** *to* **repo** *from* **explorer** [4] "
   ]
  },
  {
   "cell_type": "markdown",
   "id": "1bed5f09-2323-41af-8000-cba5040587ae",
   "metadata": {},
   "source": [
    "move manually from explorer to repro\n",
    "details in https://share.evernote.com/note/eceab576-e515-b68a-73b1-9e31f1b1b928"
   ]
  },
  {
   "cell_type": "markdown",
   "id": "dda37008-d24e-408e-92f1-aa067fc5bd1a",
   "metadata": {},
   "source": [
    "# The def functions/Example calls for the System[1]"
   ]
  },
  {
   "cell_type": "markdown",
   "id": "2673fa1e-7cd4-4bc2-bd1e-5416bf0b2ae8",
   "metadata": {},
   "source": [
    "##  Data reorganizing,collecting,and bu_class                       [2] "
   ]
  },
  {
   "cell_type": "markdown",
   "id": "d83bd8a5-b7eb-4828-88a6-0f6457736847",
   "metadata": {},
   "source": [
    "###  **row_dic**  | *Dictionary of rows...frm csv file*                       [3] wrks"
   ]
  },
  {
   "cell_type": "markdown",
   "id": "3f902f5c-418a-4d92-87e7-cc93afeeb961",
   "metadata": {},
   "source": [
    "#### **def func** *for* **row_dict** [4] "
   ]
  },
  {
   "cell_type": "code",
   "execution_count": null,
   "id": "c7bbe6fa-a481-4787-869e-daf52ea4c5de",
   "metadata": {},
   "outputs": [],
   "source": [
    "# def load_csv_to_row_dict(bnm, subfolder=None)\n",
    "from pathlib import Path\n",
    "import csv\n",
    "\n",
    "def load_csv_to_row_dict(bnm, subfolder=None):\n",
    "    \"\"\"\n",
    "    Loads a CSV file into a dictionary of dictionaries from working directory or subfolder.\n",
    "\n",
    "    Parameters:\n",
    "        bnm (str): Filename of the CSV (e.g., 'bnm.csv')\n",
    "        subfolder (str, optional): Subdirectory within working directory. Defaults to working directory.\n",
    "\n",
    "    Returns:\n",
    "        dict: Dictionary where each row is keyed by the first column.\n",
    "    \"\"\"\n",
    "    # Step 1: Resolve working directory \n",
    "    base_path = Path.cwd()            #test OK = PosixPath('/home/bhuns/JL_1')\n",
    "    \n",
    "    \n",
    "    # Step 2: Build full path\n",
    "    full_path = base_path / subfolder / bnm if subfolder else base_path / bnm\n",
    "\n",
    "    # Step 3: Read CSV\n",
    "    result_dict = {}\n",
    "    with full_path.open(mode='r', newline='', encoding='latin1') as file:\n",
    "        reader = csv.DictReader(file)\n",
    "        for row in reader:\n",
    "            primary_key = row[reader.fieldnames[0]]\n",
    "            row_data = {k: v for k, v in row.items() if k != reader.fieldnames[0]}\n",
    "            result_dict[primary_key] = row_data\n",
    "\n",
    "    return result_dict\n"
   ]
  },
  {
   "cell_type": "markdown",
   "id": "45b02b49-e9c5-4751-9d8b-f89aa165122d",
   "metadata": {},
   "source": [
    "#### **Call func** *for* **row_dict** [4] "
   ]
  },
  {
   "cell_type": "code",
   "execution_count": null,
   "id": "aed675e0-b5ae-4b9d-b334-b01d9e476235",
   "metadata": {},
   "outputs": [],
   "source": [
    "# call load csv dict cols\n",
    "# Load from working directory\n",
    "bnm = \"bnm.csv\"       # qualification test\n",
    "bnm = \"ib97.csv\"\n",
    "bnm = load_csv_to_row_dict(bnm)\n",
    "\n",
    "# Load from subfolder within working directory\n",
    "#bnm = load_csv_to_dict(\"bnm.csv\", subfolder=\"data\")\n"
   ]
  },
  {
   "cell_type": "code",
   "execution_count": null,
   "id": "16e09f7c-9894-44d2-a1e0-1813f95f1c08",
   "metadata": {},
   "outputs": [],
   "source": [
    "# call load_csv_to_row_dict(bnm, subfolder=None)\n",
    "bnm"
   ]
  },
  {
   "cell_type": "markdown",
   "id": "97f8d996-acf5-4ec1-a6d0-ce94426947f2",
   "metadata": {},
   "source": [
    "### **col_dict**  *Dictionary of cols.frm dsv file      [3] wrks"
   ]
  },
  {
   "cell_type": "markdown",
   "id": "e4ef7959-2171-425d-8657-a56e83779991",
   "metadata": {},
   "source": [
    "#### **def func** *for* **col_dict** [4] "
   ]
  },
  {
   "cell_type": "code",
   "execution_count": null,
   "id": "35441212-5c4e-44a6-8864-4a5447ba0426",
   "metadata": {
    "scrolled": true
   },
   "outputs": [],
   "source": [
    "# def load_csv_to_col_dict(bnm, subfolder=None)\n",
    "from pathlib import Path\n",
    "import csv\n",
    "import numpy as np\n",
    "\n",
    "def load_csv_to_col_dict(bnm, subfolder=None):\n",
    "    \"\"\"\n",
    "    Loads a CSV file into a dictionary of NumPy arrays, keyed by column name.\n",
    "\n",
    "    Parameters:\n",
    "        bnm (str): Filename of the CSV (e.g., 'bnm.csv')\n",
    "        subfolder (str, optional): Subdirectory within working directory.\n",
    "\n",
    "    Returns:\n",
    "        dict: Dictionary where each key is a column name and value is a NumPy array of column values.\n",
    "    \"\"\"\n",
    "    # Step 1: Resolve path\n",
    "    base_path = Path.cwd()\n",
    "    full_path = base_path / subfolder / bnm if subfolder else base_path / bnm\n",
    "\n",
    "    # Step 2: Initialize column containers\n",
    "    col_data = {}\n",
    "\n",
    "    # Step 3: Read CSV and collect column-wise data\n",
    "    with full_path.open(mode='r', newline='', encoding='latin1') as file:\n",
    "        reader = csv.DictReader(file)\n",
    "        for row in reader:\n",
    "            for col, val in row.items():\n",
    "                col_data.setdefault(col, []).append(val)\n",
    "\n",
    "    # Step 4: Convert lists to NumPy arrays\n",
    "    col_dict = {col: np.array(vals) for col, vals in col_data.items()}\n",
    "\n",
    "    return col_dict\n"
   ]
  },
  {
   "cell_type": "markdown",
   "id": "a41757a9-4265-4545-941f-3e68014b5fb0",
   "metadata": {},
   "source": [
    "#### **Call func** *for* **col_dict** [4] "
   ]
  },
  {
   "cell_type": "code",
   "execution_count": null,
   "id": "7cac633d-596a-437e-84e2-e1630885522a",
   "metadata": {},
   "outputs": [],
   "source": [
    "# call load_csv_to_col_dict(bnm, subfolder=None)\n",
    " \n",
    "bnm = \"ib97.csv\"\n",
    "bnm = load_csv_to_col_dict(bnm)\n",
    "bnm"
   ]
  },
  {
   "cell_type": "markdown",
   "id": "978150d7-8fe1-4cba-a63e-9dadbcaf3178",
   "metadata": {},
   "source": [
    "##  input_class                       [2] "
   ]
  },
  {
   "cell_type": "markdown",
   "id": "06fe8200-069d-49db-89b8-433016f7fef6",
   "metadata": {},
   "source": [
    "## Readers \"       [2] ok"
   ]
  },
  {
   "cell_type": "markdown",
   "id": "36622add-befb-4fa2-ace6-160936750dda",
   "metadata": {},
   "source": [
    "### Dict \"       [3]"
   ]
  },
  {
   "cell_type": "code",
   "execution_count": null,
   "id": "6367621a-d914-4ce3-bc2e-f629de881c45",
   "metadata": {
    "scrolled": true
   },
   "outputs": [],
   "source": [
    "bnm"
   ]
  },
  {
   "cell_type": "code",
   "execution_count": null,
   "id": "10cdda6a-32ff-43a2-a2ef-0b0a2e84636e",
   "metadata": {
    "jupyter": {
     "source_hidden": true
    }
   },
   "outputs": [],
   "source": [
    "bnm = load_csv_to_col_dict(\"bnm.csv\")\n",
    "s001_array = bnm[\"s001\"]\n",
    "s001_array"
   ]
  },
  {
   "cell_type": "code",
   "execution_count": null,
   "id": "14c46b34-7e9e-4a92-9a77-38b601e8d35c",
   "metadata": {
    "scrolled": true
   },
   "outputs": [],
   "source": [
    "dtv_array = bnm[\"dtv\"]\n"
   ]
  },
  {
   "cell_type": "code",
   "execution_count": null,
   "id": "b9c9cd28-fcbf-4e7a-9ab8-f39c1a3d29a4",
   "metadata": {},
   "outputs": [],
   "source": [
    "bnm"
   ]
  },
  {
   "cell_type": "code",
   "execution_count": null,
   "id": "f14a73e0-2c31-49c1-9d1e-615ec9464b5d",
   "metadata": {},
   "outputs": [],
   "source": [
    "dtv_array = bnm[\"dtv\"]\n",
    "dtv_array\n"
   ]
  },
  {
   "cell_type": "code",
   "execution_count": null,
   "id": "e8392e1b-c1b5-4155-ab53-e5043ddedac1",
   "metadata": {},
   "outputs": [],
   "source": [
    "for dtv in bnm[\"dtv\"]:\n",
    "    print(dtv)\n"
   ]
  },
  {
   "cell_type": "code",
   "execution_count": null,
   "id": "17995409-e502-4424-97aa-21465402c974",
   "metadata": {},
   "outputs": [],
   "source": [
    "target_dtv = \"2025-09-18\"\n",
    "mask = bnm[\"dtv\"] == target_dtv\n",
    "filtered = {col: arr[mask] for col, arr in bnm.items()}\n",
    "\n",
    "filtered"
   ]
  },
  {
   "cell_type": "markdown",
   "id": "4eedbe7e-d73d-49d3-9daf-a692e4dc39f0",
   "metadata": {},
   "source": [
    "### df\"       [3]"
   ]
  },
  {
   "cell_type": "markdown",
   "id": "6eb18acf-5e43-412f-afa1-53d1c6134787",
   "metadata": {},
   "source": [
    "### lut \"       [3]"
   ]
  },
  {
   "cell_type": "markdown",
   "id": "befc93ef-4988-40bd-92df-e6e465fbaab4",
   "metadata": {},
   "source": [
    "## Filter_class                       [2] "
   ]
  },
  {
   "cell_type": "markdown",
   "id": "357cd6f1-d819-4660-a6d2-75fd2cd7d42b",
   "metadata": {},
   "source": [
    "## Correlation_class                       [2] "
   ]
  },
  {
   "cell_type": "markdown",
   "id": "9d234666-bbe2-46e6-bce9-ce4bac3c500c",
   "metadata": {},
   "source": [
    "## Graphics_class                       [2] "
   ]
  },
  {
   "cell_type": "markdown",
   "id": "aaac14d3-8969-4ede-a4f2-bb052e06e83e",
   "metadata": {},
   "source": [
    "## Diagrams_class                       [2] "
   ]
  },
  {
   "cell_type": "markdown",
   "id": "cc06e36e-1599-4900-9ee8-413227934a44",
   "metadata": {
    "jp-MarkdownHeadingCollapsed": true
   },
   "source": [
    "## Image_class                       [2] "
   ]
  },
  {
   "cell_type": "markdown",
   "id": "496e3c23-fffa-4b5e-95b5-ef3aa759f2a6",
   "metadata": {},
   "source": [
    "## _______ _class                       [2] "
   ]
  },
  {
   "cell_type": "markdown",
   "id": "d4a39dcc-c62e-40b9-9eec-9e4d6ef2177d",
   "metadata": {},
   "source": [
    "# The collect data to provide and store df, dict and luts [1]"
   ]
  },
  {
   "cell_type": "markdown",
   "id": "35333b4b-67fd-4d7d-863e-494c8f15007a",
   "metadata": {},
   "source": [
    "## Get data from insturments to .csv files.               [2]"
   ]
  },
  {
   "cell_type": "markdown",
   "id": "40f5f1c7-8339-4b16-8374-de7ee86e333d",
   "metadata": {
    "jp-MarkdownHeadingCollapsed": true
   },
   "source": [
    "### Get data from inbody 770 to .csv files.               [3]"
   ]
  },
  {
   "cell_type": "markdown",
   "id": "37215365-7783-435b-b755-a45e40db6fcb",
   "metadata": {},
   "source": [
    "### Get data from inbody 970 to .csv files.               [3]"
   ]
  },
  {
   "cell_type": "markdown",
   "id": "d5523186-fd24-4c91-8f00-f527f94e7df9",
   "metadata": {},
   "source": [
    "### Get data from manual inputs to .csv files .csv files.               [3]"
   ]
  },
  {
   "cell_type": "markdown",
   "id": "5e25f27a-bd8b-48a0-ba66-b59cdc1197b7",
   "metadata": {},
   "source": [
    "### Get data from updated dataframes .csv files.               [3]"
   ]
  },
  {
   "cell_type": "markdown",
   "id": "0ba417ec-4101-4fa7-8f60-c4e9ad4e62db",
   "metadata": {},
   "source": [
    "## Move data from .csv files to df, dict and lookup tables [2]"
   ]
  },
  {
   "cell_type": "markdown",
   "id": "52142e19-9175-4305-9b96-3801f969669e",
   "metadata": {},
   "source": [
    "## Backup the data to pickel and .csv files  [2]"
   ]
  },
  {
   "cell_type": "markdown",
   "id": "5d9477e7-4c46-47b9-bd94-982aba00a610",
   "metadata": {},
   "source": [
    "# The script                [1]"
   ]
  },
  {
   "cell_type": "markdown",
   "id": "c3450bd0-ce1e-4cf0-9c48-1957b471ab53",
   "metadata": {},
   "source": [
    "##   [2]"
   ]
  },
  {
   "cell_type": "code",
   "execution_count": null,
   "id": "548202cc-859a-47bc-9a5d-cda2529069ef",
   "metadata": {},
   "outputs": [],
   "source": []
  }
 ],
 "metadata": {
  "kernelspec": {
   "display_name": "Python (scu)",
   "language": "python",
   "name": "scu"
  },
  "language_info": {
   "codemirror_mode": {
    "name": "ipython",
    "version": 3
   },
   "file_extension": ".py",
   "mimetype": "text/x-python",
   "name": "python",
   "nbconvert_exporter": "python",
   "pygments_lexer": "ipython3",
   "version": "3.11.13"
  }
 },
 "nbformat": 4,
 "nbformat_minor": 5
}
