{
 "cells": [
  {
   "cell_type": "code",
   "execution_count": 1,
   "id": "b8f4188a-9713-4c29-a944-27f9dfc2af7b",
   "metadata": {},
   "outputs": [],
   "source": [
    "%run ./sys_funcs.py              # loads all the def functions in ss_funcs.py into memory\n"
   ]
  },
  {
   "cell_type": "markdown",
   "id": "ac28a09a-0f71-4510-9009-975f58c633fe",
   "metadata": {},
   "source": [
    "# System Documentation \n",
    "1. run \"import\" in \"ad_v1\" before using these functions[1]"
   ]
  },
  {
   "cell_type": "markdown",
   "id": "8f56cb93-a0c1-445a-8dc5-8560acdd88be",
   "metadata": {},
   "source": [
    "## **data structure in evernote**          [2]"
   ]
  },
  {
   "cell_type": "markdown",
   "id": "8e89fe51-288c-47c9-b588-a0f4023a628a",
   "metadata": {},
   "source": [
    "### *https://share.evernote.com/note/38552ee4-2ce4-ce2c-aac8-45b033db87b1*         [3]"
   ]
  },
  {
   "cell_type": "markdown",
   "id": "f48c7e44-ddf2-4a14-ab68-3d796eee6b1d",
   "metadata": {},
   "source": [
    "## Simplified load_csv_to_dict Introduction           [2]"
   ]
  },
  {
   "cell_type": "markdown",
   "id": "17d5ca1e-e740-417f-b015-e1941acdbf12",
   "metadata": {},
   "source": [
    "1. **Path():**   *from pathlib import Path*\n",
    "2. **csv.DictReader(file):**  *import csv*\n",
    "3. **dtv** *index*  *many*  **np.cols**"
   ]
  },
  {
   "cell_type": "markdown",
   "id": "0d6cc3bd-f7f7-444b-8578-a8add0e84ed6",
   "metadata": {},
   "source": [
    "## Tools         [2]"
   ]
  },
  {
   "cell_type": "markdown",
   "id": "4d034932-4106-4aef-a464-8c7783f8c7f9",
   "metadata": {},
   "source": [
    "### Link with Evenote/pilot Documentation         [3]"
   ]
  },
  {
   "cell_type": "markdown",
   "id": "aa2645cb-7e07-4a8e-a3ea-aeaca31d8273",
   "metadata": {},
   "source": [
    "**Link with evernote to bring in document text and images**\n",
    "1. Make a note in evernote app\n",
    "2. Open evernote web and copy the link\n",
    "3. Go JL and paste it in  Markdown cell with explanations\n",
    "4. Edit at will when linked back "
   ]
  },
  {
   "cell_type": "markdown",
   "id": "606a2d57-5cf3-4df2-9222-6d1d9e7f8243",
   "metadata": {
    "jp-MarkdownHeadingCollapsed": true
   },
   "source": [
    "#### **a modular Python function that takes a WSL (Windows Subsystem for Linux) path and returns a cleaned, normalized version using pathlib and re for robustness:**\n",
    "link beloq\n",
    "\n",
    "*https://copilot.microsoft.com/shares/W474hRBSM1XaZeDoNCne2*"
   ]
  },
  {
   "cell_type": "markdown",
   "id": "e13069fe-6d27-4097-a462-2f9eed012d5c",
   "metadata": {},
   "source": [
    "### Special Tools                                               [3]"
   ]
  },
  {
   "cell_type": "markdown",
   "id": "fa8d1a49-abae-4fd1-b4a0-798eba569283",
   "metadata": {},
   "source": [
    "#### Find repo           [4]"
   ]
  },
  {
   "cell_type": "code",
   "execution_count": 2,
   "id": "79c31f41-44b2-4b10-8c6c-195d62545074",
   "metadata": {},
   "outputs": [
    {
     "data": {
      "text/plain": [
       "PosixPath('/home/bhuns/JL_1')"
      ]
     },
     "execution_count": 2,
     "metadata": {},
     "output_type": "execute_result"
    }
   ],
   "source": [
    "Path.cwd()"
   ]
  },
  {
   "cell_type": "markdown",
   "id": "6e8b4b85-0a55-43d2-b045-39ac9e37aba4",
   "metadata": {
    "jp-MarkdownHeadingCollapsed": true
   },
   "source": [
    "#### **Move_file** *to* **repo** *from* **explorer** [4] "
   ]
  },
  {
   "cell_type": "markdown",
   "id": "1bed5f09-2323-41af-8000-cba5040587ae",
   "metadata": {},
   "source": [
    "move manually from explorer to repro\n",
    "details in https://share.evernote.com/note/eceab576-e515-b68a-73b1-9e31f1b1b928"
   ]
  },
  {
   "cell_type": "markdown",
   "id": "2673fa1e-7cd4-4bc2-bd1e-5416bf0b2ae8",
   "metadata": {},
   "source": [
    "##  move *.csv dat to Repo                      [2] "
   ]
  },
  {
   "cell_type": "markdown",
   "id": "dda37008-d24e-408e-92f1-aa067fc5bd1a",
   "metadata": {},
   "source": [
    "# def functions/calls        [1]"
   ]
  },
  {
   "cell_type": "markdown",
   "id": "bd7bc490-629e-462c-96d1-1ca0d1ed25d4",
   "metadata": {},
   "source": [
    "## def functions/calls loading data structures         [2]"
   ]
  },
  {
   "cell_type": "raw",
   "id": "57ea4f4e-42c1-434f-975e-20983689fbe3",
   "metadata": {},
   "source": [
    "### *def func & calls for* **read_csv_to_array** [3] "
   ]
  },
  {
   "cell_type": "code",
   "execution_count": null,
   "id": "f65aea6b-779b-4775-beb6-0049c0900095",
   "metadata": {},
   "outputs": [],
   "source": []
  },
  {
   "cell_type": "markdown",
   "id": "7851d2df-530a-4c85-af73-66283fec9a8b",
   "metadata": {},
   "source": [
    "### *def func & calls for* **clean_wsl_path(raw_path)** [3] "
   ]
  },
  {
   "cell_type": "code",
   "execution_count": 3,
   "id": "0d26755a-36b3-41dc-8ac6-ea9d20a9c600",
   "metadata": {},
   "outputs": [],
   "source": [
    "# def clean_wsl_path(raw_path)\n",
    "from pathlib import Path\n",
    "import re\n",
    "\n",
    "def clean_wsl_path(raw_path):\n",
    "    \"\"\"\n",
    "    Cleans and normalizes a WSL path for safe use in file operations.\n",
    "    Returns a pathlib.Path object.\n",
    "    \"\"\"\n",
    "    raw_path = raw_path.strip().replace('\\\\', '/')\n",
    "    raw_path = re.sub(r'/+', '/', raw_path)\n",
    "    return Path(raw_path)\n"
   ]
  },
  {
   "cell_type": "code",
   "execution_count": 3,
   "id": "ac58e7c6-0ccd-451f-952f-cb6073bb82c5",
   "metadata": {},
   "outputs": [
    {
     "data": {
      "text/plain": [
       "PosixPath('bnm.csv')"
      ]
     },
     "execution_count": 3,
     "metadata": {},
     "output_type": "execute_result"
    }
   ],
   "source": [
    "# IN RAW TO HOLD .....This is a test CALL clean_wsl_path(raw_path)\n",
    "raw_path = \"bnm.csv\"\n",
    "clean_wsl_path(raw_path)"
   ]
  },
  {
   "cell_type": "markdown",
   "id": "dbdc45af-2c2a-49bd-bd4f-15978f712fc4",
   "metadata": {},
   "source": [
    "### *def func & calls for* **read_csv_to_array(filepath)** [3] "
   ]
  },
  {
   "cell_type": "code",
   "execution_count": 5,
   "id": "1ad18e66-950e-430d-99b1-24a4ec4c675c",
   "metadata": {},
   "outputs": [],
   "source": [
    "# def read_csv_to_array(filepath)\n",
    "from pathlib import Path\n",
    "import csv\n",
    "\n",
    "def read_csv_to_array(filepath):\n",
    "    \"\"\"Reads a CSV file and returns a 2D array (list of lists).\"\"\"\n",
    "    path = Path(filepath)\n",
    "    if not path.exists():\n",
    "        raise FileNotFoundError(f\"CSV file not found: {path}\")\n",
    "\n",
    "    with path.open(newline='', encoding='utf-8') as f:\n",
    "        reader = csv.reader(f)\n",
    "        array = [row for row in reader if row]  # skip empty rows\n",
    "    return array"
   ]
  },
  {
   "cell_type": "code",
   "execution_count": 4,
   "id": "bb4f75f0-00b9-4293-b345-19ba47575b23",
   "metadata": {
    "scrolled": true
   },
   "outputs": [
    {
     "name": "stdout",
     "output_type": "stream",
     "text": [
      "bnm.csv\n"
     ]
    }
   ],
   "source": [
    "# CALL read_csv_to_array(filepath)\n",
    "# Read a \"csv file\" at \"csv_path\" to get an \"array\" from  nane.csv file.\n",
    "raw_path = 'bnm.csv'                     # put the desired file name here\n",
    "csv_path = clean_wsl_path(raw_path)       # clean_wsl_path(raw_path) from cleaner function\n",
    "print(csv_path)\n",
    "array = read_csv_to_array(csv_path)\n",
    "#array"
   ]
  },
  {
   "cell_type": "code",
   "execution_count": 7,
   "id": "e0be83ac-f958-46a6-85cb-3e5b408d5cbc",
   "metadata": {},
   "outputs": [
    {
     "data": {
      "text/plain": [
       "[['dtv', 's000', 's001', 's002', 's003', 's004'],\n",
       " ['45860', '', '', '', '', ''],\n",
       " ['45861', '', '', '', '', ''],\n",
       " ['45862', '', '8.0', '', '', ''],\n",
       " ['45863', '', '', '', '', ''],\n",
       " ['45864', '', '', '', '5.0', ''],\n",
       " ['45865', '', '', '', '', '']]"
      ]
     },
     "execution_count": 7,
     "metadata": {},
     "output_type": "execute_result"
    }
   ],
   "source": [
    "array"
   ]
  },
  {
   "cell_type": "markdown",
   "id": "1ecdaee9-e045-4703-8188-7ca0df3545cd",
   "metadata": {},
   "source": [
    "### *def func & calls for* **array_to_dt_row_dict(array** [3] "
   ]
  },
  {
   "cell_type": "code",
   "execution_count": 8,
   "id": "be4e7c3e-2942-4535-bf77-e837d5b37331",
   "metadata": {},
   "outputs": [],
   "source": [
    "# array_to_dt_row_dict(array) THIS IS THE TOTAL DATA FOR THIS \"bnm\"\n",
    "def array_to_dt_row_dict(array):\n",
    "    header = array[0][1:]  # Skip 'dtv', keep other column names\n",
    "    dt_row_dict = {} \n",
    "\n",
    "    for row in array[1:]:\n",
    "        key = row[0]  # 'dtv' value\n",
    "        values = row[1:]\n",
    "        dt_row_dict[key] = dict(zip(header, values))\n",
    "\n",
    "    return dt_row_dict"
   ]
  },
  {
   "cell_type": "code",
   "execution_count": 5,
   "id": "dce36e4a-b0ba-42eb-8dec-543b24c43314",
   "metadata": {},
   "outputs": [],
   "source": [
    "# Call array_to_dt_row_dict(array)\n",
    "#array = array\n",
    "dt_row_dict = array_to_dt_row_dict(array)    "
   ]
  },
  {
   "cell_type": "code",
   "execution_count": 10,
   "id": "d2e0133b-e058-42ca-b870-63b569e5e36f",
   "metadata": {},
   "outputs": [
    {
     "data": {
      "text/plain": [
       "{'45860': {'s000': '', 's001': '', 's002': '', 's003': '', 's004': ''},\n",
       " '45861': {'s000': '', 's001': '', 's002': '', 's003': '', 's004': ''},\n",
       " '45862': {'s000': '', 's001': '8.0', 's002': '', 's003': '', 's004': ''},\n",
       " '45863': {'s000': '', 's001': '', 's002': '', 's003': '', 's004': ''},\n",
       " '45864': {'s000': '', 's001': '', 's002': '', 's003': '5.0', 's004': ''},\n",
       " '45865': {'s000': '', 's001': '', 's002': '', 's003': '', 's004': ''}}"
      ]
     },
     "execution_count": 10,
     "metadata": {},
     "output_type": "execute_result"
    }
   ],
   "source": [
    "dt_row_dict"
   ]
  },
  {
   "cell_type": "markdown",
   "id": "34d53b14-9822-416b-80e2-5ff0db4ec035",
   "metadata": {},
   "source": [
    "### *def func & calls to* **scaffold_update_row_dict(xrow_dict, dvt)** *for range dtv's*  [3] "
   ]
  },
  {
   "cell_type": "code",
   "execution_count": 11,
   "id": "04bb13e1-1834-429e-a36b-e4600f601a89",
   "metadata": {},
   "outputs": [],
   "source": [
    "def scaffold_update_row_dict(xrow_dict, dvt):\n",
    "    \"\"\"Create a blank update_row_dict with same columns as xrow_dict, filtered by date range.\"\"\"\n",
    "    start_date, end_date = dvt\n",
    "    update_row_dict = {}\n",
    "\n",
    "    for date_key in row_dict:\n",
    "        if start_date <= date_key <= end_date:\n",
    "            update_row_dict[date_key] = {col: '' for col in xrow_dict[date_key]}\n",
    "\n",
    "    return update_row_dict\n"
   ]
  },
  {
   "cell_type": "code",
   "execution_count": 12,
   "id": "bb6225c3-6b41-44b9-acb2-6b7901b17520",
   "metadata": {},
   "outputs": [],
   "source": [
    "\n",
    "dvt = [\"45861\", \"45862\"]\n",
    "row_dict = dt_row_dict\n",
    "update_row_dict = scaffold_update_row_dict(row_dict, dvt)\n"
   ]
  },
  {
   "cell_type": "code",
   "execution_count": 13,
   "id": "96f32e5e-f289-44fb-bfb2-76936633842a",
   "metadata": {},
   "outputs": [
    {
     "data": {
      "text/plain": [
       "{'45861': {'s000': '', 's001': '', 's002': '', 's003': '', 's004': ''},\n",
       " '45862': {'s000': '', 's001': '', 's002': '', 's003': '', 's004': ''}}"
      ]
     },
     "execution_count": 13,
     "metadata": {},
     "output_type": "execute_result"
    }
   ],
   "source": [
    "update_row_dict "
   ]
  },
  {
   "cell_type": "markdown",
   "id": "9e798790-5b43-4c15-bf8e-5ca11398a73e",
   "metadata": {},
   "source": [
    "### **Specify the lut** *get input info by serial numbers [sn] for use in the input function* [3] "
   ]
  },
  {
   "cell_type": "code",
   "execution_count": 14,
   "id": "a9e00679-26f0-4b5c-856b-234aa7c1e4ad",
   "metadata": {},
   "outputs": [],
   "source": [
    "# https://copilot.microsoft.com/shares/JPDyHNHHcYGvsBEGDpSyD\n",
    "# manually make a file in excel called \"lut\" then inport it"
   ]
  },
  {
   "cell_type": "raw",
   "id": "ea1f112f-7d5c-4374-97da-677b0291cf1a",
   "metadata": {},
   "source": [
    "RAW lut = {\n",
    "    \"s000\": [\"s000\", \"no\", \"\", \"NA\", None, \"6.2\", \"Water Intake\"],\n",
    "    \"s001\": [\"s001\", \"yes\", \"filled\", \"0.0\", None, \"7.5\", \"Fiber Intake\"],\n",
    "    \"s002\": [\"s002\", \"yes\", \"\", \"0.0\", None, \"3.0\", \"Sweetener\"],\n",
    "    \"s003\": [\"s003\", \"no\", \"\", \"NA\", None, \"5.0\", \"C8 MCT Dose\"],\n",
    "    \"s004\": [\"s004\", \"yes\", \"filled\", \"0.0\", None, \"2.0\", \"Magnesium\"]\n",
    "}\n"
   ]
  },
  {
   "cell_type": "code",
   "execution_count": 15,
   "id": "df1a68a8-b251-49e9-808b-068620cb7e50",
   "metadata": {},
   "outputs": [
    {
     "data": {
      "text/plain": [
       "PosixPath('lut1')"
      ]
     },
     "execution_count": 15,
     "metadata": {},
     "output_type": "execute_result"
    }
   ],
   "source": [
    "# IN RAW TO HOLD .....This is a test CALL clean_wsl_path(raw_path)\n",
    "raw_path = \"lut1\"\n",
    "clean_wsl_path(raw_path)"
   ]
  },
  {
   "cell_type": "code",
   "execution_count": 16,
   "id": "d53695a2-6107-4b7f-8256-463a60b40e61",
   "metadata": {
    "scrolled": true
   },
   "outputs": [
    {
     "name": "stdout",
     "output_type": "stream",
     "text": [
      "lut1.csv\n"
     ]
    }
   ],
   "source": [
    "# CALL read_csv_to_array(filepath)\n",
    "# Read a \"csv file\" at \"csv_path\" to get an \"array\" from  nane.csv file.\n",
    "raw_path = 'lut1.csv'                     # put the desired file name here\n",
    "csv_path = clean_wsl_path(raw_path)       # clean_wsl_path(raw_path) from cleaner function\n",
    "print(csv_path)\n",
    "array = read_csv_to_array(csv_path)\n",
    "#array"
   ]
  },
  {
   "cell_type": "code",
   "execution_count": 17,
   "id": "e6537b62-3b57-42a0-a4c6-75416ee10046",
   "metadata": {
    "scrolled": true
   },
   "outputs": [
    {
     "data": {
      "text/plain": [
       "[['\\ufeffdvt', 's000', 's001', 's002', 's003', 's004'],\n",
       " ['active_ tag', 'yes', 'no', 'yes', 'yes', 'yes'],\n",
       " ['filled_tag', 'no', 'no', 'yes', 'yes', 'no'],\n",
       " ['default_dose', '1', '4', '2', '3', '1'],\n",
       " ['Previous dose', '0', '1', '2', '0', '1'],\n",
       " ['name', 'vit  c ', 'vit  d', 'vit  e', 'vit  k ', 'vit  a']]"
      ]
     },
     "execution_count": 17,
     "metadata": {},
     "output_type": "execute_result"
    }
   ],
   "source": [
    "array"
   ]
  },
  {
   "cell_type": "code",
   "execution_count": 18,
   "id": "8072c9ef-b1f7-4ee4-850d-57f7ca1592df",
   "metadata": {},
   "outputs": [],
   "source": [
    "# convert lut array to a row_dict\n",
    "# Call array_to_dt_row_dict(array)\n",
    "#array = array\n",
    "lut = array_to_dt_row_dict(array)    "
   ]
  },
  {
   "cell_type": "code",
   "execution_count": 19,
   "id": "9216a685-f564-4989-bb77-c0d0d54a3892",
   "metadata": {},
   "outputs": [
    {
     "data": {
      "text/plain": [
       "{'active_ tag': {'s000': 'yes',\n",
       "  's001': 'no',\n",
       "  's002': 'yes',\n",
       "  's003': 'yes',\n",
       "  's004': 'yes'},\n",
       " 'filled_tag': {'s000': 'no',\n",
       "  's001': 'no',\n",
       "  's002': 'yes',\n",
       "  's003': 'yes',\n",
       "  's004': 'no'},\n",
       " 'default_dose': {'s000': '1',\n",
       "  's001': '4',\n",
       "  's002': '2',\n",
       "  's003': '3',\n",
       "  's004': '1'},\n",
       " 'Previous dose': {'s000': '0',\n",
       "  's001': '1',\n",
       "  's002': '2',\n",
       "  's003': '0',\n",
       "  's004': '1'},\n",
       " 'name': {'s000': 'vit  c ',\n",
       "  's001': 'vit  d',\n",
       "  's002': 'vit  e',\n",
       "  's003': 'vit  k ',\n",
       "  's004': 'vit  a'}}"
      ]
     },
     "execution_count": 19,
     "metadata": {},
     "output_type": "execute_result"
    }
   ],
   "source": [
    "lut"
   ]
  },
  {
   "cell_type": "raw",
   "id": "cc6e88f0-20c6-4ebb-9609-828cfcadbc9b",
   "metadata": {
    "jupyter": {
     "source_hidden": true
    }
   },
   "source": [
    "# RAW example to retrieve a value from a lut\n",
    "def get_lut_attribute(lut, sn, row_index):\n",
    "    return lut.get(sn, [None]*7)[row_index]\n"
   ]
  },
  {
   "cell_type": "raw",
   "id": "f8e394a1-e779-4dbd-91bf-4c35cd55ba52",
   "metadata": {
    "jupyter": {
     "source_hidden": true
    }
   },
   "source": [
    "RAW xxx = get_lut_attribute(lut, \"s001\", 6)  # Returns \"Fiber Intake\"\n",
    "#get_lut_attribute(lut, \"s003\", 5)  # Returns \"5.0\"\n",
    "xxx"
   ]
  },
  {
   "cell_type": "raw",
   "id": "db483e9f-3f22-46d6-8393-9ec0daf4eabe",
   "metadata": {},
   "source": [
    "RAW xxx"
   ]
  },
  {
   "cell_type": "markdown",
   "id": "e23e8b38-b3c0-4860-9b76-81f4d38cd944",
   "metadata": {},
   "source": [
    "### **Scaffold: LUTAccessor Class** *creates an incident of the lut with attributes selected by a \".\"* [3] "
   ]
  },
  {
   "cell_type": "code",
   "execution_count": 20,
   "id": "39a81980-3779-49dd-8ccf-53afa0e1d96f",
   "metadata": {},
   "outputs": [],
   "source": [
    "# This specifies the actions of an incidence of lut\n",
    "class LUTAccessor:\n",
    "    def __init__(self, lut_dict):\n",
    "        self.lut = lut_dict\n",
    "\n",
    "    def is_active(self, col_key):\n",
    "        return self.lut.get(\"active_ tag\", {}).get(col_key, \"no\") == \"yes\"\n",
    "\n",
    "    def is_filled(self, col_key):\n",
    "        return self.lut.get(\"filled_tag\", {}).get(col_key, \"no\") == \"yes\"\n",
    "\n",
    "    def get_default_dose(self, col_key):\n",
    "        return self.lut.get(\"dflt_dose\", {}).get(col_key, \"\")\n",
    "\n",
    "    def get_previous_dose(self, col_key):\n",
    "        return self.lut.get(\"prvsdose\", {}).get(col_key, \"\")\n",
    "\n",
    "    def get_name(self, col_key):\n",
    "        return self.lut.get(\"name\", {}).get(col_key, \"\")\n",
    "\n",
    "    def mark_filled(self, col_key):\n",
    "        if \"filled_tag\" in self.lut and col_key in self.lut[\"filled_tag\"]:\n",
    "            self.lut[\"filled_tag\"][col_key] = \"yes\"\n",
    "\n",
    "    def get_all_keys(self):\n",
    "        return list(self.lut.get(\"active_ tag\", {}).keys())\n"
   ]
  },
  {
   "cell_type": "markdown",
   "id": "88d46c0a-5e0c-45ff-af9e-68dfbea59d8a",
   "metadata": {},
   "source": [
    "### *Create lut incidence of LUTAccessor Class called* **lut_acessor** [3] "
   ]
  },
  {
   "cell_type": "code",
   "execution_count": 21,
   "id": "5d8a25bc-c1bd-4f64-a160-b079273a4857",
   "metadata": {},
   "outputs": [],
   "source": [
    "# converts lut into an incident named\"lut_accessor\" of the class LUTAccessor:\n",
    "\n",
    "lut_accessor = LUTAccessor(lut)"
   ]
  },
  {
   "cell_type": "code",
   "execution_count": 22,
   "id": "a25c80e5-ad40-4eda-8a96-2c8b80ba55f2",
   "metadata": {},
   "outputs": [
    {
     "name": "stdout",
     "output_type": "stream",
     "text": [
      "\n",
      "\n"
     ]
    }
   ],
   "source": [
    "# example use finds which \"name\" will be read.\n",
    "for col in lut_accessor.get_all_keys():\n",
    "    if lut_accessor.is_active(col) and not lut_accessor.is_filled(col):\n",
    "        name = lut_accessor.get_name(col)\n",
    "        default = lut_accessor.get_default_dose(col)\n",
    "        print(default)\n",
    "#        print(f\"{col}: {name} — default dose {default}\")"
   ]
  },
  {
   "cell_type": "code",
   "execution_count": 23,
   "id": "465c94bb-81a7-4c0b-9e9a-c61171d14aa3",
   "metadata": {},
   "outputs": [
    {
     "data": {
      "text/plain": [
       "'vit  a'"
      ]
     },
     "execution_count": 23,
     "metadata": {},
     "output_type": "execute_result"
    }
   ],
   "source": [
    "name"
   ]
  },
  {
   "cell_type": "code",
   "execution_count": 24,
   "id": "3cb220fe-e164-4636-9a8f-69b5080d0c1c",
   "metadata": {},
   "outputs": [
    {
     "data": {
      "text/plain": [
       "''"
      ]
     },
     "execution_count": 24,
     "metadata": {},
     "output_type": "execute_result"
    }
   ],
   "source": [
    "default"
   ]
  },
  {
   "cell_type": "markdown",
   "id": "aaa86ad1-f271-488c-bd86-ce820fc147d1",
   "metadata": {},
   "source": [
    "### *def* **operator_fill_values   (update_row_dict, lut)**  *to provide info and control to input function* [3] "
   ]
  },
  {
   "cell_type": "code",
   "execution_count": 25,
   "id": "b015c3ba-4df3-47ce-b2ed-8c70940d24d9",
   "metadata": {},
   "outputs": [],
   "source": [
    "# uses luts to control and inform operator for inports\n",
    "def operator_fill_values(update_row_dict, lut):\n",
    "    \"\"\"\n",
    "    Uses LUTAccessor to guide operator input for filling update_row_dict.\n",
    "    Skips inactive or already filled columns. Offers default values and instructions.\n",
    "    \"\"\"\n",
    "    lut_access = LUTAccessor(lut)  \n",
    "    \"\"\"\n",
    "    Uses LUTAccessor to guide operator input for filling update_row_dict.\n",
    "    Skips inactive or already filled columns. Offers default values and instructions.\n",
    "    \"\"\"\n",
    "    lut_access = LUTAccessor(lut) \n",
    "\n",
    "    for col_key in lut_access.get_all_keys():\n",
    "        if not lut_access.is_active(col_key) or lut_access.is_filled(col_key):\n",
    "            continue\n",
    "\n",
    "        name = lut_access.get_name(col_key)\n",
    "        default_val = lut_access.get_default_dose(col_key)\n",
    "\n",
    "        print(f\"\\n🧩 Column: {col_key} — {name}\")\n",
    "        print(f\"🔹 Default dose: {default_val}\")\n",
    "        print(\"Instructions:\")\n",
    "        print(\"  ↪ Press Enter twice to accept default\")\n",
    "        print(\"  ↪ Press Enter once then any key to skip\\n\")\n",
    "\n",
    "        for serial in update_row_dict:\n",
    "            current_val = update_row_dict[serial].get(col_key, \"\")\n",
    "            if current_val:\n",
    "                continue\n",
    "\n",
    "            print(f\"🔸 Serial: {serial}\")\n",
    "            print(f\"    Item: {name}\")\n",
    "            print(f\"    Current value: '{current_val}' | Default: {default_val}\")\n",
    "\n",
    "            first_input = input(\"Enter value (or press Enter to accept/skip): \").strip()\n",
    "\n",
    "            if first_input == \"\":\n",
    "                second_input = input(\"Confirm (Enter again for default, any key to skip): \").strip()\n",
    "                if second_input == \"\":\n",
    "                    update_row_dict[serial][col_key] = default_val\n",
    "                    print(f\"✅ Default '{default_val}' accepted.\\n\")\n",
    "                else:\n",
    "                    print(\"⏭️ Skipped.\\n\")\n",
    "            else:\n",
    "                update_row_dict[serial][col_key] = first_input\n",
    "                print(f\"✅ Value '{first_input}' recorded.\\n\")\n",
    "\n",
    "        lut_access.mark_filled(col_key)\n",
    "    return update_row_dict\n",
    "\n",
    "\n",
    "    for col_key in lut_access.get_all_keys():\n",
    "        if not lut_access.is_active(col_key) or lut_access.is_filled(col_key):\n",
    "            continue\n",
    "\n",
    "        name = lut_access.get_name(col_key)\n",
    "        default_val = lut_access.get_default_dose(col_key)\n",
    "        print(f\"\\n🧩 Column: {col_key} — {name}\")\n",
    "        print(f\"🔹 Default dose: {default_val}\")\n",
    "        print(\"Instructions:\")\n",
    "        print(\"  ↪ Press Enter twice to accept default\")\n",
    "        print(\"  ↪ Press Enter once then any key to skip\\n\")\n",
    "\n",
    "        for serial in update_row_dict:\n",
    "            current_val = update_row_dict[serial].get(col_key, \"\")\n",
    "            if current_val:\n",
    "                continue\n",
    "\n",
    "            print(f\"🔸 Serial: {serial}\")\n",
    "            print(f\"    Item: {name}\")\n",
    "            print(f\"    Current value: '{current_val}' | Default: {default_val}\")\n",
    "\n",
    "            first_input = input(\"Enter value (or press Enter to accept/skip): \").strip()\n",
    "\n",
    "            if first_input == \"\":\n",
    "                second_input = input(\"Confirm (Enter again for default, any key to skip): \").strip()\n",
    "                if second_input == \"\":\n",
    "                    update_row_dict[serial][col_key] = default_val\n",
    "                    print(f\"✅ Default '{default_val}' accepted.\\n\")\n",
    "                else:\n",
    "                    print(\"⏭️ Skipped.\\n\")\n",
    "            else:\n",
    "                update_row_dict[serial][col_key] = first_input\n",
    "                print(f\"✅ Value '{first_input}' recorded.\\n\")\n",
    "        lut_access.mark_filled(col_key)\n",
    "\n",
    "    return update_row_dict"
   ]
  },
  {
   "cell_type": "code",
   "execution_count": 26,
   "id": "29a7c3bd-0f80-425c-b181-9965bdeb9060",
   "metadata": {},
   "outputs": [
    {
     "data": {
      "text/plain": [
       "{'45861': {'s000': '', 's001': '', 's002': '', 's003': '', 's004': ''},\n",
       " '45862': {'s000': '', 's001': '', 's002': '', 's003': '', 's004': ''}}"
      ]
     },
     "execution_count": 26,
     "metadata": {},
     "output_type": "execute_result"
    }
   ],
   "source": [
    " update_row_dict"
   ]
  },
  {
   "cell_type": "markdown",
   "id": "5157461f-4d64-4019-8e29-e8b0ffbeabb8",
   "metadata": {},
   "source": [
    "### **Input function** *operator_fill_values (update_row_dict, lut)* [3] "
   ]
  },
  {
   "cell_type": "code",
   "execution_count": null,
   "id": "6b9fa3e8-3a7e-4940-8f7b-8c5dfde8a9b0",
   "metadata": {
    "scrolled": true
   },
   "outputs": [
    {
     "name": "stdout",
     "output_type": "stream",
     "text": [
      "\n",
      "🧩 Column: s000 — vit  c \n",
      "🔹 Default dose: \n",
      "Instructions:\n",
      "  ↪ Press Enter twice to accept default\n",
      "  ↪ Press Enter once then any key to skip\n",
      "\n",
      "🔸 Serial: 45861\n",
      "    Item: vit  c \n",
      "    Current value: '' | Default: \n"
     ]
    }
   ],
   "source": [
    "### Starts input function\n",
    "operator_fill_values(update_row_dict, lut)"
   ]
  },
  {
   "cell_type": "markdown",
   "id": "0401ee26-477d-4420-bf85-ab6c0f6f4774",
   "metadata": {},
   "source": [
    "### **Input updates** *change* values* ***by inserting them*** *into the* **update file** [3] "
   ]
  },
  {
   "cell_type": "code",
   "execution_count": null,
   "id": "edc5fe3f-4287-48a9-aa15-fc5f45403654",
   "metadata": {
    "jupyter": {
     "source_hidden": true
    }
   },
   "outputs": [],
   "source": [
    "#  works but switching to class operator_fill_values(update_row_dict, lut)\n",
    "def operator_fill_values(update_row_dict, lut):\n",
    "    \"\"\"\n",
    "    Prompts operator to fill in values for each active, unfilled column in update_row_dict.\n",
    "    Uses lut for metadata: active status, fill tag, default value, and name.\n",
    "    \"\"\"\n",
    "    for col_key, attr in lut.items():\n",
    "        _, active_tag, fill_tag, _, _, default_val, name = attr\n",
    "\n",
    "        if active_tag.lower() != \"yes\" or fill_tag.lower() == \"filled\":\n",
    "            continue  # Skip inactive or already filled columns\n",
    "\n",
    "        print(f\"\\n🧩 Column: {col_key} — {name}\")\n",
    "        print(f\"🔹 Default dose: {default_val}\")\n",
    "        print(\"Instructions:\")\n",
    "        print(\"  ↪ Press Enter twice to accept default\")\n",
    "        print(\"  ↪ Press Enter once then any key to skip\\n\")\n",
    "\n",
    "        for serial in update_row_dict:\n",
    "            current_val = update_row_dict[serial].get(col_key, \"\")\n",
    "            if current_val:\n",
    "                continue  # Already filled\n",
    "\n",
    "            print(f\"🔸 Serial: {serial}\")\n",
    "            print(f\"    Item: {name}\")\n",
    "            print(f\"    Current value: '{current_val}' | Default: {default_val}\")\n",
    "\n",
    "            first_input = input(\"Enter value (or press Enter to accept/skip): \").strip()\n",
    "\n",
    "            if first_input == \"\":\n",
    "                second_input = input(\"Confirm (Enter again for default, any key to skip): \").strip()\n",
    "                if second_input == \"\":\n",
    "                    update_row_dict[serial][col_key] = default_val\n",
    "                    print(f\"✅ Default '{default_val}' accepted.\\n\")\n",
    "                else:\n",
    "                    print(\"⏭️ Skipped.\\n\")\n",
    "            else:\n",
    "                update_row_dict[serial][col_key] = first_input\n",
    "                print(f\"✅ Value '{first_input}' recorded.\\n\")\n",
    "\n",
    "        # Mark column as filled after all entries\n",
    "        lut[col_key][2] = \"filled\"\n",
    "\n",
    "    return update_row_dict\n"
   ]
  },
  {
   "cell_type": "code",
   "execution_count": null,
   "id": "ff50bbc0-0a5a-4d0e-88bd-de75ab2ae680",
   "metadata": {},
   "outputs": [],
   "source": [
    "# show for verification .....update_row_dict\n",
    "update_row_dict"
   ]
  },
  {
   "cell_type": "code",
   "execution_count": null,
   "id": "c3d6abb1-8719-42d1-a712-7df823e76ff6",
   "metadata": {},
   "outputs": [],
   "source": [
    "# show for verification .....lut\n",
    "lut"
   ]
  },
  {
   "cell_type": "code",
   "execution_count": null,
   "id": "7e181d62-fee2-4282-87f4-87a4248f6b01",
   "metadata": {},
   "outputs": [],
   "source": [
    "operator_fill_values(update_row_dict, lut)"
   ]
  },
  {
   "cell_type": "markdown",
   "id": "8030dbdd-da20-444b-8704-e6d3cddaa273",
   "metadata": {},
   "source": [
    "### **def func & calls** *change* values* ***by transfering them*** *from an* **update file** [3] "
   ]
  },
  {
   "cell_type": "code",
   "execution_count": null,
   "id": "7c1ca67c-a7a1-423a-bcae-3d009234e218",
   "metadata": {},
   "outputs": [],
   "source": [
    "# row_dict to be updated\n",
    "import math\n",
    "\n",
    "def is_nan(x):\n",
    "    return isinstance(x, float) and math.isnan(x)        # \n",
    "\n",
    "\n",
    "def merge_update_row_dict(row_dict, update_row_dict):\n",
    "    for dtv_key, updates in update_row_dict.items():\n",
    "        if dtv_key not in row_dict:\n",
    "            continue  # Skip if dtv not in original\n",
    "\n",
    "        for col, new_val in updates.items():\n",
    "            if not is_nan(new_val):  # Only update non-NaN values\n",
    "                row_dict[dtv_key][col] = new_val\n",
    "\n",
    "    return row_dict\n"
   ]
  },
  {
   "cell_type": "code",
   "execution_count": null,
   "id": "d8618c99-46a6-4f24-9cd0-112105428a53",
   "metadata": {},
   "outputs": [],
   "source": [
    "dt_row_dict"
   ]
  },
  {
   "cell_type": "code",
   "execution_count": null,
   "id": "6a79c5f1-cbae-4aa0-a15a-b1c2db49ce6c",
   "metadata": {},
   "outputs": [],
   "source": [
    "update_row_dict"
   ]
  },
  {
   "cell_type": "code",
   "execution_count": null,
   "id": "9f7ff41f-a062-4697-8eab-2dd2496ea7e1",
   "metadata": {},
   "outputs": [],
   "source": [
    "x=\"\"\n",
    "is_nan(x)\n",
    "row_dict = dt_row_dict\n",
    "#update_row_dict\n",
    "merge_update_row_dict(row_dict, update_row_dict)"
   ]
  },
  {
   "cell_type": "markdown",
   "id": "87706828-d82b-48d7-99cc-9c1507554af6",
   "metadata": {},
   "source": [
    "### **def func & calls** *for* **creating xy_row_dict from arrays** [3] "
   ]
  },
  {
   "cell_type": "code",
   "execution_count": null,
   "id": "5d25dd79-0e44-48eb-b2ab-72f2dab8ec80",
   "metadata": {},
   "outputs": [],
   "source": [
    "\n",
    "def array_to_xy_row_dict(array)\n",
    "#array_to_row_dict(array):\n",
    "    header = array[0][1:]  # Skip 'dtv', keep other column names\n",
    "    row_dict = {}\n",
    "\n",
    "    for row in array[1:]:\n",
    "        key = row[0]  # 'dtv' value\n",
    "        values = row[1:]\n",
    "        row_dict[key] = dict(zip(header, values))\n",
    "\n",
    "    return row_dict\n"
   ]
  },
  {
   "cell_type": "code",
   "execution_count": null,
   "id": "800b0541-5151-4fe6-88b2-c29b3f82f479",
   "metadata": {},
   "outputs": [],
   "source": [
    "# convert row_dict to arraydef row_dict_to_array(row_dict)\n",
    "\n",
    "def row_dict_to_array(row_dict):x\n",
    "    \"\"\"\n",
    "    Converts a dict of rows indexed by the first column back into a 2D array.\n",
    "    \"\"\"\n",
    "    if not row_dict:\n",
    "        raise ValueError(\"Empty or malformed row_dict\")\n",
    "\n",
    "    # Extract headers from the first row\n",
    "    first_key = next(iter(row_dict))\n",
    "    headers = list(row_dict[first_key].keys())\n",
    "\n",
    "    # Build the array: first row is headers with placeholder for first column\n",
    "    array = [[\"dtv\"] + headers]\n",
    "\n",
    "    # Sort keys for reproducibility\n",
    "    for key in sorted(row_dict):\n",
    "        row = [key] + [row_dict[key].get(header, \"\") for header in headers]\n",
    "        array.append(row)\n",
    "\n",
    "    return array\n"
   ]
  },
  {
   "cell_type": "code",
   "execution_count": null,
   "id": "42098201-1103-4eb1-96d4-1aed71b1d0eb",
   "metadata": {},
   "outputs": [],
   "source": []
  },
  {
   "cell_type": "code",
   "execution_count": null,
   "id": "921054b7-c559-4948-bb45-40a7edba06eb",
   "metadata": {},
   "outputs": [],
   "source": [
    "# Use an array to create a \"xy_row_dict [indexted on 1st col\"\n",
    "# array has dtv col Therefore first col skipped\n",
    "def array_to_xy_row_dict(array):\n",
    "    \"\"\"Converts a 2D array into a dict of rows indexed by the first column.\"\"\"\n",
    "    if not array or not all(array):\n",
    "        raise ValueError(\"Empty or malformed array\")\n",
    "\n",
    "    headers = array[0][1:]  # skip first column (dtv)\n",
    "    rows = array[1:]\n",
    "    xy_row_dict = {\n",
    "    int(row[0]): {header: value for header, value in zip(headers, row[1:])}\n",
    "    for row in rows\n",
    "}\n",
    "    return xy_row_dict"
   ]
  },
  {
   "cell_type": "code",
   "execution_count": null,
   "id": "8b1378ab-2c76-4c9e-95e6-93014d823275",
   "metadata": {},
   "outputs": [],
   "source": [
    "# assumes \"array\" already exits\n",
    "xy_row_dict = array_to_xy_row_dict(array)\n",
    "#xy_row_dict"
   ]
  },
  {
   "cell_type": "markdown",
   "id": "2b37cb12-26f7-4806-b5b0-91ced0db4319",
   "metadata": {},
   "source": [
    "#### **call func** *for* **dt_row_dict** [4] "
   ]
  },
  {
   "cell_type": "code",
   "execution_count": null,
   "id": "3b1fe222-a0a2-4c02-a10c-25c7e23464f8",
   "metadata": {},
   "outputs": [],
   "source": [
    "# This slicer works for row_dicts\n",
    "dtv = 45862 \n",
    "values = list(row_dict.get(dtv, {}).values())\n"
   ]
  },
  {
   "cell_type": "code",
   "execution_count": null,
   "id": "2d5fde82-32c8-4a7f-aa3a-179f808ea22d",
   "metadata": {},
   "outputs": [],
   "source": [
    "values"
   ]
  },
  {
   "cell_type": "code",
   "execution_count": null,
   "id": "43e5e93d-fa93-47a2-9406-16388cf98c4c",
   "metadata": {
    "scrolled": true
   },
   "outputs": [],
   "source": [
    "values = list(row_dict[45862].values())\n"
   ]
  },
  {
   "cell_type": "code",
   "execution_count": null,
   "id": "52879ffd-82fb-43ba-9e3a-5515619da8c9",
   "metadata": {},
   "outputs": [],
   "source": [
    "values"
   ]
  },
  {
   "cell_type": "code",
   "execution_count": null,
   "id": "826d9040-2e3d-44c9-8af1-4b2a7adae350",
   "metadata": {
    "jupyter": {
     "source_hidden": true
    }
   },
   "outputs": [],
   "source": [
    "array_to_xy_row_dict(array)"
   ]
  },
  {
   "cell_type": "markdown",
   "id": "97f8d996-acf5-4ec1-a6d0-ce94426947f2",
   "metadata": {},
   "source": [
    "### **col_dict**  *Dictionary of cols.frm dsv file      [3] wrks"
   ]
  },
  {
   "cell_type": "markdown",
   "id": "e4ef7959-2171-425d-8657-a56e83779991",
   "metadata": {},
   "source": [
    "#### **def func** *for* **col_dict** [4] "
   ]
  },
  {
   "cell_type": "code",
   "execution_count": null,
   "id": "35441212-5c4e-44a6-8864-4a5447ba0426",
   "metadata": {
    "scrolled": true
   },
   "outputs": [],
   "source": [
    "# def load_csv_to_col_dict(bnm, subfolder=None)\n",
    "from pathlib import Path\n",
    "import csv\n",
    "import numpy as np\n",
    "\n",
    "def load_csv_to_col_dict(bnm, subfolder=None):\n",
    "    \"\"\"\n",
    "    Loads a CSV file into a dictionary of NumPy arrays, keyed by column name.\n",
    "\n",
    "    Parameters:\n",
    "        bnm (str): Filename of the CSV (e.g., 'bnm.csv')\n",
    "        subfolder (str, optional): Subdirectory within working directory.\n",
    "\n",
    "    Returns:\n",
    "        dict: Dictionary where each key is a column name and value is a NumPy array of column values.\n",
    "    \"\"\"\n",
    "    # Step 1: Resolve path\n",
    "    base_path = Path.cwd()\n",
    "    full_path = base_path / subfolder / bnm if subfolder else base_path / bnm\n",
    "\n",
    "    # Step 2: Initialize column containers\n",
    "    col_data = {}\n",
    "\n",
    "    # Step 3: Read CSV and collect column-wise data\n",
    "    with full_path.open(mode='r', newline='', encoding='latin1') as file:\n",
    "        reader = csv.DictReadr(file)\n",
    "        for row in reader:\n",
    "            for col, val in row.items():\n",
    "                col_data.setdefault(col, []).append(val)\n",
    "\n",
    "    # Step 4: Convert lists to NumPy arrays\n",
    "    col_dict = {col: np.array(vals) for col, vals in col_data.items()}\n",
    "\n",
    "    return col_dict\n"
   ]
  },
  {
   "cell_type": "markdown",
   "id": "a41757a9-4265-4545-941f-3e68014b5fb0",
   "metadata": {},
   "source": [
    "#### **Call func** *for* **col_dict** [4] "
   ]
  },
  {
   "cell_type": "code",
   "execution_count": null,
   "id": "7cac633d-596a-437e-84e2-e1630885522a",
   "metadata": {},
   "outputs": [],
   "source": [
    "# call load_csv_to_col_dict(bnm, subfolder=None)\n",
    "# # note: makes s000 str so slicers use \"s000\" not s000\n",
    "# bnm = \"rcnt_mrn.csv\" \n",
    "bnm = \"bnm.csv\"\n",
    "#bnm = load_csv_to_col_dict(bnm)\n",
    "bnm = load_csv_to_col_dict(bnm, subfolder=None)"
   ]
  },
  {
   "cell_type": "code",
   "execution_count": null,
   "id": "666839f1-1574-4d35-9243-f7f913ab0a3f",
   "metadata": {},
   "outputs": [],
   "source": [
    "bnm"
   ]
  },
  {
   "cell_type": "markdown",
   "id": "5e0b5215-177b-484f-bc6e-0a5aa776a7c0",
   "metadata": {},
   "source": []
  },
  {
   "cell_type": "markdown",
   "id": "978150d7-8fe1-4cba-a63e-9dadbcaf3178",
   "metadata": {
    "jp-MarkdownHeadingCollapsed": true
   },
   "source": [
    "##  input_class                       [2] "
   ]
  },
  {
   "cell_type": "markdown",
   "id": "06fe8200-069d-49db-89b8-433016f7fef6",
   "metadata": {
    "jp-MarkdownHeadingCollapsed": true
   },
   "source": [
    "# Readers \"       [1] ok"
   ]
  },
  {
   "cell_type": "markdown",
   "id": "36622add-befb-4fa2-ace6-160936750dda",
   "metadata": {},
   "source": [
    "### row_Dict       [3]"
   ]
  },
  {
   "cell_type": "code",
   "execution_count": null,
   "id": "92aa1eab-e489-4206-b3f5-c5748267be82",
   "metadata": {},
   "outputs": [],
   "source": [
    "# This slicer works for row_dicts\n",
    "dtv = 45862 \n",
    "values = list(row_dict.get(dtv, {}).values())\n",
    "values"
   ]
  },
  {
   "cell_type": "markdown",
   "id": "f42ba2f1-aba2-4289-b92a-cddd9fd4d08e",
   "metadata": {},
   "source": [
    "### col_Dict       [3]"
   ]
  },
  {
   "cell_type": "code",
   "execution_count": null,
   "id": "6367621a-d914-4ce3-bc2e-f629de881c45",
   "metadata": {
    "scrolled": true
   },
   "outputs": [],
   "source": [
    "bnm"
   ]
  },
  {
   "cell_type": "code",
   "execution_count": null,
   "id": "10cdda6a-32ff-43a2-a2ef-0b0a2e84636e",
   "metadata": {},
   "outputs": [],
   "source": [
    "bnm = load_csv_to_col_dict(\"bnm.csv\")\n",
    "s001_array = bnm[\"s001\"]\n",
    "s001_array"
   ]
  },
  {
   "cell_type": "code",
   "execution_count": null,
   "id": "1e9c4af4-5042-4db9-a712-894332240b77",
   "metadata": {},
   "outputs": [],
   "source": []
  },
  {
   "cell_type": "code",
   "execution_count": null,
   "id": "14c46b34-7e9e-4a92-9a77-38b601e8d35c",
   "metadata": {
    "scrolled": true
   },
   "outputs": [],
   "source": [
    "dtv_array = bnm[\"dtv\"]\n"
   ]
  },
  {
   "cell_type": "code",
   "execution_count": null,
   "id": "b9c9cd28-fcbf-4e7a-9ab8-f39c1a3d29a4",
   "metadata": {},
   "outputs": [],
   "source": [
    "bnm"
   ]
  },
  {
   "cell_type": "code",
   "execution_count": null,
   "id": "f14a73e0-2c31-49c1-9d1e-615ec9464b5d",
   "metadata": {},
   "outputs": [],
   "source": [
    "dtv_array = bnm[\"dtv\"]\n",
    "dtv_array\n"
   ]
  },
  {
   "cell_type": "code",
   "execution_count": null,
   "id": "e8392e1b-c1b5-4155-ab53-e5043ddedac1",
   "metadata": {},
   "outputs": [],
   "source": [
    "for dtv in bnm[\"dtv\"]:\n",
    "    print(dtv)\n"
   ]
  },
  {
   "cell_type": "code",
   "execution_count": null,
   "id": "17995409-e502-4424-97aa-21465402c974",
   "metadata": {},
   "outputs": [],
   "source": [
    "target_dtv = \"2025-09-18\"\n",
    "mask = bnm[\"dtv\"] == target_dtv\n",
    "filtered = {col: arr[mask] for col, arr in bnm.items()}\n",
    "filtered"
   ]
  },
  {
   "cell_type": "markdown",
   "id": "4eedbe7e-d73d-49d3-9daf-a692e4dc39f0",
   "metadata": {},
   "source": [
    "### df\"       [3]"
   ]
  },
  {
   "cell_type": "markdown",
   "id": "6eb18acf-5e43-412f-afa1-53d1c6134787",
   "metadata": {},
   "source": [
    "### lut \"       [3]"
   ]
  },
  {
   "cell_type": "markdown",
   "id": "befc93ef-4988-40bd-92df-e6e465fbaab4",
   "metadata": {},
   "source": [
    "## Filter_class                       [2] "
   ]
  },
  {
   "cell_type": "markdown",
   "id": "357cd6f1-d819-4660-a6d2-75fd2cd7d42b",
   "metadata": {},
   "source": [
    "## Correlation_class                       [2] "
   ]
  },
  {
   "cell_type": "markdown",
   "id": "9d234666-bbe2-46e6-bce9-ce4bac3c500c",
   "metadata": {},
   "source": [
    "## Graphics_class                       [2] "
   ]
  },
  {
   "cell_type": "markdown",
   "id": "aaac14d3-8969-4ede-a4f2-bb052e06e83e",
   "metadata": {},
   "source": [
    "## Diagrams_class                       [2] "
   ]
  },
  {
   "cell_type": "markdown",
   "id": "cc06e36e-1599-4900-9ee8-413227934a44",
   "metadata": {
    "jp-MarkdownHeadingCollapsed": true
   },
   "source": [
    "## Image_class                       [2] "
   ]
  },
  {
   "cell_type": "markdown",
   "id": "496e3c23-fffa-4b5e-95b5-ef3aa759f2a6",
   "metadata": {},
   "source": [
    "## _______ _class                       [2] "
   ]
  },
  {
   "cell_type": "markdown",
   "id": "bb3a761d-426c-41ee-9215-be01f1df27fb",
   "metadata": {},
   "source": [
    "# Collect new data *[changes]* into REPO/*.csv files[1]"
   ]
  },
  {
   "cell_type": "markdown",
   "id": "35333b4b-67fd-4d7d-863e-494c8f15007a",
   "metadata": {
    "jp-MarkdownHeadingCollapsed": true
   },
   "source": [
    "## Get data from insturments to REPO/*.csv.               [2]"
   ]
  },
  {
   "cell_type": "markdown",
   "id": "37215365-7783-435b-b755-a45e40db6fcb",
   "metadata": {},
   "source": [
    "### calc change data from inbody 770 to REPO/*.csv files.               [3]"
   ]
  },
  {
   "cell_type": "markdown",
   "id": "35bf1266-d49a-4aca-bc9f-605f1389d832",
   "metadata": {
    "jp-MarkdownHeadingCollapsed": true
   },
   "source": [
    "#### Get change data from inbody 770 to REPO/*.csv.               [4]"
   ]
  },
  {
   "cell_type": "markdown",
   "id": "830d02bc-c1d8-49b4-9e56-ebc164835279",
   "metadata": {},
   "source": [
    "### Get data from inbody to REPO/*.csv files.               [3]"
   ]
  },
  {
   "cell_type": "markdown",
   "id": "d5523186-fd24-4c91-8f00-f527f94e7df9",
   "metadata": {},
   "source": [
    "### Get data from manual inputs to  REPO/*.csv files     [3]"
   ]
  },
  {
   "cell_type": "markdown",
   "id": "d4a39dcc-c62e-40b9-9eec-9e4d6ef2177d",
   "metadata": {},
   "source": [
    "## Make updates from REPO/*.csv files to df, dict and lut [2]"
   ]
  },
  {
   "cell_type": "markdown",
   "id": "5e25f27a-bd8b-48a0-ba66-b59cdc1197b7",
   "metadata": {},
   "source": [
    "### Update df, dict and lookup tables with REPO/*.csv files.               [3]"
   ]
  },
  {
   "cell_type": "markdown",
   "id": "40f5f1c7-8339-4b16-8374-de7ee86e333d",
   "metadata": {},
   "source": [
    "### Use a master_dic with change_dict value only change              [3]"
   ]
  },
  {
   "cell_type": "markdown",
   "id": "a6b799e7-fbbe-4e9e-b05b-9ace2b65621e",
   "metadata": {
    "jp-MarkdownHeadingCollapsed": true
   },
   "source": [
    "# Process df, dict and lookup tables for results [1]"
   ]
  },
  {
   "cell_type": "markdown",
   "id": "0c4d035e-d4fd-4537-b597-39b57d4f8e81",
   "metadata": {},
   "source": [
    "### Xcorrelate df, dict and lookup tables.               [3]"
   ]
  },
  {
   "cell_type": "markdown",
   "id": "b319eb75-b4dd-403a-abab-f05bab60f0bc",
   "metadata": {
    "jp-MarkdownHeadingCollapsed": true
   },
   "source": [
    "### filter df, dict and lookup tables.               [3]"
   ]
  },
  {
   "cell_type": "markdown",
   "id": "80a17418-f2bf-4cb8-a447-bef71fcb4a96",
   "metadata": {
    "jp-MarkdownHeadingCollapsed": true
   },
   "source": [
    "# Make plots of results [1]"
   ]
  },
  {
   "cell_type": "markdown",
   "id": "662115b5-7146-4683-9763-1d688fd0a8b0",
   "metadata": {
    "jp-MarkdownHeadingCollapsed": true
   },
   "source": [
    "# Make summary reports [1]"
   ]
  },
  {
   "cell_type": "markdown",
   "id": "099d95b0-de05-41ff-84d6-939ea04debb3",
   "metadata": {},
   "source": [
    "### Add documentaion to df, dict and lookup tables              [3]"
   ]
  },
  {
   "cell_type": "markdown",
   "id": "0d02f373-db73-44af-868c-738d70a7ed3b",
   "metadata": {},
   "source": [
    "# BU df, dict,lut,docs,plots \n",
    "*REPO/data/*.pkl  and *.csv files*"
   ]
  },
  {
   "cell_type": "markdown",
   "id": "52142e19-9175-4305-9b96-3801f969669e",
   "metadata": {
    "jp-MarkdownHeadingCollapsed": true
   },
   "source": [
    "### Backup the data to REPO/data/*.pkl  and *.csv files  [3]"
   ]
  },
  {
   "cell_type": "markdown",
   "id": "c3450bd0-ce1e-4cf0-9c48-1957b471ab53",
   "metadata": {},
   "source": [
    "##   [2]"
   ]
  },
  {
   "cell_type": "markdown",
   "id": "d67f68b7-d75d-4afb-a8e7-817abfec6204",
   "metadata": {
    "jp-MarkdownHeadingCollapsed": true
   },
   "source": [
    "# System doc and upgrades   [1]"
   ]
  },
  {
   "cell_type": "markdown",
   "id": "8d3ce93c-7ec1-42f9-a24a-1efe91a10756",
   "metadata": {},
   "source": [
    "## Procedure changes  [2]"
   ]
  },
  {
   "cell_type": "markdown",
   "id": "21fd7d76-6815-4624-a8e7-d97edde68033",
   "metadata": {},
   "source": [
    "## Documentation upgrades  [2]"
   ]
  },
  {
   "cell_type": "markdown",
   "id": "b285e599-e114-41b3-8169-81a8f0847ec1",
   "metadata": {},
   "source": [
    "## System diagrams  [2]"
   ]
  },
  {
   "cell_type": "markdown",
   "id": "2f4df2a2-d084-4ccb-bc5a-fb7318cd1b75",
   "metadata": {},
   "source": [
    "## Problems   [2]"
   ]
  },
  {
   "cell_type": "markdown",
   "id": "3e60ca89-18c8-4371-8bbc-ede94e1fad58",
   "metadata": {},
   "source": [
    "# Qualify new functions"
   ]
  },
  {
   "cell_type": "code",
   "execution_count": null,
   "id": "3328e0bb-e10a-436f-a2f6-9f77e66d7bd3",
   "metadata": {
    "jupyter": {
     "source_hidden": true
    }
   },
   "outputs": [],
   "source": [
    "from pathlib import Path\n",
    "import chardet\n",
    "\n",
    "def ensure_utf8_csv(file_path: Path, overwrite: bool = False) -> Path:\n",
    "    \"\"\"\n",
    "    Detects encoding of a CSV file and re-encodes to UTF-8 if needed.\n",
    "    \n",
    "    Args:\n",
    "        file_path (Path): Path to the input CSV file.\n",
    "        overwrite (bool): If True, overwrite original file. Else, create .utf8.csv copy.\n",
    "    \n",
    "    Returns:\n",
    "        Path: Path to the UTF-8 encoded file.\n",
    "    \"\"\"\n",
    "    file_path = Path(file_path).expanduser().resolve()\n",
    "\n",
    "    # Detect encoding\n",
    "    with file_path.open('rb') as f:\n",
    "        raw = f.read(4096)\n",
    "    detected = chardet.detect(raw)\n",
    "    original_encoding = detected['encoding'] or 'utf-8'\n",
    "\n",
    "    # If already UTF-8, return original path\n",
    "    if original_encoding.lower() == 'utf-8':\n",
    "        return file_path\n",
    "\n",
    "    # Read with detected encoding\n",
    "    with file_path.open('r', encoding=original_encoding, errors='replace') as f:\n",
    "        content = f.read()\n",
    "\n",
    "    # Write as UTF-8\n",
    "    target_path = file_path if overwrite else file_path.with_suffix('.utf8.csv')\n",
    "    with target_path.open('w', encoding='utf-8') as f:\n",
    "        f.write(content)\n",
    "\n",
    "    return target_path\n"
   ]
  },
  {
   "cell_type": "code",
   "execution_count": null,
   "id": "b80f7d38-8580-4e44-90ae-30b3ab9dcc67",
   "metadata": {},
   "outputs": [],
   "source": [
    "from pathlib import Path\n",
    "\n",
    "file_path = Path(\"b97_hdr.csv\")\n",
    "target_path = ensure_utf8_csv(file_path, overwrite=False)\n"
   ]
  },
  {
   "cell_type": "code",
   "execution_count": null,
   "id": "fd59fc96-987f-41c2-98c9-5a795ad9dccf",
   "metadata": {
    "jupyter": {
     "source_hidden": true
    }
   },
   "outputs": [],
   "source": [
    "target_path"
   ]
  },
  {
   "cell_type": "code",
   "execution_count": null,
   "id": "c1756610-bd11-4868-b1d2-d0dea1073eda",
   "metadata": {},
   "outputs": [],
   "source": [
    "# using filepath to get an array\n",
    "filepath = target_path\n",
    "b97_hdr_array =  read_csv_to_array(filepath)"
   ]
  },
  {
   "cell_type": "code",
   "execution_count": null,
   "id": "6c750d9c-9230-4d7c-8bd1-2f8a375c1342",
   "metadata": {
    "jupyter": {
     "source_hidden": true
    }
   },
   "outputs": [],
   "source": [
    "b97_hdr_array[1][0]"
   ]
  },
  {
   "cell_type": "code",
   "execution_count": null,
   "id": "0c1eed6e-9a10-4301-bedc-a3f84bb2ea68",
   "metadata": {
    "jupyter": {
     "source_hidden": true
    }
   },
   "outputs": [],
   "source": [
    "import sys    # shows system    \n",
    "print(sys.executable)\n",
    "# /home/bhuns/miniconda3/envs/scu/bin/python  * is working"
   ]
  },
  {
   "cell_type": "markdown",
   "id": "ab963277-47b1-450b-9f5b-8b04a0447a09",
   "metadata": {},
   "source": [
    "# testing returns"
   ]
  },
  {
   "cell_type": "markdown",
   "id": "9c9e708c-f933-4d76-8896-dc7e944a1ff6",
   "metadata": {},
   "source": [
    "*Note:* **Path(input_path) = input_path >> cleaned**"
   ]
  },
  {
   "cell_type": "code",
   "execution_count": null,
   "id": "8c9f1b15-4072-4ce7-805f-3c89fb260b23",
   "metadata": {},
   "outputs": [],
   "source": [
    "row_dict"
   ]
  },
  {
   "cell_type": "code",
   "execution_count": null,
   "id": "772eefcd-fa38-4dbe-bc47-2fc6023a82f5",
   "metadata": {},
   "outputs": [],
   "source": [
    "def row_dict_to_array(row_dict):\n",
    "    \"\"\"Converts a dict of rows indexed by the first column back into a 2D array.\"\"\"\n",
    "    if not row_dict:\n",
    "        raise ValueError(\"Empty or malformed row_dict\")\n",
    "\n",
    "    # Extract headers from the first row\n",
    "    first_key = next(iter(row_dict))\n",
    "    headers = list(row_dict[first_key].keys())\n",
    "\n",
    "    # Build the array: first row is headers with placeholder for first column\n",
    "    array = [[\"dtv\"] + headers]\n",
    "\n",
    "    # Sort keys for reproducibility\n",
    "    for key in sorted(row_dict):\n",
    "        row = [key] + [row_dict[key].get(header, \"\") for header in headers]\n",
    "        array.append(row)\n",
    "\n",
    "    return array\n"
   ]
  },
  {
   "cell_type": "code",
   "execution_count": null,
   "id": "2df57d90-ac53-49b5-9ce2-8ea002ca21a8",
   "metadata": {},
   "outputs": [],
   "source": [
    "d\n",
    "]\n",
    "\n",
    "row_dict = array_to_row_dict_by_first_col(original_array)\n",
    "updated_array = row_dict_to_array(row_dict)\n"
   ]
  },
  {
   "cell_type": "code",
   "execution_count": null,
   "id": "6f32d04b-22ff-49fd-988f-f22d55bee989",
   "metadata": {},
   "outputs": [],
   "source": [
    "original_array = [\n",
    "    [\"dtv\", \"name\", \"score\"],\n",
    "    [45856, \"Alice\", 92],\n",
    "    [45857, \"Bob\", 88]\n",
    "]\n",
    "\n",
    "row_dict = array_to_row_dict_by_first_col(original_array)\n",
    "updated_array = row_dict_to_array(row_dict)\n"
   ]
  },
  {
   "cell_type": "code",
   "execution_count": null,
   "id": "9c4d8158-3af4-4785-8875-33ed57dfcde7",
   "metadata": {},
   "outputs": [],
   "source": []
  },
  {
   "cell_type": "markdown",
   "id": "77f8cabe-f7ce-49fa-87a6-c78217acc582",
   "metadata": {},
   "source": [
    "# def Funtions safe plaths and loads"
   ]
  },
  {
   "cell_type": "markdown",
   "id": "ab100bc3-3284-4792-9cce-ab9cdc2ca783",
   "metadata": {},
   "source": [
    "🧱**Modular WSL Path Cleaner**"
   ]
  },
  {
   "cell_type": "code",
   "execution_count": null,
   "id": "d3bbd2fb-d28e-4677-a43f-7fd59a6b197f",
   "metadata": {},
   "outputs": [],
   "source": [
    "from pathlib import Path\n",
    "import re\n",
    "\n",
    "def clean_wsl_path(raw_path: str) -> Path:\n",
    "    \"\"\"\n",
    "    Cleans and normalizes a WSL path for safe use in file operations.\n",
    "    Returns a pathlib.Path object.\n",
    "    \"\"\"\n",
    "    raw_path = raw_path.strip().replace('\\\\', '/')\n",
    "    raw_path = re.sub(r'/+', '/', raw_path)\n",
    "    return Path(raw_path)\n"
   ]
  },
  {
   "cell_type": "code",
   "execution_count": null,
   "id": "6de09b81-a402-47ab-8798-f7b2d671ec75",
   "metadata": {},
   "outputs": [],
   "source": [
    "print(Path(raw_path))"
   ]
  },
  {
   "cell_type": "code",
   "execution_count": null,
   "id": "e2f037f3-a2d8-4f73-86d9-9ba3f03d60aa",
   "metadata": {},
   "outputs": [],
   "source": [
    "print(Path)"
   ]
  },
  {
   "cell_type": "code",
   "execution_count": null,
   "id": "3b120fe0-360c-4df1-9707-bca4abc03a82",
   "metadata": {},
   "outputs": [],
   "source": [
    "import pandas as pd\n",
    "\n",
    "def load_csv_utf8(file_path: Path) -> pd.DataFrame:\n",
    "    \"\"\"\n",
    "    Loads a CSV file using UTF-8 encoding with error handling.\n",
    "    \"\"\"\n",
    "    try:\n",
    "        return pd.read_csv(file_path, encoding='utf-8')\n",
    "    except UnicodeDecodeError:\n",
    "        raise ValueError(f\"Encoding error: {file_path} is not valid UTF-8.\")\n",
    "    except FileNotFoundError:\n",
    "        raise FileNotFoundError(f\"File not found: {file_path}\")\n"
   ]
  },
  {
   "cell_type": "code",
   "execution_count": null,
   "id": "40e1ea31-95c8-4c53-aed1-c83ed2d8ebbf",
   "metadata": {},
   "outputs": [],
   "source": [
    "load_csv_utf8(Path(raw_path))"
   ]
  },
  {
   "cell_type": "markdown",
   "id": "d015f440-456b-4c47-8e2c-d7616d075b45",
   "metadata": {},
   "source": [
    "📤 **UTF-8 CSV Saver**"
   ]
  },
  {
   "cell_type": "code",
   "execution_count": null,
   "id": "05163b67-2e4d-4abe-9fad-cd0c829f0201",
   "metadata": {},
   "outputs": [],
   "source": [
    "def save_csv_utf8(df: pd.DataFrame, file_path: Path) -> None:\n",
    "    \"\"\"\n",
    "    Saves a DataFrame to CSV using UTF-8 encoding.\n",
    "    \"\"\"\n",
    "    file_path.parent.mkdir(parents=True, exist_ok=True)\n",
    "    df.to_csv(file_path, index=False, encoding='utf-8')\n"
   ]
  },
  {
   "cell_type": "markdown",
   "id": "5e8619f4-e890-4bca-8a95-3749323de26f",
   "metadata": {},
   "source": [
    "🧪 **Usage: Round-Trip for Both Cases**"
   ]
  },
  {
   "cell_type": "code",
   "execution_count": null,
   "id": "8c753e34-5259-4ccf-8742-38cf45799d43",
   "metadata": {},
   "outputs": [],
   "source": [
    "# Case 1: \"bnm.csv\" in working directory\n",
    "bnm_path = clean_wsl_path('./bnm.csv')\n",
    "df_bnm = load_csv_utf8(bnm_path)\n",
    "df_bnm"
   ]
  },
  {
   "cell_type": "code",
   "execution_count": null,
   "id": "6e0dd6c1-d4cb-434d-9eb3-b4a1b8d53e66",
   "metadata": {},
   "outputs": [],
   "source": [
    "save_csv_utf8(df_bnm, bnm_path)  # round-trip"
   ]
  },
  {
   "cell_type": "code",
   "execution_count": null,
   "id": "f2c384b5-320a-4c1e-a533-451c1d040a98",
   "metadata": {},
   "outputs": [],
   "source": [
    "# Case 2: \"bnmdata.csv\" in \"data\" subfolder\n",
    "bnmdata_path = clean_wsl_path('./data/bnmdata.csv')\n",
    "df_bnmdata = load_csv_utf8(bnmdata_path)\n",
    "\n",
    "\n",
    "save_csv_utf8(df_bnmdata, bnmdata_path)  # round-trip"
   ]
  },
  {
   "cell_type": "code",
   "execution_count": null,
   "id": "9ee8c9ba-8bf2-4716-a9fc-b5329773a3ea",
   "metadata": {},
   "outputs": [],
   "source": [
    "\n",
    "df_bnm.loc[2,\"s002\"]"
   ]
  },
  {
   "cell_type": "code",
   "execution_count": null,
   "id": "cc4e7bd3-5fcc-44b7-adf5-c0c5a37a31e5",
   "metadata": {},
   "outputs": [],
   "source": [
    "\n",
    "df_bnm.loc[2,\"s002\"]=97"
   ]
  },
  {
   "cell_type": "code",
   "execution_count": null,
   "id": "b4b0f4dd-0624-4ffa-bc58-42c8dca3d8ea",
   "metadata": {
    "scrolled": true
   },
   "outputs": [],
   "source": [
    "print(type(df_bnm))         # <class 'pandas.core.frame.DataFrame'>\n",
    "print(df_bnm.shape)         # (rows, columns)\n",
    "df_bnm.head()        # Preview first few rows"
   ]
  },
  {
   "cell_type": "code",
   "execution_count": null,
   "id": "64fcedc8-2122-4c1e-ba62-e8403f7a2c52",
   "metadata": {},
   "outputs": [],
   "source": []
  },
  {
   "cell_type": "code",
   "execution_count": null,
   "id": "6b3051f2-d158-4e08-bbd7-165acbbd1263",
   "metadata": {},
   "outputs": [],
   "source": []
  },
  {
   "cell_type": "code",
   "execution_count": null,
   "id": "affaf467-c9f9-49da-af1d-c5becd0bc334",
   "metadata": {},
   "outputs": [],
   "source": []
  }
 ],
 "metadata": {
  "kernelspec": {
   "display_name": "Python (scu)",
   "language": "python",
   "name": "scu"
  },
  "language_info": {
   "codemirror_mode": {
    "name": "ipython",
    "version": 3
   },
   "file_extension": ".py",
   "mimetype": "text/x-python",
   "name": "python",
   "nbconvert_exporter": "python",
   "pygments_lexer": "ipython3",
   "version": "3.11.13"
  }
 },
 "nbformat": 4,
 "nbformat_minor": 5
}
