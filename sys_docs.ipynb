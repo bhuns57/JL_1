{
 "cells": [
  {
   "cell_type": "markdown",
   "id": "ac28a09a-0f71-4510-9009-975f58c633fe",
   "metadata": {},
   "source": [
    "# System Documentation       [1]"
   ]
  },
  {
   "cell_type": "markdown",
   "id": "8f56cb93-a0c1-445a-8dc5-8560acdd88be",
   "metadata": {},
   "source": [
    "## Simplified load_csv_to_dict Introduction           [2]"
   ]
  },
  {
   "cell_type": "markdown",
   "id": "17d5ca1e-e740-417f-b015-e1941acdbf12",
   "metadata": {},
   "source": [
    "1. **Path():**   *from pathlib import Path*\n",
    "2. **csv.DictReader(file):**  *import csv*\n",
    "3. **dtv** *index*  *many*  **np.cols**"
   ]
  },
  {
   "cell_type": "markdown",
   "id": "0d6cc3bd-f7f7-444b-8578-a8add0e84ed6",
   "metadata": {},
   "source": [
    "## Tools         [2]"
   ]
  },
  {
   "cell_type": "markdown",
   "id": "4d034932-4106-4aef-a464-8c7783f8c7f9",
   "metadata": {},
   "source": [
    "### Link with Evenote/pilot Documentation         [3]"
   ]
  },
  {
   "cell_type": "markdown",
   "id": "aa2645cb-7e07-4a8e-a3ea-aeaca31d8273",
   "metadata": {},
   "source": [
    "**Link with evernote to bring in document text and images**\n",
    "1. Make a note in evernote app\n",
    "2. Open evernote web and copy the link\n",
    "3. Go JL and paste it in  Markdown cell with explanations\n",
    "4. Edit at will when linked back "
   ]
  },
  {
   "cell_type": "markdown",
   "id": "e13069fe-6d27-4097-a462-2f9eed012d5c",
   "metadata": {},
   "source": [
    "### Special Tools                                               [3]"
   ]
  },
  {
   "cell_type": "markdown",
   "id": "fa8d1a49-abae-4fd1-b4a0-798eba569283",
   "metadata": {
    "jp-MarkdownHeadingCollapsed": true
   },
   "source": [
    "#### Find repo           [4]"
   ]
  },
  {
   "cell_type": "code",
   "execution_count": null,
   "id": "79c31f41-44b2-4b10-8c6c-195d62545074",
   "metadata": {},
   "outputs": [],
   "source": [
    "Path.cwd()"
   ]
  },
  {
   "cell_type": "markdown",
   "id": "6e8b4b85-0a55-43d2-b045-39ac9e37aba4",
   "metadata": {
    "jp-MarkdownHeadingCollapsed": true
   },
   "source": [
    "#### **Move_file** *to* **repo** *from* **explorer** [4] "
   ]
  },
  {
   "cell_type": "markdown",
   "id": "1bed5f09-2323-41af-8000-cba5040587ae",
   "metadata": {},
   "source": [
    "move manually from explorer to repro\n",
    "details in https://share.evernote.com/note/eceab576-e515-b68a-73b1-9e31f1b1b928"
   ]
  },
  {
   "cell_type": "markdown",
   "id": "dda37008-d24e-408e-92f1-aa067fc5bd1a",
   "metadata": {},
   "source": [
    "# def functions/calls templates            [1]"
   ]
  },
  {
   "cell_type": "markdown",
   "id": "2673fa1e-7cd4-4bc2-bd1e-5416bf0b2ae8",
   "metadata": {},
   "source": [
    "##  move *.csv dat to Repo                      [2] "
   ]
  },
  {
   "cell_type": "markdown",
   "id": "d83bd8a5-b7eb-4828-88a6-0f6457736847",
   "metadata": {},
   "source": [
    "###  **row_dic**  | *Dictionary of rows...frm csv file*                       [3] wrks"
   ]
  },
  {
   "cell_type": "markdown",
   "id": "3f902f5c-418a-4d92-87e7-cc93afeeb961",
   "metadata": {},
   "source": [
    "#### **def func** *for* **array** [4] "
   ]
  },
  {
   "cell_type": "raw",
   "id": "4fc95bf0-616c-403e-b91b-8cea46720e9e",
   "metadata": {
    "jupyter": {
     "source_hidden": true
    }
   },
   "source": [
    "# def load_csv_to_row_dict(bnm, subfolder=None)\n",
    "from pathlib import Path\n",
    "import csv\n",
    "\n",
    "def load_csv_to_row_dict(bnm, subfolder=None):\n",
    "    \"\"\"\n",
    "    Loads a CSV file into a dictionary of dictionaries from working directory or subfolder.\n",
    "\n",
    "    Parameters:\n",
    "        bnm (str): Filename of the CSV (e.g., 'bnm.csv')\n",
    "        subfolder (str, optional): Subdirectory within working directory. Defaults to working directory.\n",
    "\n",
    "    Returns:\n",
    "        dict: Dictionary where each row is keyed by the first column.\n",
    "    \"\"\"\n",
    "    # Step 1: Resolve working directory \n",
    "    base_path = Path.cwd()            #test OK = PosixPath('/home/bhuns/JL_1')\n",
    "    \n",
    "    \n",
    "    # Step 2: Build full path\n",
    "    full_path = base_path / subfolder / bnm if subfolder else base_path / bnm\n",
    "\n",
    "    # Step 3: Read CSV\n",
    "    result_dict = {}\n",
    "    with full_path.open(mode='r', newline='', encoding='latin1') as file:\n",
    "        reader = csv.DictReader(file)\n",
    "        # print(reader)\n",
    "        for row in reader:\n",
    "            primary_key = row[reader.fieldnames[0]]\n",
    "            row_data = {k: v for k, v in row.items() if k != reader.fieldnames[0]}\n",
    "            result_dict[primary_key] = row_data\n",
    "\n",
    "    return result_dict\n"
   ]
  },
  {
   "cell_type": "raw",
   "id": "20299d15-9974-497c-97d6-4fe095bf8027",
   "metadata": {
    "jupyter": {
     "source_hidden": true
    }
   },
   "source": [
    "def array_to_row_dict(array):\n",
    "    if not array or not all(array):\n",
    "        return {}\n",
    "\n",
    "    headers = array[0]\n",
    "    rows = array[1:]\n",
    "\n",
    "    row_dict = {\n",
    "        idx: {header: value for header, value in zip(headers, row)}\n",
    "        for idx, row in enumerate(rows)\n",
    "    }\n",
    "\n",
    "    return row_dict\n"
   ]
  },
  {
   "cell_type": "code",
   "execution_count": 67,
   "id": "1ad18e66-950e-430d-99b1-24a4ec4c675c",
   "metadata": {},
   "outputs": [],
   "source": [
    "# from copilot documented in LinkLibray\n",
    "from pathlib import Path\n",
    "import csv\n",
    "\n",
    "def read_csv_to_array(filepath):\n",
    "    \"\"\"Reads a CSV file and returns a 2D array (list of lists).\"\"\"\n",
    "    path = Path(filepath)\n",
    "    if not path.exists():\n",
    "        raise FileNotFoundError(f\"CSV file not found: {path}\")\n",
    "\n",
    "    with path.open(newline='', encoding='utf-8') as f:\n",
    "        reader = csv.reader(f)\n",
    "        array = [row for row in reader if row]  # skip empty rows\n",
    "    return array"
   ]
  },
  {
   "cell_type": "markdown",
   "id": "671284dd-ad4c-4032-a6bf-3e3c558b88c5",
   "metadata": {},
   "source": [
    "#### **def func** *for* **row_dict** [4] "
   ]
  },
  {
   "cell_type": "code",
   "execution_count": 68,
   "id": "921054b7-c559-4948-bb45-40a7edba06eb",
   "metadata": {},
   "outputs": [],
   "source": [
    "def array_to_row_dict_by_first_col(array):\n",
    "    \"\"\"Converts a 2D array into a dict of rows indexed by the first column.\"\"\"\n",
    "    if not array or not all(array):\n",
    "        raise ValueError(\"Empty or malformed array\")\n",
    "\n",
    "    headers = array[0][1:]  # skip first column (dtv)\n",
    "    rows = array[1:]\n",
    "\n",
    "    row_dict = {\n",
    "        row[0]: {header: value for header, value in zip(headers, row[1:])}\n",
    "        for row in rows\n",
    "    }\n",
    "\n",
    "    return row_dict\n"
   ]
  },
  {
   "cell_type": "raw",
   "id": "20c6cefd-2deb-4a3d-9e5b-64e65b78316f",
   "metadata": {
    "jupyter": {
     "source_hidden": true
    }
   },
   "source": [
    "def array_to_row_dict_by_dtv(array, dtv):\n",
    "    \"\"\"Converts a 2D array into a dict of rows indexed by dtv values.\"\"\"\n",
    "    if not array or not all(array) or len(array) - 1 != len(dtv):\n",
    "        raise ValueError(\"Mismatch between array rows and dtv length\")\n",
    "\n",
    "    headers = array[0]\n",
    "    rows = array[1:]\n",
    "\n",
    "    row_dict = {\n",
    "        dt: {header: value for header, value in zip(headers, row)}\n",
    "        for dt, row in zip(dtv, rows)\n",
    "    }\n",
    "\n",
    "    return row_dict"
   ]
  },
  {
   "cell_type": "code",
   "execution_count": null,
   "id": "bba2e667-abe1-4eaa-83ea-6ad5a77b04cf",
   "metadata": {},
   "outputs": [],
   "source": []
  },
  {
   "cell_type": "code",
   "execution_count": null,
   "id": "b4351947-fa1b-4568-bf86-9f5ddc239151",
   "metadata": {},
   "outputs": [],
   "source": []
  },
  {
   "cell_type": "markdown",
   "id": "499077be-a752-48f4-9d7e-6d3cb50f64d8",
   "metadata": {},
   "source": [
    "#### **call func** *for* **array** [4] "
   ]
  },
  {
   "cell_type": "code",
   "execution_count": 69,
   "id": "bb4f75f0-00b9-4293-b345-19ba47575b23",
   "metadata": {},
   "outputs": [],
   "source": [
    "# READ THS CSV TO GEt array\n",
    "csv_path = 'bnm.csv'\n",
    "array = read_csv_to_array(csv_path)\n",
    "#array"
   ]
  },
  {
   "cell_type": "code",
   "execution_count": 70,
   "id": "537fa517-3df7-4522-bb0b-22fbaa9fe77b",
   "metadata": {},
   "outputs": [
    {
     "data": {
      "text/plain": [
       "[['dtv', 's000', 's001', 's002', 's003', 's004'],\n",
       " ['45860', '', '', '', '', ''],\n",
       " ['45861', '', '', '', '', ''],\n",
       " ['45862', '', '8', '', '', ''],\n",
       " ['45863', '', '', '', '', ''],\n",
       " ['45864', '', '', '', '5', ''],\n",
       " ['45865', '', '', '', '', '']]"
      ]
     },
     "execution_count": 70,
     "metadata": {},
     "output_type": "execute_result"
    }
   ],
   "source": [
    "array"
   ]
  },
  {
   "cell_type": "markdown",
   "id": "2b37cb12-26f7-4806-b5b0-91ced0db4319",
   "metadata": {},
   "source": [
    "#### **call func** *for* **row_dict** [4] "
   ]
  },
  {
   "cell_type": "code",
   "execution_count": 71,
   "id": "8b1378ab-2c76-4c9e-95e6-93014d823275",
   "metadata": {},
   "outputs": [],
   "source": [
    "# USE THE array just calculate to get row_dict\n",
    "row_dict = array_to_row_dict_by_first_col(array)\n",
    "#row_dict"
   ]
  },
  {
   "cell_type": "code",
   "execution_count": 72,
   "id": "1e20eb40-fee2-4b65-96a1-ed143a3312d0",
   "metadata": {},
   "outputs": [
    {
     "data": {
      "text/plain": [
       "{'45860': {'s000': '', 's001': '', 's002': '', 's003': '', 's004': ''},\n",
       " '45861': {'s000': '', 's001': '', 's002': '', 's003': '', 's004': ''},\n",
       " '45862': {'s000': '', 's001': '8', 's002': '', 's003': '', 's004': ''},\n",
       " '45863': {'s000': '', 's001': '', 's002': '', 's003': '', 's004': ''},\n",
       " '45864': {'s000': '', 's001': '', 's002': '', 's003': '5', 's004': ''},\n",
       " '45865': {'s000': '', 's001': '', 's002': '', 's003': '', 's004': ''}}"
      ]
     },
     "execution_count": 72,
     "metadata": {},
     "output_type": "execute_result"
    }
   ],
   "source": [
    "row_dict"
   ]
  },
  {
   "cell_type": "raw",
   "id": "e26d918c-c018-41dd-8b27-7549bd96c641",
   "metadata": {},
   "source": [
    "#### **def func** *for* **Row_dict** [4] "
   ]
  },
  {
   "cell_type": "raw",
   "id": "13ce7482-fff9-45e2-a531-dfe10ad915bf",
   "metadata": {
    "jupyter": {
     "source_hidden": true
    }
   },
   "source": [
    "# call load csv dict cols\n",
    "# Load from working directory\n",
    "#bnm = \"bnm.csv\"       # qualification test\n",
    "#bnm = \"ib97.csv\"\n",
    "bnm = \"rcnt_mrn.csv\"\n",
    "#bnm = \"ad_sn_log.csv\"\n",
    "result_dict = load_csv_to_row_dict(bnm)\n",
    "result_dict\n",
    "# Load from subfolder within working directory\n",
    "#bnm = load_csv_to_dict(\"bnm.csv\", subfolder=\"data\")"
   ]
  },
  {
   "cell_type": "raw",
   "id": "aba84702-3957-4fa3-bf6e-679bf4d3736e",
   "metadata": {
    "jupyter": {
     "source_hidden": true
    }
   },
   "source": [
    "bnm = \"rcnt_mrn.csv\"\n",
    "#bnm = \"ad_sn_log.csv\"\n",
    "load_csv_to_row_dict(bnm, subfolder=None)\n"
   ]
  },
  {
   "cell_type": "markdown",
   "id": "97f8d996-acf5-4ec1-a6d0-ce94426947f2",
   "metadata": {},
   "source": [
    "### **col_dict**  *Dictionary of cols.frm dsv file      [3] wrks"
   ]
  },
  {
   "cell_type": "markdown",
   "id": "e4ef7959-2171-425d-8657-a56e83779991",
   "metadata": {},
   "source": [
    "#### **def func** *for* **col_dict** [4] "
   ]
  },
  {
   "cell_type": "code",
   "execution_count": null,
   "id": "35441212-5c4e-44a6-8864-4a5447ba0426",
   "metadata": {
    "scrolled": true
   },
   "outputs": [],
   "source": [
    "# def load_csv_to_col_dict(bnm, subfolder=None)\n",
    "from pathlib import Path\n",
    "import csv\n",
    "import numpy as np\n",
    "\n",
    "def load_csv_to_col_dict(bnm, subfolder=None):\n",
    "    \"\"\"\n",
    "    Loads a CSV file into a dictionary of NumPy arrays, keyed by column name.\n",
    "\n",
    "    Parameters:\n",
    "        bnm (str): Filename of the CSV (e.g., 'bnm.csv')\n",
    "        subfolder (str, optional): Subdirectory within working directory.\n",
    "\n",
    "    Returns:\n",
    "        dict: Dictionary where each key is a column name and value is a NumPy array of column values.\n",
    "    \"\"\"\n",
    "    # Step 1: Resolve path\n",
    "    base_path = Path.cwd()\n",
    "    full_path = base_path / subfolder / bnm if subfolder else base_path / bnm\n",
    "\n",
    "    # Step 2: Initialize column containers\n",
    "    col_data = {}\n",
    "\n",
    "    # Step 3: Read CSV and collect column-wise data\n",
    "    with full_path.open(mode='r', newline='', encoding='latin1') as file:\n",
    "        reader = csv.DictReader(file)\n",
    "        for row in reader:\n",
    "            for col, val in row.items():\n",
    "                col_data.setdefault(col, []).append(val)\n",
    "\n",
    "    # Step 4: Convert lists to NumPy arrays\n",
    "    col_dict = {col: np.array(vals) for col, vals in col_data.items()}\n",
    "\n",
    "    return col_dict\n"
   ]
  },
  {
   "cell_type": "markdown",
   "id": "a41757a9-4265-4545-941f-3e68014b5fb0",
   "metadata": {},
   "source": [
    "#### **Call func** *for* **col_dict** [4] "
   ]
  },
  {
   "cell_type": "code",
   "execution_count": null,
   "id": "7cac633d-596a-437e-84e2-e1630885522a",
   "metadata": {},
   "outputs": [],
   "source": [
    "# call load_csv_to_col_dict(bnm, subfolder=None)\n",
    "bnm = \"rcnt_mrn.csv\" \n",
    "#bnm = \"result_dict\"\n",
    "bnm = load_csv_to_col_dict(bnm)\n",
    "bnm"
   ]
  },
  {
   "cell_type": "markdown",
   "id": "978150d7-8fe1-4cba-a63e-9dadbcaf3178",
   "metadata": {},
   "source": [
    "##  input_class                       [2] "
   ]
  },
  {
   "cell_type": "markdown",
   "id": "06fe8200-069d-49db-89b8-433016f7fef6",
   "metadata": {},
   "source": [
    "## Readers \"       [2] ok"
   ]
  },
  {
   "cell_type": "markdown",
   "id": "36622add-befb-4fa2-ace6-160936750dda",
   "metadata": {},
   "source": [
    "### Dict \"       [3]"
   ]
  },
  {
   "cell_type": "code",
   "execution_count": null,
   "id": "6367621a-d914-4ce3-bc2e-f629de881c45",
   "metadata": {
    "scrolled": true
   },
   "outputs": [],
   "source": [
    "bnm"
   ]
  },
  {
   "cell_type": "code",
   "execution_count": null,
   "id": "10cdda6a-32ff-43a2-a2ef-0b0a2e84636e",
   "metadata": {
    "jupyter": {
     "source_hidden": true
    }
   },
   "outputs": [],
   "source": [
    "bnm = load_csv_to_col_dict(\"bnm.csv\")\n",
    "s001_array = bnm[\"s001\"]\n",
    "s001_array"
   ]
  },
  {
   "cell_type": "code",
   "execution_count": null,
   "id": "14c46b34-7e9e-4a92-9a77-38b601e8d35c",
   "metadata": {
    "scrolled": true
   },
   "outputs": [],
   "source": [
    "dtv_array = bnm[\"dtv\"]\n"
   ]
  },
  {
   "cell_type": "code",
   "execution_count": null,
   "id": "b9c9cd28-fcbf-4e7a-9ab8-f39c1a3d29a4",
   "metadata": {},
   "outputs": [],
   "source": [
    "bnm"
   ]
  },
  {
   "cell_type": "code",
   "execution_count": null,
   "id": "f14a73e0-2c31-49c1-9d1e-615ec9464b5d",
   "metadata": {},
   "outputs": [],
   "source": [
    "dtv_array = bnm[\"dtv\"]\n",
    "dtv_array\n"
   ]
  },
  {
   "cell_type": "code",
   "execution_count": null,
   "id": "e8392e1b-c1b5-4155-ab53-e5043ddedac1",
   "metadata": {},
   "outputs": [],
   "source": [
    "for dtv in bnm[\"dtv\"]:\n",
    "    print(dtv)\n"
   ]
  },
  {
   "cell_type": "code",
   "execution_count": null,
   "id": "17995409-e502-4424-97aa-21465402c974",
   "metadata": {},
   "outputs": [],
   "source": [
    "target_dtv = \"2025-09-18\"\n",
    "mask = bnm[\"dtv\"] == target_dtv\n",
    "filtered = {col: arr[mask] for col, arr in bnm.items()}\n",
    "\n",
    "filtered"
   ]
  },
  {
   "cell_type": "markdown",
   "id": "4eedbe7e-d73d-49d3-9daf-a692e4dc39f0",
   "metadata": {},
   "source": [
    "### df\"       [3]"
   ]
  },
  {
   "cell_type": "markdown",
   "id": "6eb18acf-5e43-412f-afa1-53d1c6134787",
   "metadata": {},
   "source": [
    "### lut \"       [3]"
   ]
  },
  {
   "cell_type": "markdown",
   "id": "befc93ef-4988-40bd-92df-e6e465fbaab4",
   "metadata": {},
   "source": [
    "## Filter_class                       [2] "
   ]
  },
  {
   "cell_type": "markdown",
   "id": "357cd6f1-d819-4660-a6d2-75fd2cd7d42b",
   "metadata": {},
   "source": [
    "## Correlation_class                       [2] "
   ]
  },
  {
   "cell_type": "markdown",
   "id": "9d234666-bbe2-46e6-bce9-ce4bac3c500c",
   "metadata": {},
   "source": [
    "## Graphics_class                       [2] "
   ]
  },
  {
   "cell_type": "markdown",
   "id": "aaac14d3-8969-4ede-a4f2-bb052e06e83e",
   "metadata": {},
   "source": [
    "## Diagrams_class                       [2] "
   ]
  },
  {
   "cell_type": "markdown",
   "id": "cc06e36e-1599-4900-9ee8-413227934a44",
   "metadata": {
    "jp-MarkdownHeadingCollapsed": true
   },
   "source": [
    "## Image_class                       [2] "
   ]
  },
  {
   "cell_type": "markdown",
   "id": "496e3c23-fffa-4b5e-95b5-ef3aa759f2a6",
   "metadata": {},
   "source": [
    "## _______ _class                       [2] "
   ]
  },
  {
   "cell_type": "markdown",
   "id": "bb3a761d-426c-41ee-9215-be01f1df27fb",
   "metadata": {},
   "source": [
    "# Collect new data *[changes]* into REPO/*.csv files[1]"
   ]
  },
  {
   "cell_type": "markdown",
   "id": "35333b4b-67fd-4d7d-863e-494c8f15007a",
   "metadata": {},
   "source": [
    "## Get data from insturments to REPO/*.csv.               [2]"
   ]
  },
  {
   "cell_type": "markdown",
   "id": "37215365-7783-435b-b755-a45e40db6fcb",
   "metadata": {},
   "source": [
    "### calc change data from inbody 770 to REPO/*.csv files.               [3]"
   ]
  },
  {
   "cell_type": "markdown",
   "id": "35bf1266-d49a-4aca-bc9f-605f1389d832",
   "metadata": {
    "jp-MarkdownHeadingCollapsed": true
   },
   "source": [
    "#### Get change data from inbody 770 to REPO/*.csv.               [4]"
   ]
  },
  {
   "cell_type": "markdown",
   "id": "830d02bc-c1d8-49b4-9e56-ebc164835279",
   "metadata": {},
   "source": [
    "### Get data from inbody to REPO/*.csv files.               [3]"
   ]
  },
  {
   "cell_type": "markdown",
   "id": "d5523186-fd24-4c91-8f00-f527f94e7df9",
   "metadata": {},
   "source": [
    "### Get data from manual inputs to  REPO/*.csv files     [3]"
   ]
  },
  {
   "cell_type": "markdown",
   "id": "d4a39dcc-c62e-40b9-9eec-9e4d6ef2177d",
   "metadata": {},
   "source": [
    "## Make updates from REPO/*.csv files to df, dict and lut [2]"
   ]
  },
  {
   "cell_type": "markdown",
   "id": "5e25f27a-bd8b-48a0-ba66-b59cdc1197b7",
   "metadata": {},
   "source": [
    "### Update df, dict and lookup tables with REPO/*.csv files.               [3]"
   ]
  },
  {
   "cell_type": "markdown",
   "id": "40f5f1c7-8339-4b16-8374-de7ee86e333d",
   "metadata": {},
   "source": [
    "### Use a master_dic with change_dict value only change              [3]"
   ]
  },
  {
   "cell_type": "markdown",
   "id": "a6b799e7-fbbe-4e9e-b05b-9ace2b65621e",
   "metadata": {},
   "source": [
    "# Process df, dict and lookup tables for results [1]"
   ]
  },
  {
   "cell_type": "markdown",
   "id": "0c4d035e-d4fd-4537-b597-39b57d4f8e81",
   "metadata": {},
   "source": [
    "### Xcorrelate df, dict and lookup tables.               [3]"
   ]
  },
  {
   "cell_type": "markdown",
   "id": "b319eb75-b4dd-403a-abab-f05bab60f0bc",
   "metadata": {
    "jp-MarkdownHeadingCollapsed": true
   },
   "source": [
    "### filter df, dict and lookup tables.               [3]"
   ]
  },
  {
   "cell_type": "markdown",
   "id": "80a17418-f2bf-4cb8-a447-bef71fcb4a96",
   "metadata": {
    "jp-MarkdownHeadingCollapsed": true
   },
   "source": [
    "# Make plots of results [1]"
   ]
  },
  {
   "cell_type": "markdown",
   "id": "662115b5-7146-4683-9763-1d688fd0a8b0",
   "metadata": {
    "jp-MarkdownHeadingCollapsed": true
   },
   "source": [
    "# Make summary reports [1]"
   ]
  },
  {
   "cell_type": "markdown",
   "id": "099d95b0-de05-41ff-84d6-939ea04debb3",
   "metadata": {},
   "source": [
    "### Add documentaion to df, dict and lookup tables              [3]"
   ]
  },
  {
   "cell_type": "markdown",
   "id": "0d02f373-db73-44af-868c-738d70a7ed3b",
   "metadata": {
    "jp-MarkdownHeadingCollapsed": true
   },
   "source": [
    "# BU df, dict,lut,docs,plots \n",
    "*REPO/data/*.pkl  and *.csv files*"
   ]
  },
  {
   "cell_type": "markdown",
   "id": "52142e19-9175-4305-9b96-3801f969669e",
   "metadata": {
    "jp-MarkdownHeadingCollapsed": true
   },
   "source": [
    "### Backup the data to REPO/data/*.pkl  and *.csv files  [3]"
   ]
  },
  {
   "cell_type": "markdown",
   "id": "c3450bd0-ce1e-4cf0-9c48-1957b471ab53",
   "metadata": {},
   "source": [
    "##   [2]"
   ]
  },
  {
   "cell_type": "markdown",
   "id": "d67f68b7-d75d-4afb-a8e7-817abfec6204",
   "metadata": {
    "jp-MarkdownHeadingCollapsed": true
   },
   "source": [
    "# System doc and upgrades   [1]"
   ]
  },
  {
   "cell_type": "markdown",
   "id": "8d3ce93c-7ec1-42f9-a24a-1efe91a10756",
   "metadata": {},
   "source": [
    "## Procedure changes  [2]"
   ]
  },
  {
   "cell_type": "markdown",
   "id": "21fd7d76-6815-4624-a8e7-d97edde68033",
   "metadata": {},
   "source": [
    "## Documentation upgrades  [2]"
   ]
  },
  {
   "cell_type": "markdown",
   "id": "b285e599-e114-41b3-8169-81a8f0847ec1",
   "metadata": {},
   "source": [
    "## System diagrams  [2]"
   ]
  },
  {
   "cell_type": "markdown",
   "id": "2f4df2a2-d084-4ccb-bc5a-fb7318cd1b75",
   "metadata": {},
   "source": [
    "## Problems   [2]"
   ]
  }
 ],
 "metadata": {
  "kernelspec": {
   "display_name": "Python (scu)",
   "language": "python",
   "name": "scu"
  },
  "language_info": {
   "codemirror_mode": {
    "name": "ipython",
    "version": 3
   },
   "file_extension": ".py",
   "mimetype": "text/x-python",
   "name": "python",
   "nbconvert_exporter": "python",
   "pygments_lexer": "ipython3",
   "version": "3.11.13"
  }
 },
 "nbformat": 4,
 "nbformat_minor": 5
}
