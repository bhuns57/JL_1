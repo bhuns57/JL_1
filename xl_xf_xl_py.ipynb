{
 "cells": [
  {
   "cell_type": "markdown",
   "id": "e24e28f5-d214-4170-b82b-d7382b216077",
   "metadata": {},
   "source": [
    "# Readme \n",
    "### xl_xf_xl_py.ipynb :  holds .py functions\"\n",
    "### *\"_tbl\"*  is varable for .py functions sync *xl_tbl* to *df_tbl* \n",
    "#### ----- xl file name = ??_tbl       &      \n",
    "#### ----- df name      = ??_tbl\n",
    "### *script:* df_tbl = xlsync.load_df_with_formulas(\"xl_tbl.xlsx\", \"xl_tbl\")\n",
    "### *--- update using df_tbl ---*\n",
    "### *script:* xlsync.write_df_with_formulas(df_tbl, \"xl_tbl.xlsx\", \"xl_tbl\", \"xl_tbl\")"
   ]
  },
  {
   "cell_type": "markdown",
   "id": "fce0bbbf-a3d0-496c-b0e7-33895a362c3e",
   "metadata": {},
   "source": [
    "# Import functions and load \"_tbl\" prefix"
   ]
  },
  {
   "cell_type": "code",
   "execution_count": 1,
   "id": "b317633c-23ad-47dd-901c-c931cb1984e0",
   "metadata": {},
   "outputs": [],
   "source": [
    "import xl_formula_sync as xlsync\n",
    "xl_tbl = \"xl_tbl\"   # set to name of xl table being processed\n",
    "df_tbl = \"df_tbl\"   # set to name of df table being processed"
   ]
  },
  {
   "cell_type": "markdown",
   "id": "b2e6806e-1c95-4d34-8dfe-3175529fe4dd",
   "metadata": {
    "jp-MarkdownHeadingCollapsed": true
   },
   "source": [
    "# Create *.py function call* **scripts**\n",
    "### READ FROM XL\n",
    "#### df_tbl = xlsync.load_df_with_formulas(\"xl_tbl.xlsx\", \"xl_tbl\")\n",
    "### WRITE DF_TBL TO XL_TBL\n",
    "#### xlsync.write_df_with_formulas(df_tbl, \"xl_tbl.xlsx\", \"xl_tbl\", \"xl_tbl\")"
   ]
  },
  {
   "cell_type": "markdown",
   "id": "b02bd8ac-76ee-44d3-b82a-9ec485e62e30",
   "metadata": {},
   "source": [
    "# Call functions to execute proceases"
   ]
  },
  {
   "cell_type": "code",
   "execution_count": 2,
   "id": "2f5069b8-fa69-4a60-b4a7-b2b75731cd0b",
   "metadata": {},
   "outputs": [],
   "source": [
    "df_tbl = xlsync.load_df_with_formulas(xl_tbl + \".xlsx\", xl_tbl)"
   ]
  },
  {
   "cell_type": "markdown",
   "id": "58e6edce-d27c-4392-8e1d-683536d45abd",
   "metadata": {},
   "source": [
    "# Modify df_tbl"
   ]
  },
  {
   "cell_type": "code",
   "execution_count": 3,
   "id": "81298c0c-ba7b-47b4-ac7d-821aa4223ee2",
   "metadata": {},
   "outputs": [],
   "source": [
    "#df_tbl.iloc[0,0] = \"bill\" # verify"
   ]
  },
  {
   "cell_type": "code",
   "execution_count": 4,
   "id": "e49332a2-6d96-415d-b310-1fa122e5a653",
   "metadata": {
    "scrolled": true
   },
   "outputs": [
    {
     "name": "stdout",
     "output_type": "stream",
     "text": [
      "dt_clms or grp                                            lifestyle\n",
      "dt_clms_id        ==xl_tbl[[#This Row],[Cls1]]&xl_tbl[[#This Row...\n",
      "lvl                            ==LEN(B2)-LEN(SUBSTITUTE(B2,\".\",\"\"))\n",
      "Cls1                                                             .1\n",
      "Cls2                                                             .0\n",
      "Cls3                                                           None\n",
      "Cls4                                                           None\n",
      "grp_data                                                        grp\n",
      "parent1_nm                                                    focus\n",
      "parent2_nm                                                        _\n",
      "parent3_nm                                                     None\n",
      "parent4_nm                                                     None\n",
      "Input_typ_freq                                                 None\n",
      "dt_clms_nm                   ==xl_tbl[[#This Row],[dt_clms or grp]]\n",
      "50573                                                          None\n",
      "50574                                                          None\n",
      "50575                                                          None\n",
      "0                                                              bill\n",
      "Name: 0, dtype: object\n"
     ]
    }
   ],
   "source": [
    "print(df_tbl.iloc[0]) # verif"
   ]
  },
  {
   "cell_type": "markdown",
   "id": "41a8c7bb-384a-4aa6-88bd-2f263bd2d0c1",
   "metadata": {},
   "source": [
    "# Call function to write the update to xl_tbl in xl_tbl.xlxs"
   ]
  },
  {
   "cell_type": "code",
   "execution_count": 10,
   "id": "8b0b3028-a527-4c7b-b722-83def2655652",
   "metadata": {},
   "outputs": [
    {
     "name": "stdout",
     "output_type": "stream",
     "text": [
      "wrote df_tbl to xl_tbl\n"
     ]
    }
   ],
   "source": [
    "xlsync.write_df_with_formulas(df_tbl, \"xl_tbl.xlsx\", \"xl_tbl\", \"xl_tbl\")\n",
    "print(\"wrote df_tbl to xl_tbl\")"
   ]
  },
  {
   "cell_type": "markdown",
   "id": "282b43df-dc79-43bb-9ea4-69ce4d17565d",
   "metadata": {},
   "source": [
    "# Editing and Restoring with git"
   ]
  },
  {
   "cell_type": "markdown",
   "id": "7fd41586-bbd4-473b-9eb7-25a50dd3e4c9",
   "metadata": {},
   "source": [
    "## git : guidance Viewing and restoring earlier versions\n",
    "of your `xl_xf_xl_py.ipynb` file using Git. \n",
    "- 📜 **View commit history** for the notebook: use `git log -- xl_xf_xl_py.ipynb`  \n",
    "- 🔍 **Compare changes** with `git diff HEAD xl_xf_xl_py.ipynb` to see what's different  \n",
    "- ⏪ **Restore** a previous version using `git checkout <commit_hash> -- xl_xf_xl_py.ipynb`  \n",
    "\n",
    "This keeps everything in your terminal workflow and plays nicely with how you're managing backups and automation. If you want to wrap these into reusable Bash or Python scripts for quick version control rollbacks or comparisons, just say the word."
   ]
  },
  {
   "cell_type": "code",
   "execution_count": 13,
   "id": "a6442e07-bd06-4c26-add1-2955c8852054",
   "metadata": {},
   "outputs": [
    {
     "ename": "SyntaxError",
     "evalue": "invalid syntax (3106136146.py, line 1)",
     "output_type": "error",
     "traceback": [
      "  \u001b[36mCell\u001b[39m\u001b[36m \u001b[39m\u001b[32mIn[13]\u001b[39m\u001b[32m, line 1\u001b[39m\n\u001b[31m    \u001b[39m\u001b[31mgit log -- xl_xf_xl_py.ipynb\u001b[39m\n        ^\n\u001b[31mSyntaxError\u001b[39m\u001b[31m:\u001b[39m invalid syntax\n"
     ]
    }
   ],
   "source": [
    "git log -- xl_xf_xl_py.ipynb"
   ]
  },
  {
   "cell_type": "markdown",
   "id": "268470c4-315d-485c-a205-cf475d89acbe",
   "metadata": {},
   "source": [
    "## Compare different versions of your `xl_xf_xl_py.ipynb` using Git, \n",
    "you’ve got a couple solid strategies—depending on whether you want a quick terminal diff or a more visual approach:\n",
    "### 🧪 Terminal Diff for Code and Metadata\n",
    "This works best if your notebook is tracked as raw `.ipynb` (JSON format):\n",
    "```bash\n",
    "# Compare the latest version to the previous commit\n",
    "git diff HEAD~1 xl_xf_xl_py.ipynb\n",
    "```\n",
    "Or, to compare specific commits:\n",
    "\n",
    "```bash\n",
    "git diff <older_commit_hash> <newer_commit_hash> -- xl_xf_xl_py.ipynb\n",
    "```\n",
    "\n",
    "> This shows the structural and code-level differences. It can be messy if a lot of output or metadata changed.\n",
    "\n",
    "---\n",
    "\n",
    "### 🖼️ Use a Notebook Diff Tool for Cleaner Comparisons\n",
    "\n",
    "Install [`nbdime`](https://nbdime.readthedocs.io/en/latest/), which is built specifically for Jupyter notebooks:\n",
    "\n",
    "```bash\n",
    "pip install nbdime\n",
    "```\n",
    "\n",
    "Then you can run:\n",
    "\n",
    "```bash\n",
    "nbdiff-web xl_xf_xl_py.ipynb\n",
    "```\n",
    "\n",
    "Or compare two commits:\n",
    "\n",
    "```bash\n",
    "nbdiff-web --git <older_commit_hash> <newer_commit_hash>\n",
    "```\n",
    "\n",
    "This opens a browser window with side-by-side cell comparisons—much easier to digest than raw JSON.\n",
    "\n",
    "---\n",
    "\n",
    "### 🧭 Want to Restore a Prior Version?\n",
    "\n",
    "```bash\n",
    "# Replace current notebook with a specific commit version\n",
    "git checkout <commit_hash> -- xl_xf_xl_py.ipynb\n",
    "```\n",
    "\n",
    "That’ll overwrite the current file with the older one. Be sure to back up if you don’t want to lose changes.\n",
    "\n",
    "---\n",
    "\n",
    "Want me to wrap these into a reusable Bash function or a notebook cell that pulls diffs automatically? We could embed that into your dashboard flow or a utility module."
   ]
  },
  {
   "cell_type": "code",
   "execution_count": null,
   "id": "ab6d83f8-4b3a-44d8-8c2e-d004f628fece",
   "metadata": {},
   "outputs": [],
   "source": []
  }
 ],
 "metadata": {
  "kernelspec": {
   "display_name": "Python (scu)",
   "language": "python",
   "name": "scu"
  },
  "language_info": {
   "codemirror_mode": {
    "name": "ipython",
    "version": 3
   },
   "file_extension": ".py",
   "mimetype": "text/x-python",
   "name": "python",
   "nbconvert_exporter": "python",
   "pygments_lexer": "ipython3",
   "version": "3.11.13"
  }
 },
 "nbformat": 4,
 "nbformat_minor": 5
}
