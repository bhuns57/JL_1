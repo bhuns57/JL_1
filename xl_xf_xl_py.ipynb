{
 "cells": [
  {
   "cell_type": "markdown",
   "id": "cec6ed6c-bc03-42e8-ab75-9bce1e7ad7aa",
   "metadata": {
    "editable": true,
    "jp-MarkdownHeadingCollapsed": true,
    "slideshow": {
     "slide_type": ""
    },
    "tags": []
   },
   "source": [
    "## Structure of the XL >> XF >> XL calls"
   ]
  },
  {
   "cell_type": "markdown",
   "id": "fab6cda1",
   "metadata": {
    "jp-MarkdownHeadingCollapsed": true
   },
   "source": [
    "# Readme\n",
    "Ok to run"
   ]
  },
  {
   "cell_type": "markdown",
   "id": "2bdf362a",
   "metadata": {
    "jp-MarkdownHeadingCollapsed": true
   },
   "source": [
    " \n",
    "### xl_xf_xl_py.ipynb:  holds .py functions   \"\n",
    "### *\"_tbl\"*  is the defining phrase for .py functions sync *xl_tbl* to *df_tbl* \n",
    "#### ----- xl file name = ??_tbl       &      \n",
    "#### ----- df name      = ??_tbl\n",
    "### *script:* df_tbl = xlsync.load_df_with_formulas(\"xl_tbl.xlsx\", \"xl_tbl\")\n",
    "### *--- update using df_tbl ---*\n",
    "### *script:* xlsync.write_df_with_formulas(df_tbl, \"xl_tbl.xlsx\", \"xl_tbl\", \"xl_tbl\")\n",
    "####----------------------------------------------------------------------"
   ]
  },
  {
   "cell_type": "markdown",
   "id": "1aa8a9ec-4187-4d6f-b54c-d5ef6b925d81",
   "metadata": {
    "jp-MarkdownHeadingCollapsed": true
   },
   "source": [
    "## Description of  IO functions XL <> DF"
   ]
  },
  {
   "cell_type": "markdown",
   "id": "83463eb9-6551-4a7b-ac2e-df7e28785139",
   "metadata": {},
   "source": [
    "1.  READ FROM XL to make a \"df_tbl\" for processing\n",
    "[df_tbl = xlsync.load_df_with_formulas(\"xl_tbl.xlsx\", \"xl_tbl\")]"
   ]
  },
  {
   "cell_type": "markdown",
   "id": "d4fa949d-b193-495a-8df6-4cb009d06a3a",
   "metadata": {},
   "source": [
    "2. WRITE \"df_tbl\" TO \"xl_tbl\" uses the processed \"df_tbl\" to create an updated \"xl_tbl\" in xl\n",
    "[xlsync.write_df_with_formulas(df_tbl, \"xl_tbl.xlsx\", \"xl_tbl\", \"xl_tbl\")]"
   ]
  },
  {
   "cell_type": "markdown",
   "id": "f7e48284-77a0-4161-af9a-faa91c82b2e4",
   "metadata": {},
   "source": [
    "# Load a family name ie \"_tbl\" for name of the table being processed and module imports"
   ]
  },
  {
   "cell_type": "code",
   "execution_count": 1,
   "id": "b87c63b9",
   "metadata": {},
   "outputs": [],
   "source": [
    "#Enter variables & import the modules\n",
    "import F_my_utils as xlsync         # recal def functions placed in E_my_utils.py molule\n",
    "xl_tbl = \"xl_tbl\"   # set to name of xl table being processed\n",
    "df_tbl = \"df_tbl\"   # set to name of df table being processed"
   ]
  },
  {
   "cell_type": "markdown",
   "id": "26a24d2b",
   "metadata": {
    "jp-MarkdownHeadingCollapsed": true
   },
   "source": [
    "## Create any missing custom functions in \"my-utils.py module\""
   ]
  },
  {
   "cell_type": "markdown",
   "id": "c601ae4b-bc68-4357-bbd8-bfef66efad0b",
   "metadata": {
    "jp-MarkdownHeadingCollapsed": true
   },
   "source": [
    "1. If the required def functions have not been previously created\n",
    "2. Create the missing *def functions and place them in F_ my_utils.py pyton moduall* **scripts**"
   ]
  },
  {
   "cell_type": "markdown",
   "id": "581ba6f1",
   "metadata": {},
   "source": [
    "# Call functions to import from XL and convert to DF"
   ]
  },
  {
   "cell_type": "code",
   "execution_count": 2,
   "id": "11b9048f",
   "metadata": {},
   "outputs": [],
   "source": [
    "df_tbl = xlsync.load_df_with_formulas(xl_tbl + \".xlsx\", xl_tbl)"
   ]
  },
  {
   "cell_type": "code",
   "execution_count": 3,
   "id": "e7918eef-804f-4e2c-ae37-d3ebac29199d",
   "metadata": {},
   "outputs": [
    {
     "name": "stdout",
     "output_type": "stream",
     "text": [
      "Loaded and succcesfull: see df_tbl.iloc[0,0])  =   lifestyle\n"
     ]
    }
   ],
   "source": [
    "print(\"Loaded and succcesfull: see df_tbl.iloc[0,0])  =  \",df_tbl.iloc[0,0])"
   ]
  },
  {
   "cell_type": "markdown",
   "id": "a185ba38",
   "metadata": {},
   "source": [
    "# Make required \"df_tbl\" modifications"
   ]
  },
  {
   "cell_type": "code",
   "execution_count": 4,
   "id": "016fe95e",
   "metadata": {},
   "outputs": [],
   "source": [
    "#df_tbl.iloc[0,0] = \"bill\" # verify"
   ]
  },
  {
   "cell_type": "code",
   "execution_count": 5,
   "id": "60ba1acc",
   "metadata": {
    "scrolled": true
   },
   "outputs": [
    {
     "name": "stdout",
     "output_type": "stream",
     "text": [
      "dt_clms or grp                                            lifestyle\n",
      "dt_clms_id        ==xl_tbl[[#This Row],[Cls1]]&xl_tbl[[#This Row...\n",
      "lvl                            ==LEN(B2)-LEN(SUBSTITUTE(B2,\".\",\"\"))\n",
      "Cls1                                                             .1\n",
      "Cls2                                                             .0\n",
      "Cls3                                                           None\n",
      "Cls4                                                           None\n",
      "grp_data                                                        grp\n",
      "parent1_nm                                                    focus\n",
      "parent2_nm                                                        _\n",
      "parent3_nm                                                     None\n",
      "parent4_nm                                                     None\n",
      "Input_typ_freq                                                 None\n",
      "dt_clms_nm                   ==xl_tbl[[#This Row],[dt_clms or grp]]\n",
      "50573                                                          None\n",
      "50574                                                          None\n",
      "50575                                                          None\n",
      "0                                                              bill\n",
      "Name: 0, dtype: object\n"
     ]
    }
   ],
   "source": [
    "print(df_tbl.iloc[0]) # verif"
   ]
  },
  {
   "cell_type": "markdown",
   "id": "b500954d",
   "metadata": {
    "jp-MarkdownHeadingCollapsed": true
   },
   "source": [
    "# Call function to write [if confirmed] the updated df_tbl to xl_tbl in xl_tbl.xlxs"
   ]
  },
  {
   "cell_type": "code",
   "execution_count": null,
   "id": "84b90112-8b07-4d7f-bfd1-f46d13a90e42",
   "metadata": {
    "editable": true,
    "slideshow": {
     "slide_type": ""
    },
    "tags": []
   },
   "outputs": [],
   "source": [
    "response = input(\"Update 'xl_tbl.xlsx'? Type 'y' to confirm or press Enter to skip: \")\n",
    "if response.lower() == 'y':\n",
    "    xlsync.write_df_with_formulas(df_tbl, \"xl_tbl.xlsx\", \"xl_tbl\", \"xl_tbl\")\n",
    "    print(\"✓ Wrote df_tbl to 'xl_tbl.xlsx'\")\n",
    "else:\n",
    "    print(\"⏭️ Skipped update.\")\n"
   ]
  },
  {
   "cell_type": "code",
   "execution_count": null,
   "id": "7c5ee7e3-dbdd-497c-b876-5d9730dd7468",
   "metadata": {},
   "outputs": [],
   "source": []
  },
  {
   "cell_type": "code",
   "execution_count": null,
   "id": "4e726e8f-41fd-4cde-af95-21031db898ff",
   "metadata": {},
   "outputs": [],
   "source": []
  },
  {
   "cell_type": "code",
   "execution_count": null,
   "id": "d3618ce9-75d3-4b23-9469-9e44acae2099",
   "metadata": {},
   "outputs": [],
   "source": []
  }
 ],
 "metadata": {
  "kernelspec": {
   "display_name": "Python (scu)",
   "language": "python",
   "name": "scu"
  },
  "language_info": {
   "codemirror_mode": {
    "name": "ipython",
    "version": 3
   },
   "file_extension": ".py",
   "mimetype": "text/x-python",
   "name": "python",
   "nbconvert_exporter": "python",
   "pygments_lexer": "ipython3",
   "version": "3.11.13"
  }
 },
 "nbformat": 4,
 "nbformat_minor": 5
}
