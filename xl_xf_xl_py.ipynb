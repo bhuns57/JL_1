{
 "cells": [
  {
   "cell_type": "markdown",
   "id": "e24e28f5-d214-4170-b82b-d7382b216077",
   "metadata": {},
   "source": [
    "# Readme \n",
    "### xl_xf_xl_py.ipynb :  \"py file # xl_xf_xl_py.ipynb  holds py functions\"\n",
    "### *\"_tbl\"*  is varable for .py functions sync *xl_tbl* to *df_tbl* \n",
    "#### ----- xl file name = ??_tbl       &      \n",
    "#### ----- df name      = ??_tbl\n",
    "### *script:* df_tbl = xlsync.load_df_with_formulas(\"xl_tbl.xlsx\", \"xl_tbl\")\n",
    "### *--- update using df_tbl ---*\n",
    "### *script:* xlsync.write_df_with_formulas(df_tbl, \"xl_tbl.xlsx\", \"xl_tbl\", \"xl_tbl\")"
   ]
  },
  {
   "cell_type": "markdown",
   "id": "fce0bbbf-a3d0-496c-b0e7-33895a362c3e",
   "metadata": {},
   "source": [
    "# Import functions and load \"_tbl\" prefix"
   ]
  },
  {
   "cell_type": "code",
   "execution_count": 1,
   "id": "b317633c-23ad-47dd-901c-c931cb1984e0",
   "metadata": {},
   "outputs": [],
   "source": [
    "import xl_formula_sync as xlsync\n",
    "xl_tbl = \"xl_tbl\"   # set to name of xl table being processed\n",
    "df_tbl = \"df_tbl\"   # set to name of df table being processed"
   ]
  },
  {
   "cell_type": "markdown",
   "id": "b2e6806e-1c95-4d34-8dfe-3175529fe4dd",
   "metadata": {
    "jupyter": {
     "source_hidden": true
    }
   },
   "source": [
    "# .py function call **scripts**\n",
    "### READ FROM XL\n",
    "#### df_tbl = xlsync.load_df_with_formulas(\"xl_tbl.xlsx\", \"xl_tbl\")\n",
    "### WRITE DF_TBL TO XL_TBL\n",
    "#### xlsync.write_df_with_formulas(df_tbl, \"xl_tbl.xlsx\", \"xl_tbl\", \"xl_tbl\")"
   ]
  },
  {
   "cell_type": "markdown",
   "id": "b02bd8ac-76ee-44d3-b82a-9ec485e62e30",
   "metadata": {},
   "source": [
    "# Call finction to execute proceases"
   ]
  },
  {
   "cell_type": "code",
   "execution_count": 38,
   "id": "2f5069b8-fa69-4a60-b4a7-b2b75731cd0b",
   "metadata": {},
   "outputs": [],
   "source": [
    "df_tbl = xlsync.load_df_with_formulas(xl_tbl + \".xlsx\", xl_tbl)"
   ]
  },
  {
   "cell_type": "markdown",
   "id": "58e6edce-d27c-4392-8e1d-683536d45abd",
   "metadata": {},
   "source": [
    "# Modify df_tbl"
   ]
  },
  {
   "cell_type": "code",
   "execution_count": 63,
   "id": "81298c0c-ba7b-47b4-ac7d-821aa4223ee2",
   "metadata": {},
   "outputs": [],
   "source": [
    "#df_tbl.iloc[0,0] = \"bill\" # verify"
   ]
  },
  {
   "cell_type": "code",
   "execution_count": 62,
   "id": "e49332a2-6d96-415d-b310-1fa122e5a653",
   "metadata": {
    "scrolled": true
   },
   "outputs": [],
   "source": [
    "#print(df_tbl.iloc[0]) # verif"
   ]
  },
  {
   "cell_type": "markdown",
   "id": "41a8c7bb-384a-4aa6-88bd-2f263bd2d0c1",
   "metadata": {},
   "source": [
    "# Call function to write the update to xl_tbl in xl_tbl.xlxs"
   ]
  },
  {
   "cell_type": "code",
   "execution_count": 61,
   "id": "8b0b3028-a527-4c7b-b722-83def2655652",
   "metadata": {},
   "outputs": [],
   "source": [
    "xlsync.write_df_with_formulas(df_tbl, \"xl_tbl.xlsx\", \"xl_tbl\", \"xl_tbl\")"
   ]
  },
  {
   "cell_type": "code",
   "execution_count": null,
   "id": "2bc60886-e15d-422f-85ff-3840ea2d5426",
   "metadata": {},
   "outputs": [],
   "source": []
  },
  {
   "cell_type": "code",
   "execution_count": null,
   "id": "d98a172d-8839-40b9-8b09-a7210035b0f6",
   "metadata": {},
   "outputs": [],
   "source": []
  }
 ],
 "metadata": {
  "kernelspec": {
   "display_name": "Python (scu)",
   "language": "python",
   "name": "scu"
  },
  "language_info": {
   "codemirror_mode": {
    "name": "ipython",
    "version": 3
   },
   "file_extension": ".py",
   "mimetype": "text/x-python",
   "name": "python",
   "nbconvert_exporter": "python",
   "pygments_lexer": "ipython3",
   "version": "3.11.13"
  }
 },
 "nbformat": 4,
 "nbformat_minor": 5
}
