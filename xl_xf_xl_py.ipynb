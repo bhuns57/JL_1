{
 "cells": [
  {
   "cell_type": "markdown",
   "id": "d151c00a-53ab-4df4-a214-0a62c9d3cd1e",
   "metadata": {},
   "source": [
    "# Use this for xl with formulas"
   ]
  },
  {
   "cell_type": "markdown",
   "id": "cec6ed6c-bc03-42e8-ab75-9bce1e7ad7aa",
   "metadata": {
    "editable": true,
    "slideshow": {
     "slide_type": ""
    },
    "tags": []
   },
   "source": [
    "## Structure of the XL >> XF >> XL calls"
   ]
  },
  {
   "cell_type": "markdown",
   "id": "fab6cda1",
   "metadata": {
    "jp-MarkdownHeadingCollapsed": true
   },
   "source": [
    "# Readme\n",
    "***Info about worksheet***"
   ]
  },
  {
   "cell_type": "markdown",
   "id": "2bdf362a",
   "metadata": {},
   "source": [
    " \n",
    "### xl_xf_xl_py.ipynb:  holds .py functions   \"\n",
    "### *\"_tbl\"*  is the defining phrase for .py functions sync *xl_tbl* to *df_tbl* \n",
    "#### ----- xl file name = ??_tbl       &      \n",
    "#### ----- df name      = ??_tbl\n",
    "### *script:* df_tbl = xlsync.load_df_with_formulas(\"xl_tbl.xlsx\", \"xl_tbl\")\n",
    "### *--- update using df_tbl ---*\n",
    "### *script:* xlsync.write_df_with_formulas(df_tbl, \"xl_tbl.xlsx\", \"xl_tbl\", \"xl_tbl\")\n",
    "####----------------------------------------------------------------------"
   ]
  },
  {
   "cell_type": "markdown",
   "id": "1aa8a9ec-4187-4d6f-b54c-d5ef6b925d81",
   "metadata": {},
   "source": [
    "### Description of  IO functions XL <> DF"
   ]
  },
  {
   "cell_type": "markdown",
   "id": "83463eb9-6551-4a7b-ac2e-df7e28785139",
   "metadata": {},
   "source": [
    "1.  READ FROM XL to make a \"df_tbl\" for processing\n",
    "[df_tbl = xlsync.load_df_with_formulas(\"xl_tbl.xlsx\", \"xl_tbl\")]"
   ]
  },
  {
   "cell_type": "markdown",
   "id": "d4fa949d-b193-495a-8df6-4cb009d06a3a",
   "metadata": {},
   "source": [
    "2. WRITE \"df_tbl\" TO \"xl_tbl\" uses the processed \"df_tbl\" to create an updated \"xl_tbl\" in xl\n",
    "[xlsync.write_df_with_formulas(df_tbl, \"xl_tbl.xlsx\", \"xl_tbl\", \"xl_tbl\")]"
   ]
  },
  {
   "cell_type": "markdown",
   "id": "26a24d2b",
   "metadata": {},
   "source": [
    "## Create any missing custom functions in \"F_my-utils.py module\" [\"this is for a new custom function that is required\"]"
   ]
  },
  {
   "cell_type": "markdown",
   "id": "c601ae4b-bc68-4357-bbd8-bfef66efad0b",
   "metadata": {
    "jp-MarkdownHeadingCollapsed": true
   },
   "source": [
    "1. If the required def functions have not been previously created\n",
    "2. Create the missing *def functions and place them in F_ my_utils.py pyton moduall* **scripts**"
   ]
  },
  {
   "cell_type": "markdown",
   "id": "f7e48284-77a0-4161-af9a-faa91c82b2e4",
   "metadata": {
    "jp-MarkdownHeadingCollapsed": true
   },
   "source": [
    "# Load:\n",
    "1. ***module imports***\n",
    "2. ***dt_nm: ie name of target xl_table***"
   ]
  },
  {
   "cell_type": "code",
   "execution_count": 3,
   "id": "b87c63b9",
   "metadata": {},
   "outputs": [
    {
     "name": "stdout",
     "output_type": "stream",
     "text": [
      "xl_clmns_log.xlsx\n",
      "xl_clmns_log\n"
     ]
    }
   ],
   "source": [
    "#Enter variables & import the modules\n",
    "import F_my_utils as xlsync         # recal def functions placed in E_my_utils.py molule\n",
    "import pandas as pd\n",
    "dt_nm = \"clmns_log\"\n",
    "#dt_nm = \"tbl\"\n",
    "xl_tbl =\"xl_\" + dt_nm  # xl table being processed\n",
    "#df_tbl = \"df\" + dt_nm  # df table being process\n",
    "print(xl_tbl + \".xlsx\")\n",
    "print(xl_tbl)"
   ]
  },
  {
   "cell_type": "code",
   "execution_count": 7,
   "id": "9f782668-8a78-4859-9fb5-16f6500cd693",
   "metadata": {},
   "outputs": [
    {
     "name": "stdout",
     "output_type": "stream",
     "text": [
      "     date_value  mrn=1  6. Weight  7. TBW (Total Body Water)   ICW   ECW  \\\n",
      "0         45380      1      259.3                      133.2  79.6  53.6   \n",
      "1         45381      1      257.4                      131.4  78.7  52.7   \n",
      "2         45382      1      256.4                      132.3  79.4  52.9   \n",
      "3         45383      1      256.6                      129.4  77.8  51.6   \n",
      "4         45384      1      257.9                      132.5  79.6  52.9   \n",
      "..          ...    ...        ...                        ...   ...   ...   \n",
      "462       45854      1      262.2                      132.7  78.3  54.5   \n",
      "463       45855      1      260.0                      131.6  77.8  53.8   \n",
      "464       45856      1      260.7                      129.6  76.7  52.9   \n",
      "465       45857      1      260.7                      133.6  79.1  54.5   \n",
      "466       45858      1      262.0                      132.5  78.3  54.2   \n",
      "\n",
      "     10. DLM (Dry Lean Mass)   BFM  12. LBM (Lean Body Mass)  \\\n",
      "0                       47.4  78.8                     180.6   \n",
      "1                       47.0  79.1                     178.4   \n",
      "2                       47.4  76.7                     179.7   \n",
      "3                       46.5  80.7                     175.9   \n",
      "4                       47.4  78.0                     179.9   \n",
      "..                       ...   ...                       ...   \n",
      "462                     46.7  82.7                     179.5   \n",
      "463                     46.3  82.1                     177.9   \n",
      "464                     46.1  85.0                     175.7   \n",
      "465                     47.2  79.9                     180.8   \n",
      "466                     46.5  83.0                     179.0   \n",
      "\n",
      "     13. SMM (Skeletal Muscle Mass)  15. PBF (Percent Body Fat)   42. ECW/TBW  \\\n",
      "0                              99.4                        30.3         0.402   \n",
      "1                              98.3                        30.7         0.401   \n",
      "2                              99.2                        29.9         0.400   \n",
      "3                              97.2                        31.4         0.399   \n",
      "4                              99.2                        30.2         0.400   \n",
      "..                              ...                         ...           ...   \n",
      "462                            97.7                        31.6         0.410   \n",
      "463                            97.0                        31.6         0.409   \n",
      "464                            95.7                        32.6         0.408   \n",
      "465                            99.0                        30.6         0.407   \n",
      "466                            97.7                        31.6         0.409   \n",
      "\n",
      "     45. ECW/TBW of Trunk  61. BMR (Basal Metabolic Rate)  \\\n",
      "0                   0.402                            2140   \n",
      "1                   0.400                            2117   \n",
      "2                   0.400                            2130   \n",
      "3                   0.399                            2095   \n",
      "4                   0.400                            2133   \n",
      "..                    ...                             ...   \n",
      "462                 0.409                            2127   \n",
      "463                 0.408                            2113   \n",
      "464                 0.407                            2091   \n",
      "465                 0.407                            2142   \n",
      "466                 0.408                            2125   \n",
      "\n",
      "     63. VFA (Visceral Fat Area)  65. TBW/LBM  113. 50kHz-TR Phase Angle  \\\n",
      "0                          176.5         73.3                        6.7   \n",
      "1                          181.3         73.8                        6.2   \n",
      "2                          175.2         73.8                        6.4   \n",
      "3                          187.0         73.5                        6.0   \n",
      "4                          180.0         73.8                        6.2   \n",
      "..                           ...          ...                        ...   \n",
      "462                        185.0         73.7                        4.8   \n",
      "463                        184.7         73.7                        5.4   \n",
      "464                        192.5         73.5                        5.2   \n",
      "465                        181.6         73.2                        6.7   \n",
      "466                        183.5         73.4                        5.6   \n",
      "\n",
      "     115. 50kHz-LL Phase Angle  \n",
      "0                          3.6  \n",
      "1                          3.7  \n",
      "2                          3.7  \n",
      "3                          3.8  \n",
      "4                          3.7  \n",
      "..                         ...  \n",
      "462                        3.2  \n",
      "463                        3.2  \n",
      "464                        3.2  \n",
      "465                        3.1  \n",
      "466                        3.2  \n",
      "\n",
      "[467 rows x 18 columns]\n"
     ]
    }
   ],
   "source": [
    "df = pd.read_excel('xl_clmns_log.xlsx', converters={'G': str})\n",
    "print(df)"
   ]
  },
  {
   "cell_type": "markdown",
   "id": "581ba6f1",
   "metadata": {},
   "source": [
    "# Call functions to import from XL and convert to DF"
   ]
  },
  {
   "cell_type": "code",
   "execution_count": 3,
   "id": "e7918eef-804f-4e2c-ae37-d3ebac29199d",
   "metadata": {},
   "outputs": [
    {
     "name": "stdout",
     "output_type": "stream",
     "text": [
      "Loaded and succcesfull: see df_tbl.iloc[0,0])  =   45380\n"
     ]
    }
   ],
   "source": [
    "print(\"Loaded and succcesfull: see df_tbl.iloc[0,0])  =  \",df_tbl.iloc[0,0])"
   ]
  },
  {
   "cell_type": "markdown",
   "id": "a185ba38",
   "metadata": {},
   "source": [
    "# Make required \"df_tbl\" modifications"
   ]
  },
  {
   "cell_type": "code",
   "execution_count": 4,
   "id": "016fe95e",
   "metadata": {},
   "outputs": [],
   "source": [
    "#df_tbl.iloc[0,0] = \"bill\" # verify"
   ]
  },
  {
   "cell_type": "code",
   "execution_count": 5,
   "id": "60ba1acc",
   "metadata": {
    "scrolled": true
   },
   "outputs": [
    {
     "name": "stdout",
     "output_type": "stream",
     "text": [
      "date_value                        45380.000\n",
      "mrn=1                                 1.000\n",
      "6. Weight                           259.300\n",
      "7. TBW (Total Body Water)           133.200\n",
      "ICW                                  79.600\n",
      "ECW                                  53.600\n",
      "10. DLM (Dry Lean Mass)              47.400\n",
      "BFM                                  78.800\n",
      "12. LBM (Lean Body Mass)            180.600\n",
      "13. SMM (Skeletal Muscle Mass)       99.400\n",
      "15. PBF (Percent Body Fat)           30.300\n",
      " 42. ECW/TBW                          0.402\n",
      "45. ECW/TBW of Trunk                  0.402\n",
      "61. BMR (Basal Metabolic Rate)     2140.000\n",
      "63. VFA (Visceral Fat Area)         176.500\n",
      "65. TBW/LBM                          73.300\n",
      "113. 50kHz-TR Phase Angle             6.700\n",
      "115. 50kHz-LL Phase Angle             3.600\n",
      "Name: 0, dtype: float64\n"
     ]
    }
   ],
   "source": [
    "print(df_tbl.iloc[0]) # verif"
   ]
  },
  {
   "cell_type": "markdown",
   "id": "b500954d",
   "metadata": {},
   "source": [
    "# Call function to write [if confirmed] the updated df_tbl to xl_tbl in xl_tbl.xlxs"
   ]
  },
  {
   "cell_type": "code",
   "execution_count": null,
   "id": "84b90112-8b07-4d7f-bfd1-f46d13a90e42",
   "metadata": {
    "editable": true,
    "slideshow": {
     "slide_type": ""
    },
    "tags": []
   },
   "outputs": [],
   "source": [
    "response = input(\"Update 'xl_tbl.xlsx'? Type 'y' to confirm or press Enter to skip: \")\n",
    "if response.lower() == 'y':\n",
    "    xlsync.write_df_with_formulas(df_tbl, \"xl_tbl.xlsx\", \"xl_tbl\", \"xl_tbl\")\n",
    "    print(\"✓ Wrote df_tbl to 'xl_tbl.xlsx'\")\n",
    "else:\n",
    "    print(\"⏭️ Skipped update.\")\n"
   ]
  },
  {
   "cell_type": "code",
   "execution_count": null,
   "id": "cc79f200-d924-43fb-b54b-4fa943bd8c6c",
   "metadata": {},
   "outputs": [],
   "source": []
  }
 ],
 "metadata": {
  "kernelspec": {
   "display_name": "Python (scu)",
   "language": "python",
   "name": "scu"
  },
  "language_info": {
   "codemirror_mode": {
    "name": "ipython",
    "version": 3
   },
   "file_extension": ".py",
   "mimetype": "text/x-python",
   "name": "python",
   "nbconvert_exporter": "python",
   "pygments_lexer": "ipython3",
   "version": "3.11.13"
  }
 },
 "nbformat": 4,
 "nbformat_minor": 5
}
