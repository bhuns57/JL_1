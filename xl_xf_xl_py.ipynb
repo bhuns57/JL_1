{
 "cells": [
  {
   "cell_type": "markdown",
   "id": "1f5fd02b-8628-4056-a5b5-c83266eb988b",
   "metadata": {},
   "source": [
    "# Readme"
   ]
  },
  {
   "cell_type": "markdown",
   "id": "9eba7fba-23f1-4a22-a7ba-8afd652c0455",
   "metadata": {},
   "source": [
    " \n",
    "### xl_xf_xl_py.ipynb:  holds .py functions   \"\n",
    "### *\"_tbl\"*  is the defining phrase for .py functions sync *xl_tbl* to *df_tbl* \n",
    "#### ----- xl file name = ??_tbl       &      \n",
    "#### ----- df name      = ??_tbl\n",
    "### *script:* df_tbl = xlsync.load_df_with_formulas(\"xl_tbl.xlsx\", \"xl_tbl\")\n",
    "### *--- update using df_tbl ---*\n",
    "### *script:* xlsync.write_df_with_formulas(df_tbl, \"xl_tbl.xlsx\", \"xl_tbl\", \"xl_tbl\")"
   ]
  },
  {
   "cell_type": "markdown",
   "id": "fce0bbbf-a3d0-496c-b0e7-33895a362c3e",
   "metadata": {
    "jp-MarkdownHeadingCollapsed": true
   },
   "source": [
    "# Import modules and load \"_tbl\" prefix"
   ]
  },
  {
   "cell_type": "code",
   "execution_count": 1,
   "id": "b317633c-23ad-47dd-901c-c931cb1984e0",
   "metadata": {},
   "outputs": [],
   "source": [
    "import my_utils as xlsync         # recal def functions placed in my_utils.py molule\n",
    "xl_tbl = \"xl_tbl\"   # set to name of xl table being processed\n",
    "df_tbl = \"df_tbl\"   # set to name of df table being processed"
   ]
  },
  {
   "cell_type": "markdown",
   "id": "7d6ec10e-4c21-4783-82d8-a51120f478ef",
   "metadata": {
    "jp-MarkdownHeadingCollapsed": true
   },
   "source": [
    "# Create any missing custom functions in \"my-utils.py module\""
   ]
  },
  {
   "cell_type": "markdown",
   "id": "4b10342f-c25c-41ee-bf76-d05aa9ce41cf",
   "metadata": {},
   "source": [
    "## If the required def functions have not been previously created\n",
    "## Create the missing *def functions and place them in my_utils.py pyton moduall* **scripts**\n",
    "## The first *def function* :\n",
    "### READ FROM XL to make a \"df_tbl\" for processing\n",
    "#### df_tbl = xlsync.load_df_with_formulas(\"xl_tbl.xlsx\", \"xl_tbl\")\n",
    "## The 2nd *def function* :\n",
    "### WRITE \"df_tbl\" TO \"xl_tbl\" uses the processed \"df_tbl\" to create an updated \"xl_tbl\" in xl\n",
    "#### xlsync.write_df_with_formulas(df_tbl, \"xl_tbl.xlsx\", \"xl_tbl\", \"xl_tbl\")"
   ]
  },
  {
   "cell_type": "markdown",
   "id": "b02bd8ac-76ee-44d3-b82a-9ec485e62e30",
   "metadata": {},
   "source": [
    "# Call functions to execute the process"
   ]
  },
  {
   "cell_type": "code",
   "execution_count": 2,
   "id": "2f5069b8-fa69-4a60-b4a7-b2b75731cd0b",
   "metadata": {},
   "outputs": [],
   "source": [
    "df_tbl = xlsync.load_df_with_formulas(xl_tbl + \".xlsx\", xl_tbl)"
   ]
  },
  {
   "cell_type": "markdown",
   "id": "58e6edce-d27c-4392-8e1d-683536d45abd",
   "metadata": {
    "jp-MarkdownHeadingCollapsed": true
   },
   "source": [
    "# Make required \"df_tbl\" modifications"
   ]
  },
  {
   "cell_type": "code",
   "execution_count": 3,
   "id": "81298c0c-ba7b-47b4-ac7d-821aa4223ee2",
   "metadata": {},
   "outputs": [],
   "source": [
    "#df_tbl.iloc[0,0] = \"bill\" # verify"
   ]
  },
  {
   "cell_type": "code",
   "execution_count": 4,
   "id": "e49332a2-6d96-415d-b310-1fa122e5a653",
   "metadata": {
    "scrolled": true
   },
   "outputs": [],
   "source": [
    "#print(df_tbl.iloc[0]) # verif"
   ]
  },
  {
   "cell_type": "markdown",
   "id": "41a8c7bb-384a-4aa6-88bd-2f263bd2d0c1",
   "metadata": {},
   "source": [
    "# Call function to write the updated to xl_tbl in xl_tbl.xlxs"
   ]
  },
  {
   "cell_type": "code",
   "execution_count": 5,
   "id": "8b0b3028-a527-4c7b-b722-83def2655652",
   "metadata": {},
   "outputs": [
    {
     "name": "stdout",
     "output_type": "stream",
     "text": [
      "wrote df_tbl to xl_tbl\n"
     ]
    }
   ],
   "source": [
    "xlsync.write_df_with_formulas(df_tbl, \"xl_tbl.xlsx\", \"xl_tbl\", \"xl_tbl\")\n",
    "print(\"wrote df_tbl to xl_tbl\")"
   ]
  },
  {
   "cell_type": "code",
   "execution_count": null,
   "id": "ab6d83f8-4b3a-44d8-8c2e-d004f628fece",
   "metadata": {},
   "outputs": [],
   "source": []
  }
 ],
 "metadata": {
  "kernelspec": {
   "display_name": "Python (scu)",
   "language": "python",
   "name": "scu"
  },
  "language_info": {
   "codemirror_mode": {
    "name": "ipython",
    "version": 3
   },
   "file_extension": ".py",
   "mimetype": "text/x-python",
   "name": "python",
   "nbconvert_exporter": "python",
   "pygments_lexer": "ipython3",
   "version": "3.11.13"
  }
 },
 "nbformat": 4,
 "nbformat_minor": 5
}
