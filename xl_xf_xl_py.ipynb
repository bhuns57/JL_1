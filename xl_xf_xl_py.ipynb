{
 "cells": [
  {
   "cell_type": "markdown",
   "id": "fab6cda1",
   "metadata": {
    "jp-MarkdownHeadingCollapsed": true
   },
   "source": [
    "# Readme"
   ]
  },
  {
   "cell_type": "markdown",
   "id": "2bdf362a",
   "metadata": {},
   "source": [
    " \n",
    "### xl_xf_xl_py.ipynb:  holds .py functions   \"\n",
    "### *\"_tbl\"*  is the defining phrase for .py functions sync *xl_tbl* to *df_tbl* \n",
    "#### ----- xl file name = ??_tbl       &      \n",
    "#### ----- df name      = ??_tbl\n",
    "### *script:* df_tbl = xlsync.load_df_with_formulas(\"xl_tbl.xlsx\", \"xl_tbl\")\n",
    "### *--- update using df_tbl ---*\n",
    "### *script:* xlsync.write_df_with_formulas(df_tbl, \"xl_tbl.xlsx\", \"xl_tbl\", \"xl_tbl\")\n",
    "####----------------------------------------------------------------------"
   ]
  },
  {
   "cell_type": "markdown",
   "id": "3073a8b9",
   "metadata": {},
   "source": [
    "# Import modules and load \"_tbl\" prefix"
   ]
  },
  {
   "cell_type": "code",
   "execution_count": 1,
   "id": "b87c63b9",
   "metadata": {},
   "outputs": [],
   "source": [
    "import my_utils as xlsync         # recal def functions placed in my_utils.py molule\n",
    "xl_tbl = \"xl_tbl\"   # set to name of xl table being processed\n",
    "df_tbl = \"df_tbl\"   # set to name of df table being processed"
   ]
  },
  {
   "cell_type": "markdown",
   "id": "26a24d2b",
   "metadata": {},
   "source": [
    "# Create any missing custom functions in \"my-utils.py module\""
   ]
  },
  {
   "cell_type": "markdown",
   "id": "b254b9b0",
   "metadata": {
    "jp-MarkdownHeadingCollapsed": true
   },
   "source": [
    "## If the required def functions have not been previously created\n",
    "## Create the missing *def functions and place them in my_utils.py pyton moduall* **scripts**\n",
    "## The first *def function* :\n",
    "### READ FROM XL to make a \"df_tbl\" for processing\n",
    "#### df_tbl = xlsync.load_df_with_formulas(\"xl_tbl.xlsx\", \"xl_tbl\")\n",
    "## The 2nd *def function* :\n",
    "### WRITE \"df_tbl\" TO \"xl_tbl\" uses the processed \"df_tbl\" to create an updated \"xl_tbl\" in xl\n",
    "#### xlsync.write_df_with_formulas(df_tbl, \"xl_tbl.xlsx\", \"xl_tbl\", \"xl_tbl\")"
   ]
  },
  {
   "cell_type": "markdown",
   "id": "581ba6f1",
   "metadata": {},
   "source": [
    "# Call functions to execute the process"
   ]
  },
  {
   "cell_type": "code",
   "execution_count": 2,
   "id": "11b9048f",
   "metadata": {},
   "outputs": [],
   "source": [
    "df_tbl = xlsync.load_df_with_formulas(xl_tbl + \".xlsx\", xl_tbl)"
   ]
  },
  {
   "cell_type": "code",
   "execution_count": null,
   "id": "e7918eef-804f-4e2c-ae37-d3ebac29199d",
   "metadata": {},
   "outputs": [],
   "source": [
    "print()"
   ]
  },
  {
   "cell_type": "markdown",
   "id": "a185ba38",
   "metadata": {
    "jp-MarkdownHeadingCollapsed": true
   },
   "source": [
    "# Make required \"df_tbl\" modifications"
   ]
  },
  {
   "cell_type": "code",
   "execution_count": 3,
   "id": "016fe95e",
   "metadata": {},
   "outputs": [],
   "source": [
    "#df_tbl.iloc[0,0] = \"bill\" # verify"
   ]
  },
  {
   "cell_type": "code",
   "execution_count": 4,
   "id": "60ba1acc",
   "metadata": {
    "scrolled": true
   },
   "outputs": [],
   "source": [
    "#print(df_tbl.iloc[0]) # verif"
   ]
  },
  {
   "cell_type": "markdown",
   "id": "b500954d",
   "metadata": {},
   "source": [
    "# Call function to write the updated to xl_tbl in xl_tbl.xlxs"
   ]
  },
  {
   "cell_type": "code",
   "execution_count": 5,
   "id": "7c5898fa",
   "metadata": {},
   "outputs": [
    {
     "name": "stdout",
     "output_type": "stream",
     "text": [
      "wrote df_tbl to xl_tbl\n"
     ]
    }
   ],
   "source": [
    "xlsync.write_df_with_formulas(df_tbl, \"xl_tbl.xlsx\", \"xl_tbl\", \"xl_tbl\")\n",
    "print(\"wrote df_tbl to xl_tbl\")"
   ]
  },
  {
   "cell_type": "code",
   "execution_count": null,
   "id": "ed0a7544",
   "metadata": {},
   "outputs": [],
   "source": []
  }
 ],
 "metadata": {
  "kernelspec": {
   "display_name": "Python (scu)",
   "language": "python",
   "name": "scu"
  },
  "language_info": {
   "codemirror_mode": {
    "name": "ipython",
    "version": 3
   },
   "file_extension": ".py",
   "mimetype": "text/x-python",
   "name": "python",
   "nbconvert_exporter": "python",
   "pygments_lexer": "ipython3",
   "version": "3.11.13"
  }
 },
 "nbformat": 4,
 "nbformat_minor": 5
}
