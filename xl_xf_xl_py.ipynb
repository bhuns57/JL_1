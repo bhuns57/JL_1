{
 "cells": [
  {
   "cell_type": "code",
   "execution_count": 21,
   "id": "709f8229-4798-49d1-9d2e-7e8d279602f7",
   "metadata": {},
   "outputs": [
    {
     "name": "stdout",
     "output_type": "stream",
     "text": [
      "bill\n",
      "lifestyle\n"
     ]
    }
   ],
   "source": [
    "import xl_formula_sync as xlsync\n",
    "print(\"bill\")\n",
    "\n",
    "df_tbl = xlsync.load_df_with_formulas(\"xl_tbl.xlsx\", \"xl_tbl\")\n",
    "# Edit df_tbl in Jupyter...\n",
    "\n",
    "\n",
    "\n",
    "df_tbl.loc[0,\"dt_clms or grp\"] = \"lifestyle\"\n",
    "\n",
    "print(df_tbl.loc[0,\"dt_clms or grp\"])\n",
    "xlsync.write_df_with_formulas(df_tbl, \"xl_tbl.xlsx\", \"xl_tbl\", \"xl_tbl\")\n",
    "# lifestyle"
   ]
  },
  {
   "cell_type": "code",
   "execution_count": null,
   "id": "2e7c03bd-a7b3-46b8-9665-81ed7b434bc0",
   "metadata": {},
   "outputs": [],
   "source": []
  },
  {
   "cell_type": "code",
   "execution_count": null,
   "id": "b317633c-23ad-47dd-901c-c931cb1984e0",
   "metadata": {},
   "outputs": [],
   "source": []
  },
  {
   "cell_type": "code",
   "execution_count": null,
   "id": "2f5069b8-fa69-4a60-b4a7-b2b75731cd0b",
   "metadata": {},
   "outputs": [],
   "source": []
  },
  {
   "cell_type": "code",
   "execution_count": null,
   "id": "e49332a2-6d96-415d-b310-1fa122e5a653",
   "metadata": {},
   "outputs": [],
   "source": []
  },
  {
   "cell_type": "code",
   "execution_count": null,
   "id": "95d6c9a7-c03d-493d-bf07-d4418e14889b",
   "metadata": {},
   "outputs": [],
   "source": []
  },
  {
   "cell_type": "code",
   "execution_count": null,
   "id": "8b0b3028-a527-4c7b-b722-83def2655652",
   "metadata": {},
   "outputs": [],
   "source": []
  }
 ],
 "metadata": {
  "kernelspec": {
   "display_name": "Python (scu)",
   "language": "python",
   "name": "scu"
  },
  "language_info": {
   "codemirror_mode": {
    "name": "ipython",
    "version": 3
   },
   "file_extension": ".py",
   "mimetype": "text/x-python",
   "name": "python",
   "nbconvert_exporter": "python",
   "pygments_lexer": "ipython3",
   "version": "3.11.13"
  }
 },
 "nbformat": 4,
 "nbformat_minor": 5
}
